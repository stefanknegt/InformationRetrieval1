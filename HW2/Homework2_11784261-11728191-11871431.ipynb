{
 "cells": [
  {
   "cell_type": "markdown",
   "metadata": {},
   "source": [
    "# Information Retrieval 1#\n",
    "## Assignment 2: Retrieval models [100 points] ##"
   ]
  },
  {
   "cell_type": "markdown",
   "metadata": {},
   "source": [
    "In this assignment you will get familiar with basic and advanced information retrieval concepts. You will implement different information retrieval ranking models and evaluate their performance.\n",
    "\n",
    "We provide you with a Indri index. To query the index, you'll use a Python package ([pyndri](https://github.com/cvangysel/pyndri)) that allows easy access to the underlying document statistics.\n",
    "\n",
    "For evaluation you'll use the [TREC Eval](https://github.com/usnistgov/trec_eval) utility, provided by the National Institute of Standards and Technology of the United States. TREC Eval is the de facto standard way to compute Information Retrieval measures and is frequently referenced in scientific papers.\n",
    "\n",
    "This is a **groups-of-three assignment**, the deadline is **Wednesday, January 31st**. Code quality, informative comments and convincing analysis of the results will be considered when grading. Submission should be done through blackboard, questions can be asked on the course [Piazza](piazza.com/university_of_amsterdam/spring2018/52041inr6y/home).\n",
    "\n",
    "### Technicalities (must-read!) ###\n",
    "\n",
    "The assignment directory is organized as follows:\n",
    "   * `./assignment.ipynb` (this file): the description of the assignment.\n",
    "   * `./index/`: the index we prepared for you.\n",
    "   * `./ap_88_90/`: directory with ground-truth and evaluation sets:\n",
    "      * `qrel_test`: test query relevance collection (**test set**).\n",
    "      * `qrel_validation`: validation query relevance collection (**validation set**).\n",
    "      * `topics_title`: semicolon-separated file with query identifiers and terms.\n",
    "\n",
    "You will need the following software packages (tested with Python 3.5 inside [Anaconda](https://conda.io/docs/user-guide/install/index.html)):\n",
    "   * Python 3.5 and Jupyter\n",
    "   * Indri + Pyndri (Follow the installation instructions [here](https://github.com/nickvosk/pyndri/blob/master/README.md))\n",
    "   * gensim [link](https://radimrehurek.com/gensim/install.html)\n",
    "   * TREC Eval [link](https://github.com/usnistgov/trec_eval)"
   ]
  },
  {
   "cell_type": "markdown",
   "metadata": {},
   "source": [
    "### TREC Eval primer ###\n",
    "The TREC Eval utility can be downloaded and compiled as follows:\n",
    "\n",
    "    git clone https://github.com/usnistgov/trec_eval.git\n",
    "    cd trec_eval\n",
    "    make\n",
    "\n",
    "TREC Eval computes evaluation scores given two files: ground-truth information regarding relevant documents, named *query relevance* or *qrel*, and a ranking of documents for a set of queries, referred to as a *run*. The *qrel* will be supplied by us and should not be changed. For every retrieval model (or combinations thereof) you will generate a run of the top-1000 documents for every query. The format of the *run* file is as follows:\n",
    "\n",
    "    $query_identifier Q0 $document_identifier $rank_of_document_for_query $query_document_similarity $run_identifier\n",
    "    \n",
    "where\n",
    "   * `$query_identifier` is the unique identifier corresponding to a query (usually this follows a sequential numbering).\n",
    "   * `Q0` is a legacy field that you can ignore.\n",
    "   * `$document_identifier` corresponds to the unique identifier of a document (e.g., APXXXXXXX where AP denotes the collection and the Xs correspond to a unique numerical identifier).\n",
    "   * `$rank_of_document_for_query` denotes the rank of the document for the particular query. This field is ignored by TREC Eval and is only maintained for legacy support. The ranks are computed by TREC Eval itself using the `$query_document_similarity` field (see next). However, it remains good practice to correctly compute this field.\n",
    "   * `$query_document_similarity` is a score indicating the similarity between query and document where a higher score denotes greater similarity.\n",
    "   * `$run_identifier` is an identifier of the run. This field is for your own convenience and has no purpose beyond bookkeeping.\n",
    "   \n",
    "For example, say we have two queries: `Q1` and `Q2` and we rank three documents (`DOC1`, `DOC2`, `DOC3`). For query `Q1`, we find the following similarity scores `score(Q1, DOC1) = 1.0`, `score(Q1, DOC2) = 0.5`, `score(Q1, DOC3) = 0.75`; and for `Q2`: `score(Q2, DOC1) = -0.1`, `score(Q2, DOC2) = 1.25`, `score(Q1, DOC3) = 0.0`. We can generate run using the following snippet:"
   ]
  },
  {
   "cell_type": "code",
   "execution_count": 1,
   "metadata": {
    "scrolled": false
   },
   "outputs": [
    {
     "name": "stdout",
     "output_type": "stream",
     "text": [
      "Q1 Q0 DOC1 1 1.0 example\n",
      "Q1 Q0 DOC3 2 0.75 example\n",
      "Q1 Q0 DOC2 3 0.5 example\n",
      "Q2 Q0 DOC2 1 1.25 example\n",
      "Q2 Q0 DOC3 2 0.0 example\n",
      "Q2 Q0 DOC1 3 -0.1 example\n"
     ]
    }
   ],
   "source": [
    "import logging\n",
    "import sys\n",
    "import os\n",
    "\n",
    "def write_run(model_name, data, out_f,\n",
    "              max_objects_per_query=sys.maxsize,\n",
    "              skip_sorting=False):\n",
    "    \"\"\"\n",
    "    Write a run to an output file.\n",
    "    Parameters:\n",
    "        - model_name: identifier of run.\n",
    "        - data: dictionary mapping topic_id to object_assesments;\n",
    "            object_assesments is an iterable (list or tuple) of\n",
    "            (relevance, object_id) pairs.\n",
    "            The object_assesments iterable is sorted by decreasing order.\n",
    "        - out_f: output file stream.\n",
    "        - max_objects_per_query: cut-off for number of objects per query.\n",
    "    \"\"\"\n",
    "    for subject_id, object_assesments in data.items():\n",
    "        if not object_assesments:\n",
    "            logging.warning('Received empty ranking for %s; ignoring.',\n",
    "                            subject_id)\n",
    "\n",
    "            continue\n",
    "\n",
    "        #Probe types, to make sure everything goes alright.\n",
    "        assert isinstance(object_assesments[0][0], float) or \\\n",
    "             isinstance(object_assesments[0][0], np.float32)\n",
    "        assert isinstance(object_assesments[0][1], str) or \\\n",
    "            isinstance(object_assesments[0][1], bytes)\n",
    "\n",
    "        if not skip_sorting:\n",
    "            object_assesments = sorted(object_assesments, reverse=True)\n",
    "\n",
    "        if max_objects_per_query < sys.maxsize:\n",
    "            object_assesments = object_assesments[:max_objects_per_query]\n",
    "\n",
    "        if isinstance(subject_id, bytes):\n",
    "            subject_id = subject_id.decode('utf8')\n",
    "\n",
    "        for rank, (relevance, object_id) in enumerate(object_assesments):\n",
    "            if isinstance(object_id, bytes):\n",
    "                object_id = object_id.decode('utf8')\n",
    "\n",
    "            out_f.write(\n",
    "                '{subject} Q0 {object} {rank} {relevance} '\n",
    "                '{model_name}\\n'.format(\n",
    "                    subject=subject_id,\n",
    "                    object=object_id,\n",
    "                    rank=rank + 1,\n",
    "                    relevance=relevance,\n",
    "                    model_name=model_name))\n",
    "            \n",
    "# The following writes the run to standard output.\n",
    "# In your code, you should write the runs to local\n",
    "# storage in order to pass them to trec_eval.\n",
    "write_run(\n",
    "    model_name='example',\n",
    "    data={\n",
    "        'Q1': ((1.0, 'DOC1'), (0.5, 'DOC2'), (0.75, 'DOC3')),\n",
    "        'Q2': ((-0.1, 'DOC1'), (1.25, 'DOC2'), (0.0, 'DOC3')),\n",
    "    },\n",
    "    out_f=sys.stdout,\n",
    "    max_objects_per_query=1000)"
   ]
  },
  {
   "cell_type": "markdown",
   "metadata": {},
   "source": [
    "Now, imagine that we know that `DOC1` is relevant and `DOC3` is non-relevant for `Q1`. In addition, for `Q2` we only know of the relevance of `DOC3`. The query relevance file looks like:\n",
    "\n",
    "    Q1 0 DOC1 1\n",
    "    Q1 0 DOC3 0\n",
    "    Q2 0 DOC3 1\n",
    "    \n",
    "We store the run and qrel in files `example.run` and `example.qrel` respectively on disk. We can now use TREC Eval to compute evaluation measures. In this example, we're only interested in Mean Average Precision and we'll only show this below for brevity. However, TREC Eval outputs much more information such as NDCG, recall, precision, etc.\n",
    "\n",
    "    $ trec_eval -m all_trec -q example.qrel example.run | grep -E \"^map\\s\"\n",
    "    > map                   \tQ1\t1.0000\n",
    "    > map                   \tQ2\t0.5000\n",
    "    > map                   \tall\t0.7500\n",
    "    \n",
    "Now that we've discussed the output format of rankings and how you can compute evaluation measures from these rankings, we'll now proceed with an overview of the indexing framework you'll use."
   ]
  },
  {
   "cell_type": "markdown",
   "metadata": {},
   "source": [
    "### Pyndri primer ###\n",
    "For this assignment you will use [Pyndri](https://github.com/cvangysel/pyndri) [[1](https://arxiv.org/abs/1701.00749)], a python interface for [Indri](https://www.lemurproject.org/indri.php). We have indexed the document collection and you can query the index using Pyndri. We will start by giving you some examples of what Pyndri can do:\n",
    "\n",
    "First we read the document collection index with Pyndri:"
   ]
  },
  {
   "cell_type": "code",
   "execution_count": 2,
   "metadata": {
    "collapsed": true,
    "scrolled": true
   },
   "outputs": [],
   "source": [
    "import pyndri\n",
    "\n",
    "index = pyndri.Index('index/')"
   ]
  },
  {
   "cell_type": "markdown",
   "metadata": {},
   "source": [
    "The loaded index can be used to access a collection of documents in an easy manner. We'll give you some examples to get some idea of what it can do, it is up to you to figure out how to use it for the remainder of the assignment.\n",
    "\n",
    "First let's look at the number of documents, since Pyndri indexes the documents using incremental identifiers we can simply take the lowest index and the maximum document and consider the difference:"
   ]
  },
  {
   "cell_type": "code",
   "execution_count": 3,
   "metadata": {},
   "outputs": [
    {
     "name": "stdout",
     "output_type": "stream",
     "text": [
      "There are 164597 documents in this collection.\n"
     ]
    }
   ],
   "source": [
    "print(\"There are %d documents in this collection.\" % (index.maximum_document() - index.document_base()))"
   ]
  },
  {
   "cell_type": "markdown",
   "metadata": {},
   "source": [
    "Let's take the first document out of the collection and take a look at it:"
   ]
  },
  {
   "cell_type": "code",
   "execution_count": 4,
   "metadata": {
    "scrolled": true
   },
   "outputs": [
    {
     "name": "stdout",
     "output_type": "stream",
     "text": [
      "('AP890425-0001', (1360, 192, 363, 0, 880, 0, 200, 0, 894, 412, 92160, 3, 192, 0, 363, 34, 1441, 0, 174134, 0, 200, 0, 894, 412, 2652, 0, 810, 107, 49, 4903, 420, 0, 1, 48, 35, 489, 0, 35, 687, 192, 243, 0, 249311, 1877, 0, 1651, 1174, 0, 2701, 117, 412, 0, 810, 391, 245233, 1225, 5838, 16, 0, 233156, 3496, 0, 393, 17, 0, 2435, 4819, 930, 0, 0, 200, 0, 894, 0, 22, 398, 145, 0, 3, 271, 115, 0, 1176, 2777, 292, 0, 725, 192, 0, 0, 50046, 0, 1901, 1130, 0, 192, 0, 408, 0, 243779, 0, 0, 553, 192, 0, 363, 0, 3747, 0, 0, 0, 0, 1176, 0, 1239, 0, 0, 1115, 17, 0, 0, 585, 192, 1963, 0, 0, 412, 54356, 0, 773, 0, 0, 0, 192, 0, 0, 1130, 0, 363, 0, 545, 192, 0, 1174, 1901, 1130, 0, 4, 398, 145, 39, 0, 577, 0, 355, 0, 491, 0, 6025, 0, 0, 193156, 88, 34, 437, 0, 0, 1852, 0, 828, 0, 1588, 0, 0, 0, 2615, 0, 0, 107, 49, 420, 0, 0, 190, 7, 714, 2701, 0, 237, 192, 157, 0, 412, 34, 437, 0, 0, 200, 6025, 26, 0, 0, 0, 0, 363, 0, 22, 398, 145, 0, 200, 638, 126222, 6018, 0, 880, 0, 0, 161, 0, 0, 319, 894, 2701, 0, 0, 0, 301, 1200, 0, 363, 251, 430, 0, 207, 0, 76143, 1773, 0, 243779, 0, 0, 72030, 0, 55, 4903, 420, 0, 2701, 1496, 420, 0, 25480, 0, 420, 0, 0, 200, 0, 392, 2949, 0, 1738, 0, 61, 0, 71, 79, 0, 200, 903, 0, 188, 53, 6, 0, 476, 2, 0, 2028, 97, 334, 0, 0, 200, 178, 0, 0, 107, 49, 0, 214, 0, 0, 0, 114, 3866, 1505, 195, 79893, 574, 0, 198, 2160, 0, 192, 0, 420, 0, 384, 0, 2701, 0, 114, 6025, 1549, 74627, 0, 238, 0, 0, 0, 3729, 0, 192, 0, 79893, 0, 0, 729, 3141, 129, 0, 192, 196764, 39, 0, 0, 714, 63, 0, 55, 420, 3356, 0, 0, 117, 412, 0, 0, 79758, 0, 1901, 1130, 4067, 2133, 0, 0, 875, 72, 0, 0, 336, 2789, 0, 0, 25, 920, 121, 104, 0, 3162, 0, 0, 420, 0, 2178, 0, 0, 386, 192545, 159306, 0, 0, 0, 1914, 0, 200, 0, 1794, 0, 2654, 0, 0, 25480, 420, 0, 2795, 0, 0, 229690, 0, 32559, 0, 0, 392, 253919, 0, 0, 0, 0, 379, 0, 0, 114, 0, 553, 10, 0, 1128, 0, 23610, 248, 151, 0, 418, 0, 651, 0, 36, 0, 0, 645, 0, 0, 513, 0, 0, 25480, 420, 34, 0, 0, 0, 15, 0, 3348, 0, 3496, 0, 35, 687, 0, 1, 48, 0, 0, 2803, 0, 0, 714, 1274, 0, 114, 62, 1006, 70268, 1200, 2357, 0, 497, 0, 497, 125, 0, 913, 4647, 3985, 0, 0, 3370, 245233, 0, 0, 687, 0, 4, 1288, 0, 0, 0, 0, 715, 0, 0, 687, 583, 0, 0, 1627, 0, 0, 11, 357, 1359, 0, 849, 0, 0, 1518, 462, 245233, 0, 0, 0, 0, 0, 0, 171, 70268, 0))\n"
     ]
    }
   ],
   "source": [
    "example_document = index.document(index.document_base())\n",
    "print(example_document)"
   ]
  },
  {
   "cell_type": "markdown",
   "metadata": {},
   "source": [
    "Here we see a document consists of two things, a string representing the external document identifier and an integer list representing the identifiers of words that make up the document. Pyndri uses integer representations for words or terms, thus a token_id is an integer that represents a word whereas the token is the actual text of the word/term. Every id has a unique token and vice versa with the exception of stop words: words so common that there are uninformative, all of these receive the zero id.\n",
    "\n",
    "To see what some ids and their matching tokens we take a look at the dictionary of the index:"
   ]
  },
  {
   "cell_type": "code",
   "execution_count": 5,
   "metadata": {},
   "outputs": [
    {
     "name": "stdout",
     "output_type": "stream",
     "text": [
      "[(1, 'new'), (2, 'percent'), (3, 'two'), (4, '1'), (5, 'people'), (6, 'million'), (7, '000'), (8, 'government'), (9, 'president'), (10, 'years'), (11, 'state'), (12, '2'), (13, 'states'), (14, 'three'), (15, 'time')]\n"
     ]
    }
   ],
   "source": [
    "token2id, id2token, _ = index.get_dictionary()\n",
    "print(list(id2token.items())[:15])"
   ]
  },
  {
   "cell_type": "markdown",
   "metadata": {},
   "source": [
    "Using this dictionary we can see the tokens for the (non-stop) words in our example document:"
   ]
  },
  {
   "cell_type": "code",
   "execution_count": 6,
   "metadata": {},
   "outputs": [
    {
     "name": "stdout",
     "output_type": "stream",
     "text": [
      "['52', 'students', 'arrested', 'takeover', 'university', 'massachusetts', 'building', 'fifty', 'two', 'students', 'arrested', 'tuesday', 'evening', 'occupying', 'university', 'massachusetts', 'building', 'overnight', 'protest', 'defense', 'department', 'funded', 'research', 'new', 'york', 'city', 'thousands', 'city', 'college', 'students', 'got', 'unscheduled', 'holiday', 'demonstrators', 'occupied', 'campus', 'administration', 'building', 'protest', 'possible', 'tuition', 'increases', 'prompting', 'officials', 'suspend', 'classes', '60', 'police', 'riot', 'gear', 'arrived', 'university', 'massachusetts', '5', 'p', 'm', 'two', 'hours', 'later', 'bus', 'drove', 'away', '29', 'students', 'camped', 'memorial', 'hall', 'students', 'charged', 'trespassing', '23', 'students', 'arrested', 'lying', 'bus', 'prevent', 'leaving', 'police', '300', 'students', 'stood', 'building', 'chanting', 'looking', 'students', 'hall', 'arrested', '35', 'students', 'occupied', 'memorial', 'hall', '1', 'p', 'm', 'monday', 'declined', 'offer', 'meet', 'administrators', 'provosts', 'office', 'tuesday', 'morning', 'presented', 'list', 'demands', 'halt', 'defense', 'department', 'research', '25', '000', 'student', 'campus', '40', 'students', 'left', 'building', 'tuesday', 'morning', 'university', 'administrators', 'told', 'arrested', '5', 'p', 'm', 'university', 'spokeswoman', 'jeanne', 'hopkins', 'takeover', 'second', 'western', 'massachusetts', 'campus', 'seven', 'protesters', 'arrested', 'april', '19', 'charges', 'disorderly', 'conduct', 'trespassing', 'demonstrating', 'military', 'funded', 'research', 'campus', 'particularly', 'research', 'anthrax', 'research', 'university', 'non', 'classified', 'researchers', 'make', 'work', 'public', 'university', 'rules', '11', '6', 'million', '22', 'percent', 'grant', 'money', 'received', 'university', 'came', 'defense', 'department', '1988', 'school', 'chancellor', 'joseph', 'd', 'duffey', 'issued', 'statement', 'telling', 'students', 'research', 'continue', 'campus', 'school', 'administrators', 'decide', 'differently', 'policy', 'negotiated', 'students', 'duffey', 'latest', 'occupation', 'began', 'students', 'rallying', 'monday', 'student', 'union', 'military', 'research', 'marched', 'administration', 'building', 'ducked', 'memorial', 'hall', 'en', 'route', 'followed', 'members', 'local', 'chapter', 'american', 'friends', 'service', 'committee', 'contended', 'research', 'dangerous', 'town', 'promotes', 'militarism', 'banned', 'university', 'argued', 'purpose', 'anthrax', 'research', 'peaceful', 'strain', 'bacteria', 'non', 'virulent', 'study', 'school', '23', 'years', 'incident', 'amherst', 'health', 'board', 'scheduled', 'hearing', 'wednesday', 'question', 'safety', 'anthrax', 'research', 'tuesday', 'time', '1969', 'classes', 'city', 'college', 'new', 'york', 'canceled', 'student', 'protests', 'school', 'spokesman', 'charles', 'deciccio', 'protesters', 'demanding', 'face', 'face', 'meeting', 'gov', 'mario', 'cuomo', 'feared', 'tuition', 'college', '1', '250', 'increased', 'college', 'staff', 'reduced', 'state', 'budget', 'cuts', 'governor', 'immediate', 'comment', 'tuition', 'set', 'deciccio']\n"
     ]
    }
   ],
   "source": [
    "print([id2token[word_id] for word_id in example_document[1] if word_id > 0])"
   ]
  },
  {
   "cell_type": "markdown",
   "metadata": {},
   "source": [
    "The reverse can also be done, say we want to look for news about the \"University of Massachusetts\", the tokens of that query can be converted to ids using the reverse dictionary:"
   ]
  },
  {
   "cell_type": "code",
   "execution_count": 7,
   "metadata": {},
   "outputs": [
    {
     "name": "stdout",
     "output_type": "stream",
     "text": [
      "Query by tokens: ['university', '', 'massachusetts']\n",
      "Query by ids with stopwords: [200, 0, 894]\n",
      "Query by ids without stopwords: [200, 894]\n"
     ]
    }
   ],
   "source": [
    "query_tokens = index.tokenize(\"University of Massachusetts\")\n",
    "print(\"Query by tokens:\", query_tokens)\n",
    "query_id_tokens = [token2id.get(query_token,0) for query_token in query_tokens]\n",
    "print(\"Query by ids with stopwords:\", query_id_tokens)\n",
    "query_id_tokens = [word_id for word_id in query_id_tokens if word_id > 0]\n",
    "print(\"Query by ids without stopwords:\", query_id_tokens)"
   ]
  },
  {
   "cell_type": "markdown",
   "metadata": {},
   "source": [
    "Naturally we can now match the document and query in the id space, let's see how often a word from the query occurs in our example document:"
   ]
  },
  {
   "cell_type": "code",
   "execution_count": 8,
   "metadata": {},
   "outputs": [
    {
     "name": "stdout",
     "output_type": "stream",
     "text": [
      "Document AP890425-0001 has 13 word matches with query: \"university  massachusetts\".\n",
      "Document AP890425-0001 and query \"university  massachusetts\" have a 2.5% overlap.\n"
     ]
    }
   ],
   "source": [
    "matching_words = sum([True for word_id in example_document[1] if word_id in query_id_tokens])\n",
    "print(\"Document %s has %d word matches with query: \\\"%s\\\".\" % (example_document[0], matching_words, ' '.join(query_tokens)))\n",
    "print(\"Document %s and query \\\"%s\\\" have a %.01f%% overlap.\" % (example_document[0], ' '.join(query_tokens),matching_words/float(len(example_document[1]))*100))"
   ]
  },
  {
   "cell_type": "markdown",
   "metadata": {},
   "source": [
    "While this is certainly not everything Pyndri can do, it should give you an idea of how to use it. Please take a look at the [examples](https://github.com/cvangysel/pyndri) as it will help you a lot with this assignment.\n",
    "\n",
    "**CAUTION**: Avoid printing out the whole index in this Notebook as it will generate a lot of output and is likely to corrupt the Notebook."
   ]
  },
  {
   "cell_type": "markdown",
   "metadata": {},
   "source": [
    "### Parsing the query file\n",
    "You can parse the query file (`ap_88_89/topics_title`) using the following snippet:"
   ]
  },
  {
   "cell_type": "code",
   "execution_count": 9,
   "metadata": {},
   "outputs": [
    {
     "name": "stdout",
     "output_type": "stream",
     "text": [
      "OrderedDict([('51', 'Airbus Subsidies'), ('52', 'South African Sanctions'), ('53', 'Leveraged Buyouts'), ('54', 'Satellite Launch Contracts'), ('55', 'Insider Trading'), ('56', 'Prime (Lending) Rate Moves, Predictions'), ('57', 'MCI'), ('58', 'Rail Strikes'), ('59', 'Weather Related Fatalities'), ('60', 'Merit-Pay vs. Seniority'), ('61', 'Israeli Role in Iran-Contra Affair'), ('62', \"Military Coups D'etat\"), ('63', 'Machine Translation'), ('64', 'Hostage-Taking'), ('65', 'Information Retrieval Systems'), ('66', 'Natural Language Processing'), ('67', 'Politically Motivated Civil Disturbances'), ('68', 'Health Hazards from Fine-Diameter Fibers'), ('69', 'Attempts to Revive the SALT II Treaty'), ('70', 'Surrogate Motherhood'), ('71', 'Border Incursions'), ('72', 'Demographic Shifts in the U.S.'), ('73', 'Demographic Shifts across National Boundaries'), ('74', 'Conflicting Policy'), ('75', 'Automation'), ('76', 'U.S. Constitution - Original Intent'), ('77', 'Poaching'), ('78', 'Greenpeace'), ('79', 'FRG Political Party Positions'), ('80', '1988 Presidential Candidates Platforms'), ('81', 'Financial crunch for televangelists in the wake of the PTL scandal'), ('82', 'Genetic Engineering'), ('83', 'Measures to Protect the Atmosphere'), ('84', 'Alternative/renewable Energy Plant & Equipment Installation'), ('85', 'Official Corruption'), ('86', 'Bank Failures'), ('87', 'Criminal Actions Against Officers of Failed Financial Institutions'), ('88', 'Crude Oil Price Trends'), ('89', '\"Downstream\" Investments by OPEC Member States'), ('90', 'Data on Proven Reserves of Oil & Natural Gas Producers'), ('91', 'U.S. Army Acquisition of Advanced Weapons Systems'), ('92', 'International Military Equipment Sales'), ('93', 'What Backing Does the National Rifle Association Have?'), ('94', 'Computer-aided Crime'), ('95', 'Computer-aided Crime Detection'), ('96', 'Computer-Aided Medical Diagnosis'), ('97', 'Fiber Optics Applications'), ('98', 'Fiber Optics Equipment Manufacturers'), ('99', 'Iran-Contra Affair'), ('100', 'Controlling the Transfer of High Technology'), ('101', 'Design of the \"Star Wars\" Anti-missile Defense System'), ('102', \"Laser Research Applicable to the U.S.'s Strategic Defense Initiative\"), ('103', 'Welfare Reform'), ('104', 'Catastrophic Health Insurance'), ('105', '\"Black Monday\"'), ('106', 'U.S. Control of Insider Trading'), ('107', 'Japanese Regulation of Insider Trading'), ('108', 'Japanese Protectionist Measures'), ('109', 'Find Innovative Companies'), ('110', 'Black Resistance Against the South African Government'), ('111', 'Nuclear Proliferation'), ('112', 'Funding Biotechnology'), ('113', 'New Space Satellite Applications'), ('114', 'Non-commercial Satellite Launches'), ('115', 'Impact of the 1986 Immigration Law'), ('116', 'Generic Drug Substitutions'), ('117', 'Capacity of the U.S. Cellular Telephone Network'), ('118', 'International Terrorists'), ('119', 'Actions Against International Terrorists'), ('120', 'Economic Impact of International Terrorism'), ('121', 'Death from Cancer'), ('122', 'RDT&E of New Cancer Fighting Drugs'), ('123', 'Research into & Control of Carcinogens'), ('124', 'Alternatives to Traditional Cancer Therapies'), ('125', 'Anti-smoking Actions by Government'), ('126', 'Medical Ethics and Modern Technology'), ('127', 'U.S.-U.S.S.R. Arms Control Agreements'), ('128', 'Privatization of State Assets'), ('129', 'Soviet Spying on the U.S.'), ('130', 'Jewish Emigration and U.S.-USSR Relations'), ('131', 'McDonnell Douglas Contracts for Military Aircraft'), ('132', '\"Stealth\" Aircraft'), ('133', 'Hubble Space Telescope'), ('134', 'The Human Genome Project'), ('135', 'Possible Contributions of Gene Mapping to Medicine'), ('136', 'Diversification by Pacific Telesis'), ('137', 'Expansion in the U.S. Theme Park Industry'), ('138', 'Iranian Support for Lebanese Hostage-takers'), ('139', \"Iran's Islamic Revolution - Domestic and Foreign Social Consequences\"), ('140', 'Political Impact of Islamic Fundamentalism'), ('141', \"Japan's Handling of its Trade Surplus with the U.S.\"), ('142', 'Impact of Government Regulated Grain Farming on International Relations'), ('143', 'Why Protect U.S. Farmers?'), ('144', 'Management Problems at the United Nations'), ('145', 'Influence of the \"Pro-Israel Lobby\"'), ('146', 'Negotiating an End to the Nicaraguan Civil War'), ('147', 'Productivity Trends in the U.S. Economy'), ('148', 'Conflict in the Horn of Africa'), ('149', 'Industrial Espionage'), ('150', 'U.S. Political Campaign Financing'), ('151', 'Coping with overcrowded prisons'), ('152', 'Accusations of Cheating by Contractors on U.S. Defense Projects'), ('153', 'Insurance Coverage which pays for Long Term Care'), ('154', 'Oil Spills'), ('155', 'Right Wing Christian Fundamentalism in U.S.'), ('156', 'Efforts to enact Gun Control Legislation'), ('157', 'Causes and treatments of multiple sclerosis (MS)'), ('158', 'Term limitations for members of the U.S. Congress'), ('159', 'Electric Car Development'), ('160', 'Vitamins - The Cure for or Cause of Human Ailments'), ('161', 'Acid Rain'), ('162', 'Automobile Recalls'), ('163', 'Vietnam Veterans and Agent Orange'), ('164', 'Generic Drugs - Illegal Activities by Manufacturers'), ('165', 'Tobacco company advertising and the young'), ('166', 'Standardized testing and cultural bias'), ('167', 'Regulation of the showing of violence and explicit sex in motion picture theaters, on television, and on video cassettes.'), ('168', 'Financing AMTRAK'), ('169', 'Cost of Garbage/Trash Removal'), ('170', 'The Consequences of Implantation of Silicone Gel Breast Devices'), ('171', \"Use of Mutual Funds in an Individual's Retirement Strategy\"), ('172', 'The Effectiveness of Medical Products and Related Programs Utilized in the Cessation of Smoking.'), ('173', 'Smoking Bans'), ('174', 'Hazardous Waste Cleanup'), ('175', 'NRA Prevention of Gun Control Legislation'), ('176', 'Real-life private investigators'), ('177', 'English as the Official Language in U.S.'), ('178', 'Dog Maulings'), ('179', 'U. S. Restaurants in Foreign Lands'), ('180', 'Ineffectiveness of U.S. Embargoes/Sanctions'), ('181', 'Abuse of the Elderly by Family Members, and Medical and Nonmedical Personnel, and Initiatives Being Taken to Minimize This Mistreatment'), ('182', 'Commercial Overfishing Creates Food Fish Deficit'), ('183', 'Asbestos Related Lawsuits'), ('184', 'Corporate Pension Plans/Funds'), ('185', 'Reform of the U.S. Welfare System'), ('186', 'Difference of Learning Levels Among Inner City and More Suburban School Students'), ('187', 'Signs of the Demise of Independent Publishing'), ('188', 'Beachfront Erosion'), ('189', 'Real Motives for Murder'), ('190', 'Instances of Fraud Involving the Use of a Computer'), ('191', 'Efforts to Improve U.S. Schooling'), ('192', 'Oil Spill Cleanup'), ('193', 'Toys R Dangerous'), ('194', 'The Amount of Money Earned by Writers'), ('195', 'Stock Market Perturbations Attributable to Computer Initiated Trading'), ('196', 'School Choice Voucher System and its effects upon the entire U.S. educational program'), ('197', 'Reform of the jurisprudence system to stop juries from granting unreasonable monetary awards'), ('198', 'Gene Therapy and Its Benefits to Humankind'), ('199', 'Legality of Medically Assisted Suicides'), ('200', 'Impact of foreign textile imports on U.S. textile industry')])\n"
     ]
    }
   ],
   "source": [
    "import collections\n",
    "import io\n",
    "import logging\n",
    "import sys\n",
    "\n",
    "def parse_topics(file_or_files,\n",
    "                 max_topics=sys.maxsize, delimiter=';'):\n",
    "    assert max_topics >= 0 or max_topics is None\n",
    "\n",
    "    topics = collections.OrderedDict()\n",
    "\n",
    "    if not isinstance(file_or_files, list) and \\\n",
    "            not isinstance(file_or_files, tuple):\n",
    "        if hasattr(file_or_files, '__iter__'):\n",
    "            file_or_files = list(file_or_files)\n",
    "        else:\n",
    "            file_or_files = [file_or_files]\n",
    "\n",
    "    for f in file_or_files:\n",
    "        assert isinstance(f, io.IOBase)\n",
    "\n",
    "        for line in f:\n",
    "            assert(isinstance(line, str))\n",
    "\n",
    "            line = line.strip()\n",
    "\n",
    "            if not line:\n",
    "                continue\n",
    "\n",
    "            topic_id, terms = line.split(delimiter, 1)\n",
    "\n",
    "            if topic_id in topics and (topics[topic_id] != terms):\n",
    "                    logging.error('Duplicate topic \"%s\" (%s vs. %s).',\n",
    "                                  topic_id,\n",
    "                                  topics[topic_id],\n",
    "                                  terms)\n",
    "\n",
    "            topics[topic_id] = terms\n",
    "\n",
    "            if max_topics > 0 and len(topics) >= max_topics:\n",
    "                break\n",
    "\n",
    "    return topics\n",
    "\n",
    "with open('./ap_88_89/topics_title', 'r') as f_topics:\n",
    "    print(parse_topics([f_topics]))"
   ]
  },
  {
   "cell_type": "markdown",
   "metadata": {},
   "source": [
    "### Task 1: Implement and compare lexical IR methods [35 points] ### \n",
    "\n",
    "In this task you will implement a number of lexical methods for IR using the **Pyndri** framework. Then you will evaluate these methods on the dataset we have provided using **TREC Eval**.\n",
    "\n",
    "Use the **Pyndri** framework to get statistics of the documents (term frequency, document frequency, collection frequency; **you are not allowed to use the query functionality of Pyndri**) and implement the following scoring methods in **Python**:\n",
    "\n",
    "- [TF-IDF](http://nlp.stanford.edu/IR-book/html/htmledition/tf-idf-weighting-1.html) and \n",
    "- [BM25](http://nlp.stanford.edu/IR-book/html/htmledition/okapi-bm25-a-non-binary-model-1.html) with k1=1.2 and b=0.75. **[5 points]**\n",
    "- Language models ([survey](https://drive.google.com/file/d/0B-zklbckv9CHc0c3b245UW90NE0/view))\n",
    "    - Jelinek-Mercer (explore different values of 𝛌 in the range [0.1, 0.5, 0.9]). **[5 points]**\n",
    "    - Dirichlet Prior (explore different values of 𝛍 [500, 1000, 1500]). **[5 points]**\n",
    "    - Absolute discounting (explore different values of 𝛅 in the range [0.1, 0.5, 0.9]). **[5 points]**\n",
    "    - [Positional Language Models](http://sifaka.cs.uiuc.edu/~ylv2/pub/sigir09-plm.pdf) define a language model for each position of a document, and score a document based on the scores of its PLMs. The PLM is estimated based on propagated counts of words within a document through a proximity-based density function, which both captures proximity heuristics and achieves an effect of “soft” passage retrieval. Implement the PLM, all five kernels, but only the Best position strategy to score documents. Use 𝛔 equal to 50, and Dirichlet smoothing with 𝛍 optimized on the validation set (decide how to optimize this value yourself and motivate your decision in the report). **[10 points]**\n",
    "    \n",
    "Implement the above methods and report evaluation measures (on the test set) using the hyper parameter values you optimized on the validation set (also report the values of the hyper parameters). Use TREC Eval to obtain the results and report on `NDCG@10`, Mean Average Precision (`MAP@1000`), `Precision@5` and `Recall@1000`.\n",
    "\n",
    "For the language models, create plots showing `NDCG@10` with varying values of the parameters. You can do this by chaining small scripts using shell scripting (preferred) or execute trec_eval using Python's `subprocess`.\n",
    "\n",
    "Compute significance of the results using a [two-tailed paired Student t-test](https://docs.scipy.org/doc/scipy/reference/generated/scipy.stats.ttest_rel.html) **[5 points]**. Be wary of false rejection of the null hypothesis caused by the [multiple comparisons problem](https://en.wikipedia.org/wiki/Multiple_comparisons_problem). There are multiple ways to mitigate this problem and it is up to you to choose one.\n",
    "\n",
    "Analyse the results by identifying specific queries where different methods succeed or fail and discuss possible reasons that cause these differences. This is *very important* in order to understand who the different retrieval functions behave.\n",
    "\n",
    "**NOTE**: Don’t forget to use log computations in your calculations to avoid underflows. "
   ]
  },
  {
   "cell_type": "markdown",
   "metadata": {},
   "source": [
    "**IMPORTANT**: You should structure your code around the helper functions we provide below."
   ]
  },
  {
   "cell_type": "code",
   "execution_count": 10,
   "metadata": {},
   "outputs": [
    {
     "name": "stdout",
     "output_type": "stream",
     "text": [
      "Gathering statistics about 456 terms.\n",
      "Inverted index creation took 49.65729308128357 seconds.\n"
     ]
    }
   ],
   "source": [
    "import time\n",
    "start_time = time.time()\n",
    "with open('./ap_88_89/topics_title', 'r') as f_topics:\n",
    "    queries = parse_topics([f_topics])\n",
    "\n",
    "index = pyndri.Index('index/')\n",
    "\n",
    "num_documents = index.maximum_document() - index.document_base()\n",
    "\n",
    "dictionary = pyndri.extract_dictionary(index)\n",
    "\n",
    "tokenized_queries = {\n",
    "    query_id: [dictionary.translate_token(token)\n",
    "               for token in index.tokenize(query_string)\n",
    "               if dictionary.has_token(token)]\n",
    "    for query_id, query_string in queries.items()}\n",
    "\n",
    "query_term_ids = set(\n",
    "    query_term_id\n",
    "    for query_term_ids in tokenized_queries.values()\n",
    "    for query_term_id in query_term_ids)\n",
    "\n",
    "print('Gathering statistics about', len(query_term_ids), 'terms.')\n",
    "\n",
    "# inverted index creation.\n",
    "\n",
    "document_lengths = {}\n",
    "unique_terms_per_document = {}\n",
    "\n",
    "inverted_index = collections.defaultdict(dict)\n",
    "collection_frequencies = collections.defaultdict(int)\n",
    "\n",
    "total_terms = 0\n",
    "\n",
    "for int_doc_id in range(index.document_base(), index.maximum_document()):\n",
    "    ext_doc_id, doc_token_ids = index.document(int_doc_id)\n",
    "\n",
    "    document_bow = collections.Counter(\n",
    "        token_id for token_id in doc_token_ids\n",
    "        if token_id > 0)\n",
    "    document_length = sum(document_bow.values())\n",
    "\n",
    "    document_lengths[int_doc_id] = document_length\n",
    "    total_terms += document_length\n",
    "\n",
    "    unique_terms_per_document[int_doc_id] = len(document_bow)\n",
    "\n",
    "    for query_term_id in query_term_ids:\n",
    "        assert query_term_id is not None\n",
    "\n",
    "        document_term_frequency = document_bow.get(query_term_id, 0)\n",
    "\n",
    "        if document_term_frequency == 0:\n",
    "            continue\n",
    "\n",
    "        collection_frequencies[query_term_id] += document_term_frequency\n",
    "        inverted_index[query_term_id][int_doc_id] = document_term_frequency\n",
    "\n",
    "\n",
    "avg_doc_length = total_terms / num_documents\n",
    "print('Inverted index creation took', time.time() - start_time, 'seconds.')"
   ]
  },
  {
   "cell_type": "code",
   "execution_count": 11,
   "metadata": {
    "collapsed": true
   },
   "outputs": [],
   "source": [
    "def run_retrieval(model_name, score_fn):\n",
    "    \"\"\"\n",
    "    Runs a retrieval method for all the queries and writes the TREC-friendly results in a file.\n",
    "    \n",
    "    :param model_name: the name of the model (a string)\n",
    "    :param score_fn: the scoring function (a function - see below for an example) \n",
    "    \"\"\"\n",
    "    run_out_path = '{}.run'.format(model_name)\n",
    "\n",
    "    if os.path.exists(run_out_path):\n",
    "        print(\"File already exists\")\n",
    "        return\n",
    "    \n",
    "    retrieval_start_time = time.time()\n",
    "\n",
    "    print('Retrieving using', model_name)\n",
    "    data = {}\n",
    "    count = 0\n",
    "    # TODO: fill the data dictionary. \n",
    "    # The dictionary data should have the form: query_id --> (document_score, external_doc_id)\n",
    "    if model_name == 'tf-idf' or model_name == 'BM25':\n",
    "        for query_id, query in queries.items():\n",
    "            score = 0.0\n",
    "            query_word_ids = [token2id.get(query_token,0) for query_token in index.tokenize(query)] #get ids for all the words\n",
    "            query_word_ids = [word_id for word_id in query_word_ids if word_id > 0] #remove stop words\n",
    "            #print(query,query_word_ids)\n",
    "            for int_doc_id in range(index.document_base(), index.maximum_document()):\n",
    "                score = 0\n",
    "                external_document_id,_ = index.document(int_doc_id) #Get the external doc id for this document\n",
    "                for query_word in query_word_ids:\n",
    "                    if int_doc_id in inverted_index[query_word].keys():\n",
    "                        score += score_fn(int_doc_id,query_word,collection_frequencies[query_word])\n",
    "                    else: \n",
    "                        score += 0.0\n",
    "                    assert(isinstance(score,float))\n",
    "                if query_id in data.keys():       \n",
    "                    data[query_id].append((tuple([score,str(external_document_id)])))\n",
    "                else:\n",
    "                    data[query_id] = [((tuple([score,str(external_document_id)])))]\n",
    "    elif model_name == 'JelinekMercer' or model_name == 'Dirichlet' or model_name == 'AbsoluteDiscounting':\n",
    "        counter = 0\n",
    "        for query_id, query in queries.items():\n",
    "            if counter < 5:\n",
    "                print(query_id)\n",
    "                for int_doc_id in range(index.document_base(), index.maximum_document()):\n",
    "                    external_document_id,_ = index.document(int_doc_id) #Get the external doc id for this document\n",
    "                    score = score_fn(int_doc_id, query, collection_frequencies)\n",
    "                    if query_id in data.keys():       \n",
    "                        data[query_id].append((tuple([score,str(external_document_id)])))\n",
    "                    else:\n",
    "                        data[query_id] = [((tuple([score,str(external_document_id)])))]\n",
    "                counter += 1\n",
    "    else:\n",
    "        print('Please give me a valid model_name!')\n",
    "        \n",
    "        #print(len(data[query_id]))\n",
    "    with open(run_out_path, 'w') as f_out:\n",
    "        write_run(\n",
    "            model_name=model_name,\n",
    "            data=data,\n",
    "            out_f=f_out,\n",
    "            max_objects_per_query=1000)"
   ]
  },
  {
   "cell_type": "code",
   "execution_count": 52,
   "metadata": {
    "scrolled": true
   },
   "outputs": [
    {
     "name": "stdout",
     "output_type": "stream",
     "text": [
      "South African Sanctions\n",
      "[1, 2053, 8, 4104, 6153]\n",
      "{163840: 1, 81923: 1, 90116: 1, 143361: 3, 9559: 3, 81932: 1, 163853: 3, 14: 1, 40976: 2, 90131: 1, 162478: 2, 65558: 1, 40986: 1, 144030: 1, 65568: 12, 16417: 14, 49187: 2, 90148: 1, 57381: 1, 16422: 3, 90151: 6, 90152: 2, 122922: 2, 57387: 6, 32813: 1, 106544: 2, 65587: 2, 147510: 1, 139323: 1, 16444: 1, 65597: 2, 57407: 1, 65: 2, 16450: 3, 139331: 2, 131140: 5, 159756: 1, 114762: 1, 5474: 1, 141031: 1, 114768: 1, 121528: 1, 65618: 2, 34147: 1, 122964: 1, 155662: 6, 73814: 2, 8279: 1, 98393: 5, 147547: 1, 65631: 1, 16480: 14, 73744: 2, 154398: 1, 106597: 1, 163942: 3, 114791: 1, 65643: 1, 147565: 1, 98414: 5, 111: 2, 112: 1, 16497: 1, 101054: 1, 41084: 1, 114813: 1, 151573: 1, 24704: 1, 142016: 1, 16514: 4, 8324: 1, 147589: 2, 88769: 1, 32908: 7, 8333: 1, 139407: 6, 106643: 1, 41108: 2, 139610: 1, 150: 1, 154: 1, 8347: 2, 123037: 1, 123041: 1, 32930: 1, 16554: 1, 133831: 2, 32941: 5, 139438: 1, 156574: 1, 49329: 3, 16562: 7, 106675: 2, 49333: 3, 32950: 1, 41143: 1, 153037: 3, 188: 6, 82112: 6, 8385: 1, 147652: 1, 90309: 3, 200: 10, 1399: 4, 112353: 2, 41166: 1, 98511: 1, 141581: 1, 73941: 3, 73942: 1, 57559: 1, 90329: 8, 114906: 1, 221: 1, 82143: 1, 57572: 6, 229: 8, 232: 1, 21884: 1, 90349: 2, 82160: 2, 155889: 4, 82162: 4, 139509: 6, 106742: 1, 247: 2, 43732: 1, 130671: 2, 16636: 1, 41213: 2, 16639: 1, 131330: 1, 139307: 2, 16645: 1, 43735: 2, 16652: 1, 8461: 1, 106768: 2, 147729: 1, 144630: 2, 139542: 1, 82199: 1, 106776: 3, 82201: 1, 109114: 6, 98591: 2, 41248: 3, 49441: 2, 163679: 5, 27355: 2, 131364: 2, 131366: 1, 147752: 2, 90409: 1, 24874: 3, 116488: 4, 39645: 5, 33072: 4, 114993: 2, 131378: 1, 41269: 2, 49463: 1, 24888: 4, 98617: 1, 160952: 8, 71050: 2, 33089: 2, 16710: 3, 162529: 1, 164168: 1, 108851: 1, 123210: 5, 131403: 1, 90444: 7, 90445: 1, 33102: 3, 157069: 1, 123217: 4, 98642: 2, 164180: 2, 98650: 3, 106843: 2, 65886: 1, 74080: 1, 106852: 4, 33129: 1, 65898: 8, 92903: 2, 164208: 1, 49521: 1, 82290: 3, 74099: 4, 159806: 5, 113217: 10, 139642: 4, 379: 2, 57724: 2, 383: 2, 384: 1, 41346: 1, 65923: 1, 61505: 1, 115716: 2, 146156: 1, 131466: 2, 125677: 1, 401: 1, 57746: 1, 106899: 2, 139672: 1, 16795: 1, 39664: 5, 65956: 2, 143430: 1, 123305: 1, 106922: 4, 94279: 4, 16812: 1, 115117: 1, 65966: 1, 16817: 1, 33202: 2, 6899: 1, 65974: 6, 39669: 4, 57792: 2, 57795: 1, 162550: 3, 136609: 4, 131529: 1, 154410: 1, 25036: 5, 131535: 4, 131538: 6, 106966: 3, 57815: 1, 8664: 4, 147929: 7, 123357: 1, 33249: 1, 154138: 1, 107487: 1, 8683: 7, 163922: 2, 41454: 1, 90607: 2, 49648: 2, 106997: 1, 41463: 1, 147960: 1, 25082: 1, 41469: 2, 131585: 5, 82435: 5, 25093: 1, 82441: 1, 98826: 7, 164364: 1, 52058: 4, 33296: 2, 90641: 2, 16916: 2, 139797: 4, 90646: 1, 131607: 1, 57880: 10, 8734: 1, 41503: 4, 57889: 1, 107042: 2, 72454: 1, 49702: 3, 90664: 5, 33321: 3, 113415: 1, 107052: 1, 65759: 1, 139956: 3, 10148: 1, 43785: 1, 164410: 2, 116972: 2, 156221: 1, 123456: 3, 41538: 2, 25157: 1, 25160: 1, 131657: 1, 25163: 5, 131660: 2, 119915: 1, 148046: 3, 25167: 6, 41552: 3, 34232: 5, 141619: 2, 16984: 3, 49755: 1, 41567: 1, 98912: 1, 98913: 10, 123492: 1, 25189: 1, 148073: 1, 66154: 3, 82539: 1, 41580: 2, 49773: 3, 115310: 1, 41585: 3, 41588: 1, 41589: 3, 45161: 4, 123512: 1, 123516: 2, 107133: 2, 41598: 1, 138005: 2, 17024: 3, 148097: 5, 114795: 1, 17029: 4, 66182: 1, 164487: 6, 648: 1, 128502: 1, 25226: 4, 98956: 1, 120258: 1, 17038: 4, 41615: 4, 164497: 1, 49810: 1, 123541: 6, 49814: 4, 117529: 1, 107160: 5, 82585: 1, 41626: 2, 670: 3, 58018: 1, 107171: 3, 131749: 1, 74406: 3, 90225: 2, 98984: 4, 133916: 5, 66219: 6, 139950: 2, 688: 2, 148146: 1, 49843: 2, 8884: 1, 146206: 1, 107192: 1, 49849: 1, 8892: 1, 115391: 5, 25280: 3, 136651: 1, 17092: 2, 115399: 4, 33480: 10, 33481: 1, 66254: 8, 25295: 3, 58064: 1, 723: 1, 139988: 1, 90838: 2, 8923: 4, 17118: 8, 17119: 7, 115428: 3, 17125: 1, 99049: 1, 82668: 1, 123629: 4, 156398: 1, 751: 2, 8946: 1, 756: 3, 33525: 1, 25336: 2, 17146: 1, 131835: 1, 33532: 2, 39722: 2, 148222: 1, 66303: 2, 140034: 8, 90885: 2, 90888: 4, 66317: 4, 90894: 1, 99088: 5, 30168: 1, 82707: 2, 107284: 1, 41092: 1, 794: 1, 115483: 1, 74527: 1, 90913: 2, 33570: 1, 82724: 3, 115493: 2, 99110: 1, 66345: 5, 41770: 1, 118960: 1, 41780: 1, 823: 2, 25403: 2, 9024: 1, 115522: 4, 99139: 2, 82756: 5, 25413: 2, 58182: 3, 123720: 1, 33609: 2, 9035: 2, 33612: 1, 131917: 1, 17230: 1, 41808: 1, 41809: 1, 9044: 1, 50005: 1, 74582: 1, 90969: 1, 50010: 1, 90971: 5, 154969: 1, 9059: 1, 71142: 1, 82791: 2, 11068: 4, 83431: 5, 50031: 1, 164517: 1, 25460: 8, 50037: 2, 120297: 3, 74616: 10, 163988: 1, 66427: 1, 142422: 2, 91626: 3, 33662: 1, 25471: 4, 19264: 3, 140163: 2, 146514: 1, 3576: 1, 41862: 3, 139149: 3, 82825: 1, 115594: 1, 151703: 14, 91022: 1, 30189: 2, 913: 1, 91026: 2, 74643: 2, 50070: 1, 91031: 13, 115608: 1, 41881: 2, 25498: 2, 156571: 1, 115612: 1, 8346: 2, 9118: 2, 145151: 6, 74656: 1, 132592: 3, 74658: 1, 115620: 2, 123815: 1, 50089: 1, 33706: 1, 156588: 1, 66478: 1, 115633: 6, 127134: 1, 149490: 11, 58296: 3, 58297: 5, 50108: 10, 146516: 2, 82882: 5, 123843: 4, 33732: 1, 58309: 3, 50118: 4, 17351: 1, 132040: 1, 66505: 5, 115658: 1, 82891: 2, 25550: 1, 33745: 1, 33748: 3, 99290: 2, 109391: 2, 82908: 1, 50141: 1, 69797: 2, 99296: 2, 35664: 1, 998: 1, 999: 1, 9195: 1, 66542: 1, 163675: 1, 129875: 1, 132087: 2, 102569: 1, 9208: 2, 120903: 1, 22015: 1, 1022: 2, 99327: 1, 120320: 6, 123906: 2, 107524: 2, 77996: 2, 41995: 4, 107534: 1, 127150: 1, 1046: 2, 82967: 1, 140315: 3, 25629: 1, 50206: 1, 94384: 1, 156706: 1, 163839: 2, 153094: 3, 50214: 3, 1063: 2, 113500: 1, 58410: 3, 8370: 2, 82990: 2, 123951: 1, 25649: 3, 115762: 1, 50228: 1, 17462: 1, 87561: 4, 123960: 1, 99385: 1, 50234: 1, 140810: 1, 42046: 5, 131253: 1, 115778: 1, 42051: 1, 58436: 4, 41142: 1, 140358: 2, 158561: 3, 123976: 2, 107594: 1, 33867: 1, 140364: 1, 33871: 1, 50256: 3, 33873: 1, 121700: 1, 99420: 4, 42077: 2, 33886: 1, 33890: 2, 74851: 1, 25703: 1, 50280: 3, 42091: 5, 54594: 1, 58478: 4, 156783: 1, 74865: 1, 17522: 1, 99445: 1, 33911: 1, 25720: 1, 50297: 2, 132221: 2, 144917: 4, 124427: 2, 132226: 2, 125803: 3, 140420: 2, 17541: 2, 140422: 2, 66698: 1, 148621: 1, 140432: 1, 124049: 2, 25747: 1, 33940: 2, 17557: 7, 83094: 2, 99480: 1, 83097: 1, 33951: 4, 74913: 3, 140827: 1, 83109: 2, 148648: 1, 42154: 2, 124076: 1, 25773: 3, 25774: 4, 82120: 2, 117619: 1, 83125: 5, 107704: 1, 134004: 5, 42171: 1, 83134: 2, 15221: 1, 42176: 1, 66753: 3, 106699: 6, 93046: 1, 83142: 1, 120354: 1, 83150: 1, 91343: 2, 74962: 1, 58579: 1, 83158: 2, 129913: 1, 91353: 10, 9434: 1, 17629: 2, 107743: 1, 74976: 1, 58595: 2, 117904: 3, 69841: 1, 83180: 1, 148724: 2, 91381: 4, 164530: 7, 17658: 5, 142524: 5, 42237: 2, 87060: 1, 153202: 5, 140544: 2, 75010: 2, 149035: 2, 75308: 2, 83212: 3, 140557: 1, 22061: 3, 124178: 1, 1299: 1, 9492: 5, 9493: 2, 117636: 2, 58650: 4, 83227: 1, 66844: 1, 115999: 3, 50465: 1, 42274: 4, 116003: 2, 116004: 1, 124200: 5, 75050: 1, 1326: 5, 66865: 1, 132403: 4, 124218: 1, 58683: 3, 50492: 3, 139982: 3, 87606: 6, 121433: 1, 107847: 3, 25928: 1, 25929: 1, 107850: 1, 138073: 2, 66895: 1, 1360: 1, 58711: 2, 143529: 1, 25947: 8, 157020: 5, 42554: 2, 139493: 2, 50528: 2, 140641: 1, 50530: 2, 99683: 5, 1380: 1, 99685: 1, 91495: 2, 99688: 2, 153148: 1, 161806: 1, 1389: 1, 135619: 1, 34164: 4, 78057: 3, 66936: 5, 132346: 1, 25980: 1, 91517: 3, 34177: 1, 116099: 1, 162898: 2, 1414: 1, 63041: 2, 91528: 3, 132489: 3, 123004: 1, 99725: 2, 34190: 3, 26000: 1, 34193: 5, 1426: 3, 42563: 3, 138137: 1, 66968: 1, 42393: 2, 107930: 1, 110831: 12, 17824: 2, 157089: 1, 124322: 1, 132515: 1, 1444: 2, 91557: 6, 9639: 2, 50600: 1, 42409: 3, 116138: 1, 24818: 3, 58798: 1, 144623: 7, 9652: 1, 9654: 1, 9655: 2, 67000: 2, 58811: 3, 107964: 3, 67009: 1, 67011: 4, 117665: 1, 75208: 16, 50634: 14, 34251: 1, 11170: 3, 116177: 1, 26066: 1, 157445: 2, 38478: 13, 99800: 2, 155263: 1, 132895: 13, 151717: 1, 50661: 2, 94883: 10, 34279: 2, 50665: 1, 83434: 1, 17899: 1, 164093: 6, 34288: 5, 50673: 5, 99826: 1, 162729: 4, 108025: 1, 34299: 2, 75261: 14, 42494: 2, 42495: 2, 42501: 3, 75274: 1, 52684: 2, 132620: 5, 99858: 1, 124435: 3, 76718: 1, 83478: 5, 39878: 2, 91673: 7, 42522: 2, 91675: 1, 140828: 1, 132639: 1, 17952: 2, 17959: 1, 50728: 5, 78087: 3, 17964: 1, 11186: 1, 26161: 1, 9778: 1, 91699: 4, 91700: 2, 140263: 1, 150356: 1, 58937: 2, 9786: 1, 105347: 1, 17983: 3, 75360: 1, 50755: 2, 19382: 1, 49420: 4, 83530: 1, 154551: 7, 141113: 1, 58958: 2, 86285: 1, 140885: 2, 151721: 1, 9819: 3, 42592: 3, 164112: 1, 67170: 2, 42597: 4, 75369: 1, 58988: 4, 91065: 2, 75377: 1, 9842: 1, 67187: 2, 149097: 1, 124538: 1, 34427: 4, 26236: 1, 34430: 2, 78101: 1, 121989: 1, 34433: 2, 9858: 3, 140931: 2, 50820: 5, 26245: 5, 26252: 1, 135448: 9, 34450: 1, 34455: 2, 140952: 3, 116380: 3, 50845: 1, 59038: 1, 100000: 1, 140275: 1, 80838: 1, 34470: 1, 83570: 3, 124593: 1, 157363: 8, 9909: 2, 26301: 1, 100032: 1, 135456: 4, 9922: 1, 34501: 1, 128995: 4, 26311: 3, 68556: 1, 1739: 3, 152816: 2, 124622: 7, 26319: 4, 157392: 3, 67281: 1, 149204: 1, 68558: 5, 42712: 5, 34523: 1, 18141: 5, 26337: 5, 59108: 1, 141030: 2, 72657: 1, 26344: 2, 50927: 2, 108272: 4, 42738: 1, 75507: 10, 124660: 1, 124661: 1, 100091: 2, 139562: 1, 91903: 1, 95872: 6, 116482: 2, 34563: 4, 50948: 2, 59141: 1, 34568: 2, 26380: 3, 50957: 11, 157454: 1, 91919: 3, 50960: 1, 116497: 1, 42770: 1, 10004: 1, 121563: 4, 83735: 1, 26392: 1, 7377: 1, 26397: 1, 34591: 1, 50977: 3, 149282: 1, 100131: 2, 34596: 3, 132904: 1, 39901: 1, 110899: 2, 108341: 4, 51001: 10, 108346: 8, 100155: 1, 1855: 3, 51008: 5, 124737: 2, 119094: 2, 83783: 1, 108362: 8, 59213: 3, 33080: 3, 146441: 1, 51030: 1, 116568: 2, 157529: 5, 75611: 1, 141149: 7, 19429: 4, 26465: 3, 83810: 1, 83811: 1, 124772: 1, 26469: 1, 83814: 2, 116585: 1, 34667: 2, 141164: 2, 18285: 1, 26480: 1, 75635: 1, 116596: 1, 75637: 4, 75639: 1, 51064: 1, 51065: 1, 58715: 2, 18301: 2, 51070: 7, 149375: 2, 92036: 1, 149381: 6, 149383: 3, 51080: 13, 99991: 4, 51085: 9, 153368: 2, 157584: 2, 124818: 2, 83860: 3, 39918: 4, 61764: 1, 59290: 1, 80879: 1, 116639: 4, 34724: 1, 49478: 1, 1960: 1, 140956: 1, 59307: 3, 128546: 1, 124853: 1, 75704: 1, 42938: 1, 162805: 1, 67520: 1, 10177: 1, 1986: 2, 19446: 6, 18376: 4, 131404: 1, 83914: 1, 52215: 2, 34764: 4, 120482: 1, 147789: 1, 83920: 1, 59346: 1, 100307: 3, 42965: 2, 112453: 1, 26583: 3, 140964: 1, 100314: 1, 92124: 2, 108510: 1, 59359: 6, 59361: 2, 161063: 9, 124900: 1, 51173: 1, 149479: 6, 2024: 1, 67562: 1, 108525: 1, 10222: 1, 23549: 1, 119819: 1, 10226: 1, 108534: 1, 43001: 1, 100346: 2, 59389: 4, 18432: 2, 108545: 5, 72901: 1, 26627: 1, 141317: 1, 83977: 1, 149514: 1, 2060: 1, 162819: 1, 34837: 3, 149527: 3, 142340: 1, 141339: 1, 34845: 4, 92192: 2, 141345: 2, 43044: 2, 149548: 16, 116782: 1, 51247: 2, 84017: 1, 157746: 1, 67635: 2, 67636: 1, 115038: 2, 133174: 1, 92215: 3, 149561: 6, 102751: 1, 75837: 1, 34880: 3, 43075: 1, 92231: 1, 113676: 1, 34892: 4, 86370: 2, 84046: 3, 43088: 2, 2130: 1, 26707: 2, 92244: 1, 116822: 2, 43096: 1, 43098: 7, 75869: 2, 100446: 4, 86816: 1, 44048: 1, 108642: 2, 10339: 1, 26726: 3, 100455: 1, 67689: 5, 84074: 1, 116843: 2, 84077: 5, 26734: 1, 1725: 3, 123915: 1, 75889: 3, 34931: 6, 67701: 1, 133245: 1, 51326: 2, 141439: 6, 125056: 2, 157552: 1, 2178: 1, 18563: 7, 64534: 2, 108678: 4, 34951: 12, 26760: 2, 51339: 4, 108687: 1, 75921: 3, 126644: 1, 63172: 2, 18586: 2, 149662: 2, 116421: 1, 84130: 7, 26787: 1, 26788: 3, 125093: 1, 106865: 1, 125096: 7, 1735: 1, 125100: 1, 58722: 1, 18608: 1, 84146: 1, 106867: 2, 26807: 1, 2237: 1, 125119: 1, 124736: 1, 116929: 2, 75467: 4, 123254: 1, 43206: 1, 100551: 2, 75978: 1, 100555: 1, 149709: 1, 92366: 1, 35023: 4, 59604: 1, 84181: 1, 152015: 1, 92375: 1, 116952: 1, 141530: 1, 149727: 5, 69635: 3, 26849: 1, 59618: 1, 133348: 1, 1745: 1, 18665: 3, 43243: 1, 92396: 5, 149741: 1, 149742: 1, 116975: 10, 35056: 1, 125169: 1, 133363: 3, 10484: 1, 125174: 6, 92407: 1, 18680: 1, 116986: 1, 139647: 1, 138806: 2, 65920: 1, 100611: 2, 35076: 3, 30422: 1, 10504: 6, 128727: 3, 61826: 1, 43280: 3, 67858: 4, 18707: 2, 77636: 1, 35094: 1, 35095: 1, 152290: 10, 141594: 1, 84251: 2, 157980: 1, 145114: 1, 18718: 5, 76064: 1, 133409: 3, 59685: 1, 35112: 2, 92459: 2, 100652: 2, 76079: 2, 18739: 1, 158004: 1, 67894: 3, 43319: 2, 76088: 1, 133435: 1, 35133: 2, 125248: 5, 150447: 1, 51523: 1, 149828: 3, 43334: 2, 71393: 1, 43337: 2, 26955: 2, 95970: 1, 18768: 1, 100689: 1, 161511: 5, 35155: 2, 149844: 1, 159930: 4, 158044: 1, 154682: 1, 121468: 2, 35170: 1, 18787: 1, 145126: 1, 92518: 2, 149864: 2, 149865: 4, 125290: 4, 117099: 2, 51564: 1, 67949: 1, 84334: 1, 76144: 5, 133489: 3, 18803: 2, 100724: 3, 158069: 1, 35195: 2, 92541: 3, 76160: 1, 60480: 1, 120967: 1, 51588: 1, 110998: 2, 84359: 2, 28996: 1, 108937: 3, 154690: 1, 10640: 1, 125330: 1, 113731: 1, 35220: 4, 35221: 4, 141720: 1, 142404: 1, 10651: 2, 117149: 2, 141040: 1, 2472: 6, 125354: 1, 116466: 2, 100782: 4, 108975: 1, 68016: 2, 2483: 3, 59828: 1, 59829: 4, 92599: 2, 132852: 2, 18875: 1, 2493: 2, 84414: 1, 100799: 1, 18883: 6, 43461: 1, 125385: 2, 59850: 1, 35278: 3, 27087: 6, 100816: 1, 51668: 1, 84437: 9, 118458: 3, 27096: 4, 115108: 1, 27098: 2, 84446: 1, 133602: 6, 117221: 3, 27113: 4, 56402: 5, 92656: 1, 18931: 1, 133620: 1, 10741: 1, 84471: 1, 18936: 1, 121940: 2, 18938: 1, 59135: 1, 150015: 1, 93908: 1, 133633: 4, 141827: 1, 152665: 4, 76293: 1, 141832: 3, 45484: 1, 27147: 3, 18956: 2, 68110: 1, 84495: 1, 27154: 1, 35347: 1, 86446: 2, 1796: 4, 84506: 16, 150043: 1, 35357: 2, 141855: 6, 133204: 1, 59937: 1, 56411: 1, 133671: 1, 100904: 1, 56412: 1, 117291: 1, 59948: 4, 35373: 1, 68145: 1, 100915: 1, 84532: 1, 156664: 1, 27190: 1, 100922: 1, 2619: 2, 2620: 3, 139793: 1, 35392: 5, 43587: 2, 148481: 3, 133702: 1, 48225: 2, 2637: 4, 42765: 3, 109136: 1, 161575: 1, 109139: 1, 104206: 8, 43606: 1, 27223: 2, 10840: 5, 117337: 4, 133722: 2, 109150: 2, 59999: 1, 18192: 3, 35426: 5, 100963: 1, 68198: 1, 76391: 1, 114930: 2, 158316: 1, 1810: 2, 51822: 2, 141935: 1, 149065: 1, 43633: 1, 76406: 1, 164559: 1, 50964: 1, 158330: 1, 109181: 4, 84606: 3, 60031: 1, 84608: 4, 123328: 1, 117381: 1, 150154: 3, 10892: 3, 152002: 1, 139627: 4, 132888: 1, 35474: 3, 20931: 4, 109203: 4, 44142: 2, 76438: 1, 150167: 2, 150168: 1, 35482: 2, 117404: 2, 19101: 1, 101022: 1, 51874: 2, 76454: 4, 92839: 1, 153372: 1, 143337: 1, 60076: 3, 92847: 1, 148629: 1, 147156: 1, 133817: 3, 68283: 1, 43710: 1, 158399: 3, 68288: 1, 68291: 6, 84676: 1, 108321: 1, 92565: 1, 133835: 1, 154214: 1, 158414: 3, 43729: 1, 19154: 4, 84692: 1, 101079: 1, 84699: 1, 120613: 1, 51936: 3, 101090: 1, 43749: 1, 76519: 3, 19176: 1, 68329: 1, 150250: 3, 10987: 8, 10989: 7, 43759: 1, 79656: 1, 101107: 1, 60542: 3, 43769: 3, 101122: 3, 2824: 3, 60169: 1, 84747: 1, 76560: 1, 78110: 1, 92948: 2, 19222: 4, 101145: 1, 11035: 5, 60188: 2, 3205: 1, 79664: 3, 68388: 1, 145201: 1, 11049: 2, 150315: 8, 76588: 1, 133940: 1, 117559: 1, 60216: 2, 76601: 1, 109371: 3, 2876: 1, 68416: 1, 76610: 3, 2884: 1, 76613: 3, 28170: 1, 106977: 1, 76618: 4, 68427: 2, 76622: 6, 2895: 5, 76624: 1, 60241: 1, 133970: 3, 109396: 7, 101205: 1, 142166: 2, 101207: 2, 84824: 1, 101209: 1, 43866: 1, 84828: 3, 11101: 1, 117666: 1, 11104: 8, 2913: 4, 30523: 11, 27492: 6, 40081: 1, 11113: 6, 11115: 1, 93037: 1, 117615: 1, 93041: 2, 52083: 2, 60276: 1, 19317: 2, 99257: 1, 111081: 1, 101241: 2, 157503: 2, 68478: 5, 117632: 1, 117633: 2, 2947: 1, 60292: 2, 101526: 1, 11144: 1, 52106: 1, 52107: 1, 68493: 5, 27534: 5, 142225: 3, 11154: 1, 123374: 3, 60311: 1, 76696: 2, 68506: 1, 125852: 3, 60317: 1, 27550: 3, 27551: 4, 2977: 2, 93090: 11, 35747: 3, 60324: 13, 83025: 1, 93095: 1, 130762: 1, 134058: 3, 59207: 1, 134061: 3, 84910: 2, 31901: 2, 84914: 1, 84918: 1, 93112: 1, 76732: 2, 35775: 1, 76737: 2, 125580: 2, 60355: 5, 60356: 1, 19397: 1, 84935: 4, 52168: 1, 125899: 1, 87118: 1, 60365: 6, 19406: 1, 5965: 1, 125905: 1, 3030: 1, 142766: 1, 52185: 1, 139902: 1, 84956: 1, 109536: 1, 160251: 1, 40473: 5, 44005: 1, 113606: 2, 60394: 1, 125933: 5, 68591: 2, 150517: 1, 76790: 1, 44023: 2, 52216: 4, 96084: 4, 76801: 3, 134148: 1, 149334: 1, 60425: 2, 117770: 1, 93195: 1, 27664: 1, 125969: 1, 93202: 1, 57859: 8, 60436: 2, 134166: 1, 5977: 5, 85167: 5, 68639: 1, 3104: 8, 117797: 2, 76838: 1, 109607: 1, 85032: 1, 35882: 3, 44076: 1, 142382: 3, 3119: 1, 35888: 1, 19505: 1, 134194: 5, 76851: 1, 3124: 1, 117813: 4, 19513: 7, 27706: 4, 67423: 1, 76864: 7, 117828: 1, 150597: 1, 126023: 1, 123675: 1, 117837: 1, 150607: 7, 141155: 2, 93269: 3, 93270: 6, 153444: 5, 76890: 2, 3163: 1, 85085: 2, 101470: 1, 60511: 1, 140012: 1, 149350: 3, 107025: 1, 3260: 2, 109674: 1, 35950: 20, 11376: 1, 11380: 1, 120835: 2, 134264: 4, 74260: 2, 60538: 1, 104298: 2, 19582: 1, 76927: 1, 19586: 4, 101508: 3, 82454: 1, 35974: 1, 84942: 1, 145260: 2, 44171: 3, 93324: 7, 35981: 2, 93326: 5, 116589: 1, 3216: 1, 19602: 1, 11414: 1, 85143: 9, 44185: 4, 19611: 1, 11420: 3, 11423: 2, 60577: 2, 93346: 1, 11431: 8, 66394: 1, 3247: 1, 25204: 2, 60594: 1, 164480: 2, 60598: 1, 19657: 2, 4877: 4, 60604: 1, 53923: 1, 117952: 3, 68801: 1, 150726: 2, 85193: 1, 101578: 1, 68812: 1, 150735: 1, 109777: 2, 36052: 2, 126165: 1, 126168: 4, 36059: 1, 44254: 2, 93407: 1, 126178: 3, 158947: 1, 138956: 1, 43755: 1, 67452: 1, 27885: 1, 117998: 1, 11503: 3, 143912: 3, 11506: 1, 142580: 5, 67454: 3, 118006: 4, 11511: 3, 15572: 1, 128423: 1, 150784: 2, 85250: 3, 85251: 1, 126212: 3, 115205: 1, 126216: 3, 134409: 4, 52492: 2, 60687: 4, 44304: 2, 159689: 1, 158998: 1, 27930: 1, 77084: 3, 159005: 3, 134430: 2, 52511: 2, 40155: 1, 126245: 3, 3366: 1, 118059: 3, 52524: 1, 60717: 1, 44334: 2, 52527: 1, 36148: 2, 118069: 1, 134454: 3, 52541: 1, 93502: 6, 36160: 1, 154848: 1, 11586: 3, 150851: 1, 134468: 1, 101703: 2, 101707: 2, 11596: 3, 128909: 1, 77136: 1, 11605: 3, 36182: 2, 19799: 1, 120719: 4, 36188: 3, 44381: 2, 101726: 2, 159072: 5, 159073: 1, 126306: 1, 77158: 1, 126313: 4, 126314: 8, 11628: 1, 19821: 1, 118130: 2, 68979: 1, 93559: 14, 93560: 1, 128916: 1, 44410: 1, 47579: 4, 118143: 1, 36224: 1, 19847: 1, 19848: 4, 60809: 3, 28043: 9, 150924: 1, 90690: 1, 101774: 1, 158957: 1, 118160: 1, 101779: 1, 160956: 1, 152132: 1, 3484: 5, 11677: 1, 19871: 3, 69026: 1, 137115: 3, 36263: 2, 85417: 2, 93611: 1, 3501: 3, 69038: 1, 60851: 1, 19893: 1, 60854: 1, 118199: 1, 101816: 2, 19898: 1, 101821: 2, 36286: 4, 142783: 8, 128928: 2, 28098: 1, 131659: 1, 137054: 2, 109503: 1, 26371: 1, 110027: 1, 93644: 1, 134605: 2, 159182: 1, 131661: 1, 36309: 1, 134054: 1, 101849: 2, 8783: 1, 28129: 7, 159203: 6, 126436: 1, 28135: 1, 154333: 3, 3566: 1, 28143: 4, 151024: 5, 44531: 3, 77300: 1, 28150: 1, 118263: 3, 52728: 1, 159226: 1, 110077: 8, 85502: 10, 60929: 1, 52738: 1, 110084: 2, 135766: 1, 28166: 4, 142856: 1, 44553: 4, 93706: 4, 155060: 1, 85516: 1, 101903: 1, 33368: 1, 126485: 4, 44567: 3, 91775: 3, 110108: 1, 93725: 1, 85534: 2, 61836: 1, 28192: 1, 23034: 1, 110118: 1, 36391: 1, 110120: 2, 85545: 1, 126509: 3, 3630: 6, 134408: 1, 101938: 13, 77364: 1, 44597: 4, 44598: 6, 44599: 1, 44600: 2, 128231: 1, 69180: 2, 84411: 1, 101952: 2, 119392: 1, 20034: 5, 71606: 1, 142918: 1, 16993: 1, 32012: 1, 69194: 1, 118347: 2, 110157: 1, 141240: 2, 93779: 5, 110164: 3, 3941: 1, 77400: 3, 11865: 3, 83898: 1, 16997: 1, 159329: 1, 134756: 1, 126566: 1, 153972: 1, 20075: 1, 20076: 1, 20077: 1, 11887: 1, 151152: 1, 142962: 2, 69235: 1, 93814: 15, 118392: 9, 155708: 1, 142971: 1, 142972: 1, 77437: 2, 52862: 1, 52864: 1, 142977: 1, 142979: 1, 28292: 1, 44678: 3, 52873: 2, 97080: 1, 36491: 1, 69260: 5, 145346: 3, 36495: 1, 93840: 1, 61074: 1, 134803: 2, 134805: 1, 56601: 8, 131014: 3, 110233: 3, 159386: 3, 52892: 1, 30661: 12, 20128: 2, 28321: 1, 61092: 1, 47046: 3, 110249: 1, 102060: 10, 93873: 11, 145417: 9, 3764: 1, 44725: 4, 159703: 1, 52921: 1, 36538: 2, 77499: 1, 52925: 2, 49781: 5, 85697: 1, 20162: 2, 137163: 3, 143044: 1, 102086: 2, 11975: 2, 150429: 1, 44745: 2, 102091: 1, 110285: 1, 11984: 1, 3795: 3, 52948: 1, 11990: 5, 20585: 1, 52954: 2, 139798: 1, 85727: 1, 134882: 1, 126692: 3, 44326: 1, 28390: 1, 126695: 1, 52971: 1, 100306: 1, 135446: 1, 162160: 2, 61173: 1, 12022: 1, 86054: 1, 61180: 1, 52990: 1, 2005: 1, 115328: 3, 118531: 2, 141270: 1, 110343: 1, 69386: 4, 122789: 1, 93971: 1, 93972: 1, 85784: 1, 61211: 1, 10202: 2, 123525: 1, 53024: 1, 53029: 1, 69416: 3, 108508: 1, 53034: 1, 28459: 5, 126765: 1, 61236: 1, 102200: 5, 69433: 1, 61242: 2, 3899: 1, 102204: 3, 82570: 1, 143166: 2, 159551: 1, 3904: 1, 160526: 1, 145523: 1, 61252: 1, 126793: 1, 36683: 1, 77648: 2, 97592: 1, 3923: 1, 136089: 1, 110422: 2, 118616: 1, 149476: 3, 69466: 4, 148111: 1, 118621: 1, 69477: 3, 135014: 1, 69482: 1, 102251: 1, 102254: 3, 20339: 1, 118644: 1, 163134: 2, 102263: 2, 135032: 1, 36730: 1, 37503: 5, 28540: 5, 151432: 1, 143231: 1, 159616: 1, 102273: 1, 20354: 4, 129003: 1, 151428: 1, 118663: 1, 61320: 1, 102281: 2, 20363: 2, 40998: 4, 2042: 1, 151446: 3, 126873: 1, 149487: 3, 20384: 5, 149488: 1, 20387: 3, 126885: 1, 151462: 1, 61351: 8, 53160: 1, 110506: 2, 12204: 1, 28589: 1, 143279: 2, 110514: 3, 103070: 1, 81763: 1, 4026: 1, 102333: 1, 102334: 1, 85951: 1, 85952: 1, 20420: 2, 44999: 1, 4040: 2, 36809: 2, 85964: 2, 36814: 1, 34778: 1, 102353: 2, 70307: 2, 73038: 4, 85975: 1, 69594: 2, 28635: 1, 102365: 1, 135845: 1, 20448: 2, 151521: 1, 159714: 1, 135139: 4, 151526: 1, 77800: 1, 12265: 3, 143338: 1, 78503: 1, 69614: 2, 118768: 1, 20466: 4, 56329: 1, 61433: 1, 45050: 1, 145407: 1, 135164: 1, 19797: 1, 110592: 3, 4097: 2, 12290: 3, 41643: 1, 28677: 1, 86022: 1, 135177: 5, 118795: 1, 53260: 1, 141438: 5, 12303: 5, 118800: 1, 69649: 1, 69650: 1, 22531: 1, 77845: 2, 118806: 1, 32089: 2, 102426: 2, 86043: 5, 127004: 1, 4130: 1, 127012: 6, 28710: 18, 118108: 2, 69677: 1, 155351: 1, 110640: 3, 115379: 5, 110647: 3, 36920: 1, 111284: 2, 81247: 8, 36925: 1, 4158: 5, 12351: 1, 45121: 1, 143426: 1, 69699: 2, 86086: 1, 69703: 4, 86088: 1, 94281: 3, 127801: 1, 53328: 1, 28756: 2, 135253: 5, 131769: 1, 61528: 5, 159833: 1, 145423: 2, 151644: 1, 116748: 4, 143456: 1, 71697: 1, 110696: 1, 36969: 1, 94314: 1, 122215: 5, 36976: 3, 86129: 5, 61557: 1, 77944: 3, 127097: 1, 148159: 1, 77950: 2, 69761: 1, 135301: 1, 78529: 1, 111298: 5, 118927: 1, 69778: 3, 158355: 2, 20631: 2, 159896: 1, 123588: 2, 127131: 1, 102558: 4, 117438: 1, 127139: 4, 147717: 1, 37029: 2, 37032: 1, 53417: 1, 127687: 1, 37036: 1, 69806: 2, 20656: 2, 61791: 1, 78003: 3, 53428: 4, 37045: 1, 37046: 2, 78007: 1, 78009: 2, 20666: 1, 12476: 3, 94401: 3, 4811: 1, 28868: 2, 86213: 1, 151751: 1, 20680: 1, 69835: 5, 37070: 8, 37071: 2, 110800: 5, 37073: 1, 53458: 1, 20692: 2, 25294: 1, 45271: 1, 78043: 1, 102620: 4, 12512: 2, 139856: 2, 127202: 5, 143588: 1, 94437: 3, 12518: 1, 61520: 1, 20713: 5, 145639: 4, 48509: 10, 78065: 3, 61682: 1, 131795: 2, 107668: 1, 63529: 2, 78075: 1, 86269: 1, 159998: 2, 146629: 3, 58070: 1, 20743: 3, 94472: 2, 69897: 7, 152279: 1, 152085: 1, 61794: 2, 110862: 2, 79917: 3, 69904: 1, 61714: 2, 48515: 2, 4373: 6, 61718: 6, 160023: 6, 115197: 4, 37145: 1, 141359: 2, 20764: 6, 28958: 4, 20768: 1, 20770: 1, 28971: 2, 160045: 3, 12590: 1, 73096: 1, 51251: 1, 74462: 3, 69942: 2, 37175: 1, 37176: 2, 160057: 1, 28986: 1, 45371: 4, 20796: 3, 61757: 2, 53567: 1, 45376: 2, 4419: 1, 12612: 2, 4421: 1, 53575: 4, 94536: 1, 159116: 5, 163544: 5, 102733: 1, 142733: 1, 61776: 1, 61780: 1, 143702: 4, 162726: 1, 86360: 2, 156388: 4, 143709: 3, 45407: 3, 139267: 2, 161908: 1, 29026: 1, 110948: 1, 143718: 2, 4458: 1, 143724: 2, 94575: 4, 4464: 2, 127345: 1, 28051: 1, 29048: 1, 61817: 2, 94588: 1, 53629: 2, 18496: 5, 12674: 1, 94596: 1, 119173: 1, 86407: 1, 125902: 1, 45449: 2, 86411: 3, 45452: 1, 110990: 7, 86415: 1, 119189: 2, 102806: 1, 86423: 1, 78232: 2, 78233: 1, 135583: 4, 154545: 4, 53666: 1, 111014: 1, 53672: 2, 111017: 1, 86443: 5, 37292: 1, 37294: 3, 143794: 2, 94647: 2, 20921: 1, 123637: 3, 37314: 4, 102851: 2, 134020: 2, 78279: 3, 111050: 2, 117448: 1, 119247: 2, 86482: 1, 78293: 1, 4566: 1, 143840: 1, 111079: 1, 29160: 2, 29161: 1, 129106: 2, 156413: 1, 37363: 4, 72713: 1, 20982: 4, 102905: 1, 148223: 1, 119292: 1, 78335: 1, 4608: 1, 119552: 1, 111106: 2, 12803: 1, 94724: 4, 86533: 1, 29195: 3, 70157: 1, 12814: 2, 93613: 1, 78357: 1, 94743: 1, 21023: 1, 152096: 1, 160292: 1, 21030: 2, 152103: 1, 29224: 1, 61952: 2, 102957: 1, 12846: 2, 159062: 1, 130788: 1, 21044: 1, 108638: 1, 131909: 1, 132766: 1, 127545: 1, 161887: 1, 45630: 1, 102975: 1, 86596: 3, 29254: 4, 157793: 3, 103813: 1, 4681: 1, 4682: 1, 159723: 1, 78605: 2, 52664: 3, 140639: 7, 135764: 1, 66318: 3, 29270: 1, 155915: 3, 86617: 1, 143964: 2, 36282: 2, 45662: 1, 161893: 2, 29280: 2, 127760: 3, 32187: 1, 86629: 1, 78441: 2, 135788: 1, 151861: 1, 28093: 1, 53873: 2, 86644: 1, 48574: 1, 137321: 2, 78458: 2, 29311: 1, 128911: 4, 119435: 1, 85442: 1, 116845: 1, 135825: 1, 4755: 1, 86677: 1, 132185: 1, 148249: 1, 12952: 3, 103065: 1, 51311: 5, 119910: 1, 78494: 12, 127650: 1, 12963: 2, 37540: 1, 15814: 6, 86695: 10, 21166: 1, 62128: 2, 135859: 1, 86708: 1, 37557: 2, 30836: 1, 160446: 5, 78528: 2, 21185: 1, 12994: 1, 78532: 1, 62149: 1, 21191: 2, 70344: 9, 37577: 5, 78538: 13, 103115: 2, 127696: 9, 54444: 1, 4822: 1, 62167: 2, 94937: 1, 53978: 1, 152283: 3, 53981: 2, 4831: 3, 37601: 1, 53986: 1, 21225: 1, 152300: 2, 103149: 3, 70385: 1, 119539: 2, 133246: 1, 152087: 1, 140099: 1, 149631: 4, 103164: 2, 115498: 1, 70399: 1, 78592: 1, 54017: 1, 78594: 2, 21253: 1, 138711: 1, 78604: 1, 30850: 3, 113367: 9, 4880: 1, 48600: 1, 127762: 2, 32078: 1, 13078: 1, 13079: 5, 127769: 1, 37659: 1, 160540: 4, 161925: 1, 62240: 1, 152354: 1, 4901: 1, 78631: 1, 62248: 2, 130524: 1, 104583: 2, 62253: 2, 4911: 7, 4915: 4, 70452: 1, 54071: 1, 21305: 1, 4922: 1, 97759: 1, 144188: 1, 13119: 1, 143249: 1, 13122: 1, 143295: 6, 127814: 1, 160584: 1, 147194: 1, 4940: 1, 62286: 1, 4943: 7, 21328: 3, 29523: 6, 127828: 2, 103255: 1, 119610: 1, 70496: 4, 58171: 1, 54117: 3, 37737: 1, 37738: 1, 155112: 1, 30867: 2, 37748: 1, 40425: 4, 103288: 1, 13178: 2, 62271: 3, 95104: 1, 13189: 8, 45962: 1, 160651: 4, 70540: 1, 127810: 1, 45966: 1, 21394: 4, 95123: 1, 163173: 1, 119701: 1, 86937: 1, 45980: 3, 144286: 4, 70559: 2, 136096: 1, 70563: 4, 148294: 1, 29606: 1, 111527: 2, 47260: 1, 95146: 1, 124460: 2, 21423: 1, 21424: 2, 70578: 1, 5046: 1, 144311: 1, 86969: 1, 152506: 1, 152508: 5, 37821: 2, 13246: 1, 127935: 1, 78787: 2, 62404: 10, 89590: 1, 13255: 9, 86984: 6, 21451: 2, 21452: 1, 137651: 7, 54222: 1, 69112: 1, 54226: 4, 144339: 1, 160724: 1, 49998: 1, 54231: 4, 144344: 1, 136155: 3, 142966: 1, 163322: 6, 5086: 6, 119776: 1, 46051: 7, 111589: 3, 87014: 1, 123729: 6, 5098: 1, 78827: 1, 162247: 2, 160750: 1, 103407: 1, 152560: 3, 127987: 1, 29684: 5, 46070: 1, 46071: 1, 82772: 1, 29691: 1, 103423: 3, 87043: 1, 103428: 2, 93697: 1, 87051: 1, 119822: 4, 125101: 3, 119824: 1, 128017: 2, 62484: 1, 143179: 1, 159236: 5, 37916: 1, 37917: 1, 37918: 1, 133978: 1, 111652: 5, 149014: 1, 29737: 1, 70698: 2, 54316: 1, 54321: 1, 144434: 15, 128051: 1, 46133: 3, 13367: 1, 62521: 3, 21565: 4, 13375: 2, 5184: 6, 136260: 1, 13382: 1, 111689: 1, 70730: 2, 70734: 3, 5199: 1, 21584: 3, 119889: 1, 103506: 1, 82787: 1, 29780: 1, 144471: 2, 70745: 1, 103514: 1, 160024: 8, 70751: 2, 29792: 1, 70753: 3, 144482: 10, 111718: 6, 134673: 2, 111720: 1, 62571: 2, 21613: 1, 95342: 2, 144495: 3, 111729: 3, 54389: 6, 70505: 3, 21625: 11, 13437: 1, 103832: 1, 103556: 3, 13445: 2, 13446: 2, 13447: 1, 103561: 1, 108547: 6, 21646: 6, 54416: 1, 46230: 1, 24089: 8, 136344: 1, 13467: 3, 27181: 1, 62623: 1, 38048: 1, 119970: 1, 163355: 1, 87205: 2, 5292: 1, 122397: 5, 70834: 4, 95411: 1, 62646: 1, 5304: 1, 162176: 1, 21692: 3, 67786: 8, 38083: 1, 163028: 5, 144582: 1, 21704: 1, 144586: 1, 54480: 10, 152440: 2, 21715: 1, 111828: 1, 125134: 4, 38102: 8, 21719: 1, 54490: 1, 87265: 1, 103651: 8, 118310: 1, 70887: 1, 161264: 3, 95468: 1, 70894: 1, 140157: 9, 46320: 1, 103665: 3, 5362: 2, 79091: 2, 120052: 1, 128245: 1, 79094: 2, 26836: 4, 131625: 3, 13566: 2, 10453: 2, 70913: 1, 62722: 1, 70915: 1, 161030: 1, 152902: 3, 46347: 8, 95500: 2, 46351: 1, 153756: 1, 70933: 4, 21782: 2, 10947: 1, 69213: 2, 15748: 1, 107398: 1, 151089: 1, 128299: 1, 163378: 7, 148360: 2, 62773: 2, 44596: 13, 144699: 9, 78730: 3, 157920: 4, 38210: 5, 148302: 1, 38213: 1, 21830: 1, 152904: 1, 79179: 3, 30028: 3, 116962: 1, 13646: 1, 145181: 2, 144722: 2, 161107: 1, 38229: 1, 128347: 1, 103776: 6, 62817: 3, 71010: 9, 50065: 2, 144744: 2, 13674: 4, 43239: 2, 144748: 1, 128365: 5, 30062: 2, 111205: 2, 147758: 1, 152950: 3, 125390: 2, 46460: 4, 87426: 2, 137451: 11, 30084: 2, 99222: 1, 46473: 1, 54666: 2, 21899: 1, 3650: 1, 13710: 2, 62865: 3, 87446: 2, 120215: 3, 5528: 1, 87452: 1, 91034: 6, 87454: 1, 21921: 1, 161190: 1, 71079: 1, 128425: 2, 62890: 1, 30123: 3, 144812: 1, 13742: 2, 136623: 1, 79281: 1, 54707: 8, 46516: 2, 74654: 3, 120246: 4, 153017: 1, 155631: 1, 153020: 5, 3658: 2, 156576: 1, 54722: 1, 62923: 3, 153036: 1, 5581: 2, 126541: 1, 121479: 1, 71124: 8, 5589: 1, 71127: 1, 94296: 4, 54746: 2, 13787: 2, 141562: 1, 103902: 6, 158673: 1, 136675: 3, 5606: 1, 62951: 1, 95721: 3, 79338: 3, 95723: 1, 21997: 2, 13806: 2, 103920: 9, 128497: 2, 5622: 1, 41897: 1, 112120: 1, 38394: 2, 13823: 1, 103936: 1, 144897: 3, 5634: 1, 38404: 3, 71173: 1, 95750: 1, 38408: 2, 79369: 2, 136714: 3, 137137: 2, 155401: 1, 46605: 1, 118360: 1, 145667: 4, 13845: 1, 71192: 2, 160086: 2, 127919: 1, 38434: 1, 5674: 1, 153131: 2, 63020: 1, 5677: 1, 38447: 2, 22065: 1, 15966: 1, 30262: 1, 104713: 2, 63036: 6, 128574: 5, 44010: 2, 79425: 6, 80139: 1, 52174: 8, 54862: 1, 5711: 1, 74680: 2, 162535: 1, 153870: 2, 95831: 1, 28484: 1, 22110: 1, 155237: 3, 46688: 1, 163905: 1, 136802: 2, 79461: 1, 146675: 1, 63082: 1, 128620: 9, 128626: 1, 136819: 1, 46710: 1, 5751: 7, 87672: 1, 13947: 2, 63104: 3, 92622: 2, 125206: 1, 163543: 1, 145035: 3, 153228: 5, 63118: 1, 30351: 1, 128658: 2, 103363: 3, 153237: 1, 143676: 1, 5787: 1, 147768: 1, 120480: 3, 63137: 1, 87714: 4, 146218: 2, 123846: 4, 79526: 1, 120487: 13, 30377: 1, 46762: 3, 145069: 2, 30382: 1, 155952: 4, 87732: 1, 54969: 1, 121119: 1, 5822: 1, 71360: 1, 30404: 1, 118390: 9, 46790: 1, 153289: 1, 112330: 6, 128716: 1, 63181: 2, 46798: 1, 71376: 1, 79569: 1, 134949: 11, 104150: 1, 30423: 1, 71384: 1, 120538: 9, 71389: 2, 142860: 5, 14049: 1, 71394: 2, 128130: 3, 63207: 1, 159356: 4, 95978: 4, 30443: 1, 71404: 4, 87789: 1, 14062: 10, 3709: 2, 127312: 3, 50132: 4, 128763: 1, 18970: 1, 63231: 1, 155265: 1, 71434: 1, 120587: 3, 73302: 1, 79630: 2, 71441: 1, 117935: 1, 156501: 1, 146577: 1, 153369: 3, 120602: 3, 22300: 2, 120605: 2, 96032: 1, 144347: 6, 96037: 1, 38694: 1, 118312: 1, 46888: 1, 116496: 1, 5933: 2, 22318: 1, 14127: 3, 46896: 3, 46897: 3, 96051: 2, 46903: 1, 97313: 1, 63291: 1, 30525: 4, 5950: 1, 14144: 4, 3723: 4, 26934: 1, 5959: 2, 63306: 1, 26935: 1, 104269: 1, 87890: 1, 79700: 1, 96085: 2, 22359: 6, 38745: 1, 134799: 1, 87900: 2, 22365: 2, 63326: 4, 136165: 1, 63329: 3, 71522: 3, 79715: 7, 79716: 9, 160653: 1, 71530: 1, 120683: 1, 96108: 1, 161648: 7, 90603: 1, 137077: 1, 112503: 1, 55161: 2, 30587: 4, 161662: 2, 153471: 2, 145280: 2, 22401: 6, 162890: 1, 6022: 4, 162113: 1, 104328: 4, 22409: 3, 3735: 1, 88386: 1, 63374: 1, 55183: 1, 87952: 3, 145297: 1, 87954: 1, 88387: 1, 22420: 1, 112534: 4, 120727: 1, 96155: 3, 22428: 1, 30624: 1, 153505: 1, 153508: 1, 112549: 1, 145319: 1, 104363: 8, 66215: 2, 120750: 1, 63408: 5, 112561: 1, 14259: 1, 40606: 2, 22454: 3, 152564: 1, 87994: 1, 38843: 3, 110240: 1, 128962: 2, 88003: 1, 87030: 1, 71622: 2, 112586: 1, 104395: 2, 38861: 6, 120782: 1, 158029: 9, 122912: 2, 79825: 1, 104403: 1, 120788: 1, 30678: 14, 30685: 4, 55263: 1, 95950: 1, 22864: 1, 82939: 1, 113681: 1, 79846: 1, 145384: 1, 145385: 1, 79851: 2, 153581: 1, 161774: 1, 47088: 3, 129009: 1, 14322: 4, 158223: 2, 22520: 3, 47098: 3, 87039: 1, 158199: 1, 137557: 1, 116137: 6, 30723: 1, 120836: 1, 55302: 6, 79879: 8, 161800: 1, 71689: 1, 22538: 1, 79883: 7, 14349: 8, 71694: 1, 122541: 2, 55312: 1, 79889: 6, 95235: 2, 71703: 3, 71705: 1, 47134: 1, 114352: 3, 153634: 3, 31030: 1, 153638: 2, 77489: 10, 6184: 3, 71721: 4, 119815: 3, 22573: 2, 154642: 1, 47154: 4, 88116: 8, 6198: 4, 47160: 4, 96313: 2, 88122: 1, 55356: 1, 137277: 1, 151328: 3, 63840: 1, 22595: 1, 161861: 1, 22599: 1, 114230: 1, 22604: 1, 63568: 1, 88146: 10, 88147: 1, 63575: 1, 153689: 1, 22620: 1, 88157: 3, 161886: 1, 137311: 2, 161791: 1, 14433: 2, 22626: 1, 6243: 2, 79972: 2, 109048: 1, 136209: 4, 153704: 1, 14441: 1, 112747: 1, 71788: 2, 22637: 1, 6256: 1, 104563: 1, 79988: 3, 22646: 3, 79992: 1, 79993: 1, 14459: 1, 30844: 1, 104574: 1, 39039: 1, 39040: 2, 145329: 1, 96386: 1, 125291: 1, 71813: 1, 88199: 1, 149868: 3, 129163: 4, 48834: 1, 161934: 3, 18797: 1, 88209: 2, 71827: 1, 14485: 1, 63638: 2, 71833: 1, 153755: 1, 63644: 1, 96413: 1, 14497: 1, 88227: 1, 20166: 2, 145574: 4, 78876: 3, 63660: 3, 61373: 3, 141683: 1, 163345: 1, 70686: 1, 39095: 6, 2420: 3, 48842: 1, 104642: 4, 145605: 4, 30918: 1, 104649: 1, 63690: 1, 88268: 1, 104653: 1, 80083: 4, 73422: 1, 112855: 1, 104666: 2, 137435: 11, 162017: 3, 96486: 2, 121063: 4, 104683: 2, 39148: 3, 71922: 1, 104691: 1, 104692: 3, 88311: 1, 14585: 1, 162042: 1, 71934: 1, 14591: 4, 14592: 1, 129408: 3, 14595: 2, 80132: 1, 96518: 1, 103468: 4, 71947: 4, 30988: 1, 121101: 1, 129294: 4, 71951: 1, 16088: 8, 14612: 1, 153877: 1, 14614: 3, 55581: 1, 129310: 1, 14623: 1, 55588: 1, 74411: 1, 55590: 3, 132145: 2, 39208: 3, 124876: 1, 22829: 1, 47412: 1, 6454: 8, 88375: 2, 145720: 1, 6457: 1, 162107: 1, 71996: 5, 47422: 1, 111669: 2, 6465: 2, 80194: 6, 14659: 2, 39236: 1, 58422: 1, 55624: 1, 137545: 1, 150016: 1, 96592: 1, 6481: 1, 6483: 4, 39253: 1, 121174: 4, 121176: 4, 129369: 1, 129371: 1, 63838: 2, 96608: 1, 89830: 3, 72041: 19, 79586: 2, 63890: 6, 162158: 2, 104816: 1, 31090: 1, 141715: 1, 39284: 3, 83006: 1, 57065: 2, 6520: 3, 96635: 9, 18837: 7, 6528: 1, 145796: 3, 72069: 3, 80264: 1, 31113: 1, 72074: 11, 129396: 3, 140580: 1, 39311: 1, 55696: 1, 22930: 1, 63892: 3, 14744: 1, 80282: 1, 47515: 1, 80284: 1, 148549: 3, 22944: 1, 151280: 4, 18843: 1, 6564: 5, 104870: 3, 6567: 1, 72104: 13, 72106: 3, 88494: 1, 121263: 1, 88496: 2, 63922: 1, 47539: 1, 96698: 6, 154043: 4, 104892: 1, 55712: 1, 121282: 1, 154051: 1, 154052: 1, 154053: 1, 14791: 1, 154056: 5, 154057: 1, 162250: 2, 104907: 2, 155433: 1, 55759: 1, 6608: 2, 121297: 1, 72099: 1, 39380: 2, 72149: 1, 129519: 3, 39385: 5, 145882: 1, 63963: 6, 6621: 1, 63968: 1, 54352: 1, 145830: 2, 74833: 1, 3836: 2, 96749: 1, 23022: 3, 121327: 1, 22952: 1, 72178: 3, 72179: 1, 96756: 1, 23029: 3, 39416: 2, 113145: 4, 104954: 4, 129531: 3, 88573: 1, 47615: 2, 104960: 1, 55809: 1, 113159: 1, 96776: 1, 104970: 3, 31243: 2, 147202: 1, 135548: 4, 96784: 7, 96786: 1, 72211: 8, 139614: 3, 31253: 1, 72214: 2, 113175: 2, 104984: 1, 113177: 1, 23066: 1, 132722: 5, 47646: 4, 47652: 1, 145957: 1, 55848: 1, 3769: 1, 47658: 1, 47659: 3, 129580: 9, 47661: 1, 33885: 1, 140472: 3, 137778: 1, 108979: 1, 96823: 2, 150450: 2, 121401: 1, 31290: 4, 152671: 4, 129596: 12, 110346: 1, 76213: 1, 62560: 1, 154182: 1, 121415: 1, 156348: 5, 121423: 1, 162387: 3, 80471: 3, 80473: 2, 96860: 1, 105055: 3, 64097: 2, 80482: 1, 6755: 1, 109065: 1, 39525: 1, 64102: 4, 72295: 3, 31336: 1, 137835: 1, 147218: 1, 80497: 2, 162418: 3, 85779: 1, 137844: 2, 80506: 3, 31356: 1, 157894: 12, 154242: 1, 83051: 1, 39557: 9, 6791: 2, 80520: 3, 134435: 2, 23178: 3, 23179: 5, 110360: 1, 1863: 3, 137875: 3, 121492: 2, 80533: 2, 155417: 2, 6808: 1, 105116: 3, 64157: 2, 96927: 1, 105122: 5, 113316: 8, 154279: 1, 96937: 1, 23211: 6, 88748: 4, 113326: 2, 122653: 1, 39603: 4, 47797: 1, 105143: 1, 31416: 4, 131255: 2, 47805: 1, 55999: 1, 80576: 1, 72385: 2, 88773: 2, 105159: 6, 47818: 1, 96973: 1, 154318: 1, 137936: 2, 56017: 1, 160775: 1, 121556: 2, 15061: 1, 161750: 1, 87161: 1, 152039: 1, 160352: 6, 39642: 3, 31451: 1, 72412: 1, 72413: 2, 156806: 1, 31455: 3, 154337: 1, 47845: 1, 121574: 1, 64231: 1, 2957: 3, 15083: 1, 15084: 1, 56045: 2, 105198: 3, 136317: 1, 23280: 2, 88818: 2, 31475: 1, 88820: 2, 88821: 1, 129782: 1, 15095: 1, 137976: 1, 158164: 1, 129786: 6, 28458: 1, 133589: 2, 31490: 1, 146180: 1, 88838: 4, 31495: 1, 149975: 1, 6925: 1, 143149: 6, 39698: 1, 105236: 1, 39701: 2, 39704: 1, 56089: 1, 160627: 3, 72476: 3, 64285: 2, 138014: 4, 50309: 1, 56099: 3, 154405: 1, 15146: 1, 103559: 1, 138035: 7, 154420: 1, 15160: 8, 36660: 2, 105276: 5, 88896: 1, 162272: 1, 138054: 2, 154403: 1, 16183: 1, 158178: 2, 115074: 1, 80719: 1, 137146: 2, 35126: 5, 80723: 1, 155095: 2, 133446: 1, 113499: 2, 23388: 2, 134970: 8, 31583: 2, 31586: 1, 31587: 5, 15204: 2, 138090: 7, 64883: 3, 154478: 1, 143165: 2, 23410: 1, 47987: 2, 97141: 9, 105334: 1, 164449: 2, 56185: 1, 153895: 3, 158871: 1, 129919: 2, 97154: 3, 7043: 1, 105348: 3, 162693: 1, 15238: 1, 138119: 1, 7048: 1, 121739: 2, 105356: 1, 7057: 1, 7521: 2, 56213: 1, 154518: 2, 31639: 3, 15257: 2, 64411: 4, 39838: 1, 163653: 1, 56224: 1, 112349: 1, 125339: 1, 138150: 3, 43608: 1, 72617: 1, 97198: 1, 72625: 1, 141811: 2, 138165: 2, 31670: 1, 147273: 3, 127080: 1, 121787: 1, 140182: 6, 47605: 3, 162753: 3, 118603: 1, 72646: 3, 154567: 1, 162761: 1, 117239: 2, 31695: 2, 120534: 3, 36517: 4, 154105: 1, 154585: 2, 162780: 3, 47610: 4, 125543: 3, 48095: 1, 31712: 5, 110416: 1, 80867: 2, 64487: 3, 154600: 2, 130026: 1, 1329: 1, 105454: 2, 23535: 5, 113170: 1, 143187: 6, 139002: 1, 48121: 5, 9386: 1, 154624: 1, 144725: 2, 48131: 6, 154628: 4, 113671: 2, 64521: 1, 56330: 4, 48140: 1, 9389: 2, 64529: 1, 72722: 4, 39955: 1, 89110: 1, 56343: 1, 121880: 2, 105497: 1, 72731: 1, 23580: 2, 89117: 1, 105505: 2, 7202: 1, 138275: 1, 23588: 4, 113703: 1, 89135: 3, 89136: 3, 121352: 1, 39987: 1, 97332: 1, 2569: 3, 146488: 1, 138298: 10, 146700: 1, 113724: 11, 162314: 1, 99509: 1, 56386: 1, 15427: 2, 146501: 3, 133644: 11, 80970: 1, 80971: 1, 89168: 1, 54456: 6, 105554: 2, 15443: 3, 56404: 8, 138326: 11, 89176: 2, 105561: 1, 76303: 1, 80988: 4, 113758: 1, 26156: 4, 15457: 2, 56420: 1, 159547: 2, 40042: 3, 105581: 1, 105583: 1, 138352: 5, 154739: 1, 81013: 4, 89206: 3, 48247: 1, 89210: 2, 7291: 1, 20330: 2, 96789: 3, 17600: 1, 48260: 1, 89221: 1, 15495: 1, 147453: 1, 40812: 2, 121995: 1, 81040: 2, 72849: 4, 131179: 1, 122450: 3, 31896: 1, 64665: 1, 31900: 1, 68122: 2, 146591: 1, 64675: 2, 156870: 1, 31910: 2, 162984: 2, 9246: 1, 154795: 1, 56493: 1, 92172: 1, 48304: 3, 97355: 11, 15539: 1, 104990: 1, 15542: 2, 72887: 3, 113849: 6, 86444: 2, 72892: 10, 15549: 1, 127983: 1, 81093: 3, 105671: 2, 15561: 1, 97484: 5, 132301: 3, 105681: 1, 97492: 1, 146648: 1, 138457: 4, 64731: 4, 23773: 2, 56543: 1, 56544: 5, 160976: 1, 40162: 1, 143227: 1, 72934: 3, 113895: 1, 48362: 1, 153952: 2, 107730: 1, 139968: 3, 107731: 5, 162825: 3, 137769: 1, 122107: 1, 64764: 2, 129578: 3, 97535: 1, 32000: 1, 105729: 1, 32002: 3, 32004: 3, 64775: 2, 163080: 1, 125484: 3, 162553: 2, 105740: 1, 81167: 2, 32017: 1, 32018: 5, 40211: 5, 130324: 1, 163093: 2, 40215: 6, 56600: 1, 81177: 1, 138523: 3, 97564: 1, 66778: 1, 130766: 4, 89377: 1, 56611: 1, 64804: 2, 109105: 4, 64813: 1, 56623: 1, 3522: 6, 147336: 1, 105779: 4, 64535: 9, 48441: 2, 97597: 1, 138558: 4, 155593: 2, 84534: 1, 114818: 1, 160993: 2, 105806: 2, 97615: 2, 154962: 1, 48470: 3, 40280: 1, 15705: 1, 75538: 10, 56669: 1, 7518: 4, 19581: 4, 15713: 1, 48482: 6, 130403: 6, 15717: 1, 109909: 2, 40295: 4, 145098: 2, 109116: 3, 107751: 1, 122226: 1, 40307: 4, 130420: 1, 81269: 2, 32122: 2, 146812: 4, 56701: 1, 73086: 3, 143751: 1, 56707: 1, 64900: 3, 155542: 1, 97671: 3, 89480: 1, 122250: 1, 89484: 2, 7567: 2, 20727: 1, 40337: 3, 32155: 9, 48540: 3, 32160: 2, 138657: 6, 155547: 1, 138661: 1, 15783: 1, 130472: 4, 122287: 1, 130483: 1, 146868: 7, 138679: 2, 28077: 2, 105915: 1, 130493: 1, 105918: 2, 115957: 3, 40386: 1, 163267: 2, 128246: 1, 7622: 1, 89543: 3, 97738: 2, 56779: 2, 24015: 3, 130512: 1, 64980: 2, 32214: 1, 130519: 3, 105944: 1, 64986: 2, 89563: 1, 24028: 1, 130525: 1, 64991: 1, 114145: 1, 56802: 2, 105956: 1, 32443: 1, 89574: 1, 130536: 1, 24041: 1, 73195: 1, 56812: 3, 24047: 1, 122354: 1, 81395: 1, 36808: 1, 143466: 1, 65014: 1, 163321: 2, 48634: 1, 151377: 2, 97792: 5, 7682: 1, 147371: 1, 163335: 3, 163336: 3, 163339: 1, 105996: 4, 56845: 1, 81423: 2, 89617: 15, 17987: 6, 143467: 1, 114606: 4, 65047: 5, 48664: 2, 89625: 1, 130587: 1, 56861: 5, 8112: 2, 157282: 1, 81444: 2, 138012: 4, 56871: 4, 48680: 12, 138797: 1, 24110: 3, 55632: 2, 122418: 3, 138805: 7, 89654: 1, 25865: 1, 40507: 1, 156573: 1, 100679: 5, 126902: 1, 81478: 2, 97863: 1, 81482: 1, 114554: 1, 65102: 1, 73296: 2, 106066: 1, 65108: 3, 97878: 1, 122455: 1, 155225: 1, 9806: 1, 24157: 5, 81502: 1, 15967: 3, 106081: 1, 32356: 2, 133734: 3, 114279: 3, 53353: 2, 7786: 2, 100967: 5, 48748: 1, 89710: 1, 7791: 1, 122482: 1, 48756: 1, 77758: 1, 58644: 1, 81531: 2, 89727: 16, 126912: 1, 89731: 1, 118102: 1, 106118: 5, 10353: 2, 21669: 2, 95734: 1, 163466: 19, 106124: 1, 56974: 1, 154221: 1, 22083: 1, 7080: 1, 106132: 1, 124185: 13, 97944: 2, 110532: 1, 130715: 1, 89756: 2, 81566: 3, 141638: 1, 16035: 1, 16037: 1, 32423: 2, 82541: 1, 114349: 4, 48815: 1, 7856: 2, 77768: 3, 116467: 1, 48824: 1, 16058: 1, 89787: 1, 89791: 7, 97986: 2, 147139: 4, 16069: 1, 108128: 1, 24264: 11, 40650: 4, 129834: 1, 123580: 1, 130765: 1, 84825: 2, 32468: 1, 17054: 1, 35449: 6, 89816: 4, 65241: 1, 7900: 1, 148094: 3, 48864: 1, 143312: 5, 78777: 2, 48868: 1, 24294: 1, 20722: 2, 48875: 2, 98031: 1, 52365: 2, 156568: 6, 138998: 1, 40695: 1, 122618: 1, 32507: 1, 12245: 3, 43091: 1, 48899: 1, 130822: 2, 48903: 1, 147209: 3, 4055: 5, 98063: 1, 24338: 5, 146051: 1, 65300: 2, 24342: 4, 16153: 4, 40730: 1, 139036: 1, 28634: 1, 155423: 5, 114464: 4, 122657: 2, 16163: 1, 83249: 1, 16169: 1, 106283: 8, 139052: 1, 16174: 1, 154248: 1, 48946: 1, 155443: 1, 16181: 1, 114486: 1, 98103: 1, 164481: 1, 130875: 1, 122685: 1, 48958: 4, 120117: 2, 57152: 1, 45024: 1, 89925: 1, 57158: 1, 48499: 4, 98121: 1, 24394: 1, 65359: 4, 114512: 2, 109107: 10, 122708: 2, 147287: 7, 57177: 1, 33001: 1, 32607: 1, 163680: 3, 155489: 1, 139106: 1, 16227: 5, 57188: 9, 32742: 4, 24422: 1, 36606: 3, 73580: 1, 49005: 6, 114543: 1, 25091: 1, 32626: 3, 106355: 1, 110569: 7, 81784: 3, 81786: 1, 8062: 1, 57215: 1, 110571: 2, 163716: 1, 49030: 3, 49031: 1, 32648: 1, 57226: 1, 106381: 1, 49038: 1, 98197: 4, 130966: 1, 81819: 1, 65436: 1, 49053: 9, 50501: 4, 49056: 3, 24482: 2, 8101: 1, 98214: 2, 141627: 1, 81833: 1, 106410: 9, 65451: 6, 139250: 1, 106414: 4, 150173: 4, 81840: 6, 106418: 7, 69620: 1, 8122: 1, 98235: 2, 40894: 1, 81855: 3, 155584: 8, 90050: 1, 93835: 1, 163830: 2, 8134: 2, 32711: 1, 114633: 1, 101026: 4, 73681: 1, 151545: 1, 8154: 1, 32734: 1, 32735: 2, 81889: 3, 114659: 2, 32740: 1, 81894: 2, 8168: 2, 151548: 3, 24557: 4, 122877: 1, 114674: 3, 49139: 1, 98293: 1, 32758: 1, 57335: 2, 122872: 2, 126975: 5, 8189: 1, 155646: 1, 87381: 4}\n",
      "119771\n"
     ]
    }
   ],
   "source": [
    "# The queries dict is an ordered dict with id's as keys and queris as values\n",
    "print(queries['52'])\n",
    "\n",
    "#Query term ids give for every unique term in the queries an id\n",
    "print(list(query_term_ids)[:5])\n",
    "\n",
    "# Inverted index gives for every query_term_id and doc_id the term frequency of that term in the document\n",
    "print(inverted_index[846])\n",
    "\n",
    "# Collection frequencies gives for a collection of documents for every query term id the number of occurences of that term\n",
    "print(collection_frequencies[8])"
   ]
  },
  {
   "cell_type": "code",
   "execution_count": 13,
   "metadata": {
    "collapsed": true,
    "scrolled": false
   },
   "outputs": [],
   "source": [
    "import numpy as np\n",
    "def tfidf(int_document_id, query_term_id, document_term_freq):\n",
    "    \"\"\"\n",
    "    Scoring function for a document and a query term\n",
    "    \n",
    "    :param int_document_id: the document id\n",
    "    :param query_token_id: the query term id (assuming you have split the query to tokens)\n",
    "    :param document_term_freq: the document term frequency of the query term \n",
    "    \"\"\"\n",
    "    try:\n",
    "        score = float(np.log(1+inverted_index[query_term_id][int_document_id]) * np.log(num_documents/document_term_freq))\n",
    "    except:\n",
    "        score = 0\n",
    "    return score\n",
    "\n",
    "# combining the two functions above: \n",
    "a = str(np.random.randint(0,100))\n",
    "\n",
    "#run_retrieval('tfidf'+a, tfidf)\n",
    "\n",
    "# TODO implement the rest of the retrieval functions\n",
    "\n",
    "def BM25(int_document_id, query_term_id, document_term_freq): \n",
    "    k1 = 1.2\n",
    "    b = 0.75\n",
    "    # We ignore the sum including k3 since our queries are typically very short and therefore this part is not needed\n",
    "    score = ((k1+1)*inverted_index[query_term_id][int_document_id])/(k1*((1-b)+b*(document_lengths[int_doc_id]/avg_doc_length) \\\n",
    "            + inverted_index[query_term_id][int_document_id]))*(num_documents/document_term_freq)\n",
    "    \n",
    "    return score\n",
    "\n",
    "#run_retrieval('BM25'+a, BM25)\n",
    "\n",
    "# TODO implement tools to help you with the analysis of the results."
   ]
  },
  {
   "cell_type": "code",
   "execution_count": 14,
   "metadata": {},
   "outputs": [
    {
     "name": "stdout",
     "output_type": "stream",
     "text": [
      "1.962304247020076e-11\n",
      "File already exists\n"
     ]
    }
   ],
   "source": [
    "test_query = queries['52']\n",
    "test_document_id = 4\n",
    "\n",
    "def JelinekMercer(int_document_id, query, collection_frequencies):\n",
    "    lamb = 0.1\n",
    "    query_prob = 1\n",
    "    doc_length = len([i for i in index.document(int_document_id)[1] if i >0]) #get document length of non stopwords\n",
    "    col_length = sum(collection_frequencies.values()) #get all counts of terms\n",
    "    query_ids = [token2id.get(query_token,0) for query_token in index.tokenize(query)] #get ids for all the words\n",
    "    query_ids = [word_id for word_id in query_ids if word_id > 0] #remove stop words  \n",
    "    for word_id in query_ids:\n",
    "        try:\n",
    "            word_prob = (1-lamb)*(inverted_index[word_id][int_document_id]/doc_length)\n",
    "        except:\n",
    "            word_prob = 0\n",
    "        word_prob += lamb*(collection_frequencies[word_id]/col_length)\n",
    "        query_prob *= word_prob \n",
    "    return query_prob\n",
    "\n",
    "print(JelinekMercer(test_document_id, test_query, collection_frequencies))\n",
    "\n",
    "run_retrieval('JelinekMercer', JelinekMercer)"
   ]
  },
  {
   "cell_type": "markdown",
   "metadata": {},
   "source": [
    "Command for command line: ./trec_eval -m map -m P.5 -m ndcg -m recall.1000 qrel_test JelinekMercer.run\n",
    "\n",
    "map                   \tall\t0.5604\n",
    "\n",
    "P_5                   \tall\t0.7000\n",
    "\n",
    "recall_1000           \tall\t0.9347\n",
    "\n",
    "ndcg                  \tall\t0.8399"
   ]
  },
  {
   "cell_type": "code",
   "execution_count": 15,
   "metadata": {},
   "outputs": [
    {
     "name": "stdout",
     "output_type": "stream",
     "text": [
      "South African Sanctions [54, 846, 2208]\n",
      "4.863368231857866e-09\n"
     ]
    }
   ],
   "source": [
    "test_query = queries['52']\n",
    "test_document_id = 1\n",
    "\n",
    "def Dirichlet(int_document_id, query, collection_frequencies):\n",
    "    mu = 500\n",
    "    query_prob = 1\n",
    "    doc_length = len([i for i in index.document(int_document_id)[1] if i >0]) #get document length of non stopwords\n",
    "    col_length = sum(collection_frequencies.values()) #get all counts of terms\n",
    "    query_ids = [token2id.get(query_token,0) for query_token in index.tokenize(query)] #get ids for all the words\n",
    "    query_ids = [word_id for word_id in query_ids if word_id > 0] #remove stop words\n",
    "    print(query,query_ids)    \n",
    "    for word_id in query_ids:\n",
    "        try:\n",
    "            word_prob = (doc_length/(mu+doc_length))*(inverted_index[word_id][int_document_id]/doc_length)\n",
    "        except:\n",
    "            word_prob = 0\n",
    "        word_prob += (mu/(mu+doc_length))*(collection_frequencies[word_id]/col_length)\n",
    "        query_prob *= word_prob \n",
    "    return query_prob\n",
    "\n",
    "print(Dirichlet(test_document_id, test_query, collection_frequencies))"
   ]
  },
  {
   "cell_type": "code",
   "execution_count": 16,
   "metadata": {},
   "outputs": [
    {
     "name": "stdout",
     "output_type": "stream",
     "text": [
      "South African Sanctions [54, 846, 2208]\n",
      "7.01301968152519e-10\n"
     ]
    }
   ],
   "source": [
    "test_query = queries['52']\n",
    "test_document_id = 1\n",
    "\n",
    "def AbsoluteDiscounting(int_document_id, query, collection_frequencies):\n",
    "    delta = 0.5\n",
    "    query_prob = 1\n",
    "    doc_length = len([i for i in index.document(int_document_id)[1] if i >0]) #get document length of non stopwords\n",
    "    col_length = sum(collection_frequencies.values()) #get all counts of terms\n",
    "    doc_unique_length = len([i for i in np.unique(example_document[int_document_id]) if i >0])\n",
    "    sigma = delta*(doc_unique_length/doc_length)    \n",
    "    query_ids = [token2id.get(query_token,0) for query_token in index.tokenize(query)] #get ids for all the words\n",
    "    query_ids = [word_id for word_id in query_ids if word_id > 0] #remove stop words\n",
    "    print(query,query_ids)    \n",
    "    for word_id in query_ids:\n",
    "        try:\n",
    "            word_prob = max(inverted_index[word_id][int_document_id]-delta,0)/doc_length\n",
    "        except:\n",
    "            word_prob = 0\n",
    "        word_prob += sigma*(collection_frequencies[word_id]/col_length)\n",
    "        query_prob *= word_prob \n",
    "    return query_prob\n",
    "\n",
    "from itertools import chainprint(AbsoluteDiscounting(test_document_id, test_query, collection_frequencies))"
   ]
  },
  {
   "cell_type": "code",
   "execution_count": 59,
   "metadata": {},
   "outputs": [
    {
     "data": {
      "text/plain": [
       "0.003154641556015966"
      ]
     },
     "execution_count": 59,
     "metadata": {},
     "output_type": "execute_result"
    }
   ],
   "source": [
    "from itertools import chain\n",
    "\n",
    "def plm(int_document_id, query, position,kernel):\n",
    "    sigma = 50\n",
    "    score = 0\n",
    "    tf_list = []\n",
    "    denom = 0\n",
    "    unique_query_terms = set(chain(*(query.split() for line in query if line)))\n",
    "    unique_query_term_ids = [token2id[term.lower()] for term in unique_query_terms]\n",
    "    _, doc_token_ids = index.document(int_document_id)\n",
    "\n",
    "    for i in range(0,len(doc_token_ids)):\n",
    "        if doc_token_ids[i] in unique_query_term_ids:\n",
    "            tf_list.append(1)\n",
    "        else:\n",
    "            tf_list.append(0)\n",
    "    \n",
    "    if kernel == 'Gaussian':\n",
    "        for i in range(0,len(tf_list)):\n",
    "            score += tf_list[i]*np.exp(-(i-position)**2/(2*sigma**2))\n",
    "            denom += 1*np.exp(-(i-position)**2/(2*sigma**2))\n",
    "    \n",
    "    if kernel == 'Triangle':\n",
    "        for i in range(0,len(tf_list)):\n",
    "            if sigma > abs(position-i):\n",
    "                a = 0\n",
    "            else:\n",
    "                a = 1-(abs(position-i)/sigma)\n",
    "        score += tf_list[i]*a\n",
    "        denom += 1*np.exp(-(position-i)**2/(2*sigma**2))\n",
    "    if kernel == 'Hamming':\n",
    "        for i in range(0,len(tf_list)):\n",
    "            if sigma > abs(position-i):\n",
    "                a = 0\n",
    "            else:\n",
    "                a = 1/2*(1+np.cos(abs(position-i)*np.pi/sigma))\n",
    "        score += tf_list[i]*a\n",
    "        denom += 1*np.exp(-(position-i)**2/(2*sigma**2))\n",
    "    if kernel == 'Circle':\n",
    "        for i in range(0,len(tf_list)):\n",
    "            if sigma > abs(position-i):\n",
    "                a = 0\n",
    "            else:\n",
    "                a = np.sqrt(1-(abs(position-i)/sigma)**2)\n",
    "        score += tf_list[i]*a\n",
    "        denom += 1*np.exp(-(position-i)**2/(2*sigma**2))\n",
    "    return score/denom\n",
    "\n",
    "test_query = queries['52']\n",
    "plm(9559,test_query,20,'Gaussian')"
   ]
  },
  {
   "cell_type": "markdown",
   "metadata": {},
   "source": [
    "### Task 2: Latent Semantic Models (LSMs) [15 points] ###\n",
    "\n",
    "In this task you will experiment with applying distributional semantics methods ([LSI](http://lsa3.colorado.edu/papers/JASIS.lsi.90.pdf) **[5 points]** and [LDA](https://www.cs.princeton.edu/~blei/papers/BleiNgJordan2003.pdf) **[5 points]**) for retrieval.\n",
    "\n",
    "You do not need to implement LSI or LDA on your own. Instead, you can use [gensim](http://radimrehurek.com/gensim/index.html). An example on how to integrate Pyndri with Gensim for word2vec can be found [here](https://github.com/cvangysel/pyndri/blob/master/examples/word2vec.py). For the remaining latent vector space models, you will need to implement connector classes (such as `IndriSentences`) by yourself.\n",
    "\n",
    "In order to use a latent semantic model for retrieval, you need to:\n",
    "   * build a representation of the query **q**,\n",
    "   * build a representation of the document **d**,\n",
    "   * calculate the similarity between **q** and **d** (e.g., cosine similarity, KL-divergence).\n",
    "     \n",
    "The exact implementation here depends on the latent semantic model you are using. \n",
    "   \n",
    "Each of these LSMs come with various hyperparameters to tune. Make a choice on the parameters, and explicitly mention the reasons that led you to these decisions. You can use the validation set to optimize hyper parameters you see fit; motivate your decisions. In addition, mention clearly how the query/document representations were constructed for each LSM and explain your choices.\n",
    "\n",
    "In this experiment, you will first obtain an initial top-1000 ranking for each query using TF-IDF in **Task 1**, and then re-rank the documents using the LSMs. Use TREC Eval to obtain the results and report on `NDCG@10`, Mean Average Precision (`MAP@1000`), `Precision@5` and `Recall@1000`.\n",
    "\n",
    "Perform significance testing **[5 points]** (similar as in Task 1) in the class of semantic matching methods."
   ]
  },
  {
   "cell_type": "code",
   "execution_count": 18,
   "metadata": {
    "collapsed": true
   },
   "outputs": [],
   "source": [
    "from gensim.models.keyedvectors import KeyedVectors\n",
    "import pyndri.compat\n",
    "import gensim\n",
    "from gensim import corpora, models"
   ]
  },
  {
   "cell_type": "markdown",
   "metadata": {
    "collapsed": true
   },
   "source": [
    "## TRAINING"
   ]
  },
  {
   "cell_type": "code",
   "execution_count": 19,
   "metadata": {
    "collapsed": true
   },
   "outputs": [],
   "source": [
    "# Training is done by creating a very large BOW representation for all the documents in the collection\n",
    "# These models are saved, so training has to be done only once. "
   ]
  },
  {
   "cell_type": "code",
   "execution_count": 20,
   "metadata": {},
   "outputs": [
    {
     "ename": "NameError",
     "evalue": "name 'int_doc_ID' is not defined",
     "output_type": "error",
     "traceback": [
      "\u001b[0;31m---------------------------------------------------------------------------\u001b[0m",
      "\u001b[0;31mNameError\u001b[0m                                 Traceback (most recent call last)",
      "\u001b[0;32m<ipython-input-20-dcd6a65c86dd>\u001b[0m in \u001b[0;36m<module>\u001b[0;34m()\u001b[0m\n\u001b[1;32m     14\u001b[0m     \u001b[0;32mreturn\u001b[0m \u001b[0mbow_corpus\u001b[0m\u001b[0;34m,\u001b[0m \u001b[0mid2token\u001b[0m\u001b[0;34m\u001b[0m\u001b[0m\n\u001b[1;32m     15\u001b[0m \u001b[0;34m\u001b[0m\u001b[0m\n\u001b[0;32m---> 16\u001b[0;31m \u001b[0mcorpus\u001b[0m\u001b[0;34m,\u001b[0m \u001b[0mid2token\u001b[0m \u001b[0;34m=\u001b[0m \u001b[0mdocument_bow\u001b[0m\u001b[0;34m(\u001b[0m\u001b[0;34m)\u001b[0m\u001b[0;34m\u001b[0m\u001b[0m\n\u001b[0m",
      "\u001b[0;32m<ipython-input-20-dcd6a65c86dd>\u001b[0m in \u001b[0;36mdocument_bow\u001b[0;34m()\u001b[0m\n\u001b[1;32m      7\u001b[0m \u001b[0;34m\u001b[0m\u001b[0m\n\u001b[1;32m      8\u001b[0m     \u001b[0;32mfor\u001b[0m \u001b[0mi\u001b[0m \u001b[0;32min\u001b[0m \u001b[0mrange\u001b[0m\u001b[0;34m(\u001b[0m\u001b[0mnum_documents\u001b[0m\u001b[0;34m)\u001b[0m\u001b[0;34m:\u001b[0m\u001b[0;34m\u001b[0m\u001b[0m\n\u001b[0;32m----> 9\u001b[0;31m         \u001b[0m_\u001b[0m \u001b[0;34m,\u001b[0m \u001b[0mdoc\u001b[0m \u001b[0;34m=\u001b[0m \u001b[0mindex\u001b[0m\u001b[0;34m.\u001b[0m\u001b[0mdocument\u001b[0m\u001b[0;34m(\u001b[0m\u001b[0mint_doc_ID\u001b[0m\u001b[0;34m)\u001b[0m\u001b[0;34m\u001b[0m\u001b[0m\n\u001b[0m\u001b[1;32m     10\u001b[0m         \u001b[0mdoc\u001b[0m \u001b[0;34m=\u001b[0m \u001b[0;34m[\u001b[0m\u001b[0mid2token\u001b[0m\u001b[0;34m[\u001b[0m\u001b[0mword_id\u001b[0m\u001b[0;34m]\u001b[0m \u001b[0;32mfor\u001b[0m \u001b[0mword_id\u001b[0m \u001b[0;32min\u001b[0m \u001b[0mdoc\u001b[0m \u001b[0;32mif\u001b[0m \u001b[0mword_id\u001b[0m \u001b[0;34m>\u001b[0m \u001b[0;36m0\u001b[0m\u001b[0;34m]\u001b[0m\u001b[0;34m\u001b[0m\u001b[0m\n\u001b[1;32m     11\u001b[0m         \u001b[0mdocuments_list\u001b[0m\u001b[0;34m.\u001b[0m\u001b[0mappend\u001b[0m\u001b[0;34m(\u001b[0m\u001b[0mdoc\u001b[0m\u001b[0;34m)\u001b[0m\u001b[0;34m\u001b[0m\u001b[0m\n",
      "\u001b[0;31mNameError\u001b[0m: name 'int_doc_ID' is not defined"
     ]
    }
   ],
   "source": [
    "# A function that returns a BOW representation of the entire document set (160k documents)\n",
    "# It loops through al the documents, and appends them to a list\n",
    "def document_bow():\n",
    "    dictionary = pyndri.extract_dictionary(index) \n",
    "    _, id2token, _ = index.get_dictionary() # Only id2token is necessary\n",
    "    documents_list = [] # The list that all the documents will be appended to\n",
    "    \n",
    "    for i in range(num_documents):\n",
    "        _ , doc = index.document(int_doc_ID)\n",
    "        doc = [id2token[word_id] for word_id in doc if word_id > 0]\n",
    "        documents_list.append(doc)\n",
    "        \n",
    "    bow_corpus = [dictionary.doc2bow(text) for text in documents_list]\n",
    "    return bow_corpus, id2token\n",
    "\n",
    "corpus, id2token = document_bow()"
   ]
  },
  {
   "cell_type": "code",
   "execution_count": null,
   "metadata": {
    "collapsed": true
   },
   "outputs": [],
   "source": [
    "# Train LDA-model\n",
    "num_topics = 10\n",
    "lda = gensim.models.ldamodel.LdaModel(corpus, num_topics=num_topics, id2word = id2token, passes=15)\n",
    "lda.save('LDA')"
   ]
  },
  {
   "cell_type": "code",
   "execution_count": null,
   "metadata": {
    "collapsed": true
   },
   "outputs": [],
   "source": [
    "# Train LSI-model\n",
    "num_topics = 100\n",
    "lsi = gensim.models.lsimodel.LsiModel(corpus=IndriBow(index,docs_idx), id2word=id2token, num_topics=num_topics)\n",
    "lsi.save('LSI')"
   ]
  },
  {
   "cell_type": "markdown",
   "metadata": {},
   "source": [
    "### Task 3:  Word embeddings for ranking [20 points] (open-ended) ###\n",
    "\n",
    "First create word embeddings on the corpus we provided using [word2vec](http://arxiv.org/abs/1411.2738) -- [gensim implementation](https://radimrehurek.com/gensim/models/word2vec.html). You should extract the indexed documents using pyndri and provide them to gensim for training a model (see example [here](https://github.com/nickvosk/pyndri/blob/master/examples/word2vec.py)).\n",
    "   \n",
    "This is an open-ended task. It is left up you to decide how you will combine word embeddings to derive query and document representations. Note that since we provide the implementation for training word2vec, you will be graded based on your creativity on combining word embeddings for building query and document representations.\n",
    "\n",
    "Note: If you want to experiment with pre-trained word embeddings on a different corpus, you can use the word embeddings we provide alongside the assignment (./data/reduced_vectors_google.txt.tar.gz). These are the [google word2vec word embeddings](https://code.google.com/archive/p/word2vec/), reduced to only the words that appear in the document collection we use in this assignment."
   ]
  },
  {
   "cell_type": "code",
   "execution_count": null,
   "metadata": {
    "collapsed": true
   },
   "outputs": [],
   "source": [
    "def load_word2vec():\n",
    "    word_vectors = KeyedVectors.load_word2vec_format('reduced_vectors_google.txt', binary=False)\n",
    "    \n",
    "    return word_vectors\n",
    "\n",
    "word_vectors = load_word2vec()"
   ]
  },
  {
   "cell_type": "markdown",
   "metadata": {},
   "source": [
    "### Task 4: Learning to rank (LTR) [15 points] (open-ended) ###\n",
    "\n",
    "In this task you will get an introduction into learning to rank for information retrieval.\n",
    "\n",
    "You can explore different ways for devising features for the model. Obviously, you can use the retrieval methods you implemented in Task 1, Task 2 and Task 3 as features. Think about other features you can use (e.g. query/document length). Creativity on devising new features and providing motivation for them will be taken into account when grading.\n",
    "\n",
    "For every query, first create a document candidate set using the top-1000 documents using TF-IDF, and subsequently compute features given a query and a document. Note that the feature values of different retrieval methods are likely to be distributed differently.\n",
    "\n",
    "You are adviced to start some pointwise learning to rank algorithm e.g. logistic regression, implemented in [scikit-learn](http://scikit-learn.org/stable/modules/generated/sklearn.linear_model.LogisticRegression.html).\n",
    "Train your LTR model using 10-fold cross validation on the test set. More advanced learning to rank algorithms will be appreciated when grading."
   ]
  },
  {
   "cell_type": "code",
   "execution_count": null,
   "metadata": {
    "collapsed": true
   },
   "outputs": [],
   "source": []
  },
  {
   "cell_type": "markdown",
   "metadata": {
    "collapsed": true
   },
   "source": [
    "### Task 4: Write a report [15 points; instant FAIL if not provided] ###\n",
    "\n",
    "The report should be a PDF file created using the [sigconf ACM template](https://www.acm.org/publications/proceedings-template) and will determine a significant part of your grade.\n",
    "\n",
    "   * It should explain what you have implemented, motivate your experiments and detail what you expect to learn from them. **[10 points]**\n",
    "   * Lastly, provide a convincing analysis of your results and conclude the report accordingly. **[10 points]**\n",
    "      * Do all methods perform similarly on all queries? Why?\n",
    "      * Is there a single retrieval model that outperforms all other retrieval models (i.e., silver bullet)?\n",
    "      * ...\n",
    "\n",
    "**Hand in the report and your self-contained implementation source files.** Only send us the files that matter, organized in a well-documented zip/tgz file with clear instructions on how to reproduce your results. That is, we want to be able to regenerate all your results with minimal effort. You can assume that the index and ground-truth information is present in the same file structure as the one we have provided.\n"
   ]
  },
  {
   "cell_type": "code",
   "execution_count": null,
   "metadata": {
    "collapsed": true
   },
   "outputs": [],
   "source": []
  }
 ],
 "metadata": {
  "anaconda-cloud": {},
  "kernelspec": {
   "display_name": "Python 3",
   "language": "python",
   "name": "python3"
  },
  "language_info": {
   "codemirror_mode": {
    "name": "ipython",
    "version": 3
   },
   "file_extension": ".py",
   "mimetype": "text/x-python",
   "name": "python",
   "nbconvert_exporter": "python",
   "pygments_lexer": "ipython3",
   "version": "3.5.2"
  }
 },
 "nbformat": 4,
 "nbformat_minor": 1
}
