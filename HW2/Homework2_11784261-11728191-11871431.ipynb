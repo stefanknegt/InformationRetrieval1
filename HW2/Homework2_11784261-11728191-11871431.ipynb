{
 "cells": [
  {
   "cell_type": "markdown",
   "metadata": {},
   "source": [
    "# Information Retrieval 1#\n",
    "## Assignment 2: Retrieval models [100 points] ##"
   ]
  },
  {
   "cell_type": "markdown",
   "metadata": {},
   "source": [
    "In this assignment you will get familiar with basic and advanced information retrieval concepts. You will implement different information retrieval ranking models and evaluate their performance.\n",
    "\n",
    "We provide you with a Indri index. To query the index, you'll use a Python package ([pyndri](https://github.com/cvangysel/pyndri)) that allows easy access to the underlying document statistics.\n",
    "\n",
    "For evaluation you'll use the [TREC Eval](https://github.com/usnistgov/trec_eval) utility, provided by the National Institute of Standards and Technology of the United States. TREC Eval is the de facto standard way to compute Information Retrieval measures and is frequently referenced in scientific papers.\n",
    "\n",
    "This is a **groups-of-three assignment**, the deadline is **Wednesday, January 31st**. Code quality, informative comments and convincing analysis of the results will be considered when grading. Submission should be done through blackboard, questions can be asked on the course [Piazza](piazza.com/university_of_amsterdam/spring2018/52041inr6y/home).\n",
    "\n",
    "### Technicalities (must-read!) ###\n",
    "\n",
    "The assignment directory is organized as follows:\n",
    "   * `./assignment.ipynb` (this file): the description of the assignment.\n",
    "   * `./index/`: the index we prepared for you.\n",
    "   * `./ap_88_90/`: directory with ground-truth and evaluation sets:\n",
    "      * `qrel_test`: test query relevance collection (**test set**).\n",
    "      * `qrel_validation`: validation query relevance collection (**validation set**).\n",
    "      * `topics_title`: semicolon-separated file with query identifiers and terms.\n",
    "\n",
    "You will need the following software packages (tested with Python 3.5 inside [Anaconda](https://conda.io/docs/user-guide/install/index.html)):\n",
    "   * Python 3.5 and Jupyter\n",
    "   * Indri + Pyndri (Follow the installation instructions [here](https://github.com/nickvosk/pyndri/blob/master/README.md))\n",
    "   * gensim [link](https://radimrehurek.com/gensim/install.html)\n",
    "   * TREC Eval [link](https://github.com/usnistgov/trec_eval)"
   ]
  },
  {
   "cell_type": "markdown",
   "metadata": {},
   "source": [
    "### TREC Eval primer ###\n",
    "The TREC Eval utility can be downloaded and compiled as follows:\n",
    "\n",
    "    git clone https://github.com/usnistgov/trec_eval.git\n",
    "    cd trec_eval\n",
    "    make\n",
    "\n",
    "TREC Eval computes evaluation scores given two files: ground-truth information regarding relevant documents, named *query relevance* or *qrel*, and a ranking of documents for a set of queries, referred to as a *run*. The *qrel* will be supplied by us and should not be changed. For every retrieval model (or combinations thereof) you will generate a run of the top-1000 documents for every query. The format of the *run* file is as follows:\n",
    "\n",
    "    $query_identifier Q0 $document_identifier $rank_of_document_for_query $query_document_similarity $run_identifier\n",
    "    \n",
    "where\n",
    "   * `$query_identifier` is the unique identifier corresponding to a query (usually this follows a sequential numbering).\n",
    "   * `Q0` is a legacy field that you can ignore.\n",
    "   * `$document_identifier` corresponds to the unique identifier of a document (e.g., APXXXXXXX where AP denotes the collection and the Xs correspond to a unique numerical identifier).\n",
    "   * `$rank_of_document_for_query` denotes the rank of the document for the particular query. This field is ignored by TREC Eval and is only maintained for legacy support. The ranks are computed by TREC Eval itself using the `$query_document_similarity` field (see next). However, it remains good practice to correctly compute this field.\n",
    "   * `$query_document_similarity` is a score indicating the similarity between query and document where a higher score denotes greater similarity.\n",
    "   * `$run_identifier` is an identifier of the run. This field is for your own convenience and has no purpose beyond bookkeeping.\n",
    "   \n",
    "For example, say we have two queries: `Q1` and `Q2` and we rank three documents (`DOC1`, `DOC2`, `DOC3`). For query `Q1`, we find the following similarity scores `score(Q1, DOC1) = 1.0`, `score(Q1, DOC2) = 0.5`, `score(Q1, DOC3) = 0.75`; and for `Q2`: `score(Q2, DOC1) = -0.1`, `score(Q2, DOC2) = 1.25`, `score(Q1, DOC3) = 0.0`. We can generate run using the following snippet:"
   ]
  },
  {
   "cell_type": "code",
   "execution_count": 2,
   "metadata": {
    "scrolled": false
   },
   "outputs": [
    {
     "name": "stdout",
     "output_type": "stream",
     "text": [
      "Q1 Q0 DOC1 1 1.0 example\n",
      "Q1 Q0 DOC3 2 0.75 example\n",
      "Q1 Q0 DOC2 3 0.5 example\n",
      "Q2 Q0 DOC2 1 1.25 example\n",
      "Q2 Q0 DOC3 2 0.0 example\n",
      "Q2 Q0 DOC1 3 -0.1 example\n"
     ]
    }
   ],
   "source": [
    "import logging\n",
    "import sys\n",
    "import os\n",
    "\n",
    "def write_run(model_name, data, out_f,\n",
    "              max_objects_per_query=sys.maxsize,\n",
    "              skip_sorting=False):\n",
    "    \"\"\"\n",
    "    Write a run to an output file.\n",
    "    Parameters:\n",
    "        - model_name: identifier of run.\n",
    "        - data: dictionary mapping topic_id to object_assesments;\n",
    "            object_assesments is an iterable (list or tuple) of\n",
    "            (relevance, object_id) pairs.\n",
    "            The object_assesments iterable is sorted by decreasing order.\n",
    "        - out_f: output file stream.\n",
    "        - max_objects_per_query: cut-off for number of objects per query.\n",
    "    \"\"\"\n",
    "    for subject_id, object_assesments in data.items():\n",
    "        if not object_assesments:\n",
    "            logging.warning('Received empty ranking for %s; ignoring.',\n",
    "                            subject_id)\n",
    "\n",
    "            continue\n",
    "\n",
    "        #Probe types, to make sure everything goes alright.\n",
    "        assert isinstance(object_assesments[0][0], float) or \\\n",
    "             isinstance(object_assesments[0][0], np.float32)\n",
    "        assert isinstance(object_assesments[0][1], str) or \\\n",
    "            isinstance(object_assesments[0][1], bytes)\n",
    "\n",
    "        if not skip_sorting:\n",
    "            object_assesments = sorted(object_assesments, reverse=True)\n",
    "\n",
    "        if max_objects_per_query < sys.maxsize:\n",
    "            object_assesments = object_assesments[:max_objects_per_query]\n",
    "\n",
    "        if isinstance(subject_id, bytes):\n",
    "            subject_id = subject_id.decode('utf8')\n",
    "\n",
    "        for rank, (relevance, object_id) in enumerate(object_assesments):\n",
    "            if isinstance(object_id, bytes):\n",
    "                object_id = object_id.decode('utf8')\n",
    "\n",
    "            out_f.write(\n",
    "                '{subject} Q0 {object} {rank} {relevance} '\n",
    "                '{model_name}\\n'.format(\n",
    "                    subject=subject_id,\n",
    "                    object=object_id,\n",
    "                    rank=rank + 1,\n",
    "                    relevance=relevance,\n",
    "                    model_name=model_name))\n",
    "            \n",
    "# The following writes the run to standard output.\n",
    "# In your code, you should write the runs to local\n",
    "# storage in order to pass them to trec_eval.\n",
    "write_run(\n",
    "    model_name='example',\n",
    "    data={\n",
    "        'Q1': ((1.0, 'DOC1'), (0.5, 'DOC2'), (0.75, 'DOC3')),\n",
    "        'Q2': ((-0.1, 'DOC1'), (1.25, 'DOC2'), (0.0, 'DOC3')),\n",
    "    },\n",
    "    out_f=sys.stdout,\n",
    "    max_objects_per_query=1000)"
   ]
  },
  {
   "cell_type": "markdown",
   "metadata": {},
   "source": [
    "Now, imagine that we know that `DOC1` is relevant and `DOC3` is non-relevant for `Q1`. In addition, for `Q2` we only know of the relevance of `DOC3`. The query relevance file looks like:\n",
    "\n",
    "    Q1 0 DOC1 1\n",
    "    Q1 0 DOC3 0\n",
    "    Q2 0 DOC3 1\n",
    "    \n",
    "We store the run and qrel in files `example.run` and `example.qrel` respectively on disk. We can now use TREC Eval to compute evaluation measures. In this example, we're only interested in Mean Average Precision and we'll only show this below for brevity. However, TREC Eval outputs much more information such as NDCG, recall, precision, etc.\n",
    "\n",
    "    $ trec_eval -m all_trec -q example.qrel example.run | grep -E \"^map\\s\"\n",
    "    > map                   \tQ1\t1.0000\n",
    "    > map                   \tQ2\t0.5000\n",
    "    > map                   \tall\t0.7500\n",
    "    \n",
    "Now that we've discussed the output format of rankings and how you can compute evaluation measures from these rankings, we'll now proceed with an overview of the indexing framework you'll use."
   ]
  },
  {
   "cell_type": "markdown",
   "metadata": {},
   "source": [
    "### Pyndri primer ###\n",
    "For this assignment you will use [Pyndri](https://github.com/cvangysel/pyndri) [[1](https://arxiv.org/abs/1701.00749)], a python interface for [Indri](https://www.lemurproject.org/indri.php). We have indexed the document collection and you can query the index using Pyndri. We will start by giving you some examples of what Pyndri can do:\n",
    "\n",
    "First we read the document collection index with Pyndri:"
   ]
  },
  {
   "cell_type": "code",
   "execution_count": 3,
   "metadata": {
    "collapsed": true,
    "scrolled": true
   },
   "outputs": [],
   "source": [
    "import pyndri\n",
    "\n",
    "index = pyndri.Index('index/')"
   ]
  },
  {
   "cell_type": "markdown",
   "metadata": {},
   "source": [
    "The loaded index can be used to access a collection of documents in an easy manner. We'll give you some examples to get some idea of what it can do, it is up to you to figure out how to use it for the remainder of the assignment.\n",
    "\n",
    "First let's look at the number of documents, since Pyndri indexes the documents using incremental identifiers we can simply take the lowest index and the maximum document and consider the difference:"
   ]
  },
  {
   "cell_type": "code",
   "execution_count": 4,
   "metadata": {},
   "outputs": [
    {
     "name": "stdout",
     "output_type": "stream",
     "text": [
      "There are 164597 documents in this collection.\n"
     ]
    }
   ],
   "source": [
    "print(\"There are %d documents in this collection.\" % (index.maximum_document() - index.document_base()))"
   ]
  },
  {
   "cell_type": "markdown",
   "metadata": {},
   "source": [
    "Let's take the first document out of the collection and take a look at it:"
   ]
  },
  {
   "cell_type": "code",
   "execution_count": 5,
   "metadata": {
    "scrolled": true
   },
   "outputs": [
    {
     "name": "stdout",
     "output_type": "stream",
     "text": [
      "('AP890425-0001', (1360, 192, 363, 0, 880, 0, 200, 0, 894, 412, 92160, 3, 192, 0, 363, 34, 1441, 0, 174134, 0, 200, 0, 894, 412, 2652, 0, 810, 107, 49, 4903, 420, 0, 1, 48, 35, 489, 0, 35, 687, 192, 243, 0, 249311, 1877, 0, 1651, 1174, 0, 2701, 117, 412, 0, 810, 391, 245233, 1225, 5838, 16, 0, 233156, 3496, 0, 393, 17, 0, 2435, 4819, 930, 0, 0, 200, 0, 894, 0, 22, 398, 145, 0, 3, 271, 115, 0, 1176, 2777, 292, 0, 725, 192, 0, 0, 50046, 0, 1901, 1130, 0, 192, 0, 408, 0, 243779, 0, 0, 553, 192, 0, 363, 0, 3747, 0, 0, 0, 0, 1176, 0, 1239, 0, 0, 1115, 17, 0, 0, 585, 192, 1963, 0, 0, 412, 54356, 0, 773, 0, 0, 0, 192, 0, 0, 1130, 0, 363, 0, 545, 192, 0, 1174, 1901, 1130, 0, 4, 398, 145, 39, 0, 577, 0, 355, 0, 491, 0, 6025, 0, 0, 193156, 88, 34, 437, 0, 0, 1852, 0, 828, 0, 1588, 0, 0, 0, 2615, 0, 0, 107, 49, 420, 0, 0, 190, 7, 714, 2701, 0, 237, 192, 157, 0, 412, 34, 437, 0, 0, 200, 6025, 26, 0, 0, 0, 0, 363, 0, 22, 398, 145, 0, 200, 638, 126222, 6018, 0, 880, 0, 0, 161, 0, 0, 319, 894, 2701, 0, 0, 0, 301, 1200, 0, 363, 251, 430, 0, 207, 0, 76143, 1773, 0, 243779, 0, 0, 72030, 0, 55, 4903, 420, 0, 2701, 1496, 420, 0, 25480, 0, 420, 0, 0, 200, 0, 392, 2949, 0, 1738, 0, 61, 0, 71, 79, 0, 200, 903, 0, 188, 53, 6, 0, 476, 2, 0, 2028, 97, 334, 0, 0, 200, 178, 0, 0, 107, 49, 0, 214, 0, 0, 0, 114, 3866, 1505, 195, 79893, 574, 0, 198, 2160, 0, 192, 0, 420, 0, 384, 0, 2701, 0, 114, 6025, 1549, 74627, 0, 238, 0, 0, 0, 3729, 0, 192, 0, 79893, 0, 0, 729, 3141, 129, 0, 192, 196764, 39, 0, 0, 714, 63, 0, 55, 420, 3356, 0, 0, 117, 412, 0, 0, 79758, 0, 1901, 1130, 4067, 2133, 0, 0, 875, 72, 0, 0, 336, 2789, 0, 0, 25, 920, 121, 104, 0, 3162, 0, 0, 420, 0, 2178, 0, 0, 386, 192545, 159306, 0, 0, 0, 1914, 0, 200, 0, 1794, 0, 2654, 0, 0, 25480, 420, 0, 2795, 0, 0, 229690, 0, 32559, 0, 0, 392, 253919, 0, 0, 0, 0, 379, 0, 0, 114, 0, 553, 10, 0, 1128, 0, 23610, 248, 151, 0, 418, 0, 651, 0, 36, 0, 0, 645, 0, 0, 513, 0, 0, 25480, 420, 34, 0, 0, 0, 15, 0, 3348, 0, 3496, 0, 35, 687, 0, 1, 48, 0, 0, 2803, 0, 0, 714, 1274, 0, 114, 62, 1006, 70268, 1200, 2357, 0, 497, 0, 497, 125, 0, 913, 4647, 3985, 0, 0, 3370, 245233, 0, 0, 687, 0, 4, 1288, 0, 0, 0, 0, 715, 0, 0, 687, 583, 0, 0, 1627, 0, 0, 11, 357, 1359, 0, 849, 0, 0, 1518, 462, 245233, 0, 0, 0, 0, 0, 0, 171, 70268, 0))\n"
     ]
    }
   ],
   "source": [
    "example_document = index.document(index.document_base())\n",
    "print(example_document)"
   ]
  },
  {
   "cell_type": "markdown",
   "metadata": {},
   "source": [
    "Here we see a document consists of two things, a string representing the external document identifier and an integer list representing the identifiers of words that make up the document. Pyndri uses integer representations for words or terms, thus a token_id is an integer that represents a word whereas the token is the actual text of the word/term. Every id has a unique token and vice versa with the exception of stop words: words so common that there are uninformative, all of these receive the zero id.\n",
    "\n",
    "To see what some ids and their matching tokens we take a look at the dictionary of the index:"
   ]
  },
  {
   "cell_type": "code",
   "execution_count": 6,
   "metadata": {},
   "outputs": [
    {
     "name": "stdout",
     "output_type": "stream",
     "text": [
      "[(1, 'new'), (2, 'percent'), (3, 'two'), (4, '1'), (5, 'people'), (6, 'million'), (7, '000'), (8, 'government'), (9, 'president'), (10, 'years'), (11, 'state'), (12, '2'), (13, 'states'), (14, 'three'), (15, 'time')]\n"
     ]
    }
   ],
   "source": [
    "token2id, id2token, _ = index.get_dictionary()\n",
    "print(list(id2token.items())[:15])"
   ]
  },
  {
   "cell_type": "markdown",
   "metadata": {},
   "source": [
    "Using this dictionary we can see the tokens for the (non-stop) words in our example document:"
   ]
  },
  {
   "cell_type": "code",
   "execution_count": 7,
   "metadata": {},
   "outputs": [
    {
     "name": "stdout",
     "output_type": "stream",
     "text": [
      "['52', 'students', 'arrested', 'takeover', 'university', 'massachusetts', 'building', 'fifty', 'two', 'students', 'arrested', 'tuesday', 'evening', 'occupying', 'university', 'massachusetts', 'building', 'overnight', 'protest', 'defense', 'department', 'funded', 'research', 'new', 'york', 'city', 'thousands', 'city', 'college', 'students', 'got', 'unscheduled', 'holiday', 'demonstrators', 'occupied', 'campus', 'administration', 'building', 'protest', 'possible', 'tuition', 'increases', 'prompting', 'officials', 'suspend', 'classes', '60', 'police', 'riot', 'gear', 'arrived', 'university', 'massachusetts', '5', 'p', 'm', 'two', 'hours', 'later', 'bus', 'drove', 'away', '29', 'students', 'camped', 'memorial', 'hall', 'students', 'charged', 'trespassing', '23', 'students', 'arrested', 'lying', 'bus', 'prevent', 'leaving', 'police', '300', 'students', 'stood', 'building', 'chanting', 'looking', 'students', 'hall', 'arrested', '35', 'students', 'occupied', 'memorial', 'hall', '1', 'p', 'm', 'monday', 'declined', 'offer', 'meet', 'administrators', 'provosts', 'office', 'tuesday', 'morning', 'presented', 'list', 'demands', 'halt', 'defense', 'department', 'research', '25', '000', 'student', 'campus', '40', 'students', 'left', 'building', 'tuesday', 'morning', 'university', 'administrators', 'told', 'arrested', '5', 'p', 'm', 'university', 'spokeswoman', 'jeanne', 'hopkins', 'takeover', 'second', 'western', 'massachusetts', 'campus', 'seven', 'protesters', 'arrested', 'april', '19', 'charges', 'disorderly', 'conduct', 'trespassing', 'demonstrating', 'military', 'funded', 'research', 'campus', 'particularly', 'research', 'anthrax', 'research', 'university', 'non', 'classified', 'researchers', 'make', 'work', 'public', 'university', 'rules', '11', '6', 'million', '22', 'percent', 'grant', 'money', 'received', 'university', 'came', 'defense', 'department', '1988', 'school', 'chancellor', 'joseph', 'd', 'duffey', 'issued', 'statement', 'telling', 'students', 'research', 'continue', 'campus', 'school', 'administrators', 'decide', 'differently', 'policy', 'negotiated', 'students', 'duffey', 'latest', 'occupation', 'began', 'students', 'rallying', 'monday', 'student', 'union', 'military', 'research', 'marched', 'administration', 'building', 'ducked', 'memorial', 'hall', 'en', 'route', 'followed', 'members', 'local', 'chapter', 'american', 'friends', 'service', 'committee', 'contended', 'research', 'dangerous', 'town', 'promotes', 'militarism', 'banned', 'university', 'argued', 'purpose', 'anthrax', 'research', 'peaceful', 'strain', 'bacteria', 'non', 'virulent', 'study', 'school', '23', 'years', 'incident', 'amherst', 'health', 'board', 'scheduled', 'hearing', 'wednesday', 'question', 'safety', 'anthrax', 'research', 'tuesday', 'time', '1969', 'classes', 'city', 'college', 'new', 'york', 'canceled', 'student', 'protests', 'school', 'spokesman', 'charles', 'deciccio', 'protesters', 'demanding', 'face', 'face', 'meeting', 'gov', 'mario', 'cuomo', 'feared', 'tuition', 'college', '1', '250', 'increased', 'college', 'staff', 'reduced', 'state', 'budget', 'cuts', 'governor', 'immediate', 'comment', 'tuition', 'set', 'deciccio']\n"
     ]
    }
   ],
   "source": [
    "print([id2token[word_id] for word_id in example_document[1] if word_id > 0])"
   ]
  },
  {
   "cell_type": "markdown",
   "metadata": {},
   "source": [
    "The reverse can also be done, say we want to look for news about the \"University of Massachusetts\", the tokens of that query can be converted to ids using the reverse dictionary:"
   ]
  },
  {
   "cell_type": "code",
   "execution_count": 8,
   "metadata": {},
   "outputs": [
    {
     "name": "stdout",
     "output_type": "stream",
     "text": [
      "Query by tokens: ['university', '', 'massachusetts']\n",
      "Query by ids with stopwords: [200, 0, 894]\n",
      "Query by ids without stopwords: [200, 894]\n"
     ]
    }
   ],
   "source": [
    "query_tokens = index.tokenize(\"University of Massachusetts\")\n",
    "print(\"Query by tokens:\", query_tokens)\n",
    "query_id_tokens = [token2id.get(query_token,0) for query_token in query_tokens]\n",
    "print(\"Query by ids with stopwords:\", query_id_tokens)\n",
    "query_id_tokens = [word_id for word_id in query_id_tokens if word_id > 0]\n",
    "print(\"Query by ids without stopwords:\", query_id_tokens)"
   ]
  },
  {
   "cell_type": "markdown",
   "metadata": {},
   "source": [
    "Naturally we can now match the document and query in the id space, let's see how often a word from the query occurs in our example document:"
   ]
  },
  {
   "cell_type": "code",
   "execution_count": 9,
   "metadata": {},
   "outputs": [
    {
     "name": "stdout",
     "output_type": "stream",
     "text": [
      "Document AP890425-0001 has 13 word matches with query: \"university  massachusetts\".\n",
      "Document AP890425-0001 and query \"university  massachusetts\" have a 2.5% overlap.\n"
     ]
    }
   ],
   "source": [
    "matching_words = sum([True for word_id in example_document[1] if word_id in query_id_tokens])\n",
    "print(\"Document %s has %d word matches with query: \\\"%s\\\".\" % (example_document[0], matching_words, ' '.join(query_tokens)))\n",
    "print(\"Document %s and query \\\"%s\\\" have a %.01f%% overlap.\" % (example_document[0], ' '.join(query_tokens),matching_words/float(len(example_document[1]))*100))"
   ]
  },
  {
   "cell_type": "markdown",
   "metadata": {},
   "source": [
    "While this is certainly not everything Pyndri can do, it should give you an idea of how to use it. Please take a look at the [examples](https://github.com/cvangysel/pyndri) as it will help you a lot with this assignment.\n",
    "\n",
    "**CAUTION**: Avoid printing out the whole index in this Notebook as it will generate a lot of output and is likely to corrupt the Notebook."
   ]
  },
  {
   "cell_type": "markdown",
   "metadata": {},
   "source": [
    "### Parsing the query file\n",
    "You can parse the query file (`ap_88_89/topics_title`) using the following snippet:"
   ]
  },
  {
   "cell_type": "code",
   "execution_count": 10,
   "metadata": {},
   "outputs": [
    {
     "name": "stdout",
     "output_type": "stream",
     "text": [
      "OrderedDict([('51', 'Airbus Subsidies'), ('52', 'South African Sanctions'), ('53', 'Leveraged Buyouts'), ('54', 'Satellite Launch Contracts'), ('55', 'Insider Trading'), ('56', 'Prime (Lending) Rate Moves, Predictions'), ('57', 'MCI'), ('58', 'Rail Strikes'), ('59', 'Weather Related Fatalities'), ('60', 'Merit-Pay vs. Seniority'), ('61', 'Israeli Role in Iran-Contra Affair'), ('62', \"Military Coups D'etat\"), ('63', 'Machine Translation'), ('64', 'Hostage-Taking'), ('65', 'Information Retrieval Systems'), ('66', 'Natural Language Processing'), ('67', 'Politically Motivated Civil Disturbances'), ('68', 'Health Hazards from Fine-Diameter Fibers'), ('69', 'Attempts to Revive the SALT II Treaty'), ('70', 'Surrogate Motherhood'), ('71', 'Border Incursions'), ('72', 'Demographic Shifts in the U.S.'), ('73', 'Demographic Shifts across National Boundaries'), ('74', 'Conflicting Policy'), ('75', 'Automation'), ('76', 'U.S. Constitution - Original Intent'), ('77', 'Poaching'), ('78', 'Greenpeace'), ('79', 'FRG Political Party Positions'), ('80', '1988 Presidential Candidates Platforms'), ('81', 'Financial crunch for televangelists in the wake of the PTL scandal'), ('82', 'Genetic Engineering'), ('83', 'Measures to Protect the Atmosphere'), ('84', 'Alternative/renewable Energy Plant & Equipment Installation'), ('85', 'Official Corruption'), ('86', 'Bank Failures'), ('87', 'Criminal Actions Against Officers of Failed Financial Institutions'), ('88', 'Crude Oil Price Trends'), ('89', '\"Downstream\" Investments by OPEC Member States'), ('90', 'Data on Proven Reserves of Oil & Natural Gas Producers'), ('91', 'U.S. Army Acquisition of Advanced Weapons Systems'), ('92', 'International Military Equipment Sales'), ('93', 'What Backing Does the National Rifle Association Have?'), ('94', 'Computer-aided Crime'), ('95', 'Computer-aided Crime Detection'), ('96', 'Computer-Aided Medical Diagnosis'), ('97', 'Fiber Optics Applications'), ('98', 'Fiber Optics Equipment Manufacturers'), ('99', 'Iran-Contra Affair'), ('100', 'Controlling the Transfer of High Technology'), ('101', 'Design of the \"Star Wars\" Anti-missile Defense System'), ('102', \"Laser Research Applicable to the U.S.'s Strategic Defense Initiative\"), ('103', 'Welfare Reform'), ('104', 'Catastrophic Health Insurance'), ('105', '\"Black Monday\"'), ('106', 'U.S. Control of Insider Trading'), ('107', 'Japanese Regulation of Insider Trading'), ('108', 'Japanese Protectionist Measures'), ('109', 'Find Innovative Companies'), ('110', 'Black Resistance Against the South African Government'), ('111', 'Nuclear Proliferation'), ('112', 'Funding Biotechnology'), ('113', 'New Space Satellite Applications'), ('114', 'Non-commercial Satellite Launches'), ('115', 'Impact of the 1986 Immigration Law'), ('116', 'Generic Drug Substitutions'), ('117', 'Capacity of the U.S. Cellular Telephone Network'), ('118', 'International Terrorists'), ('119', 'Actions Against International Terrorists'), ('120', 'Economic Impact of International Terrorism'), ('121', 'Death from Cancer'), ('122', 'RDT&E of New Cancer Fighting Drugs'), ('123', 'Research into & Control of Carcinogens'), ('124', 'Alternatives to Traditional Cancer Therapies'), ('125', 'Anti-smoking Actions by Government'), ('126', 'Medical Ethics and Modern Technology'), ('127', 'U.S.-U.S.S.R. Arms Control Agreements'), ('128', 'Privatization of State Assets'), ('129', 'Soviet Spying on the U.S.'), ('130', 'Jewish Emigration and U.S.-USSR Relations'), ('131', 'McDonnell Douglas Contracts for Military Aircraft'), ('132', '\"Stealth\" Aircraft'), ('133', 'Hubble Space Telescope'), ('134', 'The Human Genome Project'), ('135', 'Possible Contributions of Gene Mapping to Medicine'), ('136', 'Diversification by Pacific Telesis'), ('137', 'Expansion in the U.S. Theme Park Industry'), ('138', 'Iranian Support for Lebanese Hostage-takers'), ('139', \"Iran's Islamic Revolution - Domestic and Foreign Social Consequences\"), ('140', 'Political Impact of Islamic Fundamentalism'), ('141', \"Japan's Handling of its Trade Surplus with the U.S.\"), ('142', 'Impact of Government Regulated Grain Farming on International Relations'), ('143', 'Why Protect U.S. Farmers?'), ('144', 'Management Problems at the United Nations'), ('145', 'Influence of the \"Pro-Israel Lobby\"'), ('146', 'Negotiating an End to the Nicaraguan Civil War'), ('147', 'Productivity Trends in the U.S. Economy'), ('148', 'Conflict in the Horn of Africa'), ('149', 'Industrial Espionage'), ('150', 'U.S. Political Campaign Financing'), ('151', 'Coping with overcrowded prisons'), ('152', 'Accusations of Cheating by Contractors on U.S. Defense Projects'), ('153', 'Insurance Coverage which pays for Long Term Care'), ('154', 'Oil Spills'), ('155', 'Right Wing Christian Fundamentalism in U.S.'), ('156', 'Efforts to enact Gun Control Legislation'), ('157', 'Causes and treatments of multiple sclerosis (MS)'), ('158', 'Term limitations for members of the U.S. Congress'), ('159', 'Electric Car Development'), ('160', 'Vitamins - The Cure for or Cause of Human Ailments'), ('161', 'Acid Rain'), ('162', 'Automobile Recalls'), ('163', 'Vietnam Veterans and Agent Orange'), ('164', 'Generic Drugs - Illegal Activities by Manufacturers'), ('165', 'Tobacco company advertising and the young'), ('166', 'Standardized testing and cultural bias'), ('167', 'Regulation of the showing of violence and explicit sex in motion picture theaters, on television, and on video cassettes.'), ('168', 'Financing AMTRAK'), ('169', 'Cost of Garbage/Trash Removal'), ('170', 'The Consequences of Implantation of Silicone Gel Breast Devices'), ('171', \"Use of Mutual Funds in an Individual's Retirement Strategy\"), ('172', 'The Effectiveness of Medical Products and Related Programs Utilized in the Cessation of Smoking.'), ('173', 'Smoking Bans'), ('174', 'Hazardous Waste Cleanup'), ('175', 'NRA Prevention of Gun Control Legislation'), ('176', 'Real-life private investigators'), ('177', 'English as the Official Language in U.S.'), ('178', 'Dog Maulings'), ('179', 'U. S. Restaurants in Foreign Lands'), ('180', 'Ineffectiveness of U.S. Embargoes/Sanctions'), ('181', 'Abuse of the Elderly by Family Members, and Medical and Nonmedical Personnel, and Initiatives Being Taken to Minimize This Mistreatment'), ('182', 'Commercial Overfishing Creates Food Fish Deficit'), ('183', 'Asbestos Related Lawsuits'), ('184', 'Corporate Pension Plans/Funds'), ('185', 'Reform of the U.S. Welfare System'), ('186', 'Difference of Learning Levels Among Inner City and More Suburban School Students'), ('187', 'Signs of the Demise of Independent Publishing'), ('188', 'Beachfront Erosion'), ('189', 'Real Motives for Murder'), ('190', 'Instances of Fraud Involving the Use of a Computer'), ('191', 'Efforts to Improve U.S. Schooling'), ('192', 'Oil Spill Cleanup'), ('193', 'Toys R Dangerous'), ('194', 'The Amount of Money Earned by Writers'), ('195', 'Stock Market Perturbations Attributable to Computer Initiated Trading'), ('196', 'School Choice Voucher System and its effects upon the entire U.S. educational program'), ('197', 'Reform of the jurisprudence system to stop juries from granting unreasonable monetary awards'), ('198', 'Gene Therapy and Its Benefits to Humankind'), ('199', 'Legality of Medically Assisted Suicides'), ('200', 'Impact of foreign textile imports on U.S. textile industry')])\n"
     ]
    }
   ],
   "source": [
    "import collections\n",
    "import io\n",
    "import logging\n",
    "import sys\n",
    "\n",
    "def parse_topics(file_or_files,\n",
    "                 max_topics=sys.maxsize, delimiter=';'):\n",
    "    assert max_topics >= 0 or max_topics is None\n",
    "\n",
    "    topics = collections.OrderedDict()\n",
    "\n",
    "    if not isinstance(file_or_files, list) and \\\n",
    "            not isinstance(file_or_files, tuple):\n",
    "        if hasattr(file_or_files, '__iter__'):\n",
    "            file_or_files = list(file_or_files)\n",
    "        else:\n",
    "            file_or_files = [file_or_files]\n",
    "\n",
    "    for f in file_or_files:\n",
    "        assert isinstance(f, io.IOBase)\n",
    "\n",
    "        for line in f:\n",
    "            assert(isinstance(line, str))\n",
    "\n",
    "            line = line.strip()\n",
    "\n",
    "            if not line:\n",
    "                continue\n",
    "\n",
    "            topic_id, terms = line.split(delimiter, 1)\n",
    "\n",
    "            if topic_id in topics and (topics[topic_id] != terms):\n",
    "                    logging.error('Duplicate topic \"%s\" (%s vs. %s).',\n",
    "                                  topic_id,\n",
    "                                  topics[topic_id],\n",
    "                                  terms)\n",
    "\n",
    "            topics[topic_id] = terms\n",
    "\n",
    "            if max_topics > 0 and len(topics) >= max_topics:\n",
    "                break\n",
    "\n",
    "    return topics\n",
    "\n",
    "with open('./ap_88_89/topics_title', 'r') as f_topics:\n",
    "    print(parse_topics([f_topics]))"
   ]
  },
  {
   "cell_type": "markdown",
   "metadata": {},
   "source": [
    "### Task 1: Implement and compare lexical IR methods [35 points] ### \n",
    "\n",
    "In this task you will implement a number of lexical methods for IR using the **Pyndri** framework. Then you will evaluate these methods on the dataset we have provided using **TREC Eval**.\n",
    "\n",
    "Use the **Pyndri** framework to get statistics of the documents (term frequency, document frequency, collection frequency; **you are not allowed to use the query functionality of Pyndri**) and implement the following scoring methods in **Python**:\n",
    "\n",
    "- [TF-IDF](http://nlp.stanford.edu/IR-book/html/htmledition/tf-idf-weighting-1.html) and \n",
    "- [BM25](http://nlp.stanford.edu/IR-book/html/htmledition/okapi-bm25-a-non-binary-model-1.html) with k1=1.2 and b=0.75. **[5 points]**\n",
    "- Language models ([survey](https://drive.google.com/file/d/0B-zklbckv9CHc0c3b245UW90NE0/view))\n",
    "    - Jelinek-Mercer (explore different values of 𝛌 in the range [0.1, 0.5, 0.9]). **[5 points]**\n",
    "    - Dirichlet Prior (explore different values of 𝛍 [500, 1000, 1500]). **[5 points]**\n",
    "    - Absolute discounting (explore different values of 𝛅 in the range [0.1, 0.5, 0.9]). **[5 points]**\n",
    "    - [Positional Language Models](http://sifaka.cs.uiuc.edu/~ylv2/pub/sigir09-plm.pdf) define a language model for each position of a document, and score a document based on the scores of its PLMs. The PLM is estimated based on propagated counts of words within a document through a proximity-based density function, which both captures proximity heuristics and achieves an effect of “soft” passage retrieval. Implement the PLM, all five kernels, but only the Best position strategy to score documents. Use 𝛔 equal to 50, and Dirichlet smoothing with 𝛍 optimized on the validation set (decide how to optimize this value yourself and motivate your decision in the report). **[10 points]**\n",
    "    \n",
    "Implement the above methods and report evaluation measures (on the test set) using the hyper parameter values you optimized on the validation set (also report the values of the hyper parameters). Use TREC Eval to obtain the results and report on `NDCG@10`, Mean Average Precision (`MAP@1000`), `Precision@5` and `Recall@1000`.\n",
    "\n",
    "For the language models, create plots showing `NDCG@10` with varying values of the parameters. You can do this by chaining small scripts using shell scripting (preferred) or execute trec_eval using Python's `subprocess`.\n",
    "\n",
    "Compute significance of the results using a [two-tailed paired Student t-test](https://docs.scipy.org/doc/scipy/reference/generated/scipy.stats.ttest_rel.html) **[5 points]**. Be wary of false rejection of the null hypothesis caused by the [multiple comparisons problem](https://en.wikipedia.org/wiki/Multiple_comparisons_problem). There are multiple ways to mitigate this problem and it is up to you to choose one.\n",
    "\n",
    "Analyse the results by identifying specific queries where different methods succeed or fail and discuss possible reasons that cause these differences. This is *very important* in order to understand who the different retrieval functions behave.\n",
    "\n",
    "**NOTE**: Don’t forget to use log computations in your calculations to avoid underflows. "
   ]
  },
  {
   "cell_type": "markdown",
   "metadata": {},
   "source": [
    "**IMPORTANT**: You should structure your code around the helper functions we provide below."
   ]
  },
  {
   "cell_type": "code",
   "execution_count": 11,
   "metadata": {},
   "outputs": [
    {
     "name": "stdout",
     "output_type": "stream",
     "text": [
      "Gathering statistics about 456 terms.\n",
      "Inverted index creation took 45.58629298210144 seconds.\n"
     ]
    }
   ],
   "source": [
    "import time\n",
    "start_time = time.time()\n",
    "with open('./ap_88_89/topics_title', 'r') as f_topics:\n",
    "    queries = parse_topics([f_topics])\n",
    "\n",
    "index = pyndri.Index('index/')\n",
    "\n",
    "num_documents = index.maximum_document() - index.document_base()\n",
    "\n",
    "dictionary = pyndri.extract_dictionary(index)\n",
    "\n",
    "tokenized_queries = {\n",
    "    query_id: [dictionary.translate_token(token)\n",
    "               for token in index.tokenize(query_string)\n",
    "               if dictionary.has_token(token)]\n",
    "    for query_id, query_string in queries.items()}\n",
    "\n",
    "query_term_ids = set(\n",
    "    query_term_id\n",
    "    for query_term_ids in tokenized_queries.values()\n",
    "    for query_term_id in query_term_ids)\n",
    "\n",
    "print('Gathering statistics about', len(query_term_ids), 'terms.')\n",
    "\n",
    "# inverted index creation.\n",
    "\n",
    "document_lengths = {}\n",
    "unique_terms_per_document = {}\n",
    "\n",
    "inverted_index = collections.defaultdict(dict)\n",
    "collection_frequencies = collections.defaultdict(int)\n",
    "\n",
    "total_terms = 0\n",
    "\n",
    "for int_doc_id in range(index.document_base(), index.maximum_document()):\n",
    "    ext_doc_id, doc_token_ids = index.document(int_doc_id)\n",
    "\n",
    "    document_bow = collections.Counter(\n",
    "        token_id for token_id in doc_token_ids\n",
    "        if token_id > 0)\n",
    "    document_length = sum(document_bow.values())\n",
    "\n",
    "    document_lengths[int_doc_id] = document_length\n",
    "    total_terms += document_length\n",
    "\n",
    "    unique_terms_per_document[int_doc_id] = len(document_bow)\n",
    "\n",
    "    for query_term_id in query_term_ids:\n",
    "        assert query_term_id is not None\n",
    "\n",
    "        document_term_frequency = document_bow.get(query_term_id, 0)\n",
    "\n",
    "        if document_term_frequency == 0:\n",
    "            continue\n",
    "\n",
    "        collection_frequencies[query_term_id] += document_term_frequency\n",
    "        inverted_index[query_term_id][int_doc_id] = document_term_frequency\n",
    "\n",
    "\n",
    "avg_doc_length = total_terms / num_documents\n",
    "print('Inverted index creation took', time.time() - start_time, 'seconds.')"
   ]
  },
  {
   "cell_type": "code",
   "execution_count": 12,
   "metadata": {},
   "outputs": [
    {
     "name": "stdout",
     "output_type": "stream",
     "text": [
      "We have  120  and  30  query ids for the test and valid sets.\n"
     ]
    }
   ],
   "source": [
    "test_query_ids = []\n",
    "with open('./ap_88_89/qrel_test', 'r') as test_queries:\n",
    "    for line in test_queries:\n",
    "        query_id = line.split(' ')[0]\n",
    "        if query_id not in test_query_ids:\n",
    "            test_query_ids.append(query_id)\n",
    "\n",
    "valid_query_ids = []\n",
    "with open('./ap_88_89/qrel_validation', 'r') as valid_queries:\n",
    "    for line in valid_queries:\n",
    "        query_id = line.split(' ')[0]\n",
    "        if query_id not in valid_query_ids:\n",
    "            valid_query_ids.append(query_id)\n",
    "            \n",
    "print('We have ',len(test_query_ids),' and ',len(valid_query_ids),' query ids for the test and valid sets.')"
   ]
  },
  {
   "cell_type": "code",
   "execution_count": 50,
   "metadata": {
    "collapsed": true
   },
   "outputs": [],
   "source": [
    "def run_retrieval(model_name,score_fn,plm_kernel=\"Gaussian\",mu=500):\n",
    "    \"\"\"\n",
    "    Runs a retrieval method for all the queries and writes the TREC-friendly results in a file.\n",
    "    \n",
    "    :param model_name: the name of the model (a string)\n",
    "    :param score_fn: the scoring function (a function - see below for an example) \n",
    "    \"\"\"\n",
    "    run_out_path = '{}.run'.format(model_name)\n",
    "\n",
    "    if os.path.exists(run_out_path):\n",
    "        print(\"File already exists\")\n",
    "        return\n",
    "    \n",
    "    retrieval_start_time = time.time()\n",
    "\n",
    "    print('Retrieving using', model_name)\n",
    "    data = {}\n",
    "    count = 0\n",
    "    if model_name == 'tfidf_valid' or model_name == 'BM25_valid':\n",
    "        for query_id, query in queries.items():\n",
    "            if query_id in valid_query_ids:\n",
    "                score = 0.0\n",
    "                query_word_ids = [token2id.get(query_token,0) for query_token in index.tokenize(query)] #get ids for all the words\n",
    "                query_word_ids = [word_id for word_id in query_word_ids if word_id > 0] #remove stop words\n",
    "                print(query_id)\n",
    "                for int_doc_id in range(index.document_base(), index.maximum_document()):\n",
    "                    score = 0\n",
    "                    external_document_id,_ = index.document(int_doc_id) #Get the external doc id for this document\n",
    "                    for query_word in query_word_ids:\n",
    "                        if int_doc_id in inverted_index[query_word].keys():\n",
    "                            score += score_fn(int_doc_id,query_word,collection_frequencies[query_word])\n",
    "                        else: \n",
    "                            score += 0.0\n",
    "                        assert(isinstance(score,float))\n",
    "                    if query_id in data.keys():       \n",
    "                        data[query_id].append((tuple([score,str(external_document_id)])))\n",
    "                    else:\n",
    "                        data[query_id] = [((tuple([score,str(external_document_id)])))]\n",
    "    elif model_name == 'plm': #For the positional language models we have additional paramters we give to score_fn()\n",
    "        for query_id, query in queries.items():\n",
    "            if query_id in valid_query_ids:\n",
    "                query_ids = [token2id.get(query_token,0) for query_token in index.tokenize(query)] #get ids for all the words\n",
    "                query_ids = [word_id for word_id in query_ids if word_id > 0] #remove stop words\n",
    "                for int_doc_id in range(index.document_base(), index.maximum_document()):\n",
    "                    external_document_id,_ = index.document(int_doc_id) #Get the external doc id for this document\n",
    "                    score = score_fn(int_doc_id, query_ids, plm_kernel,collection_frequencies,mu)\n",
    "                    if query_id in data.keys():\n",
    "                        data[query_id].append((tuple([score,str(external_document_id)])))\n",
    "                    else:\n",
    "                        data[query_id] = [((tuple([score,str(external_document_id)])))]\n",
    "    else: #model_name == 'JelinekMercer_valid' or model_name == 'Dirichlet_valid' or model_name == 'AbsoluteDiscounting_valid':\n",
    "        for query_id, query in queries.items():\n",
    "            if query_id in valid_query_ids:\n",
    "                query_ids = [token2id.get(query_token,0) for query_token in index.tokenize(query)] #get ids for all the words\n",
    "                query_ids = [word_id for word_id in query_ids if word_id > 0] #remove stop words  \n",
    "                print(query_id, query)\n",
    "                for int_doc_id in range(index.document_base(), index.maximum_document()):\n",
    "                    external_document_id,_ = index.document(int_doc_id) #Get the external doc id for this document\n",
    "                    score = score_fn(int_doc_id, query_ids, collection_frequencies)\n",
    "                    if query_id in data.keys():       \n",
    "                        data[query_id].append((tuple([score,str(external_document_id)])))\n",
    "                    else:\n",
    "                        data[query_id] = [((tuple([score,str(external_document_id)])))]\n",
    "    with open(run_out_path, 'w') as f_out:\n",
    "        write_run(\n",
    "            model_name=model_name,\n",
    "            data=data,\n",
    "            out_f=f_out,\n",
    "            max_objects_per_query=1000)"
   ]
  },
  {
   "cell_type": "markdown",
   "metadata": {},
   "source": [
    "### TFIDF and BM25"
   ]
  },
  {
   "cell_type": "code",
   "execution_count": 20,
   "metadata": {
    "collapsed": true,
    "scrolled": false
   },
   "outputs": [],
   "source": [
    "import numpy as np\n",
    "def tfidf(int_document_id, query_term_id, document_term_freq):\n",
    "    \"\"\"\n",
    "    Scoring function for a document and a query term using teh TFIDF model\n",
    "    \n",
    "    :param int_document_id: the document id\n",
    "    :param query_term_id: the query term id (assuming you have split the query to tokens)\n",
    "    :param document_term_freq: the document term frequency of the query term \n",
    "    \"\"\"\n",
    "    try:\n",
    "        score = float(np.log(1+inverted_index[query_term_id][int_document_id]) * np.log(num_documents/document_term_freq))\n",
    "    except:\n",
    "        score = 0\n",
    "    return score\n",
    "\n",
    "def BM25(int_document_id, query_term_id, document_term_freq): \n",
    "    \"\"\"\n",
    "    Scoring function for a document and a query term using the BM25 model\n",
    "    \n",
    "    :param int_document_id: the document id\n",
    "    :param query_term_id: the query term id (assuming you have split the query to tokens)\n",
    "    :param document_term_freq: the document term frequency of the query term \n",
    "    \"\"\"\n",
    "    k1 = 1.2\n",
    "    b = 0.75\n",
    "    # We ignore the sum including k3 since our queries are typically very short and therefore this part is not needed\n",
    "    score = ((k1+1)*inverted_index[query_term_id][int_document_id])/(k1*((1-b)+b*(document_lengths[int_doc_id]/avg_doc_length) \\\n",
    "            + inverted_index[query_term_id][int_document_id]))*(num_documents/document_term_freq)\n",
    "    \n",
    "    return score\n",
    "\n",
    "#run_retrieval('tfidf_valid', tfidf)\n",
    "#run_retrieval('BM25_valid', BM25)"
   ]
  },
  {
   "cell_type": "markdown",
   "metadata": {},
   "source": [
    "### Langauge models"
   ]
  },
  {
   "cell_type": "code",
   "execution_count": 14,
   "metadata": {
    "collapsed": true
   },
   "outputs": [],
   "source": [
    "col_length = sum(collection_frequencies.values()) #get all counts of terms\n",
    "\n",
    "def JelinekMercer(int_document_id, query_ids, collection_frequencies):\n",
    "    \"\"\"\n",
    "    This function calculates the probability of a query using a LM with Jelinek Mercer smoothing\n",
    "    \"\"\"\n",
    "    lamb = 0.9 #We have to test 0.1/0.5/0.9\n",
    "    query_prob = 1\n",
    "    doc_length = len([i for i in index.document(int_document_id)[1] if i >0]) #get document length of non stopwords\n",
    "    for word_id in query_ids:\n",
    "        try:\n",
    "            word_prob = (1-lamb)*(inverted_index[word_id][int_document_id]/doc_length)\n",
    "        except:\n",
    "            word_prob = 0\n",
    "        word_prob += lamb*(collection_frequencies[word_id]/col_length)\n",
    "        query_prob *= word_prob \n",
    "    return query_prob\n",
    "\n",
    "#run_retrieval('JelinekMercer_valid_0.9', JelinekMercer)"
   ]
  },
  {
   "cell_type": "markdown",
   "metadata": {},
   "source": [
    "Results for JelinekMercer (./trec_eval -m map -m P.5 -m ndcg_cut.10 -m recall.1000 qrel_validation JelinekMercer_valid_0.1.run)\n",
    "\n",
    "Results for $\\lambda = 0.1$ are: map 0.2262, P_5 0.3733, recall_1000 0.6287 and ndcg_cut_10 0.3834.\n",
    "\n",
    "Results for $\\lambda = 0.5$ are: map 0.2249, P_5 0.4067, recall_1000 0.6226 and ndcg_cut_10 0.4011.\n",
    "\n",
    "Results for $\\lambda = 0.9$ are: map 0.1980, P_5 0.3533, recall_1000 0.5825 and ndcg_cut_10 0.3405.\n"
   ]
  },
  {
   "cell_type": "code",
   "execution_count": 15,
   "metadata": {},
   "outputs": [
    {
     "data": {
      "image/png": "[encoded data removed]",
      "text/plain": [
       "<matplotlib.figure.Figure at 0x11927aa20>"
      ]
     },
     "metadata": {},
     "output_type": "display_data"
    }
   ],
   "source": [
    "import matplotlib.pyplot as plt\n",
    "\n",
    "jelinekmercer_ndcg = [0.3834, 0.4011, 0.3405]\n",
    "jelinekmercer_lamb = [0.1, 0.5, 0.9]\n",
    "plt.plot(jelinekmercer_lamb, jelinekmercer_ndcg)\n",
    "plt.xlabel('Lambda for the Jelinek Mercer model')\n",
    "plt.ylabel('NDCG@10')\n",
    "plt.show()"
   ]
  },
  {
   "cell_type": "code",
   "execution_count": 16,
   "metadata": {
    "collapsed": true
   },
   "outputs": [],
   "source": [
    "def Dirichlet(int_document_id, query_ids, collection_frequencies):\n",
    "    \"\"\"\n",
    "    This function calculates the probability of a query using a LM with Dirichlet smoothing\n",
    "    \"\"\"\n",
    "    mu = 1500 #We have to test 500/1000/1500\n",
    "    query_prob = 1\n",
    "    doc_length = len([i for i in index.document(int_document_id)[1] if i >0]) #get document length of non stopwords \n",
    "    for word_id in query_ids:\n",
    "        try:\n",
    "            word_prob = (doc_length/(mu+doc_length))*(inverted_index[word_id][int_document_id]/doc_length)\n",
    "        except:\n",
    "            word_prob = 0\n",
    "        word_prob += (mu/(mu+doc_length))*(collection_frequencies[word_id]/col_length)\n",
    "        query_prob *= word_prob \n",
    "    return query_prob\n",
    "\n",
    "#run_retrieval('Dirichlet_valid_1500', Dirichlet)"
   ]
  },
  {
   "cell_type": "markdown",
   "metadata": {},
   "source": [
    "Results for Dirichlet (./trec_eval -m map -m P.5 -m ndcg_cut.10 -m recall.1000 qrel_validation Dirichlet_valid_0.1.run)\n",
    "\n",
    "Results for $\\mu = 500$ are: map 0.2252, P_5 0.4000, recall_1000 0.5944 and ndcg_cut_10 0.4007.\n",
    "\n",
    "Results for $\\mu = 1000$ are: map 0.2244, P_5 0.3733, recall_1000 0.5925 and ndcg_cut_10 0.3793.\n",
    "\n",
    "Results for $\\mu = 1500$ are: map 0.2233, P_5 0.3600, recall_1000 0.5854 and ndcg_cut_10 0.3732.\n"
   ]
  },
  {
   "cell_type": "code",
   "execution_count": 17,
   "metadata": {},
   "outputs": [
    {
     "data": {
      "image/png": "[encoded data removed]",
      "text/plain": [
       "<matplotlib.figure.Figure at 0x1284a5a90>"
      ]
     },
     "metadata": {},
     "output_type": "display_data"
    }
   ],
   "source": [
    "dirichlet_ndcg = [0.4007, 0.3793, 0.3732]\n",
    "dirichlet_lamb = [500, 1000, 1500]\n",
    "plt.plot(dirichlet_lamb, dirichlet_ndcg)\n",
    "plt.xlabel('Lambda for the Dirichlet model')\n",
    "plt.ylabel('NDCG@10')\n",
    "plt.show()"
   ]
  },
  {
   "cell_type": "code",
   "execution_count": 18,
   "metadata": {
    "collapsed": true
   },
   "outputs": [],
   "source": [
    "test_query = queries['52']\n",
    "test_document_id = 1\n",
    "import numpy as np\n",
    "\n",
    "def AbsoluteDiscounting(int_document_id, query_ids, collection_frequencies):\n",
    "    \"\"\"\n",
    "    This function calculates the probability of a query using a LM with Absolute discounting\n",
    "    \"\"\"\n",
    "    delta = 0.9 #We have to test 0.1/0.5/0.9\n",
    "    query_prob = 1\n",
    "    doc_length = len([i for i in index.document(int_document_id)[1] if i >0]) #get document length of non stopwords\n",
    "    doc_unique_length = len(np.unique([i for i in index.document(int_document_id)[1] if i >0]))\n",
    "    if doc_length != 0:\n",
    "        sigma = delta*(doc_unique_length/doc_length) \n",
    "    else:\n",
    "        sigma = delta\n",
    "    for word_id in query_ids:\n",
    "        try:\n",
    "            word_prob = max(inverted_index[word_id][int_document_id]-delta,0)/doc_length\n",
    "        except:\n",
    "            word_prob = 0\n",
    "        word_prob += sigma*(collection_frequencies[word_id]/col_length)\n",
    "        query_prob *= word_prob \n",
    "    return query_prob\n",
    "\n",
    "#run_retrieval('AbsoluteDiscounting_valid_0.9', AbsoluteDiscounting)"
   ]
  },
  {
   "cell_type": "markdown",
   "metadata": {},
   "source": [
    "Results for Absolute discounting (./trec_eval -m map -m P.5 -m ndcg_cut.10 -m recall.1000 qrel_validation AbsoluteDiscounting_valid_0.1.run)\n",
    "\n",
    "Results for $\\delta = 0.1$ are: map 0.2180, P_5\t0.3933, recall_1000 0.6145 and ndcg_cut_10 0.3791.\n",
    " \n",
    "Results for $\\delta = 0.5$ are: map 0.2296, P_5 0.4067, recall_1000 0.6424 and ndcg_cut_10 0.3989.\n",
    "\n",
    "Results for $\\delta = 0.9$ are: map 0.2248, P_5 0.3600, recall_1000 0.6231 and ndcg_cut_10 0.3802.\n"
   ]
  },
  {
   "cell_type": "code",
   "execution_count": 19,
   "metadata": {},
   "outputs": [
    {
     "data": {
      "image/png": "[encoded data removed]",
      "text/plain": [
       "<matplotlib.figure.Figure at 0x12858d390>"
      ]
     },
     "metadata": {},
     "output_type": "display_data"
    }
   ],
   "source": [
    "absdiscounting_ndcg = [0.3791, 0.3989, 0.3802]\n",
    "absdiscounting_lamb = [0.1, 0.5, 0.9]\n",
    "plt.plot(absdiscounting_lamb, absdiscounting_ndcg)\n",
    "plt.xlabel('Lambda for the Absolute Discounting model')\n",
    "plt.ylabel('NDCG@10')\n",
    "plt.show()"
   ]
  },
  {
   "cell_type": "markdown",
   "metadata": {},
   "source": [
    "### Positional Language Model"
   ]
  },
  {
   "cell_type": "code",
   "execution_count": 20,
   "metadata": {
    "collapsed": true
   },
   "outputs": [],
   "source": [
    "def plm(int_document_id,query,kernel,collection_frequencies,mu):\n",
    "    \"\"\"\n",
    "    This functon returns the maximum value in the document using a positinal language model with 5 different kernels.\n",
    "    We also use dirichlet smoothing with the paramter mu.\n",
    "    \"\"\"\n",
    "    sigma = 50\n",
    "    denom = 0\n",
    "    score = 0\n",
    "    \n",
    "    unique_query_term_ids = set(query)\n",
    "    _, doc_token_ids = index.document(int_document_id)\n",
    "    if len(doc_token_ids) == 0:\n",
    "        return 0\n",
    "    scores = np.zeros(len(doc_token_ids))\n",
    "\n",
    "    if kernel == \"Gaussian\":\n",
    "        for i in range(0,len(doc_token_ids)):\n",
    "            if doc_token_ids[i] in unique_query_term_ids:\n",
    "                for j in range(0,len(doc_token_ids)):\n",
    "                    score = 1*np.exp(-(i-j)**2/(2*sigma**2))+mu*(collection_frequencies[doc_token_ids[i]]/total_terms)\n",
    "                    denom = 1*np.exp(-(i-j)**2/(2*sigma**2))+mu\n",
    "                    scores[j] += score\n",
    "                    score = 0\n",
    "    else:\n",
    "        for i in range(0,len(doc_token_ids)):\n",
    "            if doc_token_ids[i] in unique_query_term_ids:\n",
    "                for j in range(max(0,i-50),min(i+sigma,len(doc_token_ids))): \n",
    "                #in order to make it faster we only check the relevant indices given by sigma\n",
    "                    if kernel == 'Triangle':\n",
    "                        a = 1-(abs(j-i)/sigma)\n",
    "                        score = (1*a)+mu*(collection_frequencies[doc_token_ids[i]]/total_terms)\n",
    "                        denom = 1*np.exp(-(j-i)**2/(2*sigma**2))+mu\n",
    "                        scores[j] += score\n",
    "                        score = 0\n",
    "                    if kernel == 'Hamming':\n",
    "                        a = 1/2*(1+np.cos(abs(j-i)*np.pi/sigma))\n",
    "                        score = (1*a)+mu*(collection_frequencies[doc_token_ids[i]]/total_terms)\n",
    "                        denom = 1*np.exp(-(j-i)**2/(2*sigma**2))+mu\n",
    "                        scores[j] += score\n",
    "                        score = 0\n",
    "                    if kernel == 'Circle':\n",
    "                        a = np.sqrt(1-(abs(j-i)/sigma)**2)\n",
    "                        score = (1*a)+mu*(collection_frequencies[doc_token_ids[i]]/total_terms)\n",
    "                        denom = 1*np.exp(-(j-i)**2/(2*sigma**2))+mu\n",
    "                        scores[j] += score\n",
    "                        score = 0\n",
    "                    if kernel == 'Passage':\n",
    "                        score = 1++mu*(collection_frequencies[doc_token_ids[i]]/total_terms)\n",
    "                        denom = 1*np.exp(-(j-i)**2/(2*sigma**2))+mu\n",
    "                        scores[j] += score\n",
    "                        score = 0\n",
    "\n",
    "    return max(scores)\n",
    "\n",
    "#run_retrieval('plm', plm)"
   ]
  },
  {
   "cell_type": "markdown",
   "metadata": {},
   "source": [
    "### Significance testing"
   ]
  },
  {
   "cell_type": "code",
   "execution_count": 21,
   "metadata": {
    "collapsed": true
   },
   "outputs": [],
   "source": [
    "#Subprocess\n",
    "import os\n",
    "from subprocess import Popen, PIPE\n",
    "import shutil\n",
    "import re\n",
    "\n",
    "def plm_subprocess(plm_dict_all, plm_dict_avg, kernel, mu):\n",
    "    run_retrieval('plm', plm, kernel, mu)\n",
    "    shutil.move(\"./plm.run\", \"./trec_eval/plm.run\")\n",
    "    proc1 = Popen ('./plm.sh',shell=True,stdout = PIPE)\n",
    "    out, err = proc1.communicate()\n",
    "    var = out.decode('utf-8').split('\\t')\n",
    "    results = []\n",
    "    for v in var:\n",
    "        if v[:2] == '0.':\n",
    "            results.append(float(v[:6]))\n",
    "    name = kernel+\"-\"+str(mu)\n",
    "    plm_dict_all[name] = results[:-1]\n",
    "    plm_dict_avg[name] = results[-1]\n",
    "    os.remove(\"./trec_eval/plm.run\")\n",
    "    return plm_dict_all , plm_dict_avg"
   ]
  },
  {
   "cell_type": "code",
   "execution_count": 24,
   "metadata": {
    "collapsed": true
   },
   "outputs": [],
   "source": [
    "import pickle\n",
    "\n",
    "def get_plm_data():\n",
    "\n",
    "    plm_mu = np.arange(0,2200,200)\n",
    "    kernels = [\"Gaussian\", \"Triangle\", \"Hamming\", \"Circle\", \"Passage\"]\n",
    "    plm_dict_all = {}\n",
    "    plm_dict_avg = {}\n",
    "\n",
    "    for mu in plm_mu:\n",
    "        for kernel in kernels:\n",
    "            print(\"Evaluating the PLM model for a \",kernel,\" kernel and a mu of: \",mu)\n",
    "            plm_dict_all, plm_dict_avg = plm_subprocess(plm_dict_all, plm_dict_avg, kernel, mu)\n",
    "            with open('plm_dict_all.pickle', 'wb') as handle:\n",
    "                pickle.dump(plm_dict_all, handle, protocol=pickle.HIGHEST_PROTOCOL)\n",
    "            with open('plm_dict_avg.pickle', 'wb') as handle:\n",
    "                pickle.dump(plm_dict_avg, handle, protocol=pickle.HIGHEST_PROTOCOL)"
   ]
  },
  {
   "cell_type": "code",
   "execution_count": 28,
   "metadata": {},
   "outputs": [
    {
     "data": {
      "image/png": "[encoded data removed]",
      "text/plain": [
       "<matplotlib.figure.Figure at 0x1284ca048>"
      ]
     },
     "metadata": {},
     "output_type": "display_data"
    }
   ],
   "source": [
    "with open('Pickle/plm_dict_avg.pickle', 'rb') as handle:\n",
    "    plm_dict_avg = pickle.load(handle)\n",
    "mu_dict = {}\n",
    "avg_dict = {}\n",
    "for key, value in plm_dict_avg.items():\n",
    "    key_split = key.split('-')\n",
    "    try:\n",
    "        mu_dict[key_split[0]].append(key_split[1])\n",
    "        avg_dict[key_split[0]].append(value)\n",
    "    except:\n",
    "        mu_dict[key_split[0]] = [key_split[1]]\n",
    "        avg_dict[key_split[0]] = [value]\n",
    "\n",
    "mu_template = [0, 200, 400, 600, 800]\n",
    "for key, value in avg_dict.items():\n",
    "    mu = mu_dict[key]\n",
    "    val = []\n",
    "    for m in mu_template:\n",
    "        idx = mu.index(str(m))\n",
    "        val.append(value[idx])  \n",
    "    plt.plot(mu_template, val, label=key)\n",
    "\n",
    "plt.legend()\n",
    "plt.ylabel('NDCG@10')\n",
    "plt.xlabel('Smoothing factor mu')\n",
    "plt.show()"
   ]
  },
  {
   "cell_type": "code",
   "execution_count": 29,
   "metadata": {},
   "outputs": [
    {
     "data": {
      "text/plain": [
       "'\\nresults_dict = {}\\nrun_retrieval(\\'tfidf\\', tfidf)\\nresults_dict = results_subprocess(\\'tfidf\\', results_dict)\\nprint(results_dict)\\n\\nrun_retrieval(\\'BM25\\', BM25)\\nresults_dict = results_subprocess(\\'BM25\\', results_dict)\\n\\nrun_retrieval(\\'JelinekMercer\\', JelinekMercer)\\nresults_dict = results_subprocess(\\'JelinekMercer\\', results_dict)\\n\\nrun_retrieval(\\'Dirichlet\\', Dirichlet)\\nresults_dict = results_subprocess(\\'Dirichlet\\', results_dict)\\n\\nrun_retrieval(\\'AbsoluteDiscounting\\', AbsoluteDiscounting)\\nresults_dict = results_subprocess(\\'AbsoluteDiscounting\\', results_dict)\\n\\nrun_retrieval(\\'plm\\', plm, \"Triangle\", 0)\\nresults_dict = results_subprocess(\\'plm\\', results_dict)\\n'"
      ]
     },
     "execution_count": 29,
     "metadata": {},
     "output_type": "execute_result"
    }
   ],
   "source": [
    "def results_subprocess(model_name, results_dict):\n",
    "    \"\"\"\n",
    "    This function is used to generate the run files we used to be able to do significane testing.\n",
    "    Since this takes hours, we included the run files themselves as well as pickle dump files\n",
    "    so that you are able to recreate the data if necessary\n",
    "    \"\"\"\n",
    "    file_orig = \"./\"+model_name+\".run\"\n",
    "    shutil.move(file_orig, \"./trec_eval/results.run\")\n",
    "    proc1 = Popen ('./results.sh',shell=True,stdout = PIPE)\n",
    "    out, err = proc1.communicate()\n",
    "    var = out.decode('utf-8').split('\\n')\n",
    "    for v in var:\n",
    "        split = v.split('\\t')\n",
    "        if len(split) == 3 and split[1] != 'all':\n",
    "            try:\n",
    "                results_dict[(model_name, split[0].strip())].append(float(split[2]))\n",
    "            except:\n",
    "                results_dict[(model_name, split[0].strip())] = [float(split[2])]\n",
    "    os.remove(\"./trec_eval/results.run\")\n",
    "    with open('results_dict.pickle', 'wb') as handle:\n",
    "            pickle.dump(results_dict, handle, protocol=pickle.HIGHEST_PROTOCOL)\n",
    "    return results_dict\n",
    "\"\"\"\n",
    "results_dict = {}\n",
    "run_retrieval('tfidf', tfidf)\n",
    "results_dict = results_subprocess('tfidf', results_dict)\n",
    "print(results_dict)\n",
    "\n",
    "run_retrieval('BM25', BM25)\n",
    "results_dict = results_subprocess('BM25', results_dict)\n",
    "\n",
    "run_retrieval('JelinekMercer', JelinekMercer)\n",
    "results_dict = results_subprocess('JelinekMercer', results_dict)\n",
    "\n",
    "run_retrieval('Dirichlet', Dirichlet)\n",
    "results_dict = results_subprocess('Dirichlet', results_dict)\n",
    "\n",
    "run_retrieval('AbsoluteDiscounting', AbsoluteDiscounting)\n",
    "results_dict = results_subprocess('AbsoluteDiscounting', results_dict)\n",
    "\n",
    "run_retrieval('plm', plm, \"Triangle\", 0)\n",
    "results_dict = results_subprocess('plm', results_dict)\n",
    "\"\"\""
   ]
  },
  {
   "cell_type": "code",
   "execution_count": 34,
   "metadata": {
    "scrolled": false
   },
   "outputs": [
    {
     "name": "stdout",
     "output_type": "stream",
     "text": [
      "Checking significance of all results with alpha equal to 0.0008545229269492083\n",
      "T-test on Dirichlet and AbsoluteDiscounting with recall_1000 gave a significant difference with a p-value of 0.000404\n",
      "The means of these models and this metric are  0.5943666666666668 for Dirichlet and 0.6424199999999998 for AbsoluteDiscounting\n"
     ]
    }
   ],
   "source": [
    "from scipy import stats\n",
    "\n",
    "with open('Pickle/results_dict.pickle', 'rb') as handle:\n",
    "    data_dict = pickle.load(handle)\n",
    "\n",
    "def check_significance(a):\n",
    "    \"\"\"\"\n",
    "    Check significane of all models using a t-test. The alpha parameter specifies the alpha value used.\n",
    "    1 is used for an alpha of 0.05, 2 for Bonferroni correction and 3 for Sidak correction.\n",
    "    \"\"\"\n",
    "    models = ['JelinekMercer','tfidf','BM25','Dirichlet','AbsoluteDiscounting','plm']\n",
    "    metrics = ['P_5','ndcg_cut_10','map','recall_1000']\n",
    "    tested = []\n",
    "        \n",
    "    alpha = 0.05\n",
    "    m = 60.0\n",
    "    \n",
    "    if a == 1:\n",
    "        alpha = 0.05\n",
    "    elif a == 2:\n",
    "        alpha = alpha/m #Bonferroni correction\n",
    "    elif a == 3:\n",
    "        alpha = 1-(1-alpha)**(1/m) #Šidák correction\n",
    "\n",
    "    print(\"Checking significance of all results with alpha equal to\", alpha)\n",
    "    \n",
    "    for metric in metrics:\n",
    "        for model1 in models:\n",
    "            for model2 in models:\n",
    "                if model1 != model2 and (model1,model2,metric) not in tested and (model2,model1,metric) not in tested:\n",
    "                    t_test = stats.ttest_rel(data_dict[(model1,metric)], data_dict[(model2,metric)])\n",
    "                    tested.append((model1,model2,metric))\n",
    "                    tested.append((model2,model1,metric))\n",
    "                    if t_test[1] < alpha:\n",
    "                        print('T-test on %s and %s with %s gave a significant difference with a p-value of %f' % (model1,model2,metric,t_test[1]))\n",
    "                        print('The means of these models and this metric are ', np.mean(data_dict[(model1,metric)]), 'for', model1, 'and' , np.mean(data_dict[(model2,metric)]), 'for', model2)\n",
    "check_significance(3)"
   ]
  },
  {
   "cell_type": "markdown",
   "metadata": {},
   "source": [
    "Here we analyse the results of the t-tests conducted. When we not correct for the multiple-comparison problem we see a lot of significant results. However, when we do control for it using both Sidak an Bonferroni correction we see only one significant difference. This is with two langauge models one using Dirichlet smoothing and the other absolute discounting using the recall at 1000 evaluation metric. When we look at the values, we see that the model using absolute discounting is significantly better."
   ]
  },
  {
   "cell_type": "markdown",
   "metadata": {},
   "source": [
    "### Analyse queries"
   ]
  },
  {
   "cell_type": "code",
   "execution_count": 35,
   "metadata": {},
   "outputs": [
    {
     "name": "stdout",
     "output_type": "stream",
     "text": [
      "Function call 1\n",
      "Average query length is  5.0\n",
      "Average length of queries where model1 outperofrms model2 : 5.7\n",
      "Average length of queries where model2 outperofrms model1 : 3.6\n",
      "\n",
      "\n",
      "Function call 2-5\n",
      "Average query length is  5.0\n",
      "Average length of queries where model1 outperofrms model2 : 4.7368421052631575\n",
      "Average length of queries where model2 outperofrms model1 : 5.454545454545454\n",
      "Average query length is  5.0\n",
      "Average length of queries where model1 outperofrms model2 : 4.631578947368421\n",
      "Average length of queries where model2 outperofrms model1 : 5.636363636363637\n",
      "Average query length is  5.0\n",
      "Average length of queries where model1 outperofrms model2 : 4.444444444444445\n",
      "Average length of queries where model2 outperofrms model1 : 5.833333333333333\n",
      "Average query length is  5.0\n",
      "Average length of queries where model1 outperofrms model2 : 3.5454545454545454\n",
      "Average length of queries where model2 outperofrms model1 : 5.842105263157895\n",
      "\n",
      "\n",
      "Function call 6\n",
      "Average query length is  5.0\n",
      "Average length of queries where model1 outperofrms model2 : 5.625\n",
      "Average length of queries where model2 outperofrms model1 : 4.285714285714286\n",
      "\n",
      "\n",
      "Function call 7-9\n",
      "Average number of occurences of query words where model1 outperofrms model2 : 3840.529220779221\n",
      "Average number of occurences of query words when model2 outperofrms model1 : 9939.851792859341\n",
      "Average number of occurences of query words where model1 outperofrms model2 : 6487.368165784832\n",
      "Average number of occurences of query words when model2 outperofrms model1 : 9527.531542397663\n",
      "Average number of occurences of query words where model1 outperofrms model2 : 7973.372161172162\n",
      "Average number of occurences of query words when model2 outperofrms model1 : 7497.0098469212235\n"
     ]
    }
   ],
   "source": [
    "#First we have a look at the most significant difference between the models as found above.\n",
    "valid_queries = []\n",
    "for query_id, query_text in queries.items():\n",
    "    if query_id in valid_query_ids:\n",
    "        valid_queries.append(query_text)\n",
    "        \n",
    "def find_query_length_difference(model_metric_1,model_metric_2):\n",
    "\n",
    "    length = 0  \n",
    "    for query in valid_queries:\n",
    "        length += len(query.split())\n",
    "    print(\"Average query length is \",(length/len(valid_queries)))\n",
    "\n",
    "    difference = []\n",
    "    for i in range(0,len(model_metric_1)):\n",
    "        difference.append(model_metric_1[i]-model_metric_2[i])\n",
    "\n",
    "    average_difference = np.mean(difference)\n",
    "    length1 = []\n",
    "    length2 = []\n",
    "    for i in range(0,len(difference)):\n",
    "        if difference[i] > average_difference:\n",
    "            length1.append(len(valid_queries[i].split()))\n",
    "        elif difference[i] < average_difference:\n",
    "            length2.append(len(valid_queries[i].split()))\n",
    "    print('Average length of queries where model1 outperofrms model2 :',  np.mean(length1))\n",
    "    print('Average length of queries where model2 outperofrms model1 :',  np.mean(length2))\n",
    " \n",
    "\n",
    "def query_word_occurences(model_metric_1,model_metric_2):\n",
    "    splitted_queries = []\n",
    "    difference = []\n",
    "    length1 = []\n",
    "    length2 = []\n",
    "    for query_id, query in queries.items():\n",
    "        if query_id in valid_query_ids:\n",
    "            splitted_queries.append(list(query.split()))\n",
    "    query_occurences = []\n",
    "    for q in splitted_queries:\n",
    "        total_terms = 0\n",
    "        for word in q:\n",
    "            if word.lower() in token2id:\n",
    "                total_terms += collection_frequencies[token2id[word.lower()]]\n",
    "        query_occurences.append(total_terms/len(q))\n",
    "    \n",
    "    for i in range(0,len(model_metric_1)):\n",
    "        difference.append(model_metric_1[i]-model_metric_2[i])\n",
    "    average_difference = np.mean(difference)\n",
    "\n",
    "    for i in range(0,len(difference)):\n",
    "        if difference[i] > average_difference:\n",
    "            length1.append(query_occurences[i])\n",
    "        elif difference[i] < average_difference:\n",
    "            length2.append(query_occurences[i])\n",
    "\n",
    "    print('Average number of occurences of query words where model1 outperofrms model2 :',  np.mean(length1))\n",
    "    print('Average number of occurences of query words when model2 outperofrms model1 :',  np.mean(length2))\n",
    "    \n",
    "print(\"Function call 1\")  \n",
    "find_query_length_difference(data_dict[('BM25','ndcg_cut_10')],data_dict[('tfidf','ndcg_cut_10')])\n",
    "print('\\n')\n",
    "print(\"Function call 2-5\")  \n",
    "find_query_length_difference(data_dict[('BM25','ndcg_cut_10')],data_dict[('Dirichlet','ndcg_cut_10')])\n",
    "find_query_length_difference(data_dict[('BM25','ndcg_cut_10')],data_dict[('JelinekMercer','ndcg_cut_10')])\n",
    "find_query_length_difference(data_dict[('BM25','ndcg_cut_10')],data_dict[('AbsoluteDiscounting','ndcg_cut_10')])\n",
    "find_query_length_difference(data_dict[('BM25','ndcg_cut_10')],data_dict[('plm','ndcg_cut_10')])\n",
    "print(\"\\n\")\n",
    "print(\"Function call 6\")\n",
    "find_query_length_difference(data_dict[('plm','ndcg_cut_10')],data_dict[('JelinekMercer','ndcg_cut_10')])\n",
    "print(\"\\n\")\n",
    "print(\"Function call 7-9\")\n",
    "query_word_occurences(data_dict[('BM25','ndcg_cut_10')],data_dict[('plm','ndcg_cut_10')])\n",
    "query_word_occurences(data_dict[('BM25','ndcg_cut_10')],data_dict[('AbsoluteDiscounting','ndcg_cut_10')])\n",
    "query_word_occurences(data_dict[('tfidf','ndcg_cut_10')],data_dict[('plm','ndcg_cut_10')])"
   ]
  },
  {
   "cell_type": "markdown",
   "metadata": {},
   "source": [
    "### Query length\n",
    "#### Function call 1:\n",
    "The difference in average query length when one model wins for BM25 and TFIDF and NDCG@10 we see that BM25 is better at longer queries. This is line with expectation since this model normalizes for query length. \n",
    "\n",
    "#### Function call 2-5:\n",
    "Here we see that language models outperform BM25 on longer queries. We are not entirely sure why this is the case, but we think this is caused by the fact that langauge models profit from more words since it becomes better at estimating the probabilities while this does not hold for BM25.\n",
    "\n",
    "#### Function call 6:\n",
    "Here we see that the positional language model works better for longer queries compared with the language model using Dirichlet smoothing. When a query only contains one word, the added value of PLM vanishes and it simply is a check whether the word occurs in a document. The longer a query gets, the more added value the PLM adds using its kernel.\n",
    "\n",
    "\n",
    "### Occurences of query words in text\n",
    "#### Function call 7-9:\n",
    "Here we see that langauge models outperform BM25 whenever the number of occurences of the query terms in the documents is relatively high. This is in line with expectations, since these models need a lot of evidence in order to determine the (correct) probabilities of word sequences. While BM25 does not need this and therefore outperform langauge models when we have query terms that are relatively unique (do not occur very often in the collection of documents). Also interesting is that this does not hold for the TFIDF model."
   ]
  },
  {
   "cell_type": "markdown",
   "metadata": {},
   "source": [
    "### Task 2: Latent Semantic Models (LSMs) [15 points] ###\n",
    "\n",
    "In this task you will experiment with applying distributional semantics methods ([LSI](http://lsa3.colorado.edu/papers/JASIS.lsi.90.pdf) **[5 points]** and [LDA](https://www.cs.princeton.edu/~blei/papers/BleiNgJordan2003.pdf) **[5 points]**) for retrieval.\n",
    "\n",
    "You do not need to implement LSI or LDA on your own. Instead, you can use [gensim](http://radimrehurek.com/gensim/index.html). An example on how to integrate Pyndri with Gensim for word2vec can be found [here](https://github.com/cvangysel/pyndri/blob/master/examples/word2vec.py). For the remaining latent vector space models, you will need to implement connector classes (such as `IndriSentences`) by yourself.\n",
    "\n",
    "In order to use a latent semantic model for retrieval, you need to:\n",
    "   * build a representation of the query **q**,\n",
    "   * build a representation of the document **d**,\n",
    "   * calculate the similarity between **q** and **d** (e.g., cosine similarity, KL-divergence).\n",
    "     \n",
    "The exact implementation here depends on the latent semantic model you are using. \n",
    "   \n",
    "Each of these LSMs come with various hyperparameters to tune. Make a choice on the parameters, and explicitly mention the reasons that led you to these decisions. You can use the validation set to optimize hyper parameters you see fit; motivate your decisions. In addition, mention clearly how the query/document representations were constructed for each LSM and explain your choices.\n",
    "\n",
    "In this experiment, you will first obtain an initial top-1000 ranking for each query using TF-IDF in **Task 1**, and then re-rank the documents using the LSMs. Use TREC Eval to obtain the results and report on `NDCG@10`, Mean Average Precision (`MAP@1000`), `Precision@5` and `Recall@1000`.\n",
    "\n",
    "Perform significance testing **[5 points]** (similar as in Task 1) in the class of semantic matching methods."
   ]
  },
  {
   "cell_type": "code",
   "execution_count": 36,
   "metadata": {
    "collapsed": true
   },
   "outputs": [],
   "source": [
    "from gensim.models.keyedvectors import KeyedVectors\n",
    "import pyndri.compat\n",
    "import gensim\n",
    "from gensim import corpora, models\n",
    "import scipy.spatial.distance as ssd\n",
    "import random\n",
    "import copy\n",
    "from scipy import stats\n",
    "from operator import itemgetter\n",
    "import numpy as np\n",
    "import os\n",
    "from subprocess import Popen, PIPE"
   ]
  },
  {
   "cell_type": "code",
   "execution_count": 37,
   "metadata": {
    "collapsed": true
   },
   "outputs": [],
   "source": [
    "# Helper cell, that returns two dictionaries. These dictionaries can be used to convert \n",
    "# docIDs to external docIDs. Internal docIDS are 1,2,3,...,164597\n",
    "# external docIDs are AP-XXXXXX-XXXX\n",
    "\n",
    "ext2int_ids = {}\n",
    "int2ext_ids = {}\n",
    "        \n",
    "for int_doc_id in range(index.document_base(), index.maximum_document()):\n",
    "    ext_doc_id, _ = index.document(int_doc_id)\n",
    "    ext2int_ids[ext_doc_id] = int_doc_id\n",
    "    int2ext_ids[int_doc_id] = ext_doc_id\n",
    "    \n",
    "#print (int2ext_ids[1])\n",
    "#print (ext2int_ids['AP890425-0001'])"
   ]
  },
  {
   "cell_type": "markdown",
   "metadata": {},
   "source": [
    "### Retrieving the model\n",
    "Training is done by creating a very large BOW representation for all the documents in the collection. These models are saved, so training has to be done only once. "
   ]
  },
  {
   "cell_type": "code",
   "execution_count": 41,
   "metadata": {
    "collapsed": true
   },
   "outputs": [],
   "source": [
    "# A function that returns a BOW representation of the entire document set (160k documents)\n",
    "# It loops through al the documents, and appends them to a list\n",
    "# RETURNS\n",
    "# - bow representation of the corpus\n",
    "# - token2id, a dictionary for converting tokens (words) to ids\n",
    "# - id2token, another dictionary for converting ids to words (tokens)\n",
    "\n",
    "def document_bow():\n",
    "    dictionary = pyndri.extract_dictionary(index) \n",
    "    token2id, id2token, _ = index.get_dictionary() # Only id2token is necessary\n",
    "    documents_list = [] # The list that all the documents will be appended to\n",
    "    \n",
    "    for i in range(1,num_documents+1):\n",
    "        _ , doc = index.document(i)\n",
    "        doc = [id2token[word_id] for word_id in doc if word_id > 0]\n",
    "        documents_list.append(doc)\n",
    "        \n",
    "    bow_corpus = [dictionary.doc2bow(text) for text in documents_list]\n",
    "    return bow_corpus, token2id, id2token\n",
    "\n",
    "corpus, token2id, id2token = document_bow()"
   ]
  },
  {
   "cell_type": "code",
   "execution_count": 42,
   "metadata": {
    "collapsed": true
   },
   "outputs": [],
   "source": [
    "def train_LDA_LSI():\n",
    "    # Train LDA-model\n",
    "    num_topics = 20\n",
    "    lda20 = gensim.models.ldamodel.LdaModel(corpus=corpus, num_topics=num_topics, id2word = id2token, passes=10)\n",
    "    lda20.save('LDAmodels/LDA20')\n",
    "\n",
    "    # Train LSI-model\n",
    "    num_topics = 250\n",
    "    lsi250 = gensim.models.lsimodel.LsiModel(corpus=corpus, id2word=id2token, num_topics=num_topics)\n",
    "    lsi250.save('LSImodels/LSI250')\n",
    "\n",
    "    num_topics = 500\n",
    "    lsi500 = gensim.models.lsimodel.LsiModel(corpus=corpus, id2word=id2token, num_topics=num_topics)\n",
    "    lsi100.save('LSImodels/LSI500')\n",
    "\n",
    "    num_topics = 1000\n",
    "    lsi1000 = gensim.models.lsimodel.LsiModel(corpus=corpus, id2word=id2token, num_topics=num_topics)\n",
    "    lsi1000.save('LSImodels/LSI1000')\n"
   ]
  },
  {
   "cell_type": "markdown",
   "metadata": {},
   "source": [
    "### Proprocessing"
   ]
  },
  {
   "cell_type": "code",
   "execution_count": 43,
   "metadata": {
    "collapsed": true
   },
   "outputs": [],
   "source": [
    "# A function that returns a document given an external doc_id\n",
    "# INPUT\n",
    "# - an internal doc_id, a string, for instance: APXXXXX-XX\n",
    "# RETURNS\n",
    "# - an list of strings representing a text, for instance ['joris','is','de','beste']\n",
    "def get_document(doc_id):\n",
    "    int_doc_id = ext2int_ids[doc_id]\n",
    "    _,text_ids = index.document(int_doc_id)\n",
    "    return [id2token[word_id] for word_id in text_ids if word_id > 0]       "
   ]
  },
  {
   "cell_type": "code",
   "execution_count": 44,
   "metadata": {
    "collapsed": true
   },
   "outputs": [],
   "source": [
    "# Function that takes returns a list of indices, converting a text into indices\n",
    "# INPUT\n",
    "# - a list of strings, for instance ['python','wizard']\n",
    "# RETURNS\n",
    "# - a list of IDS, for instance [1,2] where 'python' maps to 1, and 'wizard' maps to 2\n",
    "# according to the token2id dictionary\n",
    "def text_to_ind(text):\n",
    "    token_ids = [token2id[token] for token in text if token in token2id] \n",
    "    return token_ids"
   ]
  },
  {
   "cell_type": "code",
   "execution_count": 45,
   "metadata": {
    "collapsed": true
   },
   "outputs": [],
   "source": [
    "# A function that generates the topic vector from a text. This can be a document or a query\n",
    "# INPUT\n",
    "# - a text, a list of strings, for instance ['python','wizard']\n",
    "# - a model, either LSI or LDA model\n",
    "# RETURNS \n",
    "# - a topic scores vector, with scores\n",
    "def topic_vector_from_text(text,model):\n",
    "    random.shuffle(text) # randomly shuffle text, to really create a BOW\n",
    "    bow_ids = text_to_ind(text)\n",
    "    bow_ids_counter = collections.Counter(bow_ids)\n",
    "    bow_list = [[key,value] for key,value in bow_ids_counter.items()]\n",
    "    topics_scores = model[bow_list] # topics_scores is of type: [ (1,score1),(2,score2),etc,etc]\n",
    "    \n",
    "    topic_ids = [topic_id for topic_id,score in topics_scores]\n",
    "    topic_scores = [score for topic_id,score in topics_scores]\n",
    "    num_topics = model.num_topics\n",
    "    \n",
    "    scores = np.zeros(num_topics)\n",
    "    scores[topic_ids] = topic_scores\n",
    "    return scores"
   ]
  },
  {
   "cell_type": "code",
   "execution_count": 46,
   "metadata": {
    "collapsed": true
   },
   "outputs": [],
   "source": [
    "# Function that calculates the cosine similarity between two vectors\n",
    "# INPUT\n",
    "# - query_topic_vec, the query topic vector\n",
    "# - doc_topic_vec, the document topic vector\n",
    "# RETURNS\n",
    "# - the cosine similarity between query_vec and doc_vec, a float\n",
    "def check_similarity(query_topic_vec,doc_topic_vec):\n",
    "    return ssd.cosine(query_topic_vec,doc_topic_vec)    "
   ]
  },
  {
   "cell_type": "code",
   "execution_count": 47,
   "metadata": {
    "collapsed": true
   },
   "outputs": [],
   "source": [
    "# Function that scores a list of document-ids based on a LSI or LDA model\n",
    "# INPUT\n",
    "# - a model, this can be either a LSI or LDA model\n",
    "# - a query, this is a list of strings, in the form ['python','wizard']\n",
    "# - a list of doc_ids, of the form [APXXXXX-XX,APYYYYY-YY, etc, etc]. This list is probably of length 1000\n",
    "# RETURNS\n",
    "# - a list of the 1000 documents, a list of form [(APYYYYY-YY,scoreY),(APXXXXX-XX,scoreX),(etc,score_etc),...],\n",
    "# , where the first element of the list is the best query result, and the last element of the list is the worst \n",
    "def lsi_lda_model_score(model,query,doc_ids):\n",
    "    query_topic_vec = topic_vector_from_text(query,model)    \n",
    "    \n",
    "    ranking = []\n",
    "    \n",
    "    for ext_doc_ID in doc_ids:\n",
    "        doc = get_document(ext_doc_ID) # returns the document in text\n",
    "        doc_topic_vec = topic_vector_from_text(doc,model)\n",
    "        score = check_similarity(query_topic_vec,doc_topic_vec)\n",
    "        ranking.append((ext_doc_ID,score))\n",
    "        \n",
    "    ranking.sort(key=itemgetter(1))\n",
    "    \n",
    "    return ranking"
   ]
  },
  {
   "cell_type": "code",
   "execution_count": 48,
   "metadata": {
    "collapsed": true
   },
   "outputs": [],
   "source": [
    "# a function that reads the tfidf.run file\n",
    "# INPUT\n",
    "# - filename, a string\n",
    "# RETURNS\n",
    "# - a dictionary with takes a query_id (51,200) as value, and returns a list of a 1000 documents [APXXXX-XX,etc,...]\n",
    "def read_tfidf_file(filename):\n",
    "    \n",
    "    return_dict = {}\n",
    "    \n",
    "    # Fill the dictionary with empty lists:\n",
    "    # Queries go from 51 to 200\n",
    "    #for i, qid in enumerate(queries):\n",
    "     #   return_dict[int(qid)] = []\n",
    "      #  print (qid)\n",
    "        \n",
    "    for qid in valid_query_ids:\n",
    "        return_dict[int(qid)] = []\n",
    "    \n",
    "    with open(filename,'r') as fn:\n",
    "        for line in fn:\n",
    "            query_id = int(line.split()[0])\n",
    "            ext_doc_ID = line.split()[2]\n",
    "            \n",
    "            temp_list = return_dict[query_id] # ugly solution this, but if its stupid but it works,\n",
    "            temp_list.append(ext_doc_ID) # it aint stupid\n",
    "            \n",
    "            return_dict[query_id] = temp_list   \n",
    "    return return_dict   "
   ]
  },
  {
   "cell_type": "code",
   "execution_count": 49,
   "metadata": {
    "collapsed": true
   },
   "outputs": [],
   "source": [
    "# A functions that appends data to a big data list\n",
    "# INPUT\n",
    "# - a list to_be_added, of the form [(APYYYYY-YY,scoreY),(APXXXXX-XX,scoreX),(etc,score_etc),...]\n",
    "# - queryID, an integer\n",
    "# - model_name a str with the model name\n",
    "# - a data list of lists within a list, in which to add to_be_added\n",
    "# - the lists within the list are of the form [queryID,'Q0',exc_doc_ID,rank,score,'modelname']\n",
    "# RETURNS\n",
    "# - data_list a list of list. Each list in the list is of the form [queryID,'Q0',ext_doc_ID,rank,score,model_name] \n",
    "def append_data(to_be_added,query_id,model_name,data_list):\n",
    "    for i in range(0,len(to_be_added)):\n",
    "        temp_list = []\n",
    "        temp_list.append(query_id)\n",
    "        temp_list.append('Q0')\n",
    "        temp_list.append(to_be_added[i][0])\n",
    "        temp_list.append(i+1) # rank\n",
    "        temp_list.append(to_be_added[i][1])\n",
    "        temp_list.append(model_name)\n",
    "        data_list.append(temp_list)\n",
    "    return data_list         "
   ]
  },
  {
   "cell_type": "code",
   "execution_count": 50,
   "metadata": {
    "collapsed": true
   },
   "outputs": [],
   "source": [
    "# Function that writes the data to a file\n",
    "# INPUT\n",
    "# - model_name, a string of the desired name of the output file\n",
    "# - data, a list of list. Each list in the list is of the form [queryID,'Q0',ext_doc_ID,rank,score,model_name]\n",
    "# RETURNS\n",
    "# - writes data to a file, returns a file in the same folder as the .ipynb notebook\n",
    "def write_model(model_name,data):\n",
    "    with open(model_name,'w') as mn:\n",
    "        for row in data:\n",
    "            for term in row:\n",
    "                mn.write(str(term) + ' ')\n",
    "            mn.write('\\n')\n",
    "    mn.close()\n",
    "    return"
   ]
  },
  {
   "cell_type": "code",
   "execution_count": 51,
   "metadata": {
    "collapsed": true
   },
   "outputs": [],
   "source": [
    "lda_model = gensim.models.ldamodel.LdaModel.load('LDAmodels/LDA20')\n",
    "lsi_model = gensim.models.lsimodel.LsiModel.load('LSImodels/LSI100')"
   ]
  },
  {
   "cell_type": "code",
   "execution_count": 53,
   "metadata": {},
   "outputs": [
    {
     "name": "stdout",
     "output_type": "stream",
     "text": [
      "LDA20.runfile created!\n"
     ]
    }
   ],
   "source": [
    "query_return_dict = read_tfidf_file('RunFiles/tfidf_valid.run')\n",
    "#lsi_model = gensim.models.lsimodel.LsiModel.load('LSImodels/LSI250') \n",
    "lda_model = gensim.models.ldamodel.LdaModel.load('LDAmodels/LDA20')\n",
    "model_name = 'LDA20.run'\n",
    "data = []\n",
    "\n",
    "for query,values in query_return_dict.items():\n",
    "    query_in_text = queries[str(query)].lower().split()\n",
    "\n",
    "    new_ranking = lsi_lda_model_score(lda_model,query_in_text,query_return_dict[query])\n",
    "    data = append_data(new_ranking,int(query),model_name,data)\n",
    "    \n",
    "write_model(model_name,data)\n",
    "print (model_name+'file created!')"
   ]
  },
  {
   "cell_type": "markdown",
   "metadata": {},
   "source": [
    "### Analysis"
   ]
  },
  {
   "cell_type": "code",
   "execution_count": 56,
   "metadata": {
    "collapsed": true
   },
   "outputs": [],
   "source": [
    "def write_results(model_name):\n",
    "    '''\n",
    "    A function that writes the result to a text file\n",
    "    INPUT\n",
    "    - a model_name, this can be LSI50, LSI100, LSI250, LDA10 or LDA20 or another string\n",
    "    RETURNS\n",
    "    - a .txt file in the folder results. Each line contains the model, the query id, and the score\n",
    "    \n",
    "    '''\n",
    "    output_file_name = 'results'+model_name+'.txt'\n",
    "    \n",
    "    with open(output_file_name,'w') as file:\n",
    "        \n",
    "        command = './eval'+model_name + '.sh'\n",
    "        proc = Popen (command,shell=True,stdout = PIPE)\n",
    "        out,err = proc.communicate()\n",
    "        \n",
    "        result_list = out.decode('utf-8').split('\\n')\n",
    "        for result in result_list:\n",
    "            line = result.split('\\t')\n",
    "            \n",
    "            write_list = []\n",
    "            \n",
    "            for i in line:\n",
    "                write_list.append(str(i))\n",
    "                file.write(write_list[-1] + ' ')\n",
    "            file.write('\\n')\n",
    "        file.close()\n",
    "    return\n",
    "                \n",
    "#write_results('LSI50')\n",
    "#write_results('LSI100')\n",
    "#write_results('LSI250')\n",
    "#write_results('LDA10')\n",
    "#write_results('LDA20')"
   ]
  },
  {
   "cell_type": "code",
   "execution_count": 67,
   "metadata": {},
   "outputs": [
    {
     "ename": "IndexError",
     "evalue": "list index out of range",
     "output_type": "error",
     "traceback": [
      "\u001b[0;31m---------------------------------------------------------------------------\u001b[0m",
      "\u001b[0;31mIndexError\u001b[0m                                Traceback (most recent call last)",
      "\u001b[0;32m<ipython-input-67-14ac5e6cafab>\u001b[0m in \u001b[0;36m<module>\u001b[0;34m()\u001b[0m\n\u001b[1;32m      8\u001b[0m     \u001b[0;32mfor\u001b[0m \u001b[0mline\u001b[0m \u001b[0;32min\u001b[0m \u001b[0mlsi50\u001b[0m\u001b[0;34m.\u001b[0m\u001b[0mreadlines\u001b[0m\u001b[0;34m(\u001b[0m\u001b[0;34m)\u001b[0m\u001b[0;34m:\u001b[0m\u001b[0;34m\u001b[0m\u001b[0m\n\u001b[1;32m      9\u001b[0m         \u001b[0mresult_line\u001b[0m \u001b[0;34m=\u001b[0m \u001b[0mline\u001b[0m\u001b[0;34m.\u001b[0m\u001b[0msplit\u001b[0m\u001b[0;34m(\u001b[0m\u001b[0;34m)\u001b[0m\u001b[0;34m\u001b[0m\u001b[0m\n\u001b[0;32m---> 10\u001b[0;31m         \u001b[0;32mif\u001b[0m \u001b[0mresult_line\u001b[0m\u001b[0;34m[\u001b[0m\u001b[0;36m0\u001b[0m\u001b[0;34m]\u001b[0m \u001b[0;34m==\u001b[0m \u001b[0;34m'map'\u001b[0m \u001b[0;32mand\u001b[0m \u001b[0mresult_line\u001b[0m\u001b[0;34m[\u001b[0m\u001b[0;36m1\u001b[0m\u001b[0;34m]\u001b[0m \u001b[0;34m!=\u001b[0m \u001b[0;34m'all'\u001b[0m \u001b[0;32mand\u001b[0m \u001b[0mresult_line\u001b[0m \u001b[0;34m!=\u001b[0m \u001b[0;34m[\u001b[0m\u001b[0;34m]\u001b[0m\u001b[0;34m:\u001b[0m\u001b[0;34m\u001b[0m\u001b[0m\n\u001b[0m\u001b[1;32m     11\u001b[0m             \u001b[0mmap_scores_lsi50\u001b[0m\u001b[0;34m.\u001b[0m\u001b[0mappend\u001b[0m\u001b[0;34m(\u001b[0m\u001b[0mfloat\u001b[0m\u001b[0;34m(\u001b[0m\u001b[0mresult_line\u001b[0m\u001b[0;34m[\u001b[0m\u001b[0;34m-\u001b[0m\u001b[0;36m1\u001b[0m\u001b[0;34m]\u001b[0m\u001b[0;34m)\u001b[0m\u001b[0;34m)\u001b[0m\u001b[0;34m\u001b[0m\u001b[0m\n\u001b[1;32m     12\u001b[0m         \u001b[0;32melif\u001b[0m \u001b[0mresult_line\u001b[0m\u001b[0;34m[\u001b[0m\u001b[0;36m0\u001b[0m\u001b[0;34m]\u001b[0m \u001b[0;34m==\u001b[0m \u001b[0;34m'P_5'\u001b[0m \u001b[0;32mand\u001b[0m \u001b[0mresult_line\u001b[0m\u001b[0;34m[\u001b[0m\u001b[0;36m1\u001b[0m\u001b[0;34m]\u001b[0m \u001b[0;34m!=\u001b[0m \u001b[0;34m'all'\u001b[0m\u001b[0;34m:\u001b[0m\u001b[0;34m\u001b[0m\u001b[0m\n",
      "\u001b[0;31mIndexError\u001b[0m: list index out of range"
     ]
    }
   ],
   "source": [
    "with open('Results/resultsLSI50.txt','r') as lsi50:\n",
    "    \n",
    "    map_scores_lsi50 = []\n",
    "    p5_scores_lsi50 = []\n",
    "    recall1000_scores_lsi50 = []\n",
    "    ndcg10_scores_lsi50 = []\n",
    "    \n",
    "    for line in lsi50.readlines():\n",
    "        result_line = line.split()\n",
    "        if result_line[0] == 'map' and result_line[1] != 'all' and result_line != []:\n",
    "            map_scores_lsi50.append(float(result_line[-1]))\n",
    "        elif result_line[0] == 'P_5' and result_line[1] != 'all':\n",
    "            p5_scores_lsi50.append(float(result_line[-1]))\n",
    "        elif result_line[0] == 'recall_1000' and result_line[1] != 'all':\n",
    "            recall1000_scores_lsi50.append(float(result_line[-1]))\n",
    "        elif result_line[0] == 'ndcg_cut_10' and result_line[1] != 'all':\n",
    "            ndcg10_scores_lsi50.append(float(result_line[-1]))\n",
    "\n",
    "with open('Results/resultsLSI250.txt','r') as lsi250:\n",
    "        \n",
    "    map_scores_lsi250 = []\n",
    "    p5_scores_lsi250 = []\n",
    "    recall1000_scores_lsi250 = []\n",
    "    ndcg10_scores_lsi250 = []\n",
    "    \n",
    "    for line in lsi250.readlines():\n",
    "        result_line = line.split()\n",
    "        if result_line[0] == 'map' and result_line[1] != 'all' and result_line != []:\n",
    "            map_scores_lsi250.append(float(result_line[-1]))\n",
    "        elif result_line[0] == 'P_5' and result_line[1] != 'all':\n",
    "            p5_scores_lsi250.append(float(result_line[-1]))\n",
    "        elif result_line[0] == 'recall_1000' and result_line[1] != 'all':\n",
    "            recall1000_scores_lsi250.append(float(result_line[-1]))\n",
    "        elif result_line[0] == 'ndcg_cut_10' and result_line[1] != 'all':\n",
    "            ndcg10_scores_lsi250.append(float(result_line[-1]))\n",
    "            \n",
    "with open('Results/resultsLDA20.txt','r') as lda20:\n",
    "        \n",
    "    map_scores_lda20 = []\n",
    "    p5_scores_lda20 = []\n",
    "    recall1000_scores_lda20 = []\n",
    "    ndcg10_scores_lda20 = []\n",
    "    \n",
    "    for line in lda20.readlines():\n",
    "        result_line = line.split()\n",
    "        if result_line[0] == 'map' and result_line[1] != 'all' and result_line != []:\n",
    "            map_scores_lda20.append(float(result_line[-1]))\n",
    "        elif result_line[0] == 'P_5' and result_line[1] != 'all':\n",
    "            p5_scores_lda20.append(float(result_line[-1]))\n",
    "        elif result_line[0] == 'recall_1000' and result_line[1] != 'all':\n",
    "            recall1000_scores_lda20.append(float(result_line[-1]))\n",
    "        elif result_line[0] == 'ndcg_cut_10' and result_line[1] != 'all':\n",
    "            ndcg10_scores_lda20.append(float(result_line[-1]))"
   ]
  },
  {
   "cell_type": "markdown",
   "metadata": {},
   "source": [
    "### Task 3:  Word embeddings for ranking [20 points] (open-ended) ###\n",
    "\n",
    "First create word embeddings on the corpus we provided using [word2vec](http://arxiv.org/abs/1411.2738) -- [gensim implementation](https://radimrehurek.com/gensim/models/word2vec.html). You should extract the indexed documents using pyndri and provide them to gensim for training a model (see example [here](https://github.com/nickvosk/pyndri/blob/master/examples/word2vec.py)).\n",
    "   \n",
    "This is an open-ended task. It is left up you to decide how you will combine word embeddings to derive query and document representations. Note that since we provide the implementation for training word2vec, you will be graded based on your creativity on combining word embeddings for building query and document representations.\n",
    "\n",
    "Note: If you want to experiment with pre-trained word embeddings on a different corpus, you can use the word embeddings we provide alongside the assignment (./data/reduced_vectors_google.txt.tar.gz). These are the [google word2vec word embeddings](https://code.google.com/archive/p/word2vec/), reduced to only the words that appear in the document collection we use in this assignment."
   ]
  },
  {
   "cell_type": "code",
   "execution_count": 37,
   "metadata": {
    "collapsed": true
   },
   "outputs": [],
   "source": [
    "import copy\n",
    "import gensim\n",
    "import logging\n",
    "import pyndri\n",
    "import pyndri.compat\n",
    "import sys\n",
    "import numpy as np\n",
    "from nltk.stem.porter import PorterStemmer\n",
    "import pickle\n",
    "import logging\n",
    "\n",
    "dictionary = pyndri.extract_dictionary(index)\n",
    "sentences = pyndri.compat.IndriSentences(index, dictionary)\n",
    "\n",
    "word_vectors = gensim.models.Word2Vec.load('W2V/w2v')"
   ]
  },
  {
   "cell_type": "code",
   "execution_count": 15,
   "metadata": {
    "collapsed": true
   },
   "outputs": [],
   "source": [
    "# Function that makes and saves a w2v model\n",
    "def calculate_word2vec():\n",
    "    dictionary = pyndri.extract_dictionary(index)\n",
    "    sentences = pyndri.compat.IndriSentences(index, dictionary)\n",
    "\n",
    "    word2vec = gensim.models.Word2Vec(sentences, min_count=1)\n",
    "    word2vec.save('W2V/w2v')\n",
    "    return\n",
    "\n",
    "# Function that load a w2v model\n",
    "def load_word2vec():\n",
    "    word_vectors = gensim.models.Word2Vec.load('W2V/w2v')\n",
    "    return word_vectors\n",
    "\n",
    "# A function that returns a vector representation of a word\n",
    "# INPUT\n",
    "# - a word, a string, like 'joris'\n",
    "# - word_vectors, a dictionary which returns the vector of a word\n",
    "# CODE\n",
    "# - returns the vector representation of a word. If this is not avalaible, it stems the word and finds the vector representation\n",
    "# RETURNS\n",
    "# - the vector representation of the (stemmed) word\n",
    "def get_vector_for_word(word,word_vectors):\n",
    "    try:\n",
    "        embedding = word_vectors[str(word)]\n",
    "        return embedding\n",
    "    except KeyError:\n",
    "        stemmed_word = PorterStemmer().stem(str(word))\n",
    "        return word_vectors[stemmed_word]\n",
    "\n",
    "# Function that removes punctuation, and lowers a query\n",
    "# INPUT\n",
    "# - a list of strings, the query, for instance ['Airbus','Subsidies']\n",
    "# - token2id, a dictionary converting words to ids\n",
    "# RETURNS\n",
    "# - the same query lowercased without punctuation\n",
    "def remove_punctuation(query,token2id):\n",
    "    \n",
    "    punctuation_list = ['\"', '(',')', '&','-',\"'\",'.','/','?']\n",
    "        \n",
    "    good_query = []\n",
    "    for word in query:           \n",
    "        \n",
    "        good_word = \"\"\n",
    "        if len(word) == 1 and word in punctuation_list:\n",
    "            if word == '&':\n",
    "                good_query.append('and')\n",
    "            else:\n",
    "                continue\n",
    "        elif word == 'vs' or word == 'vs.':\n",
    "            good_query.append('versus')\n",
    "        elif word == 'us' or word == 'U.S.' or word == \"U.S.'s\" or word == 'U.':\n",
    "            good_query.append('united')\n",
    "            good_query.append('states')\n",
    "        else:\n",
    "            for letter in word:\n",
    "                if letter not in punctuation_list:\n",
    "                    good_word += letter.lower()\n",
    "                elif letter == '-' or letter == \"'\" or letter == '/':\n",
    "                    good_query.append(good_word)\n",
    "                    good_word = \"\"\n",
    "            else:\n",
    "                good_query.append(good_word)\n",
    "        \n",
    "    if 'us' in good_query: # Replace 'us' with 'united','states'\n",
    "        place = good_query.index('us')\n",
    "        good_query.pop(int(place))\n",
    "        good_query.insert(int(place),'united')\n",
    "        good_query.insert(int(place) + 1 , 'states')\n",
    "       \n",
    "    \n",
    "    best_query = []\n",
    "    for word in good_query:\n",
    "        if word in token2id and len(word) > 1:\n",
    "            best_query.append(word)\n",
    "    \n",
    "    return best_query\n",
    "\n",
    "def get_document(doc_id):\n",
    "    int_doc_id = ext2int_ids[doc_id]\n",
    "    _,text_ids = index.document(int_doc_id)\n",
    "    return [id2token[word_id] for word_id in text_ids if word_id > 0]  "
   ]
  },
  {
   "cell_type": "code",
   "execution_count": 16,
   "metadata": {
    "collapsed": true
   },
   "outputs": [],
   "source": [
    "# Function that determines the average vector of a test\n",
    "# INPUT\n",
    "# - a list of strings, for instance ['python','wizard']\n",
    "# - a word_vectors model\n",
    "# RETURNS\n",
    "# - a vector of size 100\n",
    "def get_average_vector(text,word_vectors):\n",
    "    \n",
    "    if len(text) == 0: # if the document is empty\n",
    "        return np.zeros(100)\n",
    "    \n",
    "    average = 0\n",
    "    for i in range(0,len(text)):\n",
    "        if i == 0:\n",
    "            average = copy.copy(get_vector_for_word(text[i],word_vectors))\n",
    "        else:\n",
    "            average += copy.copy(get_vector_for_word(text[i],word_vectors))\n",
    "    return average/len(text)  \n",
    "\n",
    "# Calculate the average word vector of document in the colletion\n",
    "# This is a preprocessing step\n",
    "# It returns a dict where dict[1] returns the average word vector of document 1\n",
    "def get_doc2vec():\n",
    "    doc2vec = {}\n",
    "\n",
    "    for i in range(1,num_documents+1):\n",
    "        doc_i = get_document(int2ext_ids[i])\n",
    "        \n",
    "        average_doc_vec = get_average_vector(doc_i,word_vectors)\n",
    "\n",
    "        doc2vec[i] = average_doc_vec\n",
    "    return doc2vec  \n",
    "\n",
    "# Function that saves the doc2vec dictionary to a pickle file\n",
    "def save_doc2vec():\n",
    "    doc2vec = get_doc2vec()\n",
    "    with open('doc2vec/doc2vec_dict.pickle', 'wb') as handle:\n",
    "            pickle.dump(doc2vec, handle, protocol=pickle.HIGHEST_PROTOCOL)\n",
    "    return\n",
    "\n",
    "# Function that loads the pickle doc2vec dictionary\n",
    "def load_doc2vec():\n",
    "    doc2vec = pickle.load(open('doc2vec/doc2vec_dict.pickle','rb'))\n",
    "    return doc2vec\n",
    "\n",
    "#doc2vec = load_doc2vec()"
   ]
  },
  {
   "cell_type": "code",
   "execution_count": 17,
   "metadata": {
    "collapsed": true
   },
   "outputs": [],
   "source": [
    "# Function that calculates the top1000 document ranking for a query\n",
    "# INPUT\n",
    "# - a query id, 51,200 (integer)\n",
    "# - token2id, a dictionary of tokens to IDs\n",
    "# - word_vectors, a dictionary of word_vectors\n",
    "# RETURNS\n",
    "# - a list of the 1000 documents, a list of form [(APYYYYY-YY,scoreY),(APXXXXX-XX,scoreX),(etc,score_etc),...],\n",
    "# , where the first element of the list is the best query result, and the last element of the list is the worst \n",
    "def average_vector_scores(query_id,token2id,word_vectors):\n",
    "    query = remove_punctuation(queries[str(query_id)].split(),token2id)\n",
    "    query_vec = get_average_vector(test_query,word_vectors)\n",
    "    \n",
    "    ranking = []\n",
    "    \n",
    "    for i in range(1,num_documents+1):\n",
    "        ext_doc_ID = int2ext_ids[i]\n",
    "        average_doc_vec = doc2vec[i]\n",
    "\n",
    "        score = ssd.cosine(average_query_vec,average_doc_vec)\n",
    "\n",
    "        ranking.append((ext_doc_ID,score))\n",
    "    \n",
    "    ranking.sort(key=itemgetter(1))\n",
    "    \n",
    "    return ranking[:1000]"
   ]
  },
  {
   "cell_type": "code",
   "execution_count": 55,
   "metadata": {
    "collapsed": true
   },
   "outputs": [],
   "source": [
    "import scipy.spatial.distance as ssd\n",
    "import time\n",
    "from collections import Counter\n",
    "def top1000(query_ids):\n",
    "    #First we get the top 1000 documents for every query\n",
    "    top1000_dict = {}\n",
    "\n",
    "    for query_id in query_ids:\n",
    "        tfidf_dict = {}\n",
    "        query_ids = [token2id.get(query_token,0) for query_token in index.tokenize(queries[query_id])] #get ids for all the words\n",
    "        query_ids = [word_id for word_id in query_ids if word_id > 0] #remove stop words\n",
    "        for int_document_id in range(index.document_base(), index.maximum_document()):\n",
    "            tfidf_score = 0\n",
    "            for term_id in query_ids:\n",
    "                if int_document_id in inverted_index[term_id].keys():\n",
    "                    tfidf_score += tfidf(int_document_id, term_id, collection_frequencies[term_id])\n",
    "                else: \n",
    "                    tfidf_score += 0.0\n",
    "            tfidf_dict[int_document_id] = tfidf_score\n",
    "\n",
    "        top1000 = sorted(tfidf_dict.items(), key=lambda x:-x[1])[:1000]\n",
    "        top1000_keys = [i[0] for i in top1000]\n",
    "        top1000_dict[query_id] = top1000_keys\n",
    "\n",
    "    return top1000_dict\n",
    "\n",
    "def word2vec_advanced1(query):\n",
    "    start = time.time()\n",
    "    query_words = query.split()\n",
    "    query_words = remove_punctuation(query_words,token2id)\n",
    "    print(query_words)\n",
    "    scores = []\n",
    "    query_matrix = np.zeros((len(query_words),100)) \n",
    "    for i in range(0,len(query_words)):\n",
    "        try:\n",
    "            query_matrix[i] = get_vector_for_word(query_words[i],word_vectors)\n",
    "        except: \n",
    "            print(query_words[i])\n",
    "            query_matrix[i] = [1 for i in range(0,100)] #WILLEN WE DIT?\n",
    "    for int_doc_id in range(index.document_base(), index.maximum_document()):\n",
    "        new_dict = {}\n",
    "        _, doc_token_ids = index.document(int_doc_id)\n",
    "\n",
    "        doc_counter = dict(Counter(doc_token_ids))\n",
    "\n",
    "        relevant_word_ids = dict(Counter(doc_counter).most_common(10))\n",
    "        \n",
    "        if 0 in relevant_word_ids.keys():\n",
    "            del relevant_word_ids[0]\n",
    "\n",
    "        doc_words = []\n",
    "        for i in relevant_word_ids:\n",
    "            doc_words.append(id2token[i])\n",
    "\n",
    "        doc_matrix = np.zeros((len(doc_words),100))  \n",
    "        for i in range(0,len(doc_words)):\n",
    "            doc_matrix[i] = get_vector_for_word(doc_words[i],word_vectors)\n",
    "\n",
    "        scores.append(np.sum(np.dot(query_matrix,doc_matrix.T))/(len(query_words)))\n",
    "    print(time.time() - start)\n",
    "\n",
    "    return scores\n",
    "\n",
    "def word2vec_advanced2(query,query_id,query_dict):\n",
    "    start = time.time()\n",
    "    query_words = query.split()\n",
    "    query_words = remove_punctuation(query_words,token2id)\n",
    "    print(query_words)\n",
    "    scores = []\n",
    "    query_matrix = np.zeros((len(query_words),100)) \n",
    "    for i in range(0,len(query_words)):\n",
    "        try:\n",
    "            query_matrix[i] = get_vector_for_word(query_words[i],word_vectors)\n",
    "        except: #Since word vector are trained using documents we can have new words here\n",
    "            print(query_words[i])\n",
    "            query_matrix[i] = [1 for i in range(0,100)]\n",
    "            \n",
    "    for int_doc_id in query_dict[query_id]:\n",
    "        _, doc_token_ids = index.document(int_doc_id)\n",
    "        doc_words = []\n",
    "        \n",
    "        for i in doc_token_ids:\n",
    "            if i != 0:\n",
    "                doc_words.append(id2token[i])\n",
    "                \n",
    "        doc_matrix = np.zeros((len(doc_words),100))  \n",
    "        for i in range(0,len(doc_words)):\n",
    "            doc_matrix[i] = get_vector_for_word(doc_words[i],word_vectors)\n",
    "            \n",
    "        scores.append(np.sum(np.dot(query_matrix,doc_matrix.T))/(len(query_words)))\n",
    "    print(time.time() - start)\n",
    "\n",
    "    return scores\n",
    "\n"
   ]
  },
  {
   "cell_type": "code",
   "execution_count": 43,
   "metadata": {
    "scrolled": true
   },
   "outputs": [
    {
     "name": "stdout",
     "output_type": "stream",
     "text": [
      "{'170': 'The Consequences of Implantation of Silicone Gel Breast Devices', '143': 'Why Protect U.S. Farmers?', '167': 'Regulation of the showing of violence and explicit sex in motion picture theaters, on television, and on video cassettes.', '93': 'What Backing Does the National Rifle Association Have?', '114': 'Non-commercial Satellite Launches', '158': 'Term limitations for members of the U.S. Congress', '123': 'Research into & Control of Carcinogens', '111': 'Nuclear Proliferation', '120': 'Economic Impact of International Terrorism', '192': 'Oil Spill Cleanup', '180': 'Ineffectiveness of U.S. Embargoes/Sanctions', '135': 'Possible Contributions of Gene Mapping to Medicine', '86': 'Bank Failures', '182': 'Commercial Overfishing Creates Food Fish Deficit', '57': 'MCI', '144': 'Management Problems at the United Nations', '53': 'Leveraged Buyouts', '89': '\"Downstream\" Investments by OPEC Member States', '173': 'Smoking Bans', '74': 'Conflicting Policy', '103': 'Welfare Reform', '69': 'Attempts to Revive the SALT II Treaty', '95': 'Computer-aided Crime Detection', '155': 'Right Wing Christian Fundamentalism in U.S.', '94': 'Computer-aided Crime', '165': 'Tobacco company advertising and the young', '78': 'Greenpeace', '151': 'Coping with overcrowded prisons', '90': 'Data on Proven Reserves of Oil & Natural Gas Producers', '92': 'International Military Equipment Sales'} {'170': [160131, 105125, 163404, 107382, 130548, 35214, 154202, 157281, 58977, 58952, 120994, 106110, 156013, 50650, 161316, 50888, 98192, 15344, 28030, 154527, 35847, 13066, 63790, 74565, 23424, 131012, 16838, 58913, 120995, 64193, 16400, 25357, 88109, 117222, 119127, 159734, 53441, 58800, 2087, 33969, 84318, 119755, 152682, 152939, 132325, 1734, 51680, 52955, 83406, 103869, 136713, 145372, 157847, 163984, 155982, 892, 14009, 46723, 73758, 131717, 147076, 36439, 42372, 78728, 132447, 142754, 13946, 57327, 58772, 159931, 12037, 37591, 41013, 91934, 92575, 109741, 136967, 158870, 159736, 31308, 45439, 138663, 12285, 20280, 80247, 113741, 127790, 1641, 20591, 66031, 91300, 94414, 107771, 109758, 119153, 124927, 130490, 135798, 155288, 17022, 110483, 477, 71395, 100667, 108554, 113593, 116094, 126205, 156058, 159673, 10340, 120978, 28183, 66783, 153741, 8591, 88219, 58007, 30892, 54404, 4706, 37086, 52040, 67148, 40093, 40819, 41832, 50649, 81433, 90423, 92014, 97439, 98181, 104163, 112168, 136293, 136973, 157848, 60778, 16466, 86448, 147880, 4317, 8335, 20361, 26331, 35087, 48534, 50451, 57144, 66120, 70475, 79820, 80137, 97240, 98948, 104814, 107493, 144804, 145812, 159092, 9607, 133426, 144853, 746, 4418, 12017, 16103, 21326, 29424, 30555, 36068, 37616, 50518, 59134, 63961, 88826, 94082, 99439, 106772, 118792, 121900, 140430, 145952, 150953, 151014, 164199, 2245, 6341, 9461, 11700, 13326, 13670, 23130, 24122, 30934, 32715, 35300, 40349, 42966, 48326, 53308, 57197, 59619, 75740, 79471, 81234, 88469, 96008, 100321, 102051, 110426, 111489, 112015, 112918, 116002, 117475, 137013, 139691, 140051, 6909, 7096, 95327, 154194, 2485, 8283, 33862, 45029, 69216, 77490, 89569, 104472, 144406, 71087, 10783, 11768, 14644, 25159, 35349, 35396, 64098, 78325, 92574, 100580, 102577, 102906, 111818, 126423, 127602, 138659, 138689, 139076, 144215, 146042, 338, 2902, 6549, 9760, 9872, 10962, 14452, 18894, 20458, 23579, 35107, 35983, 40265, 47619, 47904, 53048, 54753, 58351, 58362, 58731, 61290, 62171, 63427, 64912, 66022, 67932, 71957, 73581, 74953, 78805, 79211, 81183, 82708, 86278, 88078, 88079, 88180, 88442, 88478, 90861, 92624, 93133, 95855, 97607, 100577, 101864, 104417, 108654, 108829, 111907, 112557, 114013, 114146, 116783, 116953, 119684, 119924, 121473, 121609, 124497, 124722, 127333, 130099, 131164, 131737, 133581, 133871, 143660, 143664, 143764, 143894, 149056, 149728, 150610, 150880, 156445, 156592, 157565, 160060, 161257, 161362, 163475, 12185, 15394, 50149, 50188, 51261, 56326, 57392, 62421, 73399, 90462, 91163, 93400, 98442, 104054, 107283, 107867, 109604, 126068, 144269, 147976, 154255, 154361, 159682, 162691, 12080, 19172, 23725, 25540, 26305, 29615, 32427, 34049, 40949, 41097, 41175, 72009, 81203, 81624, 90392, 91066, 93201, 99834, 100559, 107766, 111942, 114043, 115813, 119149, 122691, 123190, 124381, 130435, 131893, 132136, 137779, 140437, 144224, 144426, 145536, 150001, 162450, 22308, 46005, 86346, 118472, 135796, 144019, 147944, 153967, 3276, 38546, 39027, 50383, 55423, 63904, 67114, 67937, 72526, 84398, 93535, 99443, 99508, 113276, 134504, 135301, 135528, 144720, 149552, 1866, 3060, 4987, 5773, 7762, 8415, 12521, 14381, 14479, 19359, 19362, 19892, 22758, 22954, 28273, 31876, 33307, 33663, 34089, 37893, 38780, 41351, 42262, 43829, 44099, 45744, 46792, 50510, 52615, 55283, 62558, 62574, 62614, 65107, 67129, 71000, 72164, 72214, 72291, 74123, 80683, 83239, 83252, 86931, 88677, 88825, 88895, 89109, 89195, 101145, 102120, 103795, 111077, 112020, 112656, 112954, 120223, 121917, 128534, 130419, 130443, 131397, 135214, 135481, 135526, 136833, 142863, 146615, 147271, 147781, 149315, 151669, 152341, 152890, 153039, 156502, 156620, 157687, 157753, 158694, 161992, 163992, 2108, 2248, 3042, 3128, 4219, 4563, 5324, 5726, 5742, 6621, 7318, 9876, 11146, 11223, 11439, 11952, 12849, 13441, 15500, 18120, 19239, 19322, 19981, 20002, 20343, 20895, 22236, 22801, 23319, 24131, 24586, 25463, 25565, 26076, 30610, 32106, 32466, 33077, 34213, 35302, 35385, 35649, 35834, 36374, 41515, 41608, 41910, 42928, 44307, 44528, 45015, 45812, 46413, 46512, 47595, 47927, 49742, 50384, 50620, 51045, 54083, 54280, 54620, 54743, 55732, 56284, 56987, 57832, 58442, 58944, 60835, 61289, 62086, 64070, 66245, 67049, 69387, 70024, 70662, 71070, 71930, 72674, 73673, 73709, 73732, 74115, 74231, 74459, 74553, 75767, 77310, 77519, 77593, 78245, 78810, 78849, 78865, 80153, 80540, 82173, 82593, 82953, 83498, 84019, 84963, 85405, 85458, 86884, 87874, 88037, 88353, 88472, 88498, 89510, 91151, 91529, 91991, 92098, 92664, 94418, 94897, 95498, 100004, 100193, 100378, 100548, 102065, 102124, 103242, 104570, 105287, 106544, 107660, 107788, 108511, 108707, 109295, 109843, 110676, 112920, 113390, 114079, 114561, 114573, 116260, 117096, 122898, 122943, 124629, 124752, 125983, 126691, 127390, 127509, 130198, 131163, 131740, 131875, 131922, 131945, 132638, 132833, 133151, 133252, 134003, 135126, 136560, 138209, 138336, 138409, 141528, 141602, 142570, 142611, 143579, 143867, 144120, 145418, 145820, 145969, 147877, 147894, 149253, 149333, 149652, 149779, 150086, 150806, 151358, 151451, 152942, 153787, 154263, 160527, 163117, 164338, 378, 812, 1461, 2216, 2217, 2218, 2742, 2974, 3268, 4546, 4575, 5161, 6431, 6443, 7366, 7367, 8368, 10227, 10418, 10975, 12987, 13702, 13718, 14327, 14700, 15178, 16267, 19179, 19773, 21366, 21860, 22664, 25423, 25724, 27062, 27545, 27561, 27714, 28075, 28740, 28823, 29873, 30755, 31571, 32595, 32622, 33840, 34841, 36570, 37042, 37078, 38526, 39155, 39609, 39741, 40382, 41544, 42915, 43281, 44167, 44903, 46690, 46772, 47675, 47957, 48453, 48631, 48764, 49188, 49518, 50713, 51891, 52668, 52974, 52978, 53096, 54192, 54603, 55515, 57586, 57604, 57943, 58486, 58624, 60058, 60299, 60786, 62731, 63026, 63109, 64113, 64952, 66310, 66328, 66349, 66594, 67927, 67933, 68791, 69791, 70015, 70382, 70775, 73443, 73485, 73820, 74854, 76959, 77021, 77691, 78061, 78609, 81096, 81384, 81405, 81695, 85816, 86731, 86829, 88089, 88806, 90529, 91871, 92016, 93541, 94594, 94604, 94933, 97350, 97403, 98270, 99114, 99137, 99449, 99751, 100077, 101521, 101887, 102313, 103369, 104539, 104615, 104708, 105270, 106256, 106384, 107589, 107753, 107993, 108371, 108489, 109075, 109765, 109779, 109781, 111302, 112199, 112354, 112537, 113660, 114331, 114571, 116751, 117638, 120436, 121335, 122104, 122960, 123097, 123844, 125520, 126323, 126705, 131349, 131507, 131598, 133958, 135738, 135873, 136291, 140491, 142930, 143261, 143544, 144441, 144752, 147242, 147852, 147954, 148063, 149667, 149853, 150558, 151048, 151337, 152440, 154025, 154050, 155167, 155677, 156040, 156686, 156885, 157720, 158861, 159422, 160546, 160951, 162770, 162809, 164003, 164038, 19, 247, 414, 747, 761, 977, 1090, 1361, 1371, 1465, 1583, 1603, 1675, 1852, 1856, 1946, 2008, 2381, 2387, 2422, 2678, 3070, 3121, 3221, 3299, 3433, 3435, 3517, 3650, 3746, 3827, 3836, 3857, 3958, 4023, 4329, 4348, 4358, 4569, 4835, 5013, 5173, 5356, 5533, 5710, 5854, 5923, 6046, 6061, 6304, 6455, 6661, 6715, 6774, 6818, 6940, 7070, 7613, 7901, 7969, 8088, 8144, 8421, 8490, 8653, 8739, 8900, 9022, 9035, 9232, 9328, 9540, 9810, 9826, 10012, 10068, 10073, 10181, 10187, 10272, 10290, 10343, 10558, 10672, 10700, 10844], '143': [24612, 28825, 28761, 56989, 38240, 28762, 28763, 21101, 41778, 74808, 104297, 49085, 49216, 93045, 140097, 131566, 10641, 4675, 131622, 65415, 65821, 34994, 65797, 10322, 67369, 74814, 95605, 118246, 74895, 56890, 136885, 131545, 79996, 42720, 8571, 30869, 99084, 3853, 33381, 31071, 112323, 21638, 24241, 55801, 71489, 74803, 102420, 109961, 132698, 130332, 133810, 163246, 82782, 125098, 148879, 57597, 47698, 71370, 109733, 82801, 121584, 124380, 93736, 26464, 12847, 41751, 99643, 130342, 99149, 115289, 17332, 115856, 17769, 129053, 131496, 131499, 137235, 108513, 153700, 70256, 91016, 98740, 119981, 138197, 131788, 64801, 69315, 64802, 69316, 159799, 41168, 43367, 145757, 1869, 154691, 19508, 27934, 99645, 7615, 99881, 148540, 116861, 5792, 136956, 22614, 93478, 125694, 41490, 52013, 54895, 61822, 81654, 98401, 148786, 26078, 47027, 95300, 148799, 154094, 159159, 19985, 24729, 141456, 41057, 48204, 29932, 72356, 84646, 109160, 152719, 129086, 158097, 46632, 55558, 56521, 104525, 22469, 30799, 57384, 110012, 126917, 46805, 45229, 73121, 10902, 15883, 55147, 62212, 85304, 111424, 118468, 5303, 35050, 53636, 61622, 74821, 83302, 113140, 125973, 67680, 60599, 107486, 157468, 8592, 33978, 76433, 144932, 157784, 161189, 14415, 133154, 25126, 54526, 136717, 146763, 722, 12788, 13509, 29387, 36136, 87170, 95322, 138868, 144072, 150244, 54527, 145143, 99166, 33552, 53546, 16114, 113920, 84966, 142120, 155936, 20223, 25306, 35854, 50678, 14162, 17409, 19647, 37582, 64799, 77880, 87186, 121797, 136917, 139504, 142089, 142875, 142985, 151022, 153910, 161108, 163714, 20589, 21956, 23607, 33383, 48089, 64797, 73113, 99886, 108457, 143673, 161874, 162818, 2563, 31520, 46568, 61295, 148694, 126032, 5567, 8626, 22470, 29416, 34333, 60373, 65493, 66676, 71347, 85571, 87185, 89681, 100850, 104716, 112076, 117236, 130500, 131619, 135476, 148070, 151222, 151507, 153804, 155264, 69, 3568, 7547, 14308, 25532, 29598, 43180, 59924, 62158, 72176, 87152, 127901, 143754, 163798, 54061, 7468, 8356, 55160, 77498, 80387, 92765, 96255, 117494, 157850, 50609, 87010, 19619, 27219, 29082, 31143, 33700, 34906, 40096, 46206, 54204, 55086, 58362, 82784, 83590, 134142, 144556, 627, 2980, 76004, 101787, 101817, 108626, 117673, 145113, 156166, 42372, 3307, 60992, 75823, 148563, 21876, 35075, 44294, 138746, 141157, 1234, 24868, 26143, 32404, 62600, 90724, 98176, 98622, 101615, 106191, 109298, 110349, 116378, 123831, 125674, 128769, 129039, 130006, 132066, 137334, 139794, 145883, 152896, 153404, 153572, 155032, 3350, 10243, 15189, 57301, 60202, 64350, 81308, 84752, 96836, 97882, 104964, 158860, 159122, 162891, 1266, 1384, 51933, 77049, 67547, 100411, 112288, 122037, 3431, 73040, 5857, 45190, 116602, 73363, 39846, 57884, 71976, 142663, 44038, 32399, 282, 2058, 18556, 19989, 21123, 26465, 26659, 27286, 30021, 30480, 36075, 36882, 38258, 56664, 61919, 68688, 70027, 70225, 71374, 77232, 83310, 85421, 89336, 93453, 94029, 105874, 113812, 115946, 121356, 121623, 130645, 136645, 138901, 138934, 139629, 139873, 143027, 147993, 153072, 159197, 160167, 161484, 9938, 21927, 28870, 38627, 54205, 88411, 102193, 106508, 119675, 145813, 153053, 2628, 27688, 27731, 5791, 21741, 73593, 83308, 147459, 10973, 11167, 88260, 154972, 93149, 6631, 73310, 104238, 17809, 12985, 48380, 117075, 30812, 52584, 68206, 80917, 87278, 119219, 127871, 8811, 10963, 29093, 33382, 34103, 38949, 43836, 49185, 49512, 54252, 58715, 60811, 64043, 64798, 67117, 67168, 73873, 75282, 76695, 77224, 81099, 84939, 91127, 92705, 96114, 96468, 98749, 103042, 104786, 108482, 110357, 112244, 113711, 114806, 115815, 115898, 118276, 119279, 126376, 132096, 135662, 140602, 145742, 148341, 153164, 156684, 159484, 162527, 163548, 36340, 102992, 104549, 143251, 154486, 22257, 69295, 156500, 1253, 43214, 892, 108228, 152423, 12106, 16905, 32058, 35588, 45286, 50345, 66892, 68711, 88023, 91080, 93107, 94425, 94610, 98307, 99470, 112988, 122780, 130797, 130887, 135703, 135811, 144830, 146128, 150893, 158233, 162675, 164464, 22616, 138307, 142693, 151218, 3185, 8325, 9984, 22806, 32582, 35066, 37739, 38025, 43107, 43408, 90914, 93963, 112131, 112291, 112347, 126360, 137890, 141952, 152876, 160242, 160305, 150867, 22544, 34685, 47770, 109455, 40863, 67934, 93668, 8163, 10218, 14720, 15266, 19045, 19215, 20221, 22559, 23422, 25434, 30554, 33669, 35266, 36148, 38609, 41867, 45197, 45420, 51175, 56575, 58872, 58956, 62230, 68532, 69864, 71000, 72205, 74532, 79607, 81616, 83170, 86006, 86248, 87413, 87761, 93052, 93709, 94612, 94664, 105649, 106974, 115342, 118683, 118910, 119842, 121334, 121363, 123319, 125723, 129587, 132687, 133488, 135321, 138801, 146697, 147516, 150891, 152248, 156596, 162235, 163726, 7644, 8030, 33412, 68203, 68587, 73358, 114644, 121316, 133899, 135030, 250, 14534, 39113, 52015, 65462, 79502, 138366, 152863, 33012, 35722, 51759, 54754, 54952, 72386, 74588, 84356, 84395, 107690, 31145, 46724, 49040, 52368, 52374, 52394, 67347, 95452, 112180, 123795, 8222, 9738, 16500, 45518, 59982, 65877, 73351, 79514, 3862, 13846, 14478, 19851, 22488, 33307, 34568, 35095, 35138, 41291, 42153, 47369, 48597, 49609, 55527, 64783, 66024, 66201, 67611, 74394, 75681, 78371, 89650, 95622, 97739, 99473, 105539, 131973, 132733, 134632, 147955, 148095, 155684, 155825, 155933, 161725, 162281, 162728, 163229, 163345, 6334, 10797, 33834, 35157, 63879, 114636, 119688, 150055, 159721, 130299, 10654, 18243, 57659, 78375, 112926, 133295, 157378, 5318, 6634, 20445, 36405, 39979, 48174, 50395, 53083, 64220, 71651, 90843, 132420, 153828, 164342, 16369, 32818, 35985, 37102, 40177, 59369, 64323, 77595, 78437, 81379, 81968, 88088, 89274, 91966, 114100, 1519, 1837, 2777, 3959, 7018, 9696, 11572, 12797, 13329, 15354, 18191, 21863, 24571, 29120, 33557, 40481, 43506, 43508, 43664, 45391, 46190, 48447, 49336, 50843, 52317, 56006, 58680, 60092, 60374, 60461, 61178, 62297, 69081, 73671, 74123, 75009, 78675, 79823, 80496, 80679, 81025, 85274, 87191, 87241, 89276, 90233, 90765, 91374, 91455, 93384, 93723, 93739, 95479, 98029, 98568, 100754, 103076, 103774, 104056, 107593, 107914, 108206, 109277, 113822, 114199, 114478, 116458, 119765, 121223, 121621, 121883, 124512, 128882, 130809, 131105, 131130, 132999, 134835, 135553, 136221, 136594, 136692, 137995, 138912, 139644, 139654, 140644, 141579, 141801, 142761, 142891, 143124, 149560, 153799, 153942, 154103, 155447, 156866, 157929, 158953, 162918, 163035, 8415, 12458, 24381, 36799, 38257, 49879, 49921, 52014, 55531, 88511, 120165, 122956, 123168, 135663, 163072, 7426, 13462, 28516, 30191, 31470, 31925, 49169, 57988, 65403, 70243, 76544, 85068, 91158, 95648, 96648, 98943, 128490, 128492, 135526, 142578, 144557, 14599, 40736, 92704, 94289, 109780, 114109, 114887, 120460, 142636, 150558, 150801, 248, 1795, 11082, 15887, 17295, 38323, 38495, 42240, 51696, 52309, 58869, 61850, 63900, 67144, 79482, 138364, 162307, 1944, 21492, 60002, 64239, 143672, 69065, 93964, 96512, 112356, 127730, 144575, 145195, 229, 3233, 8514, 11858, 16920, 16926, 19800, 22464, 28265, 29778, 35529, 36406, 55080, 55334, 58696, 60459, 62295, 63516, 63772, 65202, 65331, 68649, 71288, 75432, 77592, 93151, 97972, 118963, 120597, 125682, 126170, 129042, 131408, 133499, 137840, 163651, 6131, 17981, 38320, 45692, 47227, 50270, 53803, 64204, 74136, 77679, 81601, 91171, 92065], '167': [89565, 373, 60778, 88419, 92649, 21705, 161943, 127569, 19106, 113423, 83182, 23591, 69092, 69113, 142965, 125673, 50591, 137880, 65123, 9057, 135302, 69093, 44594, 90451, 142439, 5193, 98107, 89044, 151146, 87474, 106138, 69114, 109169, 40548, 35907, 164259, 156246, 63397, 1461, 48631, 78491, 159785, 160658, 134807, 67999, 92996, 32278, 34331, 33539, 150912, 32201, 100158, 16571, 72215, 33535, 71675, 91673, 1666, 92837, 110339, 59125, 149864, 111981, 129656, 163151, 118200, 162992, 147887, 51391, 75744, 80431, 31195, 129962, 109266, 59866, 137566, 16828, 128862, 39970, 144891, 111977, 120513, 141037, 21822, 20191, 54543, 134379, 10220, 145323, 151396, 72283, 42295, 13885, 86722, 117435, 46613, 63262, 76444, 139736, 62491, 156087, 70936, 39382, 134587, 18969, 109957, 9413, 153501, 61553, 92926, 65756, 12779, 137586, 114566, 103032, 148997, 36069, 85798, 10260, 20170, 144795, 35906, 32206, 98123, 53175, 81339, 86501, 7164, 46069, 19992, 49182, 33566, 14877, 37879, 103825, 134843, 9731, 35827, 28197, 38930, 118710, 125078, 37075, 160773, 7036, 75812, 108190, 149741, 9579, 81403, 124403, 134088, 133581, 107269, 98124, 93461, 145830, 36270, 140722, 41667, 22279, 114205, 80288, 61558, 17498, 55599, 17389, 59757, 65502, 57987, 155112, 162555, 89618, 63046, 135347, 46345, 99883, 78194, 162143, 114377, 120721, 9363, 28276, 32200, 49477, 71191, 34911, 873, 14387, 64253, 25428, 63623, 6624, 6925, 24195, 107579, 8436, 26652, 132330, 36738, 1380, 59207, 61665, 143060, 75488, 7190, 79897, 89587, 107270, 112366, 133753, 151287, 32499, 81978, 144547, 128578, 156836, 86088, 12342, 39004, 129550, 32505, 75371, 57372, 8280, 149, 117056, 159727, 81429, 106382, 131656, 19352, 79180, 56973, 163819, 51408, 45072, 141624, 8331, 143754, 109463, 137164, 33034, 35226, 148717, 78619, 153748, 95553, 58461, 46027, 119202, 63026, 54006, 126914, 46997, 109778, 65585, 33538, 162543, 99852, 144595, 56632, 95042, 67325, 24965, 151569, 95013, 65563, 65609, 33072, 36590, 112805, 124319, 156802, 83019, 32202, 20706, 55350, 155558, 86529, 96942, 117017, 148577, 41410, 130553, 68181, 26714, 79808, 44203, 37681, 40724, 73833, 80646, 80881, 82774, 88500, 120370, 126325, 31374, 148123, 147961, 92662, 57083, 108250, 22829, 33817, 72522, 42191, 130871, 55511, 85473, 42757, 82609, 832, 107833, 115293, 138236, 156955, 136457, 27321, 39121, 27982, 58884, 55776, 17122, 101197, 86426, 57916, 151157, 47699, 67059, 149571, 32476, 85691, 15876, 147895, 47314, 69250, 89418, 86910, 115262, 152446, 79924, 133168, 133975, 84513, 12367, 153015, 41981, 91475, 161821, 68797, 35481, 17400, 148609, 67178, 116428, 145319, 150214, 87124, 16903, 114886, 95870, 84673, 51209, 130115, 118357, 82760, 126324, 44595, 32210, 833, 2237, 27553, 55810, 65440, 78380, 95568, 1870, 37931, 100330, 103280, 104194, 133212, 134568, 26651, 81928, 85784, 41696, 39005, 31868, 99841, 23358, 113251, 153812, 153842, 101179, 20185, 40323, 110770, 43663, 38964, 140250, 147316, 157476, 53693, 22707, 77141, 147888, 113337, 42269, 41365, 30192, 81132, 151593, 151680, 7324, 53540, 57215, 96064, 146646, 594, 103092, 12819, 147889, 64472, 78586, 31541, 83140, 130757, 67151, 102827, 3258, 148782, 75900, 9022, 143994, 133752, 5670, 117673, 96647, 150211, 153500, 13016, 57257, 91373, 112780, 162959, 151266, 5024, 108708, 93784, 153811, 153813, 1231, 75688, 39221, 162817, 143753, 14023, 15874, 149570, 151154, 21463, 78610, 79961, 157594, 115520, 16273, 149777, 75499, 45155, 164543, 136073, 92048, 29038, 139706, 60070, 34324, 6566, 144971, 149989, 90466, 43621, 43926, 19901, 113594, 79077, 13248, 51797, 75064, 119677, 126986, 156001, 158758, 234, 20798, 25814, 33751, 39729, 40078, 63031, 64815, 66409, 71949, 78114, 106766, 159530, 89707, 8442, 32197, 109149, 66408, 116094, 56857, 114814, 160529, 119383, 4146, 14089, 22709, 22943, 66564, 51774, 97411, 154384, 145873, 155647, 114998, 124168, 7143, 3349, 50996, 18561, 68154, 104927, 149049, 128790, 107264, 29831, 139021, 78447, 78072, 36064, 34576, 93978, 42140, 77159, 77193, 10422, 13240, 5232, 46612, 3092, 4672, 82784, 14495, 43295, 150750, 123025, 20671, 96509, 149491, 27771, 37193, 161380, 160389, 107267, 60012, 110952, 146961, 22741, 84501, 92764, 95871, 103799, 128484, 135421, 120317, 131687, 145210, 58840, 13455, 32204, 132638, 67643, 90084, 162890, 38060, 79166, 27702, 161045, 77067, 77244, 96045, 140802, 5203, 38268, 33533, 137685, 158431, 4116, 20305, 155542, 95367, 83586, 25656, 94289, 44910, 131658, 125034, 41841, 47180, 144199, 150935, 61867, 70743, 140338, 162905, 14521, 34000, 39044, 93486, 29659, 44252, 84117, 84547, 68389, 92867, 158511, 112365, 151105, 66755, 119088, 14490, 22949, 102005, 102196, 124077, 157761, 161626, 95625, 131033, 46705, 70820, 74023, 8590, 48361, 90696, 8960, 74422, 39892, 10745, 49693, 18214, 90823, 51014, 13285, 46076, 11370, 102875, 33362, 133187, 82821, 6923, 24194, 106682, 14547, 152604, 73794, 106773, 7678, 88997, 28193, 42561, 130516, 25674, 151015, 163721, 132090, 11160, 17123, 29908, 120352, 107747, 8447, 64479, 83054, 150950, 85315, 12091, 10761, 68391, 75370, 12453, 1989, 28282, 118578, 12659, 18204, 90457, 151170, 26079, 144870, 162104, 134549, 164513, 62144, 20455, 46734, 121544, 75816, 83071, 1665, 16134, 46675, 73587, 119458, 139738, 63857, 93019, 21513, 147259, 145728, 58416, 2240, 54002, 76008, 108460, 161283, 134472, 64137, 30224, 153200, 9639, 133740, 134491, 47365, 67155, 61297, 86296, 94570, 96474, 128077, 132152, 150410, 162694, 162853, 162180, 75901, 91465, 128606, 17352, 57646, 98541, 97675, 13356, 3593, 31334, 73105, 3328, 48179, 115826, 158108, 74712, 99894, 145260, 52433, 95977, 45882, 56790, 16277, 117129, 103805, 128485, 160633, 37684, 159523, 150350, 66359, 158857, 131980, 23177, 66183, 123003, 143795, 124069, 14541, 42415, 100463, 82449, 5421, 162545, 38516, 65522, 77798, 13161, 29346, 113753, 21788, 70593, 108451, 149879, 20789, 19105, 3070, 9580, 94042, 74156, 17702, 20536, 71539, 7711, 139596, 82145, 78531, 91683, 21759, 32841, 92501, 92577, 94427, 113692, 115605, 131081, 133241, 144756, 150305, 28691, 104819, 120744, 127797, 72893, 22012, 23357, 75183, 146224, 160545, 133096, 140056, 15559, 34309, 58816, 77577, 79179, 134468, 146128, 101890, 127822, 81476, 60483, 132214, 132302, 99927, 5474, 7377, 10640, 13246, 23325, 24574, 45490, 46071, 47515, 56974, 59141, 61557, 66781, 76690, 21431, 164547, 102157, 86355, 59126, 769, 144969, 103293, 9360, 10864, 17300, 75740, 110924, 130925, 4622, 784, 21391, 41902, 49524, 87425, 49632, 32190, 134764, 159726, 132635, 162874, 53105, 57945, 161037, 124098, 16284, 113157, 92350, 18106, 51999, 9224, 136555, 56713, 11230, 40374, 130973, 131537, 156688, 78486, 36074, 40855, 148115, 82397, 111908, 19998, 43939, 38751, 160999, 85794, 15007, 99176, 138242, 18645, 44350, 23298, 50446, 110566, 12326, 30460, 35174, 36564, 51549, 60909, 79199, 94442, 111936, 115270, 116304, 121619, 123085, 131227, 139312, 152971, 153398, 162880, 37843, 77637, 58803, 94046, 138249, 62294, 100225, 123673, 115283, 137854, 37736, 146051, 147870, 149247, 154037, 23689, 14800, 131851, 136411, 157370, 6508, 109910, 29902, 93686, 17946, 56425, 74435, 78309, 96648, 110449, 135939, 158288, 66760, 9323, 21034, 42703, 74131, 83771, 156336, 12611, 25547, 82758, 110547, 37930, 55886, 80287, 156249, 50848, 57143, 46441, 104847, 143748], '93': [129951, 26459, 80860, 91741, 97172, 10798, 17407, 40862, 59540, 87786, 84619, 47954, 121754, 6780, 37496, 81239, 140514, 152867, 11641, 43464, 19746, 69643, 63839, 40249, 137780, 137781, 6726, 16000, 20434, 59532, 82863, 129105, 125827, 2137, 19752, 2077, 49642, 137965, 30032, 30194, 68340, 1070, 1105, 62942, 127809, 13048, 70569, 128535, 51635, 126567, 96809, 109583, 60977, 85330, 3086, 45919, 46766, 51842, 54483, 63819, 68175, 80703, 83723, 17592, 29689, 40148, 107459, 133215, 47949, 46676, 22511, 20089, 32385, 9190, 17997, 44273, 59646, 67416, 75981, 78074, 100438, 111503, 132034, 157443, 22913, 61529, 36016, 93755, 81463, 32948, 79512, 151527, 26799, 163664, 33800, 162611, 59743, 87067, 52310, 8014, 22835, 28337, 32655, 842, 156513, 148952, 139617, 2168, 55526, 61380, 62049, 67021, 75895, 110085, 111714, 127581, 127928, 134601, 158897, 20588, 40863, 148523, 77875, 5647, 14562, 20424, 26623, 37663, 38236, 44426, 46501, 46849, 47199, 48000, 48067, 60798, 60820, 63595, 65613, 71572, 79317, 79536, 90257, 115443, 149059, 666, 122139, 161950, 87806, 142443, 11949, 87952, 54506, 131196, 44033, 69460, 102987, 123393, 151143, 129947, 80181, 100453, 130046, 158764, 19042, 148545, 54610, 101573, 66172, 99524, 100403, 126931, 151851, 768, 32581, 107391, 139718, 13074, 35727, 124316, 141960, 92120, 2311, 53558, 73501, 151274, 9100, 1138, 36590, 134651, 72634, 105997, 46069, 52431, 119361, 128191, 152469, 164368, 39367, 60521, 113668, 157179, 136460, 123340, 142813, 145829, 159387, 950, 1132, 3657, 3714, 4246, 4333, 11436, 34289, 35599, 38366, 48708, 50558, 51252, 51524, 60858, 61853, 62424, 63745, 64436, 64706, 68753, 69574, 70487, 72181, 73270, 79632, 81189, 84355, 87605, 91458, 97266, 99221, 107950, 117079, 118807, 127580, 127927, 128665, 135829, 137813, 145734, 149765, 162400, 78714, 141100, 6890, 19921, 66871, 112880, 23417, 23428, 28064, 83132, 84119, 123537, 148469, 52242, 65547, 80983, 37070, 107428, 25399, 119151, 150373, 15775, 58637, 88367, 91373, 108708, 122396, 147146, 151456, 14407, 35074, 98575, 127748, 127754, 146628, 159200, 40659, 69180, 99554, 149334, 111417, 26491, 37674, 64654, 164530, 32747, 86300, 887, 18491, 21285, 48161, 99466, 100408, 102349, 108595, 108686, 110356, 141135, 19033, 143509, 6134, 66402, 94396, 139758, 12954, 64002, 108254, 142738, 43504, 43620, 64382, 68618, 87110, 88289, 102307, 106380, 108235, 144264, 144299, 153085, 3757, 22554, 27661, 57385, 60455, 98593, 108215, 142483, 44157, 58949, 111327, 118509, 141155, 153071, 16059, 36758, 41579, 62749, 87108, 123365, 134073, 135605, 156415, 162942, 162946, 78269, 143511, 18044, 62125, 62602, 142887, 24290, 33626, 107207, 126717, 153938, 163064, 117140, 115956, 142015, 2546, 5075, 7058, 7937, 11604, 23471, 23565, 31022, 45902, 47430, 48018, 60904, 63838, 65088, 68275, 74204, 77230, 80809, 81288, 84316, 85443, 86382, 89955, 94159, 95697, 98363, 104179, 105121, 109054, 110111, 115802, 118948, 121904, 128001, 128339, 132414, 133878, 138576, 144339, 154455, 155702, 160263, 89959, 90029, 137494, 21352, 45445, 1238, 6243, 14231, 89668, 96429, 108788, 109781, 117787, 119772, 124480, 133428, 153101, 159496, 15341, 54806, 16072, 21750, 29602, 30115, 37733, 37787, 37793, 37900, 45268, 56475, 78532, 89731, 91239, 104842, 118806, 127811, 130237, 137278, 163280, 66599, 67079, 122834, 128419, 104152, 4123, 12885, 13006, 18053, 25643, 28395, 31370, 65537, 66406, 78829, 88440, 110569, 126263, 134130, 151740, 162527, 116771, 13025, 19275, 25560, 31406, 57598, 74127, 76445, 87621, 97211, 116547, 147385, 31686, 69494, 112465, 52965, 59109, 63615, 82528, 2121, 2676, 3064, 3179, 5613, 5667, 5885, 6752, 6880, 15654, 17318, 18786, 20184, 22775, 22872, 22883, 25129, 29186, 33702, 35714, 40202, 41218, 43412, 43494, 43720, 43798, 43849, 45178, 46454, 46542, 51892, 54508, 57580, 59744, 60874, 65614, 66665, 66721, 67143, 68410, 69785, 70718, 73444, 75869, 78617, 82647, 82725, 87390, 91619, 96437, 96750, 96868, 97121, 101822, 105664, 106719, 107588, 107757, 108637, 109478, 109610, 110913, 113546, 113911, 115080, 115312, 118627, 119446, 119947, 122679, 124379, 125257, 126694, 127068, 128439, 130166, 130655, 133002, 135048, 135316, 135802, 136073, 137701, 141565, 142360, 142387, 148149, 148520, 152680, 154448, 154701, 154739, 154759, 154839, 154897, 154996, 158386, 158651, 1114, 4072, 10003, 25443, 64803, 87293, 90731, 99307, 113513, 125496, 125533, 162181, 164333, 153484, 20614, 32628, 36547, 38950, 41120, 49815, 56839, 58829, 60203, 67856, 77014, 79164, 80081, 81016, 85333, 99021, 99151, 100774, 102574, 110269, 110776, 112020, 116897, 118106, 118193, 123149, 123883, 125095, 137449, 138523, 143120, 147231, 151060, 151084, 155167, 156146, 162347, 81803, 93668, 106945, 122408, 142693, 164323, 21573, 47401, 60163, 80221, 98695, 106444, 122063, 92783, 158865, 90687, 1757, 2222, 3050, 5627, 7111, 14722, 16599, 31388, 38264, 50460, 54277, 56322, 59830, 64810, 65978, 67987, 72582, 72702, 75051, 76769, 78628, 79591, 91683, 99973, 99974, 102787, 105269, 105696, 105810, 109455, 113666, 115303, 125070, 126683, 131379, 137508, 137542, 152388, 154177, 154327, 157956, 161209, 163004, 132731, 137735, 15570, 23424, 25336, 53881, 54074, 56327, 72261, 90304, 2156, 28193, 49597, 55819, 68608, 71794, 76705, 128417, 2037, 2150, 21743, 43532, 54343, 106143, 123549, 130391, 55230, 110218, 110912, 152332, 149, 3570, 29941, 39952, 60255, 163167, 914, 962, 3103, 3685, 3711, 4694, 4720, 6271, 7042, 8264, 8351, 8367, 9013, 16672, 18003, 18826, 21770, 22093, 23192, 27516, 28344, 29245, 30375, 30985, 38619, 39115, 39857, 42268, 43365, 44153, 45609, 45859, 52588, 52611, 53192, 57357, 59074, 60052, 61824, 62013, 62876, 63565, 64757, 65719, 66398, 67573, 67579, 70415, 71241, 73879, 74359, 74877, 75448, 75548, 76876, 79617, 79873, 80406, 84358, 85229, 88272, 90569, 90867, 91536, 92635, 92639, 96266, 97706, 97929, 99325, 99350, 102224, 103114, 104361, 104439, 107429, 108025, 108112, 109370, 111212, 111996, 113199, 114282, 119256, 119784, 120139, 122723, 123646, 126489, 126971, 127510, 131218, 133376, 133945, 134040, 135109, 136242, 138686, 143044, 145350, 148282, 148445, 148923, 149224, 149987, 153377, 155818, 155843, 157377, 162414, 163014, 163672, 85918, 8436, 14005, 16326, 17234, 24473, 25053, 43414, 46249, 56855, 63948, 64237, 65435, 65944, 68664, 68803, 71754, 78646, 80461, 97615, 99101, 111736, 117074, 129022, 134020, 142730, 150291, 151127, 162992, 141254, 7769, 8421, 54593, 27318, 90278, 164108, 970, 4126, 9613, 11088, 17940, 21624, 22959, 62145, 71934, 74262, 99898, 107867, 111765, 115849, 6192, 19577, 39768, 44190, 44200, 117511, 121300, 136256, 1574, 3150, 5359, 10088, 10166, 17876, 40902, 61665, 68200, 68297, 79793, 96267, 96627, 102369, 105534, 108678, 111632, 113024, 116961, 119957, 120482, 122098, 129306, 140191, 5551, 5700, 16904, 32997, 34103, 34706, 36977, 40353, 49041, 50221, 101314, 104524, 107583, 113180, 115965, 127836, 127841, 131245, 135428, 138364, 142635, 142686, 156093, 162686, 40149, 58843, 88574, 119572, 175, 1923, 4257, 10988, 11750, 14086, 16965, 20839, 21582, 23113, 26287, 27231, 29206, 29378, 30086, 39397, 52101, 56794, 57110, 58473, 63168, 64257, 65707, 67233, 68715, 69073, 70087, 72288, 74383, 81056, 82227, 86212, 87426, 88120, 90361, 90599, 91994, 96737, 97605, 99484, 107951, 113760, 118414], '114': [56506, 116727, 88271, 116249, 147256, 140717, 155692, 69989, 95535, 32726, 116791, 67532, 145854, 139284, 95192, 131938, 70891, 29851, 44770, 960, 13853, 26148, 136803, 55996, 108722, 54465, 125023, 144638, 59877, 135851, 84685, 134950, 50685, 131456, 100135, 43640, 133284, 14622, 62957, 60482, 63907, 112129, 98251, 124880, 25968, 45765, 155500, 138751, 18228, 89641, 61016, 92198, 161846, 135020, 68157, 122558, 108098, 106722, 59870, 60526, 69143, 43241, 113293, 33451, 31736, 121955, 28943, 30326, 54125, 89196, 18155, 107324, 108721, 33489, 12194, 458, 47674, 49431, 68112, 82119, 101004, 131992, 134875, 136368, 12188, 159202, 53120, 10862, 121991, 133475, 10095, 43050, 139748, 44478, 16466, 118481, 158321, 163447, 77754, 21349, 104036, 46318, 52308, 99461, 114743, 158263, 110213, 88961, 6589, 78006, 79893, 111083, 161803, 13726, 47146, 32297, 359, 24305, 33210, 33959, 52243, 63369, 99045, 143262, 68544, 48073, 124558, 132795, 91323, 62072, 80688, 104203, 147894, 161165, 73732, 97418, 27442, 92493, 98859, 139706, 144710, 147561, 24009, 64261, 69336, 78049, 108183, 163754, 87813, 141547, 133080, 160303, 1512, 2782, 4599, 22355, 26963, 27358, 31998, 54204, 108652, 118683, 143874, 27823, 67929, 111283, 133378, 134215, 138866, 99521, 76393, 128219, 130619, 14387, 59769, 5827, 16319, 39052, 93828, 124833, 52608, 64694, 66581, 92695, 111002, 120707, 121889, 101802, 114708, 147287, 154154, 74162, 6655, 104828, 27564, 79995, 10386, 71908, 78699, 2745, 43117, 72269, 123754, 129429, 80489, 46087, 59059, 76636, 94074, 119524, 80434, 78714, 95553, 139517, 15997, 54139, 56661, 57396, 57987, 66467, 110764, 133077, 136958, 148325, 19817, 21529, 31883, 63495, 98404, 98831, 108723, 134500, 158284, 17294, 17388, 21206, 25700, 29055, 30275, 64726, 81797, 89933, 94057, 98513, 98833, 99740, 113234, 116094, 135826, 152637, 159630, 160080, 162455, 163500, 81034, 161940, 38588, 77958, 36375, 76340, 133365, 13673, 98858, 103410, 104113, 126467, 135395, 16328, 1962, 2007, 17468, 141412, 7777, 52431, 147987, 343, 5438, 7555, 8773, 10779, 11234, 12782, 29003, 33260, 37238, 38359, 44977, 46083, 54222, 58215, 58922, 76565, 89674, 96033, 98574, 99203, 109547, 113188, 113954, 118653, 121732, 128950, 129910, 160769, 41361, 62850, 80898, 124321, 92774, 32385, 54160, 60407, 115017, 134482, 6977, 107013, 110874, 47520, 60209, 86279, 75795, 77395, 148915, 99627, 131646, 21098, 39423, 88311, 131297, 141238, 147273, 1412, 13854, 118914, 95321, 33275, 160760, 7512, 20234, 20350, 23818, 28272, 28945, 38790, 49375, 50291, 53020, 54937, 58833, 60645, 69089, 73517, 73603, 73665, 74809, 78707, 113354, 113577, 139097, 151974, 154580, 162329, 162334, 91798, 99946, 161748, 161484, 163495, 53361, 1941, 81403, 81429, 144319, 8863, 19656, 122045, 147594, 151207, 12780, 17796, 21182, 24869, 38407, 39504, 45706, 46838, 47114, 80797, 92041, 92149, 96706, 101927, 107285, 107660, 108891, 114232, 122933, 163264, 46403, 120146, 53737, 80337, 85841, 6918, 42956, 59212, 130446, 143079, 36633, 54297, 80917, 85845, 86910, 87520, 94336, 110780, 114459, 115262, 128199, 139008, 81896, 11317, 17905, 40945, 42235, 63254, 68444, 71496, 81100, 131032, 135542, 149724, 157388, 159922, 13049, 19011, 34742, 40722, 153964, 1632, 7474, 7552, 15644, 21737, 27830, 28453, 29240, 34699, 37109, 43876, 44743, 46752, 48394, 51488, 52092, 59010, 60896, 62425, 64213, 71310, 71385, 71896, 72971, 73670, 73933, 75709, 78516, 80006, 82031, 85488, 90459, 91587, 91842, 99891, 101811, 104001, 104362, 110820, 113977, 114827, 121350, 124845, 128304, 128345, 134352, 139483, 152937, 152954, 153242, 153433, 1017, 13413, 18469, 42278, 48927, 73417, 76420, 90435, 96565, 99403, 104154, 106553, 115334, 119175, 120069, 121910, 143080, 154268, 45186, 163024, 13276, 46997, 54879, 66171, 89862, 107617, 112767, 123527, 123999, 139510, 145766, 158690, 159646, 1394, 32490, 42643, 59215, 129040, 6091, 19920, 30278, 42976, 49693, 54614, 59494, 69952, 78517, 100499, 158331, 160299, 162701, 9731, 10390, 13280, 25168, 25267, 29761, 29826, 33264, 51775, 53115, 54200, 69644, 73589, 111093, 113953, 144385, 61268, 76495, 24066, 32754, 37299, 51271, 57570, 82814, 107260, 135866, 137856, 140517, 142303, 158288, 11676, 27464, 38338, 46637, 70649, 86772, 94452, 105246, 110674, 111795, 118656, 125324, 128290, 133976, 151764, 153404, 4258, 28301, 35787, 101998, 122233, 132103, 8311, 14946, 16859, 38791, 51826, 57246, 65814, 76874, 77015, 80940, 96621, 108451, 111938, 116202, 136967, 146903, 147058, 148555, 149486, 152200, 155272, 158365, 1156, 5791, 6771, 10963, 11657, 17409, 17418, 22616, 28623, 29331, 44343, 45975, 59982, 60206, 68007, 74155, 74507, 77595, 80437, 115946, 119003, 124870, 141653, 157908, 159585, 161140, 23919, 96504, 107173, 160058, 4569, 7069, 8423, 9822, 17604, 26218, 29987, 36247, 47906, 53501, 68637, 69685, 88067, 89257, 91027, 97512, 112507, 118200, 119247, 133777, 133809, 134827, 135685, 139081, 815, 25849, 64175, 111902, 1185, 2337, 2647, 3106, 3149, 3722, 4935, 6694, 14350, 15044, 15476, 18754, 22656, 22932, 24703, 25513, 26988, 27676, 30653, 30833, 31140, 32719, 33021, 34213, 36225, 37255, 41197, 41302, 43523, 43539, 43582, 44595, 51802, 53027, 54173, 57337, 57899, 59043, 59113, 59888, 60832, 67141, 67771, 68305, 70788, 71361, 71592, 72584, 73032, 73707, 73738, 74333, 74816, 74868, 76372, 78062, 78224, 78451, 80861, 82366, 87832, 89166, 91991, 92098, 94785, 95498, 96477, 97350, 98535, 98836, 98928, 98936, 104075, 104170, 105388, 107970, 108068, 109112, 111097, 111199, 112760, 119471, 121235, 121285, 122102, 122796, 123928, 132064, 134149, 134481, 134964, 136297, 138396, 138555, 140530, 144744, 155086, 155803, 156299, 159671, 160227, 164583, 898, 3493, 5403, 6951, 7137, 8847, 10264, 17442, 18168, 18972, 37897, 38269, 38556, 38755, 38803, 40468, 41799, 42351, 44811, 57059, 58816, 67702, 73960, 85852, 86201, 103566, 105833, 106899, 121686, 122638, 122846, 123786, 128072, 139557, 140431, 146693, 148229, 148320, 152812, 153837, 154303, 157397, 158449, 158644, 794, 10694, 12285, 21154, 22567, 27236, 30207, 36597, 36882, 60291, 62859, 65220, 72232, 72241, 89267, 89857, 90645, 95130, 99715, 104145, 135462, 146281, 146759, 155569, 1825, 8664, 54862, 57320, 59093, 73653, 107602, 119783, 145737, 148378, 156591, 5310, 12099, 20213, 23683, 32908, 39924, 45654, 59262, 64176, 64321, 70843, 75715, 104398, 115031, 130705, 135094, 145552, 148295, 158094, 158807, 3338, 8810, 13164, 13251, 14003, 15846, 17870, 22714, 23966, 25835, 32651, 32793, 33208, 33986, 34714, 35412, 36784, 37992, 40070, 41296, 42191, 46233, 47952, 51178, 60263, 62051, 63720, 67582, 67660, 68228, 73642, 74115, 74246, 75239, 75705, 80597, 80834, 83082, 83292, 83602, 86229, 88667, 91781, 93171, 99254, 99310, 100081, 100570, 107052, 107655, 109551, 112393, 112702, 118708, 119046, 120272, 120573, 130768, 135877, 137535, 139873, 140094, 141594, 147220, 148608, 148944, 149489, 151008, 152111, 153299, 154384, 156008, 157194, 158108, 160601, 162891, 163442, 164257, 20884, 65479, 75800, 85980, 101812, 106526, 115206, 121239, 144144, 146286, 158516, 158797, 5487, 5673, 6321, 6640, 7294, 8065, 9112, 9236, 10973, 11047, 16220, 16409, 17258, 18080, 20279, 21161, 23088, 23620, 25624, 27387, 31579, 31679, 33823, 34563, 35404, 39512, 42260, 43316, 47946, 54843, 56425, 58151, 58715, 60661, 63671, 65160], '158': [28825, 28761, 24612, 38240, 28762, 153577, 28763, 21101, 41778, 56989, 74808, 104297, 131622, 131566, 65821, 49085, 49216, 93045, 4675, 5857, 1253, 65415, 74814, 74803, 131545, 65797, 16615, 125098, 121854, 131499, 42912, 79514, 10322, 67369, 95605, 118246, 4808, 8571, 102420, 82782, 138918, 41291, 19029, 71641, 91980, 22614, 3538, 28006, 94568, 52660, 124078, 115289, 71489, 49814, 17809, 63900, 152863, 40863, 82801, 77875, 80678, 30869, 63982, 73040, 121858, 36406, 17072, 54527, 79482, 22616, 113755, 24241, 55801, 75556, 115806, 145516, 37949, 43191, 154699, 17295, 101787, 58755, 50150, 30464, 81853, 41231, 72213, 120306, 73363, 89274, 61622, 144557, 20066, 153574, 5303, 4827, 11900, 58869, 60131, 69940, 44222, 60987, 28755, 21378, 109160, 152719, 101572, 101817, 30028, 28516, 4502, 81789, 160509, 131496, 69295, 74285, 47428, 121836, 150894, 83308, 97428, 62021, 54521, 153700, 66034, 125533, 37102, 114100, 94558, 23110, 65836, 74276, 7854, 74821, 51271, 126032, 192, 163399, 20935, 162749, 150947, 1973, 65979, 99166, 121844, 5801, 21736, 100491, 102530, 154144, 144338, 21741, 19927, 18491, 25087, 147630, 136469, 39113, 155825, 23593, 133758, 57485, 62955, 12180, 7615, 99881, 148540, 1722, 45229, 105897, 50678, 122561, 125496, 46681, 23860, 39168, 31725, 125944, 40177, 107286, 154502, 14095, 130876, 18021, 50784, 57686, 1795, 28962, 138307, 73121, 88088, 45345, 24527, 13068, 9070, 98788, 53404, 100902, 54526, 42998, 121846, 66802, 93869, 85999, 48853, 78796, 11167, 1649, 10973, 44773, 49547, 29932, 72356, 84646, 36950, 148095, 25208, 81715, 121848, 158680, 50609, 51561, 43214, 73012, 8222, 161059, 82690, 54244, 160975, 51933, 54204, 82784, 145113, 44826, 81108, 7320, 36095, 67546, 126234, 87341, 142693, 22567, 73593, 63062, 43849, 163591, 505, 81968, 145143, 7220, 45791, 25306, 46917, 144401, 163707, 110583, 78168, 3179, 140401, 1266, 35050, 53636, 74895, 83302, 113140, 125973, 67680, 102217, 76584, 52013, 75571, 13492, 56576, 9738, 156500, 43216, 101070, 127054, 22540, 118471, 38323, 141564, 22276, 142118, 16458, 33289, 93368, 20277, 18191, 60758, 46408, 93149, 102787, 38633, 65070, 138746, 26576, 51945, 83679, 110530, 128051, 88260, 38845, 163377, 36939, 122239, 29273, 15887, 51696, 68139, 54802, 96888, 132175, 152598, 2379, 48348, 73667, 3243, 33412, 83521, 24805, 148879, 108705, 54553, 66956, 2071, 77023, 95884, 14534, 65462, 12574, 49793, 72209, 70222, 53066, 43293, 66767, 3454, 154815, 6281, 88511, 79818, 77312, 25558, 47095, 76967, 98477, 130299, 5544, 43882, 148091, 92628, 58306, 113491, 20223, 45642, 45644, 19275, 45425, 60145, 72068, 55789, 11902, 59982, 113144, 3862, 55527, 75681, 105539, 30812, 68206, 119219, 30680, 75769, 156736, 20772, 54761, 66099, 20120, 34568, 22544, 164332, 12927, 107508, 158222, 46568, 99777, 5403, 100247, 63706, 39477, 83611, 149801, 16280, 142280, 18360, 25482, 30625, 143511, 25126, 38495, 52309, 611, 48076, 41307, 63076, 66372, 74338, 25978, 23468, 57249, 1825, 65373, 125898, 21849, 123767, 8432, 32818, 77595, 18164, 153244, 38272, 54525, 85580, 1883, 9285, 131685, 29759, 21645, 78437, 143611, 18661, 40714, 14105, 40381, 148022, 8956, 41058, 102707, 127855, 43936, 163146, 40634, 58730, 67011, 89669, 156643, 152169, 32376, 102339, 33694, 131472, 40000, 159843, 19710, 7234, 95138, 145566, 154675, 76399, 17346, 31520, 33130, 11082, 8415, 96856, 21064, 37120, 48377, 16952, 144498, 16564, 70391, 73330, 158838, 67060, 85456, 96622, 48602, 41057, 26860, 48725, 68416, 110359, 131331, 2556, 107802, 142083, 9210, 72067, 75292, 146920, 71619, 77675, 44003, 20776, 66599, 74142, 148915, 19619, 27219, 29082, 31143, 33700, 34906, 40096, 46206, 55086, 58362, 83590, 134142, 144556, 45389, 627, 2980, 76004, 108626, 117673, 156166, 41569, 16989, 35854, 43167, 44924, 163260, 64455, 77098, 22735, 58897, 109147, 106673, 140360, 24739, 74825, 34994, 82210, 88924, 98700, 104807, 152134, 73351, 82469, 25765, 39326, 54088, 65888, 93094, 14478, 64783, 95622, 134632, 162281, 126478, 22739, 36049, 8435, 97375, 31077, 44473, 57911, 104497, 134911, 67772, 24112, 126982, 10260, 74234, 136984, 1384, 77049, 65098, 34338, 24834, 47550, 115956, 15839, 64995, 83371, 102619, 71414, 29651, 3233, 33000, 84624, 91966, 16986, 42153, 132733, 2843, 31236, 33227, 71664, 75264, 154455, 50911, 83331, 113909, 10972, 65273, 161029, 37095, 74039, 10155, 113011, 30758, 139880, 62798, 8953, 127816, 60247, 2032, 12947, 77060, 47396, 49143, 59924, 118129, 147461, 157973, 121066, 127636, 142963, 147575, 72028, 39453, 80480, 16378, 70225, 5578, 43812, 34693, 46539, 110023, 138321, 15568, 164416, 126113, 120678, 32399, 9023, 7426, 57988, 133154, 65210, 87061, 104928, 143116, 121847, 248, 61850, 2251, 64523, 146762, 77597, 63065, 49656, 162054, 54681, 91516, 90123, 26174, 34685, 53510, 110115, 58475, 135544, 81874, 112283, 113746, 83341, 9734, 27999, 125678, 39549, 54547, 117988, 159280, 26939, 44897, 142232, 666, 61268, 41196, 27528, 38570, 121838, 154972, 14343, 45597, 114014, 162407, 43037, 102349, 110356, 24967, 10208, 42797, 49736, 50628, 92938, 107256, 143079, 152500, 114509, 1533, 60684, 75958, 90982, 113320, 115380, 126034, 126592, 148514, 1142, 2473, 18183, 31874, 88581, 24955, 8173, 31365, 124930, 134267, 2138, 6869, 112857, 131977, 163889, 75285, 100012, 72134, 72138, 133889, 9677, 2054, 62704, 93181, 93385, 16189, 25358, 89187, 99186, 156817, 41577, 94481, 105059, 78364, 77189, 3351, 32948, 64683, 154457, 26944, 38973, 64508, 32842, 13842, 89016, 121733, 142223, 143793, 157365, 48066, 121840, 146230, 39819, 56014, 94682, 52584, 80917, 87278, 116861, 127871, 1866, 5458, 66852, 86668, 3791, 154936, 73361, 133242, 65469, 65507, 9374, 75108, 78363, 111774, 17331, 25803, 38737, 57393, 67815, 76302, 80505, 65791, 31981, 35995, 68280, 149301, 46606, 6891, 91274, 131228, 153227, 159129, 41481, 113548, 154765, 154922, 52400, 21558, 35575, 66090, 84147, 108473, 163056, 27884, 73949, 80689, 82900, 146988, 61673, 115503, 93300, 60706, 73404, 34991, 38869, 26902, 39954, 66559, 80387, 125567, 55580, 126086, 9339, 91397, 49036, 102347, 34595, 34821, 81802, 4368, 6710, 103830, 120614, 154748, 14848, 9040, 67849, 34541, 55597, 72200, 145269, 65198, 49640, 54261, 61660, 3528, 79227, 57831, 57861, 2659, 44253, 73122, 108050, 50658, 67513, 75736, 88572, 112787, 105361, 105397, 151218, 9657, 18748, 22633, 23159, 23246, 29476, 49479, 60494, 67932, 87261, 95881, 102388, 105449, 105524, 105895, 107294, 125185, 139066, 142575, 144554, 144745, 147244, 150094, 163966, 1012, 92132, 33794, 57773, 62885, 73117, 104303, 53818, 22721, 9751, 26298, 61295, 11431, 157044, 65762, 158051, 16252, 13930, 23418, 29583, 34965, 47141, 61955, 66862, 80473, 80585, 108341, 114096, 138304, 145414, 9144, 39450, 56901, 43009, 66994, 93884, 8214, 65550, 89652, 160077, 117832, 130326, 20973, 51758, 12925, 14640, 18273, 35297, 88425, 108065, 115260, 137433, 146370, 138975, 163470, 13035, 14308, 41156, 48356, 49610, 75579, 75682, 97885, 120087, 137868, 139818, 154036, 157171, 67934, 93668, 48880, 67845, 71333, 75823, 81281, 104549, 148075, 71934, 157378, 4570, 7940, 42296, 109885, 146989, 161825, 101399, 144475, 91573, 14269, 17252, 26516, 32395, 34002, 49277, 63415, 80087, 161062, 7236, 95, 57003, 68584, 37054], '123': [156996, 152244, 112537, 61415, 101880, 56231, 19179, 164557, 3204, 46123, 47174, 98811, 6991, 45186, 91942, 16757, 79621, 46090, 109925, 54904, 40731, 120312, 37, 141675, 117598, 150664, 65449, 13066, 158519, 6462, 32095, 123190, 118127, 155223, 163264, 127164, 67576, 159930, 109610, 44983, 840, 107957, 142901, 24135, 25070, 65220, 97530, 99187, 70377, 126707, 126708, 63441, 136150, 161836, 6138, 6949, 17440, 60319, 10444, 20041, 46075, 79704, 140632, 137750, 24654, 40506, 108731, 126706, 40734, 119916, 131479, 3654, 27308, 48080, 58952, 58977, 59414, 151762, 25963, 55735, 127954, 85883, 146916, 12106, 15266, 85152, 103661, 156592, 114368, 121731, 131542, 63289, 4577, 136968, 126709, 15841, 79703, 82256, 87992, 101998, 104014, 159265, 157305, 12175, 43948, 81925, 93463, 907, 10019, 52317, 53625, 70382, 112860, 157197, 157565, 47121, 59134, 64496, 67630, 157589, 159197, 7261, 22285, 35438, 50049, 52956, 61305, 68435, 69221, 85503, 98270, 105340, 135451, 135940, 136013, 144558, 160558, 160789, 27030, 28116, 31743, 60209, 60612, 71277, 75358, 77395, 105100, 128072, 137735, 140431, 156512, 3605, 39081, 76965, 1, 21602, 62576, 68545, 86971, 106638, 107378, 124864, 134701, 159478, 14675, 14951, 16400, 62308, 87809, 101286, 106774, 131570, 137354, 161579, 191, 6107, 9449, 15806, 23962, 26662, 51443, 54406, 56884, 57046, 57201, 59451, 60295, 61560, 63356, 74032, 102113, 106221, 133663, 151615, 163577, 34638, 147186, 153027, 53887, 1527, 3463, 6424, 29623, 31720, 35529, 40391, 53478, 61070, 62106, 62307, 62804, 70470, 95636, 96509, 109438, 110947, 128672, 136028, 141801, 146178, 146763, 150893, 151301, 153509, 161014, 4438, 6948, 17439, 43203, 49186, 52338, 52350, 52397, 60291, 62507, 70748, 93155, 100926, 106537, 110677, 115788, 124880, 134594, 151368, 152617, 152890, 156420, 159460, 162500, 162544, 3485, 11597, 20660, 23285, 33363, 36068, 36145, 57673, 65428, 75644, 75762, 75914, 96774, 97277, 100470, 107654, 114065, 128521, 130666, 145145, 146546, 153526, 157557, 53888, 109493, 116075, 18955, 26166, 31288, 68462, 75931, 87858, 103795, 109316, 119175, 129703, 139860, 153253, 160650, 163714, 3306, 17936, 18641, 27284, 28161, 29696, 32746, 34101, 41765, 51925, 62264, 66749, 66983, 73667, 79136, 82781, 84164, 89796, 90759, 94187, 104435, 108595, 118524, 121890, 124848, 128202, 128348, 152830, 159335, 13356, 15780, 16484, 17826, 18535, 18895, 48881, 50598, 54933, 61341, 71408, 72518, 74948, 81253, 83129, 87202, 90211, 92479, 95869, 111619, 119127, 119527, 121998, 127396, 128004, 128462, 132087, 136271, 136892, 137111, 139081, 159024, 161950, 164086, 47020, 104138, 1060, 3693, 35847, 44160, 69921, 80782, 81345, 84850, 106066, 154846, 162292, 4518, 8393, 9659, 13498, 19339, 25101, 25874, 37734, 39075, 40064, 40954, 41918, 42191, 43672, 47662, 54519, 58834, 67919, 75357, 75490, 83263, 85942, 95871, 110993, 112872, 114505, 119381, 119785, 119840, 119846, 126331, 126334, 126602, 127197, 131709, 132706, 138422, 142099, 142310, 147385, 148910, 151757, 156109, 159424, 20881, 160147, 8591, 13931, 15476, 19985, 20539, 47833, 52299, 53510, 81244, 102789, 120211, 121982, 124190, 125419, 131059, 133069, 140807, 144042, 151768, 15670, 18959, 20871, 23525, 28198, 39008, 42592, 42904, 44122, 48174, 59699, 59750, 60637, 60949, 66020, 67125, 69900, 75556, 80387, 85954, 90110, 90763, 91465, 96938, 99000, 103216, 106124, 108722, 112135, 115448, 124261, 126259, 128653, 130461, 130651, 131301, 135266, 137331, 146751, 152113, 152906, 158751, 159362, 160118, 161951, 163436, 4738, 5444, 5715, 6957, 7876, 17447, 25192, 25513, 29485, 29772, 30381, 33185, 39123, 41674, 42202, 43984, 47471, 48110, 50647, 58944, 59055, 59082, 61191, 62086, 62112, 64448, 64694, 65634, 70562, 74652, 75100, 79680, 80241, 84616, 87064, 88939, 94680, 97456, 97997, 98117, 99796, 100568, 102926, 103152, 103511, 104006, 105764, 114603, 115066, 116367, 117692, 120362, 122781, 126551, 126865, 127097, 127509, 133209, 143763, 145374, 148532, 149040, 149560, 150492, 151287, 151960, 156330, 158360, 158916, 159260, 160985, 163815, 2041, 4526, 4919, 6711, 6947, 8143, 14617, 16432, 17438, 19979, 25857, 28824, 29878, 30758, 31297, 33199, 33280, 34738, 42509, 44424, 47357, 48047, 50601, 53607, 54946, 55082, 56616, 57381, 57981, 59660, 61218, 63593, 67444, 69893, 70917, 70944, 71288, 72052, 73243, 74314, 75706, 79610, 88006, 88009, 89748, 91587, 92255, 93597, 93725, 95611, 96393, 96612, 96831, 98120, 98485, 98513, 99788, 101879, 103303, 108596, 108974, 110302, 112828, 113011, 117766, 119576, 124952, 127332, 127493, 133689, 134401, 135580, 136208, 137332, 142131, 142861, 143292, 144006, 145419, 146151, 147334, 154580, 154681, 156591, 156594, 157176, 157618, 159421, 163870, 163988, 164429, 164462, 11958, 20160, 25574, 86332, 101878, 105061, 125827, 129951, 148469, 160352, 160546, 9721, 49697, 135741, 5757, 9554, 13337, 17906, 19490, 21703, 35349, 39336, 39753, 42201, 45491, 50808, 52092, 53931, 55959, 57871, 58968, 59482, 64653, 65615, 72971, 73641, 73670, 80188, 81396, 87129, 87786, 87795, 89080, 89883, 91075, 95334, 96251, 96326, 99637, 103118, 103782, 107226, 111366, 114642, 114786, 120248, 126102, 132195, 135006, 135291, 136713, 138165, 138832, 139797, 144182, 144555, 145412, 146620, 151006, 155587, 159110, 160440, 160451, 12, 2990, 5064, 5358, 6351, 6597, 6832, 6956, 8405, 9271, 10952, 11632, 11947, 13165, 13432, 14712, 14722, 15570, 15571, 15877, 16087, 17446, 18231, 19423, 19614, 21004, 21211, 24523, 25047, 26473, 27038, 27562, 28429, 28464, 29708, 30756, 31551, 31552, 32831, 34678, 37070, 37853, 38196, 42110, 42372, 46011, 47350, 47927, 50966, 51383, 53556, 55164, 55413, 55673, 55901, 57985, 58222, 60303, 60851, 62402, 62572, 63130, 65371, 66137, 66328, 66858, 67393, 67549, 68680, 69387, 72206, 72222, 72603, 74172, 75594, 76056, 76502, 76521, 76754, 79019, 80592, 80777, 81339, 81723, 82432, 83101, 86829, 87099, 87104, 87181, 87780, 88831, 90383, 90462, 91274, 91359, 94376, 102659, 102783, 103878, 106137, 106564, 110001, 110816, 110839, 112821, 112984, 115088, 116084, 119089, 119199, 119528, 119567, 121084, 124408, 125425, 125592, 126193, 126335, 127150, 127367, 127950, 128352, 129852, 133006, 134588, 134827, 135206, 135246, 136967, 137916, 138231, 140262, 142054, 143403, 143762, 144543, 152291, 156595, 157251, 158231, 159961, 161377, 161821, 162928, 163856, 5483, 11641, 20858, 23351, 74425, 77882, 81716, 96165, 103979, 115455, 134263, 25, 3123, 17940, 38805, 46833, 55100, 60280, 76081, 80688, 89196, 89777, 91207, 91728, 99594, 105466, 105529, 112311, 124663, 124865, 129238, 134141, 134242, 138773, 142316, 143552, 146300, 147287, 148651, 152719, 158406, 580, 826, 1194, 1410, 1869, 3381, 3862, 4256, 4259, 4562, 6339, 6549, 6576, 7469, 8204, 9203, 9293, 9362, 9577, 10187, 10424, 10475, 10691, 12015, 13054, 13203, 16920, 18960, 18962, 19390, 19800, 19905, 21117, 22211, 22390, 22744, 23358, 23464, 23759, 23853, 23860, 24329, 25036, 25159, 26121, 26569, 26575, 26927, 27309, 27710, 31550, 33352, 33358, 34103, 34322, 34749, 35496, 35726, 36148, 38294, 40076, 40141, 40207, 40658, 40887, 41055, 43052, 45107, 45720, 46288, 46598, 46789, 46825, 47954, 48933, 49185, 49835, 50888, 51858, 53044, 53191, 54217, 55025, 55731, 55732, 57407, 57837, 58874, 59415, 59946, 60812, 61075, 61335, 62111, 62310, 62794, 65460, 66169, 66275], '111': [95130, 90396, 160098, 5310, 84161, 126870, 132104, 91979, 163652, 139816, 102777, 98208, 123517, 114917, 27134, 73258, 102681, 133154, 53931, 109114, 109203, 8664, 13823, 54862, 102933, 19566, 64321, 64176, 163618, 67847, 129908, 153522, 163600, 9280, 24844, 62564, 163942, 87455, 125812, 121889, 26250, 78462, 96333, 131267, 114888, 118730, 149488, 152700, 153447, 64304, 90339, 55999, 33488, 117750, 116981, 117023, 161579, 162826, 47766, 113645, 105805, 76282, 77614, 25665, 108398, 64473, 126259, 46888, 48047, 19954, 21499, 24938, 47952, 68176, 83699, 94566, 115045, 120759, 130493, 2007, 13035, 85624, 101555, 122226, 125412, 146206, 33280, 81747, 97144, 128632, 133295, 143553, 154512, 112314, 161886, 42535, 66462, 75554, 124860, 19443, 79048, 128199, 160300, 10430, 29839, 33146, 39396, 89518, 89748, 131455, 150369, 153539, 80873, 106891, 55531, 55054, 73444, 88137, 96823, 115008, 122244, 127544, 129886, 133163, 21784, 37538, 38257, 55732, 68438, 144576, 50522, 67751, 125557, 54998, 141273, 6090, 14037, 35888, 47954, 72133, 76751, 80860, 93462, 98116, 106548, 144969, 162057, 6589, 9631, 25781, 33358, 33531, 43356, 48051, 49610, 50179, 55335, 56070, 59308, 61650, 72213, 72449, 84612, 86772, 90980, 105246, 114155, 131484, 136849, 38256, 96452, 126007, 70301, 158569, 164460, 40497, 78199, 96679, 140756, 1397, 10562, 10590, 12352, 40575, 48760, 58418, 87414, 91311, 93471, 99648, 159151, 15743, 23860, 40574, 44543, 54963, 56894, 63983, 64960, 94897, 105669, 125871, 137670, 10475, 22605, 22610, 23861, 31567, 31783, 54997, 88498, 96604, 102279, 112240, 115041, 115232, 121343, 606, 2041, 5070, 15033, 15054, 28435, 28621, 35659, 47116, 49247, 52535, 62525, 64674, 65065, 69721, 75366, 84396, 86829, 87664, 88447, 91868, 94866, 95624, 116075, 119567, 129291, 129855, 137570, 138303, 146323, 157070, 157194, 160644, 4751, 5203, 14077, 14839, 24438, 30526, 33269, 40694, 42170, 49456, 55636, 66464, 71941, 137555, 139704, 144147, 145055, 146930, 155258, 163839, 144, 5569, 8759, 10473, 13601, 17608, 34502, 49604, 50921, 52516, 56831, 59208, 62782, 63602, 64985, 68140, 76898, 78783, 83532, 84308, 84426, 88287, 90699, 92785, 92938, 98304, 99904, 109420, 111847, 111864, 117035, 118902, 118943, 124396, 136438, 138666, 140280, 144982, 149115, 149589, 152515, 1503, 3267, 7156, 10581, 13080, 13120, 20609, 29290, 33565, 44608, 46908, 49554, 51661, 54395, 58440, 59334, 67906, 69932, 81010, 81485, 83495, 83502, 84875, 85746, 93342, 94263, 97579, 100709, 101467, 110685, 117980, 120650, 123642, 134790, 135473, 137447, 141203, 149091, 161362, 1113, 2632, 3848, 5748, 9448, 10570, 12826, 13270, 13931, 14454, 18641, 24731, 29264, 29412, 35087, 38135, 39002, 39062, 39947, 40019, 46157, 46906, 49660, 50472, 50516, 51049, 53796, 53887, 57407, 59644, 60693, 62686, 62967, 73524, 74948, 78299, 81885, 84357, 84472, 91574, 100253, 102068, 105916, 105930, 111002, 111931, 115584, 116256, 121537, 125588, 126965, 131458, 135545, 150579, 156044, 157305, 158553, 159813, 160307, 605, 1653, 2090, 3535, 4271, 5152, 10508, 11988, 14238, 15856, 17339, 21651, 22436, 22904, 23053, 26325, 29469, 30943, 31338, 42007, 42214, 44471, 46598, 48445, 49268, 50481, 50495, 51695, 51795, 53826, 55648, 55688, 58362, 58415, 58527, 58583, 59662, 67286, 67702, 68362, 75943, 78188, 80408, 82577, 83384, 87065, 88293, 89195, 91985, 92809, 92949, 93624, 95850, 95868, 96261, 96753, 97130, 102202, 102512, 108234, 109238, 111077, 112286, 115302, 117377, 118466, 118897, 120904, 126992, 129302, 129601, 131391, 132098, 134062, 134233, 134753, 135576, 137869, 141219, 147539, 148052, 151546, 154986, 156994, 157137, 157174, 162650, 125, 1143, 1402, 4423, 5021, 6721, 8729, 9554, 10571, 10855, 11853, 12248, 14138, 16376, 17570, 17678, 20635, 20734, 20744, 21920, 24795, 26021, 27743, 27907, 28017, 29706, 32599, 32982, 33046, 39336, 41164, 41427, 45138, 45724, 45736, 46536, 46909, 48858, 52163, 53202, 53883, 54947, 59111, 59340, 59483, 60318, 61264, 63229, 65681, 66590, 67233, 68986, 69800, 70561, 72784, 73713, 74326, 75611, 75942, 77029, 77424, 78278, 78575, 78858, 80562, 81181, 81413, 81720, 82056, 83012, 84397, 85696, 86209, 89109, 89541, 89551, 90312, 90448, 90536, 92019, 92582, 94876, 97590, 99027, 100691, 103260, 104807, 107989, 109163, 109354, 110360, 113954, 114053, 114143, 114949, 115019, 115300, 116585, 117257, 118605, 119483, 119665, 120324, 122446, 123169, 124544, 126279, 129709, 130726, 133040, 134271, 136271, 138409, 138454, 143863, 144127, 145888, 147542, 148068, 149480, 151877, 153844, 154608, 156162, 156502, 159949, 159987, 160127, 164423, 33, 612, 674, 1962, 2502, 3502, 4366, 4396, 5537, 5652, 6191, 7773, 8594, 9606, 11497, 12353, 14107, 14398, 14403, 16466, 17808, 20156, 21721, 22731, 23551, 24942, 26611, 28357, 29133, 29998, 30155, 31232, 32933, 33055, 34490, 34728, 35616, 35649, 36402, 41412, 43943, 43963, 46933, 47392, 47940, 48079, 49186, 51321, 51848, 53807, 54607, 54969, 55180, 55440, 57073, 58379, 58442, 59063, 59684, 60018, 60259, 60326, 60632, 60708, 61093, 61473, 62143, 62471, 63894, 64457, 65983, 66774, 67283, 67303, 69734, 70329, 70816, 72356, 72374, 73440, 74060, 74633, 75178, 76421, 77142, 78238, 79423, 79610, 81645, 82094, 82720, 88336, 89121, 92366, 93538, 93696, 94919, 95439, 96625, 96874, 97199, 98841, 99089, 100105, 101949, 102036, 103678, 105047, 105538, 105942, 106100, 107999, 108596, 108926, 109045, 109206, 110679, 110680, 110681, 110682, 111083, 111326, 113593, 113989, 115057, 116010, 118140, 118408, 118517, 119041, 119858, 120079, 122486, 122901, 122988, 123602, 125256, 126623, 127396, 127740, 127992, 128051, 128546, 130062, 130767, 131396, 131403, 132272, 134019, 136170, 137320, 138778, 139891, 142592, 142876, 143247, 146879, 149508, 152137, 152866, 153817, 154552, 154634, 157875, 159881, 160033, 162164, 162630, 146, 730, 1333, 1356, 2954, 3505, 4070, 4169, 4367, 4406, 4530, 4733, 5351, 6291, 6764, 7133, 8084, 12299, 13095, 13605, 14563, 14675, 14875, 17503, 18391, 19212, 20055, 21550, 21812, 22415, 22593, 24096, 24448, 25678, 26218, 27027, 27638, 27869, 27890, 27934, 28468, 30687, 31288, 31855, 33061, 33143, 33967, 34527, 35352, 35372, 36299, 38136, 40286, 41250, 41799, 42724, 42729, 43258, 43666, 44297, 45074, 45431, 46553, 47376, 48084, 48440, 49957, 50152, 50871, 50872, 51530, 52291, 53773, 53888, 53916, 54035, 54336, 57066, 57308, 57719, 58121, 58412, 59210, 59525, 59560, 59584, 60731, 60761, 61296, 61464, 61480, 63428, 63699, 63742, 64152, 64258, 65704, 65788, 65949, 67764, 70552, 70788, 71007, 72314, 72333, 73865, 73969, 75323, 75808, 76264, 76326, 76420, 76572, 76724, 76929, 77484, 78195, 78286, 78300, 78711, 79055, 79762, 80400, 80477, 82062, 82228, 83916, 83934, 83982, 85956, 87070, 87855, 88425, 89327, 89381, 89808, 90126, 90519, 91328, 91799, 91981, 92039, 92200, 92493, 92900, 93767, 94413, 94701, 94909, 95142, 96735, 96771, 96983, 98048, 98183, 98275, 98859, 100144, 100802, 101165, 102047, 104945, 105060, 106023, 106667, 106777, 107216, 107675, 107777, 108047, 108511, 108549, 108933, 109068, 110677, 111223, 111667, 113331, 113390, 114915, 115009, 115404, 115405, 115542, 115596, 116072, 116812, 117293, 117953, 118053, 118506, 118849, 120003, 120961, 121534, 122638, 123352, 123451, 123470, 123605, 126351, 127346, 127359, 127547, 130037, 130103, 130126], '120': [93713, 155060, 146886, 63158, 88185, 128162, 122598, 55532, 130847, 110554, 125258, 28873, 157231, 63156, 162424, 83885, 32954, 2085, 146778, 161501, 128125, 128428, 33564, 33627, 84904, 164496, 139511, 64348, 152024, 95623, 87546, 53357, 31141, 113497, 146916, 82937, 19049, 98190, 108078, 108530, 21268, 32447, 161485, 163375, 28194, 106883, 24484, 22041, 93494, 85773, 160996, 94804, 123930, 146944, 8373, 63601, 15772, 36919, 152118, 72212, 112524, 2391, 90228, 98185, 113499, 139636, 21970, 140186, 73464, 157026, 23122, 82975, 90989, 69142, 78147, 108034, 146943, 103430, 103470, 107209, 137477, 162449, 41847, 114906, 33780, 96930, 97563, 112132, 102907, 73238, 135253, 82741, 123953, 125973, 113921, 24287, 43364, 116763, 63238, 81580, 146899, 162514, 156512, 15801, 119695, 63255, 119716, 142949, 82938, 77043, 159427, 33326, 72091, 91818, 105853, 128084, 157973, 88650, 79670, 88101, 111377, 137315, 1619, 44156, 89669, 122677, 128196, 140513, 3457, 46326, 98113, 71941, 108975, 122581, 130626, 113504, 1096, 59565, 134034, 163937, 3226, 103665, 135079, 163469, 120249, 119919, 83033, 155661, 88202, 160946, 36973, 38745, 93530, 105843, 129930, 132289, 157343, 92255, 140742, 130419, 161326, 28607, 135367, 10283, 83174, 22569, 120112, 120244, 160614, 71929, 2264, 48501, 155162, 6613, 97867, 132584, 139634, 157259, 60723, 67424, 71827, 88204, 122567, 122582, 122660, 159943, 161762, 161884, 161895, 156033, 104262, 6218, 8798, 37731, 44149, 59922, 76680, 79389, 88098, 103392, 108062, 112868, 122602, 123955, 142612, 146945, 160258, 105835, 24759, 102925, 21189, 55756, 18422, 106881, 157996, 162410, 5044, 35965, 163299, 88658, 152047, 138313, 218, 107652, 146335, 65707, 74034, 81338, 88078, 90097, 106099, 108104, 120333, 123059, 126293, 142284, 142614, 148369, 148374, 162932, 22913, 48538, 90843, 104307, 142710, 81962, 130539, 133135, 85246, 122278, 142055, 104273, 91667, 147594, 23967, 156438, 35779, 79166, 89236, 105864, 124462, 146880, 24963, 80941, 15323, 113030, 76653, 32793, 53369, 15737, 96557, 138844, 24528, 36027, 52487, 78720, 87635, 88178, 101233, 109873, 121170, 128294, 146932, 150786, 152001, 117858, 35888, 49860, 110565, 17819, 33886, 162920, 93699, 111669, 134457, 113498, 25644, 55505, 47224, 50197, 161678, 82941, 31297, 93405, 105712, 108482, 18872, 49195, 69235, 82244, 87427, 128765, 135031, 143246, 32787, 55790, 107666, 143961, 85231, 152098, 152350, 8203, 19166, 24425, 48690, 55980, 61683, 73010, 73304, 75246, 87621, 87636, 99119, 102883, 122393, 122749, 131889, 142563, 146581, 30359, 30403, 49943, 5557, 8563, 15379, 20431, 43086, 45735, 101812, 102951, 115077, 68287, 74832, 159205, 159428, 1674, 4751, 40599, 43558, 63665, 73433, 136053, 158175, 161001, 61530, 122389, 130397, 146765, 29813, 86817, 107661, 133174, 26575, 96359, 119959, 134596, 3107, 6765, 14341, 20407, 23027, 27512, 30644, 32398, 34235, 43954, 52731, 55993, 56824, 60920, 72142, 80751, 90410, 93563, 94983, 108847, 120318, 139388, 139404, 140692, 141926, 143427, 146749, 148897, 156113, 41387, 49332, 64292, 95670, 22728, 84241, 113469, 136452, 148133, 8283, 24538, 45445, 114895, 115013, 133825, 8424, 82944, 88653, 436, 115849, 128104, 103733, 5641, 27536, 126271, 143404, 164026, 36075, 36333, 104264, 120974, 128671, 129061, 51571, 133636, 9924, 15472, 73842, 97832, 114768, 21207, 53279, 152038, 47277, 135670, 147072, 59911, 60935, 85021, 86434, 113500, 117964, 121640, 141056, 161908, 10357, 72171, 105867, 134962, 141664, 21234, 21626, 24288, 30825, 49104, 56936, 68160, 69126, 71271, 74528, 74820, 79557, 82247, 88199, 92930, 99738, 103535, 107978, 121161, 122552, 122597, 122600, 122614, 128152, 131878, 148951, 150297, 163400, 10432, 41353, 63542, 92735, 114451, 149070, 149092, 153270, 142561, 93940, 96458, 111025, 145184, 154673, 59073, 90782, 103661, 162056, 8236, 20361, 35977, 35983, 45766, 48345, 52759, 58703, 78094, 82201, 87620, 89570, 93570, 97038, 100765, 101699, 102855, 105798, 108022, 111907, 117241, 122907, 125766, 130084, 130989, 131018, 136608, 137847, 138148, 140598, 142608, 146779, 153900, 161579, 162426, 26255, 76446, 81694, 146739, 96597, 153564, 2645, 27308, 41894, 57697, 59414, 91632, 96533, 124721, 7992, 18727, 35912, 41997, 89270, 89796, 91403, 93709, 121402, 124114, 129905, 158420, 159386, 162018, 163408, 164298, 2656, 82939, 580, 16198, 49083, 49699, 67253, 80474, 83540, 109457, 117070, 133407, 58898, 3869, 36838, 57507, 78428, 82475, 103217, 111523, 139001, 146091, 151940, 156181, 26290, 72099, 152080, 7418, 21926, 25675, 9573, 18311, 19881, 43529, 47573, 47738, 58738, 65209, 112903, 113502, 116863, 143794, 18768, 33671, 51223, 19478, 27780, 44913, 107687, 156085, 8573, 27621, 29772, 43362, 55034, 87783, 134250, 135725, 8074, 34166, 50012, 53182, 53264, 104384, 113763, 163924, 3866, 24507, 48574, 58957, 68921, 76684, 81619, 97141, 103698, 107392, 107604, 109342, 118869, 121508, 121618, 121625, 121637, 132443, 54843, 71872, 74107, 75747, 76012, 82961, 102577, 121919, 126740, 128411, 128981, 134221, 162294, 77456, 55446, 86695, 118923, 4634, 51940, 102346, 38485, 47846, 75267, 94229, 139435, 2895, 9559, 20797, 40852, 41808, 50179, 62696, 70317, 71705, 80666, 80745, 88656, 98557, 106925, 139626, 152044, 163717, 17626, 26583, 37404, 67035, 72166, 77223, 82232, 88176, 95971, 95981, 96556, 113974, 119463, 145063, 148178, 155137, 161341, 6626, 32879, 42592, 90423, 28073, 34002, 46858, 128415, 65198, 112923, 9114, 26337, 26655, 36898, 64006, 104086, 120647, 1859, 21802, 61307, 81207, 82754, 158102, 43807, 128716, 137904, 148447, 151236, 158871, 7232, 13511, 18939, 22520, 38818, 49515, 59369, 81384, 82265, 82287, 88194, 103162, 107517, 113305, 132012, 132420, 138567, 145813, 150177, 152587, 25653, 137687, 157327, 30216, 32651, 46411, 86095, 91353, 102732, 133847, 155494, 5612, 16526, 16536, 35877, 42617, 44675, 47595, 49842, 83254, 83866, 122685, 138279, 152059, 159070, 161849, 162446, 1331, 2431, 3299, 3811, 5164, 7737, 9122, 14895, 16158, 16543, 19272, 24369, 24379, 28090, 30643, 34216, 35576, 36002, 36037, 39402, 39700, 42527, 44064, 44338, 52744, 59070, 59505, 59992, 62773, 62856, 63948, 65073, 68397, 70473, 71530, 71792, 72831, 76900, 77630, 78347, 78493, 79442, 83136, 83176, 83925, 84612, 85518, 85639, 85715, 87537, 87599, 87713, 88141, 92111, 92136, 92931, 93516, 93589, 96244, 97188, 102069, 104486, 106512, 107948, 108013, 108851, 108957, 111879, 112239, 112275, 118162, 119824, 120155, 121211, 121702, 121790, 122287, 122652, 124737, 133843, 133957, 134087, 137527, 138575, 141660, 142631, 143360, 148464, 149703, 154670, 157178, 157362, 157670, 161392, 161487, 162369, 162794, 586, 2267, 2303, 3086, 11111, 12392, 30420, 31827, 46573, 51766, 52571, 75365, 83367, 93603, 94376, 102723, 104005, 111684, 113774, 114482, 121917, 126558, 126772, 126854, 143746, 145099, 145774, 158110, 3570, 8070, 31085, 123474, 123723, 161374, 3313, 16733, 8385, 58477, 70563, 78843, 79680, 90616, 93873, 112763, 116317, 116319, 120598, 122705, 129167, 131728, 138560, 153114, 158872, 162525, 24208, 90347, 124690, 664, 2741, 17178, 39773, 39778, 39783, 39784, 39789, 42293, 50845, 51763, 54967, 56701, 62288, 62569, 72209, 75486, 92772, 102422, 104152, 121003, 124626, 151786, 6484, 13678, 17118, 36814, 39680, 69260, 81636, 122072, 128445, 133300, 134564, 135394, 139610, 160341, 2233, 9455, 10892, 13250, 21229, 22013, 36478, 38828, 42237, 46111, 58883, 58896, 58901, 58917], '192': [33000, 39008, 28227, 62630, 44488, 4404, 28190, 33003, 47421, 84524, 63494, 62654, 44438, 39106, 44607, 78348, 83844, 19221, 8072, 76052, 33063, 50549, 18185, 11040, 2997, 44647, 26547, 7, 25221, 55877, 62408, 23332, 43122, 56942, 68492, 19191, 19914, 39441, 289, 28499, 83888, 23652, 45444, 65414, 23356, 79462, 46657, 61197, 30060, 10692, 33094, 28434, 44527, 50914, 16434, 30190, 8024, 55854, 44522, 81211, 4259, 43161, 20574, 67169, 4256, 47316, 2550, 47306, 26698, 28076, 52939, 12078, 84470, 32969, 14150, 79394, 10691, 42815, 8111, 47898, 3011, 4490, 29464, 79487, 68644, 4374, 10958, 12289, 9293, 83943, 69746, 51068, 19408, 2687, 33105, 26681, 65406, 69933, 82922, 51925, 41416, 96346, 4330, 12247, 2690, 22560, 34552, 76596, 52525, 35605, 23133, 56865, 54353, 23305, 20672, 28514, 31724, 63380, 50471, 10667, 12392, 48889, 83362, 39128, 50475, 125805, 23961, 80238, 18172, 36408, 47321, 23501, 27935, 76202, 26601, 62835, 65371, 20662, 43021, 68491, 36879, 23602, 59423, 68542, 19709, 42023, 64896, 55468, 2489, 25334, 48466, 84527, 27841, 72431, 79068, 18253, 17573, 21579, 62225, 79492, 56899, 64467, 21500, 50503, 50445, 18535, 19284, 11340, 58962, 42212, 20694, 48558, 68433, 23599, 9443, 15463, 16144, 21591, 28108, 71521, 51089, 18343, 12659, 55839, 82118, 80563, 125382, 56898, 27153, 81228, 11018, 11210, 42257, 9988, 2689, 50107, 68509, 303, 75799, 46617, 22450, 26346, 77053, 52414, 11825, 9475, 60437, 29367, 82020, 22328, 72973, 12480, 56782, 64915, 70593, 70959, 21506, 61502, 52598, 3640, 20718, 75234, 55556, 12365, 10566, 68392, 96488, 80445, 64417, 144440, 33029, 64511, 75977, 21490, 12368, 26571, 75324, 92799, 79396, 114315, 56925, 62175, 64510, 120476, 11208, 33103, 56316, 73245, 26693, 24130, 28201, 28284, 2291, 33104, 19174, 115047, 79468, 33900, 62583, 9638, 28302, 16644, 106346, 7740, 28005, 40041, 76012, 14778, 83801, 60122, 47859, 6833, 48288, 51094, 62319, 4280, 74473, 61837, 48860, 12166, 58493, 130644, 130461, 9851, 2691, 19260, 81776, 80438, 125335, 49739, 21847, 122, 8083, 112135, 27983, 69951, 65208, 78405, 62837, 19286, 50897, 65337, 60148, 67330, 67212, 4201, 44584, 48500, 108659, 64336, 14024, 32966, 66797, 158710, 42822, 72772, 52795, 42657, 52522, 57047, 1831, 33106, 65091, 72316, 123235, 9203, 56390, 217, 28824, 33009, 11621, 51856, 51858, 101763, 28195, 48109, 52742, 34610, 80513, 18123, 7707, 6573, 25107, 82709, 35879, 42108, 42962, 44605, 55070, 115535, 52159, 24651, 51331, 27679, 75823, 35731, 2014, 33166, 44641, 66891, 8171, 18291, 52989, 11093, 55649, 65207, 28117, 50073, 56781, 132700, 81541, 39254, 15533, 56449, 79796, 67358, 68483, 2688, 20575, 25119, 10688, 30113, 37761, 38221, 8148, 63785, 42161, 66021, 65185, 148214, 48521, 73774, 69843, 79465, 88018, 33913, 81238, 22008, 45348, 47455, 25143, 14424, 20456, 25509, 82075, 77320, 8229, 13368, 56455, 84258, 13002, 57437, 68647, 16327, 38986, 11025, 48901, 52160, 55626, 69810, 92925, 112936, 2611, 54922, 28105, 94059, 52326, 101677, 26673, 31750, 148367, 13732, 19906, 46126, 9471, 26362, 57207, 58063, 84272, 91423, 74529, 74548, 80476, 56345, 6590, 10571, 39916, 28799, 69900, 74769, 30950, 13596, 72462, 149980, 12184, 127972, 136112, 50575, 65118, 75982, 67323, 81295, 7574, 115005, 5011, 46458, 55808, 3613, 13667, 7458, 37700, 6907, 39910, 52364, 53237, 68383, 9752, 32905, 35766, 72785, 77937, 80161, 83954, 60158, 90964, 5984, 26730, 79409, 154143, 56985, 69731, 81298, 84080, 31834, 46080, 6906, 41801, 44476, 44852, 14420, 45235, 49073, 62880, 59188, 81057, 110064, 161004, 55414, 101274, 10982, 11161, 64494, 71313, 18226, 60429, 2994, 3637, 10632, 13825, 17378, 39332, 47384, 69926, 30310, 72340, 24548, 104224, 62800, 70620, 84252, 9663, 54515, 16261, 51113, 73702, 17533, 39055, 52390, 76512, 13156, 87742, 55129, 40866, 45860, 47017, 2015, 31350, 72044, 75810, 161453, 81104, 35348, 37949, 43191, 51018, 71119, 1402, 36236, 4190, 7203, 11047, 20617, 40658, 44962, 47936, 48532, 66098, 84003, 148490, 157218, 108799, 3625, 11091, 14529, 29208, 63121, 79954, 84031, 61567, 82265, 3597, 9839, 23326, 24498, 33016, 58847, 70566, 75095, 28775, 44260, 44839, 119954, 148338, 153880, 42188, 49951, 39167, 56993, 116479, 33288, 51142, 3945, 10955, 138362, 142593, 20707, 70358, 342, 13786, 59924, 68568, 68571, 11540, 12195, 47097, 64418, 104986, 42208, 45463, 49601, 56999, 81720, 162370, 163577, 2199, 2845, 14186, 32926, 65227, 79358, 82661, 5997, 20227, 61210, 73014, 89203, 93887, 111405, 126823, 156949, 42252, 46789, 68482, 35468, 138510, 11198, 34502, 38885, 42858, 52356, 32992, 21245, 22089, 24730, 28185, 49060, 50550, 56196, 64437, 67347, 69700, 70651, 79400, 81417, 143717, 19266, 131642, 10732, 60170, 61132, 64440, 79284, 40393, 28144, 56274, 84224, 90468, 6427, 12385, 17923, 18879, 51852, 52802, 65006, 66400, 69767, 78536, 80524, 95002, 104085, 108790, 115636, 123655, 134886, 136650, 42170, 54960, 56963, 69893, 73235, 11162, 19668, 44615, 53234, 68476, 79447, 15312, 51695, 102537, 18148, 25025, 25058, 32864, 34506, 55890, 56409, 136571, 19499, 26624, 38000, 62700, 67211, 78442, 84242, 66700, 153005, 103889, 132844, 138601, 29775, 53122, 82410, 33501, 53416, 54643, 60025, 61169, 83972, 125946, 46926, 127938, 2752, 10685, 26692, 31958, 39532, 42672, 48248, 48429, 52370, 53141, 61391, 62558, 62614, 67978, 79513, 149615, 74594, 79463, 109525, 141665, 5729, 26178, 27144, 34736, 37042, 57076, 63531, 64456, 75636, 96716, 107388, 123490, 136640, 138147, 142906, 144127, 146532, 152142, 162164, 5538, 68487, 82902, 6246, 22467, 28671, 33078, 37259, 39134, 48821, 97690, 16329, 20994, 32288, 112738, 34898, 137363, 3062, 11124, 12361, 14872, 19640, 27961, 28724, 34586, 42813, 46435, 50458, 58106, 125388, 12024, 92485, 97296, 104348, 91562, 223, 40392, 112824, 10360, 39019, 48477, 53448, 58038, 66771, 1942, 3188, 150116, 9714, 12417, 68448, 72552, 86185, 8263, 13652, 13982, 14074, 18789, 25094, 32983, 35297, 36558, 38951, 39827, 41383, 47838, 50488, 56797, 57782, 60234, 60249, 64508, 69758, 70793, 76242, 78228, 145139, 12423, 9356, 10647, 17321, 25241, 48210, 56315, 58592, 62258, 62586, 64607, 67737, 71054, 72777, 79377, 116746, 1653, 5480, 22026, 22812, 22849, 22904, 24450, 30004, 31220, 31927, 33556, 34240, 37861, 42507, 47774, 49186, 54901, 61417, 63366, 72389, 74543, 80221, 81536, 82720, 89139, 90125, 93794, 93796, 104415, 119878, 134920, 135834, 139650, 19523, 29065, 48859, 74272, 2678, 3028, 11064, 18325, 23559, 23643, 43806, 58900, 60716, 91961, 125158, 89857, 52015, 56043, 93538, 509, 12388, 12408, 13728, 18310, 19414, 25106, 25191, 26680, 33169, 37723, 39541, 48108, 50526, 52157, 56445, 67640, 80544, 81363, 86137, 37524, 97911, 8872, 10717, 17092, 23733, 27815, 28062, 30515, 31127, 31529, 34568, 36542, 36560, 37345, 39334, 40000, 40545, 42611, 44566, 45088, 63015, 65313, 66145, 68670, 74338, 74454, 78423, 81364, 83047, 125893, 2564, 11576, 27084, 28210, 39444, 57027, 57710, 63206, 69927, 8515, 14977, 61684, 63894, 108908, 122109, 132041, 148646, 4470, 14532, 18932, 28259, 33986, 38688, 39507, 40075], '180': [60969, 72646, 24612, 49005, 28825, 28761, 38240, 28762, 37503, 12555, 67011, 29523, 37577, 28763, 21101, 41778, 56989, 74808, 104297, 134058, 49085, 49216, 93045, 131566, 4675, 131622, 49053, 77949, 65415, 65821, 65797, 2042, 163466, 57746, 155889, 10322, 67369, 74814, 95605, 118246, 103665, 28515, 131545, 41174, 82882, 72892, 51311, 150756, 8571, 26285, 113671, 30869, 127791, 152379, 151786, 164449, 62960, 24241, 55801, 71489, 74803, 102420, 38102, 82782, 125098, 82287, 93326, 96860, 106711, 108534, 131466, 149487, 82801, 126975, 156250, 42594, 115289, 14037, 82475, 87205, 96386, 123645, 146629, 38777, 118426, 125171, 144701, 131496, 131499, 52936, 153700, 14166, 19586, 45980, 93706, 109136, 130762, 159806, 164559, 2899, 13955, 19513, 24557, 53706, 79412, 100131, 123988, 148107, 156033, 156085, 158998, 7615, 99881, 148540, 41749, 49705, 70982, 113488, 36976, 29932, 72356, 84646, 109160, 152719, 2670, 6589, 16398, 24100, 41565, 44874, 50820, 79348, 83125, 84130, 98063, 104970, 109181, 116422, 117770, 118495, 128911, 128995, 134649, 134768, 142576, 154585, 160540, 49334, 109107, 136609, 143794, 5303, 35050, 53636, 61622, 74821, 74895, 83302, 113140, 125973, 67680, 124313, 61530, 70617, 75011, 158373, 24112, 153227, 7547, 51519, 82111, 133932, 135964, 144840, 147630, 163798, 99166, 7074, 10157, 12518, 17648, 17931, 19446, 20713, 25471, 26191, 33261, 36127, 63032, 73891, 74080, 74544, 83581, 85678, 96317, 97064, 98984, 99132, 101049, 102226, 104345, 104384, 109116, 114164, 114969, 123456, 124516, 125056, 127320, 135253, 145393, 150845, 162726, 163621, 126032, 127788, 19619, 27219, 29082, 31143, 33700, 34906, 40096, 46206, 54204, 55086, 58362, 82784, 83590, 134142, 144556, 627, 2980, 76004, 101787, 101817, 108626, 117673, 145113, 156166, 2598, 2629, 2726, 6272, 8346, 12423, 15967, 21476, 24729, 27811, 28969, 33321, 33451, 35700, 36088, 41588, 41894, 43424, 52168, 52215, 57472, 58060, 60568, 63980, 70540, 72742, 74654, 80560, 83478, 95228, 95864, 96464, 98642, 98765, 101076, 106475, 107486, 111994, 116666, 118869, 120155, 124049, 131742, 133970, 138012, 138014, 138998, 140507, 142655, 145151, 149350, 156706, 1266, 1384, 51933, 77049, 5857, 37314, 46323, 67770, 70899, 85489, 157343, 18360, 81411, 73363, 32581, 78346, 139610, 32399, 10973, 11167, 88260, 154972, 11657, 61438, 78102, 17809, 30812, 52584, 68206, 80917, 87278, 116861, 119219, 127871, 1253, 43214, 2645, 3529, 13178, 13665, 15146, 17626, 21988, 34210, 42535, 47555, 55001, 58363, 60203, 61729, 65610, 74684, 77958, 78087, 84077, 85467, 90120, 91667, 92244, 92462, 93137, 95212, 97944, 99331, 99800, 102001, 102080, 104395, 104400, 106995, 110223, 114898, 115633, 116764, 121381, 122354, 122724, 122728, 122810, 123405, 124882, 127499, 129288, 129820, 130813, 130827, 131854, 134669, 138661, 139357, 140420, 140520, 140684, 141746, 142063, 149479, 156550, 160827, 161168, 161326, 161377, 163677, 7115, 18374, 19284, 23786, 40473, 46066, 56345, 57542, 61129, 79462, 82756, 95976, 97519, 100577, 100797, 101142, 107309, 108474, 113021, 113879, 113961, 130195, 136153, 143732, 154815, 161948, 162323, 22616, 138307, 142693, 151218, 31019, 69897, 114464, 149404, 40863, 52013, 67934, 93668, 58866, 250, 14534, 39113, 41057, 52015, 65462, 79502, 138366, 152863, 8222, 9738, 16500, 45518, 46632, 59982, 65877, 73351, 79514, 3862, 13846, 14478, 19851, 22488, 33307, 34568, 35095, 35138, 41291, 42153, 47369, 48597, 49609, 55527, 55558, 56521, 64783, 66024, 66201, 67611, 74394, 75681, 78371, 89650, 95622, 97739, 99473, 104525, 105539, 131973, 132733, 134632, 147955, 148095, 148879, 155684, 155825, 155933, 161725, 162281, 162728, 163229, 163345, 19863, 27908, 35483, 41807, 49595, 56812, 83067, 96429, 104411, 105980, 110360, 111925, 116585, 128663, 133152, 135394, 145055, 145155, 149334, 157529, 16369, 32818, 35985, 37102, 40177, 45229, 59369, 64323, 73121, 77595, 78437, 81379, 81968, 88088, 89274, 91966, 114100, 2563, 18291, 120616, 142643, 7426, 10641, 13462, 14415, 28516, 30191, 31470, 31925, 49169, 57988, 65403, 70243, 76544, 85068, 91158, 95648, 96648, 98943, 128490, 128492, 133154, 135526, 142578, 144557, 248, 1795, 11082, 15887, 17295, 25126, 38323, 38495, 42240, 51696, 52309, 54526, 58869, 61850, 63900, 67144, 79482, 138364, 162307, 5799, 19029, 22735, 24527, 26907, 39512, 47428, 54527, 65791, 65979, 82210, 104924, 145143, 162749, 5836, 8437, 8931, 10312, 10600, 12512, 13440, 15148, 17821, 18846, 21098, 21229, 21679, 21916, 25498, 28279, 28310, 30872, 31892, 33264, 34620, 38600, 38647, 38731, 41370, 41868, 41890, 47071, 48449, 49695, 52125, 52509, 54017, 58340, 59652, 60076, 63817, 66901, 68450, 70709, 72324, 73913, 74016, 76684, 76890, 77768, 78699, 80217, 80468, 82186, 82628, 82705, 83810, 84074, 85465, 85755, 85943, 87213, 89820, 91523, 92124, 93541, 95133, 96940, 96943, 97212, 97649, 97693, 100679, 101851, 102576, 103644, 103813, 104666, 105348, 106398, 107249, 110455, 112349, 113631, 114349, 115328, 115522, 116741, 118800, 119525, 121515, 121563, 122215, 124501, 127638, 128635, 129208, 131584, 132341, 134457, 134687, 136005, 140303, 143614, 143961, 144642, 145014, 145414, 147072, 148360, 148486, 151380, 154156, 155481, 155536, 156187, 157572, 157956, 158534, 159072, 188, 10259, 11420, 12682, 38210, 40650, 60966, 64298, 76813, 77947, 98183, 98275, 114659, 115177, 117458, 124350, 126719, 127108, 129129, 129388, 130781, 139006, 143997, 146367, 152699, 156035, 162967, 163714, 164367, 3528, 16876, 16989, 20223, 21558, 25306, 35575, 35854, 39477, 43167, 44924, 45642, 45644, 50678, 66034, 66090, 79227, 81331, 84147, 108473, 122561, 163260, 95, 2383, 9751, 17346, 19417, 20277, 26298, 31520, 31725, 33130, 35246, 38272, 43216, 44952, 46568, 48221, 49547, 54525, 57003, 57300, 60987, 61295, 64524, 64585, 64772, 67133, 68584, 76211, 78895, 80678, 80949, 81853, 85580, 98788, 125944, 139817, 148641, 148694, 152598, 154502, 16541, 72164, 74770, 75870, 76438, 83611, 87201, 93661, 104471, 115410, 129943, 163896, 69, 414, 435, 787, 937, 1140, 1278, 1533, 3363, 3568, 5005, 5113, 6520, 7820, 7832, 8286, 9740, 10208, 11181, 11495, 12120, 12454, 12574, 12744, 13035, 14046, 14308, 14728, 14748, 15267, 16539, 19031, 19299, 19324, 19508, 19783, 20302, 21378, 21651, 21876, 25532, 25558, 25765, 26754, 26860, 27414, 27670, 27837, 27934, 28497, 29598, 29883, 30064, 30169, 30483, 30499, 30512, 30830, 30927, 31071, 31296, 31301, 31759, 32286, 32306, 32518, 32825, 34020, 34739, 35018, 35075, 35782, 36003, 36482, 36739, 36793, 37333, 37526, 37825, 37949, 39284, 39326, 39690, 39996, 40053, 40634, 40688, 40699, 40700, 41156, 42262, 42394, 42797, 43180, 43191, 44294, 44327, 45062, 45257, 45302, 45505, 46163, 46312, 46431, 46957, 47095, 47396, 47594, 47726, 47764, 48280, 48356, 48725, 48925, 49143, 49610, 49736, 49793, 50089, 50628, 51028, 51120, 51352, 51412, 52336, 52379, 52650, 52814, 52967, 53104, 53590, 53618, 54088, 54323, 54455, 55397, 56239, 56351, 56477, 56591, 57732, 58730, 59204, 59924, 60414, 60684, 61069, 61369, 62158, 62264, 62688, 62871, 63440, 63650, 63688, 64025, 65888, 66956, 66991, 67373, 68071, 68245, 68309, 68416, 68427, 69078, 70234, 70891, 71299, 71335, 71433, 71861, 72176, 72209, 72213, 73161, 74131, 74631, 75579, 75682, 75685, 75888, 75958, 76274, 76342, 76596, 76967], '135': [40888, 58548, 55082, 160142, 50598, 104753, 139859, 13432, 94414, 135523, 40282, 66275, 53504, 90462, 95307, 2216, 66313, 104051, 117232, 59653, 4699, 106773, 7366, 62989, 143272, 116958, 103369, 139268, 64718, 106092, 64629, 21726, 28059, 35438, 66276, 26999, 31647, 45273, 69508, 155067, 155210, 58855, 76521, 4702, 112537, 162561, 32595, 127024, 137281, 159718, 39227, 145831, 2217, 36521, 58960, 74520, 84318, 113929, 117514, 133023, 40476, 61281, 19900, 65128, 104006, 3670, 95006, 100602, 86664, 99859, 13338, 13371, 95004, 160713, 65438, 51827, 152160, 107862, 19785, 130544, 133046, 64729, 107179, 4703, 25796, 36411, 90731, 101213, 113968, 85504, 141789, 114879, 4457, 135943, 116364, 46709, 131958, 163250, 32115, 67854, 90352, 98069, 109249, 110449, 132066, 50769, 98270, 132136, 140998, 113594, 117432, 125640, 6422, 58494, 81915, 12881, 65439, 75819, 7367, 36068, 61093, 66328, 5028, 18100, 20772, 38631, 39135, 89936, 90034, 90223, 38725, 130804, 3591, 6065, 85499, 110096, 18755, 18764, 84713, 118452, 126389, 19456, 55812, 77594, 81253, 83981, 85059, 106775, 106254, 3594, 154121, 6402, 25067, 25068, 35527, 59004, 64508, 77025, 78138, 89662, 94306, 103318, 136255, 137436, 137522, 139073, 11404, 11606, 21956, 23612, 29767, 112654, 149873, 145404, 120980, 124441, 130547, 136861, 17226, 48110, 90315, 155182, 156207, 23324, 27714, 161950, 156537, 17511, 35952, 38946, 45347, 55589, 60261, 86213, 88167, 93493, 94102, 95320, 127104, 133905, 139540, 161932, 119840, 2014, 6681, 11637, 12479, 20051, 21549, 36644, 44220, 46937, 63185, 63465, 65753, 66124, 70817, 75724, 91644, 118874, 121394, 131379, 150964, 157901, 161785, 161913, 22285, 24197, 62802, 75449, 106230, 106606, 121084, 134795, 136993, 149689, 153020, 11809, 47299, 61002, 62407, 68365, 78965, 103303, 13853, 32270, 48494, 83571, 99813, 142623, 79260, 99092, 108211, 132079, 161836, 2601, 49612, 54850, 71182, 87554, 114825, 127391, 146056, 146494, 146807, 159265, 159316, 159478, 501, 11836, 21498, 48083, 76344, 79309, 101312, 122603, 156686, 159260, 68127, 147144, 29615, 64495, 90635, 138053, 103795, 13025, 30119, 32593, 41705, 43325, 55103, 57506, 63036, 70362, 70510, 71265, 72063, 75892, 83529, 83678, 87012, 89114, 92080, 92628, 94914, 95767, 96975, 102368, 116243, 117081, 118516, 122942, 126985, 131758, 131862, 136199, 136468, 139878, 151067, 158144, 11597, 28438, 47957, 67130, 77026, 91082, 114892, 151107, 88113, 6710, 13323, 15571, 20805, 21768, 22315, 24007, 29787, 30304, 34738, 45487, 48467, 56893, 56941, 57586, 57980, 66307, 66939, 67420, 70321, 74261, 74540, 75291, 79621, 88886, 98982, 120997, 121890, 132923, 135854, 143315, 154750, 157939, 159319, 36919, 137225, 14064, 14773, 14945, 14963, 43662, 49043, 52425, 80238, 83539, 100439, 115856, 118485, 126912, 141232, 25542, 36886, 50110, 59630, 60969, 69993, 70562, 79371, 85201, 85503, 97340, 104046, 105403, 119767, 139150, 143563, 149556, 2555, 13807, 15149, 15174, 17800, 26846, 33672, 49903, 51646, 55300, 55709, 74407, 77816, 79219, 93852, 99982, 108893, 112741, 115858, 125287, 125850, 129506, 130815, 136872, 152536, 96777, 139345, 8284, 11323, 13773, 29118, 52974, 74319, 113629, 125898, 134439, 4347, 7238, 8223, 12959, 19821, 23881, 36868, 42583, 49092, 52955, 60812, 61369, 67161, 75804, 80965, 98116, 102357, 106776, 109129, 113660, 119249, 124376, 132238, 133771, 140580, 152462, 153938, 60156, 108953, 129719, 156592, 1045, 2179, 14440, 18651, 18773, 19997, 23862, 51381, 54927, 63109, 71932, 74565, 90457, 106256, 110491, 115341, 127493, 142636, 147334, 152034, 162564, 1369, 2368, 2908, 4773, 5701, 6491, 10986, 11302, 15714, 15789, 16504, 20297, 23468, 25617, 26004, 27055, 27915, 28560, 28797, 36147, 39246, 39817, 43257, 44021, 44500, 49069, 49921, 53563, 55881, 57157, 58068, 58598, 64455, 64489, 69757, 70432, 72319, 72503, 74225, 74330, 79414, 80505, 82144, 86451, 90179, 91863, 93729, 93847, 94291, 95178, 98685, 104308, 105512, 106431, 107678, 111310, 113513, 114496, 116009, 117832, 121301, 122731, 124581, 127233, 130326, 134728, 137561, 137730, 143956, 149221, 150890, 151874, 153085, 158273, 158659, 160432, 12917, 13248, 16333, 29708, 50875, 85571, 107886, 111543, 127677, 154852, 10275, 26761, 27399, 29209, 32494, 35973, 47649, 56040, 64782, 66384, 66436, 88300, 99755, 103327, 109117, 132706, 139550, 143292, 153839, 164531, 1143, 1367, 4418, 4625, 11694, 12168, 12206, 13125, 13162, 13165, 14747, 19765, 22942, 28161, 28640, 29361, 30381, 32697, 39216, 39853, 40234, 41187, 41254, 41748, 44002, 46337, 51167, 56679, 59483, 60535, 62397, 63548, 64816, 66545, 67977, 70382, 72475, 75813, 79618, 79722, 83891, 86302, 87615, 88328, 95413, 98811, 99331, 102489, 106643, 111736, 123060, 132908, 133328, 134649, 135151, 138691, 143434, 147419, 149995, 150155, 151623, 152084, 153737, 158339, 159422, 159711, 160908, 9274, 15454, 48245, 49909, 79328, 82008, 126591, 137103, 13234, 16414, 25357, 27715, 28960, 30200, 35866, 42587, 46675, 48648, 73757, 87627, 91905, 97797, 107305, 122009, 127509, 142290, 143640, 146954, 149972, 150690, 160546, 161096, 75748, 1968, 10215, 10425, 11568, 12041, 12613, 14821, 15363, 19261, 21168, 21846, 24117, 24976, 26580, 28096, 32782, 33956, 35867, 43543, 47348, 47578, 47592, 53328, 57686, 57688, 59897, 60966, 69263, 75995, 80000, 80514, 81251, 82069, 83618, 87478, 89371, 90962, 91472, 93844, 96358, 97105, 98655, 100411, 104435, 110346, 111913, 112659, 115512, 119690, 120128, 120978, 131301, 134240, 135045, 135173, 135313, 135608, 139132, 143215, 143722, 147228, 148216, 151391, 156539, 160446, 163104, 163339, 900, 1063, 2344, 3269, 4248, 4909, 9368, 9979, 10556, 11954, 12109, 12604, 14131, 17469, 18106, 18141, 18168, 18192, 18314, 18330, 18464, 18914, 19376, 24519, 28476, 29591, 31721, 33599, 36949, 38145, 42343, 42679, 45531, 46899, 51598, 54799, 55023, 55201, 59511, 60592, 62505, 62749, 68154, 73794, 77802, 82747, 89435, 93214, 101756, 106124, 110082, 112938, 113670, 119855, 120979, 124432, 126026, 130480, 130538, 134452, 135077, 136142, 144740, 144797, 145175, 145343, 150912, 153610, 153666, 161123, 163715, 164330, 40, 3149, 4173, 6627, 6744, 7512, 12270, 12432, 14147, 15644, 18140, 22384, 22570, 25513, 25799, 26577, 30925, 32265, 32927, 36478, 37255, 39144, 39229, 44804, 46450, 50935, 53248, 60249, 60872, 60941, 61423, 63237, 63239, 64515, 67169, 67493, 72710, 76938, 77077, 86999, 88194, 88596, 90834, 92115, 93329, 98110, 99783, 103769, 104019, 116170, 116649, 118510, 124721, 126759, 127242, 130565, 131458, 131967, 134875, 137159, 138444, 138528, 139809, 141104, 145726, 149725, 150884, 151178, 152487, 154991, 158321, 160230, 160295, 161051, 162251, 162717, 163226, 163994, 435, 665, 2843, 3337, 5012, 5074, 6135, 8302, 8568, 8610, 9198, 11822, 13077, 14608, 16779, 18398, 21753, 22410, 26174, 26501, 28698, 30076, 30556, 31517, 32993, 33025, 34693, 35395, 35840, 36380, 38628, 39479, 39709, 42497, 43203, 43217, 43470, 44576, 45168, 45981, 49906, 50943, 51513, 52726, 54555, 54614, 54615, 54779, 55663, 56055, 56175, 58152, 58207, 62374, 62674, 62676, 63037, 63769, 64434, 64471, 64525, 64902, 66237, 66791, 67589, 67756, 67857, 68843, 69079, 69156, 69204, 69592, 69875, 70843, 70853, 71075, 71711, 72225, 72464, 72468, 72495, 73291, 75730, 76963, 78176, 78347, 78579, 78719, 79131, 79214, 79904, 80480, 80522], '86': [109294, 5815, 122836, 100247, 70290, 97232, 93707, 10901, 34051, 80917, 50192, 100748, 96621, 97250, 80637, 139306, 66287, 126113, 145303, 161140, 160718, 135342, 18168, 2383, 43192, 48181, 38755, 139387, 160876, 119486, 138321, 139458, 152504, 3562, 74751, 72242, 81715, 90531, 97100, 116510, 115546, 58869, 74825, 106505, 135850, 6266, 158365, 23658, 47297, 66557, 18314, 73351, 3511, 156848, 35854, 105267, 108139, 87194, 108791, 137630, 16120, 34218, 49084, 81863, 103580, 108891, 147483, 2157, 9416, 13895, 24739, 54527, 60771, 116884, 131472, 146759, 55160, 57003, 100476, 115543, 5857, 25482, 54526, 59369, 82690, 147563, 161883, 1216, 5403, 25306, 36097, 38260, 52014, 142015, 150771, 150894, 23873, 30625, 38803, 54574, 62085, 71736, 82816, 111768, 161987, 5801, 24951, 33130, 48406, 58966, 63727, 74739, 75795, 97276, 139451, 145213, 150488, 372, 1233, 2845, 3782, 5547, 7644, 8018, 8770, 9460, 12073, 14622, 16349, 19788, 21035, 23671, 24751, 24956, 29619, 30306, 34042, 43533, 43943, 46318, 53036, 54298, 63699, 75006, 81231, 81917, 83308, 94647, 96006, 100475, 108074, 109783, 110820, 120069, 122366, 123364, 125129, 129919, 131832, 133522, 143959, 148276, 149448, 150593, 150599, 155692, 161929, 10907, 10911, 8515, 11306, 15045, 24206, 33431, 44253, 46142, 49911, 73121, 75821, 76950, 77671, 77823, 92471, 99911, 133797, 138832, 39800, 118212, 161428, 153525, 97226, 141075, 26463, 71992, 131418, 136528, 156270, 21558, 47235, 72544, 91378, 102748, 111758, 114341, 122381, 127858, 137198, 142693, 152455, 4368, 4751, 5580, 7969, 9751, 16817, 16989, 34521, 36076, 40366, 50678, 53487, 57300, 61660, 76732, 82789, 82827, 85998, 86054, 94098, 99883, 102740, 110331, 110899, 113224, 120347, 127781, 129128, 135095, 136461, 137724, 143273, 144593, 148892, 152589, 163201, 1795, 12682, 34379, 36163, 40693, 57605, 70966, 95287, 114392, 127297, 133303, 135676, 149042, 158495, 2743, 22215, 36843, 66556, 66804, 79503, 90505, 94972, 100167, 105369, 105611, 112710, 127850, 130923, 137937, 157649, 158121, 162024, 3565, 4452, 86315, 86334, 90732, 93668, 102252, 117075, 118211, 123742, 135631, 142690, 153203, 32788, 40542, 53757, 54614, 62347, 81956, 91708, 111394, 115034, 115682, 116989, 117850, 120818, 132934, 133275, 135242, 141728, 147467, 199, 10727, 11735, 21072, 22842, 23360, 23914, 34635, 35388, 52013, 53422, 76041, 81945, 85848, 88088, 91379, 93069, 93165, 94965, 96149, 98036, 106961, 111807, 112682, 114149, 116533, 126086, 127859, 136218, 138057, 140490, 145318, 145330, 149693, 150332, 151688, 156000, 898, 11197, 12143, 12159, 15575, 15588, 22220, 24746, 35000, 40137, 41773, 51716, 53140, 55974, 65943, 74475, 78679, 80620, 83228, 85584, 88260, 95923, 101052, 113297, 114416, 115805, 115823, 117159, 118216, 122158, 127883, 128826, 138307, 144933, 149150, 153436, 156934, 158974, 163039, 4216, 4826, 5799, 9944, 10730, 13263, 13512, 13814, 15587, 19942, 24146, 25622, 26114, 26690, 31760, 32562, 32774, 32793, 40814, 42807, 56137, 70190, 71987, 81060, 86279, 95815, 96554, 100217, 102557, 110887, 111203, 113810, 114619, 115137, 121708, 124372, 125969, 127833, 130903, 133319, 136228, 137926, 140763, 145256, 145275, 155117, 157772, 159071, 162848, 164285, 2605, 3222, 3933, 4214, 8439, 10058, 11167, 11855, 15002, 15506, 19920, 20223, 20273, 20716, 21120, 22597, 23728, 23811, 24016, 25304, 28237, 29603, 29758, 32565, 35798, 38467, 43442, 46876, 48393, 50381, 52656, 53523, 54044, 57279, 57299, 58983, 60446, 61497, 64830, 65070, 71743, 73883, 81436, 81968, 82219, 84520, 85580, 85596, 87319, 87811, 88051, 88941, 90167, 93679, 94323, 94327, 95679, 95706, 96580, 98163, 100171, 104276, 105537, 106491, 106497, 106780, 106785, 107655, 108636, 109304, 112174, 112420, 112521, 113087, 113450, 114157, 115128, 117164, 118743, 120165, 120306, 124050, 124698, 125944, 126924, 130257, 130998, 132417, 138364, 138440, 141362, 141677, 145093, 148832, 148838, 151923, 153769, 153834, 156367, 156639, 158573, 160153, 162996, 5349, 6048, 8908, 9073, 10678, 11470, 12096, 18033, 18332, 18876, 21603, 23341, 25126, 25248, 26688, 26832, 27635, 27642, 28223, 30584, 32948, 34299, 35505, 36633, 36833, 37958, 38821, 42767, 47278, 51105, 51456, 51546, 52310, 52890, 54229, 54779, 55015, 55917, 56204, 57836, 59097, 59806, 61530, 61742, 61825, 61901, 65489, 66888, 70981, 71095, 74788, 76504, 76608, 76639, 76894, 78684, 79512, 79514, 83108, 88598, 89262, 90802, 91121, 91707, 92414, 92706, 92887, 93220, 96749, 100803, 100851, 101944, 102191, 104277, 104292, 105195, 105683, 106899, 108150, 108241, 111178, 112083, 112379, 113214, 114596, 114644, 115220, 115921, 115956, 116005, 116051, 116087, 116796, 117594, 119080, 119241, 119786, 123099, 124208, 125993, 126568, 126864, 127636, 128468, 132929, 134111, 137804, 138836, 143325, 143484, 144117, 144712, 146895, 147286, 150633, 151810, 154092, 155002, 155114, 156909, 158449, 158458, 158478, 158914, 159539, 159951, 160010, 161750, 162027, 163210, 163228, 164523, 131, 641, 679, 1353, 1972, 2151, 2426, 3088, 3179, 3248, 3272, 3388, 3538, 3690, 3714, 3765, 3848, 4096, 4502, 4576, 5485, 5624, 6340, 6857, 7067, 7623, 7639, 8074, 8299, 8307, 8826, 9041, 9064, 9688, 9962, 10235, 10586, 11011, 11218, 12299, 12826, 12869, 13052, 13115, 14224, 15639, 16126, 16828, 16986, 17004, 18190, 18401, 18469, 18937, 19183, 19577, 19763, 19786, 19839, 19842, 19843, 20709, 20909, 21721, 21849, 21863, 22058, 22351, 22495, 22596, 22997, 23409, 23553, 23640, 23854, 23859, 24450, 24807, 24952, 25191, 25192, 25197, 25209, 25397, 25422, 25483, 26079, 26184, 26516, 26784, 27323, 27442, 27548, 27568, 27715, 27816, 29262, 29272, 29302, 29319, 29331, 29508, 29633, 30024, 30149, 30464, 30914, 30953, 31163, 31166, 31431, 31740, 31980, 31986, 32063, 32589, 32726, 33096, 33429, 33886, 34002, 34415, 35210, 36052, 36069, 36585, 36800, 36820, 36890, 37209, 37279, 38223, 38549, 38633, 39220, 39821, 40317, 40726, 41026, 41089, 41094, 41168, 41472, 41602, 41753, 42574, 42665, 42745, 43084, 43190, 43523, 43640, 43781, 44083, 44155, 44389, 44543, 44924, 44970, 45156, 45293, 45348, 45466, 45478, 46194, 46568, 47015, 47392, 47498, 47832, 47942, 48118, 48160, 48609, 48976, 48986, 49199, 49239, 49554, 50286, 50552, 50774, 50857, 51418, 51899, 52118, 52508, 52558, 53037, 53235, 53357, 53389, 53491, 53574, 53688, 54133, 54719, 54871, 55340, 55553, 55628, 56009, 56106, 56376, 56822, 57012, 57272, 57891, 57982, 58087, 58444, 58725, 58805, 58897, 58913, 59420, 59560, 60150, 60379, 60389, 60472, 60674, 60706, 60729, 60749, 61227, 62190, 62806, 62852, 62876, 63051, 63414, 63431, 63680, 64116, 64359, 64651, 64660, 64706, 64712, 64895, 65229, 65262, 65284, 65469, 65871, 66563, 67144, 67264, 67286, 67532, 68352, 68909, 68986, 69203, 70037, 70039, 70295, 70884, 70906, 71006, 71036, 71615, 72322, 72528, 72611, 73223, 73563, 73594, 73951, 73979, 74367, 75192, 75341, 75507, 75769, 75929, 75959, 76128, 76213, 77019, 77076, 77432, 77991, 78706, 79071, 79072, 79691, 79721, 80395, 80425, 80498, 80570, 80590, 80611, 80678, 80866, 81142, 81149, 81208, 81564, 81902, 82224, 82341, 82449, 82720, 82790, 83119, 83167, 83341, 83781, 84797, 85044, 85951, 86086, 86212, 86479, 86817, 87162, 87705, 87716, 87919, 87968, 88297, 88326, 88457, 88532, 89095, 89927, 90542, 90911], '182': [70754, 42288, 128290, 161748, 86067, 69083, 105028, 162166, 30136, 94236, 56866, 77127, 39423, 25151, 106672, 70955, 8019, 73596, 54162, 87324, 12102, 96066, 141937, 122780, 19218, 23699, 83752, 118963, 18222, 143745, 99751, 45265, 105403, 111534, 74459, 81079, 137860, 162479, 79272, 85054, 131811, 75792, 149981, 39027, 2079, 63111, 136843, 40713, 151123, 25221, 19367, 92915, 136908, 41793, 46439, 17715, 42292, 144579, 164548, 67148, 49129, 155954, 34238, 160713, 116255, 127701, 88313, 133785, 20226, 38196, 42300, 150736, 138886, 87520, 128223, 156894, 157876, 8311, 147594, 140712, 81609, 85408, 134674, 100513, 3946, 13769, 19370, 58854, 142400, 83602, 65286, 45995, 110695, 134473, 98353, 99361, 60548, 31722, 46080, 68723, 54589, 129076, 13639, 32488, 50366, 79175, 87340, 87464, 121920, 137861, 159197, 61274, 32302, 151817, 159733, 64050, 76969, 48521, 139625, 159938, 36709, 106541, 74205, 160248, 24798, 98790, 103207, 126404, 143746, 137862, 19904, 129849, 28741, 159736, 45813, 94398, 51963, 97432, 145745, 104746, 153404, 23854, 90530, 111628, 117991, 159722, 159090, 45390, 47738, 87420, 68544, 6655, 64851, 67846, 69498, 111837, 144201, 16328, 15354, 53066, 74162, 6907, 9625, 110559, 56425, 68676, 65492, 87349, 7707, 14569, 25184, 80405, 82774, 111742, 53325, 130858, 139044, 32136, 82107, 121697, 133549, 50039, 37911, 110354, 161133, 69081, 69260, 32164, 108342, 164278, 75769, 136904, 2387, 53132, 100190, 161007, 164581, 99091, 156292, 12233, 92827, 17109, 98575, 109733, 140189, 151132, 155859, 158449, 87810, 142112, 159426, 101382, 8817, 74431, 137535, 77023, 131810, 162344, 10958, 11018, 25810, 92668, 52762, 101608, 127271, 145249, 155460, 83598, 60992, 144576, 81626, 97687, 112817, 28803, 115546, 129054, 130578, 8194, 94493, 156143, 19252, 32206, 59866, 137863, 151702, 2222, 43950, 69231, 90232, 110064, 154277, 154569, 70891, 11501, 25275, 37463, 83629, 77688, 30484, 29683, 43386, 44560, 48773, 70765, 73303, 110430, 112492, 125198, 126064, 157649, 22975, 22978, 47640, 53064, 74340, 136837, 147671, 47309, 35862, 57941, 54871, 65091, 72525, 157647, 36879, 5406, 14213, 45516, 113476, 142186, 142471, 143610, 70982, 63266, 87742, 128587, 47401, 10229, 35684, 76962, 76998, 78008, 133273, 139352, 155402, 104218, 3295, 22917, 70229, 107349, 148387, 141876, 5504, 143242, 61040, 161845, 66171, 11082, 77726, 117248, 145303, 152258, 41370, 42296, 48573, 75299, 150370, 19669, 34355, 45211, 60138, 75393, 97017, 104614, 122974, 139366, 147020, 160384, 2688, 20575, 75360, 147674, 83534, 93994, 69786, 49705, 51233, 107052, 38155, 64010, 69510, 78570, 143782, 9138, 12614, 14004, 18914, 19368, 19810, 22405, 61933, 74536, 74705, 76536, 76542, 88072, 96367, 110572, 111639, 114892, 119315, 126048, 134710, 34909, 34367, 113441, 1178, 21473, 28226, 30117, 34794, 56595, 58202, 100211, 101506, 113438, 117706, 122862, 127160, 34580, 39019, 42833, 58550, 69673, 80777, 106916, 70796, 118468, 14673, 22567, 40756, 29333, 39477, 64537, 64616, 56376, 986, 51251, 107273, 156313, 2730, 21733, 22915, 27243, 29617, 67135, 68673, 91449, 160351, 139, 4041, 4096, 50310, 94304, 154413, 89276, 119425, 68522, 155409, 77015, 136967, 73671, 79190, 86526, 19560, 20554, 30239, 45257, 74999, 75736, 80953, 86434, 86448, 104885, 105067, 106158, 114096, 128112, 149894, 107357, 44815, 60149, 135877, 136536, 11158, 6321, 77395, 116347, 37452, 37453, 96122, 53142, 138844, 74225, 51163, 84414, 93846, 109200, 151819, 153507, 118914, 19491, 71955, 78309, 46151, 46458, 87402, 95197, 6390, 48406, 100175, 158231, 8739, 23111, 26470, 26575, 28111, 35861, 54734, 72147, 88515, 98343, 106031, 112096, 112101, 113186, 117660, 128110, 139169, 144000, 148397, 164482, 1794, 5307, 10759, 17694, 19369, 37086, 44564, 45872, 48697, 49037, 60148, 63872, 67330, 81192, 82692, 86539, 99983, 105460, 108322, 126049, 126050, 131916, 132373, 138603, 138760, 141215, 19336, 41524, 78512, 92482, 132724, 134052, 156040, 14499, 143766, 118603, 43678, 39549, 124678, 129075, 3597, 42569, 13573, 111218, 130544, 3233, 17551, 20400, 21634, 33444, 43802, 57535, 60108, 108987, 109275, 120996, 45603, 63599, 88372, 107443, 129064, 136188, 148388, 88551, 36838, 62607, 67133, 72710, 92445, 127576, 161178, 12487, 21802, 133309, 149603, 49892, 101578, 9144, 41096, 45520, 49748, 53134, 63616, 75556, 78132, 81835, 83974, 111432, 113011, 120889, 130307, 136787, 146118, 152098, 155453, 163665, 38269, 53361, 80434, 140717, 6645, 6647, 7649, 21856, 71739, 98506, 132729, 155274, 13511, 97900, 136830, 145989, 7238, 153617, 53105, 145362, 151764, 10973, 86910, 115262, 122561, 140780, 10800, 37490, 131877, 50299, 67876, 69540, 117181, 41437, 49397, 126329, 6693, 6771, 86440, 98200, 124960, 156531, 162039, 64524, 90694, 108130, 131646, 147146, 12016, 18295, 32137, 34004, 35448, 41282, 54612, 80910, 86666, 89652, 97224, 99641, 106923, 110361, 111211, 112103, 112816, 112970, 113282, 123911, 125713, 128108, 132102, 143237, 145250, 146837, 150490, 153153, 157044, 164585, 28256, 30277, 107392, 110523, 153053, 7370, 11025, 15551, 22732, 28392, 28399, 35262, 42856, 48682, 50777, 51925, 55853, 79061, 81240, 89539, 101883, 114386, 138911, 138931, 142108, 153605, 39486, 5392, 9877, 53737, 56506, 80337, 85841, 147256, 155500, 136839, 4705, 12872, 18938, 19381, 20352, 23312, 36172, 48774, 55721, 62186, 62799, 62815, 66614, 67276, 68356, 70258, 78187, 87465, 92324, 103889, 119371, 120278, 130637, 131803, 139354, 141849, 147361, 149455, 155955, 4328, 28660, 71192, 86728, 101600, 106789, 113766, 115543, 164591, 67101, 94032, 162354, 31796, 41157, 49065, 71013, 84537, 103278, 112701, 129022, 132422, 149019, 162546, 20123, 46376, 64344, 107666, 108739, 112053, 164578, 9140, 30705, 45976, 80456, 102215, 103664, 111942, 112261, 123733, 130324, 147243, 60150, 89857, 120614, 26353, 95975, 99273, 7879, 13474, 18351, 18928, 43622, 67882, 81364, 100229, 103929, 106445, 112429, 112633, 113228, 49332, 118741, 4502, 9951, 11256, 12660, 23965, 28666, 34823, 38114, 38146, 45378, 45402, 47140, 49279, 53279, 61886, 78539, 95633, 100786, 109016, 109971, 112087, 112978, 118368, 119477, 123014, 127311, 130886, 141327, 148437, 153168, 154568, 157158, 161603, 163469, 163484, 26624, 38338, 81310, 93171, 98934, 58715, 119327, 6110, 7777, 59369, 133964, 32516, 41400, 85890, 112354, 149420, 151176, 154410, 1777, 86086, 106341, 105279, 114329, 132924, 37479, 58215, 112895, 136773, 136924, 13276, 46997, 54879, 89862, 107617, 112767, 113293, 123527, 123999, 139510, 145766, 154154, 158690, 159646, 6137, 24487, 30011, 72769, 81258, 113774, 38986, 63494, 83517, 83943, 114366, 115082, 151105, 22278, 30282, 51285, 107604, 141939, 3382, 27216, 27704, 28878, 30932, 32842, 39761, 55087, 55364, 65054, 71647, 78099, 87308, 109072, 112273, 138926, 139018, 139038, 142119, 145412, 6540, 16423, 30395, 31616, 37841, 38025, 40057, 43240, 51327, 52369, 59446, 62311, 70225, 71690, 84448, 87186, 96416, 108997, 110984, 113180, 115200, 132920, 135959, 137572, 147279, 155256, 162011, 6441, 8088, 9524, 11768, 16230, 23085, 28158, 29958, 30221, 30618, 38276, 45799, 45848, 47828, 49896, 55116, 56082, 56708, 62052, 62337, 63625, 63712, 70557, 74234, 76959, 82013, 86451, 89931, 90588, 90610, 107366, 108778, 112903, 115787, 117155, 119867, 125215, 133334, 140401, 145791, 148162, 148411, 151513, 155000, 157409, 159168, 162396, 3292, 5784, 33900, 34899, 38009, 39598, 51742], '57': [35296, 55135, 149279, 8620, 154497, 91114, 22480, 65931, 28900, 127603, 43118, 45527, 58559, 99882, 49729, 68004, 98358, 103308, 115129, 1879, 136914, 147934, 150869, 338, 118246, 132936, 148436, 151964, 65494, 76971, 77524, 88696, 118664, 127608, 136910, 12409, 21477, 30939, 45831, 67718, 74639, 78809, 86524, 103187, 111435, 150865, 8824, 10253, 28888, 28892, 28899, 28901, 28905, 28912, 29376, 31159, 43115, 49002, 50314, 66293, 69869, 89647, 98134, 110924, 112712, 117683, 118980, 139059, 139208, 142294, 151211, 151804, 152211, 155454, 55, 2782, 3305, 3349, 5522, 10267, 12967, 13632, 16296, 17168, 17495, 18284, 19701, 20278, 23642, 27849, 30443, 31759, 33388, 35488, 39465, 41434, 41913, 43190, 45388, 45497, 45810, 46925, 47255, 47582, 49418, 50861, 55374, 57261, 58928, 61625, 61687, 62643, 64026, 65132, 65458, 68058, 68254, 70883, 73318, 74793, 75328, 75383, 77244, 83606, 87201, 88231, 91068, 92088, 95295, 99538, 103415, 105618, 107882, 111467, 116503, 116684, 117177, 120142, 122796, 124201, 125759, 129682, 132928, 132937, 132946, 132948, 132965, 140042, 142997, 145259, 147017, 151510, 151626, 151773, 156010, 161187, 163486, 1, 2, 3, 4, 5, 6, 7, 8, 9, 10, 11, 12, 13, 14, 15, 16, 17, 18, 19, 20, 21, 22, 23, 24, 25, 26, 27, 28, 29, 30, 31, 32, 33, 34, 35, 36, 37, 38, 39, 40, 41, 42, 43, 44, 45, 46, 47, 48, 49, 50, 51, 52, 53, 54, 56, 57, 58, 59, 60, 61, 62, 63, 64, 65, 66, 67, 68, 69, 70, 71, 72, 73, 74, 75, 76, 77, 78, 79, 80, 81, 82, 83, 84, 85, 86, 87, 88, 89, 90, 91, 92, 93, 94, 95, 96, 97, 98, 99, 100, 101, 102, 103, 104, 105, 106, 107, 108, 109, 110, 111, 112, 113, 114, 115, 116, 117, 118, 119, 120, 121, 122, 123, 124, 125, 126, 127, 128, 129, 130, 131, 132, 133, 134, 135, 136, 137, 138, 139, 140, 141, 142, 143, 144, 145, 146, 147, 148, 149, 150, 151, 152, 153, 154, 155, 156, 157, 158, 159, 160, 161, 162, 163, 164, 165, 166, 167, 168, 169, 170, 171, 172, 173, 174, 175, 176, 177, 178, 179, 180, 181, 182, 183, 184, 185, 186, 187, 188, 189, 190, 191, 192, 193, 194, 195, 196, 197, 198, 199, 200, 201, 202, 203, 204, 205, 206, 207, 208, 209, 210, 211, 212, 213, 214, 215, 216, 217, 218, 219, 220, 221, 222, 223, 224, 225, 226, 227, 228, 229, 230, 231, 232, 233, 234, 235, 236, 237, 238, 239, 240, 241, 242, 243, 244, 245, 246, 247, 248, 249, 250, 251, 252, 253, 254, 255, 256, 257, 258, 259, 260, 261, 262, 263, 264, 265, 266, 267, 268, 269, 270, 271, 272, 273, 274, 275, 276, 277, 278, 279, 280, 281, 282, 283, 284, 285, 286, 287, 288, 289, 290, 291, 292, 293, 294, 295, 296, 297, 298, 299, 300, 301, 302, 303, 304, 305, 306, 307, 308, 309, 310, 311, 312, 313, 314, 315, 316, 317, 318, 319, 320, 321, 322, 323, 324, 325, 326, 327, 328, 329, 330, 331, 332, 333, 334, 335, 336, 337, 339, 340, 341, 342, 343, 344, 345, 346, 347, 348, 349, 350, 351, 352, 353, 354, 355, 356, 357, 358, 359, 360, 361, 362, 363, 364, 365, 366, 367, 368, 369, 370, 371, 372, 373, 374, 375, 376, 377, 378, 379, 380, 381, 382, 383, 384, 385, 386, 387, 388, 389, 390, 391, 392, 393, 394, 395, 396, 397, 398, 399, 400, 401, 402, 403, 404, 405, 406, 407, 408, 409, 410, 411, 412, 413, 414, 415, 416, 417, 418, 419, 420, 421, 422, 423, 424, 425, 426, 427, 428, 429, 430, 431, 432, 433, 434, 435, 436, 437, 438, 439, 440, 441, 442, 443, 444, 445, 446, 447, 448, 449, 450, 451, 452, 453, 454, 455, 456, 457, 458, 459, 460, 461, 462, 463, 464, 465, 466, 467, 468, 469, 470, 471, 472, 473, 474, 475, 476, 477, 478, 479, 480, 481, 482, 483, 484, 485, 486, 487, 488, 489, 490, 491, 492, 493, 494, 495, 496, 497, 498, 499, 500, 501, 502, 503, 504, 505, 506, 507, 508, 509, 510, 511, 512, 513, 514, 515, 516, 517, 518, 519, 520, 521, 522, 523, 524, 525, 526, 527, 528, 529, 530, 531, 532, 533, 534, 535, 536, 537, 538, 539, 540, 541, 542, 543, 544, 545, 546, 547, 548, 549, 550, 551, 552, 553, 554, 555, 556, 557, 558, 559, 560, 561, 562, 563, 564, 565, 566, 567, 568, 569, 570, 571, 572, 573, 574, 575, 576, 577, 578, 579, 580, 581, 582, 583, 584, 585, 586, 587, 588, 589, 590, 591, 592, 593, 594, 595, 596, 597, 598, 599, 600, 601, 602, 603, 604, 605, 606, 607, 608, 609, 610, 611, 612, 613, 614, 615, 616, 617, 618, 619, 620, 621, 622, 623, 624, 625, 626, 627, 628, 629, 630, 631, 632, 633, 634, 635, 636, 637, 638, 639, 640, 641, 642, 643, 644, 645, 646, 647, 648, 649, 650, 651, 652, 653, 654, 655, 656, 657, 658, 659, 660, 661, 662, 663, 664, 665, 666, 667, 668, 669, 670, 671, 672, 673, 674, 675, 676, 677, 678, 679, 680, 681, 682, 683, 684, 685, 686, 687, 688, 689, 690, 691, 692, 693, 694, 695, 696, 697, 698, 699, 700, 701, 702, 703, 704, 705, 706, 707, 708, 709, 710, 711, 712, 713, 714, 715, 716, 717, 718, 719, 720, 721, 722, 723, 724, 725, 726, 727, 728, 729, 730, 731, 732, 733, 734, 735, 736, 737, 738, 739, 740, 741, 742, 743, 744, 745, 746, 747, 748, 749, 750, 751, 752, 753, 754, 755, 756, 757, 758, 759, 760, 761, 762, 763, 764, 765, 766, 767, 768, 769, 770, 771, 772, 773, 774, 775, 776, 777, 778, 779, 780, 781, 782, 783, 784, 785, 786, 787, 788, 789, 790, 791, 792, 793, 794, 795, 796, 797, 798, 799, 800, 801, 802, 803, 804, 805, 806, 807, 808, 809, 810, 811, 812, 813, 814, 815, 816, 817, 818, 819, 820, 821, 822, 823, 824, 825, 826, 827, 828, 829, 830, 831, 832, 833, 834, 835, 836, 837, 838, 839, 840, 841, 842, 843, 844, 845], '144': [3848, 25954, 106210, 86317, 29182, 25560, 8077, 63894, 81618, 26184, 162812, 160702, 98134, 145177, 30080, 21065, 88655, 152041, 149781, 29278, 119042, 91328, 159541, 54587, 12352, 82947, 74211, 164336, 24438, 123371, 147255, 41896, 887, 88653, 152038, 88451, 21217, 19951, 45501, 63156, 123658, 88650, 33399, 55992, 19623, 116957, 9962, 68322, 118708, 66588, 138645, 163487, 58157, 136670, 122912, 151943, 110696, 11479, 153227, 46400, 90699, 27743, 22971, 26436, 118611, 40428, 22266, 161908, 55016, 5234, 25614, 94968, 12680, 40230, 128428, 23673, 151510, 54336, 16376, 60771, 6640, 61199, 6953, 17444, 12153, 79996, 135945, 39592, 120165, 120647, 141118, 120743, 145195, 111781, 35544, 118634, 118591, 37338, 68910, 124462, 36799, 5494, 15231, 11859, 28302, 109440, 1349, 25831, 20539, 29407, 38632, 146874, 46933, 86922, 151572, 154490, 118376, 108161, 78117, 80648, 10261, 41414, 69527, 105634, 101865, 11115, 56224, 80679, 91360, 24938, 33938, 59825, 140372, 60234, 14485, 22011, 149914, 85785, 88656, 152044, 107808, 31226, 33987, 55998, 161524, 125798, 82937, 90435, 106481, 51418, 25644, 88661, 40301, 135025, 3888, 107848, 18025, 99228, 59428, 63699, 111774, 140233, 24548, 36402, 43755, 52587, 68438, 68986, 69494, 152919, 96521, 99370, 1459, 41498, 58007, 64801, 69315, 41094, 49491, 101863, 142921, 6502, 25699, 144535, 76650, 42297, 164481, 108832, 141350, 157695, 151577, 8175, 56964, 111456, 119945, 155256, 156276, 163096, 32840, 10379, 57753, 69809, 76465, 38033, 68462, 56676, 60453, 102730, 89236, 10855, 146123, 68911, 30268, 10282, 17414, 4530, 23653, 34348, 134793, 134968, 105267, 113077, 151541, 151595, 88699, 108976, 51432, 122334, 141751, 145020, 120598, 48771, 100827, 66317, 153454, 21032, 32672, 39671, 105358, 77290, 47913, 97866, 75120, 87231, 144736, 102346, 162514, 3055, 83342, 4181, 136978, 136588, 98208, 24844, 229, 116496, 134947, 130285, 27248, 52368, 52374, 52394, 31994, 92049, 75538, 123953, 164359, 84602, 155274, 91552, 5453, 1142, 76952, 145737, 32488, 128174, 10564, 12958, 124348, 37104, 55518, 112838, 136103, 92172, 88866, 79190, 81208, 149567, 100765, 7232, 22951, 103563, 25760, 90860, 32651, 32155, 46372, 55904, 94366, 121775, 128354, 132583, 55985, 25211, 94766, 162513, 88432, 27530, 77567, 5663, 22568, 22812, 29778, 73655, 95403, 102573, 138585, 139387, 3295, 22917, 76446, 107327, 135979, 138426, 94721, 16205, 27027, 58141, 92031, 109338, 815, 32800, 33807, 52428, 71202, 85656, 88949, 102135, 153174, 163483, 82944, 162449, 132893, 134636, 118592, 4925, 31996, 66402, 92254, 112102, 114351, 146809, 161626, 97867, 132584, 63217, 69498, 55505, 99791, 11167, 63923, 123017, 146940, 148423, 152079, 106608, 138341, 77565, 119197, 153223, 99767, 57722, 146409, 21338, 35800, 71764, 92324, 6952, 7654, 17443, 44657, 11190, 144116, 86162, 13657, 86931, 155568, 26081, 43129, 67645, 42736, 79119, 7263, 61361, 108277, 152443, 18222, 95205, 103437, 122564, 124679, 126018, 157136, 12185, 16759, 114949, 17118, 67437, 63159, 122116, 32218, 57012, 47711, 63994, 76933, 6797, 9028, 12371, 28243, 54255, 67026, 97507, 97525, 119709, 132857, 143256, 158768, 163650, 163746, 5540, 111445, 134721, 151190, 152870, 85286, 139565, 142052, 66229, 19656, 43807, 112712, 133300, 104091, 57644, 67064, 93167, 94142, 6392, 55096, 60993, 90150, 153194, 13900, 41128, 35436, 90347, 145820, 116386, 14748, 22873, 23860, 49938, 80103, 104025, 77920, 95661, 83652, 32793, 161579, 86019, 96552, 108732, 113768, 124969, 126925, 56040, 88698, 143337, 72209, 101079, 17455, 17004, 99717, 9408, 51142, 80897, 80924, 101454, 122799, 124691, 143027, 150260, 157433, 163454, 61140, 39928, 108367, 5857, 8439, 47498, 50782, 55089, 102707, 126558, 152515, 123720, 6613, 12420, 41492, 8764, 27563, 63183, 77142, 116017, 117792, 119046, 16173, 154514, 82526, 106341, 119697, 121526, 8600, 10310, 30464, 33849, 58583, 82720, 89008, 118734, 127191, 137005, 141784, 156282, 29521, 111211, 143927, 146414, 63983, 27235, 104840, 83810, 92814, 13860, 19697, 43879, 17431, 140448, 50640, 35701, 162421, 3371, 9987, 14579, 23876, 102419, 116483, 125728, 135008, 137926, 162337, 38135, 41966, 61347, 79492, 81428, 110787, 117866, 130418, 139515, 143015, 30200, 26463, 87201, 73809, 6484, 42850, 88786, 121911, 163279, 26095, 26145, 33394, 37696, 37725, 41356, 48757, 80019, 160361, 88498, 13539, 49884, 83310, 142686, 150459, 69826, 83579, 114065, 142998, 13678, 70241, 114518, 8832, 10357, 32804, 49474, 122277, 117750, 158222, 72202, 6295, 57535, 1195, 1658, 21378, 38324, 59416, 74171, 97100, 97232, 104825, 138742, 3522, 53323, 70479, 102969, 132725, 142937, 8584, 19942, 30929, 68592, 75939, 94568, 96467, 112442, 115555, 122525, 128192, 130659, 145108, 157638, 32599, 114019, 126487, 667, 70074, 92471, 98788, 110509, 110697, 144725, 145174, 54019, 16858, 22267, 162244, 164055, 8491, 24653, 26104, 30763, 66026, 77259, 98133, 128534, 140771, 151227, 163211, 10269, 23848, 29839, 61945, 116296, 71206, 89441, 22926, 126015, 8706, 90151, 134707, 151324, 98068, 29634, 13027, 114768, 91651, 96622, 18275, 81265, 88658, 152047, 2825, 4201, 4427, 5569, 6335, 8837, 11636, 12299, 20227, 26902, 35246, 38435, 40565, 43627, 48445, 50995, 53510, 62319, 62526, 64423, 75477, 78691, 83397, 87589, 94315, 96279, 97561, 102368, 102605, 102767, 107599, 110335, 112049, 125681, 140341, 142099, 146653, 68584, 135723, 145155, 33856, 71736, 81619, 115543, 164313, 33101, 64335, 42188, 13125, 122473, 28488, 35249, 45348, 67986, 80915, 114578, 115165, 118968, 121457, 125534, 135811, 116726, 82977, 6905, 23942, 66015, 78130, 94386, 124981, 149928, 62908, 126685, 153153, 58900, 250, 305, 5262, 29356, 39400, 49083, 49703, 51833, 56345, 71204, 77258, 79209, 83030, 87187, 91762, 93999, 104481, 108159, 111214, 115389, 119003, 121454, 121605, 125523, 130714, 143550, 149560, 3286, 27289, 42809, 49198, 49825, 61332, 97512, 143094, 72632, 80917, 17085, 24008, 27644, 37790, 157335, 11831, 67514, 92171, 124118, 77489, 99872, 160042, 5675, 113924, 25963, 47213, 137904, 142316, 145213, 93169, 44913, 55980, 79054, 153108, 13654, 49763, 78156, 144078, 93462, 95099, 108078, 7993, 10558, 90849, 129306, 143467, 146042, 146954, 148122, 21988, 113974, 71272, 72212, 142719, 135132, 164467, 32061, 41901, 50424, 53140, 74127, 17508, 67957, 70086, 117272, 138044, 15141, 141379, 67137, 78946, 6977, 8793, 14490, 24103, 24590, 26102, 27560, 28487, 30640, 41398, 45569, 47545, 49178, 51662, 54818, 65206, 66731, 72855, 75974, 79543, 80323, 81484, 89539, 90919, 92402, 92601, 98677, 99027, 99607, 106722, 114671, 118971, 123827, 128304, 133984, 136083, 138917, 146022, 146967, 157508, 78028, 161571, 12093, 21283, 31370, 86597, 99245, 145748, 152482, 163167, 4358, 139764, 34994, 38026, 41965, 51821, 55440, 60973, 64334, 69563, 80538, 81417, 82690, 83229, 88979, 96833, 102752, 103141, 108139, 115584, 117075, 126823, 127245, 132746, 132842, 141254, 149058, 162018, 18332, 21309, 22185, 40177, 47018, 60829, 63539, 116002, 152763, 163603, 164267, 55993, 63357, 10525, 31252, 33600, 59432, 88510, 93158, 93979, 94633, 100576, 122751, 130608, 131116, 141331, 147288, 160188, 163221, 140186, 17173, 61284, 140166, 161913, 123930, 147346, 22378, 31010, 118993, 47009, 144121, 38957, 41384, 43667, 48826, 111220, 122404, 123653, 138391, 140483, 144405, 37793, 39139, 74433, 86327, 93190, 137956, 138832, 75188], '53': [161992, 27626, 154732, 6949, 9411, 17440, 38570, 109572, 45744, 90710, 65688, 83320, 38435, 65792, 46073, 123684, 123688, 161987, 155035, 41810, 58131, 58161, 65818, 67048, 76981, 134132, 89292, 163668, 4206, 33685, 41966, 53117, 109670, 22224, 86729, 117207, 162260, 49436, 74126, 77729, 89320, 117728, 146102, 161140, 145540, 10265, 11470, 37449, 84569, 102135, 121606, 154490, 47428, 122699, 145538, 161988, 5798, 17089, 25888, 76949, 87550, 111214, 111468, 114072, 124682, 124969, 146958, 11382, 61861, 95258, 98963, 147297, 149924, 61870, 91758, 107871, 111486, 122543, 148410, 149888, 1377, 4968, 6349, 7996, 20225, 24915, 58142, 58899, 69531, 70586, 70588, 70589, 70590, 70591, 70643, 71982, 72254, 73489, 73595, 74141, 75870, 78446, 87726, 107553, 108134, 110191, 111292, 111445, 135025, 143507, 144335, 145211, 146072, 20195, 28650, 27902, 30241, 30318, 86123, 86126, 88514, 89598, 109719, 112386, 163193, 8856, 15850, 23062, 25560, 27024, 32229, 76946, 86904, 103580, 109989, 126103, 143480, 145541, 146058, 146095, 9962, 10257, 22266, 24991, 31211, 31970, 37122, 40465, 44947, 51150, 58158, 70268, 75957, 77280, 82819, 83970, 86764, 88949, 89305, 96559, 104728, 105284, 114580, 121751, 128812, 129384, 143484, 144331, 146091, 147634, 148131, 148443, 154080, 154693, 158771, 159765, 161985, 162294, 130299, 18321, 110708, 112419, 140105, 4477, 18970, 51441, 58500, 100525, 148837, 10263, 15730, 39183, 53699, 2383, 7959, 8456, 8826, 11404, 13859, 17474, 19658, 23616, 23911, 23918, 24819, 25482, 26688, 27963, 28555, 28876, 30281, 31206, 32098, 32243, 34353, 34861, 35269, 36844, 37003, 37095, 38540, 38576, 39461, 39904, 41896, 44682, 46116, 49163, 49884, 49942, 50263, 50371, 50408, 51105, 54252, 54818, 55324, 56467, 57631, 58285, 59230, 59475, 59815, 60885, 61001, 61630, 61656, 62333, 62335, 62341, 62345, 62352, 62360, 65677, 66087, 66287, 70581, 70585, 71215, 73104, 74119, 74175, 74472, 74781, 77554, 79367, 80637, 81951, 83337, 88050, 88506, 89101, 90150, 97468, 99902, 103620, 104255, 105302, 107049, 107248, 110247, 111444, 111457, 117153, 117680, 118471, 118667, 119031, 120387, 120411, 122150, 123682, 123686, 127615, 127622, 128078, 139214, 140360, 143034, 145239, 146078, 147270, 149906, 150453, 153761, 158091, 158490, 159746, 159761, 159762, 161112, 161989, 164006, 7391, 7654, 16303, 18336, 25308, 46975, 65769, 68915, 68950, 76014, 76950, 85011, 89594, 91435, 91715, 93052, 100500, 101157, 102186, 102475, 104727, 113257, 113433, 118686, 121603, 124977, 126367, 127322, 130613, 130924, 131116, 132344, 132679, 134865, 149941, 6386, 9723, 12153, 59823, 74167, 76051, 109993, 118551, 135027, 154902, 162605, 251, 3286, 4189, 6631, 10948, 12966, 12974, 18294, 18297, 19023, 19407, 20518, 21086, 34051, 38613, 39274, 42217, 43459, 43628, 44411, 46379, 49492, 49525, 50103, 50427, 50819, 54851, 55097, 55558, 56981, 60092, 60416, 63258, 64846, 67383, 72262, 73848, 75408, 81377, 84958, 85562, 86089, 88960, 89638, 91440, 96845, 97261, 97525, 99232, 100827, 104281, 105318, 105319, 105881, 106784, 107869, 107915, 108732, 109320, 109712, 112387, 113016, 115144, 115165, 115171, 117702, 121457, 122800, 123011, 124335, 125394, 127253, 129087, 129324, 129385, 130265, 131411, 132392, 134824, 134867, 136483, 137893, 140104, 140499, 140771, 140777, 142087, 144862, 149915, 150228, 150260, 152189, 152469, 153193, 156920, 157747, 161454, 161984, 161990, 162832, 163221, 163483, 163724, 4205, 5013, 5208, 5276, 5812, 6067, 6194, 6342, 8806, 8837, 10249, 10254, 10261, 10266, 11680, 12081, 12358, 12661, 12998, 13844, 14178, 14257, 14980, 14991, 19806, 19942, 20188, 23876, 25600, 26062, 26079, 26095, 26121, 26409, 27254, 29120, 29992, 30238, 30242, 30285, 32527, 32811, 32822, 32830, 32835, 32851, 34922, 35504, 35525, 35546, 36612, 36621, 36627, 36631, 36634, 37408, 38787, 39456, 41375, 41663, 41954, 41972, 42207, 43123, 47557, 49487, 49905, 49928, 49932, 50440, 51475, 52196, 54254, 54521, 54556, 54574, 57012, 57414, 59959, 60131, 60160, 60614, 62655, 64283, 66070, 66835, 67355, 68948, 69518, 71244, 73873, 74784, 74793, 76038, 76460, 76464, 76471, 76476, 76482, 76485, 76488, 76945, 76994, 81618, 82209, 82830, 86720, 87717, 88046, 88516, 88518, 88521, 88530, 88534, 88537, 89141, 89142, 90748, 91068, 91403, 96856, 110158, 110801, 117486, 119662, 120598, 121685, 122121, 124336, 128797, 138304, 138852, 140094, 142688, 144855, 145664, 146081, 146085, 146092, 146097, 146100, 146111, 146115, 146116, 155027, 155309, 155458, 157433, 158450, 158451, 160348, 162006, 162013, 163379, 511, 850, 879, 3865, 4170, 4466, 4925, 5218, 5230, 5802, 6136, 6347, 6634, 6795, 6963, 7480, 7643, 8177, 8301, 8457, 8862, 8872, 9692, 9722, 9733, 9948, 9953, 9954, 11704, 12117, 12369, 12425, 12687, 12702, 13849, 14048, 14214, 15141, 15591, 15594, 15609, 17192, 17416, 18291, 18300, 18302, 18307, 18316, 18319, 18330, 19004, 19012, 19923, 20244, 20277, 20504, 20542, 20562, 21115, 21531, 21605, 21943, 21944, 22216, 22511, 22987, 23336, 23658, 23870, 24221, 24229, 24591, 25561, 25640, 26143, 26435, 26868, 27787, 29284, 29300, 29395, 29678, 29917, 30027, 30223, 30481, 31189, 31968, 31977, 32241, 32253, 32260, 33184, 33394, 34042, 34087, 34959, 36340, 36351, 37087, 37696, 38280, 38755, 39764, 39769, 39794, 40139, 40454, 40466, 40762, 40798, 41488, 42224, 42233, 42611, 42616, 42805, 43125, 43660, 44912, 46100, 47545, 47724, 47729, 49198, 49497, 49519, 49703, 49745, 49925, 49938, 49944, 50424, 50438, 51866, 52458, 52948, 53116, 53349, 53360, 54256, 54421, 55406, 55876, 56127, 57034, 57272, 57293, 57611, 57644, 58001, 58022, 58035, 58232, 59159, 59825, 60413, 61583, 61602, 61615, 61873, 62312, 64314, 64815, 66057, 66786, 66791, 67059, 67112, 67349, 67402, 67988, 68008, 68908, 69065, 69282, 70003, 70248, 70260, 70573, 71211, 71214, 71230, 71241, 72218, 72537, 74114, 74186, 75770, 76211, 76483, 76938, 77824, 78114, 78118, 78166, 79243, 79472, 79789, 80620, 81680, 81998, 82477, 82499, 82509, 82793, 82839, 83342, 83602, 83604, 83688, 84264, 85571, 86536, 86732, 87770, 88013, 88016, 88020, 88536, 89607, 91391, 91405, 92045, 92086, 92709, 93032, 93034, 93068, 93653, 93661, 93684, 94633, 95251, 95253, 95300, 95902, 95906, 96271, 96847, 97211, 97829, 99224, 99228, 99279, 100212, 100488, 100541, 100717, 100795, 100824, 100829, 101150, 101622, 101624, 102132, 102156, 103005, 103296, 103312, 103345, 103585, 104269, 104724, 104782, 104922, 105286, 105292, 105308, 106471, 106511, 106824, 107328, 107870, 108742, 108744, 108754, 108757, 108766, 110379, 110398, 110712, 110713, 110717, 110722, 110723, 110733, 110901, 111462, 111757, 112676, 112961, 113468, 113469, 113768, 113827, 114126, 114578, 114589, 115120, 115121, 115161, 115221, 115559, 115887, 115924, 116864, 117175, 117202, 117460, 117915, 118998, 119922, 119977, 120144, 121376, 121600, 121601, 121605, 122134, 122153, 122772, 123738, 124330, 124683, 124965, 124968, 125682, 125685, 126603, 126610, 126631, 126918, 127256, 127323, 128422, 128435, 128822, 129323, 129686, 129690, 129995, 130638, 131665, 131666, 133256, 133530, 133790, 135621, 135916, 135924, 136931, 137212, 137614, 137922, 138239, 139781, 139784, 139858, 140751, 140755, 140761, 140765, 140775, 141045, 142088, 142109, 142110, 142972, 143005, 143457, 143467, 143493, 143811, 143841, 144070, 144087, 144375, 144389, 144825, 145255, 145737, 145738, 145771], '89': [151345, 96556, 158797, 158807, 149148, 141068, 161697, 141761, 85047, 140810, 129377, 156035, 20213, 85256, 63266, 134573, 45741, 125370, 75715, 158532, 96318, 158808, 1465, 106783, 61018, 160058, 161702, 130705, 58900, 45654, 65690, 115131, 48612, 142098, 96504, 141061, 96538, 141049, 129335, 81969, 82788, 58038, 158455, 104398, 141731, 122126, 149897, 119630, 140245, 115169, 8515, 96202, 54814, 107620, 147933, 89893, 104354, 138189, 127261, 152593, 125222, 88591, 121217, 130848, 138224, 57387, 85280, 111474, 143796, 77877, 15578, 48218, 49735, 110714, 144827, 147626, 148391, 70269, 103945, 105860, 109439, 44912, 162258, 77279, 143223, 112108, 93424, 33768, 98150, 12417, 15580, 112674, 125012, 10679, 62653, 31781, 130890, 92913, 125749, 9079, 137205, 59472, 103009, 29954, 34691, 92253, 101273, 108743, 121864, 74161, 91434, 114122, 134221, 53919, 869, 20198, 35757, 4451, 95280, 8438, 106150, 109438, 13254, 43455, 132362, 143411, 139629, 144611, 58515, 61287, 61567, 126272, 134222, 141679, 13282, 32846, 100542, 114105, 126630, 122654, 30768, 48189, 142242, 119460, 113282, 82829, 103630, 102436, 26730, 81057, 106985, 114986, 50411, 121201, 12388, 149141, 32530, 59459, 66423, 77075, 79233, 85846, 104919, 107616, 108144, 41702, 64001, 157755, 82486, 95265, 98711, 84239, 161133, 26174, 15595, 26680, 37427, 77288, 82823, 123874, 124370, 124980, 127248, 145773, 162469, 56993, 145620, 159209, 35684, 162605, 73040, 83284, 99881, 131681, 122746, 19903, 141809, 32848, 39164, 79206, 104480, 127315, 4505, 161747, 26107, 96531, 117691, 138181, 143824, 158781, 107939, 132069, 113186, 161007, 36082, 52441, 4138, 14586, 51426, 63974, 86750, 89319, 100479, 110730, 121034, 134825, 154686, 158827, 89629, 16013, 854, 163465, 138275, 41064, 152171, 49333, 130303, 148793, 27090, 27103, 108130, 54614, 9384, 133273, 145249, 123921, 131991, 142264, 1900, 117253, 142430, 78132, 136041, 509, 29094, 46387, 70854, 73872, 76467, 76477, 78408, 88015, 98344, 105717, 107633, 114120, 124101, 133255, 145253, 145787, 148432, 151781, 154607, 155125, 162413, 9400, 36637, 49733, 57027, 73064, 101175, 105720, 114592, 114852, 122114, 126920, 142114, 142459, 146692, 152591, 161725, 162585, 2113, 163401, 92077, 33139, 101198, 158464, 162597, 65203, 13842, 18252, 32232, 32245, 34464, 49887, 142690, 49741, 91401, 3972, 45426, 46417, 61416, 70298, 102834, 112824, 120720, 122046, 127105, 139603, 147104, 148727, 153730, 159938, 160461, 155459, 11723, 39763, 57683, 54588, 80952, 163194, 72274, 83320, 85023, 16562, 59306, 94595, 13257, 15605, 26133, 31788, 38598, 40765, 49709, 56167, 73849, 74177, 82517, 86313, 86726, 89267, 99360, 102428, 114076, 124967, 126605, 128436, 129959, 131705, 132076, 133258, 142169, 145774, 148810, 158445, 94766, 12187, 34455, 35392, 44175, 70003, 80910, 12383, 155653, 108740, 141568, 17179, 29351, 30617, 71251, 120408, 129095, 145547, 152557, 80953, 123456, 129950, 89857, 5406, 123254, 140864, 143220, 34671, 42057, 44933, 59829, 61787, 62326, 69269, 71982, 81379, 102120, 123682, 124320, 124963, 137827, 158563, 54653, 73121, 97727, 116652, 107009, 36377, 68945, 7379, 11207, 160095, 13268, 32815, 51440, 56132, 67640, 74492, 76487, 79221, 90473, 91389, 92474, 93154, 96528, 98338, 99274, 103292, 109988, 110749, 118974, 123709, 123898, 127831, 130922, 134229, 134861, 141081, 145068, 149280, 163497, 69853, 119921, 98335, 12100, 18282, 26563, 41663, 50359, 73880, 126028, 132989, 163065, 3454, 76929, 86311, 137377, 151813, 48943, 54268, 55846, 63968, 66811, 68912, 130907, 158771, 55476, 59456, 135637, 32794, 151215, 148437, 150122, 96622, 128410, 155891, 3278, 32850, 46125, 56164, 57636, 63348, 64320, 77849, 81948, 99617, 115111, 138226, 3482, 41569, 65836, 71987, 10703, 23143, 30158, 92515, 132524, 138500, 151427, 2054, 25640, 28405, 35574, 49700, 57678, 102704, 120401, 125745, 131597, 146686, 148128, 152863, 156440, 11479, 109966, 123826, 162344, 56170, 66192, 77864, 115633, 117486, 119358, 156739, 3864, 3889, 4213, 4873, 6090, 10316, 20577, 22134, 22616, 22681, 33437, 34353, 34514, 36806, 40145, 43419, 53896, 57050, 59982, 66542, 74184, 74419, 77095, 77724, 82109, 108139, 110691, 122812, 123687, 123688, 128342, 129690, 137333, 145197, 149110, 152306, 152588, 152630, 163704, 7418, 60697, 7313, 57198, 59669, 72063, 14375, 94032, 7425, 7962, 17428, 18310, 43184, 54841, 81936, 87776, 95917, 102750, 103479, 108132, 110702, 163730, 164284, 51959, 53858, 132793, 24984, 37113, 154093, 26281, 83375, 19616, 46361, 64983, 77856, 78840, 103039, 106997, 147668, 13283, 14508, 14651, 18052, 20844, 28911, 29383, 29971, 31262, 33802, 40099, 43453, 48732, 52103, 59768, 73349, 81363, 86763, 88504, 93975, 95057, 96274, 96579, 99599, 101153, 102134, 103639, 107649, 114075, 115119, 121868, 124615, 125399, 129318, 129380, 131902, 132370, 139484, 142102, 143471, 147265, 148390, 153152, 155295, 2156, 3185, 39433, 65377, 131731, 136879, 159083, 33130, 53891, 99532, 129574, 12092, 25605, 26575, 70268, 89067, 94184, 105348, 107925, 102425, 142049, 57669, 70846, 115298, 29523, 50107, 62749, 69181, 94030, 120278, 129870, 153194, 160367, 5534, 18988, 22971, 24069, 26470, 28878, 31732, 34940, 40484, 44702, 54526, 71726, 74441, 76479, 80050, 82521, 84267, 87205, 106899, 123524, 157361, 161750, 126487, 23784, 24707, 72291, 890, 10282, 25106, 82787, 133253, 28279, 2649, 3595, 5765, 7601, 27542, 30982, 38030, 38175, 46926, 56776, 86097, 86964, 88018, 93996, 96087, 97889, 113779, 115382, 137272, 157812, 8992, 9756, 10260, 15884, 16901, 18176, 19297, 19802, 19923, 26528, 27763, 27794, 32264, 35796, 37729, 40874, 43826, 44520, 47428, 54636, 62638, 68849, 68922, 70589, 76950, 77528, 80341, 80917, 82790, 84116, 90225, 101216, 109136, 113407, 117462, 145156, 145250, 155307, 24916, 317, 2168, 20120, 20729, 24304, 30913, 33650, 39471, 50734, 55107, 55116, 58997, 69611, 76324, 91426, 113121, 116884, 135329, 144716, 151521, 162221, 41145, 56618, 74739, 86451, 104741, 107032, 126616, 148804, 158862, 161812, 134636, 81074, 137682, 10647, 31923, 103950, 132147, 18325, 38603, 42644, 48226, 57032, 65762, 79190, 95890, 99619, 108149, 116495, 117199, 151395, 7428, 27547, 89310, 153516, 65169, 120615, 5879, 11681, 12827, 28471, 29159, 29335, 30924, 35277, 49338, 53431, 53476, 54252, 56676, 60453, 60620, 60965, 65437, 72537, 72764, 80583, 90730, 104926, 111432, 127568, 128430, 130270, 139850, 142762, 158478, 135809, 8091, 8149, 9793, 10959, 11024, 12624, 13144, 15519, 16709, 19369, 19372, 20672, 21320, 23176, 25225, 26362, 26899, 27632, 29667, 30874, 31142, 31350, 33078, 35186, 35682, 41331, 41452, 47103, 47189, 47306, 50310, 53947, 54162, 54215, 54448, 56115, 57091, 61131, 63267, 66014, 67747, 68509, 68926, 69807, 70959, 73693, 74928, 75223, 75505, 76570, 84390, 86442, 87056, 87359, 88316, 88555, 88561, 88593, 92113, 92556, 93056, 98582, 100201, 100369, 102604, 104348, 109431, 110570, 110653, 112487, 112594, 112965, 116019, 116827, 120791, 123235, 126311, 127988, 131642, 131805, 133648, 139199, 139508, 139950, 142306, 146553, 147452, 149251, 150817, 151544, 153303, 156589, 157837, 160363, 160523, 80611, 80643, 36968, 199, 265, 836, 1651, 4206, 4596, 4943, 6333, 6655, 9247, 10271, 11398, 11400, 11473, 11692, 12661, 13012, 13547, 14953, 16571, 18317, 18398, 19806, 19945, 21005, 21107, 21609, 22204, 22266, 22565, 22643, 22987, 24229, 25564, 25574, 28534, 30858, 31757, 34515], '173': [76008, 130173, 97179, 52872, 92854, 29715, 158097, 77426, 36098, 75529, 144533, 158172, 45186, 12914, 120362, 95655, 38239, 139826, 24980, 74156, 81695, 119191, 34865, 1574, 115909, 145552, 86578, 136991, 157957, 92068, 121584, 124380, 5153, 131837, 143946, 91861, 121583, 24877, 32275, 63313, 82544, 134390, 160513, 34742, 89971, 113750, 148230, 26185, 117567, 123267, 157810, 2495, 30316, 53908, 68537, 99251, 106355, 106526, 160874, 8357, 16403, 22390, 41059, 42915, 58399, 107476, 121083, 82725, 51181, 3169, 39583, 102856, 105498, 109478, 137450, 144339, 24136, 30551, 31245, 87847, 91908, 91940, 108658, 134326, 140884, 141428, 143672, 148370, 7246, 17749, 23302, 30015, 60812, 76028, 76744, 85464, 95664, 97596, 99173, 99362, 131904, 134817, 136069, 85134, 1788, 6413, 11966, 17823, 25122, 33917, 42249, 81547, 90407, 112486, 115366, 115874, 131780, 134406, 143660, 143664, 144534, 158687, 160712, 91218, 105237, 117856, 137605, 139856, 144582, 8265, 8273, 22374, 29797, 34713, 47829, 48072, 67491, 72416, 79261, 90784, 95939, 99276, 104393, 114335, 115812, 118298, 118375, 119941, 121054, 138422, 150398, 154725, 155832, 22736, 47026, 60820, 81194, 85678, 136379, 1017, 4701, 8368, 24077, 52682, 58643, 69432, 75946, 90112, 95397, 98228, 106259, 107384, 111672, 114418, 116877, 134708, 139013, 143601, 149779, 155583, 158070, 158878, 160753, 50024, 71932, 93015, 154839, 23232, 51345, 56297, 56989, 58819, 72561, 73565, 77311, 86580, 90754, 95915, 95924, 105444, 105486, 111095, 115911, 126120, 128504, 131581, 136150, 144532, 145635, 148164, 152291, 154662, 157152, 2472, 2564, 21750, 60858, 62942, 63952, 64382, 80354, 81885, 85712, 105058, 105890, 138795, 140544, 154292, 154392, 163461, 1731, 8570, 12887, 15657, 19748, 26213, 32655, 47427, 59643, 60995, 68662, 73200, 81460, 90508, 92376, 93033, 95824, 95869, 102753, 110997, 113612, 113993, 117391, 126085, 128780, 130308, 133263, 143921, 149327, 149736, 150241, 154899, 157193, 161410, 6116, 14089, 14324, 16432, 20849, 22186, 23400, 24771, 26306, 28179, 30014, 33840, 34113, 36943, 37803, 37848, 38120, 46079, 46705, 48036, 51558, 59614, 63637, 65244, 67269, 71669, 75919, 83287, 84643, 91764, 91827, 95889, 97305, 98583, 111995, 116938, 125882, 132030, 133065, 134713, 135423, 143666, 144129, 145443, 149974, 151158, 152867, 154218, 158318, 159109, 161725, 22602, 92364, 106007, 130797, 130887, 1818, 7290, 7292, 7306, 8996, 11292, 11374, 11604, 12848, 13048, 21701, 21766, 22936, 24028, 27780, 29689, 34973, 35459, 37046, 38622, 44453, 45370, 46865, 47954, 53202, 55320, 56502, 58967, 60969, 61551, 61665, 63595, 63759, 64048, 70406, 75611, 77745, 78538, 79528, 80370, 80848, 80922, 82760, 85115, 85190, 89495, 89671, 89830, 90634, 92900, 100369, 102629, 105784, 107922, 108992, 110876, 114876, 115762, 115816, 121468, 124722, 124737, 130314, 136323, 139617, 141361, 142753, 143389, 143574, 144726, 145661, 147983, 149030, 149797, 150954, 151668, 152372, 152997, 153202, 156050, 6227, 7476, 8539, 12763, 14023, 14761, 15526, 16648, 17516, 17704, 19569, 31772, 33070, 34914, 37949, 38036, 42090, 43191, 50287, 52419, 58788, 59536, 59780, 62820, 63027, 64175, 64284, 64697, 65871, 67419, 71005, 86568, 89873, 91782, 92044, 92742, 93934, 95640, 95870, 97063, 97905, 98223, 99361, 100470, 102456, 106202, 107654, 110240, 115412, 116109, 116377, 116389, 116491, 117510, 117796, 119436, 120871, 124563, 126317, 126705, 128755, 128791, 128794, 134389, 134455, 134502, 135551, 136950, 137298, 139146, 139512, 139523, 140342, 140941, 140990, 145045, 145456, 148376, 148378, 152850, 153064, 154532, 154580, 154739, 154810, 155316, 155643, 158310, 158619, 160633, 161135, 580, 925, 3910, 5040, 5224, 5255, 6269, 6431, 7115, 8115, 9559, 11520, 12372, 12842, 13702, 14334, 15386, 16573, 17011, 17811, 17941, 18007, 18356, 18659, 19179, 22852, 24954, 30396, 30462, 32427, 32781, 33603, 36568, 38332, 38650, 39833, 40093, 42050, 44736, 45947, 46324, 47340, 48945, 50360, 52072, 52319, 52604, 53548, 54388, 58859, 62208, 64816, 66730, 67507, 67536, 72496, 72582, 75272, 75712, 75997, 76088, 77265, 77486, 77663, 79350, 79911, 80242, 82875, 83441, 83921, 84412, 85435, 85564, 87485, 89390, 89606, 90121, 90292, 90900, 90903, 94815, 96529, 98836, 100832, 102781, 104712, 110343, 110710, 116196, 116797, 117334, 117633, 119153, 120182, 121211, 122431, 123110, 123193, 124537, 125232, 126473, 126745, 127703, 129086, 129556, 129561, 130259, 133312, 133347, 133348, 136287, 136333, 137028, 137056, 137739, 139872, 140115, 140749, 140849, 143535, 143852, 145419, 147494, 149878, 150285, 151124, 151467, 151646, 154420, 154996, 155887, 156208, 156431, 158230, 158520, 158991, 164029, 349, 424, 795, 799, 1255, 1336, 1667, 2015, 2029, 2192, 2229, 2350, 2377, 2380, 2426, 2574, 2813, 2818, 3245, 3975, 4523, 5440, 5557, 5564, 5647, 5691, 6102, 6334, 6430, 6514, 6630, 7048, 7222, 7236, 7498, 8317, 8342, 8346, 8666, 8816, 8828, 9080, 9126, 9190, 9440, 9674, 10581, 10646, 10879, 10936, 11047, 11241, 11312, 11592, 11600, 11641, 11676, 11837, 12042, 12363, 12450, 12789, 12858, 13090, 13129, 13653, 13669, 13741, 13957, 14818, 15243, 15434, 15518, 15693, 16000, 16215, 16337, 16382, 16418, 16506, 16541, 17265, 17309, 17522, 17574, 17815, 17888, 18287, 18354, 18778, 18807, 18910, 19200, 19332, 19829, 19831, 20035, 20634, 20642, 20645, 20795, 20878, 21803, 22129, 22538, 22569, 22705, 22707, 22760, 23045, 23083, 23938, 23939, 23961, 23983, 24102, 24628, 24640, 24642, 24844, 24948, 25084, 25220, 25320, 25366, 25632, 25652, 25934, 26201, 26228, 26262, 26282, 26913, 26916, 27387, 27616, 27703, 28351, 28495, 28519, 28681, 29038, 29270, 29523, 29591, 29763, 29801, 29936, 30211, 30377, 30535, 30612, 30872, 31427, 31461, 31581, 31662, 31827, 31849, 31891, 32620, 32684, 32747, 32925, 32926, 32927, 33252, 33326, 33451, 33472, 33758, 33915, 34667, 34784, 34814, 34974, 35023, 35162, 35169, 35888, 35937, 35969, 36030, 36517, 36588, 36701, 36764, 36971, 37406, 37577, 37606, 37766, 38048, 38104, 38110, 38172, 38191, 38236, 38781, 39543, 39553, 39611, 39669, 39831, 40207, 40325, 40944, 41503, 41841, 42237, 42306, 42324, 42341, 42971, 43489, 43496, 43504, 43562, 43709, 44044, 44157, 44342, 44425, 44429, 44510, 44850, 45021, 45097, 45141, 45161, 45371, 45638, 46461, 46534, 46725, 46867, 47517, 47610, 47743, 47761, 48007, 48120, 48316, 48858, 49005, 49028, 49053, 49702, 50175, 50280, 50374, 50948, 51030, 51064, 51180, 51649, 51945, 52009, 52058, 52151, 52157, 52168, 53024, 53122, 53433, 53479, 53936, 53949, 53989, 53997, 54146, 54332, 54528, 55033, 55133, 55230, 55287, 55302, 55648, 55732, 56333, 56402, 57407, 57495, 57746, 57758, 58427, 58479, 58599, 58713, 59304, 59540, 59829, 59999, 60750, 60949, 61023, 61188, 61746, 61759, 62484, 62541, 62689, 62830, 63202, 63336, 63401, 63612, 63754, 63819, 64022, 64205, 64348, 64424, 64428, 64444, 64455, 64805, 64945, 64960, 65001, 65088, 65212, 65719, 65877, 65974, 66320, 66402, 66529, 66637, 66765, 66927, 66950, 67027, 67195, 67485, 68049, 68175, 68295, 68534, 68737, 68990, 69088, 69224, 69706, 70526, 70661, 70718, 70726, 70758, 70818, 70894, 71157, 71606, 72133, 72283, 72622, 72782, 73270, 73486, 73578, 73998, 74016, 74017, 74051, 74548, 74869, 75116, 75203, 75456, 75483, 75510], '74': [103933, 119420, 46056, 80835, 137653, 128823, 159601, 123527, 18185, 70087, 115495, 23017, 149798, 153505, 11968, 37893, 62966, 76823, 112305, 132819, 136425, 137766, 139379, 143814, 143872, 149769, 151972, 2405, 3462, 19534, 32953, 42618, 63712, 65192, 74142, 82534, 97832, 98275, 99328, 100092, 123437, 127756, 132285, 150451, 12510, 26025, 28745, 35446, 36246, 44488, 50199, 53896, 67001, 70568, 84186, 92065, 99712, 107578, 124572, 126092, 135730, 135917, 142290, 151017, 156228, 159646, 161469, 18547, 164493, 123150, 681, 4563, 6483, 7687, 11992, 13758, 14367, 16060, 18580, 21355, 24079, 29184, 29948, 35442, 36222, 37481, 40953, 44103, 51212, 55004, 56037, 58959, 58978, 59451, 61906, 62288, 65355, 68819, 69086, 71469, 72741, 73250, 74039, 77582, 81874, 82489, 82490, 92255, 94142, 94435, 95730, 97827, 101822, 102620, 104362, 104505, 104511, 104946, 111255, 115569, 117270, 122068, 122393, 122450, 124662, 125544, 125686, 127941, 129736, 130029, 130364, 131578, 133485, 136725, 144582, 145151, 147466, 152866, 153000, 154665, 154673, 155325, 156147, 156966, 159793, 160129, 161678, 162379, 56953, 109072, 111931, 131798, 139517, 149322, 156549, 164414, 40019, 53887, 57121, 66169, 67513, 69624, 117871, 145161, 5930, 5983, 59365, 87302, 112126, 117068, 125224, 127386, 131817, 14406, 14882, 18864, 19185, 22980, 36764, 60939, 74032, 102084, 102497, 104377, 112343, 114378, 125979, 131789, 134906, 138067, 5943, 19805, 26365, 39947, 52303, 58702, 69867, 75664, 89381, 101830, 105778, 109563, 116185, 118902, 126174, 131315, 131350, 135015, 140512, 140950, 141477, 149977, 164170, 1807, 3993, 4953, 6121, 8273, 10459, 12098, 15351, 18206, 18413, 19183, 23012, 26825, 30672, 36668, 39541, 44546, 46968, 48871, 52206, 59723, 60785, 61113, 63421, 63554, 63834, 67826, 72877, 76520, 77407, 77502, 79823, 80499, 81739, 88950, 91311, 91861, 94315, 94329, 96933, 98304, 103525, 105898, 110916, 111810, 111864, 112234, 114366, 118379, 120059, 120839, 121971, 131071, 132266, 134316, 134681, 134739, 135097, 138170, 140297, 143601, 144406, 148623, 150966, 153104, 154590, 154595, 154787, 154880, 156002, 158175, 158313, 3161, 4271, 4366, 6165, 6593, 8945, 9456, 10570, 13263, 15918, 19706, 19724, 21817, 24112, 24528, 27887, 34502, 34917, 34951, 37811, 38146, 43941, 45791, 49040, 49842, 50247, 51173, 53755, 57932, 59705, 62452, 64042, 69377, 69547, 69781, 72520, 74241, 74535, 75908, 77179, 80562, 82628, 85132, 93692, 94166, 94178, 99173, 99489, 100749, 103522, 109150, 112242, 112524, 113497, 117826, 118943, 119716, 120249, 120295, 123372, 124784, 125110, 125253, 125324, 126469, 127788, 129574, 131182, 132393, 135128, 135201, 136398, 137320, 137442, 141316, 142116, 142813, 143672, 147236, 148476, 148915, 155141, 156162, 158385, 160927, 163077, 164432, 164485, 94, 111, 570, 625, 1712, 1734, 1767, 1815, 1989, 1992, 2060, 2112, 2262, 2309, 3203, 3466, 3634, 4759, 4778, 4892, 5338, 5625, 5769, 6180, 6239, 6731, 6754, 7058, 7428, 7574, 7799, 8054, 8579, 9185, 9293, 9554, 9636, 9770, 10085, 10326, 10972, 11015, 11448, 11714, 11758, 11787, 11835, 12834, 12851, 12930, 14579, 14935, 14948, 14955, 14981, 15074, 15323, 15693, 15707, 16118, 16129, 16222, 16400, 16708, 16756, 16971, 17090, 17180, 18172, 18247, 18251, 18778, 18817, 18886, 19075, 19208, 19775, 19819, 19840, 19873, 20857, 20988, 21433, 22065, 22116, 22126, 22170, 22946, 24609, 24613, 24618, 24625, 24690, 25357, 25964, 25980, 26216, 26350, 26486, 26739, 27502, 27560, 28080, 28477, 28830, 28924, 29139, 29528, 30086, 30103, 30120, 30744, 31550, 31567, 31595, 31770, 31993, 32120, 32705, 33105, 33488, 33504, 33754, 34402, 34921, 35130, 35658, 36036, 36198, 36518, 36856, 37562, 37652, 38173, 39187, 39522, 39564, 39635, 39887, 39893, 39898, 40216, 40706, 40866, 41105, 41208, 41313, 42069, 42180, 42440, 43068, 43099, 43302, 43603, 43655, 43849, 43852, 44212, 44213, 44218, 44224, 44232, 44234, 44242, 44411, 44479, 44522, 44647, 44757, 44879, 44897, 45511, 45569, 45599, 45743, 45902, 45946, 46843, 47215, 47424, 47502, 48136, 48277, 48406, 48486, 49051, 49059, 49085, 49284, 49468, 50069, 50864, 51176, 51235, 51256, 51284, 51360, 52240, 52512, 52738, 52824, 53085, 53621, 53676, 53836, 53968, 54059, 54588, 55062, 55167, 55173, 55507, 55674, 55900, 56356, 56415, 56559, 56706, 57745, 58050, 58549, 58630, 58737, 58799, 58894, 59055, 60717, 60782, 61008, 61028, 61058, 61193, 61418, 61421, 61758, 61796, 62254, 62301, 62579, 62603, 63087, 63115, 63305, 63670, 64104, 64626, 64794, 65557, 65708, 65971, 65972, 66004, 66009, 66066, 66076, 66268, 66601, 66841, 67400, 67551, 67847, 67955, 67964, 68503, 68859, 69821, 70163, 70738, 70817, 71553, 71598, 71602, 71681, 71700, 72317, 72523, 72912, 73730, 73912, 74630, 74811, 74867, 74945, 74965, 75101, 75171, 75463, 75524, 75773, 75788, 75905, 76367, 76883, 76895, 76913, 76925, 76929, 77055, 77158, 77302, 77457, 78191, 78193, 78492, 78678, 78858, 79059, 80353, 80405, 80453, 80707, 81362, 81833, 82304, 82909, 83230, 83780, 83799, 83970, 84120, 84179, 84194, 84306, 84393, 84926, 84931, 85187, 85287, 85298, 85464, 86857, 87783, 87845, 88048, 88537, 88561, 88879, 88881, 88972, 89055, 89231, 89516, 89770, 90366, 90474, 90532, 90560, 90821, 91002, 91608, 91616, 91713, 91739, 91791, 92014, 92404, 92696, 92935, 93294, 93783, 93815, 93982, 94009, 94017, 94478, 95357, 95573, 95604, 95614, 95843, 96048, 96709, 96761, 97085, 97462, 97487, 97534, 97638, 97646, 97786, 98075, 98199, 98283, 98571, 98925, 99078, 99118, 99264, 99266, 99739, 99857, 100182, 100200, 100215, 100408, 100595, 100918, 100924, 101020, 101119, 101152, 101974, 102030, 102251, 102625, 103640, 103985, 104016, 104361, 105277, 105322, 106079, 106372, 106673, 106768, 107150, 107443, 107616, 107620, 107714, 108119, 108412, 108476, 109588, 109816, 110343, 110426, 110525, 110526, 110667, 111100, 111470, 111964, 112437, 112571, 113160, 113575, 113635, 113691, 113696, 115061, 115682, 116159, 116311, 116794, 116998, 117552, 117595, 117849, 118294, 118426, 118521, 118553, 119101, 119132, 121673, 121718, 122536, 122782, 123344, 123353, 123365, 123554, 123588, 123637, 123922, 124216, 125367, 125469, 125512, 125576, 125600, 125603, 125741, 125850, 126066, 126211, 126320, 126422, 126812, 126906, 127311, 127515, 127661, 127693, 127700, 127770, 127913, 127964, 128065, 128231, 128316, 128456, 128756, 128921, 129307, 129648, 129905, 129959, 130028, 130717, 131012, 131945, 132428, 132563, 132611, 132846, 132925, 133107, 133208, 133220, 133253, 133295, 133347, 133348, 133483, 133999, 134332, 134677, 135045, 135053, 135797, 135889, 136227, 136293, 136662, 136903, 136941, 136949, 137139, 137348, 137746, 137940, 138639, 138759, 138893, 139138, 139510, 139541, 139641, 140073, 140395, 140456, 140494, 140511, 140570, 141228, 141552, 141655, 141707, 141741, 141876, 142278, 142453, 142527, 142858, 143698, 143941, 144003, 144057, 144398, 144545, 144747, 144905, 145106, 145437, 145797, 146420, 147122, 147241, 147443, 148618, 149232, 149791, 150208, 150463, 150599, 150787, 150806, 151315, 151499, 151619, 151634, 151657, 152423, 152731, 152764, 152867, 152904, 153526, 153570, 153717, 153987, 154090, 154101, 154420, 154444, 154583, 154822, 154839, 155435, 155460, 155564, 155583, 155660, 155889, 156499, 156587, 157232, 157390, 157534, 157591, 158472, 158550, 158681, 158943, 158985, 159539, 159609, 159619, 159662, 159681, 160029, 160050, 160900, 161281, 161298], '103': [131996, 132007, 137508, 110619, 132004, 131988, 93834, 115614, 90385, 128191, 148970, 151315, 153116, 90072, 84121, 152439, 98766, 138662, 25106, 138170, 104176, 98866, 113714, 126468, 140784, 141799, 12956, 98233, 79698, 82532, 160871, 15626, 144911, 160844, 4077, 106523, 127165, 5767, 90797, 132005, 156148, 129604, 23016, 119792, 141796, 65504, 133012, 49491, 109841, 117416, 127224, 140174, 107491, 87211, 98386, 119816, 158694, 40396, 18282, 19447, 46011, 109843, 130172, 154101, 154680, 158229, 17850, 47956, 49579, 92531, 113739, 366, 49806, 52750, 54013, 66733, 69815, 78797, 99510, 119712, 134906, 141310, 141803, 153144, 162912, 60064, 134791, 80272, 62527, 101900, 137239, 145457, 147245, 155907, 99948, 112634, 62074, 109952, 128472, 131977, 132540, 142733, 351, 29698, 62112, 115851, 124678, 128473, 139541, 71940, 113302, 1459, 41498, 51380, 114224, 53247, 63052, 98282, 103803, 137308, 146217, 154557, 155770, 152808, 63076, 76128, 113501, 135730, 138567, 159827, 7344, 32049, 39959, 42721, 54168, 79699, 82535, 146366, 29252, 32785, 54916, 66020, 68996, 74013, 96016, 102296, 135613, 137766, 160794, 65642, 74615, 82642, 85401, 91263, 96519, 98210, 103816, 104935, 106733, 110659, 111872, 120778, 133125, 133180, 134859, 141721, 141723, 142036, 153745, 153901, 156263, 157838, 159037, 9830, 14922, 21525, 50625, 81421, 86449, 86450, 92201, 94078, 95540, 98869, 98870, 98874, 99566, 111746, 112821, 115686, 119087, 119437, 131139, 137542, 140244, 140702, 143209, 143616, 144633, 145088, 146959, 148157, 149661, 161461, 163932, 20751, 37594, 63065, 73572, 80522, 100051, 100822, 108416, 112361, 119311, 138547, 13493, 17752, 20723, 22464, 52211, 54558, 57252, 61443, 65950, 69953, 77397, 77960, 79532, 88879, 88972, 108427, 109954, 110485, 110612, 112288, 130555, 142694, 148098, 158155, 3822, 7069, 37910, 48313, 49129, 53605, 56618, 57351, 74853, 93305, 95351, 136857, 141359, 2379, 4388, 8650, 9056, 10531, 11289, 23731, 26501, 29483, 33895, 34992, 35400, 36263, 37056, 39135, 42508, 43163, 50135, 54945, 55060, 58091, 60907, 62376, 64891, 66270, 70869, 78287, 101711, 102648, 104308, 115815, 117221, 123197, 123200, 126738, 135394, 135639, 141140, 149895, 153442, 160666, 163056, 163058, 839, 3510, 9931, 10133, 10372, 13675, 17615, 22558, 24846, 27356, 27501, 33317, 35422, 38457, 39895, 41733, 57238, 66169, 66879, 69219, 69445, 75516, 77040, 85775, 86392, 91442, 98265, 105952, 106574, 107461, 111749, 112885, 120712, 124829, 127220, 129264, 131636, 131797, 132091, 134508, 141154, 143846, 146300, 147690, 151402, 151477, 152955, 153040, 153951, 156498, 158160, 158335, 158955, 7074, 7842, 9666, 11287, 11827, 14343, 14423, 15493, 21366, 23673, 25498, 26347, 27925, 31103, 32651, 33256, 40564, 41277, 41307, 42405, 44517, 45129, 47367, 49328, 52726, 54103, 57320, 58953, 63157, 71149, 73011, 74404, 75426, 76767, 76916, 77330, 77704, 78082, 80143, 80245, 84881, 86695, 97460, 99107, 100349, 100594, 104396, 105810, 106605, 108125, 109963, 111343, 114310, 123113, 126882, 129643, 133057, 133901, 136330, 136338, 137767, 139357, 142623, 143055, 144477, 145672, 146575, 148062, 149080, 149192, 151237, 156042, 156899, 162949, 336, 3895, 3996, 4066, 15434, 19905, 22561, 24766, 25017, 25029, 26930, 27757, 30879, 37479, 40543, 41898, 44897, 45789, 47562, 48506, 50800, 51698, 52489, 55057, 57675, 57707, 59044, 60369, 60706, 64166, 64877, 65038, 67332, 67843, 67905, 67956, 73024, 73866, 74307, 74727, 75693, 77467, 82537, 83576, 89661, 90530, 91191, 92341, 94159, 94438, 95303, 95392, 95529, 98463, 98478, 98633, 99385, 100420, 100573, 101524, 101822, 102301, 103801, 104470, 107587, 107795, 107814, 108041, 108424, 109057, 109551, 109972, 110353, 110354, 111150, 112822, 112860, 113289, 120612, 120889, 121720, 122688, 123298, 123305, 128691, 129564, 132064, 132476, 132541, 132572, 133388, 133498, 137477, 138282, 142072, 143953, 146454, 148051, 149481, 149962, 150745, 151830, 154893, 157197, 157820, 158214, 159240, 159341, 161198, 162717, 578, 1793, 3572, 4632, 5157, 6235, 10141, 10282, 10507, 10576, 10798, 11800, 12852, 12877, 13859, 13963, 14260, 15662, 17683, 17800, 21248, 21571, 21997, 23539, 23684, 23693, 24668, 25135, 25699, 25974, 26275, 26795, 27086, 27700, 27732, 28073, 28436, 28967, 28982, 28993, 28994, 29103, 29113, 29848, 30003, 30068, 30547, 32331, 32514, 32526, 32665, 32764, 33290, 34209, 34879, 35442, 35739, 36812, 37330, 39607, 40811, 41131, 41231, 42488, 44561, 44771, 45041, 48486, 49362, 51223, 51298, 51527, 52081, 53309, 57315, 57350, 57362, 57426, 58352, 59843, 60479, 60811, 61712, 62456, 65267, 66244, 67707, 67757, 67854, 68572, 68629, 69435, 69997, 70515, 70877, 71129, 71404, 72902, 73026, 73949, 76927, 77091, 77660, 77793, 78176, 79865, 80480, 81566, 82087, 82295, 83314, 84139, 85105, 86410, 86435, 87215, 89137, 89392, 89448, 92856, 93911, 94717, 96054, 98362, 98647, 98847, 101688, 102651, 103696, 103742, 104395, 105108, 105227, 105531, 105842, 105868, 106782, 106957, 107979, 112231, 112234, 113498, 113499, 113551, 113877, 115329, 115845, 118471, 118766, 120432, 121168, 121567, 122981, 123337, 123631, 123796, 125770, 126150, 126408, 128307, 129427, 132900, 133998, 135260, 135614, 135616, 136351, 137104, 137387, 137558, 137679, 138616, 139130, 140216, 142000, 143197, 145834, 147972, 150580, 153213, 155052, 157964, 159352, 163174, 163992, 4068, 4881, 6176, 7390, 8115, 8651, 9031, 10548, 11296, 11780, 12063, 12755, 13026, 13429, 14234, 16246, 16377, 16804, 18839, 19987, 21304, 22545, 22980, 23456, 23776, 24337, 24573, 26556, 26656, 27871, 28659, 29521, 29594, 30734, 32287, 33904, 34720, 34760, 35633, 36389, 36770, 37790, 38055, 38202, 41208, 41343, 42879, 44751, 45864, 47951, 49038, 49572, 49930, 53982, 55640, 57496, 57826, 57904, 59419, 59490, 62382, 63879, 63917, 64247, 64635, 64730, 65919, 66038, 66127, 66308, 66380, 67333, 67955, 69735, 71648, 73847, 75357, 75804, 77066, 77073, 77145, 77370, 77575, 77894, 79074, 79134, 79361, 79520, 79581, 79701, 81089, 82815, 83415, 83597, 83805, 84463, 85564, 86074, 86523, 87459, 87460, 87797, 87798, 90552, 91334, 93901, 96248, 97196, 97637, 98496, 98555, 99520, 100650, 100823, 101220, 103353, 104343, 104612, 105567, 106627, 106716, 106734, 106747, 106749, 106750, 107778, 108782, 108924, 111449, 111509, 112350, 112825, 117597, 118075, 118740, 118760, 120440, 121504, 121777, 121856, 124243, 124997, 125181, 125463, 126260, 126473, 126908, 127714, 128045, 128202, 128618, 129607, 131776, 131792, 132774, 132787, 133464, 135213, 136090, 136370, 136388, 137934, 137942, 137980, 139730, 140219, 140236, 140642, 141138, 142119, 142930, 143542, 144470, 145412, 151357, 151424, 151454, 151950, 151953, 152192, 153085, 153207, 153208, 154016, 155545, 156107, 156693, 157252, 157407, 158758, 159040, 159336, 162379, 162642, 163086, 164049, 164080, 47, 256, 447, 1693, 2352, 2428, 3307, 3561, 4384, 4559, 4576, 4691, 5061, 5396, 6760, 8053, 8128, 9011, 9018, 9502, 10402, 11030, 11926, 12155, 12318, 12420, 12587, 13659, 13704, 14097, 14509, 14624, 15408, 15745, 15813, 17026, 17051, 17223, 17346, 17550, 18126, 18195, 19552, 20772, 21867, 22193, 22806, 23095, 23281, 23694, 23771, 23797, 24567, 24724, 25208, 26261, 26307, 26585, 26908, 27459, 27648, 28741, 29029, 29197, 29217, 29574, 29608, 30011, 30024, 30361, 30544, 30596, 30904, 30920, 31111, 31417, 31520, 31701, 31981, 32128, 32136, 32376, 33096, 33307, 33622], '69': [158954, 96305, 112829, 148114, 120003, 137772, 130128, 132175, 42378, 135755, 61480, 155918, 105763, 34710, 112906, 158680, 111692, 149480, 123748, 158649, 135291, 156437, 108309, 60155, 91891, 117982, 149508, 60611, 5021, 81551, 18277, 131263, 148002, 78826, 110050, 31012, 161362, 63467, 89480, 134263, 60410, 37587, 122423, 60630, 241, 137716, 91739, 43223, 45699, 62131, 114879, 145743, 160878, 40247, 125822, 103252, 127466, 134449, 34902, 97012, 97462, 102047, 122270, 90510, 56851, 68103, 161355, 74104, 153653, 65111, 27406, 92406, 33143, 96997, 89261, 80819, 99936, 87310, 149546, 43240, 68186, 146842, 119494, 126426, 131781, 138452, 29510, 2678, 50856, 140261, 36665, 115762, 115816, 14652, 33749, 72675, 92576, 130816, 100105, 115521, 154664, 155325, 18265, 18199, 130107, 86935, 33636, 89786, 117229, 85869, 141328, 163545, 20911, 20972, 40224, 111607, 149038, 155783, 86200, 64805, 153604, 108439, 129815, 140330, 150540, 24919, 28198, 31354, 41672, 42000, 60220, 67125, 67255, 70945, 81812, 98673, 114550, 134921, 142707, 92279, 93111, 101971, 115404, 137510, 92275, 93365, 96477, 130648, 136725, 148565, 155775, 160570, 87311, 92374, 104683, 115541, 29882, 42536, 89363, 111866, 143724, 89545, 90126, 92320, 99089, 100764, 127522, 131372, 137812, 33269, 138679, 121141, 86168, 133497, 70818, 86941, 22041, 80722, 114960, 21838, 84850, 90022, 95334, 97115, 99177, 111983, 132283, 149030, 70592, 88589, 127359, 47646, 92347, 143194, 65651, 90089, 107053, 159574, 29939, 99710, 124090, 133621, 99638, 46260, 59115, 91530, 94866, 104580, 104610, 111031, 111040, 114143, 116108, 134753, 135580, 141184, 156050, 156563, 2679, 2680, 43331, 61511, 91912, 100732, 105217, 114718, 155450, 51091, 30789, 121514, 90499, 11904, 55999, 72169, 85210, 92809, 132455, 139809, 33472, 37608, 65051, 90066, 97356, 104156, 124382, 129522, 136052, 138409, 148986, 151668, 157305, 5573, 66455, 147456, 63536, 77482, 107803, 32341, 96690, 96753, 102865, 152693, 155387, 157557, 159625, 74832, 95054, 162165, 10157, 66584, 160995, 161089, 19886, 49403, 75046, 91907, 92754, 33307, 69637, 111104, 150855, 43932, 86374, 89748, 92353, 96490, 110798, 118140, 119273, 130037, 130937, 132522, 135006, 135047, 135451, 136227, 141203, 141285, 152320, 153447, 76620, 84875, 131392, 4164, 64223, 78359, 92766, 112020, 137869, 138112, 161741, 21359, 116028, 145918, 67207, 80277, 1746, 10643, 29459, 32684, 82866, 95863, 96715, 97969, 113048, 115300, 117101, 118281, 118466, 122264, 123176, 125958, 130079, 130091, 130126, 130164, 130811, 131374, 135132, 135278, 136236, 140266, 141053, 142271, 143080, 147964, 153930, 159501, 11083, 19980, 20289, 29455, 33567, 36694, 39994, 48905, 48997, 50656, 55853, 57939, 65578, 78630, 88152, 94536, 96859, 110067, 113202, 129045, 132610, 150060, 150191, 42954, 54196, 104211, 115405, 121307, 128272, 128311, 128865, 131660, 149305, 4396, 23244, 43077, 69401, 72213, 87360, 105531, 106109, 110360, 115542, 116585, 163502, 15158, 27376, 34581, 91371, 114012, 136996, 144699, 19899, 26488, 40568, 41230, 62682, 78111, 80805, 90897, 116499, 120971, 131052, 132912, 144467, 146684, 90009, 151127, 40285, 43661, 62821, 67682, 120429, 132210, 31802, 47176, 74735, 137882, 151128, 33826, 60248, 99823, 104791, 109475, 109656, 147249, 14675, 19080, 19608, 23846, 44185, 47369, 64626, 83984, 91302, 92280, 92603, 95657, 97076, 97579, 100755, 103482, 105496, 105808, 112311, 120173, 129930, 134276, 141206, 147996, 148961, 150270, 156434, 163783, 9826, 40696, 57575, 60318, 78848, 79842, 86056, 87455, 96807, 108963, 125812, 136878, 137075, 140338, 140538, 140588, 148550, 153921, 159689, 160508, 161912, 7703, 25893, 38054, 113135, 140520, 162784, 30, 1991, 2336, 9332, 23184, 23258, 24718, 24827, 36109, 37197, 40029, 40251, 40436, 44737, 49780, 51554, 58079, 61640, 69497, 76535, 79260, 90914, 94738, 112912, 120282, 124800, 129722, 135316, 136711, 145859, 150816, 151367, 151394, 151401, 154290, 51367, 62899, 75341, 68364, 84026, 107790, 4914, 12877, 45625, 48405, 76641, 96764, 101118, 122912, 138556, 149081, 152750, 41355, 148957, 6764, 6821, 7283, 10394, 14563, 18350, 21804, 29438, 29598, 32120, 32631, 32957, 33986, 37614, 37617, 43200, 45379, 62799, 75862, 79528, 84925, 87975, 89441, 90285, 92478, 97155, 98023, 98050, 102575, 109114, 110244, 112240, 112783, 113136, 114415, 122876, 126760, 126870, 129747, 130772, 131211, 135112, 141211, 141271, 142850, 146885, 154160, 155375, 155602, 156556, 157580, 11033, 16826, 60720, 64503, 78761, 84829, 85613, 93771, 96672, 99807, 111847, 121526, 127198, 149364, 149484, 155662, 157174, 157390, 158561, 161923, 162326, 164461, 41087, 68749, 77309, 79085, 91681, 126576, 126706, 140090, 10086, 11807, 18492, 32982, 48133, 48138, 57391, 82648, 90064, 91676, 107975, 133250, 140521, 9337, 14118, 21030, 23681, 26059, 87048, 104049, 128048, 133375, 140362, 141224, 155550, 155560, 162525, 3290, 9938, 13970, 15865, 21333, 22997, 41790, 56572, 149108, 149530, 2900, 3948, 7775, 9206, 12516, 12849, 13402, 14499, 20349, 20498, 21733, 29414, 30343, 32770, 33546, 41499, 42992, 44062, 45826, 48063, 48385, 54229, 58263, 62908, 63738, 65895, 68331, 80299, 81887, 83084, 85446, 86136, 90103, 91766, 91936, 96462, 96886, 103798, 113685, 114945, 116155, 120072, 121635, 123319, 123455, 123473, 126013, 129121, 130949, 138956, 140000, 140866, 143189, 146646, 148727, 151624, 22001, 37034, 41844, 47854, 51209, 59234, 59402, 60983, 71226, 75643, 79713, 82453, 83346, 90631, 106753, 127129, 153489, 376, 2211, 18376, 19863, 31045, 32679, 38440, 40295, 40329, 42470, 44817, 45411, 64890, 64908, 69855, 73282, 73969, 76751, 79119, 85996, 87278, 87389, 88277, 88374, 89584, 90396, 92019, 92336, 92373, 92551, 95142, 96771, 96931, 96986, 97126, 99214, 100587, 101055, 104375, 104521, 105543, 108302, 113603, 114325, 114876, 114917, 115410, 118070, 121377, 122404, 127740, 129487, 129608, 130776, 131729, 137449, 137497, 137664, 138390, 138764, 140855, 141244, 141257, 146567, 146636, 147186, 150337, 152240, 153926, 157063, 157235, 159070, 159631, 159640, 163090, 163942, 2931, 5518, 6768, 9055, 10726, 11397, 14407, 22243, 22661, 26030, 26901, 27378, 36903, 37222, 39956, 40225, 40541, 40707, 40764, 41727, 42414, 43656, 67494, 69411, 70660, 75497, 75749, 78561, 81216, 81416, 82205, 82369, 84308, 99716, 99722, 99739, 101528, 113238, 115971, 117069, 117080, 117105, 118158, 119080, 119812, 123526, 123552, 123589, 123591, 133599, 136425, 143926, 151627, 153893, 27175, 34498, 37018, 52035, 53156, 54378, 54479, 79613, 80445, 82283, 83806, 87231, 92882, 130170, 152079, 18641, 22044, 22086, 25635, 27206, 29331, 39168, 57619, 69508, 74522, 75768, 84948, 105883, 117175, 120564, 124424, 129323, 133172, 137563, 139146, 145423, 3115, 22101, 25512, 32946, 39876, 40299, 53408, 63688, 65316, 71094, 71295, 76126, 79387, 80700, 85916, 109047, 110306, 115863, 124015, 124273, 124376, 129564, 130531, 131849, 135033, 137439, 154261, 156477, 157614, 159704, 160363, 14113, 15823, 17877, 45574, 66604, 67172, 74325, 80702, 84117, 84547, 88172, 92723, 122789, 131807, 142447, 143467, 156588, 158916, 10026, 38780, 41788, 55673, 64670, 65792, 77301, 86924, 97848, 106281, 136099, 140731, 140732, 146615, 2570, 4623, 25467, 29563, 32614, 33586, 38705, 40871, 41278, 51155, 52374, 52394, 55940, 55992, 56002, 58062, 58420, 59327, 62702, 63425, 66326, 72409, 72454, 74111, 79611, 83495, 84314, 84462, 87314, 89495, 89783, 89949, 90833, 91791, 91799, 91924, 92331], '95': [71742, 62171, 27541, 161929, 103044, 57392, 161930, 127285, 132932, 52041, 27542, 119528, 94600, 24296, 33100, 71729, 119655, 61604, 93463, 76420, 93150, 124814, 87138, 82025, 3060, 152911, 156604, 96688, 119376, 83386, 69975, 75697, 29636, 37122, 17217, 133361, 133534, 5475, 44659, 43220, 157345, 19054, 26302, 75383, 2260, 39750, 41608, 82449, 9461, 58362, 58442, 88682, 152048, 152195, 63704, 122587, 152865, 17004, 100838, 103415, 82164, 134654, 105074, 119576, 13291, 42886, 108156, 135930, 151996, 37486, 72686, 152890, 38577, 152921, 95749, 157792, 10962, 115080, 144215, 19224, 119527, 123459, 151552, 75328, 3041, 9954, 16584, 47292, 52458, 58014, 58021, 75770, 80642, 94226, 107634, 124713, 147885, 155318, 12152, 52350, 139984, 156152, 39613, 58009, 61575, 82954, 94336, 111339, 119730, 83989, 136012, 56428, 130556, 152617, 152906, 23424, 30104, 31740, 88079, 88177, 97439, 98811, 113862, 145139, 164338, 126704, 17253, 38655, 75698, 78706, 163901, 8374, 39617, 66610, 45850, 119526, 3929, 10237, 101440, 6941, 25609, 36130, 43146, 45182, 48402, 51107, 58893, 71757, 76141, 79738, 80891, 114079, 148393, 155284, 2608, 33737, 38681, 106209, 126044, 137556, 152830, 52788, 75364, 826, 26473, 32209, 33445, 58548, 63807, 76695, 77210, 100182, 122151, 135626, 135863, 147901, 148163, 148709, 147666, 161667, 40722, 81183, 94891, 117587, 130655, 51474, 8243, 30480, 44920, 53470, 58181, 59082, 82588, 94127, 100550, 114337, 133522, 159123, 52068, 62566, 151639, 160235, 28547, 34824, 117631, 131128, 147759, 13382, 22113, 59888, 67842, 94668, 119452, 137047, 157469, 26184, 30012, 57475, 3305, 4471, 20207, 38578, 43269, 47121, 48228, 52323, 69519, 102444, 105767, 111140, 111216, 114047, 119514, 138871, 141746, 145240, 152586, 68657, 104841, 127809, 137247, 153768, 3014, 14196, 24632, 41620, 48424, 50291, 55806, 58889, 61316, 80061, 82831, 96566, 97837, 102048, 125707, 126183, 137158, 1884, 9143, 20276, 21935, 23359, 49950, 56230, 57604, 69537, 82224, 88355, 100212, 102477, 104896, 108516, 109679, 114637, 117235, 131208, 139178, 155007, 155965, 157481, 23981, 56522, 59733, 60281, 61371, 65001, 65926, 67920, 70309, 74577, 79437, 83314, 102303, 104829, 108520, 119186, 119455, 136027, 45180, 6958, 12391, 12405, 14888, 17448, 23612, 27543, 33431, 33626, 37613, 49232, 49811, 52397, 56517, 59648, 63999, 69371, 70645, 82695, 83293, 86679, 105239, 106447, 108003, 111162, 114822, 119611, 127251, 127281, 140126, 145236, 146114, 147884, 147902, 32196, 42957, 11771, 11772, 20897, 38431, 40184, 40868, 50760, 72210, 84715, 97165, 119413, 123524, 123887, 143059, 151281, 8368, 11531, 11700, 12037, 12214, 12273, 30869, 32144, 34913, 38197, 41089, 44853, 50053, 56987, 57230, 57330, 57333, 63361, 71070, 73590, 73594, 79625, 84582, 86507, 88219, 88826, 95980, 108018, 109769, 117397, 124752, 126430, 130548, 135048, 135798, 136713, 141196, 141302, 146794, 149416, 155184, 158651, 160290, 1394, 6944, 57496, 64052, 90989, 104834, 110337, 111749, 129307, 3192, 3471, 7394, 10273, 12987, 13395, 19420, 20167, 21955, 24825, 30910, 34093, 42280, 42679, 45502, 52127, 54050, 54245, 58874, 64834, 67059, 74746, 85188, 89082, 89948, 93037, 94518, 97127, 103041, 115920, 117960, 126362, 127837, 140451, 143067, 143229, 147878, 147890, 152883, 154975, 163211, 164575, 2313, 5280, 20089, 27809, 46541, 47619, 62485, 70922, 77120, 81234, 94805, 95697, 103093, 115802, 120677, 121975, 123816, 131894, 21799, 29688, 40705, 61284, 87713, 104753, 104780, 137654, 139859, 32927, 43348, 47887, 53489, 84569, 92627, 93353, 104581, 110246, 127907, 132141, 139735, 145570, 159497, 2500, 2563, 2628, 19206, 20639, 20758, 21629, 24466, 24772, 34531, 36752, 37170, 38427, 38498, 40906, 42386, 45919, 52517, 53185, 57413, 60380, 65088, 67290, 81542, 95794, 102407, 119772, 121774, 124922, 133200, 139129, 142769, 154209, 158079, 162734, 8283, 8817, 12869, 22226, 39648, 49270, 53049, 84114, 114043, 129951, 5467, 80085, 83610, 85234, 86155, 89003, 89106, 92930, 94080, 95804, 113165, 115838, 117404, 128896, 136826, 141575, 147819, 149849, 154185, 157317, 157329, 55, 6074, 6182, 6322, 8814, 10235, 13016, 15362, 18362, 19712, 20520, 22232, 24142, 25242, 26472, 32454, 34345, 38579, 45388, 51460, 51771, 53708, 61293, 64266, 67089, 68344, 72683, 72855, 73275, 78151, 87202, 87564, 94063, 100828, 102092, 102830, 103982, 105727, 115335, 115590, 118935, 121772, 133034, 137675, 138408, 140750, 145238, 147886, 147891, 151963, 155297, 158898, 160604, 162015, 5279, 30025, 34670, 44122, 47285, 48865, 65627, 75920, 76432, 79755, 80342, 83651, 93092, 95930, 95937, 108168, 113248, 113786, 115126, 121255, 131932, 132330, 133923, 134929, 149108, 157067, 1883, 18823, 19166, 20658, 22257, 22902, 23585, 26526, 32407, 35852, 36159, 40552, 40576, 42589, 44309, 46037, 48128, 59911, 70006, 71078, 73007, 79361, 79645, 79819, 80454, 81021, 81508, 85874, 88854, 89209, 91327, 92237, 92569, 95822, 96909, 102331, 105652, 105765, 106039, 111893, 112408, 115256, 119281, 122686, 123646, 124753, 134235, 134552, 137132, 141620, 143580, 147696, 147697, 154300, 155721, 162774, 163068, 512, 4023, 5521, 6373, 6717, 6950, 7692, 8021, 9431, 10681, 13631, 14425, 14502, 16025, 17441, 18615, 19103, 19273, 22640, 24587, 25857, 27284, 31961, 32159, 32210, 33935, 34055, 36080, 39462, 40106, 42602, 46119, 50073, 50873, 57835, 60999, 64033, 64575, 64615, 64618, 67050, 69294, 70237, 70640, 70720, 70836, 76965, 79831, 80301, 82420, 82450, 85120, 88973, 91084, 93645, 94348, 94957, 99594, 102364, 103729, 106564, 116216, 117519, 117630, 118987, 119248, 119615, 119654, 119845, 124516, 124855, 125740, 126336, 126927, 128074, 141516, 143032, 147647, 147880, 150196, 150461, 158711, 159530, 3957, 18605, 18946, 19747, 29760, 45184, 46937, 51827, 58635, 59215, 103068, 109384, 123671, 128407, 131806, 133878, 145449, 164049, 23070, 28877, 86181, 91403, 103216, 114338, 123370, 126258, 126393, 1194, 1211, 2301, 3023, 3631, 3922, 4250, 4693, 5496, 7991, 8308, 10940, 10964, 11540, 12668, 12703, 15150, 15874, 16229, 17495, 18068, 18080, 18962, 20616, 21901, 24111, 27309, 28406, 29088, 32573, 32831, 33163, 33551, 34557, 34848, 35294, 35372, 35411, 36381, 37531, 38993, 39180, 40159, 40804, 42219, 44211, 46791, 46848, 49518, 50697, 52651, 54021, 55278, 56179, 57143, 57634, 58225, 58857, 59310, 59415, 59798, 60079, 61369, 62350, 64306, 65330, 65496, 65779, 70522, 75113, 77988, 78397, 79211, 80008, 82238, 82467, 82712, 82926, 83644, 84455, 85549, 89296, 90185, 92928, 93687, 95248, 95965, 96341, 97507, 98755, 98759, 100911, 102722, 103330, 103972, 105619, 109316, 110371, 110474, 114420, 114823, 114938, 115846, 118223, 119522, 122827, 124358, 125716, 126641, 129536, 130531, 130594, 131467, 131738, 134860, 135656, 138240, 139236, 141012, 145216, 148333, 149126, 149592, 152012, 152510, 154734, 155975, 160928, 161545, 163539, 163594, 163609, 164274, 436, 2499, 3136, 6817, 11641, 11782, 12041, 13046, 13866, 17221, 17293, 18527, 18559, 18728, 18785, 19508, 20681, 20747, 22913, 23436, 25285, 26483, 26489, 34987, 36192, 37790, 38228, 38331, 40010, 40340, 40665, 41338, 42497, 43413, 44140, 44946, 45053, 45887, 45889, 45902, 47312, 47327, 49199, 52878, 53768, 56501, 57083, 57696, 58576, 58779, 58790, 59099, 61485, 62192, 62457, 63857, 64279, 64945, 65567, 67556, 67850, 68128, 70005, 70012, 71455, 71967, 73211], '155': [24612, 7052, 28825, 136015, 28761, 38240, 2228, 28762, 147804, 21101, 28763, 41778, 56989, 74808, 104297, 7632, 48374, 51974, 52584, 29461, 49085, 49216, 93045, 33581, 22627, 131566, 4675, 131622, 110316, 65415, 65821, 81421, 19471, 125620, 65797, 76591, 2614, 44597, 9489, 40279, 33681, 69135, 56249, 96156, 82784, 11270, 40149, 42771, 28594, 119124, 4609, 61174, 125973, 45302, 12903, 39036, 29247, 64412, 159377, 37820, 10322, 67369, 74814, 95605, 118246, 127894, 161475, 40172, 18270, 6888, 158440, 36238, 50977, 83051, 13491, 56483, 55801, 102420, 718, 22706, 36243, 126032, 31474, 37513, 131545, 42501, 25496, 38149, 153700, 5409, 22589, 29178, 64506, 71323, 84393, 162728, 69486, 22424, 23512, 35613, 42690, 138280, 43580, 141020, 720, 3092, 8571, 37624, 148540, 30869, 123168, 31939, 8732, 14703, 33621, 61101, 105698, 161917, 131496, 131499, 154972, 11603, 13492, 56576, 48896, 140292, 161103, 161736, 63431, 69088, 51997, 1278, 8547, 12026, 74028, 123660, 164438, 30351, 82198, 66392, 15955, 99393, 101119, 24241, 71489, 74803, 82782, 125098, 142498, 16525, 20858, 25548, 14814, 16109, 28042, 42754, 47179, 52382, 66156, 91131, 103267, 20857, 3862, 137320, 105581, 72738, 82801, 38194, 153630, 70851, 56521, 5356, 53989, 76434, 29082, 34906, 69923, 134751, 47764, 63414, 7269, 23730, 26183, 29206, 49386, 101430, 104638, 140976, 147536, 115289, 131263, 55780, 115954, 116100, 116134, 103212, 57659, 54484, 43383, 36566, 154900, 21489, 25385, 132407, 25776, 242, 40096, 14869, 63688, 137256, 90230, 130096, 47687, 119560, 151859, 141360, 35783, 2921, 8076, 16096, 49802, 55927, 73000, 73034, 84764, 101399, 111890, 120311, 125485, 128314, 147231, 151724, 48892, 62827, 11236, 34970, 131920, 135567, 146014, 137868, 147459, 8879, 148463, 150735, 52717, 66661, 30064, 30169, 36482, 39996, 75958, 80958, 108125, 121393, 143648, 16369, 35985, 71577, 159110, 40691, 55230, 63750, 86854, 101214, 107538, 110311, 125510, 132898, 135788, 152690, 12208, 63934, 60620, 24087, 81056, 23058, 62163, 62272, 85993, 8249, 7615, 99881, 40347, 112634, 103283, 103468, 6175, 10506, 21868, 130663, 20916, 23809, 42022, 49568, 54874, 109365, 115709, 131272, 151154, 148713, 153365, 45559, 119601, 21704, 28484, 60931, 145101, 102626, 101817, 65877, 74394, 42772, 80828, 114635, 73394, 85455, 86453, 123327, 126538, 139919, 163040, 128999, 90312, 1266, 1384, 52981, 8884, 10219, 12356, 13689, 98319, 29932, 72356, 84646, 109160, 152719, 106832, 130100, 2374, 8271, 18122, 44429, 111208, 68555, 85870, 105109, 136228, 41057, 47052, 54298, 11560, 112733, 113414, 113946, 140244, 155784, 155900, 9628, 12050, 22900, 26884, 57823, 69475, 76287, 80968, 93399, 1279, 42155, 80464, 100696, 5303, 35050, 53636, 61622, 74821, 74895, 83302, 113140, 67680, 38686, 47013, 124324, 27695, 39220, 155933, 44826, 59830, 14585, 14623, 47916, 55320, 61820, 64807, 79439, 84206, 87005, 102907, 111327, 116245, 121063, 122245, 127006, 139730, 152657, 25795, 32110, 38354, 39870, 46506, 73810, 74420, 83128, 89694, 96457, 113653, 131234, 135519, 143098, 157021, 159051, 161088, 163336, 142000, 91966, 11081, 25746, 44137, 51999, 60859, 62825, 63192, 994, 1821, 69034, 72172, 16035, 47676, 86377, 7644, 6330, 22684, 40313, 43965, 42312, 130769, 163376, 99166, 22364, 42421, 64149, 82783, 92236, 131945, 17295, 39330, 24645, 58423, 70700, 74632, 47396, 90989, 125944, 148694, 13974, 16248, 35181, 35608, 41788, 56406, 69617, 69822, 74838, 80999, 48241, 6918, 8056, 15754, 22651, 35260, 37342, 38744, 39311, 49422, 54716, 54739, 57373, 72043, 76191, 77648, 77758, 91225, 101390, 104583, 116000, 116817, 119541, 125582, 126157, 128152, 130058, 135547, 142190, 143742, 143877, 148277, 149235, 152070, 153663, 154344, 154368, 160728, 161858, 162379, 162494, 162941, 163571, 21876, 52814, 71433, 98477, 115380, 123662, 150957, 73314, 40309, 45172, 17332, 50150, 118055, 52013, 21660, 34448, 62126, 89466, 136196, 140913, 48502, 68326, 78956, 118856, 153897, 80859, 16989, 39113, 152863, 693, 2821, 14073, 16177, 16712, 20325, 20421, 28404, 30414, 39374, 54107, 57877, 59028, 63452, 68997, 69928, 83895, 98105, 121994, 55479, 92459, 146840, 46853, 87275, 107839, 36802, 118569, 20402, 29313, 79551, 132634, 86127, 43531, 63685, 68654, 86853, 108435, 121101, 121176, 122657, 163288, 113862, 131028, 131092, 34581, 88894, 2229, 58356, 7460, 50927, 107945, 72036, 123105, 127131, 151463, 151529, 33307, 41291, 47369, 163345, 22039, 119787, 119898, 141359, 2383, 19619, 27219, 31143, 33700, 46206, 54204, 55086, 58362, 83590, 134142, 144556, 627, 2980, 76004, 101787, 108626, 117673, 145113, 156166, 25037, 62200, 68156, 74716, 109151, 44327, 51519, 97808, 118426, 137035, 148603, 6592, 6844, 10818, 14431, 16688, 16959, 18411, 21494, 34533, 47695, 52617, 55203, 66113, 67271, 68177, 68636, 69161, 71055, 78225, 78394, 78481, 79385, 79406, 80466, 80963, 82893, 64531, 157100, 40177, 45229, 113250, 123929, 4867, 20949, 42674, 54531, 125255, 158293, 15444, 39379, 66211, 76431, 88898, 97933, 109590, 123449, 125392, 64468, 955, 11664, 14691, 16207, 24514, 28779, 29758, 31715, 37384, 38492, 61796, 67719, 69471, 72704, 76359, 82553, 85393, 85501, 110654, 115968, 124942, 131959, 132017, 136257, 138167, 141158, 145709, 146855, 150548, 153370, 51933, 77049, 10595, 23577, 28192, 42734, 44891, 49314, 56663, 60945, 61513, 78262, 101785, 104439, 106120, 108225, 110150, 110503, 119313, 125963, 133096, 135520, 141926, 143306, 105382, 5857, 11431, 32018, 70505, 142578, 144557, 162955, 11082, 14461, 65549, 93460, 105595, 107158, 122922, 124956, 142977, 143463, 154259, 164167, 21035, 52973, 54133, 63955, 149358, 18363, 73363, 145721, 158018, 36405, 99835, 107046, 80, 5732, 9650, 18507, 18874, 19290, 22838, 33038, 37769, 40271, 41014, 43770, 43992, 44450, 44785, 45965, 46459, 50052, 65994, 66757, 68459, 71380, 73273, 78321, 78567, 81398, 103720, 32399, 46745, 77638, 47564, 56480, 19029, 26907, 65979, 46069, 42745, 10973, 11167, 88260, 28738, 132983, 153860, 153920, 86915, 1943, 34031, 36280, 72137, 163034, 17809, 3528, 43167, 66090, 108473, 40186, 116, 7361, 50271, 50663, 57058, 60629, 65398, 65842, 81277, 3552, 9028, 10180, 20472, 21040, 31332, 35633, 43097, 53433, 55176, 60878, 71941, 73830, 78576, 91843, 92341, 98246, 116644, 120569, 130138, 39953, 104797, 100362, 99768, 71601, 30812, 68206, 80917, 87278, 116861, 119219, 127871, 1583, 2414, 6919, 9122, 10697, 19848, 22347, 26787, 31235, 31486, 31949, 33662, 38186, 39028, 41008, 47144, 53002, 58714, 60653, 70535, 71099, 71407, 73022, 74382, 75599, 80980, 86808, 90855, 93540, 96186, 99708, 101498, 102961, 103176, 105779, 106978, 107097, 109770, 110775, 117497, 120572, 129016, 131021, 133031, 138428, 143686, 148225, 151527, 151554, 152660, 154174, 154273, 154290, 158145, 3235, 4065, 5333, 5929, 5992, 10555, 11762, 12321, 14639, 20337, 21530, 22114, 22921, 23074, 24870, 26813, 26947, 29828, 32907, 33499, 34598, 35683, 35784, 39293, 41211, 41255, 41861, 43271, 43737, 45019, 46522, 47069, 48027, 48254, 48770, 48988, 49464, 50714, 50962, 52169, 54194, 55740, 59227, 60024, 68569, 73892, 79254, 79312, 80750, 81047, 82096, 82943, 92770, 99502, 150450, 151413, 47833, 49265, 56276, 64140, 70017, 82666, 91592, 121389, 131659, 141867, 141914, 45336, 88280, 112787, 142981, 156324, 42803, 80976, 11043], '94': [71742, 27541, 103044, 57392, 127285, 132932, 52041, 27542, 94600, 24296, 33100, 61604, 93463, 93150, 82025, 3060, 156604, 83386, 29636, 37122, 17217, 133361, 133534, 157345, 19054, 26302, 75383, 2260, 39750, 41608, 82449, 63704, 122587, 152865, 103415, 82164, 134654, 105074, 119576, 13291, 42886, 108156, 135930, 151996, 37486, 72686, 152890, 38577, 152921, 95749, 157792, 19224, 119527, 123459, 151552, 75328, 3041, 9954, 16584, 47292, 52458, 58014, 58021, 75770, 80642, 94226, 107634, 124713, 147885, 155318, 12152, 52350, 139984, 156152, 58009, 61575, 82954, 94336, 111339, 119730, 83989, 136012, 56428, 130556, 152617, 152906, 126704, 17253, 8374, 39617, 66610, 45850, 119526, 6941, 25609, 36130, 43146, 45182, 48402, 51107, 58893, 71757, 76141, 79738, 80891, 114079, 148393, 155284, 2608, 33737, 38681, 106209, 119528, 126044, 137556, 152830, 52788, 75364, 826, 26473, 32209, 33445, 58548, 63807, 71729, 76695, 77210, 100182, 119655, 122151, 135626, 135863, 147901, 148163, 148709, 147666, 161667, 51474, 8243, 30480, 44920, 53470, 58181, 59082, 82588, 94127, 100550, 114337, 124814, 133522, 159123, 52068, 62566, 151639, 160235, 28547, 34824, 87138, 117631, 131128, 147759, 13382, 22113, 59888, 67842, 94668, 119452, 137047, 157469, 3305, 4471, 20207, 38578, 43269, 47121, 48228, 52323, 69519, 102444, 105767, 111140, 111216, 114047, 119514, 138871, 141746, 145240, 152586, 68657, 104841, 127809, 137247, 153768, 3014, 14196, 24632, 41620, 48424, 50291, 55806, 58889, 61316, 80061, 82831, 96566, 97837, 102048, 125707, 126183, 137158, 1884, 9143, 20276, 21935, 23359, 49950, 56230, 57604, 69537, 82224, 88355, 100212, 102477, 104896, 108516, 109679, 114637, 117235, 131208, 139178, 152911, 155007, 155965, 157481, 23981, 56522, 59733, 60281, 61371, 65001, 65926, 67920, 70309, 74577, 79437, 83314, 102303, 104829, 108520, 119186, 119455, 136027, 45180, 6958, 12391, 12405, 14888, 17448, 23612, 27543, 33431, 33626, 37613, 49232, 49811, 52397, 56517, 59648, 63999, 69371, 70645, 82695, 83293, 86679, 96688, 105239, 106447, 108003, 111162, 114822, 119611, 127251, 127281, 140126, 145236, 146114, 147884, 147902, 32196, 42957, 11771, 11772, 20897, 38431, 40184, 40868, 50760, 72210, 84715, 97165, 119413, 123524, 123887, 143059, 151281, 1394, 6944, 57496, 64052, 90989, 104834, 110337, 111749, 129307, 3192, 3471, 7394, 10273, 12987, 13395, 19420, 20167, 21955, 24825, 30910, 34093, 42280, 42679, 45502, 52127, 54050, 54245, 58874, 64834, 67059, 69975, 74746, 85188, 89082, 89948, 93037, 94518, 97127, 103041, 115920, 117960, 126362, 127837, 140451, 143067, 143229, 147878, 147890, 152883, 154975, 163211, 164575, 21799, 29688, 40705, 61284, 87713, 104753, 104780, 137654, 139859, 32927, 43348, 47887, 53489, 84569, 92627, 93353, 104581, 110246, 127907, 132141, 139735, 145570, 159497, 2500, 2563, 2628, 19206, 20639, 20758, 21629, 24466, 24772, 34531, 36752, 37170, 38427, 38498, 40906, 42386, 45919, 52517, 53185, 57413, 60380, 65088, 67290, 81542, 95794, 102407, 119772, 121774, 124922, 133200, 139129, 142769, 154209, 158079, 162734, 5467, 80085, 83610, 85234, 86155, 89003, 89106, 92930, 94080, 95804, 113165, 115838, 117404, 128896, 136826, 141575, 147819, 149849, 154185, 157317, 157329, 55, 6074, 6182, 6322, 8814, 10235, 13016, 15362, 18362, 19712, 20520, 22232, 24142, 25242, 26472, 32454, 34345, 38579, 45388, 51460, 51771, 53708, 61293, 64266, 67089, 68344, 72683, 72855, 73275, 78151, 87202, 87564, 94063, 100828, 102092, 102830, 103982, 105727, 115335, 115590, 118935, 121772, 133034, 137675, 138408, 140750, 145238, 147886, 147891, 151963, 155297, 158898, 160604, 162015, 5279, 30025, 34670, 44122, 47285, 48865, 65627, 75920, 76432, 79755, 80342, 83651, 93092, 95930, 95937, 108168, 113248, 113786, 115126, 121255, 131932, 132330, 133923, 134929, 149108, 157067, 1883, 5475, 18823, 19166, 20658, 22257, 22902, 23585, 26526, 32407, 35852, 36159, 40552, 40576, 42589, 44309, 46037, 48128, 59911, 70006, 71078, 73007, 79361, 79645, 79819, 80454, 81021, 81508, 85874, 88854, 89209, 91327, 92237, 92569, 95822, 96909, 102331, 105652, 105765, 106039, 111893, 112408, 115256, 119281, 122686, 123646, 124753, 134235, 134552, 137132, 141620, 143580, 147696, 147697, 154300, 155721, 162774, 163068, 512, 4023, 5521, 6373, 6717, 6950, 7692, 8021, 9431, 10681, 13631, 14425, 14502, 16025, 17441, 18615, 19103, 19273, 22640, 24587, 25857, 27284, 31961, 32159, 32210, 33935, 34055, 36080, 39462, 40106, 42602, 44659, 46119, 50073, 50873, 57835, 60999, 64033, 64575, 64615, 64618, 67050, 69294, 70237, 70640, 70720, 70836, 76965, 79831, 80301, 82420, 82450, 85120, 88973, 91084, 93645, 94348, 94957, 99594, 102364, 103729, 106564, 116216, 117519, 117630, 118987, 119248, 119615, 119654, 119845, 124516, 124855, 125740, 126336, 126927, 128074, 141516, 143032, 147647, 147880, 150196, 150461, 158711, 159530, 3957, 18605, 18946, 19747, 29760, 45184, 46937, 51827, 58635, 59215, 103068, 109384, 123671, 128407, 131806, 133878, 145449, 164049, 23070, 28877, 86181, 91403, 103216, 114338, 123370, 126258, 126393, 1194, 1211, 2301, 3023, 3631, 3922, 4250, 4693, 5496, 7991, 8308, 10940, 10964, 11540, 12668, 12703, 15150, 15874, 16229, 17004, 17495, 18068, 18080, 18962, 20616, 21901, 24111, 27309, 28406, 29088, 32573, 32831, 33163, 33551, 34557, 34848, 35294, 35372, 35411, 36381, 37531, 38993, 39180, 40159, 40804, 42219, 44211, 46791, 46848, 49518, 50697, 52651, 54021, 55278, 56179, 57143, 57634, 58225, 58857, 59310, 59415, 59798, 60079, 61369, 62350, 64306, 65330, 65496, 65779, 70522, 75113, 76420, 77988, 78397, 79211, 80008, 82238, 82467, 82712, 82926, 83644, 84455, 85549, 89296, 90185, 92928, 93687, 95248, 95965, 96341, 97507, 98755, 98759, 100838, 100911, 102722, 103330, 103972, 105619, 109316, 110371, 110474, 114420, 114823, 114938, 115846, 118223, 119522, 122827, 124358, 125716, 126641, 129536, 130531, 130594, 131467, 131738, 134860, 135656, 138240, 139236, 141012, 145216, 148333, 149126, 149592, 152012, 152510, 154734, 155975, 160928, 161545, 163539, 163594, 163609, 164274, 436, 2499, 3136, 6817, 11641, 11782, 12041, 13046, 13866, 17221, 17293, 18527, 18559, 18728, 18785, 19508, 20681, 20747, 22913, 23436, 25285, 26483, 26489, 34987, 36192, 37790, 38228, 38331, 40010, 40340, 40665, 41338, 42497, 43413, 44140, 44946, 45053, 45887, 45889, 45902, 47312, 47327, 49199, 52878, 53768, 56501, 57083, 57696, 58576, 58779, 58790, 59099, 61485, 62192, 62457, 63857, 64279, 64945, 65567, 67556, 67850, 68128, 70005, 70012, 71455, 71967, 73211, 75098, 77669, 79389, 80997, 81294, 83519, 86374, 86479, 89118, 89411, 89536, 91235, 91650, 92114, 94131, 95100, 95160, 97732, 99839, 100199, 100350, 100379, 103565, 103874, 105574, 106230, 106616, 107250, 107821, 109380, 109915, 111340, 111512, 114390, 115674, 117465, 118638, 119121, 119228, 119411, 119581, 120433, 123003, 123144, 123823, 125221, 127986, 131731, 132509, 135106, 135949, 136022, 137489, 137727, 138282, 138824, 139367, 140692, 141776, 143795, 145532, 153000, 153585, 155342, 155345, 155441, 156406, 157979, 157982, 159257, 161102, 162195, 3485, 3988, 4806, 6943, 8489, 9833, 9977, 10245, 10535, 11837, 12025, 12374, 14301, 15607, 16087, 16350, 16723, 16891, 17437, 19795, 19945, 22817, 23358, 23450, 23871, 24046, 24663, 27259, 27305, 28487, 29657, 30148, 32066, 32203, 35814, 35831, 35838, 37199, 37411, 37507], '165': [23232, 43125, 134326, 19748, 82496, 128504, 121584, 124380, 41059, 19569, 105237, 99362, 121583, 38309, 39724, 5687, 99361, 126085, 137056, 38265, 5255, 12887, 12372, 157957, 52872, 138422, 107325, 14440, 157193, 149779, 145552, 148370, 134455, 24877, 49867, 74156, 155832, 111459, 6297, 151954, 72582, 52072, 47829, 141428, 150398, 114335, 77265, 161410, 90227, 105444, 160874, 100832, 100783, 7246, 52682, 82544, 108135, 36098, 144533, 114959, 103344, 124977, 111462, 67706, 28179, 83287, 164594, 134389, 144534, 90508, 2263, 158097, 5224, 149736, 95640, 139013, 31772, 64284, 157810, 102456, 105486, 132030, 124694, 133065, 100525, 43115, 125917, 154580, 134390, 115874, 25599, 139550, 45186, 72555, 7306, 28655, 74450, 98228, 97124, 105498, 112406, 5312, 13006, 136150, 3910, 79789, 3467, 98796, 134406, 126607, 84560, 64002, 90407, 155583, 131504, 56978, 134848, 37855, 116548, 89873, 83062, 143946, 38310, 77426, 86643, 128047, 79996, 148230, 160513, 49525, 106355, 113750, 138188, 143672, 153064, 8856, 32804, 85564, 146968, 137298, 6108, 88021, 43872, 110575, 8368, 109787, 110035, 144532, 43660, 89268, 85435, 7464, 113539, 76008, 80807, 154899, 69282, 71005, 67113, 30318, 70255, 130259, 42552, 102386, 32655, 43873, 151194, 75529, 55837, 9392, 139872, 140115, 97231, 53908, 75712, 100500, 117796, 160712, 7334, 33385, 30206, 29628, 76483, 84247, 113406, 130308, 31245, 72416, 93243, 140941, 580, 92696, 96190, 146701, 34795, 39155, 18984, 38036, 80623, 52433, 60637, 13854, 89141, 98232, 152291, 88949, 89867, 38183, 54163, 59780, 10648, 39515, 46116, 112168, 52357, 12842, 38557, 113611, 27729, 42246, 29868, 45941, 64006, 76948, 33850, 91326, 103076, 136975, 147190, 78115, 38616, 100324, 54266, 74494, 135423, 143811, 109683, 57988, 115412, 102753, 62613, 38172, 79205, 95915, 150241, 146849, 34742, 59997, 136455, 31199, 47227, 63663, 26625, 15007, 7643, 39204, 55406, 138530, 6396, 21933, 53899, 76370, 141364, 30396, 71750, 30233, 9727, 127314, 35534, 65244, 72561, 106526, 127730, 143798, 27190, 85209, 104474, 133263, 105308, 53324, 5813, 28197, 29362, 38930, 69518, 129692, 130490, 60935, 61004, 158070, 11966, 18970, 79213, 128791, 12367, 15878, 22898, 70604, 101621, 24136, 120871, 116196, 70647, 71956, 136917, 18160, 35813, 55135, 72014, 72220, 75990, 153122, 68854, 124661, 60611, 86116, 148808, 1188, 8620, 19980, 32854, 58924, 83608, 112993, 147632, 8357, 21474, 49224, 58643, 63313, 68537, 76028, 90900, 95339, 115909, 126473, 95889, 76088, 113009, 5153, 9376, 38419, 49206, 78683, 156600, 150559, 90169, 23423, 133312, 99582, 105271, 131537, 40285, 95249, 14175, 9057, 28173, 46836, 57987, 298, 4441, 41400, 112065, 123692, 136954, 14195, 80894, 110400, 111458, 146122, 72284, 87823, 100459, 35178, 32218, 9952, 19658, 25267, 25835, 119958, 127841, 139861, 146685, 154119, 67388, 78714, 100524, 67383, 18756, 63453, 135669, 2131, 20552, 33917, 126985, 136956, 29098, 1159, 1788, 9279, 14417, 24432, 29931, 32275, 33840, 58819, 71669, 73200, 88297, 117510, 133868, 145313, 2845, 21398, 30551, 139718, 151759, 83514, 112386, 163193, 3297, 36641, 45331, 61921, 74162, 147937, 151227, 6634, 19012, 78663, 143027, 157349, 34375, 37853, 44021, 49499, 3924, 24159, 32182, 53756, 57642, 60772, 82952, 90161, 106912, 125934, 128862, 138507, 140194, 141376, 155558, 161117, 63182, 37058, 42608, 72338, 138082, 97507, 49938, 52297, 153338, 34113, 34914, 69432, 81695, 128755, 154725, 22224, 74167, 34343, 35510, 37930, 38820, 53761, 80287, 14913, 71515, 1508, 52591, 91904, 141013, 54342, 87765, 89606, 95869, 128466, 143550, 22203, 39510, 48677, 146395, 151646, 161404, 17769, 67837, 13317, 18715, 21145, 23188, 40043, 57764, 81353, 84728, 93181, 119581, 120386, 150750, 154390, 162545, 4164, 13970, 29663, 30253, 43412, 43917, 49939, 51770, 64789, 69540, 93654, 93980, 97026, 98194, 129963, 138900, 153789, 1768, 5847, 7173, 17718, 28488, 65157, 78127, 97819, 104785, 115125, 118170, 157190, 160919, 164556, 139858, 100243, 6949, 17440, 148407, 81926, 43868, 6140, 21114, 39710, 43816, 68687, 69059, 75369, 77825, 81923, 155048, 156718, 156719, 69232, 99888, 146986, 38791, 40426, 107884, 5203, 9473, 35296, 46410, 51137, 79345, 82209, 92101, 98805, 98923, 119657, 125828, 132152, 132665, 135196, 144576, 148412, 152206, 160788, 137641, 53717, 64567, 158771, 15259, 53996, 85571, 97223, 124968, 134713, 1252, 2176, 4701, 8273, 27450, 30015, 32408, 34245, 38239, 41606, 46079, 54323, 59670, 64175, 65133, 66599, 74560, 75946, 76744, 77741, 110097, 120362, 121054, 122702, 136333, 143601, 148191, 152178, 160753, 3314, 53361, 131668, 142639, 43123, 40614, 7480, 13523, 26412, 32798, 39025, 42877, 77600, 78708, 80242, 82875, 84643, 105356, 144824, 145635, 154235, 891, 10414, 18730, 22240, 23622, 25587, 31959, 45699, 46069, 52431, 57985, 81100, 84533, 100152, 118223, 121861, 125759, 130628, 154515, 68613, 13935, 61792, 33807, 17471, 56166, 109681, 13509, 29387, 42225, 67365, 83625, 138197, 142985, 151507, 156865, 159159, 160049, 27864, 55017, 39116, 41672, 83195, 120182, 5040, 129951, 158067, 162261, 50295, 66031, 92994, 109682, 119044, 16403, 16432, 7727, 24980, 115113, 82760, 1926, 21086, 30262, 33787, 42205, 60092, 74175, 77501, 91080, 108159, 111468, 113822, 119981, 122955, 140380, 162090, 71126, 8717, 9069, 27269, 40071, 44905, 56094, 80001, 100814, 148123, 151173, 156588, 7409, 7426, 8803, 11493, 11890, 16328, 18022, 25022, 27303, 33204, 39818, 44810, 46941, 49351, 53139, 61566, 64221, 65160, 74740, 78394, 97097, 99243, 100236, 100279, 105875, 108520, 113028, 113155, 115333, 121774, 121859, 124344, 126101, 127612, 129999, 132993, 134071, 146407, 150214, 153156, 154387, 2459, 3277, 7389, 9294, 14954, 22475, 23365, 26409, 27387, 29632, 30278, 31074, 38269, 43444, 45820, 45826, 45852, 51452, 52654, 54564, 55840, 56975, 76393, 78923, 80069, 81981, 83709, 84896, 92640, 95284, 98361, 114603, 130261, 139476, 139557, 143897, 148782, 161113, 162983, 5487, 6088, 14536, 18024, 18611, 27616, 57296, 58008, 66443, 79245, 93620, 109029, 143801, 151437, 164038, 92429, 136813, 158230, 73960, 87467, 90148, 94937, 97492, 98700, 100816, 118199, 138852, 140099, 151462, 155075, 6405, 78919, 9966, 74781, 75081, 119799, 7432, 16571, 49231, 62318, 72537, 80892, 81616, 120035, 123011, 128814, 161135, 163504, 17124, 58176, 80290, 11672, 18366, 18627, 46518, 47244, 56336, 60979, 75675, 88005, 91464, 92734, 98707, 104418, 107460, 108708, 109349, 114446, 116948, 140435, 141402, 147874, 10647, 10928, 12194, 25397, 27232, 29677, 29761, 58907, 65130, 71505, 75151, 79408, 95891, 97243, 109440, 110406, 112707, 152622, 54623, 64810, 72298, 100046, 114758, 164264, 108745, 144562, 1391, 2077, 2495, 5144, 6437, 8202, 17823, 18905, 22755, 22936, 28438, 38250, 38338, 47277, 58399, 59214, 59614, 64696, 65088, 77311, 80860, 81460, 95824, 96118, 98583, 101876, 103496, 106202, 112337, 112343, 112991, 114166, 115911, 122914, 129086, 133336, 134462, 139146, 139660, 140884, 149878, 151329, 157828, 157922, 158051, 111456, 147847, 18025, 101629, 77320, 125694, 9041, 16172, 31049, 31278, 31334, 51775, 59769, 100078, 103006, 143225, 152988, 154318, 155280, 35498, 91068, 16792, 17712, 22909, 23149, 26203, 43472, 52378, 56081, 60518, 61020, 72300, 72443, 82878, 93725, 111747, 139716, 156153, 164258, 39699, 41759, 65038, 71460, 141815, 154409, 4135, 18996], '78': [19788, 19865, 9271, 33319, 63314, 42533, 46318, 28591, 28713, 38227, 77630, 9186, 42956, 68554, 74552, 77991, 52793, 64050, 68637, 81843, 87037, 23699, 61168, 63339, 66590, 78299, 150146, 10556, 10846, 14995, 21784, 22690, 49604, 56891, 68031, 70329, 79601, 87164, 136657, 149948, 10508, 16253, 19890, 29839, 34183, 49554, 52986, 60291, 68314, 70122, 73772, 75605, 77877, 99374, 108506, 110559, 120037, 142776, 148068, 154657, 3958, 8729, 10475, 14849, 34218, 39532, 39598, 52313, 54109, 66777, 68568, 68571, 72772, 73398, 93929, 108379, 109485, 110506, 110658, 113574, 123952, 132579, 142941, 145641, 146234, 146599, 153029, 1716, 4610, 5321, 7821, 9046, 9791, 12826, 14003, 14098, 18376, 23709, 28724, 28799, 33101, 34586, 36723, 37761, 39423, 40075, 44185, 48557, 51020, 54353, 54607, 55732, 58854, 60209, 60712, 64335, 68647, 82107, 84470, 85089, 87129, 102027, 108590, 110889, 122188, 122937, 124934, 145383, 146207, 146339, 146348, 151123, 154567, 159784, 159841, 449, 477, 2014, 2675, 4396, 5440, 10473, 10581, 13485, 14810, 16174, 19239, 20352, 20441, 21286, 21853, 22011, 26656, 27841, 32155, 32433, 35959, 36339, 39136, 40295, 41412, 42518, 44584, 45977, 47392, 47630, 47876, 48274, 48821, 51661, 52186, 52510, 54515, 56897, 57144, 57197, 57266, 57491, 58613, 59334, 59419, 59490, 63266, 63494, 65065, 66254, 66317, 67752, 67868, 68321, 68393, 68543, 69706, 69745, 72314, 72693, 72784, 73822, 74095, 76823, 79409, 81228, 85968, 86243, 87210, 88007, 88325, 91328, 97194, 100378, 100684, 103190, 103215, 106519, 107829, 110224, 110451, 110655, 112261, 113930, 115951, 116662, 119372, 120650, 122254, 122287, 122310, 124938, 125598, 126445, 128299, 131267, 131391, 135051, 135578, 140168, 144140, 144287, 145398, 145423, 145665, 146328, 146370, 146765, 146879, 154224, 155785, 155894, 156418, 157699, 159375, 161595, 162132, 1, 2, 3, 4, 5, 6, 7, 8, 9, 10, 11, 12, 13, 14, 15, 16, 17, 18, 19, 20, 21, 22, 23, 24, 25, 26, 27, 28, 29, 30, 31, 32, 33, 34, 35, 36, 37, 38, 39, 40, 41, 42, 43, 44, 45, 46, 47, 48, 49, 50, 51, 52, 53, 54, 55, 56, 57, 58, 59, 60, 61, 62, 63, 64, 65, 66, 67, 68, 69, 70, 71, 72, 73, 74, 75, 76, 77, 78, 79, 80, 81, 82, 83, 84, 85, 86, 87, 88, 89, 90, 91, 92, 93, 94, 95, 96, 97, 98, 99, 100, 101, 102, 103, 104, 105, 106, 107, 108, 109, 110, 111, 112, 113, 114, 115, 116, 117, 118, 119, 120, 121, 122, 123, 124, 125, 126, 127, 128, 129, 130, 131, 132, 133, 134, 135, 136, 137, 138, 139, 140, 141, 142, 143, 144, 145, 146, 147, 148, 149, 150, 151, 152, 153, 154, 155, 156, 157, 158, 159, 160, 161, 162, 163, 164, 165, 166, 167, 168, 169, 170, 171, 172, 173, 174, 175, 176, 177, 178, 179, 180, 181, 182, 183, 184, 185, 186, 187, 188, 189, 190, 191, 192, 193, 194, 195, 196, 197, 198, 199, 200, 201, 202, 203, 204, 205, 206, 207, 208, 209, 210, 211, 212, 213, 214, 215, 216, 217, 218, 219, 220, 221, 222, 223, 224, 225, 226, 227, 228, 229, 230, 231, 232, 233, 234, 235, 236, 237, 238, 239, 240, 241, 242, 243, 244, 245, 246, 247, 248, 249, 250, 251, 252, 253, 254, 255, 256, 257, 258, 259, 260, 261, 262, 263, 264, 265, 266, 267, 268, 269, 270, 271, 272, 273, 274, 275, 276, 277, 278, 279, 280, 281, 282, 283, 284, 285, 286, 287, 288, 289, 290, 291, 292, 293, 294, 295, 296, 297, 298, 299, 300, 301, 302, 303, 304, 305, 306, 307, 308, 309, 310, 311, 312, 313, 314, 315, 316, 317, 318, 319, 320, 321, 322, 323, 324, 325, 326, 327, 328, 329, 330, 331, 332, 333, 334, 335, 336, 337, 338, 339, 340, 341, 342, 343, 344, 345, 346, 347, 348, 349, 350, 351, 352, 353, 354, 355, 356, 357, 358, 359, 360, 361, 362, 363, 364, 365, 366, 367, 368, 369, 370, 371, 372, 373, 374, 375, 376, 377, 378, 379, 380, 381, 382, 383, 384, 385, 386, 387, 388, 389, 390, 391, 392, 393, 394, 395, 396, 397, 398, 399, 400, 401, 402, 403, 404, 405, 406, 407, 408, 409, 410, 411, 412, 413, 414, 415, 416, 417, 418, 419, 420, 421, 422, 423, 424, 425, 426, 427, 428, 429, 430, 431, 432, 433, 434, 435, 436, 437, 438, 439, 440, 441, 442, 443, 444, 445, 446, 447, 448, 450, 451, 452, 453, 454, 455, 456, 457, 458, 459, 460, 461, 462, 463, 464, 465, 466, 467, 468, 469, 470, 471, 472, 473, 474, 475, 476, 478, 479, 480, 481, 482, 483, 484, 485, 486, 487, 488, 489, 490, 491, 492, 493, 494, 495, 496, 497, 498, 499, 500, 501, 502, 503, 504, 505, 506, 507, 508, 509, 510, 511, 512, 513, 514, 515, 516, 517, 518, 519, 520, 521, 522, 523, 524, 525, 526, 527, 528, 529, 530, 531, 532, 533, 534, 535, 536, 537, 538, 539, 540, 541, 542, 543, 544, 545, 546, 547, 548, 549, 550, 551, 552, 553, 554, 555, 556, 557, 558, 559, 560, 561, 562, 563, 564, 565, 566, 567, 568, 569, 570, 571, 572, 573, 574, 575, 576, 577, 578, 579, 580, 581, 582, 583, 584, 585, 586, 587, 588, 589, 590, 591, 592, 593, 594, 595, 596, 597, 598, 599, 600, 601, 602, 603, 604, 605, 606, 607, 608, 609, 610, 611, 612, 613, 614, 615, 616, 617, 618, 619, 620, 621, 622, 623, 624, 625, 626, 627, 628, 629, 630, 631, 632, 633, 634, 635, 636, 637, 638, 639, 640, 641, 642, 643, 644, 645, 646, 647, 648, 649, 650, 651, 652, 653, 654, 655, 656, 657, 658, 659, 660, 661, 662, 663, 664, 665, 666, 667, 668, 669, 670, 671, 672, 673, 674, 675, 676, 677, 678, 679, 680, 681, 682, 683, 684, 685, 686, 687, 688, 689, 690, 691, 692, 693, 694, 695, 696, 697, 698, 699, 700, 701, 702, 703, 704, 705, 706, 707, 708, 709, 710, 711, 712, 713, 714, 715, 716, 717, 718, 719, 720, 721, 722, 723, 724, 725, 726, 727, 728, 729, 730, 731, 732, 733, 734, 735, 736, 737, 738, 739, 740, 741, 742, 743, 744, 745, 746, 747, 748, 749], '151': [125793, 70919, 48173, 64552, 120795, 41535, 159892, 61943, 51584, 109722, 62190, 65667, 75443, 147081, 8635, 8790, 33596, 40868, 42371, 52044, 55089, 128544, 129525, 152865, 29294, 18013, 52281, 46492, 50496, 65620, 52785, 6606, 47510, 47703, 72929, 84700, 91330, 106443, 128883, 134358, 140967, 152343, 154546, 4906, 17201, 60217, 70923, 83717, 120445, 131625, 137654, 149232, 21543, 23677, 64036, 70920, 97039, 130394, 146175, 152857, 159409, 40044, 1229, 3428, 8014, 8169, 30544, 35386, 43098, 50444, 59593, 68991, 80099, 81021, 83172, 89238, 89338, 102331, 102692, 108532, 129892, 135484, 139934, 151835, 160032, 3796, 8966, 29285, 35976, 36159, 40679, 42502, 46155, 46338, 56588, 56903, 62497, 62894, 64967, 68634, 68783, 84332, 88982, 89568, 118436, 129838, 133747, 135844, 155330, 155408, 155656, 156519, 159099, 159410, 161991, 57476, 64242, 82783, 91132, 99576, 128011, 147781, 163849, 163890, 904, 13675, 37273, 38229, 50513, 59409, 64249, 71429, 77784, 83893, 92515, 94563, 103677, 103823, 106196, 117053, 128729, 130015, 133737, 144955, 150293, 150528, 159219, 351, 790, 3519, 3725, 5280, 5635, 7573, 10182, 17611, 18153, 25344, 26622, 36503, 36747, 42461, 44505, 45112, 45876, 47171, 47986, 55731, 57782, 62715, 63128, 64037, 65936, 70921, 70922, 75973, 82585, 82668, 83940, 84316, 88578, 90095, 93197, 93604, 96350, 104334, 104651, 105737, 108274, 108798, 109500, 112121, 114668, 114897, 117051, 118440, 118441, 118619, 119107, 123916, 125810, 137944, 140706, 147488, 149339, 152363, 154727, 155659, 156254, 158884, 159520, 160422, 164407, 803, 2403, 3257, 3750, 5098, 5194, 5874, 7275, 8748, 11607, 11865, 12328, 16651, 20927, 22021, 22100, 22574, 23940, 25342, 25418, 25424, 26306, 27493, 29141, 29613, 31422, 32323, 32671, 36058, 36885, 37287, 39915, 40890, 42472, 43533, 44417, 45890, 45902, 46436, 47661, 47700, 47950, 48016, 48019, 52066, 53813, 61668, 64468, 64945, 66165, 67290, 67956, 68552, 68646, 69874, 71341, 72808, 75290, 75909, 76628, 76765, 77720, 79551, 81701, 88193, 88740, 89060, 89245, 89794, 91812, 92012, 92829, 93290, 93893, 94080, 94675, 95447, 99004, 100100, 101755, 102675, 105371, 107799, 108282, 111372, 112019, 112803, 116614, 117198, 118437, 118438, 119718, 119821, 123071, 123207, 125881, 126210, 126705, 126817, 128638, 129754, 132290, 133388, 133903, 134311, 134450, 134895, 135175, 135503, 138753, 142206, 142968, 143534, 143712, 144305, 146904, 147522, 151019, 153130, 153211, 153585, 153654, 154605, 154942, 155657, 155658, 156023, 156071, 156114, 156876, 160319, 160589, 160645, 161188, 161288, 163066, 290, 2979, 3849, 4641, 6836, 7479, 8246, 8845, 8909, 8942, 9015, 10026, 10268, 10975, 15045, 15398, 18234, 18672, 18700, 18761, 19109, 19621, 20860, 21525, 21694, 22265, 22538, 22680, 23220, 23362, 23367, 23938, 24379, 24568, 24657, 24972, 26309, 26396, 27076, 27348, 27648, 27685, 27756, 28325, 29405, 30210, 31051, 31421, 31519, 32215, 33454, 33741, 34126, 34637, 35216, 35781, 35782, 35895, 36339, 36996, 37469, 37566, 38093, 38287, 39617, 39812, 40088, 40707, 41182, 41543, 41544, 41557, 42102, 44555, 45682, 47255, 47847, 48051, 48579, 49687, 51890, 52219, 55839, 56090, 56121, 56418, 56443, 56964, 58790, 59370, 59507, 60786, 64278, 64334, 64973, 68762, 68819, 69299, 69378, 69488, 70189, 71717, 71945, 71946, 72204, 72535, 72643, 73257, 73374, 76344, 77132, 77888, 78192, 78214, 78638, 78953, 79104, 79118, 80881, 81283, 82443, 82784, 85814, 87102, 88499, 88653, 89026, 90153, 90702, 94174, 94302, 95215, 95636, 95746, 96234, 97561, 97702, 98683, 98693, 98831, 99277, 102218, 104814, 105585, 105716, 107185, 107408, 108277, 110517, 111237, 113559, 114828, 115859, 117958, 118435, 119270, 120223, 120727, 122119, 122996, 123442, 123452, 123842, 124329, 124482, 124536, 124558, 126913, 126917, 127790, 128288, 128338, 130353, 130399, 130563, 130569, 131150, 131931, 132544, 132553, 132784, 135735, 136557, 136909, 137779, 137847, 139458, 140648, 140713, 144576, 144584, 147257, 147670, 148498, 149986, 150599, 150751, 151176, 151266, 151349, 151571, 151942, 152038, 152079, 153483, 155447, 156253, 157949, 158675, 160454, 160631, 161963, 163836, 164343, 229, 364, 1735, 1745, 3169, 3453, 6326, 7012, 7694, 8692, 10079, 10192, 10202, 10339, 10349, 11760, 11782, 12111, 13493, 14325, 16764, 16965, 18896, 19466, 19598, 20785, 21270, 21568, 21639, 25737, 27231, 27319, 28568, 28616, 28619, 30626, 30649, 30744, 30754, 31080, 32623, 33254, 33271, 33292, 33297, 33733, 33987, 34721, 37382, 39025, 39387, 40677, 40739, 42141, 45869, 46816, 47631, 50532, 50726, 51215, 51446, 52999, 53035, 53772, 55963, 57130, 57252, 57344, 57573, 57585, 57747, 58743, 59402, 59493, 59534, 60378, 62022, 62025, 62965, 64702, 64723, 65384, 65926, 67637, 67967, 68414, 69379, 70074, 70933, 71159, 72158, 72307, 72475, 72617, 72620, 72999, 73542, 74662, 75196, 75318, 76847, 77798, 77947, 77983, 78993, 82679, 82855, 83110, 84209, 84692, 85115, 85190, 85874, 86421, 87379, 88224, 88316, 89056, 91549, 92556, 93404, 93990, 94422, 94433, 94518, 94604, 94801, 94927, 94934, 95357, 95474, 95531, 101001, 101282, 101429, 104582, 104688, 105708, 107189, 109511, 109518, 109520, 110675, 111717, 112594, 113415, 113539, 114437, 114734, 114778, 116712, 116778, 117923, 118573, 118867, 118908, 118932, 119870, 122743, 122783, 123846, 125059, 125102, 125750, 126242, 127205, 127577, 128400, 128954, 129000, 129420, 129520, 129599, 129639, 130312, 131511, 133471, 134771, 135225, 135615, 136174, 138071, 138300, 138698, 139129, 140435, 140566, 141754, 142654, 144265, 144422, 144726, 146509, 146784, 147366, 148028, 148043, 148087, 148989, 150526, 156576, 159328, 160033, 161002, 161179, 161639, 161658, 162189, 163008, 163595, 164518, 111, 747, 780, 785, 805, 844, 999, 1071, 1257, 1376, 1663, 1732, 1789, 2547, 2986, 2987, 3207, 3250, 3534, 3590, 3759, 3863, 4626, 5177, 5178, 5417, 5462, 5711, 6483, 6780, 6811, 7190, 7633, 7977, 8025, 8237, 8406, 8639, 8707, 9124, 9329, 9607, 9910, 10188, 10190, 11010, 11250, 11461, 11644, 11655, 11875, 11878, 12330, 12966, 13003, 13046, 13125, 13495, 14308, 14311, 14488, 14616, 14744, 15169, 16254, 16388, 16503, 16710, 17019, 17115, 17243, 18269, 18950, 19247, 19291, 19508, 19761, 20448, 20469, 20643, 20701, 20753, 20786, 20787, 21402, 21608, 21718, 21782, 22091, 22095, 22179, 22429, 22626, 22634, 22768, 23002, 23011, 23034, 23057, 23215, 23276, 23933, 24121, 24350, 24408, 24478, 24893, 25187, 25315, 25317, 25327, 25343, 25359, 25361, 25422, 25759, 25904, 25976, 26037, 26163, 26185, 26542, 27078, 27182, 27214, 27368, 27733, 28701, 28842, 28967, 29296, 29322, 29361, 29497, 29530, 29802, 30115, 30118, 30124, 30546, 30548, 31410, 31652, 32184, 32501, 32718, 33216, 33493, 33615, 33617, 33714, 34207, 34300, 34450, 34806, 35210, 35449, 35624, 35652, 35666, 35669, 35719, 35740, 35970, 36131, 36254, 36393, 36519, 36959, 37782, 37789, 37790, 37795, 37824, 37883, 38246, 38378, 39642, 39670, 39836, 40218, 40249, 40442, 41201, 41312, 41442, 41459, 41532, 41590, 41756, 42051, 42077, 42181, 42188, 42388, 42558, 42861, 43319, 43547, 43607, 43953, 44088, 44662, 44698, 45053, 45169, 45339, 45887, 45892, 45919, 46036, 46159, 46177, 46203, 46225, 46493, 46758, 46798, 47176, 47303, 48137, 48172, 48842, 49990, 50449, 50464], '90': [18957, 145156, 81948, 79231, 156522, 102441, 40127, 67065, 152866, 151610, 115898, 59334, 10427, 40112, 92732, 157755, 106913, 94541, 45196, 149281, 46519, 16611, 15318, 96585, 2752, 43449, 19605, 68945, 25822, 37114, 16975, 115553, 41702, 129866, 75806, 46628, 151549, 6678, 92978, 1838, 69550, 61880, 89007, 87321, 137771, 31443, 65828, 17277, 148166, 49720, 137, 102792, 25119, 110730, 92979, 95263, 269, 2300, 145774, 3028, 87742, 76082, 76929, 67358, 124350, 27623, 137377, 123691, 129335, 136519, 69538, 67101, 163778, 133295, 88950, 42624, 31750, 43435, 104882, 75298, 29948, 90733, 163578, 49050, 129799, 75403, 67106, 91035, 41146, 130921, 156630, 63348, 13415, 104730, 148882, 61491, 5252, 97866, 132583, 60158, 38311, 122823, 107313, 38832, 105601, 68599, 71735, 23883, 67046, 29966, 6989, 97837, 27538, 92720, 5513, 77858, 132962, 143223, 25592, 1402, 15334, 37692, 126344, 16351, 38303, 79399, 59161, 156911, 3319, 39541, 142101, 77269, 53582, 33748, 115169, 76439, 163402, 114122, 22483, 87528, 86350, 79759, 77402, 107883, 76046, 158797, 72316, 31776, 16875, 27187, 144563, 35836, 77915, 121980, 134573, 163063, 96504, 82265, 109438, 87758, 149148, 83272, 142657, 53350, 61567, 82223, 50107, 41714, 991, 9399, 85304, 92471, 96538, 159852, 55412, 61777, 137425, 57734, 19975, 66155, 63974, 75404, 139860, 71993, 34570, 43469, 132781, 122175, 33166, 2678, 20213, 76833, 67269, 11659, 38813, 76596, 141049, 153756, 148637, 82410, 20994, 137221, 147179, 47321, 54972, 104889, 158532, 134222, 146833, 146999, 81608, 14535, 117846, 110372, 102892, 120646, 82806, 134486, 134314, 56445, 26693, 50606, 109546, 86329, 35568, 61113, 151798, 96564, 78054, 156586, 117993, 37093, 28909, 28927, 86354, 158807, 12394, 34515, 133283, 33768, 34643, 140127, 3511, 141889, 82823, 85047, 85256, 34319, 151576, 59208, 140031, 99144, 6424, 130008, 158464, 125013, 156310, 24168, 13156, 44488, 19960, 91327, 131679, 113955, 161697, 10411, 90202, 42893, 82663, 127261, 129377, 39951, 88689, 93382, 132356, 105860, 133975, 140756, 7088, 81962, 2465, 125222, 16863, 52364, 112999, 76032, 23420, 151657, 132069, 66427, 70578, 121616, 15907, 26873, 137929, 35467, 50106, 75117, 72552, 15919, 118922, 25559, 115131, 101514, 128195, 99016, 87111, 94361, 74166, 131126, 28190, 122109, 153109, 83085, 128469, 103076, 82861, 127383, 17207, 138227, 39486, 25310, 20495, 153706, 70045, 115465, 65794, 138895, 142722, 3618, 147074, 83263, 102767, 103021, 13596, 79480, 111437, 42050, 111891, 43425, 92913, 124503, 124590, 36919, 85846, 80476, 76235, 156209, 138654, 65793, 67075, 67083, 67087, 125826, 132697, 154072, 118672, 24761, 47017, 124985, 40835, 28256, 109966, 59472, 131367, 5215, 297, 52414, 23388, 25873, 83168, 70284, 104398, 130705, 29648, 34086, 3076, 107689, 41693, 144378, 50607, 149746, 20205, 60148, 67330, 139194, 45654, 88015, 129404, 31287, 13567, 45215, 61684, 68908, 159530, 37033, 119029, 86273, 84966, 116551, 115495, 78662, 36879, 110969, 109036, 12219, 61284, 102315, 141962, 5084, 98711, 151611, 145676, 11040, 874, 21057, 155125, 76020, 50377, 80513, 3544, 129071, 17152, 82519, 111192, 134221, 12270, 116083, 55476, 113441, 24250, 31616, 114129, 125729, 133738, 66287, 124721, 132793, 113188, 115270, 115605, 143212, 9689, 34514, 123316, 96556, 6991, 88542, 78185, 141430, 43430, 62744, 78434, 117704, 154413, 83192, 17323, 102751, 4505, 65690, 158781, 102465, 86908, 55556, 119088, 148529, 141321, 12383, 69473, 84670, 144642, 27304, 61882, 162017, 55468, 71261, 65449, 122041, 92649, 68714, 144595, 158708, 4393, 6352, 79713, 112957, 106838, 158099, 29954, 55129, 116509, 118828, 652, 10890, 141068, 53558, 82430, 103963, 141424, 103945, 75823, 120203, 160057, 58861, 35536, 70190, 136358, 84010, 118681, 144856, 153753, 40866, 90932, 115005, 17774, 51663, 87972, 53658, 45733, 83779, 7649, 103316, 138652, 47438, 45741, 105717, 124333, 161747, 62653, 107930, 35266, 25827, 35797, 38550, 143454, 43122, 5538, 39441, 53899, 101197, 138914, 12373, 23392, 157435, 3564, 30277, 61012, 37444, 61083, 51925, 137100, 59081, 145130, 59423, 17573, 5568, 149278, 135928, 93174, 50994, 130200, 91123, 124370, 56942, 64799, 77880, 125370, 68367, 72855, 92049, 24623, 285, 58916, 77557, 32288, 53174, 97690, 114467, 9853, 136947, 34580, 58550, 118215, 58055, 39041, 55741, 89064, 93627, 115139, 117700, 128441, 152461, 65118, 37194, 41636, 139276, 38964, 54323, 124454, 135558, 153398, 26624, 20210, 123014, 112857, 7574, 65658, 303, 74548, 142436, 15788, 37453, 42648, 64813, 132389, 76012, 11983, 151515, 64873, 15578, 15580, 130848, 95656, 104230, 13612, 20589, 44594, 88089, 24576, 34367, 85089, 17993, 90702, 86137, 7458, 9395, 55414, 102533, 140152, 25000, 83657, 142471, 2291, 11018, 12078, 87446, 124681, 164172, 33104, 49920, 59793, 61908, 116407, 160248, 24575, 82993, 162338, 94385, 15806, 133771, 123698, 101495, 48880, 123404, 48218, 124101, 111474, 112211, 11091, 23562, 43188, 2741, 28352, 28429, 86332, 73848, 84975, 111796, 60122, 1947, 95013, 95460, 156955, 160719, 162880, 9369, 26698, 61018, 109439, 140810, 151781, 3558, 27153, 34502, 93973, 131002, 143796, 23612, 72948, 146739, 137638, 39910, 10958, 42592, 55152, 163939, 126803, 1837, 58680, 91792, 117642, 149892, 153828, 77276, 101556, 144368, 145326, 152433, 160669, 97645, 137800, 141134, 164402, 2323, 41638, 61831, 67447, 80014, 92567, 102713, 122120, 20550, 41064, 75715, 130890, 140245, 154686, 84470, 80952, 81969, 85845, 106814, 68892, 29667, 130, 3146, 49241, 5483, 18962, 46090, 3548, 28660, 43463, 55048, 147311, 163179, 55620, 54474, 88989, 90423, 156553, 2690, 13002, 62638, 126691, 155723, 163117, 94381, 106329, 164555, 25106, 129959, 102739, 142256, 148781, 41711, 12540, 131991, 18253, 152936, 158095, 155450, 159759, 37782, 56890, 26133, 95573, 122126, 144827, 159209, 34334, 46933, 51695, 60949, 64041, 78907, 143956, 48189, 40107, 40113, 40115, 40117, 40125, 55489, 141464, 19903, 68644, 63673, 57207, 43113, 92501, 115363, 121664, 128280, 128423, 132066, 140250, 146681, 149509, 152971, 26068, 112347, 162564, 19570, 33657, 86740, 74161, 159421, 122172, 20837, 27602, 37097, 75742, 81987, 106155, 120392, 120624, 140748, 161696, 10229, 14474, 31972, 49743, 75385, 146270, 31370, 117616, 5011, 9752, 7509, 83591, 98341, 134385, 27877, 158083, 160735, 49149, 69630, 144556, 35731, 9721, 23363, 32209, 147901, 162292, 138059, 43453, 151813, 13029, 61340, 88548, 155277, 155315, 53688, 4799, 80339, 80947, 55800, 50475, 146862, 20456, 53122, 97822, 79468, 3897, 39171, 48329, 26078, 87413, 106520, 141187, 6540, 53753, 95094, 118449, 116866, 4248, 78348, 56765, 1541, 47101, 66561, 103479, 107673, 112606, 160363, 39027, 10829, 30436, 56625, 70295, 80590, 117199, 27541, 58215, 161166, 57047, 114877, 147914, 150491, 51566, 135078, 9203, 56993, 63380, 51426, 116869, 151345, 74177, 2681, 135021, 54551, 89311, 42166, 59320, 69684, 82210, 87342, 93782, 107438, 144831, 141378, 26468, 84527, 62308, 4244, 51337, 60437, 85280, 85724, 110396, 112738, 147626, 155310, 14901, 77827, 104854, 9682, 16380, 31667, 47725, 93922, 99450, 107699, 110520, 112544, 113692, 123085, 132630, 135610, 137685, 145873, 148455, 149577, 150148, 153527, 153836, 158500, 8072, 19572, 22190, 67631, 89276, 51771, 96863, 26102, 68711, 120540, 125388, 142264, 160058, 40765, 52441, 82829, 163220, 75557, 23599, 54473, 80544, 94621], '92': [85274, 112244, 27687, 123689, 47265, 163652, 140126, 125212, 93291, 147902, 125730, 140890, 69583, 35724, 61289, 145563, 70645, 21970, 130398, 122562, 129072, 139178, 127840, 39196, 70899, 93475, 2857, 93150, 144833, 37452, 96930, 17790, 120626, 137916, 148790, 19712, 33326, 67582, 25167, 38681, 46912, 13039, 76684, 50602, 84622, 150456, 101288, 145144, 52434, 115150, 6639, 43718, 13678, 123677, 73296, 156642, 8919, 101141, 111585, 92574, 138659, 138689, 109316, 146384, 151447, 130313, 149937, 130434, 74570, 83034, 941, 59831, 62171, 34848, 70952, 69081, 206, 14387, 153111, 111832, 43115, 102457, 115457, 161350, 117921, 100004, 33094, 58870, 138934, 138012, 138014, 161688, 95650, 23893, 127390, 82730, 60998, 28192, 90983, 133309, 50703, 62643, 22999, 47629, 111467, 155297, 35459, 104549, 122146, 40580, 40650, 99413, 62160, 11977, 58859, 121939, 60151, 47595, 58416, 96823, 118977, 42443, 21258, 92149, 16763, 21360, 82960, 32957, 132819, 159668, 154113, 79051, 20850, 39486, 96732, 113643, 45839, 55122, 50791, 58928, 51250, 152177, 26082, 163600, 1925, 10820, 84735, 125155, 73107, 19020, 69328, 33451, 121211, 156999, 89618, 125213, 126366, 160594, 88657, 152045, 39209, 127430, 135654, 88843, 4471, 95606, 106272, 112079, 145748, 112228, 23907, 146807, 82445, 113841, 1178, 49487, 36151, 47337, 97528, 23070, 133260, 144638, 74165, 113351, 13029, 77064, 103572, 6074, 41377, 117746, 121747, 33630, 56883, 124297, 88699, 107113, 31155, 141936, 142697, 68842, 51826, 118351, 136823, 22167, 46333, 94724, 120899, 43422, 100529, 143213, 19578, 28688, 30859, 62602, 51386, 75105, 23148, 96943, 97212, 89269, 93037, 83481, 93149, 12682, 88704, 50719, 99166, 161355, 13853, 72099, 113862, 61625, 66065, 78161, 103637, 61319, 121955, 65684, 162135, 159997, 153235, 57154, 80430, 47277, 11678, 16574, 43458, 49219, 90466, 59432, 484, 16214, 107239, 108616, 10803, 21329, 121338, 14184, 99278, 137172, 152882, 163340, 144027, 63616, 22241, 5235, 28111, 87132, 43427, 108477, 123016, 153486, 82870, 87664, 25358, 121991, 131553, 152260, 93697, 119910, 33388, 107313, 85951, 88655, 152041, 113595, 113790, 142656, 66708, 43149, 67115, 67372, 138220, 77237, 96191, 98108, 59913, 49036, 66785, 160153, 77958, 84484, 111540, 153157, 26741, 74368, 4464, 9977, 28530, 117189, 117196, 142586, 25585, 6346, 33110, 58904, 74128, 92053, 49552, 25605, 70244, 152080, 5398, 42950, 46332, 130255, 55804, 150277, 43126, 80052, 110405, 154198, 35526, 101182, 44438, 124773, 127790, 141686, 39714, 117692, 132729, 162048, 20190, 54533, 58887, 67670, 143474, 12597, 13453, 21437, 30078, 126391, 136407, 115126, 58518, 97206, 38795, 105600, 141706, 64598, 30921, 115153, 11841, 89900, 107480, 121776, 158124, 117439, 98760, 114597, 74119, 75766, 148131, 41920, 82461, 83326, 94321, 103342, 129320, 64120, 64614, 65658, 42679, 79016, 127029, 127606, 16899, 72065, 803, 27865, 78582, 142059, 147036, 66687, 141480, 7684, 42595, 3324, 2439, 28239, 54558, 56705, 72546, 129370, 87066, 87427, 156756, 26113, 62206, 156918, 15599, 17465, 49503, 54581, 58536, 76009, 95134, 96275, 8652, 33000, 77757, 95978, 107015, 128706, 48116, 125057, 163618, 1221, 1749, 11837, 102910, 119961, 127619, 130262, 147940, 151487, 35074, 151820, 4242, 39370, 65889, 84436, 111664, 133330, 164314, 33003, 57114, 76420, 93092, 102020, 107790, 135479, 139681, 147050, 5840, 9385, 12975, 23378, 26096, 80057, 91086, 113304, 115123, 144065, 107648, 1467, 126619, 9430, 16721, 25238, 29546, 119684, 95608, 122798, 46822, 75781, 114460, 3019, 77876, 89598, 48405, 16419, 18027, 49914, 51092, 73841, 78159, 128779, 144064, 3242, 1947, 40454, 127499, 158066, 20193, 33748, 90853, 113480, 53340, 119030, 131788, 163181, 6951, 17442, 31710, 70057, 135785, 135877, 140383, 140433, 158773, 158830, 15874, 69485, 93303, 16292, 82821, 84984, 111998, 118231, 122203, 132688, 135610, 24615, 36623, 124269, 129703, 3001, 7516, 15606, 36128, 52454, 68102, 69523, 72558, 75887, 80955, 87042, 95257, 101589, 120518, 12595, 58340, 72742, 112103, 138642, 27170, 153296, 104150, 34270, 37453, 38602, 53619, 92608, 103563, 132654, 156321, 92106, 135673, 30404, 135020, 13086, 49595, 76813, 37449, 65766, 77508, 32148, 119678, 151308, 29084, 33435, 33858, 65699, 75113, 78197, 86375, 95248, 97877, 98861, 99881, 137182, 139953, 142647, 9706, 19001, 22960, 27276, 58839, 82501, 110250, 19547, 144501, 77056, 84711, 85479, 115231, 138941, 155567, 53160, 64834, 67363, 70873, 100190, 101625, 125394, 126958, 133808, 140077, 8847, 13872, 39139, 40464, 67092, 75641, 97215, 104274, 157839, 163747, 164271, 72574, 86126, 139190, 151805, 107215, 111902, 138056, 153930, 6160, 150791, 153993, 156712, 161257, 16380, 63366, 117693, 145426, 7657, 28212, 36376, 80925, 100731, 150217, 156623, 152079, 35498, 77190, 77282, 126641, 142975, 62495, 122607, 90911, 94252, 15899, 51544, 127307, 144348, 90796, 133236, 15668, 21537, 110798, 117105, 148635, 86285, 39153, 68789, 93650, 100211, 115316, 119047, 136942, 157440, 158799, 158928, 12084, 55445, 29657, 37425, 64635, 77851, 85583, 94016, 97507, 103982, 129819, 8093, 160926, 80029, 277, 14172, 36835, 65824, 79188, 82518, 93318, 111184, 118846, 127282, 136847, 152877, 29494, 71915, 23053, 25322, 32295, 39693, 40751, 62199, 73718, 76393, 77077, 79433, 84939, 107894, 115143, 115223, 139510, 154027, 1480, 16733, 104273, 26459, 70912, 98171, 70823, 5345, 5814, 22847, 23371, 46078, 48220, 49493, 49786, 56427, 59467, 80779, 117455, 161458, 50549, 77742, 116824, 68953, 29334, 32498, 71260, 74192, 138509, 40392, 43624, 98724, 135854, 138698, 5165, 297, 39178, 47291, 55837, 56424, 68695, 81623, 88535, 93053, 130596, 131119, 139173, 33264, 38588, 45805, 93437, 126927, 54754, 32756, 34417, 53674, 124388, 149453, 1781, 77196, 8529, 17963, 40733, 60478, 71052, 155395, 23997, 145195, 110103, 146054, 5384, 13513, 16580, 18606, 21948, 28110, 39492, 65177, 86320, 103990, 109994, 123081, 694, 10857, 12634, 55806, 57901, 62209, 102044, 118355, 133627, 162975, 59319, 13179, 96783, 104302, 12381, 12732, 12979, 23358, 38627, 43454, 57281, 57976, 69334, 90373, 90475, 100507, 120616, 127286, 148796, 162289, 5726, 50503, 55805, 67352, 81684, 88053, 102291, 102448, 110392, 126984, 153430, 5435, 5804, 102868, 51685, 79834, 63738, 142084, 6531, 6660, 25591, 49907, 52470, 59309, 67079, 70971, 99504, 103013, 106457, 108579, 108730, 114857, 120635, 155224, 161013, 17218, 59254, 101851, 33414, 41356, 48397, 55106, 59818, 73834, 146077, 1889, 11040, 29826, 33437, 40130, 42261, 53720, 58009, 64176, 64321, 65682, 73589, 80396, 106016, 109286, 115553, 142433, 146833, 146999, 161450, 30355, 114427, 119309, 127907, 127979, 78943, 140488, 952, 32941, 62983, 88271, 93570, 99747, 104964, 121369, 156544, 710, 26649, 27110, 33063, 47824, 54980, 62913, 87975, 92199, 99291, 117369, 141472, 145192, 146148, 33714, 69260, 75168, 141675, 158953, 5660, 19191, 20263, 21647, 29311, 34021, 34873, 41891, 75972, 104590, 113849, 137374, 140362, 150357, 880, 17152, 24204, 26868, 34055, 41358, 42720, 57634, 67063, 71266, 71742, 82519, 82793, 101174, 103963, 110725, 119016, 129087, 135026, 141424, 149135, 153150, 160578, 26029, 81698, 130444, 4656, 7111, 23949, 36705, 52363, 61213, 83925, 104583, 110277, 114025, 131752, 133384, 143229, 1903, 5310, 23086, 23522, 24635, 29988, 46403, 55586, 63980, 73876, 81978, 82511, 82705, 82840, 103081]}\n"
     ]
    }
   ],
   "source": [
    "validation_queries = {}\n",
    "for query_id, query_text in queries.items():\n",
    "    if query_id in valid_query_ids:\n",
    "        validation_queries[query_id] = query_text\n",
    "        \n",
    "query_1000_dict = top1000(query_ids)"
   ]
  },
  {
   "cell_type": "code",
   "execution_count": 51,
   "metadata": {},
   "outputs": [],
   "source": [
    "def word2vec_retrieval1():\n",
    "    for query_id, query in validation_queries.items():\n",
    "        if query_id in valid_query_ids:\n",
    "            scores = word2vec_advanced1(query)\n",
    "            for int_doc_id in range(index.document_base(), index.maximum_document()):\n",
    "                external_document_id,_ = index.document(int_doc_id)\n",
    "\n",
    "                if query_id in data.keys():    \n",
    "                    data[query_id].append((tuple([float(scores[int_doc_id-1]),str(external_document_id)])))\n",
    "                else:\n",
    "                    data[query_id] = [((tuple([float(scores[int_doc_id-1]),str(external_document_id)])))]\n",
    "    run_out_path = '{}.run'.format('word2vec_advanced1')        \n",
    "    with open(run_out_path, 'w') as f_out:\n",
    "        write_run(\n",
    "            model_name='word2vec_advanced',\n",
    "            data=data,\n",
    "            out_f=f_out,\n",
    "            max_objects_per_query=1000)\n",
    "        \n",
    "def word2vec_retrieval2():\n",
    "    data = {}\n",
    "    for key,value in validation_queries.items():\n",
    "        scores = word2vec_advanced2(validation_queries[key],key,query_1000_dict)\n",
    "        external_doc_ids = []\n",
    "        for int_doc_id in query_1000_dict[key]:\n",
    "            external_document_id,_ = index.document(int_doc_id)\n",
    "            external_doc_ids.append(external_document_id)\n",
    "\n",
    "        assert(len(scores) == len(external_doc_ids))\n",
    "\n",
    "        for i in range(0,len(scores)):\n",
    "            if query_id in data.keys():    \n",
    "                data[key].append((tuple([float(scores[i]),str(external_doc_ids[i])])))\n",
    "            else:\n",
    "                data[key] =[((tuple([float(scores[i]),str(external_doc_ids[i])])))]\n",
    "\n",
    "    run_out_path = '{}.run'.format('word2vec_advanced1')        \n",
    "    with open(run_out_path, 'w') as f_out:\n",
    "        write_run(\n",
    "            model_name='word2vec_advanced',\n",
    "            data=data,\n",
    "            out_f=f_out,\n",
    "            max_objects_per_query=1000)"
   ]
  },
  {
   "cell_type": "code",
   "execution_count": 56,
   "metadata": {},
   "outputs": [
    {
     "name": "stdout",
     "output_type": "stream",
     "text": [
      "['consequences', 'implantation', 'silicone', 'gel', 'breast', 'devices']\n"
     ]
    },
    {
     "name": "stderr",
     "output_type": "stream",
     "text": [
      "/usr/local/lib/python3.5/site-packages/ipykernel_launcher.py:25: DeprecationWarning: Call to deprecated `__getitem__` (Method will be removed in 4.0.0, use self.wv.__getitem__() instead).\n"
     ]
    },
    {
     "name": "stdout",
     "output_type": "stream",
     "text": [
      "54.2807822227478\n",
      "['protect', 'united', 'states', 'farmers']\n",
      "55.58914804458618\n",
      "['regulation', 'showing', 'violence', 'explicit', 'sex', 'motion', 'picture', 'video', 'cassettes']\n",
      "57.041443824768066\n",
      "['backing', 'national', 'rifle', 'association']\n",
      "52.76592993736267\n",
      "['non', 'commercial', 'satellite', 'launches']\n",
      "50.4523549079895\n",
      "['term', 'limitations', 'members', 'united', 'states', 'congress']\n",
      "52.22375702857971\n",
      "['research', 'control', 'carcinogens']\n",
      "50.380043029785156\n",
      "['nuclear', 'proliferation']\n",
      "50.5463809967041\n",
      "['economic', 'impact', 'international', 'terrorism']\n",
      "59.616162061691284\n",
      "['oil', 'spill', 'cleanup']\n",
      "59.15779995918274\n",
      "['ineffectiveness', 'united', 'states', 'embargoes', 'sanctions']\n",
      "60.02480506896973\n",
      "['possible', 'contributions', 'gene', 'mapping', 'medicine']\n",
      "60.24281406402588\n",
      "['bank', 'failures']\n",
      "58.81958317756653\n",
      "['commercial', 'overfishing', 'creates', 'food', 'fish', 'deficit']\n",
      "69.37062406539917\n",
      "['mci']\n",
      "65.95160412788391\n",
      "['management', 'problems', 'united', 'nations']\n",
      "54.29463791847229\n",
      "['leveraged', 'buyouts']\n",
      "51.533437967300415\n",
      "['downstream', 'investments', 'opec', 'member', 'states']\n",
      "53.567816972732544\n",
      "['smoking', 'bans']\n",
      "51.53102207183838\n",
      "['conflicting', 'policy']\n",
      "51.61569595336914\n",
      "['welfare', 'reform']\n",
      "51.66128897666931\n",
      "['attempts', 'revive', 'salt', 'ii', 'treaty']\n",
      "53.941547870635986\n",
      "['computer', 'aided', 'crime', 'detection']\n",
      "57.07212686538696\n",
      "['right', 'wing', 'christian', 'fundamentalism', 'united', 'states']\n",
      "64.74856495857239\n",
      "['computer', 'aided', 'crime']\n",
      "59.871408224105835\n",
      "['tobacco', 'company', 'advertising', 'young']\n",
      "58.9766788482666\n",
      "['greenpeace']\n",
      "55.04073882102966\n",
      "['coping', 'overcrowded', 'prisons']\n",
      "52.47326302528381\n",
      "['data', 'proven', 'reserves', 'oil', 'natural', 'gas', 'producers']\n",
      "64.74483704566956\n",
      "['international', 'military', 'equipment', 'sales']\n",
      "59.132209062576294\n"
     ]
    }
   ],
   "source": [
    "word2vec_retrieval1()"
   ]
  },
  {
   "cell_type": "markdown",
   "metadata": {},
   "source": [
    "### Task 4: Learning to rank (LTR) [15 points] (open-ended) ###\n",
    "\n",
    "In this task you will get an introduction into learning to rank for information retrieval.\n",
    "\n",
    "You can explore different ways for devising features for the model. Obviously, you can use the retrieval methods you implemented in Task 1, Task 2 and Task 3 as features. Think about other features you can use (e.g. query/document length). Creativity on devising new features and providing motivation for them will be taken into account when grading.\n",
    "\n",
    "For every query, first create a document candidate set using the top-1000 documents using TF-IDF, and subsequently compute features given a query and a document. Note that the feature values of different retrieval methods are likely to be distributed differently.\n",
    "\n",
    "You are adviced to start some pointwise learning to rank algorithm e.g. logistic regression, implemented in [scikit-learn](http://scikit-learn.org/stable/modules/generated/sklearn.linear_model.LogisticRegression.html).\n",
    "Train your LTR model using 10-fold cross validation on the test set. More advanced learning to rank algorithms will be appreciated when grading."
   ]
  },
  {
   "cell_type": "code",
   "execution_count": 62,
   "metadata": {
    "collapsed": true
   },
   "outputs": [],
   "source": [
    "#First we get the top 1000 documents for every query\n",
    "top1000_dict = {}\n",
    "\n",
    "for query_id in test_query_ids:\n",
    "    tfidf_dict = {}\n",
    "    query_ids = [token2id.get(query_token,0) for query_token in index.tokenize(queries[query_id])] #get ids for all the words\n",
    "    query_ids = [word_id for word_id in query_ids if word_id > 0] #remove stop words\n",
    "    for int_document_id in range(index.document_base(), index.maximum_document()):\n",
    "        tfidf_score = 0\n",
    "        for term_id in query_ids:\n",
    "            if int_document_id in inverted_index[term_id].keys():\n",
    "                tfidf_score += tfidf(int_document_id, term_id, collection_frequencies[term_id])\n",
    "            else: \n",
    "                tfidf_score += 0.0\n",
    "        tfidf_dict[int_document_id] = tfidf_score\n",
    "\n",
    "    top1000 = sorted(tfidf_dict.items(), key=lambda x:-x[1])[:1000]\n",
    "    top1000_keys = [i[0] for i in top1000]\n",
    "    top1000_dict[query_id] = top1000_keys"
   ]
  },
  {
   "cell_type": "markdown",
   "metadata": {},
   "source": [
    "We will use the following statistics per document, query pair:\n",
    "-Number of words of document. Rationale: long documents tend to be more relevant than short documents.\n",
    "\n",
    "-Percentage of stop words. Rationale: if the text contains a lot of stop words it might be written badly or does not contain interesting words.\n",
    "\n",
    "-Amount of unique words. Rationale: if the amount of unique words is large, the document might be very broad and covers multiple topics?\n",
    "\n",
    "-Word count statistics: mean normalized word count, variance of normalized word count. A high mean word count means the document is very dense on a small amount of words, which might be very in depth about a topic. A low mean can have a high or low variance, if the variance is high there are a lot of words with low counts and only a couple with high counts. This might add more information of the document. \n",
    "\n",
    "-Scores of methods from other questions."
   ]
  },
  {
   "cell_type": "code",
   "execution_count": 63,
   "metadata": {
    "collapsed": true
   },
   "outputs": [],
   "source": [
    "#In this cell, we get some statistics + previous scores on the documents\n",
    "from collections import Counter \n",
    "\n",
    "#Number of words \n",
    "def number_of_words(int_document_id):\n",
    "    return len(index.document(int_document_id)[1])\n",
    "\n",
    "#Percentage of stop words:\n",
    "def perc_stop_words(int_document_id):\n",
    "    return len([i for i in index.document(int_document_id)[1] if i == 0])/len(index.document(int_document_id)[1])\n",
    "\n",
    "#Amount of different non stop words\n",
    "def amount_of_words(int_document_id):\n",
    "    return len(np.unique(index.document(int_document_id)[1]))\n",
    "\n",
    "#Distribution of word counts\n",
    "def word_count_statistics(int_document_id):\n",
    "    counter = Counter(index.document(int_document_id)[1]) #make a counter dict\n",
    "    total = sum(counter.values())\n",
    "    for key in counter: #we normalize the counts\n",
    "        counter[key] /= total \n",
    "    return np.mean(list(counter.values())), np.var(list(counter.values()))\n",
    "    \n",
    "def get_scores(int_document_id, query_id):\n",
    "    scores = []\n",
    "    query_ids = [token2id.get(query_token,0) for query_token in index.tokenize(queries[query_id])] #get ids for all the words\n",
    "    query_ids = [word_id for word_id in query_ids if word_id > 0] #remove stop words\n",
    "    scores.append(JelinekMercer(int_document_id, query_ids, collection_frequencies))\n",
    "    scores.append(Dirichlet(int_document_id, query_ids, collection_frequencies))\n",
    "    scores.append(AbsoluteDiscounting(int_document_id, query_ids, collection_frequencies))\n",
    "    \n",
    "    tfidf_score = 0\n",
    "    bm25_score = 0\n",
    "    for query_id in query_ids:\n",
    "        if int_document_id in inverted_index[query_id].keys():\n",
    "            tfidf_score += tfidf(int_document_id, query_id, collection_frequencies[query_id])\n",
    "            bm25_score += BM25(int_document_id, query_id, collection_frequencies[query_id])\n",
    "        else: \n",
    "            tfidf_score += 0.0\n",
    "            bm25_score += 0.0\n",
    "    scores.append(tfidf_score)\n",
    "    scores.append(bm25_score)      \n",
    "    scores.append(plm(int_document_id, query_ids, \"Gaussian\", collection_frequencies, 0))\n",
    "    scores.append(plm(int_document_id, query_ids, \"Passage\", collection_frequencies, 0))\n",
    "    scores.append(plm(int_document_id, query_ids, \"Circle\", collection_frequencies, 0))\n",
    "    scores.append(plm(int_document_id, query_ids, \"Triangle\", collection_frequencies, 0))\n",
    "    scores.append(plm(int_document_id, query_ids, \"Hamming\", collection_frequencies, 0))\n",
    "    return scores"
   ]
  },
  {
   "cell_type": "markdown",
   "metadata": {},
   "source": [
    "As every measure has a different scale, we will normalize the data between 0-1 to have nice features for machine learning."
   ]
  },
  {
   "cell_type": "code",
   "execution_count": 64,
   "metadata": {},
   "outputs": [
    {
     "ename": "NameError",
     "evalue": "name 'details' is not defined",
     "output_type": "error",
     "traceback": [
      "\u001b[0;31m---------------------------------------------------------------------------\u001b[0m",
      "\u001b[0;31mNameError\u001b[0m                                 Traceback (most recent call last)",
      "\u001b[0;32m<ipython-input-64-0a52491d8a62>\u001b[0m in \u001b[0;36m<module>\u001b[0;34m()\u001b[0m\n\u001b[0;32m----> 1\u001b[0;31m \u001b[0mdetails\u001b[0m \u001b[0;34m=\u001b[0m \u001b[0;34m(\u001b[0m\u001b[0mdetails\u001b[0m \u001b[0;34m-\u001b[0m \u001b[0mdetails\u001b[0m\u001b[0;34m.\u001b[0m\u001b[0mmin\u001b[0m\u001b[0;34m(\u001b[0m\u001b[0maxis\u001b[0m\u001b[0;34m=\u001b[0m\u001b[0;36m0\u001b[0m\u001b[0;34m)\u001b[0m\u001b[0;34m)\u001b[0m \u001b[0;34m/\u001b[0m \u001b[0;34m(\u001b[0m\u001b[0mdetails\u001b[0m\u001b[0;34m.\u001b[0m\u001b[0mmax\u001b[0m\u001b[0;34m(\u001b[0m\u001b[0maxis\u001b[0m\u001b[0;34m=\u001b[0m\u001b[0;36m0\u001b[0m\u001b[0;34m)\u001b[0m \u001b[0;34m-\u001b[0m \u001b[0mdetails\u001b[0m\u001b[0;34m.\u001b[0m\u001b[0mmin\u001b[0m\u001b[0;34m(\u001b[0m\u001b[0maxis\u001b[0m\u001b[0;34m=\u001b[0m\u001b[0;36m0\u001b[0m\u001b[0;34m)\u001b[0m\u001b[0;34m)\u001b[0m \u001b[0;31m#normalize columns\u001b[0m\u001b[0;34m\u001b[0m\u001b[0m\n\u001b[0m",
      "\u001b[0;31mNameError\u001b[0m: name 'details' is not defined"
     ]
    }
   ],
   "source": [
    "details = (details - details.min(axis=0)) / (details.max(axis=0) - details.min(axis=0)) #normalize columns"
   ]
  },
  {
   "cell_type": "markdown",
   "metadata": {},
   "source": [
    "We start by doing pointwise learning so we can treat the document ratings as targets. This way the problems becomes a regression problem. First we will generate target, then we will implement a wide range of models to slove the problem."
   ]
  },
  {
   "cell_type": "code",
   "execution_count": 65,
   "metadata": {
    "collapsed": true
   },
   "outputs": [],
   "source": [
    "#Here we generate target from the qrel_test file\n",
    "target_dict = {}\n",
    "with open('./ap_88_89/qrel_test', 'r') as test_queries:\n",
    "    for line in test_queries:\n",
    "        split = line.split(' ')\n",
    "        query_doc_tuple = (split[0], split[2])\n",
    "        target_dict[query_doc_tuple] = int(split[3][0])\n",
    "\n",
    "targets = np.zeros(1000*len(test_query_ids)) #define an empty target array        \n",
    "for q in range(0, len(test_query_ids)):\n",
    "    query_id = test_query_ids[q]\n",
    "    for key in range(0,1000):\n",
    "        external_document_id,_ = index.document(top1000_dict[query_id][key])\n",
    "        try:\n",
    "            targets[q*1000+key] = target_dict[(query_id, external_document_id)]\n",
    "        except:\n",
    "            targets[q*1000+key] = 0 #if targets do not exist in the test set, we assume they are irrelevant\n",
    "#print(targets[:100])"
   ]
  },
  {
   "cell_type": "code",
   "execution_count": 66,
   "metadata": {},
   "outputs": [
    {
     "ename": "NameError",
     "evalue": "name 'details' is not defined",
     "output_type": "error",
     "traceback": [
      "\u001b[0;31m---------------------------------------------------------------------------\u001b[0m",
      "\u001b[0;31mNameError\u001b[0m                                 Traceback (most recent call last)",
      "\u001b[0;32m<ipython-input-66-c71d73f834e0>\u001b[0m in \u001b[0;36m<module>\u001b[0;34m()\u001b[0m\n\u001b[1;32m      5\u001b[0m \u001b[0mpredictions1\u001b[0m \u001b[0;34m=\u001b[0m \u001b[0mnp\u001b[0m\u001b[0;34m.\u001b[0m\u001b[0mzeros\u001b[0m\u001b[0;34m(\u001b[0m\u001b[0;36m1000\u001b[0m\u001b[0;34m*\u001b[0m\u001b[0mlen\u001b[0m\u001b[0;34m(\u001b[0m\u001b[0mtest_query_ids\u001b[0m\u001b[0;34m)\u001b[0m\u001b[0;34m)\u001b[0m\u001b[0;34m\u001b[0m\u001b[0m\n\u001b[1;32m      6\u001b[0m \u001b[0mkf\u001b[0m \u001b[0;34m=\u001b[0m \u001b[0mKFold\u001b[0m\u001b[0;34m(\u001b[0m\u001b[0mn_splits\u001b[0m\u001b[0;34m=\u001b[0m\u001b[0;36m10\u001b[0m\u001b[0;34m)\u001b[0m\u001b[0;34m\u001b[0m\u001b[0m\n\u001b[0;32m----> 7\u001b[0;31m \u001b[0;32mfor\u001b[0m \u001b[0mtrain_index\u001b[0m\u001b[0;34m,\u001b[0m \u001b[0mtest_index\u001b[0m \u001b[0;32min\u001b[0m \u001b[0mkf\u001b[0m\u001b[0;34m.\u001b[0m\u001b[0msplit\u001b[0m\u001b[0;34m(\u001b[0m\u001b[0mdetails\u001b[0m\u001b[0;34m)\u001b[0m\u001b[0;34m:\u001b[0m\u001b[0;34m\u001b[0m\u001b[0m\n\u001b[0m\u001b[1;32m      8\u001b[0m     \u001b[0mX_train\u001b[0m\u001b[0;34m,\u001b[0m \u001b[0mX_test\u001b[0m \u001b[0;34m=\u001b[0m \u001b[0mdetails\u001b[0m\u001b[0;34m[\u001b[0m\u001b[0mtrain_index\u001b[0m\u001b[0;34m]\u001b[0m\u001b[0;34m,\u001b[0m \u001b[0mdetails\u001b[0m\u001b[0;34m[\u001b[0m\u001b[0mtest_index\u001b[0m\u001b[0;34m]\u001b[0m\u001b[0;34m\u001b[0m\u001b[0m\n\u001b[1;32m      9\u001b[0m     \u001b[0my_train\u001b[0m\u001b[0;34m,\u001b[0m \u001b[0my_test\u001b[0m \u001b[0;34m=\u001b[0m \u001b[0mtargets\u001b[0m\u001b[0;34m[\u001b[0m\u001b[0mtrain_index\u001b[0m\u001b[0;34m]\u001b[0m\u001b[0;34m,\u001b[0m \u001b[0mtargets\u001b[0m\u001b[0;34m[\u001b[0m\u001b[0mtest_index\u001b[0m\u001b[0;34m]\u001b[0m\u001b[0;34m\u001b[0m\u001b[0m\n",
      "\u001b[0;31mNameError\u001b[0m: name 'details' is not defined"
     ]
    }
   ],
   "source": [
    "#The first model will be a LogisticRegression\n",
    "from sklearn.linear_model import LogisticRegression\n",
    "from sklearn.model_selection import KFold\n",
    "\n",
    "predictions1 = np.zeros(1000*len(test_query_ids))\n",
    "kf = KFold(n_splits=10)\n",
    "for train_index, test_index in kf.split(details):\n",
    "    X_train, X_test = details[train_index], details[test_index]\n",
    "    y_train, y_test = targets[train_index], targets[test_index]\n",
    "    lr = LogisticRegression()\n",
    "    lr.fit(X_train, y_train)\n",
    "    predictions1[test_index] = lr.predict(X_test)\n",
    "    print(\"The accuracy score for a single CV split is: \", lr.score(X_test, y_test))\n",
    "    \n",
    "overall_score = sum([1 for i in range(0,1000*len(test_query_ids)) if targets[i] == predictions1[i]])/(1000*len(test_query_ids))\n",
    "print(\"The overall accuracy score is: \",overall_score)"
   ]
  },
  {
   "cell_type": "markdown",
   "metadata": {},
   "source": [
    "Hmm. A 94% accuracy looks quite good. However when testing the results in trec_eval, the results are quite bad (map 0.0717, P_5\t0.1333, recall_1000 0.6432, ndcg_cut_10 0.1285). This is due to the low amount of 1's, therefore the algorithm predicts almost only 0s. This makes the accuracy very high, but the relevancy very low."
   ]
  },
  {
   "cell_type": "code",
   "execution_count": null,
   "metadata": {
    "collapsed": true
   },
   "outputs": [],
   "source": [
    "print(\"We have \",sum([1 for i in targets if i ==1]),\" interesting documents!\")\n",
    "print(\"This is \",sum([1 for i in targets if i ==1])/1200,\"% of the selected documents!\")\n",
    "print(\"We have \",sum([1 for i in predictions1 if i ==1]),\" non zero predictions!\")"
   ]
  },
  {
   "cell_type": "code",
   "execution_count": null,
   "metadata": {
    "collapsed": true
   },
   "outputs": [],
   "source": [
    "#This is a Logistic Regression including class weights, as the classes are not evenly distributed and 1s are more important for our purpose.\n",
    "predictions2 = np.zeros(1000*len(test_query_ids))\n",
    "proba2 = np.zeros((1000*len(test_query_ids),2))\n",
    "kf = KFold(n_splits=10)\n",
    "for train_index, test_index in kf.split(details):\n",
    "    X_train, X_test = details[train_index], details[test_index]\n",
    "    y_train, y_test = targets[train_index], targets[test_index]\n",
    "    lr = LogisticRegression(class_weight={1:0.85, 0:0.15}) #we add class weights to weigh more heavy on predicting 1.\n",
    "    lr.fit(X_train, y_train)\n",
    "    predictions2[test_index] = lr.predict(X_test)\n",
    "    proba2[test_index] = lr.predict_proba(X_test)                   \n",
    "    print(\"The accuracy score for a single CV split is: \", lr.score(X_test, y_test))\n",
    "    \n",
    "overall_score = sum([1 for i in range(0,1000*len(test_query_ids)) if targets[i] == predictions2[i]])/(1000*len(test_query_ids))\n",
    "print(\"The overall accuracy score is: \",overall_score)\n",
    "print(\"We have \",sum([1 for i in predictions2 if i ==1]),\" non zero predictions!\")"
   ]
  },
  {
   "cell_type": "markdown",
   "metadata": {},
   "source": [
    "What we did is that we added the class weight, to count 1s more heavily in the scoring. We can see that with ~6000 predictions, the model more closely predicts the total amount of relevant docs (~7000). Although this drops the accuracy score from 94% to 91%, the trec_eval measures improve significantly (map 0.1231, P_5 0.2800, recall_1000  0.6432 and ndcg_cut_10 0.2847)."
   ]
  },
  {
   "cell_type": "code",
   "execution_count": null,
   "metadata": {
    "collapsed": true
   },
   "outputs": [],
   "source": [
    "print(\"These are the first 20 predictions: \", list(predictions2[:20]))\n",
    "print(\"These are the first 20 confindences: \", list(proba2[:20,1]))\n",
    "pos_proba = [i for i in proba2[:20,1] if i > 0.5]\n",
    "print(\"\")\n",
    "print(\"The positive predictions range between: \",min(pos_proba),\" and \",max(pos_proba),\" so there is quite some difference in prediction certainty.\")"
   ]
  },
  {
   "cell_type": "code",
   "execution_count": null,
   "metadata": {
    "collapsed": true
   },
   "outputs": [],
   "source": [
    "#Now we want to develop tf-idf for all documents and queries only for the query tokens (we cannot handle 270K tokens for now).\n",
    "unique_query_tokens = {}\n",
    "for query_id, query in queries.items():\n",
    "    query_word_ids = [token2id.get(query_token,0) for query_token in index.tokenize(query)] #get ids for all the words\n",
    "    query_word_ids = [word_id for word_id in query_word_ids if word_id > 0] #remove stop words\n",
    "    for t in query_word_ids:\n",
    "        unique_query_tokens[t] = 1\n",
    "query_keys = list(unique_query_tokens.keys())\n",
    "print(\"We have \",len(query_keys),\" distinct query tokens.\")\n",
    "\n",
    "tfidf_docs = np.zeros((index.maximum_document(), len(query_keys)))\n",
    "print(\"Making doc tfidf\")\n",
    "for query_term in query_keys:\n",
    "    idx = query_keys.index(query_term)\n",
    "    col_freq = collection_frequencies[query_term]\n",
    "    num_documents = index.maximum_document()\n",
    "    for int_doc_id in range(index.document_base(), index.maximum_document()):\n",
    "        try:\n",
    "            tfidf_docs[int_doc_id, idx] = float(np.log(1+inverted_index[query_term][int_document_id]) * np.log(num_documents/col_freq))\n",
    "        except:\n",
    "            tfidf_docs[int_doc_id, idx] = 0\n",
    "\n",
    "print(\"Making query tfidf\")\n",
    "tfidf_queries = np.zeros((len(test_query_ids), len(query_keys)))\n",
    "for query_term in query_keys:\n",
    "    idx = query_keys.index(query_term)\n",
    "    col_freq = collection_frequencies[query_term]\n",
    "    num_documents = index.maximum_document()\n",
    "    for q in range(0, len(test_query_ids)):\n",
    "        try:\n",
    "            tfidf_docs[int_doc_id, idx] = float(np.log(1+inverted_index[query_term][int_document_id]) * np.log(num_documents/col_freq))\n",
    "        except:\n",
    "            tfidf_docs[int_doc_id, idx] = 0"
   ]
  },
  {
   "cell_type": "markdown",
   "metadata": {},
   "source": [
    "Another issue is that every prediction is either 0/1, however LogisticRegression maps a value between 0-1 to a group. However we can use the confidence of being in class 1 of the LogisticRegression to score documents. This results in a significantly better scoring on trec_eval measures: map\t0.2103, P_5\t0.3967, recall_1000\t0.6432 and ndcg_cut_10 0.3868."
   ]
  },
  {
   "cell_type": "code",
   "execution_count": null,
   "metadata": {
    "collapsed": true
   },
   "outputs": [],
   "source": [
    "#This cell can put the results of the models into the .run files for evaluation.\n",
    "data = {}\n",
    "model_name = 'logistic_regression_weighted_prob'\n",
    "for q in range(0, len(test_query_ids)):\n",
    "    query_id = test_query_ids[q]\n",
    "    for key in range(0,1000):\n",
    "        external_document_id,_ = index.document(top1000_dict[query_id][key])\n",
    "        if query_id in data.keys():       \n",
    "            data[query_id].append((tuple([proba2[q*1000+key,1],str(external_document_id)])))\n",
    "        else:\n",
    "            data[query_id] = [((tuple([proba2[q*1000+key,1],str(external_document_id)])))]\n",
    "\n",
    "            \n",
    "run_out_path = '{}.run'.format(model_name)\n",
    "\n",
    "if os.path.exists(run_out_path):\n",
    "    print(\"File already exists\")\n",
    "else:\n",
    "    with open(run_out_path, 'w') as f_out:\n",
    "        write_run(\n",
    "            model_name=model_name,\n",
    "            data=data,\n",
    "            out_f=f_out,\n",
    "            max_objects_per_query=1000)"
   ]
  },
  {
   "cell_type": "markdown",
   "metadata": {
    "collapsed": true
   },
   "source": [
    "### Task 5: Write a report [15 points; instant FAIL if not provided] ###\n",
    "\n",
    "The report should be a PDF file created using the [sigconf ACM template](https://www.acm.org/publications/proceedings-template) and will determine a significant part of your grade.\n",
    "\n",
    "   * It should explain what you have implemented, motivate your experiments and detail what you expect to learn from them. **[10 points]**\n",
    "   * Lastly, provide a convincing analysis of your results and conclude the report accordingly. **[10 points]**\n",
    "      * Do all methods perform similarly on all queries? Why?\n",
    "      * Is there a single retrieval model that outperforms all other retrieval models (i.e., silver bullet)?\n",
    "      * ...\n",
    "\n",
    "**Hand in the report and your self-contained implementation source files.** Only send us the files that matter, organized in a well-documented zip/tgz file with clear instructions on how to reproduce your results. That is, we want to be able to regenerate all your results with minimal effort. You can assume that the index and ground-truth information is present in the same file structure as the one we have provided.\n"
   ]
  }
 ],
 "metadata": {
  "anaconda-cloud": {},
  "kernelspec": {
   "display_name": "Python 3",
   "language": "python",
   "name": "python3"
  },
  "language_info": {
   "codemirror_mode": {
    "name": "ipython",
    "version": 3
   },
   "file_extension": ".py",
   "mimetype": "text/x-python",
   "name": "python",
   "nbconvert_exporter": "python",
   "pygments_lexer": "ipython3",
   "version": "3.5.2"
  }
 },
 "nbformat": 4,
 "nbformat_minor": 1
}
