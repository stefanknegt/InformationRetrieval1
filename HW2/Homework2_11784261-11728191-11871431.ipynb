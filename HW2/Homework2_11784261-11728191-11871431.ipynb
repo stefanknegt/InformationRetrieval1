{
 "cells": [
  {
   "cell_type": "markdown",
   "metadata": {},
   "source": [
    "# Information Retrieval 1#\n",
    "## Assignment 2: Retrieval models [100 points] ##"
   ]
  },
  {
   "cell_type": "markdown",
   "metadata": {},
   "source": [
    "In this assignment you will get familiar with basic and advanced information retrieval concepts. You will implement different information retrieval ranking models and evaluate their performance.\n",
    "\n",
    "We provide you with a Indri index. To query the index, you'll use a Python package ([pyndri](https://github.com/cvangysel/pyndri)) that allows easy access to the underlying document statistics.\n",
    "\n",
    "For evaluation you'll use the [TREC Eval](https://github.com/usnistgov/trec_eval) utility, provided by the National Institute of Standards and Technology of the United States. TREC Eval is the de facto standard way to compute Information Retrieval measures and is frequently referenced in scientific papers.\n",
    "\n",
    "This is a **groups-of-three assignment**, the deadline is **Wednesday, January 31st**. Code quality, informative comments and convincing analysis of the results will be considered when grading. Submission should be done through blackboard, questions can be asked on the course [Piazza](piazza.com/university_of_amsterdam/spring2018/52041inr6y/home).\n",
    "\n",
    "### Technicalities (must-read!) ###\n",
    "\n",
    "The assignment directory is organized as follows:\n",
    "   * `./assignment.ipynb` (this file): the description of the assignment.\n",
    "   * `./index/`: the index we prepared for you.\n",
    "   * `./ap_88_90/`: directory with ground-truth and evaluation sets:\n",
    "      * `qrel_test`: test query relevance collection (**test set**).\n",
    "      * `qrel_validation`: validation query relevance collection (**validation set**).\n",
    "      * `topics_title`: semicolon-separated file with query identifiers and terms.\n",
    "\n",
    "You will need the following software packages (tested with Python 3.5 inside [Anaconda](https://conda.io/docs/user-guide/install/index.html)):\n",
    "   * Python 3.5 and Jupyter\n",
    "   * Indri + Pyndri (Follow the installation instructions [here](https://github.com/nickvosk/pyndri/blob/master/README.md))\n",
    "   * gensim [link](https://radimrehurek.com/gensim/install.html)\n",
    "   * TREC Eval [link](https://github.com/usnistgov/trec_eval)"
   ]
  },
  {
   "cell_type": "markdown",
   "metadata": {},
   "source": [
    "### TREC Eval primer ###\n",
    "The TREC Eval utility can be downloaded and compiled as follows:\n",
    "\n",
    "    git clone https://github.com/usnistgov/trec_eval.git\n",
    "    cd trec_eval\n",
    "    make\n",
    "\n",
    "TREC Eval computes evaluation scores given two files: ground-truth information regarding relevant documents, named *query relevance* or *qrel*, and a ranking of documents for a set of queries, referred to as a *run*. The *qrel* will be supplied by us and should not be changed. For every retrieval model (or combinations thereof) you will generate a run of the top-1000 documents for every query. The format of the *run* file is as follows:\n",
    "\n",
    "    $query_identifier Q0 $document_identifier $rank_of_document_for_query $query_document_similarity $run_identifier\n",
    "    \n",
    "where\n",
    "   * `$query_identifier` is the unique identifier corresponding to a query (usually this follows a sequential numbering).\n",
    "   * `Q0` is a legacy field that you can ignore.\n",
    "   * `$document_identifier` corresponds to the unique identifier of a document (e.g., APXXXXXXX where AP denotes the collection and the Xs correspond to a unique numerical identifier).\n",
    "   * `$rank_of_document_for_query` denotes the rank of the document for the particular query. This field is ignored by TREC Eval and is only maintained for legacy support. The ranks are computed by TREC Eval itself using the `$query_document_similarity` field (see next). However, it remains good practice to correctly compute this field.\n",
    "   * `$query_document_similarity` is a score indicating the similarity between query and document where a higher score denotes greater similarity.\n",
    "   * `$run_identifier` is an identifier of the run. This field is for your own convenience and has no purpose beyond bookkeeping.\n",
    "   \n",
    "For example, say we have two queries: `Q1` and `Q2` and we rank three documents (`DOC1`, `DOC2`, `DOC3`). For query `Q1`, we find the following similarity scores `score(Q1, DOC1) = 1.0`, `score(Q1, DOC2) = 0.5`, `score(Q1, DOC3) = 0.75`; and for `Q2`: `score(Q2, DOC1) = -0.1`, `score(Q2, DOC2) = 1.25`, `score(Q1, DOC3) = 0.0`. We can generate run using the following snippet:"
   ]
  },
  {
   "cell_type": "code",
   "execution_count": 308,
   "metadata": {
    "scrolled": false
   },
   "outputs": [
    {
     "name": "stdout",
     "output_type": "stream",
     "text": [
      "Q2 Q0 DOC2 1 1.25 example\n",
      "Q2 Q0 DOC3 2 0.0 example\n",
      "Q2 Q0 DOC1 3 -0.1 example\n",
      "Q1 Q0 DOC1 1 1.0 example\n",
      "Q1 Q0 DOC3 2 0.75 example\n",
      "Q1 Q0 DOC2 3 0.5 example\n"
     ]
    }
   ],
   "source": [
    "import logging\n",
    "import sys\n",
    "import os\n",
    "\n",
    "def write_run(model_name, data, out_f,\n",
    "              max_objects_per_query=sys.maxsize,\n",
    "              skip_sorting=False):\n",
    "    \"\"\"\n",
    "    Write a run to an output file.\n",
    "    Parameters:\n",
    "        - model_name: identifier of run.\n",
    "        - data: dictionary mapping topic_id to object_assesments;\n",
    "            object_assesments is an iterable (list or tuple) of\n",
    "            (relevance, object_id) pairs.\n",
    "            The object_assesments iterable is sorted by decreasing order.\n",
    "        - out_f: output file stream.\n",
    "        - max_objects_per_query: cut-off for number of objects per query.\n",
    "    \"\"\"\n",
    "    for subject_id, object_assesments in data.items():\n",
    "        if not object_assesments:\n",
    "            logging.warning('Received empty ranking for %s; ignoring.',\n",
    "                            subject_id)\n",
    "\n",
    "            continue\n",
    "\n",
    "        #Probe types, to make sure everything goes alright.\n",
    "        assert isinstance(object_assesments[0][0], float) or \\\n",
    "             isinstance(object_assesments[0][0], np.float32)\n",
    "        assert isinstance(object_assesments[0][1], str) or \\\n",
    "            isinstance(object_assesments[0][1], bytes)\n",
    "\n",
    "        if not skip_sorting:\n",
    "            object_assesments = sorted(object_assesments, reverse=True)\n",
    "\n",
    "        if max_objects_per_query < sys.maxsize:\n",
    "            object_assesments = object_assesments[:max_objects_per_query]\n",
    "\n",
    "        if isinstance(subject_id, bytes):\n",
    "            subject_id = subject_id.decode('utf8')\n",
    "\n",
    "        for rank, (relevance, object_id) in enumerate(object_assesments):\n",
    "            if isinstance(object_id, bytes):\n",
    "                object_id = object_id.decode('utf8')\n",
    "\n",
    "            out_f.write(\n",
    "                '{subject} Q0 {object} {rank} {relevance} '\n",
    "                '{model_name}\\n'.format(\n",
    "                    subject=subject_id,\n",
    "                    object=object_id,\n",
    "                    rank=rank + 1,\n",
    "                    relevance=relevance,\n",
    "                    model_name=model_name))\n",
    "            \n",
    "# The following writes the run to standard output.\n",
    "# In your code, you should write the runs to local\n",
    "# storage in order to pass them to trec_eval.\n",
    "write_run(\n",
    "    model_name='example',\n",
    "    data={\n",
    "        'Q1': ((1.0, 'DOC1'), (0.5, 'DOC2'), (0.75, 'DOC3')),\n",
    "        'Q2': ((-0.1, 'DOC1'), (1.25, 'DOC2'), (0.0, 'DOC3')),\n",
    "    },\n",
    "    out_f=sys.stdout,\n",
    "    max_objects_per_query=1000)"
   ]
  },
  {
   "cell_type": "markdown",
   "metadata": {},
   "source": [
    "Now, imagine that we know that `DOC1` is relevant and `DOC3` is non-relevant for `Q1`. In addition, for `Q2` we only know of the relevance of `DOC3`. The query relevance file looks like:\n",
    "\n",
    "    Q1 0 DOC1 1\n",
    "    Q1 0 DOC3 0\n",
    "    Q2 0 DOC3 1\n",
    "    \n",
    "We store the run and qrel in files `example.run` and `example.qrel` respectively on disk. We can now use TREC Eval to compute evaluation measures. In this example, we're only interested in Mean Average Precision and we'll only show this below for brevity. However, TREC Eval outputs much more information such as NDCG, recall, precision, etc.\n",
    "\n",
    "    $ trec_eval -m all_trec -q example.qrel example.run | grep -E \"^map\\s\"\n",
    "    > map                   \tQ1\t1.0000\n",
    "    > map                   \tQ2\t0.5000\n",
    "    > map                   \tall\t0.7500\n",
    "    \n",
    "Now that we've discussed the output format of rankings and how you can compute evaluation measures from these rankings, we'll now proceed with an overview of the indexing framework you'll use."
   ]
  },
  {
   "cell_type": "markdown",
   "metadata": {},
   "source": [
    "### Pyndri primer ###\n",
    "For this assignment you will use [Pyndri](https://github.com/cvangysel/pyndri) [[1](https://arxiv.org/abs/1701.00749)], a python interface for [Indri](https://www.lemurproject.org/indri.php). We have indexed the document collection and you can query the index using Pyndri. We will start by giving you some examples of what Pyndri can do:\n",
    "\n",
    "First we read the document collection index with Pyndri:"
   ]
  },
  {
   "cell_type": "code",
   "execution_count": 309,
   "metadata": {
    "collapsed": true,
    "scrolled": true
   },
   "outputs": [],
   "source": [
    "import pyndri\n",
    "\n",
    "index = pyndri.Index('index/')"
   ]
  },
  {
   "cell_type": "markdown",
   "metadata": {},
   "source": [
    "The loaded index can be used to access a collection of documents in an easy manner. We'll give you some examples to get some idea of what it can do, it is up to you to figure out how to use it for the remainder of the assignment.\n",
    "\n",
    "First let's look at the number of documents, since Pyndri indexes the documents using incremental identifiers we can simply take the lowest index and the maximum document and consider the difference:"
   ]
  },
  {
   "cell_type": "code",
   "execution_count": 310,
   "metadata": {},
   "outputs": [
    {
     "name": "stdout",
     "output_type": "stream",
     "text": [
      "There are 164597 documents in this collection.\n"
     ]
    }
   ],
   "source": [
    "print(\"There are %d documents in this collection.\" % (index.maximum_document() - index.document_base()))"
   ]
  },
  {
   "cell_type": "markdown",
   "metadata": {},
   "source": [
    "Let's take the first document out of the collection and take a look at it:"
   ]
  },
  {
   "cell_type": "code",
   "execution_count": 311,
   "metadata": {
    "scrolled": true
   },
   "outputs": [
    {
     "name": "stdout",
     "output_type": "stream",
     "text": [
      "('AP890425-0001', (1360, 192, 363, 0, 880, 0, 200, 0, 894, 412, 92160, 3, 192, 0, 363, 34, 1441, 0, 174134, 0, 200, 0, 894, 412, 2652, 0, 810, 107, 49, 4903, 420, 0, 1, 48, 35, 489, 0, 35, 687, 192, 243, 0, 249311, 1877, 0, 1651, 1174, 0, 2701, 117, 412, 0, 810, 391, 245233, 1225, 5838, 16, 0, 233156, 3496, 0, 393, 17, 0, 2435, 4819, 930, 0, 0, 200, 0, 894, 0, 22, 398, 145, 0, 3, 271, 115, 0, 1176, 2777, 292, 0, 725, 192, 0, 0, 50046, 0, 1901, 1130, 0, 192, 0, 408, 0, 243779, 0, 0, 553, 192, 0, 363, 0, 3747, 0, 0, 0, 0, 1176, 0, 1239, 0, 0, 1115, 17, 0, 0, 585, 192, 1963, 0, 0, 412, 54356, 0, 773, 0, 0, 0, 192, 0, 0, 1130, 0, 363, 0, 545, 192, 0, 1174, 1901, 1130, 0, 4, 398, 145, 39, 0, 577, 0, 355, 0, 491, 0, 6025, 0, 0, 193156, 88, 34, 437, 0, 0, 1852, 0, 828, 0, 1588, 0, 0, 0, 2615, 0, 0, 107, 49, 420, 0, 0, 190, 7, 714, 2701, 0, 237, 192, 157, 0, 412, 34, 437, 0, 0, 200, 6025, 26, 0, 0, 0, 0, 363, 0, 22, 398, 145, 0, 200, 638, 126222, 6018, 0, 880, 0, 0, 161, 0, 0, 319, 894, 2701, 0, 0, 0, 301, 1200, 0, 363, 251, 430, 0, 207, 0, 76143, 1773, 0, 243779, 0, 0, 72030, 0, 55, 4903, 420, 0, 2701, 1496, 420, 0, 25480, 0, 420, 0, 0, 200, 0, 392, 2949, 0, 1738, 0, 61, 0, 71, 79, 0, 200, 903, 0, 188, 53, 6, 0, 476, 2, 0, 2028, 97, 334, 0, 0, 200, 178, 0, 0, 107, 49, 0, 214, 0, 0, 0, 114, 3866, 1505, 195, 79893, 574, 0, 198, 2160, 0, 192, 0, 420, 0, 384, 0, 2701, 0, 114, 6025, 1549, 74627, 0, 238, 0, 0, 0, 3729, 0, 192, 0, 79893, 0, 0, 729, 3141, 129, 0, 192, 196764, 39, 0, 0, 714, 63, 0, 55, 420, 3356, 0, 0, 117, 412, 0, 0, 79758, 0, 1901, 1130, 4067, 2133, 0, 0, 875, 72, 0, 0, 336, 2789, 0, 0, 25, 920, 121, 104, 0, 3162, 0, 0, 420, 0, 2178, 0, 0, 386, 192545, 159306, 0, 0, 0, 1914, 0, 200, 0, 1794, 0, 2654, 0, 0, 25480, 420, 0, 2795, 0, 0, 229690, 0, 32559, 0, 0, 392, 253919, 0, 0, 0, 0, 379, 0, 0, 114, 0, 553, 10, 0, 1128, 0, 23610, 248, 151, 0, 418, 0, 651, 0, 36, 0, 0, 645, 0, 0, 513, 0, 0, 25480, 420, 34, 0, 0, 0, 15, 0, 3348, 0, 3496, 0, 35, 687, 0, 1, 48, 0, 0, 2803, 0, 0, 714, 1274, 0, 114, 62, 1006, 70268, 1200, 2357, 0, 497, 0, 497, 125, 0, 913, 4647, 3985, 0, 0, 3370, 245233, 0, 0, 687, 0, 4, 1288, 0, 0, 0, 0, 715, 0, 0, 687, 583, 0, 0, 1627, 0, 0, 11, 357, 1359, 0, 849, 0, 0, 1518, 462, 245233, 0, 0, 0, 0, 0, 0, 171, 70268, 0))\n"
     ]
    }
   ],
   "source": [
    "example_document = index.document(index.document_base())\n",
    "print(example_document)"
   ]
  },
  {
   "cell_type": "markdown",
   "metadata": {},
   "source": [
    "Here we see a document consists of two things, a string representing the external document identifier and an integer list representing the identifiers of words that make up the document. Pyndri uses integer representations for words or terms, thus a token_id is an integer that represents a word whereas the token is the actual text of the word/term. Every id has a unique token and vice versa with the exception of stop words: words so common that there are uninformative, all of these receive the zero id.\n",
    "\n",
    "To see what some ids and their matching tokens we take a look at the dictionary of the index:"
   ]
  },
  {
   "cell_type": "code",
   "execution_count": 312,
   "metadata": {},
   "outputs": [
    {
     "name": "stdout",
     "output_type": "stream",
     "text": [
      "[(1, 'new'), (2, 'percent'), (3, 'two'), (4, '1'), (5, 'people'), (6, 'million'), (7, '000'), (8, 'government'), (9, 'president'), (10, 'years'), (11, 'state'), (12, '2'), (13, 'states'), (14, 'three'), (15, 'time')]\n"
     ]
    }
   ],
   "source": [
    "token2id, id2token, _ = index.get_dictionary()\n",
    "print(list(id2token.items())[:15])"
   ]
  },
  {
   "cell_type": "markdown",
   "metadata": {},
   "source": [
    "Using this dictionary we can see the tokens for the (non-stop) words in our example document:"
   ]
  },
  {
   "cell_type": "code",
   "execution_count": 313,
   "metadata": {},
   "outputs": [
    {
     "name": "stdout",
     "output_type": "stream",
     "text": [
      "['52', 'students', 'arrested', 'takeover', 'university', 'massachusetts', 'building', 'fifty', 'two', 'students', 'arrested', 'tuesday', 'evening', 'occupying', 'university', 'massachusetts', 'building', 'overnight', 'protest', 'defense', 'department', 'funded', 'research', 'new', 'york', 'city', 'thousands', 'city', 'college', 'students', 'got', 'unscheduled', 'holiday', 'demonstrators', 'occupied', 'campus', 'administration', 'building', 'protest', 'possible', 'tuition', 'increases', 'prompting', 'officials', 'suspend', 'classes', '60', 'police', 'riot', 'gear', 'arrived', 'university', 'massachusetts', '5', 'p', 'm', 'two', 'hours', 'later', 'bus', 'drove', 'away', '29', 'students', 'camped', 'memorial', 'hall', 'students', 'charged', 'trespassing', '23', 'students', 'arrested', 'lying', 'bus', 'prevent', 'leaving', 'police', '300', 'students', 'stood', 'building', 'chanting', 'looking', 'students', 'hall', 'arrested', '35', 'students', 'occupied', 'memorial', 'hall', '1', 'p', 'm', 'monday', 'declined', 'offer', 'meet', 'administrators', 'provosts', 'office', 'tuesday', 'morning', 'presented', 'list', 'demands', 'halt', 'defense', 'department', 'research', '25', '000', 'student', 'campus', '40', 'students', 'left', 'building', 'tuesday', 'morning', 'university', 'administrators', 'told', 'arrested', '5', 'p', 'm', 'university', 'spokeswoman', 'jeanne', 'hopkins', 'takeover', 'second', 'western', 'massachusetts', 'campus', 'seven', 'protesters', 'arrested', 'april', '19', 'charges', 'disorderly', 'conduct', 'trespassing', 'demonstrating', 'military', 'funded', 'research', 'campus', 'particularly', 'research', 'anthrax', 'research', 'university', 'non', 'classified', 'researchers', 'make', 'work', 'public', 'university', 'rules', '11', '6', 'million', '22', 'percent', 'grant', 'money', 'received', 'university', 'came', 'defense', 'department', '1988', 'school', 'chancellor', 'joseph', 'd', 'duffey', 'issued', 'statement', 'telling', 'students', 'research', 'continue', 'campus', 'school', 'administrators', 'decide', 'differently', 'policy', 'negotiated', 'students', 'duffey', 'latest', 'occupation', 'began', 'students', 'rallying', 'monday', 'student', 'union', 'military', 'research', 'marched', 'administration', 'building', 'ducked', 'memorial', 'hall', 'en', 'route', 'followed', 'members', 'local', 'chapter', 'american', 'friends', 'service', 'committee', 'contended', 'research', 'dangerous', 'town', 'promotes', 'militarism', 'banned', 'university', 'argued', 'purpose', 'anthrax', 'research', 'peaceful', 'strain', 'bacteria', 'non', 'virulent', 'study', 'school', '23', 'years', 'incident', 'amherst', 'health', 'board', 'scheduled', 'hearing', 'wednesday', 'question', 'safety', 'anthrax', 'research', 'tuesday', 'time', '1969', 'classes', 'city', 'college', 'new', 'york', 'canceled', 'student', 'protests', 'school', 'spokesman', 'charles', 'deciccio', 'protesters', 'demanding', 'face', 'face', 'meeting', 'gov', 'mario', 'cuomo', 'feared', 'tuition', 'college', '1', '250', 'increased', 'college', 'staff', 'reduced', 'state', 'budget', 'cuts', 'governor', 'immediate', 'comment', 'tuition', 'set', 'deciccio']\n"
     ]
    }
   ],
   "source": [
    "print([id2token[word_id] for word_id in example_document[1] if word_id > 0])"
   ]
  },
  {
   "cell_type": "markdown",
   "metadata": {},
   "source": [
    "The reverse can also be done, say we want to look for news about the \"University of Massachusetts\", the tokens of that query can be converted to ids using the reverse dictionary:"
   ]
  },
  {
   "cell_type": "code",
   "execution_count": 314,
   "metadata": {},
   "outputs": [
    {
     "name": "stdout",
     "output_type": "stream",
     "text": [
      "Query by tokens: ['university', '', 'massachusetts']\n",
      "Query by ids with stopwords: [200, 0, 894]\n",
      "Query by ids without stopwords: [200, 894]\n"
     ]
    }
   ],
   "source": [
    "query_tokens = index.tokenize(\"University of Massachusetts\")\n",
    "print(\"Query by tokens:\", query_tokens)\n",
    "query_id_tokens = [token2id.get(query_token,0) for query_token in query_tokens]\n",
    "print(\"Query by ids with stopwords:\", query_id_tokens)\n",
    "query_id_tokens = [word_id for word_id in query_id_tokens if word_id > 0]\n",
    "print(\"Query by ids without stopwords:\", query_id_tokens)"
   ]
  },
  {
   "cell_type": "markdown",
   "metadata": {},
   "source": [
    "Naturally we can now match the document and query in the id space, let's see how often a word from the query occurs in our example document:"
   ]
  },
  {
   "cell_type": "code",
   "execution_count": 315,
   "metadata": {},
   "outputs": [
    {
     "name": "stdout",
     "output_type": "stream",
     "text": [
      "Document AP890425-0001 has 13 word matches with query: \"university  massachusetts\".\n",
      "Document AP890425-0001 and query \"university  massachusetts\" have a 2.5% overlap.\n"
     ]
    }
   ],
   "source": [
    "matching_words = sum([True for word_id in example_document[1] if word_id in query_id_tokens])\n",
    "print(\"Document %s has %d word matches with query: \\\"%s\\\".\" % (example_document[0], matching_words, ' '.join(query_tokens)))\n",
    "print(\"Document %s and query \\\"%s\\\" have a %.01f%% overlap.\" % (example_document[0], ' '.join(query_tokens),matching_words/float(len(example_document[1]))*100))"
   ]
  },
  {
   "cell_type": "markdown",
   "metadata": {},
   "source": [
    "While this is certainly not everything Pyndri can do, it should give you an idea of how to use it. Please take a look at the [examples](https://github.com/cvangysel/pyndri) as it will help you a lot with this assignment.\n",
    "\n",
    "**CAUTION**: Avoid printing out the whole index in this Notebook as it will generate a lot of output and is likely to corrupt the Notebook."
   ]
  },
  {
   "cell_type": "markdown",
   "metadata": {},
   "source": [
    "### Parsing the query file\n",
    "You can parse the query file (`ap_88_89/topics_title`) using the following snippet:"
   ]
  },
  {
   "cell_type": "code",
   "execution_count": 316,
   "metadata": {},
   "outputs": [
    {
     "name": "stdout",
     "output_type": "stream",
     "text": [
      "OrderedDict([('51', 'Airbus Subsidies'), ('52', 'South African Sanctions'), ('53', 'Leveraged Buyouts'), ('54', 'Satellite Launch Contracts'), ('55', 'Insider Trading'), ('56', 'Prime (Lending) Rate Moves, Predictions'), ('57', 'MCI'), ('58', 'Rail Strikes'), ('59', 'Weather Related Fatalities'), ('60', 'Merit-Pay vs. Seniority'), ('61', 'Israeli Role in Iran-Contra Affair'), ('62', \"Military Coups D'etat\"), ('63', 'Machine Translation'), ('64', 'Hostage-Taking'), ('65', 'Information Retrieval Systems'), ('66', 'Natural Language Processing'), ('67', 'Politically Motivated Civil Disturbances'), ('68', 'Health Hazards from Fine-Diameter Fibers'), ('69', 'Attempts to Revive the SALT II Treaty'), ('70', 'Surrogate Motherhood'), ('71', 'Border Incursions'), ('72', 'Demographic Shifts in the U.S.'), ('73', 'Demographic Shifts across National Boundaries'), ('74', 'Conflicting Policy'), ('75', 'Automation'), ('76', 'U.S. Constitution - Original Intent'), ('77', 'Poaching'), ('78', 'Greenpeace'), ('79', 'FRG Political Party Positions'), ('80', '1988 Presidential Candidates Platforms'), ('81', 'Financial crunch for televangelists in the wake of the PTL scandal'), ('82', 'Genetic Engineering'), ('83', 'Measures to Protect the Atmosphere'), ('84', 'Alternative/renewable Energy Plant & Equipment Installation'), ('85', 'Official Corruption'), ('86', 'Bank Failures'), ('87', 'Criminal Actions Against Officers of Failed Financial Institutions'), ('88', 'Crude Oil Price Trends'), ('89', '\"Downstream\" Investments by OPEC Member States'), ('90', 'Data on Proven Reserves of Oil & Natural Gas Producers'), ('91', 'U.S. Army Acquisition of Advanced Weapons Systems'), ('92', 'International Military Equipment Sales'), ('93', 'What Backing Does the National Rifle Association Have?'), ('94', 'Computer-aided Crime'), ('95', 'Computer-aided Crime Detection'), ('96', 'Computer-Aided Medical Diagnosis'), ('97', 'Fiber Optics Applications'), ('98', 'Fiber Optics Equipment Manufacturers'), ('99', 'Iran-Contra Affair'), ('100', 'Controlling the Transfer of High Technology'), ('101', 'Design of the \"Star Wars\" Anti-missile Defense System'), ('102', \"Laser Research Applicable to the U.S.'s Strategic Defense Initiative\"), ('103', 'Welfare Reform'), ('104', 'Catastrophic Health Insurance'), ('105', '\"Black Monday\"'), ('106', 'U.S. Control of Insider Trading'), ('107', 'Japanese Regulation of Insider Trading'), ('108', 'Japanese Protectionist Measures'), ('109', 'Find Innovative Companies'), ('110', 'Black Resistance Against the South African Government'), ('111', 'Nuclear Proliferation'), ('112', 'Funding Biotechnology'), ('113', 'New Space Satellite Applications'), ('114', 'Non-commercial Satellite Launches'), ('115', 'Impact of the 1986 Immigration Law'), ('116', 'Generic Drug Substitutions'), ('117', 'Capacity of the U.S. Cellular Telephone Network'), ('118', 'International Terrorists'), ('119', 'Actions Against International Terrorists'), ('120', 'Economic Impact of International Terrorism'), ('121', 'Death from Cancer'), ('122', 'RDT&E of New Cancer Fighting Drugs'), ('123', 'Research into & Control of Carcinogens'), ('124', 'Alternatives to Traditional Cancer Therapies'), ('125', 'Anti-smoking Actions by Government'), ('126', 'Medical Ethics and Modern Technology'), ('127', 'U.S.-U.S.S.R. Arms Control Agreements'), ('128', 'Privatization of State Assets'), ('129', 'Soviet Spying on the U.S.'), ('130', 'Jewish Emigration and U.S.-USSR Relations'), ('131', 'McDonnell Douglas Contracts for Military Aircraft'), ('132', '\"Stealth\" Aircraft'), ('133', 'Hubble Space Telescope'), ('134', 'The Human Genome Project'), ('135', 'Possible Contributions of Gene Mapping to Medicine'), ('136', 'Diversification by Pacific Telesis'), ('137', 'Expansion in the U.S. Theme Park Industry'), ('138', 'Iranian Support for Lebanese Hostage-takers'), ('139', \"Iran's Islamic Revolution - Domestic and Foreign Social Consequences\"), ('140', 'Political Impact of Islamic Fundamentalism'), ('141', \"Japan's Handling of its Trade Surplus with the U.S.\"), ('142', 'Impact of Government Regulated Grain Farming on International Relations'), ('143', 'Why Protect U.S. Farmers?'), ('144', 'Management Problems at the United Nations'), ('145', 'Influence of the \"Pro-Israel Lobby\"'), ('146', 'Negotiating an End to the Nicaraguan Civil War'), ('147', 'Productivity Trends in the U.S. Economy'), ('148', 'Conflict in the Horn of Africa'), ('149', 'Industrial Espionage'), ('150', 'U.S. Political Campaign Financing'), ('151', 'Coping with overcrowded prisons'), ('152', 'Accusations of Cheating by Contractors on U.S. Defense Projects'), ('153', 'Insurance Coverage which pays for Long Term Care'), ('154', 'Oil Spills'), ('155', 'Right Wing Christian Fundamentalism in U.S.'), ('156', 'Efforts to enact Gun Control Legislation'), ('157', 'Causes and treatments of multiple sclerosis (MS)'), ('158', 'Term limitations for members of the U.S. Congress'), ('159', 'Electric Car Development'), ('160', 'Vitamins - The Cure for or Cause of Human Ailments'), ('161', 'Acid Rain'), ('162', 'Automobile Recalls'), ('163', 'Vietnam Veterans and Agent Orange'), ('164', 'Generic Drugs - Illegal Activities by Manufacturers'), ('165', 'Tobacco company advertising and the young'), ('166', 'Standardized testing and cultural bias'), ('167', 'Regulation of the showing of violence and explicit sex in motion picture theaters, on television, and on video cassettes.'), ('168', 'Financing AMTRAK'), ('169', 'Cost of Garbage/Trash Removal'), ('170', 'The Consequences of Implantation of Silicone Gel Breast Devices'), ('171', \"Use of Mutual Funds in an Individual's Retirement Strategy\"), ('172', 'The Effectiveness of Medical Products and Related Programs Utilized in the Cessation of Smoking.'), ('173', 'Smoking Bans'), ('174', 'Hazardous Waste Cleanup'), ('175', 'NRA Prevention of Gun Control Legislation'), ('176', 'Real-life private investigators'), ('177', 'English as the Official Language in U.S.'), ('178', 'Dog Maulings'), ('179', 'U. S. Restaurants in Foreign Lands'), ('180', 'Ineffectiveness of U.S. Embargoes/Sanctions'), ('181', 'Abuse of the Elderly by Family Members, and Medical and Nonmedical Personnel, and Initiatives Being Taken to Minimize This Mistreatment'), ('182', 'Commercial Overfishing Creates Food Fish Deficit'), ('183', 'Asbestos Related Lawsuits'), ('184', 'Corporate Pension Plans/Funds'), ('185', 'Reform of the U.S. Welfare System'), ('186', 'Difference of Learning Levels Among Inner City and More Suburban School Students'), ('187', 'Signs of the Demise of Independent Publishing'), ('188', 'Beachfront Erosion'), ('189', 'Real Motives for Murder'), ('190', 'Instances of Fraud Involving the Use of a Computer'), ('191', 'Efforts to Improve U.S. Schooling'), ('192', 'Oil Spill Cleanup'), ('193', 'Toys R Dangerous'), ('194', 'The Amount of Money Earned by Writers'), ('195', 'Stock Market Perturbations Attributable to Computer Initiated Trading'), ('196', 'School Choice Voucher System and its effects upon the entire U.S. educational program'), ('197', 'Reform of the jurisprudence system to stop juries from granting unreasonable monetary awards'), ('198', 'Gene Therapy and Its Benefits to Humankind'), ('199', 'Legality of Medically Assisted Suicides'), ('200', 'Impact of foreign textile imports on U.S. textile industry')])\n"
     ]
    }
   ],
   "source": [
    "import collections\n",
    "import io\n",
    "import logging\n",
    "import sys\n",
    "\n",
    "def parse_topics(file_or_files,\n",
    "                 max_topics=sys.maxsize, delimiter=';'):\n",
    "    assert max_topics >= 0 or max_topics is None\n",
    "\n",
    "    topics = collections.OrderedDict()\n",
    "\n",
    "    if not isinstance(file_or_files, list) and \\\n",
    "            not isinstance(file_or_files, tuple):\n",
    "        if hasattr(file_or_files, '__iter__'):\n",
    "            file_or_files = list(file_or_files)\n",
    "        else:\n",
    "            file_or_files = [file_or_files]\n",
    "\n",
    "    for f in file_or_files:\n",
    "        assert isinstance(f, io.IOBase)\n",
    "\n",
    "        for line in f:\n",
    "            assert(isinstance(line, str))\n",
    "\n",
    "            line = line.strip()\n",
    "\n",
    "            if not line:\n",
    "                continue\n",
    "\n",
    "            topic_id, terms = line.split(delimiter, 1)\n",
    "\n",
    "            if topic_id in topics and (topics[topic_id] != terms):\n",
    "                    logging.error('Duplicate topic \"%s\" (%s vs. %s).',\n",
    "                                  topic_id,\n",
    "                                  topics[topic_id],\n",
    "                                  terms)\n",
    "\n",
    "            topics[topic_id] = terms\n",
    "\n",
    "            if max_topics > 0 and len(topics) >= max_topics:\n",
    "                break\n",
    "\n",
    "    return topics\n",
    "\n",
    "with open('./ap_88_89/topics_title', 'r') as f_topics:\n",
    "    print(parse_topics([f_topics]))"
   ]
  },
  {
   "cell_type": "markdown",
   "metadata": {},
   "source": [
    "### Task 1: Implement and compare lexical IR methods [35 points] ### \n",
    "\n",
    "In this task you will implement a number of lexical methods for IR using the **Pyndri** framework. Then you will evaluate these methods on the dataset we have provided using **TREC Eval**.\n",
    "\n",
    "Use the **Pyndri** framework to get statistics of the documents (term frequency, document frequency, collection frequency; **you are not allowed to use the query functionality of Pyndri**) and implement the following scoring methods in **Python**:\n",
    "\n",
    "- [TF-IDF](http://nlp.stanford.edu/IR-book/html/htmledition/tf-idf-weighting-1.html) and \n",
    "- [BM25](http://nlp.stanford.edu/IR-book/html/htmledition/okapi-bm25-a-non-binary-model-1.html) with k1=1.2 and b=0.75. **[5 points]**\n",
    "- Language models ([survey](https://drive.google.com/file/d/0B-zklbckv9CHc0c3b245UW90NE0/view))\n",
    "    - Jelinek-Mercer (explore different values of 𝛌 in the range [0.1, 0.5, 0.9]). **[5 points]**\n",
    "    - Dirichlet Prior (explore different values of 𝛍 [500, 1000, 1500]). **[5 points]**\n",
    "    - Absolute discounting (explore different values of 𝛅 in the range [0.1, 0.5, 0.9]). **[5 points]**\n",
    "    - [Positional Language Models](http://sifaka.cs.uiuc.edu/~ylv2/pub/sigir09-plm.pdf) define a language model for each position of a document, and score a document based on the scores of its PLMs. The PLM is estimated based on propagated counts of words within a document through a proximity-based density function, which both captures proximity heuristics and achieves an effect of “soft” passage retrieval. Implement the PLM, all five kernels, but only the Best position strategy to score documents. Use 𝛔 equal to 50, and Dirichlet smoothing with 𝛍 optimized on the validation set (decide how to optimize this value yourself and motivate your decision in the report). **[10 points]**\n",
    "    \n",
    "Implement the above methods and report evaluation measures (on the test set) using the hyper parameter values you optimized on the validation set (also report the values of the hyper parameters). Use TREC Eval to obtain the results and report on `NDCG@10`, Mean Average Precision (`MAP@1000`), `Precision@5` and `Recall@1000`.\n",
    "\n",
    "For the language models, create plots showing `NDCG@10` with varying values of the parameters. You can do this by chaining small scripts using shell scripting (preferred) or execute trec_eval using Python's `subprocess`.\n",
    "\n",
    "Compute significance of the results using a [two-tailed paired Student t-test](https://docs.scipy.org/doc/scipy/reference/generated/scipy.stats.ttest_rel.html) **[5 points]**. Be wary of false rejection of the null hypothesis caused by the [multiple comparisons problem](https://en.wikipedia.org/wiki/Multiple_comparisons_problem). There are multiple ways to mitigate this problem and it is up to you to choose one.\n",
    "\n",
    "Analyse the results by identifying specific queries where different methods succeed or fail and discuss possible reasons that cause these differences. This is *very important* in order to understand who the different retrieval functions behave.\n",
    "\n",
    "**NOTE**: Don’t forget to use log computations in your calculations to avoid underflows. "
   ]
  },
  {
   "cell_type": "markdown",
   "metadata": {},
   "source": [
    "**IMPORTANT**: You should structure your code around the helper functions we provide below."
   ]
  },
  {
   "cell_type": "code",
   "execution_count": 317,
   "metadata": {},
   "outputs": [
    {
     "name": "stdout",
     "output_type": "stream",
     "text": [
      "Gathering statistics about 456 terms.\n",
      "Inverted index creation took 44.11342406272888 seconds.\n"
     ]
    }
   ],
   "source": [
    "import time\n",
    "start_time = time.time()\n",
    "with open('./ap_88_89/topics_title', 'r') as f_topics:\n",
    "    queries = parse_topics([f_topics])\n",
    "\n",
    "index = pyndri.Index('index/')\n",
    "\n",
    "num_documents = index.maximum_document() - index.document_base()\n",
    "\n",
    "dictionary = pyndri.extract_dictionary(index)\n",
    "\n",
    "tokenized_queries = {\n",
    "    query_id: [dictionary.translate_token(token)\n",
    "               for token in index.tokenize(query_string)\n",
    "               if dictionary.has_token(token)]\n",
    "    for query_id, query_string in queries.items()}\n",
    "\n",
    "query_term_ids = set(\n",
    "    query_term_id\n",
    "    for query_term_ids in tokenized_queries.values()\n",
    "    for query_term_id in query_term_ids)\n",
    "\n",
    "print('Gathering statistics about', len(query_term_ids), 'terms.')\n",
    "\n",
    "# inverted index creation.\n",
    "\n",
    "document_lengths = {}\n",
    "unique_terms_per_document = {}\n",
    "\n",
    "inverted_index = collections.defaultdict(dict)\n",
    "collection_frequencies = collections.defaultdict(int)\n",
    "\n",
    "total_terms = 0\n",
    "\n",
    "for int_doc_id in range(index.document_base(), index.maximum_document()):\n",
    "    ext_doc_id, doc_token_ids = index.document(int_doc_id)\n",
    "\n",
    "    document_bow = collections.Counter(\n",
    "        token_id for token_id in doc_token_ids\n",
    "        if token_id > 0)\n",
    "    document_length = sum(document_bow.values())\n",
    "\n",
    "    document_lengths[int_doc_id] = document_length\n",
    "    total_terms += document_length\n",
    "\n",
    "    unique_terms_per_document[int_doc_id] = len(document_bow)\n",
    "\n",
    "    for query_term_id in query_term_ids:\n",
    "        assert query_term_id is not None\n",
    "\n",
    "        document_term_frequency = document_bow.get(query_term_id, 0)\n",
    "\n",
    "        if document_term_frequency == 0:\n",
    "            continue\n",
    "\n",
    "        collection_frequencies[query_term_id] += document_term_frequency\n",
    "        inverted_index[query_term_id][int_doc_id] = document_term_frequency\n",
    "\n",
    "\n",
    "avg_doc_length = total_terms / num_documents\n",
    "print('Inverted index creation took', time.time() - start_time, 'seconds.')"
   ]
  },
  {
   "cell_type": "code",
   "execution_count": 318,
   "metadata": {},
   "outputs": [
    {
     "name": "stdout",
     "output_type": "stream",
     "text": [
      "We have  120  and  30  query ids for the test and valid sets.\n"
     ]
    }
   ],
   "source": [
    "test_query_ids = []\n",
    "with open('./ap_88_89/qrel_test', 'r') as test_queries:\n",
    "    for line in test_queries:\n",
    "        query_id = line.split(' ')[0]\n",
    "        if query_id not in test_query_ids:\n",
    "            test_query_ids.append(query_id)\n",
    "\n",
    "valid_query_ids = []\n",
    "with open('./ap_88_89/qrel_validation', 'r') as valid_queries:\n",
    "    for line in valid_queries:\n",
    "        query_id = line.split(' ')[0]\n",
    "        if query_id not in valid_query_ids:\n",
    "            valid_query_ids.append(query_id)\n",
    "            \n",
    "print('We have ',len(test_query_ids),' and ',len(valid_query_ids),' query ids for the test and valid sets.')"
   ]
  },
  {
   "cell_type": "code",
   "execution_count": 319,
   "metadata": {},
   "outputs": [],
   "source": [
    "def run_retrieval(model_name,score_fn,plm_kernel=\"Gaussian\",mu=500):\n",
    "    \"\"\"\n",
    "    Runs a retrieval method for all the queries and writes the TREC-friendly results in a file.\n",
    "    \n",
    "    :param model_name: the name of the model (a string)\n",
    "    :param score_fn: the scoring function (a function - see below for an example) \n",
    "    \"\"\"\n",
    "    run_out_path = '{}.run'.format(model_name)\n",
    "\n",
    "    if os.path.exists(run_out_path):\n",
    "        print(\"File already exists\")\n",
    "        return\n",
    "    \n",
    "    retrieval_start_time = time.time()\n",
    "\n",
    "    print('Retrieving using', model_name)\n",
    "    data = {}\n",
    "    count = 0\n",
    "    if model_name == 'tfidf_valid' or model_name == 'BM25_valid':\n",
    "        for query_id, query in queries.items():\n",
    "            if query_id in valid_query_ids:\n",
    "                score = 0.0\n",
    "                query_word_ids = [token2id.get(query_token,0) for query_token in index.tokenize(query)] #get ids for all the words\n",
    "                query_word_ids = [word_id for word_id in query_word_ids if word_id > 0] #remove stop words\n",
    "                print(query_id)\n",
    "                for int_doc_id in range(index.document_base(), index.maximum_document()):\n",
    "                    score = 0\n",
    "                    external_document_id,_ = index.document(int_doc_id) #Get the external doc id for this document\n",
    "                    for query_word in query_word_ids:\n",
    "                        if int_doc_id in inverted_index[query_word].keys():\n",
    "                            score += score_fn(int_doc_id,query_word,collection_frequencies[query_word])\n",
    "                        else: \n",
    "                            score += 0.0\n",
    "                        assert(isinstance(score,float))\n",
    "                    if query_id in data.keys():       \n",
    "                        data[query_id].append((tuple([score,str(external_document_id)])))\n",
    "                    else:\n",
    "                        data[query_id] = [((tuple([score,str(external_document_id)])))]\n",
    "    elif model_name == 'plm': #For the positional language models we have additional paramters we give to score_fn()\n",
    "        for query_id, query in queries.items():\n",
    "            if query_id in valid_query_ids:\n",
    "                query_ids = [token2id.get(query_token,0) for query_token in index.tokenize(query)] #get ids for all the words\n",
    "                query_ids = [word_id for word_id in query_ids if word_id > 0] #remove stop words\n",
    "                for int_doc_id in range(index.document_base(), index.maximum_document()):\n",
    "                    external_document_id,_ = index.document(int_doc_id) #Get the external doc id for this document\n",
    "                    score = score_fn(int_doc_id, query_ids, plm_kernel,collection_frequencies,mu)\n",
    "                    if query_id in data.keys():\n",
    "                        data[query_id].append((tuple([score,str(external_document_id)])))\n",
    "                    else:\n",
    "                        data[query_id] = [((tuple([score,str(external_document_id)])))]\n",
    "    elif model_name == \"word2vec\":\n",
    "        for query_id, query in queries.items():\n",
    "            if query_id in valid_query_ids:\n",
    "                scores = score_fn(query)\n",
    "\n",
    "                for int_doc_id in range(index.document_base(), index.maximum_document()):\n",
    "                    #print(scores,int_doc_id)\n",
    "                    external_document_id,_ = index.document(int_doc_id)\n",
    "\n",
    "                    if query_id in data.keys():    \n",
    "                        data[query_id].append((tuple([float(scores[int_doc_id-1]),str(external_document_id)])))\n",
    "                    else:\n",
    "                        data[query_id] = [((tuple([float(scores[int_doc_id-1]),str(external_document_id)])))]\n",
    "    else: #model_name == 'JelinekMercer_valid' or model_name == 'Dirichlet_valid' or model_name == 'AbsoluteDiscounting_valid':\n",
    "        for query_id, query in queries.items():\n",
    "            if query_id in valid_query_ids:\n",
    "                query_ids = [token2id.get(query_token,0) for query_token in index.tokenize(query)] #get ids for all the words\n",
    "                query_ids = [word_id for word_id in query_ids if word_id > 0] #remove stop words  \n",
    "                print(query_id, query)\n",
    "                for int_doc_id in range(index.document_base(), index.maximum_document()):\n",
    "                    external_document_id,_ = index.document(int_doc_id) #Get the external doc id for this document\n",
    "                    score = score_fn(int_doc_id, query_ids, collection_frequencies)\n",
    "                    if query_id in data.keys():       \n",
    "                        data[query_id].append((tuple([score,str(external_document_id)])))\n",
    "                    else:\n",
    "                        data[query_id] = [((tuple([score,str(external_document_id)])))]\n",
    "    with open(run_out_path, 'w') as f_out:\n",
    "        write_run(\n",
    "            model_name=model_name,\n",
    "            data=data,\n",
    "            out_f=f_out,\n",
    "            max_objects_per_query=1000)"
   ]
  },
  {
   "cell_type": "markdown",
   "metadata": {},
   "source": [
    "### TFIDF and BM25"
   ]
  },
  {
   "cell_type": "code",
   "execution_count": 320,
   "metadata": {
    "collapsed": true,
    "scrolled": false
   },
   "outputs": [],
   "source": [
    "import numpy as np\n",
    "def tfidf(int_document_id, query_term_id, document_term_freq):\n",
    "    \"\"\"\n",
    "    Scoring function for a document and a query term using teh TFIDF model\n",
    "    \n",
    "    :param int_document_id: the document id\n",
    "    :param query_term_id: the query term id (assuming you have split the query to tokens)\n",
    "    :param document_term_freq: the document term frequency of the query term \n",
    "    \"\"\"\n",
    "    try:\n",
    "        score = float(np.log(1+inverted_index[query_term_id][int_document_id]) * np.log(num_documents/document_term_freq))\n",
    "    except:\n",
    "        score = 0\n",
    "    return score\n",
    "\n",
    "def BM25(int_document_id, query_term_id, document_term_freq): \n",
    "    \"\"\"\n",
    "    Scoring function for a document and a query term using the BM25 model\n",
    "    \n",
    "    :param int_document_id: the document id\n",
    "    :param query_term_id: the query term id (assuming you have split the query to tokens)\n",
    "    :param document_term_freq: the document term frequency of the query term \n",
    "    \"\"\"\n",
    "    k1 = 1.2\n",
    "    b = 0.75\n",
    "    # We ignore the sum including k3 since our queries are typically very short and therefore this part is not needed\n",
    "    score = ((k1+1)*inverted_index[query_term_id][int_document_id])/(k1*((1-b)+b*(document_lengths[int_doc_id]/avg_doc_length) \\\n",
    "            + inverted_index[query_term_id][int_document_id]))*(num_documents/document_term_freq)\n",
    "    \n",
    "    return score\n",
    "\n",
    "#run_retrieval('tfidf_valid', tfidf)\n",
    "#run_retrieval('BM25_valid', BM25)"
   ]
  },
  {
   "cell_type": "markdown",
   "metadata": {},
   "source": [
    "### Langauge models"
   ]
  },
  {
   "cell_type": "code",
   "execution_count": 321,
   "metadata": {
    "collapsed": true
   },
   "outputs": [],
   "source": [
    "col_length = sum(collection_frequencies.values()) #get all counts of terms\n",
    "\n",
    "def JelinekMercer(int_document_id, query_ids, collection_frequencies):\n",
    "    \"\"\"\n",
    "    This function calculates the probability of a query using a LM with Jelinek Mercer smoothing\n",
    "    \"\"\"\n",
    "    lamb = 0.9 #We have to test 0.1/0.5/0.9\n",
    "    query_prob = 1\n",
    "    doc_length = len([i for i in index.document(int_document_id)[1] if i >0]) #get document length of non stopwords\n",
    "    for word_id in query_ids:\n",
    "        try:\n",
    "            word_prob = (1-lamb)*(inverted_index[word_id][int_document_id]/doc_length)\n",
    "        except:\n",
    "            word_prob = 0\n",
    "        word_prob += lamb*(collection_frequencies[word_id]/col_length)\n",
    "        query_prob *= word_prob \n",
    "    return query_prob\n",
    "\n",
    "#run_retrieval('JelinekMercer_valid_0.9', JelinekMercer)"
   ]
  },
  {
   "cell_type": "markdown",
   "metadata": {},
   "source": [
    "Results for JelinekMercer (./trec_eval -m map -m P.5 -m ndcg_cut.10 -m recall.1000 qrel_validation JelinekMercer_valid_0.1.run)\n",
    "\n",
    "Results for $\\lambda = 0.1$ are: map 0.2262, P_5 0.3733, recall_1000 0.6287 and ndcg_cut_10 0.3834.\n",
    "\n",
    "Results for $\\lambda = 0.5$ are: map 0.2249, P_5 0.4067, recall_1000 0.6226 and ndcg_cut_10 0.4011.\n",
    "\n",
    "Results for $\\lambda = 0.9$ are: map 0.1980, P_5 0.3533, recall_1000 0.5825 and ndcg_cut_10 0.3405.\n"
   ]
  },
  {
   "cell_type": "code",
   "execution_count": 322,
   "metadata": {},
   "outputs": [
    {
     "data": {
      "image/png": "[encoded data removed]",
      "text/plain": [
       "<matplotlib.figure.Figure at 0x1485d2be0>"
      ]
     },
     "metadata": {},
     "output_type": "display_data"
    }
   ],
   "source": [
    "import matplotlib.pyplot as plt\n",
    "\n",
    "jelinekmercer_ndcg = [0.3834, 0.4011, 0.3405]\n",
    "jelinekmercer_lamb = [0.1, 0.5, 0.9]\n",
    "plt.plot(jelinekmercer_lamb, jelinekmercer_ndcg)\n",
    "plt.xlabel('Lambda for the Jelinek Mercer model')\n",
    "plt.ylabel('NDCG@10')\n",
    "plt.show()"
   ]
  },
  {
   "cell_type": "code",
   "execution_count": 323,
   "metadata": {
    "collapsed": true
   },
   "outputs": [],
   "source": [
    "def Dirichlet(int_document_id, query_ids, collection_frequencies):\n",
    "    \"\"\"\n",
    "    This function calculates the probability of a query using a LM with Dirichlet smoothing\n",
    "    \"\"\"\n",
    "    mu = 1500 #We have to test 500/1000/1500\n",
    "    query_prob = 1\n",
    "    doc_length = len([i for i in index.document(int_document_id)[1] if i >0]) #get document length of non stopwords \n",
    "    for word_id in query_ids:\n",
    "        try:\n",
    "            word_prob = (doc_length/(mu+doc_length))*(inverted_index[word_id][int_document_id]/doc_length)\n",
    "        except:\n",
    "            word_prob = 0\n",
    "        word_prob += (mu/(mu+doc_length))*(collection_frequencies[word_id]/col_length)\n",
    "        query_prob *= word_prob \n",
    "    return query_prob\n",
    "\n",
    "#run_retrieval('Dirichlet_valid_1500', Dirichlet)"
   ]
  },
  {
   "cell_type": "markdown",
   "metadata": {},
   "source": [
    "Results for Dirichlet (./trec_eval -m map -m P.5 -m ndcg_cut.10 -m recall.1000 qrel_validation Dirichlet_valid_0.1.run)\n",
    "\n",
    "Results for $\\mu = 500$ are: map 0.2252, P_5 0.4000, recall_1000 0.5944 and ndcg_cut_10 0.4007.\n",
    "\n",
    "Results for $\\mu = 1000$ are: map 0.2244, P_5 0.3733, recall_1000 0.5925 and ndcg_cut_10 0.3793.\n",
    "\n",
    "Results for $\\mu = 1500$ are: map 0.2233, P_5 0.3600, recall_1000 0.5854 and ndcg_cut_10 0.3732.\n"
   ]
  },
  {
   "cell_type": "code",
   "execution_count": 324,
   "metadata": {},
   "outputs": [
    {
     "data": {
      "image/png": "[encoded data removed]",
      "text/plain": [
       "<matplotlib.figure.Figure at 0x10d81abe0>"
      ]
     },
     "metadata": {},
     "output_type": "display_data"
    }
   ],
   "source": [
    "dirichlet_ndcg = [0.4007, 0.3793, 0.3732]\n",
    "dirichlet_lamb = [500, 1000, 1500]\n",
    "plt.plot(dirichlet_lamb, dirichlet_ndcg)\n",
    "plt.xlabel('Lambda for the Dirichlet model')\n",
    "plt.ylabel('NDCG@10')\n",
    "plt.show()"
   ]
  },
  {
   "cell_type": "code",
   "execution_count": 325,
   "metadata": {
    "collapsed": true
   },
   "outputs": [],
   "source": [
    "test_query = queries['52']\n",
    "test_document_id = 1\n",
    "import numpy as np\n",
    "\n",
    "def AbsoluteDiscounting(int_document_id, query_ids, collection_frequencies):\n",
    "    \"\"\"\n",
    "    This function calculates the probability of a query using a LM with Absolute discounting\n",
    "    \"\"\"\n",
    "    delta = 0.9 #We have to test 0.1/0.5/0.9\n",
    "    query_prob = 1\n",
    "    doc_length = len([i for i in index.document(int_document_id)[1] if i >0]) #get document length of non stopwords\n",
    "    doc_unique_length = len(np.unique([i for i in index.document(int_document_id)[1] if i >0]))\n",
    "    if doc_length != 0:\n",
    "        sigma = delta*(doc_unique_length/doc_length) \n",
    "    else:\n",
    "        sigma = delta\n",
    "    for word_id in query_ids:\n",
    "        try:\n",
    "            word_prob = max(inverted_index[word_id][int_document_id]-delta,0)/doc_length\n",
    "        except:\n",
    "            word_prob = 0\n",
    "        word_prob += sigma*(collection_frequencies[word_id]/col_length)\n",
    "        query_prob *= word_prob \n",
    "    return query_prob\n",
    "\n",
    "#run_retrieval('AbsoluteDiscounting_valid_0.9', AbsoluteDiscounting)"
   ]
  },
  {
   "cell_type": "markdown",
   "metadata": {},
   "source": [
    "Results for Absolute discounting (./trec_eval -m map -m P.5 -m ndcg_cut.10 -m recall.1000 qrel_validation AbsoluteDiscounting_valid_0.1.run)\n",
    "\n",
    "Results for $\\delta = 0.1$ are: map 0.2180, P_5\t0.3933, recall_1000 0.6145 and ndcg_cut_10 0.3791.\n",
    " \n",
    "Results for $\\delta = 0.5$ are: map 0.2296, P_5 0.4067, recall_1000 0.6424 and ndcg_cut_10 0.3989.\n",
    "\n",
    "Results for $\\delta = 0.9$ are: map 0.2248, P_5 0.3600, recall_1000 0.6231 and ndcg_cut_10 0.3802.\n"
   ]
  },
  {
   "cell_type": "code",
   "execution_count": 326,
   "metadata": {},
   "outputs": [
    {
     "data": {
      "image/png": "[encoded data removed]",
      "text/plain": [
       "<matplotlib.figure.Figure at 0x10d81d908>"
      ]
     },
     "metadata": {},
     "output_type": "display_data"
    }
   ],
   "source": [
    "absdiscounting_ndcg = [0.3791, 0.3989, 0.3802]\n",
    "absdiscounting_lamb = [0.1, 0.5, 0.9]\n",
    "plt.plot(absdiscounting_lamb, absdiscounting_ndcg)\n",
    "plt.xlabel('Lambda for the Absolute Discounting model')\n",
    "plt.ylabel('NDCG@10')\n",
    "plt.show()"
   ]
  },
  {
   "cell_type": "markdown",
   "metadata": {},
   "source": [
    "### Positional Language Model"
   ]
  },
  {
   "cell_type": "code",
   "execution_count": 327,
   "metadata": {
    "collapsed": true
   },
   "outputs": [],
   "source": [
    "def plm(int_document_id,query,kernel,collection_frequencies,mu):\n",
    "    \"\"\"\n",
    "    This functon returns the maximum value in the document using a positinal language model with 5 different kernels.\n",
    "    We also use dirichlet smoothing with the paramter mu.\n",
    "    \"\"\"\n",
    "    sigma = 50\n",
    "    denom = 0\n",
    "    score = 0\n",
    "    \n",
    "    unique_query_term_ids = set(query)\n",
    "    _, doc_token_ids = index.document(int_document_id)\n",
    "    if len(doc_token_ids) == 0:\n",
    "        return 0\n",
    "    scores = np.zeros(len(doc_token_ids))\n",
    "\n",
    "    if kernel == \"Gaussian\":\n",
    "        for i in range(0,len(doc_token_ids)):\n",
    "            if doc_token_ids[i] in unique_query_term_ids:\n",
    "                for j in range(0,len(doc_token_ids)):\n",
    "                    score = 1*np.exp(-(i-j)**2/(2*sigma**2))+mu*(collection_frequencies[doc_token_ids[i]]/total_terms)\n",
    "                    denom = 1*np.exp(-(i-j)**2/(2*sigma**2))+mu\n",
    "                    scores[j] += score\n",
    "                    score = 0\n",
    "    else:\n",
    "        for i in range(0,len(doc_token_ids)):\n",
    "            if doc_token_ids[i] in unique_query_term_ids:\n",
    "                for j in range(max(0,i-50),min(i+sigma,len(doc_token_ids))): \n",
    "                #in order to make it faster we only check the relevant indices given by sigma\n",
    "                    if kernel == 'Triangle':\n",
    "                        a = 1-(abs(j-i)/sigma)\n",
    "                        score = (1*a)+mu*(collection_frequencies[doc_token_ids[i]]/total_terms)\n",
    "                        denom = 1*np.exp(-(j-i)**2/(2*sigma**2))+mu\n",
    "                        scores[j] += score\n",
    "                        score = 0\n",
    "                    if kernel == 'Hamming':\n",
    "                        a = 1/2*(1+np.cos(abs(j-i)*np.pi/sigma))\n",
    "                        score = (1*a)+mu*(collection_frequencies[doc_token_ids[i]]/total_terms)\n",
    "                        denom = 1*np.exp(-(j-i)**2/(2*sigma**2))+mu\n",
    "                        scores[j] += score\n",
    "                        score = 0\n",
    "                    if kernel == 'Circle':\n",
    "                        a = np.sqrt(1-(abs(j-i)/sigma)**2)\n",
    "                        score = (1*a)+mu*(collection_frequencies[doc_token_ids[i]]/total_terms)\n",
    "                        denom = 1*np.exp(-(j-i)**2/(2*sigma**2))+mu\n",
    "                        scores[j] += score\n",
    "                        score = 0\n",
    "                    if kernel == 'Passage':\n",
    "                        score = 1++mu*(collection_frequencies[doc_token_ids[i]]/total_terms)\n",
    "                        denom = 1*np.exp(-(j-i)**2/(2*sigma**2))+mu\n",
    "                        scores[j] += score\n",
    "                        score = 0\n",
    "\n",
    "    return max(scores)\n",
    "\n",
    "#run_retrieval('plm', plm)"
   ]
  },
  {
   "cell_type": "markdown",
   "metadata": {},
   "source": [
    "### Significance testing"
   ]
  },
  {
   "cell_type": "code",
   "execution_count": 328,
   "metadata": {
    "collapsed": true
   },
   "outputs": [],
   "source": [
    "#Subprocess\n",
    "import os\n",
    "from subprocess import Popen, PIPE\n",
    "import shutil\n",
    "import re\n",
    "\n",
    "def plm_subprocess(plm_dict_all, plm_dict_avg, kernel, mu):\n",
    "    run_retrieval('plm', plm, kernel, mu)\n",
    "    shutil.move(\"./plm.run\", \"./trec_eval/plm.run\")\n",
    "    proc1 = Popen ('./plm.sh',shell=True,stdout = PIPE)\n",
    "    out, err = proc1.communicate()\n",
    "    var = out.decode('utf-8').split('\\t')\n",
    "    results = []\n",
    "    for v in var:\n",
    "        if v[:2] == '0.':\n",
    "            results.append(float(v[:6]))\n",
    "    name = kernel+\"-\"+str(mu)\n",
    "    plm_dict_all[name] = results[:-1]\n",
    "    plm_dict_avg[name] = results[-1]\n",
    "    os.remove(\"./trec_eval/plm.run\")\n",
    "    return plm_dict_all , plm_dict_avg"
   ]
  },
  {
   "cell_type": "code",
   "execution_count": 330,
   "metadata": {},
   "outputs": [
    {
     "name": "stdout",
     "output_type": "stream",
     "text": [
      "Evaluating the PLM model for a  Gaussian  kernel and a mu of:  0\n",
      "Retrieving using plm\n"
     ]
    },
    {
     "ename": "KeyboardInterrupt",
     "evalue": "",
     "output_type": "error",
     "traceback": [
      "\u001b[0;31m---------------------------------------------------------------------------\u001b[0m",
      "\u001b[0;31mKeyboardInterrupt\u001b[0m                         Traceback (most recent call last)",
      "\u001b[0;32m<ipython-input-330-62416c74c4cb>\u001b[0m in \u001b[0;36m<module>\u001b[0;34m()\u001b[0m\n\u001b[1;32m      9\u001b[0m     \u001b[0;32mfor\u001b[0m \u001b[0mkernel\u001b[0m \u001b[0;32min\u001b[0m \u001b[0mkernels\u001b[0m\u001b[0;34m:\u001b[0m\u001b[0;34m\u001b[0m\u001b[0m\n\u001b[1;32m     10\u001b[0m         \u001b[0mprint\u001b[0m\u001b[0;34m(\u001b[0m\u001b[0;34m\"Evaluating the PLM model for a \"\u001b[0m\u001b[0;34m,\u001b[0m\u001b[0mkernel\u001b[0m\u001b[0;34m,\u001b[0m\u001b[0;34m\" kernel and a mu of: \"\u001b[0m\u001b[0;34m,\u001b[0m\u001b[0mmu\u001b[0m\u001b[0;34m)\u001b[0m\u001b[0;34m\u001b[0m\u001b[0m\n\u001b[0;32m---> 11\u001b[0;31m         \u001b[0mplm_dict_all\u001b[0m\u001b[0;34m,\u001b[0m \u001b[0mplm_dict_avg\u001b[0m \u001b[0;34m=\u001b[0m \u001b[0mplm_subprocess\u001b[0m\u001b[0;34m(\u001b[0m\u001b[0mplm_dict_all\u001b[0m\u001b[0;34m,\u001b[0m \u001b[0mplm_dict_avg\u001b[0m\u001b[0;34m,\u001b[0m \u001b[0mkernel\u001b[0m\u001b[0;34m,\u001b[0m \u001b[0mmu\u001b[0m\u001b[0;34m)\u001b[0m\u001b[0;34m\u001b[0m\u001b[0m\n\u001b[0m\u001b[1;32m     12\u001b[0m         \u001b[0;32mwith\u001b[0m \u001b[0mopen\u001b[0m\u001b[0;34m(\u001b[0m\u001b[0;34m'plm_dict_all.pickle'\u001b[0m\u001b[0;34m,\u001b[0m \u001b[0;34m'wb'\u001b[0m\u001b[0;34m)\u001b[0m \u001b[0;32mas\u001b[0m \u001b[0mhandle\u001b[0m\u001b[0;34m:\u001b[0m\u001b[0;34m\u001b[0m\u001b[0m\n\u001b[1;32m     13\u001b[0m             \u001b[0mpickle\u001b[0m\u001b[0;34m.\u001b[0m\u001b[0mdump\u001b[0m\u001b[0;34m(\u001b[0m\u001b[0mplm_dict_all\u001b[0m\u001b[0;34m,\u001b[0m \u001b[0mhandle\u001b[0m\u001b[0;34m,\u001b[0m \u001b[0mprotocol\u001b[0m\u001b[0;34m=\u001b[0m\u001b[0mpickle\u001b[0m\u001b[0;34m.\u001b[0m\u001b[0mHIGHEST_PROTOCOL\u001b[0m\u001b[0;34m)\u001b[0m\u001b[0;34m\u001b[0m\u001b[0m\n",
      "\u001b[0;32m<ipython-input-328-4907f1ddb7d0>\u001b[0m in \u001b[0;36mplm_subprocess\u001b[0;34m(plm_dict_all, plm_dict_avg, kernel, mu)\u001b[0m\n\u001b[1;32m      6\u001b[0m \u001b[0;34m\u001b[0m\u001b[0m\n\u001b[1;32m      7\u001b[0m \u001b[0;32mdef\u001b[0m \u001b[0mplm_subprocess\u001b[0m\u001b[0;34m(\u001b[0m\u001b[0mplm_dict_all\u001b[0m\u001b[0;34m,\u001b[0m \u001b[0mplm_dict_avg\u001b[0m\u001b[0;34m,\u001b[0m \u001b[0mkernel\u001b[0m\u001b[0;34m,\u001b[0m \u001b[0mmu\u001b[0m\u001b[0;34m)\u001b[0m\u001b[0;34m:\u001b[0m\u001b[0;34m\u001b[0m\u001b[0m\n\u001b[0;32m----> 8\u001b[0;31m     \u001b[0mrun_retrieval\u001b[0m\u001b[0;34m(\u001b[0m\u001b[0;34m'plm'\u001b[0m\u001b[0;34m,\u001b[0m \u001b[0mplm\u001b[0m\u001b[0;34m,\u001b[0m \u001b[0mkernel\u001b[0m\u001b[0;34m,\u001b[0m \u001b[0mmu\u001b[0m\u001b[0;34m)\u001b[0m\u001b[0;34m\u001b[0m\u001b[0m\n\u001b[0m\u001b[1;32m      9\u001b[0m     \u001b[0mshutil\u001b[0m\u001b[0;34m.\u001b[0m\u001b[0mmove\u001b[0m\u001b[0;34m(\u001b[0m\u001b[0;34m\"./plm.run\"\u001b[0m\u001b[0;34m,\u001b[0m \u001b[0;34m\"./trec_eval/plm.run\"\u001b[0m\u001b[0;34m)\u001b[0m\u001b[0;34m\u001b[0m\u001b[0m\n\u001b[1;32m     10\u001b[0m     \u001b[0mproc1\u001b[0m \u001b[0;34m=\u001b[0m \u001b[0mPopen\u001b[0m \u001b[0;34m(\u001b[0m\u001b[0;34m'./plm.sh'\u001b[0m\u001b[0;34m,\u001b[0m\u001b[0mshell\u001b[0m\u001b[0;34m=\u001b[0m\u001b[0;32mTrue\u001b[0m\u001b[0;34m,\u001b[0m\u001b[0mstdout\u001b[0m \u001b[0;34m=\u001b[0m \u001b[0mPIPE\u001b[0m\u001b[0;34m)\u001b[0m\u001b[0;34m\u001b[0m\u001b[0m\n",
      "\u001b[0;32m<ipython-input-319-f01a3a1ea6cc>\u001b[0m in \u001b[0;36mrun_retrieval\u001b[0;34m(model_name, score_fn, plm_kernel, mu)\u001b[0m\n\u001b[1;32m     44\u001b[0m                 \u001b[0;32mfor\u001b[0m \u001b[0mint_doc_id\u001b[0m \u001b[0;32min\u001b[0m \u001b[0mrange\u001b[0m\u001b[0;34m(\u001b[0m\u001b[0mindex\u001b[0m\u001b[0;34m.\u001b[0m\u001b[0mdocument_base\u001b[0m\u001b[0;34m(\u001b[0m\u001b[0;34m)\u001b[0m\u001b[0;34m,\u001b[0m \u001b[0mindex\u001b[0m\u001b[0;34m.\u001b[0m\u001b[0mmaximum_document\u001b[0m\u001b[0;34m(\u001b[0m\u001b[0;34m)\u001b[0m\u001b[0;34m)\u001b[0m\u001b[0;34m:\u001b[0m\u001b[0;34m\u001b[0m\u001b[0m\n\u001b[1;32m     45\u001b[0m                     \u001b[0mexternal_document_id\u001b[0m\u001b[0;34m,\u001b[0m\u001b[0m_\u001b[0m \u001b[0;34m=\u001b[0m \u001b[0mindex\u001b[0m\u001b[0;34m.\u001b[0m\u001b[0mdocument\u001b[0m\u001b[0;34m(\u001b[0m\u001b[0mint_doc_id\u001b[0m\u001b[0;34m)\u001b[0m \u001b[0;31m#Get the external doc id for this document\u001b[0m\u001b[0;34m\u001b[0m\u001b[0m\n\u001b[0;32m---> 46\u001b[0;31m                     \u001b[0mscore\u001b[0m \u001b[0;34m=\u001b[0m \u001b[0mscore_fn\u001b[0m\u001b[0;34m(\u001b[0m\u001b[0mint_doc_id\u001b[0m\u001b[0;34m,\u001b[0m \u001b[0mquery_ids\u001b[0m\u001b[0;34m,\u001b[0m \u001b[0mplm_kernel\u001b[0m\u001b[0;34m,\u001b[0m\u001b[0mcollection_frequencies\u001b[0m\u001b[0;34m,\u001b[0m\u001b[0mmu\u001b[0m\u001b[0;34m)\u001b[0m\u001b[0;34m\u001b[0m\u001b[0m\n\u001b[0m\u001b[1;32m     47\u001b[0m                     \u001b[0;32mif\u001b[0m \u001b[0mquery_id\u001b[0m \u001b[0;32min\u001b[0m \u001b[0mdata\u001b[0m\u001b[0;34m.\u001b[0m\u001b[0mkeys\u001b[0m\u001b[0;34m(\u001b[0m\u001b[0;34m)\u001b[0m\u001b[0;34m:\u001b[0m\u001b[0;34m\u001b[0m\u001b[0m\n\u001b[1;32m     48\u001b[0m                         \u001b[0mdata\u001b[0m\u001b[0;34m[\u001b[0m\u001b[0mquery_id\u001b[0m\u001b[0;34m]\u001b[0m\u001b[0;34m.\u001b[0m\u001b[0mappend\u001b[0m\u001b[0;34m(\u001b[0m\u001b[0;34m(\u001b[0m\u001b[0mtuple\u001b[0m\u001b[0;34m(\u001b[0m\u001b[0;34m[\u001b[0m\u001b[0mscore\u001b[0m\u001b[0;34m,\u001b[0m\u001b[0mstr\u001b[0m\u001b[0;34m(\u001b[0m\u001b[0mexternal_document_id\u001b[0m\u001b[0;34m)\u001b[0m\u001b[0;34m]\u001b[0m\u001b[0;34m)\u001b[0m\u001b[0;34m)\u001b[0m\u001b[0;34m)\u001b[0m\u001b[0;34m\u001b[0m\u001b[0m\n",
      "\u001b[0;32m<ipython-input-327-784097e403e0>\u001b[0m in \u001b[0;36mplm\u001b[0;34m(int_document_id, query, kernel, collection_frequencies, mu)\u001b[0m\n\u001b[1;32m     15\u001b[0m \u001b[0;34m\u001b[0m\u001b[0m\n\u001b[1;32m     16\u001b[0m     \u001b[0;32mif\u001b[0m \u001b[0mkernel\u001b[0m \u001b[0;34m==\u001b[0m \u001b[0;34m\"Gaussian\"\u001b[0m\u001b[0;34m:\u001b[0m\u001b[0;34m\u001b[0m\u001b[0m\n\u001b[0;32m---> 17\u001b[0;31m         \u001b[0;32mfor\u001b[0m \u001b[0mi\u001b[0m \u001b[0;32min\u001b[0m \u001b[0mrange\u001b[0m\u001b[0;34m(\u001b[0m\u001b[0;36m0\u001b[0m\u001b[0;34m,\u001b[0m\u001b[0mlen\u001b[0m\u001b[0;34m(\u001b[0m\u001b[0mdoc_token_ids\u001b[0m\u001b[0;34m)\u001b[0m\u001b[0;34m)\u001b[0m\u001b[0;34m:\u001b[0m\u001b[0;34m\u001b[0m\u001b[0m\n\u001b[0m\u001b[1;32m     18\u001b[0m             \u001b[0;32mif\u001b[0m \u001b[0mdoc_token_ids\u001b[0m\u001b[0;34m[\u001b[0m\u001b[0mi\u001b[0m\u001b[0;34m]\u001b[0m \u001b[0;32min\u001b[0m \u001b[0munique_query_term_ids\u001b[0m\u001b[0;34m:\u001b[0m\u001b[0;34m\u001b[0m\u001b[0m\n\u001b[1;32m     19\u001b[0m                 \u001b[0;32mfor\u001b[0m \u001b[0mj\u001b[0m \u001b[0;32min\u001b[0m \u001b[0mrange\u001b[0m\u001b[0;34m(\u001b[0m\u001b[0;36m0\u001b[0m\u001b[0;34m,\u001b[0m\u001b[0mlen\u001b[0m\u001b[0;34m(\u001b[0m\u001b[0mdoc_token_ids\u001b[0m\u001b[0;34m)\u001b[0m\u001b[0;34m)\u001b[0m\u001b[0;34m:\u001b[0m\u001b[0;34m\u001b[0m\u001b[0m\n",
      "\u001b[0;31mKeyboardInterrupt\u001b[0m: "
     ]
    }
   ],
   "source": [
    "import pickle\n",
    "\n",
    "plm_mu = np.arange(0,2200,200)\n",
    "kernels = [\"Gaussian\", \"Triangle\", \"Hamming\", \"Circle\", \"Passage\"]\n",
    "plm_dict_all = {}\n",
    "plm_dict_avg = {}\n",
    "\n",
    "for mu in plm_mu:\n",
    "    for kernel in kernels:\n",
    "        print(\"Evaluating the PLM model for a \",kernel,\" kernel and a mu of: \",mu)\n",
    "        plm_dict_all, plm_dict_avg = plm_subprocess(plm_dict_all, plm_dict_avg, kernel, mu)\n",
    "        with open('plm_dict_all.pickle', 'wb') as handle:\n",
    "            pickle.dump(plm_dict_all, handle, protocol=pickle.HIGHEST_PROTOCOL)\n",
    "        with open('plm_dict_avg.pickle', 'wb') as handle:\n",
    "            pickle.dump(plm_dict_avg, handle, protocol=pickle.HIGHEST_PROTOCOL)"
   ]
  },
  {
   "cell_type": "code",
   "execution_count": 331,
   "metadata": {},
   "outputs": [
    {
     "data": {
      "image/png": "[encoded data removed]",
      "text/plain": [
       "<matplotlib.figure.Figure at 0x10e9104e0>"
      ]
     },
     "metadata": {},
     "output_type": "display_data"
    }
   ],
   "source": [
    "with open('plm_dict_avg.pickle', 'rb') as handle:\n",
    "    plm_dict_avg = pickle.load(handle)\n",
    "mu_dict = {}\n",
    "avg_dict = {}\n",
    "for key, value in plm_dict_avg.items():\n",
    "    key_split = key.split('-')\n",
    "    try:\n",
    "        mu_dict[key_split[0]].append(key_split[1])\n",
    "        avg_dict[key_split[0]].append(value)\n",
    "    except:\n",
    "        mu_dict[key_split[0]] = [key_split[1]]\n",
    "        avg_dict[key_split[0]] = [value]\n",
    "\n",
    "mu_template = [0, 200, 400, 600, 800]\n",
    "for key, value in avg_dict.items():\n",
    "    mu = mu_dict[key]\n",
    "    val = []\n",
    "    for m in mu_template:\n",
    "        idx = mu.index(str(m))\n",
    "        val.append(value[idx])  \n",
    "    plt.plot(mu_template, val, label=key)\n",
    "\n",
    "plt.legend()\n",
    "plt.ylabel('NDCG@10')\n",
    "plt.xlabel('Smoothing factor mu')\n",
    "plt.show()"
   ]
  },
  {
   "cell_type": "code",
   "execution_count": 332,
   "metadata": {},
   "outputs": [
    {
     "data": {
      "text/plain": [
       "'\\nresults_dict = {}\\nrun_retrieval(\\'tfidf\\', tfidf)\\nresults_dict = results_subprocess(\\'tfidf\\', results_dict)\\nprint(results_dict)\\n\\nrun_retrieval(\\'BM25\\', BM25)\\nresults_dict = results_subprocess(\\'BM25\\', results_dict)\\n\\nrun_retrieval(\\'JelinekMercer\\', JelinekMercer)\\nresults_dict = results_subprocess(\\'JelinekMercer\\', results_dict)\\n\\nrun_retrieval(\\'Dirichlet\\', Dirichlet)\\nresults_dict = results_subprocess(\\'Dirichlet\\', results_dict)\\n\\nrun_retrieval(\\'AbsoluteDiscounting\\', AbsoluteDiscounting)\\nresults_dict = results_subprocess(\\'AbsoluteDiscounting\\', results_dict)\\n\\nrun_retrieval(\\'plm\\', plm, \"Triangle\", 0)\\nresults_dict = results_subprocess(\\'plm\\', results_dict)\\n'"
      ]
     },
     "execution_count": 332,
     "metadata": {},
     "output_type": "execute_result"
    }
   ],
   "source": [
    "def results_subprocess(model_name, results_dict):\n",
    "    \"\"\"\n",
    "    This function is used to generate the run files we used to be able to do significane testing.\n",
    "    Since this takes hours, we included the run files themselves as well as pickle dump files\n",
    "    so that you are able to recreate the data if necessary\n",
    "    \"\"\"\n",
    "    file_orig = \"./\"+model_name+\".run\"\n",
    "    shutil.move(file_orig, \"./trec_eval/results.run\")\n",
    "    proc1 = Popen ('./results.sh',shell=True,stdout = PIPE)\n",
    "    out, err = proc1.communicate()\n",
    "    var = out.decode('utf-8').split('\\n')\n",
    "    for v in var:\n",
    "        split = v.split('\\t')\n",
    "        if len(split) == 3 and split[1] != 'all':\n",
    "            try:\n",
    "                results_dict[(model_name, split[0].strip())].append(float(split[2]))\n",
    "            except:\n",
    "                results_dict[(model_name, split[0].strip())] = [float(split[2])]\n",
    "    os.remove(\"./trec_eval/results.run\")\n",
    "    with open('results_dict.pickle', 'wb') as handle:\n",
    "            pickle.dump(results_dict, handle, protocol=pickle.HIGHEST_PROTOCOL)\n",
    "    return results_dict\n",
    "\"\"\"\n",
    "results_dict = {}\n",
    "run_retrieval('tfidf', tfidf)\n",
    "results_dict = results_subprocess('tfidf', results_dict)\n",
    "print(results_dict)\n",
    "\n",
    "run_retrieval('BM25', BM25)\n",
    "results_dict = results_subprocess('BM25', results_dict)\n",
    "\n",
    "run_retrieval('JelinekMercer', JelinekMercer)\n",
    "results_dict = results_subprocess('JelinekMercer', results_dict)\n",
    "\n",
    "run_retrieval('Dirichlet', Dirichlet)\n",
    "results_dict = results_subprocess('Dirichlet', results_dict)\n",
    "\n",
    "run_retrieval('AbsoluteDiscounting', AbsoluteDiscounting)\n",
    "results_dict = results_subprocess('AbsoluteDiscounting', results_dict)\n",
    "\n",
    "run_retrieval('plm', plm, \"Triangle\", 0)\n",
    "results_dict = results_subprocess('plm', results_dict)\n",
    "\"\"\""
   ]
  },
  {
   "cell_type": "code",
   "execution_count": 333,
   "metadata": {
    "scrolled": false
   },
   "outputs": [
    {
     "name": "stdout",
     "output_type": "stream",
     "text": [
      "Checking significance of all results with alpha equal to 0.0008545229269492083\n",
      "T-test on Dirichlet and AbsoluteDiscounting with recall_1000 gave a significant difference with a p-value of 0.000404\n",
      "The means of these models and this metric are  0.5943666666666668 for Dirichlet and 0.6424199999999998 for AbsoluteDiscounting\n"
     ]
    }
   ],
   "source": [
    "from scipy import stats\n",
    "def check_significance(a):\n",
    "    \"\"\"\"\n",
    "    Check significane of all models using a t-test. The alpha parameter specifies the alpha value used.\n",
    "    1 is used for an alpha of 0.05, 2 for Bonferroni correction and 3 for Sidak correction.\n",
    "    \"\"\"\n",
    "    models = ['JelinekMercer','tfidf','BM25','Dirichlet','AbsoluteDiscounting','plm']\n",
    "    metrics = ['P_5','ndcg_cut_10','map','recall_1000']\n",
    "    tested = []\n",
    "\n",
    "    with open('results_dict.pickle', 'rb') as handle:\n",
    "        data_dict = pickle.load(handle)\n",
    "        \n",
    "    alpha = 0.05\n",
    "    m = 60.0\n",
    "    \n",
    "    if a == 1:\n",
    "        alpha = 0.05\n",
    "    elif a == 2:\n",
    "        alpha = alpha/m #Bonferroni correction\n",
    "    elif a == 3:\n",
    "        alpha = 1-(1-alpha)**(1/m) #Šidák correction\n",
    "\n",
    "    print(\"Checking significance of all results with alpha equal to\", alpha)\n",
    "    \n",
    "    for metric in metrics:\n",
    "        for model1 in models:\n",
    "            for model2 in models:\n",
    "                if model1 != model2 and (model1,model2,metric) not in tested and (model2,model1,metric) not in tested:\n",
    "                    t_test = stats.ttest_rel(data_dict[(model1,metric)], data_dict[(model2,metric)])\n",
    "                    tested.append((model1,model2,metric))\n",
    "                    tested.append((model2,model1,metric))\n",
    "                    if t_test[1] < alpha:\n",
    "                        print('T-test on %s and %s with %s gave a significant difference with a p-value of %f' % (model1,model2,metric,t_test[1]))\n",
    "                        print('The means of these models and this metric are ', np.mean(data_dict[(model1,metric)]), 'for', model1, 'and' , np.mean(data_dict[(model2,metric)]), 'for', model2)\n",
    "check_significance(3)"
   ]
  },
  {
   "cell_type": "markdown",
   "metadata": {},
   "source": [
    "Here we analyse the results of the t-tests conducted. When we not correct for the multiple-comparison problem we see a lot of significant results. However, when we do control for it using both Sidak an Bonferroni correction we see only one significant difference. This is with two langauge models one using Dirichlet smoothing and the other absolute discounting using the recall at 1000 evaluation metric. When we look at the values, we see that the model using absolute discounting is significantly better."
   ]
  },
  {
   "cell_type": "markdown",
   "metadata": {},
   "source": [
    "### Analyse queries"
   ]
  },
  {
   "cell_type": "code",
   "execution_count": 334,
   "metadata": {},
   "outputs": [
    {
     "name": "stdout",
     "output_type": "stream",
     "text": [
      "Function call 1\n",
      "Average query length is  5.0\n",
      "Average length of queries where model1 outperofrms model2 : 5.7\n",
      "Average length of queries where model2 outperofrms model1 : 3.6\n",
      "\n",
      "\n",
      "Function call 2-5\n",
      "Average query length is  5.0\n",
      "Average length of queries where model1 outperofrms model2 : 4.7368421052631575\n",
      "Average length of queries where model2 outperofrms model1 : 5.454545454545454\n",
      "Average query length is  5.0\n",
      "Average length of queries where model1 outperofrms model2 : 4.631578947368421\n",
      "Average length of queries where model2 outperofrms model1 : 5.636363636363637\n",
      "Average query length is  5.0\n",
      "Average length of queries where model1 outperofrms model2 : 4.444444444444445\n",
      "Average length of queries where model2 outperofrms model1 : 5.833333333333333\n",
      "Average query length is  5.0\n",
      "Average length of queries where model1 outperofrms model2 : 3.5454545454545454\n",
      "Average length of queries where model2 outperofrms model1 : 5.842105263157895\n",
      "\n",
      "\n",
      "Function call 6\n",
      "Average query length is  5.0\n",
      "Average length of queries where model1 outperofrms model2 : 5.625\n",
      "Average length of queries where model2 outperofrms model1 : 4.285714285714286\n",
      "\n",
      "\n",
      "Function call 7-9\n",
      "Average number of occurences of query words where model1 outperofrms model2 : 3840.529220779221\n",
      "Average number of occurences of query words when model2 outperofrms model1 : 9939.851792859341\n",
      "Average number of occurences of query words where model1 outperofrms model2 : 6487.368165784832\n",
      "Average number of occurences of query words when model2 outperofrms model1 : 9527.531542397663\n",
      "Average number of occurences of query words where model1 outperofrms model2 : 7973.372161172162\n",
      "Average number of occurences of query words when model2 outperofrms model1 : 7497.0098469212235\n"
     ]
    }
   ],
   "source": [
    "#First we have a look at the most significant difference between the models as found above.\n",
    "valid_queries = []\n",
    "for query_id, query_text in queries.items():\n",
    "    if query_id in valid_query_ids:\n",
    "        valid_queries.append(query_text)\n",
    "        \n",
    "def find_query_length_difference(model_metric_1,model_metric_2):\n",
    "\n",
    "    length = 0  \n",
    "    for query in valid_queries:\n",
    "        length += len(query.split())\n",
    "    print(\"Average query length is \",(length/len(valid_queries)))\n",
    "\n",
    "    difference = []\n",
    "    for i in range(0,len(model_metric_1)):\n",
    "        difference.append(model_metric_1[i]-model_metric_2[i])\n",
    "\n",
    "    average_difference = np.mean(difference)\n",
    "    length1 = []\n",
    "    length2 = []\n",
    "    for i in range(0,len(difference)):\n",
    "        if difference[i] > average_difference:\n",
    "            length1.append(len(valid_queries[i].split()))\n",
    "        elif difference[i] < average_difference:\n",
    "            length2.append(len(valid_queries[i].split()))\n",
    "    print('Average length of queries where model1 outperofrms model2 :',  np.mean(length1))\n",
    "    print('Average length of queries where model2 outperofrms model1 :',  np.mean(length2))\n",
    " \n",
    "\n",
    "def query_word_occurences(model_metric_1,model_metric_2):\n",
    "    splitted_queries = []\n",
    "    difference = []\n",
    "    length1 = []\n",
    "    length2 = []\n",
    "    for query_id, query in queries.items():\n",
    "        if query_id in valid_query_ids:\n",
    "            splitted_queries.append(list(query.split()))\n",
    "    query_occurences = []\n",
    "    for q in splitted_queries:\n",
    "        total_terms = 0\n",
    "        for word in q:\n",
    "            if word.lower() in token2id:\n",
    "                total_terms += collection_frequencies[token2id[word.lower()]]\n",
    "        query_occurences.append(total_terms/len(q))\n",
    "    \n",
    "    for i in range(0,len(model_metric_1)):\n",
    "        difference.append(model_metric_1[i]-model_metric_2[i])\n",
    "    average_difference = np.mean(difference)\n",
    "\n",
    "    for i in range(0,len(difference)):\n",
    "        if difference[i] > average_difference:\n",
    "            length1.append(query_occurences[i])\n",
    "        elif difference[i] < average_difference:\n",
    "            length2.append(query_occurences[i])\n",
    "\n",
    "    print('Average number of occurences of query words where model1 outperofrms model2 :',  np.mean(length1))\n",
    "    print('Average number of occurences of query words when model2 outperofrms model1 :',  np.mean(length2))\n",
    "    \n",
    "print(\"Function call 1\")  \n",
    "find_query_length_difference(data_dict[('BM25','ndcg_cut_10')],data_dict[('tfidf','ndcg_cut_10')])\n",
    "print('\\n')\n",
    "print(\"Function call 2-5\")  \n",
    "find_query_length_difference(data_dict[('BM25','ndcg_cut_10')],data_dict[('Dirichlet','ndcg_cut_10')])\n",
    "find_query_length_difference(data_dict[('BM25','ndcg_cut_10')],data_dict[('JelinekMercer','ndcg_cut_10')])\n",
    "find_query_length_difference(data_dict[('BM25','ndcg_cut_10')],data_dict[('AbsoluteDiscounting','ndcg_cut_10')])\n",
    "find_query_length_difference(data_dict[('BM25','ndcg_cut_10')],data_dict[('plm','ndcg_cut_10')])\n",
    "print(\"\\n\")\n",
    "print(\"Function call 6\")\n",
    "find_query_length_difference(data_dict[('plm','ndcg_cut_10')],data_dict[('JelinekMercer','ndcg_cut_10')])\n",
    "print(\"\\n\")\n",
    "print(\"Function call 7-9\")\n",
    "query_word_occurences(data_dict[('BM25','ndcg_cut_10')],data_dict[('plm','ndcg_cut_10')])\n",
    "query_word_occurences(data_dict[('BM25','ndcg_cut_10')],data_dict[('AbsoluteDiscounting','ndcg_cut_10')])\n",
    "query_word_occurences(data_dict[('tfidf','ndcg_cut_10')],data_dict[('plm','ndcg_cut_10')])"
   ]
  },
  {
   "cell_type": "markdown",
   "metadata": {},
   "source": [
    "### Query length\n",
    "#### Function call 1:\n",
    "The difference in average query length when one model wins for BM25 and TFIDF and NDCG@10 we see that BM25 is better at longer queries. This is line with expectation since this model normalizes for query length. \n",
    "\n",
    "#### Function call 2-5:\n",
    "Here we see that language models outperform BM25 on longer queries. We are not entirely sure why this is the case, but we think this is caused by the fact that langauge models profit from more words since it becomes better at estimating the probabilities while this does not hold for BM25.\n",
    "\n",
    "#### Function call 6:\n",
    "Here we see that the positional language model works better for longer queries compared with the language model using Dirichlet smoothing. When a query only contains one word, the added value of PLM vanishes and it simply is a check whether the word occurs in a document. The longer a query gets, the more added value the PLM adds using its kernel.\n",
    "\n",
    "\n",
    "### Occurences of query words in text\n",
    "#### Function call 7-9:\n",
    "Here we see that langauge models outperform BM25 whenever the number of occurences of the query terms in the documents is relatively high. This is in line with expectations, since these models need a lot of evidence in order to determine the (correct) probabilities of word sequences. While BM25 does not need this and therefore outperform langauge models when we have query terms that are relatively unique (do not occur very often in the collection of documents). Also interesting is that this does not hold for the TFIDF model."
   ]
  },
  {
   "cell_type": "markdown",
   "metadata": {},
   "source": [
    "### Task 2: Latent Semantic Models (LSMs) [15 points] ###\n",
    "\n",
    "In this task you will experiment with applying distributional semantics methods ([LSI](http://lsa3.colorado.edu/papers/JASIS.lsi.90.pdf) **[5 points]** and [LDA](https://www.cs.princeton.edu/~blei/papers/BleiNgJordan2003.pdf) **[5 points]**) for retrieval.\n",
    "\n",
    "You do not need to implement LSI or LDA on your own. Instead, you can use [gensim](http://radimrehurek.com/gensim/index.html). An example on how to integrate Pyndri with Gensim for word2vec can be found [here](https://github.com/cvangysel/pyndri/blob/master/examples/word2vec.py). For the remaining latent vector space models, you will need to implement connector classes (such as `IndriSentences`) by yourself.\n",
    "\n",
    "In order to use a latent semantic model for retrieval, you need to:\n",
    "   * build a representation of the query **q**,\n",
    "   * build a representation of the document **d**,\n",
    "   * calculate the similarity between **q** and **d** (e.g., cosine similarity, KL-divergence).\n",
    "     \n",
    "The exact implementation here depends on the latent semantic model you are using. \n",
    "   \n",
    "Each of these LSMs come with various hyperparameters to tune. Make a choice on the parameters, and explicitly mention the reasons that led you to these decisions. You can use the validation set to optimize hyper parameters you see fit; motivate your decisions. In addition, mention clearly how the query/document representations were constructed for each LSM and explain your choices.\n",
    "\n",
    "In this experiment, you will first obtain an initial top-1000 ranking for each query using TF-IDF in **Task 1**, and then re-rank the documents using the LSMs. Use TREC Eval to obtain the results and report on `NDCG@10`, Mean Average Precision (`MAP@1000`), `Precision@5` and `Recall@1000`.\n",
    "\n",
    "Perform significance testing **[5 points]** (similar as in Task 1) in the class of semantic matching methods."
   ]
  },
  {
   "cell_type": "code",
   "execution_count": null,
   "metadata": {
    "collapsed": true
   },
   "outputs": [],
   "source": [
    "from gensim.models.keyedvectors import KeyedVectors\n",
    "import pyndri.compat\n",
    "import gensim\n",
    "from gensim import corpora, models\n",
    "import scipy.spatial.distance as ssd\n",
    "import random\n",
    "import copy\n",
    "from scipy import stats\n",
    "from operator import itemgetter\n",
    "import numpy as np\n",
    "import os\n",
    "from subprocess import Popen, PIPE"
   ]
  },
  {
   "cell_type": "code",
   "execution_count": null,
   "metadata": {
    "collapsed": true
   },
   "outputs": [],
   "source": [
    "# Helper cell, that returns two dictionaries. These dictionaries can be used to convert \n",
    "# docIDs to external docIDs. Internal docIDS are 1,2,3,...,164597\n",
    "# external docIDs are AP-XXXXXX-XXXX\n",
    "\n",
    "ext2int_ids = {}\n",
    "int2ext_ids = {}\n",
    "        \n",
    "for int_doc_id in range(index.document_base(), index.maximum_document()):\n",
    "    ext_doc_id, _ = index.document(int_doc_id)\n",
    "    ext2int_ids[ext_doc_id] = int_doc_id\n",
    "    int2ext_ids[int_doc_id] = ext_doc_id\n",
    "    \n",
    "#print (int2ext_ids[1])\n",
    "#print (ext2int_ids['AP890425-0001'])"
   ]
  },
  {
   "cell_type": "markdown",
   "metadata": {},
   "source": [
    "## RETRIEVING THE MODEL\n",
    "Training is done by creating a very large BOW representation for all the documents in the collection. These models are saved, so training has to be done only once. "
   ]
  },
  {
   "cell_type": "code",
   "execution_count": null,
   "metadata": {
    "collapsed": true
   },
   "outputs": [],
   "source": [
    "# A function that returns a BOW representation of the entire document set (160k documents)\n",
    "# It loops through al the documents, and appends them to a list\n",
    "# RETURNS\n",
    "# - bow representation of the corpus\n",
    "# - token2id, a dictionary for converting tokens (words) to ids\n",
    "# - id2token, another dictionary for converting ids to words (tokens)\n",
    "\n",
    "def document_bow():\n",
    "    dictionary = pyndri.extract_dictionary(index) \n",
    "    token2id, id2token, _ = index.get_dictionary() # Only id2token is necessary\n",
    "    documents_list = [] # The list that all the documents will be appended to\n",
    "    \n",
    "    for i in range(1,num_documents+1):\n",
    "        _ , doc = index.document(i)\n",
    "        doc = [id2token[word_id] for word_id in doc if word_id > 0]\n",
    "        documents_list.append(doc)\n",
    "        \n",
    "    bow_corpus = [dictionary.doc2bow(text) for text in documents_list]\n",
    "    return bow_corpus, token2id, id2token\n",
    "\n",
    "corpus, token2id, id2token = document_bow()"
   ]
  },
  {
   "cell_type": "code",
   "execution_count": null,
   "metadata": {
    "collapsed": true
   },
   "outputs": [],
   "source": [
    "# Train LDA-model\n",
    "num_topics = 20\n",
    "lda20 = gensim.models.ldamodel.LdaModel(corpus=corpus, num_topics=num_topics, id2word = id2token, passes=10)\n",
    "lda20.save('LDAmodels/LDA20')"
   ]
  },
  {
   "cell_type": "code",
   "execution_count": null,
   "metadata": {
    "collapsed": true
   },
   "outputs": [],
   "source": [
    "# Train LSI-model\n",
    "\n",
    "num_topics = 250\n",
    "lsi250 = gensim.models.lsimodel.LsiModel(corpus=corpus, id2word=id2token, num_topics=num_topics)\n",
    "lsi250.save('LSImodels/LSI250')\n",
    "'''\n",
    "num_topics = 500\n",
    "lsi500 = gensim.models.lsimodel.LsiModel(corpus=corpus, id2word=id2token, num_topics=num_topics)\n",
    "lsi100.save('LSImodels/LSI500')\n",
    "\n",
    "num_topics = 1000\n",
    "lsi1000 = gensim.models.lsimodel.LsiModel(corpus=corpus, id2word=id2token, num_topics=num_topics)\n",
    "lsi1000.save('LSImodels/LSI1000')\n",
    "'''"
   ]
  },
  {
   "cell_type": "markdown",
   "metadata": {},
   "source": [
    "## PREPROCESSING"
   ]
  },
  {
   "cell_type": "code",
   "execution_count": null,
   "metadata": {
    "collapsed": true
   },
   "outputs": [],
   "source": [
    "# A function that returns a document given an external doc_id\n",
    "# INPUT\n",
    "# - an internal doc_id, a string, for instance: APXXXXX-XX\n",
    "# RETURNS\n",
    "# - an list of strings representing a text, for instance ['joris','is','de','beste']\n",
    "def get_document(doc_id):\n",
    "    int_doc_id = ext2int_ids[doc_id]\n",
    "    _,text_ids = index.document(int_doc_id)\n",
    "    return [id2token[word_id] for word_id in text_ids if word_id > 0]       "
   ]
  },
  {
   "cell_type": "code",
   "execution_count": null,
   "metadata": {
    "collapsed": true
   },
   "outputs": [],
   "source": [
    "# Function that takes returns a list of indices, converting a text into indices\n",
    "# INPUT\n",
    "# - a list of strings, for instance ['python','wizard']\n",
    "# RETURNS\n",
    "# - a list of IDS, for instance [1,2] where 'python' maps to 1, and 'wizard' maps to 2\n",
    "# according to the token2id dictionary\n",
    "def text_to_ind(text):\n",
    "    token_ids = [token2id[token] for token in text if token in token2id] \n",
    "    return token_ids"
   ]
  },
  {
   "cell_type": "code",
   "execution_count": null,
   "metadata": {
    "collapsed": true
   },
   "outputs": [],
   "source": [
    "# A function that generates the topic vector from a text. This can be a document or a query\n",
    "# INPUT\n",
    "# - a text, a list of strings, for instance ['python','wizard']\n",
    "# - a model, either LSI or LDA model\n",
    "# RETURNS \n",
    "# - a topic scores vector, with scores\n",
    "def topic_vector_from_text(text,model):\n",
    "    random.shuffle(text) # randomly shuffle text, to really create a BOW\n",
    "    bow_ids = text_to_ind(text)\n",
    "    bow_ids_counter = collections.Counter(bow_ids)\n",
    "    bow_list = [[key,value] for key,value in bow_ids_counter.items()]\n",
    "    topics_scores = model[bow_list] # topics_scores is of type: [ (1,score1),(2,score2),etc,etc]\n",
    "    \n",
    "    topic_ids = [topic_id for topic_id,score in topics_scores]\n",
    "    topic_scores = [score for topic_id,score in topics_scores]\n",
    "    num_topics = model.num_topics\n",
    "    \n",
    "    scores = np.zeros(num_topics)\n",
    "    scores[topic_ids] = topic_scores\n",
    "    return scores"
   ]
  },
  {
   "cell_type": "code",
   "execution_count": null,
   "metadata": {
    "collapsed": true
   },
   "outputs": [],
   "source": [
    "# Function that calculates the cosine similarity between two vectors\n",
    "# INPUT\n",
    "# - query_topic_vec, the query topic vector\n",
    "# - doc_topic_vec, the document topic vector\n",
    "# RETURNS\n",
    "# - the cosine similarity between query_vec and doc_vec, a float\n",
    "def check_similarity(query_topic_vec,doc_topic_vec):\n",
    "    return ssd.cosine(query_topic_vec,doc_topic_vec)    "
   ]
  },
  {
   "cell_type": "code",
   "execution_count": null,
   "metadata": {
    "collapsed": true
   },
   "outputs": [],
   "source": [
    "# Function that scores a list of document-ids based on a LSI or LDA model\n",
    "# INPUT\n",
    "# - a model, this can be either a LSI or LDA model\n",
    "# - a query, this is a list of strings, in the form ['python','wizard']\n",
    "# - a list of doc_ids, of the form [APXXXXX-XX,APYYYYY-YY, etc, etc]. This list is probably of length 1000\n",
    "# RETURNS\n",
    "# - a list of the 1000 documents, a list of form [(APYYYYY-YY,scoreY),(APXXXXX-XX,scoreX),(etc,score_etc),...],\n",
    "# , where the first element of the list is the best query result, and the last element of the list is the worst \n",
    "def lsi_lda_model_score(model,query,doc_ids):\n",
    "    query_topic_vec = topic_vector_from_text(query,model)    \n",
    "    \n",
    "    ranking = []\n",
    "    \n",
    "    for ext_doc_ID in doc_ids:\n",
    "        doc = get_document(ext_doc_ID) # returns the document in text\n",
    "        doc_topic_vec = topic_vector_from_text(doc,model)\n",
    "        score = check_similarity(query_topic_vec,doc_topic_vec)\n",
    "        ranking.append((ext_doc_ID,score))\n",
    "        \n",
    "    ranking.sort(key=itemgetter(1))\n",
    "    \n",
    "    return ranking"
   ]
  },
  {
   "cell_type": "code",
   "execution_count": null,
   "metadata": {
    "collapsed": true
   },
   "outputs": [],
   "source": [
    "# a function that reads the tfidf.run file\n",
    "# INPUT\n",
    "# - filename, a string\n",
    "# RETURNS\n",
    "# - a dictionary with takes a query_id (51,200) as value, and returns a list of a 1000 documents [APXXXX-XX,etc,...]\n",
    "def read_tfidf_file(filename):\n",
    "    \n",
    "    return_dict = {}\n",
    "    \n",
    "    # Fill the dictionary with empty lists:\n",
    "    # Queries go from 51 to 200\n",
    "    #for i, qid in enumerate(queries):\n",
    "     #   return_dict[int(qid)] = []\n",
    "      #  print (qid)\n",
    "        \n",
    "    for qid in valid_query_ids:\n",
    "        return_dict[int(qid)] = []\n",
    "    \n",
    "    with open(filename,'r') as fn:\n",
    "        for line in fn:\n",
    "            query_id = int(line.split()[0])\n",
    "            ext_doc_ID = line.split()[2]\n",
    "            \n",
    "            temp_list = return_dict[query_id] # ugly solution this, but if its stupid but it works,\n",
    "            temp_list.append(ext_doc_ID) # it aint stupid\n",
    "            \n",
    "            return_dict[query_id] = temp_list   \n",
    "    return return_dict   "
   ]
  },
  {
   "cell_type": "code",
   "execution_count": null,
   "metadata": {
    "collapsed": true
   },
   "outputs": [],
   "source": [
    "# A functions that appends data to a big data list\n",
    "# INPUT\n",
    "# - a list to_be_added, of the form [(APYYYYY-YY,scoreY),(APXXXXX-XX,scoreX),(etc,score_etc),...]\n",
    "# - queryID, an integer\n",
    "# - model_name a str with the model name\n",
    "# - a data list of lists within a list, in which to add to_be_added\n",
    "# - the lists within the list are of the form [queryID,'Q0',exc_doc_ID,rank,score,'modelname']\n",
    "# RETURNS\n",
    "# - data_list a list of list. Each list in the list is of the form [queryID,'Q0',ext_doc_ID,rank,score,model_name] \n",
    "def append_data(to_be_added,query_id,model_name,data_list):\n",
    "    for i in range(0,len(to_be_added)):\n",
    "        temp_list = []\n",
    "        temp_list.append(query_id)\n",
    "        temp_list.append('Q0')\n",
    "        temp_list.append(to_be_added[i][0])\n",
    "        temp_list.append(i+1) # rank\n",
    "        temp_list.append(to_be_added[i][1])\n",
    "        temp_list.append(model_name)\n",
    "        data_list.append(temp_list)\n",
    "    return data_list         "
   ]
  },
  {
   "cell_type": "code",
   "execution_count": null,
   "metadata": {
    "collapsed": true
   },
   "outputs": [],
   "source": [
    "# Function that writes the data to a file\n",
    "# INPUT\n",
    "# - model_name, a string of the desired name of the output file\n",
    "# - data, a list of list. Each list in the list is of the form [queryID,'Q0',ext_doc_ID,rank,score,model_name]\n",
    "# RETURNS\n",
    "# - writes data to a file, returns a file in the same folder as the .ipynb notebook\n",
    "def write_model(model_name,data):\n",
    "    with open(model_name,'w') as mn:\n",
    "        for row in data:\n",
    "            for term in row:\n",
    "                mn.write(str(term) + ' ')\n",
    "            mn.write('\\n')\n",
    "    mn.close()\n",
    "    return"
   ]
  },
  {
   "cell_type": "code",
   "execution_count": null,
   "metadata": {
    "collapsed": true
   },
   "outputs": [],
   "source": [
    "lda_model = gensim.models.ldamodel.LdaModel.load('LDAmodels/LDA20')\n",
    "lsi_model = gensim.models.lsimodel.LsiModel.load('LSImodels/LSI100')"
   ]
  },
  {
   "cell_type": "code",
   "execution_count": null,
   "metadata": {
    "collapsed": true
   },
   "outputs": [],
   "source": [
    "query_return_dict = read_tfidf_file('tfidf_valid.run')\n",
    "#lsi_model = gensim.models.lsimodel.LsiModel.load('LSImodels/LSI250') \n",
    "lda_model = gensim.models.ldamodel.LdaModel.load('LDAmodels/LDA20')\n",
    "model_name = 'LDA20.run'\n",
    "data = []\n",
    "\n",
    "for query,values in query_return_dict.items():\n",
    "    query_in_text = queries[str(query)].lower().split()\n",
    "\n",
    "    new_ranking = lsi_lda_model_score(lda_model,query_in_text,query_return_dict[query])\n",
    "    data = append_data(new_ranking,int(query),model_name,data)\n",
    "    \n",
    "write_model(model_name,data)\n",
    "print (model_name+'file created!')"
   ]
  },
  {
   "cell_type": "markdown",
   "metadata": {},
   "source": [
    "## ANALYSIS"
   ]
  },
  {
   "cell_type": "code",
   "execution_count": null,
   "metadata": {
    "collapsed": true
   },
   "outputs": [],
   "source": [
    "def write_results(model_name):\n",
    "    '''\n",
    "    A function that writes the result to a text file\n",
    "    INPUT\n",
    "    - a model_name, this can be LSI50, LSI100, LSI250, LDA10 or LDA20 or another string\n",
    "    RETURNS\n",
    "    - a .txt file in the folder results. Each line contains the model, the query id, and the score\n",
    "    \n",
    "    '''\n",
    "    output_file_name = 'Results/results'+model_name+'.txt'\n",
    "    \n",
    "    with open(output_file_name,'w') as file:\n",
    "        \n",
    "        command = './eval'+model_name + '.sh'\n",
    "        proc = Popen (command,shell=True,stdout = PIPE)\n",
    "        out,err = proc.communicate()\n",
    "        \n",
    "        result_list = out.decode('utf-8').split('\\n')\n",
    "        for result in result_list:\n",
    "            line = result.split('\\t')\n",
    "            \n",
    "            write_list = []\n",
    "            \n",
    "            for i in line:\n",
    "                write_list.append(str(i))\n",
    "                file.write(write_list[-1] + ' ')\n",
    "            file.write('\\n')\n",
    "        file.close()\n",
    "    return\n",
    "                \n",
    "write_results('LSI50')\n",
    "write_results('LSI100')\n",
    "write_results('LSI250')\n",
    "write_results('LDA10')\n",
    "write_results('LDA20')"
   ]
  },
  {
   "cell_type": "code",
   "execution_count": null,
   "metadata": {
    "collapsed": true
   },
   "outputs": [],
   "source": [
    "with open('Results/resultsLSI50.txt','r') as lsi50:\n",
    "    \n",
    "    map_scores_lsi50 = []\n",
    "    p5_scores_lsi50 = []\n",
    "    recall1000_scores_lsi50 = []\n",
    "    ndcg10_scores_lsi50 = []\n",
    "    \n",
    "    for line in lsi50.readlines():\n",
    "        result_line = line.split()\n",
    "        if result_line[0] == 'map' and result_line[1] != 'all' and result_line != []:\n",
    "            map_scores_lsi50.append(float(result_line[-1]))\n",
    "        elif result_line[0] == 'P_5' and result_line[1] != 'all':\n",
    "            p5_scores_lsi50.append(float(result_line[-1]))\n",
    "        elif result_line[0] == 'recall_1000' and result_line[1] != 'all':\n",
    "            recall1000_scores_lsi50.append(float(result_line[-1]))\n",
    "        elif result_line[0] == 'ndcg_cut_10' and result_line[1] != 'all':\n",
    "            ndcg10_scores_lsi50.append(float(result_line[-1]))\n",
    "\n",
    "with open('Results/resultsLSI250.txt','r') as lsi250:\n",
    "        \n",
    "    map_scores_lsi250 = []\n",
    "    p5_scores_lsi250 = []\n",
    "    recall1000_scores_lsi250 = []\n",
    "    ndcg10_scores_lsi250 = []\n",
    "    \n",
    "    for line in lsi250.readlines():\n",
    "        result_line = line.split()\n",
    "        if result_line[0] == 'map' and result_line[1] != 'all' and result_line != []:\n",
    "            map_scores_lsi250.append(float(result_line[-1]))\n",
    "        elif result_line[0] == 'P_5' and result_line[1] != 'all':\n",
    "            p5_scores_lsi250.append(float(result_line[-1]))\n",
    "        elif result_line[0] == 'recall_1000' and result_line[1] != 'all':\n",
    "            recall1000_scores_lsi250.append(float(result_line[-1]))\n",
    "        elif result_line[0] == 'ndcg_cut_10' and result_line[1] != 'all':\n",
    "            ndcg10_scores_lsi250.append(float(result_line[-1]))\n",
    "            \n",
    "with open('Results/resultsLDA20.txt','r') as lda20:\n",
    "        \n",
    "    map_scores_lda20 = []\n",
    "    p5_scores_lda20 = []\n",
    "    recall1000_scores_lda20 = []\n",
    "    ndcg10_scores_lda20 = []\n",
    "    \n",
    "    for line in lda20.readlines():\n",
    "        result_line = line.split()\n",
    "        if result_line[0] == 'map' and result_line[1] != 'all' and result_line != []:\n",
    "            map_scores_lda20.append(float(result_line[-1]))\n",
    "        elif result_line[0] == 'P_5' and result_line[1] != 'all':\n",
    "            p5_scores_lda20.append(float(result_line[-1]))\n",
    "        elif result_line[0] == 'recall_1000' and result_line[1] != 'all':\n",
    "            recall1000_scores_lda20.append(float(result_line[-1]))\n",
    "        elif result_line[0] == 'ndcg_cut_10' and result_line[1] != 'all':\n",
    "            ndcg10_scores_lda20.append(float(result_line[-1]))"
   ]
  },
  {
   "cell_type": "markdown",
   "metadata": {},
   "source": [
    "### Task 3:  Word embeddings for ranking [20 points] (open-ended) ###\n",
    "\n",
    "First create word embeddings on the corpus we provided using [word2vec](http://arxiv.org/abs/1411.2738) -- [gensim implementation](https://radimrehurek.com/gensim/models/word2vec.html). You should extract the indexed documents using pyndri and provide them to gensim for training a model (see example [here](https://github.com/nickvosk/pyndri/blob/master/examples/word2vec.py)).\n",
    "   \n",
    "This is an open-ended task. It is left up you to decide how you will combine word embeddings to derive query and document representations. Note that since we provide the implementation for training word2vec, you will be graded based on your creativity on combining word embeddings for building query and document representations.\n",
    "\n",
    "Note: If you want to experiment with pre-trained word embeddings on a different corpus, you can use the word embeddings we provide alongside the assignment (./data/reduced_vectors_google.txt.tar.gz). These are the [google word2vec word embeddings](https://code.google.com/archive/p/word2vec/), reduced to only the words that appear in the document collection we use in this assignment."
   ]
  },
  {
   "cell_type": "code",
   "execution_count": null,
   "metadata": {
    "collapsed": true
   },
   "outputs": [],
   "source": [
    "import copy\n",
    "import gensim\n",
    "import logging\n",
    "import pyndri\n",
    "import pyndri.compat\n",
    "import sys\n",
    "import numpy as np\n",
    "from nltk.stem.porter import PorterStemmer\n",
    "import pickle\n",
    "import logging\n",
    "\n",
    "dictionary = pyndri.extract_dictionary(index)\n",
    "sentences = pyndri.compat.IndriSentences(index, dictionary)\n",
    "\n",
    "#word_vectors = gensim.models.Word2Vec.load('W2V/w2v')"
   ]
  },
  {
   "cell_type": "code",
   "execution_count": null,
   "metadata": {
    "collapsed": true
   },
   "outputs": [],
   "source": [
    "# Function that makes and saves a w2v model\n",
    "def calculate_word2vec():\n",
    "    dictionary = pyndri.extract_dictionary(index)\n",
    "    sentences = pyndri.compat.IndriSentences(index, dictionary)\n",
    "\n",
    "    word2vec = gensim.models.Word2Vec(sentences, min_count=1)\n",
    "    word2vec.save('W2V/w2v')\n",
    "    return\n",
    "\n",
    "# Function that load a w2v model\n",
    "def load_word2vec():\n",
    "    word_vectors = gensim.models.Word2Vec.load('W2V/w2v')\n",
    "    return word_vectors\n",
    "\n",
    "# A function that returns a vector representation of a word\n",
    "# INPUT\n",
    "# - a word, a string, like 'joris'\n",
    "# - word_vectors, a dictionary which returns the vector of a word\n",
    "# CODE\n",
    "# - returns the vector representation of a word. If this is not avalaible, it stems the word and finds the vector representation\n",
    "# RETURNS\n",
    "# - the vector representation of the (stemmed) word\n",
    "def get_vector_for_word(word,word_vectors):\n",
    "    try:\n",
    "        embedding = word_vectors[str(word)]\n",
    "        return embedding\n",
    "    except KeyError:\n",
    "        stemmed_word = PorterStemmer().stem(str(word))\n",
    "        return word_vectors[stemmed_word]\n",
    "\n",
    "# Function that removes punctuation, and lowers a query\n",
    "# INPUT\n",
    "# - a list of strings, the query, for instance ['Airbus','Subsidies']\n",
    "# - token2id, a dictionary converting words to ids\n",
    "# RETURNS\n",
    "# - the same query lowercased without punctuation\n",
    "def remove_punctuation(query,token2id):\n",
    "    \n",
    "    punctuation_list = ['\"', '(',')', '&','-',\"'\",'.','/','?']\n",
    "        \n",
    "    good_query = []\n",
    "    for word in query:           \n",
    "        \n",
    "        good_word = \"\"\n",
    "        if len(word) == 1 and word in punctuation_list:\n",
    "            if word == '&':\n",
    "                good_query.append('and')\n",
    "            else:\n",
    "                continue\n",
    "        elif word == 'vs' or word == 'vs.':\n",
    "            good_query.append('versus')\n",
    "        elif word == 'us' or word == 'U.S.' or word == \"U.S.'s\" or word == 'U.':\n",
    "            good_query.append('united')\n",
    "            good_query.append('states')\n",
    "        else:\n",
    "            for letter in word:\n",
    "                if letter not in punctuation_list:\n",
    "                    good_word += letter.lower()\n",
    "                elif letter == '-' or letter == \"'\" or letter == '/':\n",
    "                    good_query.append(good_word)\n",
    "                    good_word = \"\"\n",
    "            else:\n",
    "                good_query.append(good_word)\n",
    "        \n",
    "    if 'us' in good_query: # Replace 'us' with 'united','states'\n",
    "        place = good_query.index('us')\n",
    "        good_query.pop(int(place))\n",
    "        good_query.insert(int(place),'united')\n",
    "        good_query.insert(int(place) + 1 , 'states')\n",
    "       \n",
    "    \n",
    "    best_query = []\n",
    "    for word in good_query:\n",
    "        if word in token2id and len(word) > 1:\n",
    "            best_query.append(word)\n",
    "    \n",
    "    return best_query\n",
    "\n",
    "def get_document(doc_id):\n",
    "    int_doc_id = ext2int_ids[doc_id]\n",
    "    _,text_ids = index.document(int_doc_id)\n",
    "    return [id2token[word_id] for word_id in text_ids if word_id > 0]  "
   ]
  },
  {
   "cell_type": "code",
   "execution_count": null,
   "metadata": {},
   "outputs": [],
   "source": [
    "# Function that determines the average vector of a test\n",
    "# INPUT\n",
    "# - a list of strings, for instance ['python','wizard']\n",
    "# - a word_vectors model\n",
    "# RETURNS\n",
    "# - a vector of size 100\n",
    "def get_average_vector(text,word_vectors):\n",
    "    \n",
    "    if len(text) == 0: # if the document is empty\n",
    "        return np.zeros(100)\n",
    "    \n",
    "    average = 0\n",
    "    for i in range(0,len(text)):\n",
    "        if i == 0:\n",
    "            average = copy.copy(get_vector_for_word(text[i],word_vectors))\n",
    "        else:\n",
    "            average += copy.copy(get_vector_for_word(text[i],word_vectors))\n",
    "    return average/len(text)  \n",
    "\n",
    "# Calculate the average word vector of document in the colletion\n",
    "# This is a preprocessing step\n",
    "# It returns a dict where dict[1] returns the average word vector of document 1\n",
    "def get_doc2vec():\n",
    "    doc2vec = {}\n",
    "\n",
    "    for i in range(1,num_documents+1):\n",
    "        doc_i = get_document(int2ext_ids[i])\n",
    "        \n",
    "        average_doc_vec = get_average_vector(doc_i,word_vectors)\n",
    "\n",
    "        doc2vec[i] = average_doc_vec\n",
    "    return doc2vec  \n",
    "\n",
    "# Function that saves the doc2vec dictionary to a pickle file\n",
    "def save_doc2vec():\n",
    "    doc2vec = get_doc2vec()\n",
    "    with open('doc2vec/doc2vec_dict.pickle', 'wb') as handle:\n",
    "            pickle.dump(doc2vec, handle, protocol=pickle.HIGHEST_PROTOCOL)\n",
    "    return\n",
    "\n",
    "# Function that loads the pickle doc2vec dictionary\n",
    "def load_doc2vec():\n",
    "    doc2vec = pickle.load(open('doc2vec/doc2vec_dict.pickle','rb'))\n",
    "    return doc2vec\n",
    "\n",
    "#doc2vec = load_doc2vec()"
   ]
  },
  {
   "cell_type": "code",
   "execution_count": null,
   "metadata": {
    "collapsed": true
   },
   "outputs": [],
   "source": [
    "# Function that calculates the top1000 document ranking for a query\n",
    "# INPUT\n",
    "# - a query id, 51,200 (integer)\n",
    "# - token2id, a dictionary of tokens to IDs\n",
    "# - word_vectors, a dictionary of word_vectors\n",
    "# RETURNS\n",
    "# - a list of the 1000 documents, a list of form [(APYYYYY-YY,scoreY),(APXXXXX-XX,scoreX),(etc,score_etc),...],\n",
    "# , where the first element of the list is the best query result, and the last element of the list is the worst \n",
    "def average_vector_scores(query_id,token2id,word_vectors):\n",
    "    query = remove_punctuation(queries[str(query_id)].split(),token2id)\n",
    "    query_vec = get_average_vector(test_query,word_vectors)\n",
    "    \n",
    "    ranking = []\n",
    "    \n",
    "    for i in range(1,num_documents+1):\n",
    "        ext_doc_ID = int2ext_ids[i]\n",
    "        average_doc_vec = doc2vec[i]\n",
    "\n",
    "        score = ssd.cosine(average_query_vec,average_doc_vec)\n",
    "\n",
    "        ranking.append((ext_doc_ID,score))\n",
    "    \n",
    "    ranking.sort(key=itemgetter(1))\n",
    "    \n",
    "    return ranking[:1000]"
   ]
  },
  {
   "cell_type": "code",
   "execution_count": null,
   "metadata": {
    "collapsed": true
   },
   "outputs": [],
   "source": [
    "import scipy.spatial.distance as ssd\n",
    "import time\n",
    "\n",
    "def top1000(query_ids):\n",
    "    #First we get the top 1000 documents for every query\n",
    "    top1000_dict = {}\n",
    "\n",
    "    for query_id in query_ids:\n",
    "        tfidf_dict = {}\n",
    "        query_ids = [token2id.get(query_token,0) for query_token in index.tokenize(queries[query_id])] #get ids for all the words\n",
    "        query_ids = [word_id for word_id in query_ids if word_id > 0] #remove stop words\n",
    "        for int_document_id in range(index.document_base(), index.maximum_document()):\n",
    "            tfidf_score = 0\n",
    "            for term_id in query_ids:\n",
    "                if int_document_id in inverted_index[term_id].keys():\n",
    "                    tfidf_score += tfidf(int_document_id, term_id, collection_frequencies[term_id])\n",
    "                else: \n",
    "                    tfidf_score += 0.0\n",
    "            tfidf_dict[int_document_id] = tfidf_score\n",
    "\n",
    "        top1000 = sorted(tfidf_dict.items(), key=lambda x:-x[1])[:1000]\n",
    "        top1000_keys = [i[0] for i in top1000]\n",
    "        top1000_dict[query_id] = top1000_keys\n",
    "\n",
    "def word2vec_advanced(query):\n",
    "    start = time.time()\n",
    "    query_words = query.split()\n",
    "    query_words = remove_punctuation(query_words,token2id)\n",
    "    print(query_words)\n",
    "    scores = []\n",
    "    query_matrix = np.zeros((len(query_words),100)) \n",
    "    for i in range(0,len(query_words)):\n",
    "        try:\n",
    "            query_matrix[i] = get_vector_for_word(query_words[i],word_vectors)\n",
    "        except: \n",
    "            print(query_words[i])\n",
    "            query_matrix[i] = [1 for i in range(0,100)] #WILLEN WE DIT?\n",
    "    for int_doc_id in range(index.document_base(), index.maximum_document()):\n",
    "        new_dict = {}\n",
    "        _, doc_token_ids = index.document(int_doc_id)\n",
    "\n",
    "        doc_counter = dict(Counter(doc_token_ids))\n",
    "\n",
    "        relevant_word_ids = dict(Counter(doc_counter).most_common(10))\n",
    "        \n",
    "        if 0 in relevant_word_ids.keys():\n",
    "            del relevant_word_ids[0]\n",
    "\n",
    "        doc_words = []\n",
    "        for i in relevant_word_ids:\n",
    "            doc_words.append(id2token[i])\n",
    "\n",
    "        doc_matrix = np.zeros((len(doc_words),100))  \n",
    "        for i in range(0,len(doc_words)):\n",
    "            doc_matrix[i] = get_vector_for_word(doc_words[i],word_vectors)\n",
    "\n",
    "        scores.append(np.sum(np.dot(query_matrix,doc_matrix.T))/(len(query_words)))\n",
    "    print(time.time() - start)\n",
    "\n",
    "    return scores\n",
    "\n",
    "#run_retrieval('word2vec_advanced',word2vec_advanced)"
   ]
  },
  {
   "cell_type": "markdown",
   "metadata": {},
   "source": [
    "### Task 4: Learning to rank (LTR) [15 points] (open-ended) ###\n",
    "\n",
    "In this task you will get an introduction into learning to rank for information retrieval.\n",
    "\n",
    "You can explore different ways for devising features for the model. Obviously, you can use the retrieval methods you implemented in Task 1, Task 2 and Task 3 as features. Think about other features you can use (e.g. query/document length). Creativity on devising new features and providing motivation for them will be taken into account when grading.\n",
    "\n",
    "For every query, first create a document candidate set using the top-1000 documents using TF-IDF, and subsequently compute features given a query and a document. Note that the feature values of different retrieval methods are likely to be distributed differently.\n",
    "\n",
    "You are adviced to start some pointwise learning to rank algorithm e.g. logistic regression, implemented in [scikit-learn](http://scikit-learn.org/stable/modules/generated/sklearn.linear_model.LogisticRegression.html).\n",
    "Train your LTR model using 10-fold cross validation on the test set. More advanced learning to rank algorithms will be appreciated when grading."
   ]
  },
  {
   "cell_type": "code",
   "execution_count": null,
   "metadata": {
    "collapsed": true
   },
   "outputs": [],
   "source": [
    "#First we get the top 1000 documents for every query\n",
    "top1000_dict = {}\n",
    "\n",
    "for query_id in test_query_ids:\n",
    "    tfidf_dict = {}\n",
    "    query_ids = [token2id.get(query_token,0) for query_token in index.tokenize(queries[query_id])] #get ids for all the words\n",
    "    query_ids = [word_id for word_id in query_ids if word_id > 0] #remove stop words\n",
    "    for int_document_id in range(index.document_base(), index.maximum_document()):\n",
    "        tfidf_score = 0\n",
    "        for term_id in query_ids:\n",
    "            if int_document_id in inverted_index[term_id].keys():\n",
    "                tfidf_score += tfidf(int_document_id, term_id, collection_frequencies[term_id])\n",
    "            else: \n",
    "                tfidf_score += 0.0\n",
    "        tfidf_dict[int_document_id] = tfidf_score\n",
    "\n",
    "    top1000 = sorted(tfidf_dict.items(), key=lambda x:-x[1])[:1000]\n",
    "    top1000_keys = [i[0] for i in top1000]\n",
    "    top1000_dict[query_id] = top1000_keys"
   ]
  },
  {
   "cell_type": "markdown",
   "metadata": {},
   "source": [
    "We will use the following statistics per document, query pair:\n",
    "-Number of words of document. Rationale: long documents tend to be more relevant than short documents.\n",
    "\n",
    "-Percentage of stop words. Rationale: if the text contains a lot of stop words it might be written badly or does not contain interesting words.\n",
    "\n",
    "-Amount of unique words. Rationale: if the amount of unique words is large, the document might be very broad and covers multiple topics?\n",
    "\n",
    "-Word count statistics: mean normalized word count, variance of normalized word count. A high mean word count means the document is very dense on a small amount of words, which might be very in depth about a topic. A low mean can have a high or low variance, if the variance is high there are a lot of words with low counts and only a couple with high counts. This might add more information of the document. \n",
    "\n",
    "-Scores of methods from other questions."
   ]
  },
  {
   "cell_type": "code",
   "execution_count": null,
   "metadata": {
    "collapsed": true
   },
   "outputs": [],
   "source": [
    "#In this cell, we get some statistics + previous scores on the documents\n",
    "from collections import Counter \n",
    "\n",
    "#Number of words \n",
    "def number_of_words(int_document_id):\n",
    "    return len(index.document(int_document_id)[1])\n",
    "\n",
    "#Percentage of stop words:\n",
    "def perc_stop_words(int_document_id):\n",
    "    return len([i for i in index.document(int_document_id)[1] if i == 0])/len(index.document(int_document_id)[1])\n",
    "\n",
    "#Amount of different non stop words\n",
    "def amount_of_words(int_document_id):\n",
    "    return len(np.unique(index.document(int_document_id)[1]))\n",
    "\n",
    "#Distribution of word counts\n",
    "def word_count_statistics(int_document_id):\n",
    "    counter = Counter(index.document(int_document_id)[1]) #make a counter dict\n",
    "    total = sum(counter.values())\n",
    "    for key in counter: #we normalize the counts\n",
    "        counter[key] /= total \n",
    "    return np.mean(list(counter.values())), np.var(list(counter.values()))\n",
    "    \n",
    "def get_scores(int_document_id, query_id):\n",
    "    scores = []\n",
    "    query_ids = [token2id.get(query_token,0) for query_token in index.tokenize(queries[query_id])] #get ids for all the words\n",
    "    query_ids = [word_id for word_id in query_ids if word_id > 0] #remove stop words\n",
    "    scores.append(JelinekMercer(int_document_id, query_ids, collection_frequencies))\n",
    "    scores.append(Dirichlet(int_document_id, query_ids, collection_frequencies))\n",
    "    scores.append(AbsoluteDiscounting(int_document_id, query_ids, collection_frequencies))\n",
    "    \n",
    "    tfidf_score = 0\n",
    "    bm25_score = 0\n",
    "    for query_id in query_ids:\n",
    "        if int_document_id in inverted_index[query_id].keys():\n",
    "            tfidf_score += tfidf(int_document_id, query_id, collection_frequencies[query_id])\n",
    "            bm25_score += BM25(int_document_id, query_id, collection_frequencies[query_id])\n",
    "        else: \n",
    "            tfidf_score += 0.0\n",
    "            bm25_score += 0.0\n",
    "    scores.append(tfidf_score)\n",
    "    scores.append(bm25_score)      \n",
    "    scores.append(plm(int_document_id, query_ids, \"Gaussian\", collection_frequencies, 0))\n",
    "    scores.append(plm(int_document_id, query_ids, \"Passage\", collection_frequencies, 0))\n",
    "    scores.append(plm(int_document_id, query_ids, \"Circle\", collection_frequencies, 0))\n",
    "    scores.append(plm(int_document_id, query_ids, \"Triangle\", collection_frequencies, 0))\n",
    "    scores.append(plm(int_document_id, query_ids, \"Hamming\", collection_frequencies, 0))\n",
    "    return scores"
   ]
  },
  {
   "cell_type": "markdown",
   "metadata": {},
   "source": [
    "As every measure has a different scale, we will normalize the data between 0-1 to have nice features for machine learning."
   ]
  },
  {
   "cell_type": "code",
   "execution_count": null,
   "metadata": {
    "collapsed": true
   },
   "outputs": [],
   "source": [
    "details = (details - details.min(axis=0)) / (details.max(axis=0) - details.min(axis=0)) #normalize columns"
   ]
  },
  {
   "cell_type": "markdown",
   "metadata": {},
   "source": [
    "We start by doing pointwise learning so we can treat the document ratings as targets. This way the problems becomes a regression problem. First we will generate target, then we will implement a wide range of models to slove the problem."
   ]
  },
  {
   "cell_type": "code",
   "execution_count": null,
   "metadata": {
    "collapsed": true
   },
   "outputs": [],
   "source": [
    "#Here we generate target from the qrel_test file\n",
    "target_dict = {}\n",
    "with open('./ap_88_89/qrel_test', 'r') as test_queries:\n",
    "    for line in test_queries:\n",
    "        split = line.split(' ')\n",
    "        query_doc_tuple = (split[0], split[2])\n",
    "        target_dict[query_doc_tuple] = int(split[3][0])\n",
    "\n",
    "targets = np.zeros(1000*len(test_query_ids)) #define an empty target array        \n",
    "for q in range(0, len(test_query_ids)):\n",
    "    query_id = test_query_ids[q]\n",
    "    for key in range(0,1000):\n",
    "        external_document_id,_ = index.document(top1000_dict[query_id][key])\n",
    "        try:\n",
    "            targets[q*1000+key] = target_dict[(query_id, external_document_id)]\n",
    "        except:\n",
    "            targets[q*1000+key] = 0 #if targets do not exist in the test set, we assume they are irrelevant\n",
    "#print(targets[:100])"
   ]
  },
  {
   "cell_type": "code",
   "execution_count": null,
   "metadata": {
    "collapsed": true
   },
   "outputs": [],
   "source": [
    "#The first model will be a LogisticRegression\n",
    "from sklearn.linear_model import LogisticRegression\n",
    "from sklearn.model_selection import KFold\n",
    "\n",
    "predictions1 = np.zeros(1000*len(test_query_ids))\n",
    "kf = KFold(n_splits=10)\n",
    "for train_index, test_index in kf.split(details):\n",
    "    X_train, X_test = details[train_index], details[test_index]\n",
    "    y_train, y_test = targets[train_index], targets[test_index]\n",
    "    lr = LogisticRegression()\n",
    "    lr.fit(X_train, y_train)\n",
    "    predictions1[test_index] = lr.predict(X_test)\n",
    "    print(\"The accuracy score for a single CV split is: \", lr.score(X_test, y_test))\n",
    "    \n",
    "overall_score = sum([1 for i in range(0,1000*len(test_query_ids)) if targets[i] == predictions1[i]])/(1000*len(test_query_ids))\n",
    "print(\"The overall accuracy score is: \",overall_score)"
   ]
  },
  {
   "cell_type": "markdown",
   "metadata": {},
   "source": [
    "Hmm. A 94% accuracy looks quite good. However when testing the results in trec_eval, the results are quite bad (map 0.0717, P_5\t0.1333, recall_1000 0.6432, ndcg_cut_10 0.1285). This is due to the low amount of 1's, therefore the algorithm predicts almost only 0s. This makes the accuracy very high, but the relevancy very low."
   ]
  },
  {
   "cell_type": "code",
   "execution_count": null,
   "metadata": {
    "collapsed": true
   },
   "outputs": [],
   "source": [
    "print(\"We have \",sum([1 for i in targets if i ==1]),\" interesting documents!\")\n",
    "print(\"This is \",sum([1 for i in targets if i ==1])/1200,\"% of the selected documents!\")\n",
    "print(\"We have \",sum([1 for i in predictions1 if i ==1]),\" non zero predictions!\")"
   ]
  },
  {
   "cell_type": "code",
   "execution_count": null,
   "metadata": {
    "collapsed": true
   },
   "outputs": [],
   "source": [
    "#This is a Logistic Regression including class weights, as the classes are not evenly distributed and 1s are more important for our purpose.\n",
    "predictions2 = np.zeros(1000*len(test_query_ids))\n",
    "proba2 = np.zeros((1000*len(test_query_ids),2))\n",
    "kf = KFold(n_splits=10)\n",
    "for train_index, test_index in kf.split(details):\n",
    "    X_train, X_test = details[train_index], details[test_index]\n",
    "    y_train, y_test = targets[train_index], targets[test_index]\n",
    "    lr = LogisticRegression(class_weight={1:0.85, 0:0.15}) #we add class weights to weigh more heavy on predicting 1.\n",
    "    lr.fit(X_train, y_train)\n",
    "    predictions2[test_index] = lr.predict(X_test)\n",
    "    proba2[test_index] = lr.predict_proba(X_test)                   \n",
    "    print(\"The accuracy score for a single CV split is: \", lr.score(X_test, y_test))\n",
    "    \n",
    "overall_score = sum([1 for i in range(0,1000*len(test_query_ids)) if targets[i] == predictions2[i]])/(1000*len(test_query_ids))\n",
    "print(\"The overall accuracy score is: \",overall_score)\n",
    "print(\"We have \",sum([1 for i in predictions2 if i ==1]),\" non zero predictions!\")"
   ]
  },
  {
   "cell_type": "markdown",
   "metadata": {},
   "source": [
    "What we did is that we added the class weight, to count 1s more heavily in the scoring. We can see that with ~6000 predictions, the model more closely predicts the total amount of relevant docs (~7000). Although this drops the accuracy score from 94% to 91%, the trec_eval measures improve significantly (map 0.1231, P_5 0.2800, recall_1000  0.6432 and ndcg_cut_10 0.2847)."
   ]
  },
  {
   "cell_type": "code",
   "execution_count": null,
   "metadata": {
    "collapsed": true
   },
   "outputs": [],
   "source": [
    "print(\"These are the first 20 predictions: \", list(predictions2[:20]))\n",
    "print(\"These are the first 20 confindences: \", list(proba2[:20,1]))\n",
    "pos_proba = [i for i in proba2[:20,1] if i > 0.5]\n",
    "print(\"\")\n",
    "print(\"The positive predictions range between: \",min(pos_proba),\" and \",max(pos_proba),\" so there is quite some difference in prediction certainty.\")"
   ]
  },
  {
   "cell_type": "code",
   "execution_count": null,
   "metadata": {
    "collapsed": true
   },
   "outputs": [],
   "source": [
    "#Now we want to develop tf-idf for all documents and queries only for the query tokens (we cannot handle 270K tokens for now).\n",
    "unique_query_tokens = {}\n",
    "for query_id, query in queries.items():\n",
    "    query_word_ids = [token2id.get(query_token,0) for query_token in index.tokenize(query)] #get ids for all the words\n",
    "    query_word_ids = [word_id for word_id in query_word_ids if word_id > 0] #remove stop words\n",
    "    for t in query_word_ids:\n",
    "        unique_query_tokens[t] = 1\n",
    "query_keys = list(unique_query_tokens.keys())\n",
    "print(\"We have \",len(query_keys),\" distinct query tokens.\")\n",
    "\n",
    "tfidf_docs = np.zeros((index.maximum_document(), len(query_keys)))\n",
    "print(\"Making doc tfidf\")\n",
    "for query_term in query_keys:\n",
    "    idx = query_keys.index(query_term)\n",
    "    col_freq = collection_frequencies[query_term]\n",
    "    num_documents = index.maximum_document()\n",
    "    for int_doc_id in range(index.document_base(), index.maximum_document()):\n",
    "        try:\n",
    "            tfidf_docs[int_doc_id, idx] = float(np.log(1+inverted_index[query_term][int_document_id]) * np.log(num_documents/col_freq))\n",
    "        except:\n",
    "            tfidf_docs[int_doc_id, idx] = 0\n",
    "\n",
    "print(\"Making query tfidf\")\n",
    "tfidf_queries = np.zeros((len(test_query_ids), len(query_keys)))\n",
    "for query_term in query_keys:\n",
    "    idx = query_keys.index(query_term)\n",
    "    col_freq = collection_frequencies[query_term]\n",
    "    num_documents = index.maximum_document()\n",
    "    for q in range(0, len(test_query_ids)):\n",
    "        try:\n",
    "            tfidf_docs[int_doc_id, idx] = float(np.log(1+inverted_index[query_term][int_document_id]) * np.log(num_documents/col_freq))\n",
    "        except:\n",
    "            tfidf_docs[int_doc_id, idx] = 0"
   ]
  },
  {
   "cell_type": "markdown",
   "metadata": {},
   "source": [
    "Another issue is that every prediction is either 0/1, however LogisticRegression maps a value between 0-1 to a group. However we can use the confidence of being in class 1 of the LogisticRegression to score documents. This results in a significantly better scoring on trec_eval measures: map\t0.2103, P_5\t0.3967, recall_1000\t0.6432 and ndcg_cut_10 0.3868."
   ]
  },
  {
   "cell_type": "code",
   "execution_count": null,
   "metadata": {
    "collapsed": true
   },
   "outputs": [],
   "source": [
    "#This cell can put the results of the models into the .run files for evaluation.\n",
    "data = {}\n",
    "model_name = 'logistic_regression_weighted_prob'\n",
    "for q in range(0, len(test_query_ids)):\n",
    "    query_id = test_query_ids[q]\n",
    "    for key in range(0,1000):\n",
    "        external_document_id,_ = index.document(top1000_dict[query_id][key])\n",
    "        if query_id in data.keys():       \n",
    "            data[query_id].append((tuple([proba2[q*1000+key,1],str(external_document_id)])))\n",
    "        else:\n",
    "            data[query_id] = [((tuple([proba2[q*1000+key,1],str(external_document_id)])))]\n",
    "\n",
    "            \n",
    "run_out_path = '{}.run'.format(model_name)\n",
    "\n",
    "if os.path.exists(run_out_path):\n",
    "    print(\"File already exists\")\n",
    "else:\n",
    "    with open(run_out_path, 'w') as f_out:\n",
    "        write_run(\n",
    "            model_name=model_name,\n",
    "            data=data,\n",
    "            out_f=f_out,\n",
    "            max_objects_per_query=1000)"
   ]
  },
  {
   "cell_type": "markdown",
   "metadata": {
    "collapsed": true
   },
   "source": [
    "### Task 5: Write a report [15 points; instant FAIL if not provided] ###\n",
    "\n",
    "The report should be a PDF file created using the [sigconf ACM template](https://www.acm.org/publications/proceedings-template) and will determine a significant part of your grade.\n",
    "\n",
    "   * It should explain what you have implemented, motivate your experiments and detail what you expect to learn from them. **[10 points]**\n",
    "   * Lastly, provide a convincing analysis of your results and conclude the report accordingly. **[10 points]**\n",
    "      * Do all methods perform similarly on all queries? Why?\n",
    "      * Is there a single retrieval model that outperforms all other retrieval models (i.e., silver bullet)?\n",
    "      * ...\n",
    "\n",
    "**Hand in the report and your self-contained implementation source files.** Only send us the files that matter, organized in a well-documented zip/tgz file with clear instructions on how to reproduce your results. That is, we want to be able to regenerate all your results with minimal effort. You can assume that the index and ground-truth information is present in the same file structure as the one we have provided.\n"
   ]
  }
 ],
 "metadata": {
  "anaconda-cloud": {},
  "kernelspec": {
   "display_name": "Python 3",
   "language": "python",
   "name": "python3"
  },
  "language_info": {
   "codemirror_mode": {
    "name": "ipython",
    "version": 3
   },
   "file_extension": ".py",
   "mimetype": "text/x-python",
   "name": "python",
   "nbconvert_exporter": "python",
   "pygments_lexer": "ipython3",
   "version": "3.5.2"
  }
 },
 "nbformat": 4,
 "nbformat_minor": 1
}
