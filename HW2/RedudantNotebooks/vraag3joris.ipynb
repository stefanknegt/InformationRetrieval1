{
 "cells": [
  {
   "cell_type": "code",
   "execution_count": null,
   "metadata": {
    "collapsed": true
   },
   "outputs": [],
   "source": [
    "import copy\n",
    "import gensim\n",
    "import logging\n",
    "import pyndri\n",
    "import pyndri.compat\n",
    "import sys\n",
    "import time\n",
    "import pickle\n",
    "import numpy as np\n",
    "from nltk.stem.porter import PorterStemmer"
   ]
  },
  {
   "cell_type": "code",
   "execution_count": null,
   "metadata": {
    "collapsed": true
   },
   "outputs": [],
   "source": [
    "# Function that makes and saves a w2v model\n",
    "def calculate_word2vec():\n",
    "    dictionary = pyndri.extract_dictionary(index)\n",
    "    sentences = pyndri.compat.IndriSentences(index, dictionary)\n",
    "\n",
    "    word2vec = gensim.models.Word2Vec(sentences, min_count=1)\n",
    "    word2vec.save('W2V/w2v')\n",
    "    return\n",
    "\n",
    "# Function that load a w2v model\n",
    "def load_word2vec():\n",
    "    word_vectors = gensim.models.Word2Vec.load('W2V/w2v')\n",
    "    return word_vectors"
   ]
  },
  {
   "cell_type": "code",
   "execution_count": null,
   "metadata": {
    "collapsed": true
   },
   "outputs": [],
   "source": [
    "# A function that returns a vector representation of a word\n",
    "# INPUT\n",
    "# - a word, a string, like 'joris'\n",
    "# - word_vectors, a dictionary which returns the vector of a word\n",
    "# CODE\n",
    "# - returns the vector representation of a word. If this is not avalaible, it stems the word and finds the vector representation\n",
    "# RETURNS\n",
    "# - the vector representation of the (stemmed) word\n",
    "def get_vector_for_word(word,word_vectors):\n",
    "    try:\n",
    "        embedding = word_vectors[str(word)]\n",
    "        return embedding\n",
    "    except KeyError:\n",
    "        stemmed_word = PorterStemmer().stem(str(word))\n",
    "        return word_vectors[stemmed_word]\n",
    "#get_vector_for_word('panamas',word_vectors)"
   ]
  },
  {
   "cell_type": "code",
   "execution_count": null,
   "metadata": {
    "collapsed": true
   },
   "outputs": [],
   "source": [
    "# Function that determines the average vector of a test\n",
    "# INPUT\n",
    "# - a list of strings, for instance ['python','wizard']\n",
    "# - a word_vectors model\n",
    "# RETURNS\n",
    "# - a vector of size 100\n",
    "def get_average_vector(text,word_vectors):\n",
    "    \n",
    "    if len(text) == 0: # if the document is empty\n",
    "        return np.zeros(100)\n",
    "    \n",
    "    average = 0\n",
    "    for i in range(0,len(text)):\n",
    "        if i == 0:\n",
    "            average = copy.copy(get_vector_for_word(text[i],word_vectors))\n",
    "        else:\n",
    "            average += copy.copy(get_vector_for_word(text[i],word_vectors))\n",
    "    return average/len(text)    "
   ]
  },
  {
   "cell_type": "code",
   "execution_count": null,
   "metadata": {
    "collapsed": true
   },
   "outputs": [],
   "source": [
    "# Calculate the average word vector of document in the colletion\n",
    "# This is a preprocessing step\n",
    "# It returns a dict where dict[1] returns the average word vector of document 1\n",
    "def get_doc2vec():\n",
    "    doc2vec = {}\n",
    "\n",
    "    for i in range(1,num_documents+1):\n",
    "        doc_i = get_document(int2ext_ids[i])\n",
    "        \n",
    "        average_doc_vec = get_average_vector(doc_i,word_vectors)\n",
    "\n",
    "        doc2vec[i] = average_doc_vec\n",
    "    return doc2vec    "
   ]
  },
  {
   "cell_type": "code",
   "execution_count": null,
   "metadata": {
    "collapsed": true
   },
   "outputs": [],
   "source": [
    "# Function that saves the doc2vec dictionary to a pickle file\n",
    "def save_doc2vec():\n",
    "    doc2vec = get_doc2vec()\n",
    "    with open('doc2vec/doc2vec_dict.pickle', 'wb') as handle:\n",
    "            pickle.dump(doc2vec, handle, protocol=pickle.HIGHEST_PROTOCOL)\n",
    "    return\n",
    "\n",
    "# Function that loads the pickle doc2vec dictionary\n",
    "def load_doc2vec():\n",
    "    doc2vec = pickle.load(open('doc2vec/doc2vec_dict.pickle','rb'))\n",
    "    return doc2vec\n",
    "\n",
    "doc2vec = load_doc2vec()"
   ]
  },
  {
   "cell_type": "code",
   "execution_count": null,
   "metadata": {
    "collapsed": true
   },
   "outputs": [],
   "source": [
    "# Function that removes punctuation, and lowers a query\n",
    "# INPUT\n",
    "# - a list of strings, the query, for instance ['Airbus','Subsidies']\n",
    "# - token2id, a dictionary converting words to ids\n",
    "# RETURNS\n",
    "# - the same query lowercased without punctuation, for instance ['airbus','subsidies']\n",
    "def remove_punctuation(query,token2id):\n",
    "    \n",
    "    punctuation_list = ['\"', '(',')', '&','-',\"'\",'.','/','?']\n",
    "        \n",
    "    good_query = []\n",
    "    for word in query:           \n",
    "        \n",
    "        good_word = \"\"\n",
    "        if len(word) == 1 and word in punctuation_list:\n",
    "            if word == '&':\n",
    "                good_query.append('and')\n",
    "            else:\n",
    "                continue\n",
    "        elif word == 'vs' or word == 'vs.':\n",
    "            good_query.append('versus')\n",
    "        elif word == 'us' or word == 'U.S.' or word == \"U.S.'s\" or word == 'U.':\n",
    "            good_query.append('united')\n",
    "            good_query.append('states')\n",
    "        else:\n",
    "            for letter in word:\n",
    "                if letter not in punctuation_list:\n",
    "                    good_word += letter.lower()\n",
    "                elif letter == '-' or letter == \"'\" or letter == '/':\n",
    "                    good_query.append(good_word)\n",
    "                    good_word = \"\"\n",
    "            else:\n",
    "                good_query.append(good_word)\n",
    "        \n",
    "    if 'us' in good_query: # Replace 'us' with 'united','states'\n",
    "        place = good_query.index('us')\n",
    "        good_query.pop(int(place))\n",
    "        good_query.insert(int(place),'united')\n",
    "        good_query.insert(int(place) + 1 , 'states')\n",
    "       \n",
    "    \n",
    "    best_query = []\n",
    "    for word in good_query:\n",
    "        if word in token2id and len(word) > 1:\n",
    "            best_query.append(word)\n",
    "    \n",
    "    return best_query"
   ]
  },
  {
   "cell_type": "code",
   "execution_count": null,
   "metadata": {
    "collapsed": true
   },
   "outputs": [],
   "source": [
    "# Function that calculates the top1000 document ranking for a query\n",
    "# INPUT\n",
    "# - a query id, 51,200 (integer)\n",
    "# - token2id, a dictionary of tokens to IDs\n",
    "# - word_vectors, a dictionary of word_vectors\n",
    "# RETURNS\n",
    "# - a list of the 1000 documents, a list of form [(APYYYYY-YY,scoreY),(APXXXXX-XX,scoreX),(etc,score_etc),...],\n",
    "# , where the first element of the list is the best query result, and the last element of the list is the worst \n",
    "def average_vector_scores(query_id,token2id,word_vectors):\n",
    "    query = remove_punctuation(queries[str(query_id)].split(),token2id)\n",
    "    query_vec = get_average_vector(test_query,word_vectors)\n",
    "    \n",
    "    ranking = []\n",
    "    \n",
    "    for i in range(1,num_documents+1):\n",
    "        ext_doc_ID = int2ext_ids[i]\n",
    "        average_doc_vec = doc2vec[i]\n",
    "\n",
    "        score = ssd.cosine(average_query_vec,average_doc_vec)\n",
    "\n",
    "        ranking.append((ext_doc_ID,score))\n",
    "    \n",
    "    ranking.sort(key=itemgetter(1))\n",
    "    \n",
    "    return ranking[:1000]"
   ]
  }
 ],
 "metadata": {
  "kernelspec": {
   "display_name": "Python 3",
   "language": "python",
   "name": "python3"
  },
  "language_info": {
   "codemirror_mode": {
    "name": "ipython",
    "version": 3
   },
   "file_extension": ".py",
   "mimetype": "text/x-python",
   "name": "python",
   "nbconvert_exporter": "python",
   "pygments_lexer": "ipython3",
   "version": "3.5.2"
  }
 },
 "nbformat": 4,
 "nbformat_minor": 2
}
