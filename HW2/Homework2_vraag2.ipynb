{
 "cells": [
  {
   "cell_type": "markdown",
   "metadata": {},
   "source": [
    "# Information Retrieval 1#\n",
    "## Assignment 2: Retrieval models [100 points] ##"
   ]
  },
  {
   "cell_type": "markdown",
   "metadata": {},
   "source": [
    "In this assignment you will get familiar with basic and advanced information retrieval concepts. You will implement different information retrieval ranking models and evaluate their performance.\n",
    "\n",
    "We provide you with a Indri index. To query the index, you'll use a Python package ([pyndri](https://github.com/cvangysel/pyndri)) that allows easy access to the underlying document statistics.\n",
    "\n",
    "For evaluation you'll use the [TREC Eval](https://github.com/usnistgov/trec_eval) utility, provided by the National Institute of Standards and Technology of the United States. TREC Eval is the de facto standard way to compute Information Retrieval measures and is frequently referenced in scientific papers.\n",
    "\n",
    "This is a **groups-of-three assignment**, the deadline is **Wednesday, January 31st**. Code quality, informative comments and convincing analysis of the results will be considered when grading. Submission should be done through blackboard, questions can be asked on the course [Piazza](piazza.com/university_of_amsterdam/spring2018/52041inr6y/home).\n",
    "\n",
    "### Technicalities (must-read!) ###\n",
    "\n",
    "The assignment directory is organized as follows:\n",
    "   * `./assignment.ipynb` (this file): the description of the assignment.\n",
    "   * `./index/`: the index we prepared for you.\n",
    "   * `./ap_88_90/`: directory with ground-truth and evaluation sets:\n",
    "      * `qrel_test`: test query relevance collection (**test set**).\n",
    "      * `qrel_validation`: validation query relevance collection (**validation set**).\n",
    "      * `topics_title`: semicolon-separated file with query identifiers and terms.\n",
    "\n",
    "You will need the following software packages (tested with Python 3.5 inside [Anaconda](https://conda.io/docs/user-guide/install/index.html)):\n",
    "   * Python 3.5 and Jupyter\n",
    "   * Indri + Pyndri (Follow the installation instructions [here](https://github.com/nickvosk/pyndri/blob/master/README.md))\n",
    "   * gensim [link](https://radimrehurek.com/gensim/install.html)\n",
    "   * TREC Eval [link](https://github.com/usnistgov/trec_eval)"
   ]
  },
  {
   "cell_type": "markdown",
   "metadata": {},
   "source": [
    "### TREC Eval primer ###\n",
    "The TREC Eval utility can be downloaded and compiled as follows:\n",
    "\n",
    "    git clone https://github.com/usnistgov/trec_eval.git\n",
    "    cd trec_eval\n",
    "    make\n",
    "\n",
    "TREC Eval computes evaluation scores given two files: ground-truth information regarding relevant documents, named *query relevance* or *qrel*, and a ranking of documents for a set of queries, referred to as a *run*. The *qrel* will be supplied by us and should not be changed. For every retrieval model (or combinations thereof) you will generate a run of the top-1000 documents for every query. The format of the *run* file is as follows:\n",
    "\n",
    "    $query_identifier Q0 $document_identifier $rank_of_document_for_query $query_document_similarity $run_identifier\n",
    "    \n",
    "where\n",
    "   * `$query_identifier` is the unique identifier corresponding to a query (usually this follows a sequential numbering).\n",
    "   * `Q0` is a legacy field that you can ignore.\n",
    "   * `$document_identifier` corresponds to the unique identifier of a document (e.g., APXXXXXXX where AP denotes the collection and the Xs correspond to a unique numerical identifier).\n",
    "   * `$rank_of_document_for_query` denotes the rank of the document for the particular query. This field is ignored by TREC Eval and is only maintained for legacy support. The ranks are computed by TREC Eval itself using the `$query_document_similarity` field (see next). However, it remains good practice to correctly compute this field.\n",
    "   * `$query_document_similarity` is a score indicating the similarity between query and document where a higher score denotes greater similarity.\n",
    "   * `$run_identifier` is an identifier of the run. This field is for your own convenience and has no purpose beyond bookkeeping.\n",
    "   \n",
    "For example, say we have two queries: `Q1` and `Q2` and we rank three documents (`DOC1`, `DOC2`, `DOC3`). For query `Q1`, we find the following similarity scores `score(Q1, DOC1) = 1.0`, `score(Q1, DOC2) = 0.5`, `score(Q1, DOC3) = 0.75`; and for `Q2`: `score(Q2, DOC1) = -0.1`, `score(Q2, DOC2) = 1.25`, `score(Q1, DOC3) = 0.0`. We can generate run using the following snippet:"
   ]
  },
  {
   "cell_type": "code",
   "execution_count": 1,
   "metadata": {
    "scrolled": false
   },
   "outputs": [
    {
     "name": "stdout",
     "output_type": "stream",
     "text": [
      "Q1 Q0 DOC1 1 1.0 example\n",
      "Q1 Q0 DOC3 2 0.75 example\n",
      "Q1 Q0 DOC2 3 0.5 example\n",
      "Q2 Q0 DOC2 1 1.25 example\n",
      "Q2 Q0 DOC3 2 0.0 example\n",
      "Q2 Q0 DOC1 3 -0.1 example\n"
     ]
    }
   ],
   "source": [
    "import logging\n",
    "import sys\n",
    "import os\n",
    "\n",
    "def write_run(model_name, data, out_f,\n",
    "              max_objects_per_query=sys.maxsize,\n",
    "              skip_sorting=False):\n",
    "    \"\"\"\n",
    "    Write a run to an output file.\n",
    "    Parameters:\n",
    "        - model_name: identifier of run.\n",
    "        - data: dictionary mapping topic_id to object_assesments;\n",
    "            object_assesments is an iterable (list or tuple) of\n",
    "            (relevance, object_id) pairs.\n",
    "            The object_assesments iterable is sorted by decreasing order.\n",
    "        - out_f: output file stream.\n",
    "        - max_objects_per_query: cut-off for number of objects per query.\n",
    "    \"\"\"\n",
    "    for subject_id, object_assesments in data.items():\n",
    "        if not object_assesments:\n",
    "            logging.warning('Received empty ranking for %s; ignoring.',\n",
    "                            subject_id)\n",
    "\n",
    "            continue\n",
    "\n",
    "        #Probe types, to make sure everything goes alright.\n",
    "        assert isinstance(object_assesments[0][0], float) or \\\n",
    "             isinstance(object_assesments[0][0], np.float32)\n",
    "        assert isinstance(object_assesments[0][1], str) or \\\n",
    "            isinstance(object_assesments[0][1], bytes)\n",
    "\n",
    "        if not skip_sorting:\n",
    "            object_assesments = sorted(object_assesments, reverse=True)\n",
    "\n",
    "        if max_objects_per_query < sys.maxsize:\n",
    "            object_assesments = object_assesments[:max_objects_per_query]\n",
    "\n",
    "        if isinstance(subject_id, bytes):\n",
    "            subject_id = subject_id.decode('utf8')\n",
    "\n",
    "        for rank, (relevance, object_id) in enumerate(object_assesments):\n",
    "            if isinstance(object_id, bytes):\n",
    "                object_id = object_id.decode('utf8')\n",
    "\n",
    "            out_f.write(\n",
    "                '{subject} Q0 {object} {rank} {relevance} '\n",
    "                '{model_name}\\n'.format(\n",
    "                    subject=subject_id,\n",
    "                    object=object_id,\n",
    "                    rank=rank + 1,\n",
    "                    relevance=relevance,\n",
    "                    model_name=model_name))\n",
    "            \n",
    "# The following writes the run to standard output.\n",
    "# In your code, you should write the runs to local\n",
    "# storage in order to pass them to trec_eval.\n",
    "write_run(\n",
    "    model_name='example',\n",
    "    data={\n",
    "        'Q1': ((1.0, 'DOC1'), (0.5, 'DOC2'), (0.75, 'DOC3')),\n",
    "        'Q2': ((-0.1, 'DOC1'), (1.25, 'DOC2'), (0.0, 'DOC3')),\n",
    "    },\n",
    "    out_f=sys.stdout,\n",
    "    max_objects_per_query=1000)"
   ]
  },
  {
   "cell_type": "markdown",
   "metadata": {},
   "source": [
    "Now, imagine that we know that `DOC1` is relevant and `DOC3` is non-relevant for `Q1`. In addition, for `Q2` we only know of the relevance of `DOC3`. The query relevance file looks like:\n",
    "\n",
    "    Q1 0 DOC1 1\n",
    "    Q1 0 DOC3 0\n",
    "    Q2 0 DOC3 1\n",
    "    \n",
    "We store the run and qrel in files `example.run` and `example.qrel` respectively on disk. We can now use TREC Eval to compute evaluation measures. In this example, we're only interested in Mean Average Precision and we'll only show this below for brevity. However, TREC Eval outputs much more information such as NDCG, recall, precision, etc.\n",
    "\n",
    "    $ trec_eval -m all_trec -q example.qrel example.run | grep -E \"^map\\s\"\n",
    "    > map                   \tQ1\t1.0000\n",
    "    > map                   \tQ2\t0.5000\n",
    "    > map                   \tall\t0.7500\n",
    "    \n",
    "Now that we've discussed the output format of rankings and how you can compute evaluation measures from these rankings, we'll now proceed with an overview of the indexing framework you'll use."
   ]
  },
  {
   "cell_type": "markdown",
   "metadata": {},
   "source": [
    "### Pyndri primer ###\n",
    "For this assignment you will use [Pyndri](https://github.com/cvangysel/pyndri) [[1](https://arxiv.org/abs/1701.00749)], a python interface for [Indri](https://www.lemurproject.org/indri.php). We have indexed the document collection and you can query the index using Pyndri. We will start by giving you some examples of what Pyndri can do:\n",
    "\n",
    "First we read the document collection index with Pyndri:"
   ]
  },
  {
   "cell_type": "code",
   "execution_count": 2,
   "metadata": {
    "collapsed": true,
    "scrolled": true
   },
   "outputs": [],
   "source": [
    "import pyndri\n",
    "\n",
    "index = pyndri.Index('index/')"
   ]
  },
  {
   "cell_type": "markdown",
   "metadata": {},
   "source": [
    "The loaded index can be used to access a collection of documents in an easy manner. We'll give you some examples to get some idea of what it can do, it is up to you to figure out how to use it for the remainder of the assignment.\n",
    "\n",
    "First let's look at the number of documents, since Pyndri indexes the documents using incremental identifiers we can simply take the lowest index and the maximum document and consider the difference:"
   ]
  },
  {
   "cell_type": "code",
   "execution_count": 3,
   "metadata": {},
   "outputs": [
    {
     "name": "stdout",
     "output_type": "stream",
     "text": [
      "There are 164597 documents in this collection.\n"
     ]
    }
   ],
   "source": [
    "print(\"There are %d documents in this collection.\" % (index.maximum_document() - index.document_base()))"
   ]
  },
  {
   "cell_type": "markdown",
   "metadata": {},
   "source": [
    "Let's take the first document out of the collection and take a look at it:"
   ]
  },
  {
   "cell_type": "code",
   "execution_count": 4,
   "metadata": {
    "scrolled": true
   },
   "outputs": [
    {
     "name": "stdout",
     "output_type": "stream",
     "text": [
      "('AP890425-0001', (1360, 192, 363, 0, 880, 0, 200, 0, 894, 412, 92160, 3, 192, 0, 363, 34, 1441, 0, 174134, 0, 200, 0, 894, 412, 2652, 0, 810, 107, 49, 4903, 420, 0, 1, 48, 35, 489, 0, 35, 687, 192, 243, 0, 249311, 1877, 0, 1651, 1174, 0, 2701, 117, 412, 0, 810, 391, 245233, 1225, 5838, 16, 0, 233156, 3496, 0, 393, 17, 0, 2435, 4819, 930, 0, 0, 200, 0, 894, 0, 22, 398, 145, 0, 3, 271, 115, 0, 1176, 2777, 292, 0, 725, 192, 0, 0, 50046, 0, 1901, 1130, 0, 192, 0, 408, 0, 243779, 0, 0, 553, 192, 0, 363, 0, 3747, 0, 0, 0, 0, 1176, 0, 1239, 0, 0, 1115, 17, 0, 0, 585, 192, 1963, 0, 0, 412, 54356, 0, 773, 0, 0, 0, 192, 0, 0, 1130, 0, 363, 0, 545, 192, 0, 1174, 1901, 1130, 0, 4, 398, 145, 39, 0, 577, 0, 355, 0, 491, 0, 6025, 0, 0, 193156, 88, 34, 437, 0, 0, 1852, 0, 828, 0, 1588, 0, 0, 0, 2615, 0, 0, 107, 49, 420, 0, 0, 190, 7, 714, 2701, 0, 237, 192, 157, 0, 412, 34, 437, 0, 0, 200, 6025, 26, 0, 0, 0, 0, 363, 0, 22, 398, 145, 0, 200, 638, 126222, 6018, 0, 880, 0, 0, 161, 0, 0, 319, 894, 2701, 0, 0, 0, 301, 1200, 0, 363, 251, 430, 0, 207, 0, 76143, 1773, 0, 243779, 0, 0, 72030, 0, 55, 4903, 420, 0, 2701, 1496, 420, 0, 25480, 0, 420, 0, 0, 200, 0, 392, 2949, 0, 1738, 0, 61, 0, 71, 79, 0, 200, 903, 0, 188, 53, 6, 0, 476, 2, 0, 2028, 97, 334, 0, 0, 200, 178, 0, 0, 107, 49, 0, 214, 0, 0, 0, 114, 3866, 1505, 195, 79893, 574, 0, 198, 2160, 0, 192, 0, 420, 0, 384, 0, 2701, 0, 114, 6025, 1549, 74627, 0, 238, 0, 0, 0, 3729, 0, 192, 0, 79893, 0, 0, 729, 3141, 129, 0, 192, 196764, 39, 0, 0, 714, 63, 0, 55, 420, 3356, 0, 0, 117, 412, 0, 0, 79758, 0, 1901, 1130, 4067, 2133, 0, 0, 875, 72, 0, 0, 336, 2789, 0, 0, 25, 920, 121, 104, 0, 3162, 0, 0, 420, 0, 2178, 0, 0, 386, 192545, 159306, 0, 0, 0, 1914, 0, 200, 0, 1794, 0, 2654, 0, 0, 25480, 420, 0, 2795, 0, 0, 229690, 0, 32559, 0, 0, 392, 253919, 0, 0, 0, 0, 379, 0, 0, 114, 0, 553, 10, 0, 1128, 0, 23610, 248, 151, 0, 418, 0, 651, 0, 36, 0, 0, 645, 0, 0, 513, 0, 0, 25480, 420, 34, 0, 0, 0, 15, 0, 3348, 0, 3496, 0, 35, 687, 0, 1, 48, 0, 0, 2803, 0, 0, 714, 1274, 0, 114, 62, 1006, 70268, 1200, 2357, 0, 497, 0, 497, 125, 0, 913, 4647, 3985, 0, 0, 3370, 245233, 0, 0, 687, 0, 4, 1288, 0, 0, 0, 0, 715, 0, 0, 687, 583, 0, 0, 1627, 0, 0, 11, 357, 1359, 0, 849, 0, 0, 1518, 462, 245233, 0, 0, 0, 0, 0, 0, 171, 70268, 0))\n"
     ]
    }
   ],
   "source": [
    "example_document = index.document(index.document_base())\n",
    "print(example_document)"
   ]
  },
  {
   "cell_type": "markdown",
   "metadata": {},
   "source": [
    "Here we see a document consists of two things, a string representing the external document identifier and an integer list representing the identifiers of words that make up the document. Pyndri uses integer representations for words or terms, thus a token_id is an integer that represents a word whereas the token is the actual text of the word/term. Every id has a unique token and vice versa with the exception of stop words: words so common that there are uninformative, all of these receive the zero id.\n",
    "\n",
    "To see what some ids and their matching tokens we take a look at the dictionary of the index:"
   ]
  },
  {
   "cell_type": "code",
   "execution_count": 5,
   "metadata": {},
   "outputs": [
    {
     "name": "stdout",
     "output_type": "stream",
     "text": [
      "[(1, 'new'), (2, 'percent'), (3, 'two'), (4, '1'), (5, 'people'), (6, 'million'), (7, '000'), (8, 'government'), (9, 'president'), (10, 'years'), (11, 'state'), (12, '2'), (13, 'states'), (14, 'three'), (15, 'time')]\n"
     ]
    }
   ],
   "source": [
    "token2id, id2token, _ = index.get_dictionary()\n",
    "print(list(id2token.items())[:15])"
   ]
  },
  {
   "cell_type": "markdown",
   "metadata": {},
   "source": [
    "Using this dictionary we can see the tokens for the (non-stop) words in our example document:"
   ]
  },
  {
   "cell_type": "code",
   "execution_count": 6,
   "metadata": {},
   "outputs": [
    {
     "name": "stdout",
     "output_type": "stream",
     "text": [
      "['52', 'students', 'arrested', 'takeover', 'university', 'massachusetts', 'building', 'fifty', 'two', 'students', 'arrested', 'tuesday', 'evening', 'occupying', 'university', 'massachusetts', 'building', 'overnight', 'protest', 'defense', 'department', 'funded', 'research', 'new', 'york', 'city', 'thousands', 'city', 'college', 'students', 'got', 'unscheduled', 'holiday', 'demonstrators', 'occupied', 'campus', 'administration', 'building', 'protest', 'possible', 'tuition', 'increases', 'prompting', 'officials', 'suspend', 'classes', '60', 'police', 'riot', 'gear', 'arrived', 'university', 'massachusetts', '5', 'p', 'm', 'two', 'hours', 'later', 'bus', 'drove', 'away', '29', 'students', 'camped', 'memorial', 'hall', 'students', 'charged', 'trespassing', '23', 'students', 'arrested', 'lying', 'bus', 'prevent', 'leaving', 'police', '300', 'students', 'stood', 'building', 'chanting', 'looking', 'students', 'hall', 'arrested', '35', 'students', 'occupied', 'memorial', 'hall', '1', 'p', 'm', 'monday', 'declined', 'offer', 'meet', 'administrators', 'provosts', 'office', 'tuesday', 'morning', 'presented', 'list', 'demands', 'halt', 'defense', 'department', 'research', '25', '000', 'student', 'campus', '40', 'students', 'left', 'building', 'tuesday', 'morning', 'university', 'administrators', 'told', 'arrested', '5', 'p', 'm', 'university', 'spokeswoman', 'jeanne', 'hopkins', 'takeover', 'second', 'western', 'massachusetts', 'campus', 'seven', 'protesters', 'arrested', 'april', '19', 'charges', 'disorderly', 'conduct', 'trespassing', 'demonstrating', 'military', 'funded', 'research', 'campus', 'particularly', 'research', 'anthrax', 'research', 'university', 'non', 'classified', 'researchers', 'make', 'work', 'public', 'university', 'rules', '11', '6', 'million', '22', 'percent', 'grant', 'money', 'received', 'university', 'came', 'defense', 'department', '1988', 'school', 'chancellor', 'joseph', 'd', 'duffey', 'issued', 'statement', 'telling', 'students', 'research', 'continue', 'campus', 'school', 'administrators', 'decide', 'differently', 'policy', 'negotiated', 'students', 'duffey', 'latest', 'occupation', 'began', 'students', 'rallying', 'monday', 'student', 'union', 'military', 'research', 'marched', 'administration', 'building', 'ducked', 'memorial', 'hall', 'en', 'route', 'followed', 'members', 'local', 'chapter', 'american', 'friends', 'service', 'committee', 'contended', 'research', 'dangerous', 'town', 'promotes', 'militarism', 'banned', 'university', 'argued', 'purpose', 'anthrax', 'research', 'peaceful', 'strain', 'bacteria', 'non', 'virulent', 'study', 'school', '23', 'years', 'incident', 'amherst', 'health', 'board', 'scheduled', 'hearing', 'wednesday', 'question', 'safety', 'anthrax', 'research', 'tuesday', 'time', '1969', 'classes', 'city', 'college', 'new', 'york', 'canceled', 'student', 'protests', 'school', 'spokesman', 'charles', 'deciccio', 'protesters', 'demanding', 'face', 'face', 'meeting', 'gov', 'mario', 'cuomo', 'feared', 'tuition', 'college', '1', '250', 'increased', 'college', 'staff', 'reduced', 'state', 'budget', 'cuts', 'governor', 'immediate', 'comment', 'tuition', 'set', 'deciccio']\n"
     ]
    }
   ],
   "source": [
    "print([id2token[word_id] for word_id in example_document[1] if word_id > 0])"
   ]
  },
  {
   "cell_type": "markdown",
   "metadata": {},
   "source": [
    "The reverse can also be done, say we want to look for news about the \"University of Massachusetts\", the tokens of that query can be converted to ids using the reverse dictionary:"
   ]
  },
  {
   "cell_type": "code",
   "execution_count": 7,
   "metadata": {},
   "outputs": [
    {
     "name": "stdout",
     "output_type": "stream",
     "text": [
      "Query by tokens: ['university', '', 'massachusetts']\n",
      "Query by ids with stopwords: [200, 0, 894]\n",
      "Query by ids without stopwords: [200, 894]\n"
     ]
    }
   ],
   "source": [
    "query_tokens = index.tokenize(\"University of Massachusetts\")\n",
    "print(\"Query by tokens:\", query_tokens)\n",
    "query_id_tokens = [token2id.get(query_token,0) for query_token in query_tokens]\n",
    "print(\"Query by ids with stopwords:\", query_id_tokens)\n",
    "query_id_tokens = [word_id for word_id in query_id_tokens if word_id > 0]\n",
    "print(\"Query by ids without stopwords:\", query_id_tokens)"
   ]
  },
  {
   "cell_type": "markdown",
   "metadata": {},
   "source": [
    "Naturally we can now match the document and query in the id space, let's see how often a word from the query occurs in our example document:"
   ]
  },
  {
   "cell_type": "code",
   "execution_count": 8,
   "metadata": {},
   "outputs": [
    {
     "name": "stdout",
     "output_type": "stream",
     "text": [
      "Document AP890425-0001 has 13 word matches with query: \"university  massachusetts\".\n",
      "Document AP890425-0001 and query \"university  massachusetts\" have a 2.5% overlap.\n"
     ]
    }
   ],
   "source": [
    "matching_words = sum([True for word_id in example_document[1] if word_id in query_id_tokens])\n",
    "print(\"Document %s has %d word matches with query: \\\"%s\\\".\" % (example_document[0], matching_words, ' '.join(query_tokens)))\n",
    "print(\"Document %s and query \\\"%s\\\" have a %.01f%% overlap.\" % (example_document[0], ' '.join(query_tokens),matching_words/float(len(example_document[1]))*100))"
   ]
  },
  {
   "cell_type": "markdown",
   "metadata": {},
   "source": [
    "While this is certainly not everything Pyndri can do, it should give you an idea of how to use it. Please take a look at the [examples](https://github.com/cvangysel/pyndri) as it will help you a lot with this assignment.\n",
    "\n",
    "**CAUTION**: Avoid printing out the whole index in this Notebook as it will generate a lot of output and is likely to corrupt the Notebook."
   ]
  },
  {
   "cell_type": "markdown",
   "metadata": {},
   "source": [
    "### Parsing the query file\n",
    "You can parse the query file (`ap_88_89/topics_title`) using the following snippet:"
   ]
  },
  {
   "cell_type": "code",
   "execution_count": 9,
   "metadata": {},
   "outputs": [
    {
     "name": "stdout",
     "output_type": "stream",
     "text": [
      "OrderedDict([('51', 'Airbus Subsidies'), ('52', 'South African Sanctions'), ('53', 'Leveraged Buyouts'), ('54', 'Satellite Launch Contracts'), ('55', 'Insider Trading')])\n"
     ]
    }
   ],
   "source": [
    "import collections\n",
    "import io\n",
    "import logging\n",
    "import sys\n",
    "\n",
    "def parse_topics(file_or_files,\n",
    "                 max_topics=sys.maxsize, delimiter=';'):\n",
    "    assert max_topics >= 0 or max_topics is None\n",
    "\n",
    "    topics = collections.OrderedDict()\n",
    "\n",
    "    if not isinstance(file_or_files, list) and \\\n",
    "            not isinstance(file_or_files, tuple):\n",
    "        if hasattr(file_or_files, '__iter__'):\n",
    "            file_or_files = list(file_or_files)\n",
    "        else:\n",
    "            file_or_files = [file_or_files]\n",
    "\n",
    "    for f in file_or_files:\n",
    "        assert isinstance(f, io.IOBase)\n",
    "\n",
    "        for line in f:\n",
    "            assert(isinstance(line, str))\n",
    "\n",
    "            line = line.strip()\n",
    "\n",
    "            if not line:\n",
    "                continue\n",
    "\n",
    "            topic_id, terms = line.split(delimiter, 1)\n",
    "\n",
    "            if topic_id in topics and (topics[topic_id] != terms):\n",
    "                    logging.error('Duplicate topic \"%s\" (%s vs. %s).',\n",
    "                                  topic_id,\n",
    "                                  topics[topic_id],\n",
    "                                  terms)\n",
    "\n",
    "            topics[topic_id] = terms\n",
    "\n",
    "            if max_topics > 0 and len(topics) >= max_topics:\n",
    "                break\n",
    "\n",
    "    return topics\n",
    "\n",
    "with open('./ap_88_89/topics_title', 'r') as f_topics:\n",
    "    print(parse_topics([f_topics]))"
   ]
  },
  {
   "cell_type": "markdown",
   "metadata": {},
   "source": [
    "### Task 1: Implement and compare lexical IR methods [35 points] ### \n",
    "\n",
    "In this task you will implement a number of lexical methods for IR using the **Pyndri** framework. Then you will evaluate these methods on the dataset we have provided using **TREC Eval**.\n",
    "\n",
    "Use the **Pyndri** framework to get statistics of the documents (term frequency, document frequency, collection frequency; **you are not allowed to use the query functionality of Pyndri**) and implement the following scoring methods in **Python**:\n",
    "\n",
    "- [TF-IDF](http://nlp.stanford.edu/IR-book/html/htmledition/tf-idf-weighting-1.html) and \n",
    "- [BM25](http://nlp.stanford.edu/IR-book/html/htmledition/okapi-bm25-a-non-binary-model-1.html) with k1=1.2 and b=0.75. **[5 points]**\n",
    "- Language models ([survey](https://drive.google.com/file/d/0B-zklbckv9CHc0c3b245UW90NE0/view))\n",
    "    - Jelinek-Mercer (explore different values of 𝛌 in the range [0.1, 0.5, 0.9]). **[5 points]**\n",
    "    - Dirichlet Prior (explore different values of 𝛍 [500, 1000, 1500]). **[5 points]**\n",
    "    - Absolute discounting (explore different values of 𝛅 in the range [0.1, 0.5, 0.9]). **[5 points]**\n",
    "    - [Positional Language Models](http://sifaka.cs.uiuc.edu/~ylv2/pub/sigir09-plm.pdf) define a language model for each position of a document, and score a document based on the scores of its PLMs. The PLM is estimated based on propagated counts of words within a document through a proximity-based density function, which both captures proximity heuristics and achieves an effect of “soft” passage retrieval. Implement the PLM, all five kernels, but only the Best position strategy to score documents. Use 𝛔 equal to 50, and Dirichlet smoothing with 𝛍 optimized on the validation set (decide how to optimize this value yourself and motivate your decision in the report). **[10 points]**\n",
    "    \n",
    "Implement the above methods and report evaluation measures (on the test set) using the hyper parameter values you optimized on the validation set (also report the values of the hyper parameters). Use TREC Eval to obtain the results and report on `NDCG@10`, Mean Average Precision (`MAP@1000`), `Precision@5` and `Recall@1000`.\n",
    "\n",
    "For the language models, create plots showing `NDCG@10` with varying values of the parameters. You can do this by chaining small scripts using shell scripting (preferred) or execute trec_eval using Python's `subprocess`.\n",
    "\n",
    "Compute significance of the results using a [two-tailed paired Student t-test](https://docs.scipy.org/doc/scipy/reference/generated/scipy.stats.ttest_rel.html) **[5 points]**. Be wary of false rejection of the null hypothesis caused by the [multiple comparisons problem](https://en.wikipedia.org/wiki/Multiple_comparisons_problem). There are multiple ways to mitigate this problem and it is up to you to choose one.\n",
    "\n",
    "Analyse the results by identifying specific queries where different methods succeed or fail and discuss possible reasons that cause these differences. This is *very important* in order to understand who the different retrieval functions behave.\n",
    "\n",
    "**NOTE**: Don’t forget to use log computations in your calculations to avoid underflows. "
   ]
  },
  {
   "cell_type": "markdown",
   "metadata": {},
   "source": [
    "**IMPORTANT**: You should structure your code around the helper functions we provide below."
   ]
  },
  {
   "cell_type": "code",
   "execution_count": 10,
   "metadata": {},
   "outputs": [
    {
     "name": "stdout",
     "output_type": "stream",
     "text": [
      "Gathering statistics about 12 terms.\n",
      "Inverted index creation took 10.644523620605469 seconds.\n"
     ]
    }
   ],
   "source": [
    "import time\n",
    "start_time = time.time()\n",
    "with open('./ap_88_89/topics_title', 'r') as f_topics:\n",
    "    queries = parse_topics([f_topics])\n",
    "\n",
    "index = pyndri.Index('index/')\n",
    "\n",
    "num_documents = index.maximum_document() - index.document_base()\n",
    "\n",
    "dictionary = pyndri.extract_dictionary(index)\n",
    "\n",
    "tokenized_queries = {\n",
    "    query_id: [dictionary.translate_token(token)\n",
    "               for token in index.tokenize(query_string)\n",
    "               if dictionary.has_token(token)]\n",
    "    for query_id, query_string in queries.items()}\n",
    "\n",
    "query_term_ids = set(\n",
    "    query_term_id\n",
    "    for query_term_ids in tokenized_queries.values()\n",
    "    for query_term_id in query_term_ids)\n",
    "\n",
    "print('Gathering statistics about', len(query_term_ids), 'terms.')\n",
    "\n",
    "# inverted index creation.\n",
    "\n",
    "document_lengths = {}\n",
    "unique_terms_per_document = {}\n",
    "\n",
    "inverted_index = collections.defaultdict(dict)\n",
    "collection_frequencies = collections.defaultdict(int)\n",
    "\n",
    "total_terms = 0\n",
    "\n",
    "for int_doc_id in range(index.document_base(), index.maximum_document()):\n",
    "    ext_doc_id, doc_token_ids = index.document(int_doc_id)\n",
    "\n",
    "    document_bow = collections.Counter(\n",
    "        token_id for token_id in doc_token_ids\n",
    "        if token_id > 0)\n",
    "    document_length = sum(document_bow.values())\n",
    "\n",
    "    document_lengths[int_doc_id] = document_length\n",
    "    total_terms += document_length\n",
    "\n",
    "    unique_terms_per_document[int_doc_id] = len(document_bow)\n",
    "\n",
    "    for query_term_id in query_term_ids:\n",
    "        assert query_term_id is not None\n",
    "\n",
    "        document_term_frequency = document_bow.get(query_term_id, 0)\n",
    "\n",
    "        if document_term_frequency == 0:\n",
    "            continue\n",
    "\n",
    "        collection_frequencies[query_term_id] += document_term_frequency\n",
    "        inverted_index[query_term_id][int_doc_id] = document_term_frequency\n",
    "\n",
    "\n",
    "avg_doc_length = total_terms / num_documents\n",
    "print('Inverted index creation took', time.time() - start_time, 'seconds.')"
   ]
  },
  {
   "cell_type": "code",
   "execution_count": 11,
   "metadata": {},
   "outputs": [
    {
     "name": "stdout",
     "output_type": "stream",
     "text": [
      "We have  120  and  30  query ids for the test and valid sets.\n"
     ]
    }
   ],
   "source": [
    "test_query_ids = []\n",
    "with open('./ap_88_89/qrel_test', 'r') as test_queries:\n",
    "    for line in test_queries:\n",
    "        query_id = line.split(' ')[0]\n",
    "        if query_id not in test_query_ids:\n",
    "            test_query_ids.append(query_id)\n",
    "\n",
    "valid_query_ids = []\n",
    "with open('./ap_88_89/qrel_validation', 'r') as valid_queries:\n",
    "    for line in valid_queries:\n",
    "        query_id = line.split(' ')[0]\n",
    "        if query_id not in valid_query_ids:\n",
    "            valid_query_ids.append(query_id)\n",
    "            \n",
    "print('We have ',len(test_query_ids),' and ',len(valid_query_ids),' query ids for the test and valid sets.')"
   ]
  },
  {
   "cell_type": "code",
   "execution_count": 12,
   "metadata": {
    "collapsed": true
   },
   "outputs": [],
   "source": [
    "def run_retrieval(model_name, score_fn):\n",
    "    \"\"\"\n",
    "    Runs a retrieval method for all the queries and writes the TREC-friendly results in a file.\n",
    "    \n",
    "    :param model_name: the name of the model (a string)\n",
    "    :param score_fn: the scoring function (a function - see below for an example) \n",
    "    \"\"\"\n",
    "    run_out_path = '{}.run'.format(model_name)\n",
    "\n",
    "    if os.path.exists(run_out_path):\n",
    "        print(\"File already exists\")\n",
    "        return\n",
    "    \n",
    "    retrieval_start_time = time.time()\n",
    "\n",
    "    print('Retrieving using', model_name)\n",
    "    data = {}\n",
    "    count = 0\n",
    "    # TODO: fill the data dictionary. \n",
    "    # The dictionary data should have the form: query_id --> (document_score, external_doc_id)\n",
    "    if model_name == 'tf-idf' or model_name == 'BM25':\n",
    "        for query_id, query in queries.items():\n",
    "            score = 0.0\n",
    "            query_word_ids = [token2id.get(query_token,0) for query_token in index.tokenize(query)] #get ids for all the words\n",
    "            query_word_ids = [word_id for word_id in query_word_ids if word_id > 0] #remove stop words\n",
    "            #print(query,query_word_ids)\n",
    "            for int_doc_id in range(index.document_base(), index.maximum_document()):\n",
    "                score = 0\n",
    "                external_document_id,_ = index.document(int_doc_id) #Get the external doc id for this document\n",
    "                for query_word in query_word_ids:\n",
    "                    if int_doc_id in inverted_index[query_word].keys():\n",
    "                        score += score_fn(int_doc_id,query_word,collection_frequencies[query_word])\n",
    "                    else: \n",
    "                        score += 0.0\n",
    "                    assert(isinstance(score,float))\n",
    "                if query_id in data.keys():       \n",
    "                    data[query_id].append((tuple([score,str(external_document_id)])))\n",
    "                else:\n",
    "                    data[query_id] = [((tuple([score,str(external_document_id)])))]\n",
    "    elif model_name == 'JelinekMercer' or model_name == 'Dirichlet' or model_name == 'AbsoluteDiscounting':\n",
    "        counter = 0\n",
    "        for query_id, query in queries.items():\n",
    "            if counter < 5:\n",
    "                print(query_id)\n",
    "                for int_doc_id in range(index.document_base(), index.maximum_document()):\n",
    "                    external_document_id,_ = index.document(int_doc_id) #Get the external doc id for this document\n",
    "                    score = score_fn(int_doc_id, query, collection_frequencies)\n",
    "                    if query_id in data.keys():       \n",
    "                        data[query_id].append((tuple([score,str(external_document_id)])))\n",
    "                    else:\n",
    "                        data[query_id] = [((tuple([score,str(external_document_id)])))]\n",
    "                counter += 1\n",
    "    else:\n",
    "        print('Please give me a valid model_name!')\n",
    "        \n",
    "        #print(len(data[query_id]))\n",
    "    with open(run_out_path, 'w') as f_out:\n",
    "        write_run(\n",
    "            model_name=model_name,\n",
    "            data=data,\n",
    "            out_f=f_out,\n",
    "            max_objects_per_query=1000)"
   ]
  },
  {
   "cell_type": "code",
   "execution_count": 13,
   "metadata": {
    "scrolled": false
   },
   "outputs": [
    {
     "name": "stdout",
     "output_type": "stream",
     "text": [
      "South African Sanctions\n",
      "[2208, 48553, 235, 846, 5872]\n",
      "{14: 1, 65: 2, 111: 2, 112: 1, 150: 1, 154: 1, 188: 6, 200: 10, 221: 1, 229: 8, 232: 1, 247: 2, 379: 2, 383: 2, 384: 1, 401: 1, 648: 1, 670: 3, 688: 2, 723: 1, 751: 2, 756: 3, 794: 1, 823: 2, 913: 1, 998: 1, 999: 1, 1022: 2, 1046: 2, 1063: 2, 1299: 1, 1326: 5, 1329: 1, 1360: 1, 1380: 1, 1389: 1, 1399: 4, 1414: 1, 1426: 3, 1444: 2, 1725: 3, 1735: 1, 1739: 3, 1745: 1, 1796: 4, 1810: 2, 1855: 3, 1863: 3, 1960: 1, 1986: 2, 2005: 1, 2024: 1, 2042: 1, 2060: 1, 2130: 1, 2178: 1, 2237: 1, 2420: 3, 2472: 6, 2483: 3, 2493: 2, 2569: 3, 2619: 2, 2620: 3, 2637: 4, 2824: 3, 2876: 1, 2884: 1, 2895: 5, 2913: 4, 2947: 1, 2957: 3, 2977: 2, 3030: 1, 3104: 8, 3119: 1, 3124: 1, 3163: 1, 3205: 1, 3216: 1, 3247: 1, 3260: 2, 3366: 1, 3484: 5, 3501: 3, 3522: 6, 3566: 1, 3576: 1, 3630: 6, 3650: 1, 3658: 2, 3709: 2, 3723: 4, 3735: 1, 3764: 1, 3769: 1, 3795: 3, 3836: 2, 3899: 1, 3904: 1, 3923: 1, 3941: 1, 4026: 1, 4040: 2, 4055: 5, 4097: 2, 4130: 1, 4158: 5, 4373: 6, 4419: 1, 4421: 1, 4458: 1, 4464: 2, 4566: 1, 4608: 1, 4681: 1, 4682: 1, 4755: 1, 4811: 1, 4822: 1, 4831: 3, 4877: 4, 4880: 1, 4901: 1, 4911: 7, 4915: 4, 4922: 1, 4940: 1, 4943: 7, 5046: 1, 5086: 6, 5098: 1, 5184: 6, 5199: 1, 5292: 1, 5304: 1, 5362: 2, 5474: 1, 5528: 1, 5581: 2, 5589: 1, 5606: 1, 5622: 1, 5634: 1, 5674: 1, 5677: 1, 5711: 1, 5751: 7, 5787: 1, 5822: 1, 5933: 2, 5950: 1, 5959: 2, 5965: 1, 5977: 5, 6022: 4, 6184: 3, 6198: 4, 6243: 2, 6256: 1, 6454: 8, 6457: 1, 6465: 2, 6481: 1, 6483: 4, 6520: 3, 6528: 1, 6564: 5, 6567: 1, 6608: 2, 6621: 1, 6755: 1, 6791: 2, 6808: 1, 6899: 1, 6925: 1, 7043: 1, 7048: 1, 7057: 1, 7080: 1, 7202: 1, 7291: 1, 7377: 1, 7518: 4, 7521: 2, 7567: 2, 7622: 1, 7682: 1, 7786: 2, 7791: 1, 7856: 2, 7900: 1, 8062: 1, 8101: 1, 8112: 2, 8122: 1, 8134: 2, 8154: 1, 8168: 2, 8189: 1, 8279: 1, 8324: 1, 8333: 1, 8346: 2, 8347: 2, 8370: 2, 8385: 1, 8461: 1, 8664: 4, 8683: 7, 8734: 1, 8783: 1, 8884: 1, 8892: 1, 8923: 4, 8946: 1, 9024: 1, 9035: 2, 9044: 1, 9059: 1, 9118: 2, 9195: 1, 9208: 2, 9246: 1, 9386: 1, 9389: 2, 9434: 1, 9492: 5, 9493: 2, 9559: 3, 9639: 2, 9652: 1, 9654: 1, 9655: 2, 9778: 1, 9786: 1, 9806: 1, 9819: 3, 9842: 1, 9858: 3, 9909: 2, 9922: 1, 10004: 1, 10148: 1, 10177: 1, 10202: 2, 10222: 1, 10226: 1, 10339: 1, 10353: 2, 10453: 2, 10484: 1, 10504: 6, 10640: 1, 10651: 2, 10741: 1, 10840: 5, 10892: 3, 10947: 1, 10987: 8, 10989: 7, 11035: 5, 11049: 2, 11068: 4, 11101: 1, 11104: 8, 11113: 6, 11115: 1, 11144: 1, 11154: 1, 11170: 3, 11186: 1, 11376: 1, 11380: 1, 11414: 1, 11420: 3, 11423: 2, 11431: 8, 11503: 3, 11506: 1, 11511: 3, 11586: 3, 11596: 3, 11605: 3, 11628: 1, 11677: 1, 11865: 3, 11887: 1, 11975: 2, 11984: 1, 11990: 5, 12022: 1, 12204: 1, 12245: 3, 12265: 3, 12290: 3, 12303: 5, 12351: 1, 12476: 3, 12512: 2, 12518: 1, 12590: 1, 12612: 2, 12674: 1, 12803: 1, 12814: 2, 12846: 2, 12952: 3, 12963: 2, 12994: 1, 13078: 1, 13079: 5, 13119: 1, 13122: 1, 13178: 2, 13189: 8, 13246: 1, 13255: 9, 13367: 1, 13375: 2, 13382: 1, 13437: 1, 13445: 2, 13446: 2, 13447: 1, 13467: 3, 13566: 2, 13646: 1, 13674: 4, 13710: 2, 13742: 2, 13787: 2, 13806: 2, 13823: 1, 13845: 1, 13947: 2, 14049: 1, 14062: 10, 14127: 3, 14144: 4, 14259: 1, 14322: 4, 14349: 8, 14433: 2, 14441: 1, 14459: 1, 14485: 1, 14497: 1, 14585: 1, 14591: 4, 14592: 1, 14595: 2, 14612: 1, 14614: 3, 14623: 1, 14659: 2, 14744: 1, 14791: 1, 15061: 1, 15083: 1, 15084: 1, 15095: 1, 15146: 1, 15160: 8, 15204: 2, 15221: 1, 15238: 1, 15257: 2, 15427: 2, 15443: 3, 15457: 2, 15495: 1, 15539: 1, 15542: 2, 15549: 1, 15561: 1, 15572: 1, 15705: 1, 15713: 1, 15717: 1, 15748: 1, 15783: 1, 15814: 6, 15966: 1, 15967: 3, 16035: 1, 16037: 1, 16058: 1, 16069: 1, 16088: 8, 16153: 4, 16163: 1, 16169: 1, 16174: 1, 16181: 1, 16183: 1, 16227: 5, 16417: 14, 16422: 3, 16444: 1, 16450: 3, 16480: 14, 16497: 1, 16514: 4, 16554: 1, 16562: 7, 16636: 1, 16639: 1, 16645: 1, 16652: 1, 16710: 3, 16795: 1, 16812: 1, 16817: 1, 16916: 2, 16984: 3, 16993: 1, 16997: 1, 17024: 3, 17029: 4, 17038: 4, 17054: 1, 17092: 2, 17118: 8, 17119: 7, 17125: 1, 17146: 1, 17230: 1, 17351: 1, 17462: 1, 17522: 1, 17541: 2, 17557: 7, 17600: 1, 17629: 2, 17658: 5, 17824: 2, 17899: 1, 17952: 2, 17959: 1, 17964: 1, 17983: 3, 17987: 6, 18141: 5, 18192: 3, 18285: 1, 18301: 2, 18376: 4, 18432: 2, 18496: 5, 18563: 7, 18586: 2, 18608: 1, 18665: 3, 18680: 1, 18707: 2, 18718: 5, 18739: 1, 18768: 1, 18787: 1, 18797: 1, 18803: 2, 18837: 7, 18843: 1, 18875: 1, 18883: 6, 18931: 1, 18936: 1, 18938: 1, 18956: 2, 18970: 1, 19101: 1, 19154: 4, 19176: 1, 19222: 4, 19264: 3, 19317: 2, 19382: 1, 19397: 1, 19406: 1, 19429: 4, 19446: 6, 19505: 1, 19513: 7, 19581: 4, 19582: 1, 19586: 4, 19602: 1, 19611: 1, 19657: 2, 19797: 1, 19799: 1, 19821: 1, 19847: 1, 19848: 4, 19871: 3, 19893: 1, 19898: 1, 20034: 5, 20075: 1, 20076: 1, 20077: 1, 20128: 2, 20162: 2, 20166: 2, 20330: 2, 20339: 1, 20354: 4, 20363: 2, 20384: 5, 20387: 3, 20420: 2, 20448: 2, 20466: 4, 20585: 1, 20631: 2, 20656: 2, 20666: 1, 20680: 1, 20692: 2, 20713: 5, 20722: 2, 20727: 1, 20743: 3, 20764: 6, 20768: 1, 20770: 1, 20796: 3, 20921: 1, 20931: 4, 20982: 4, 21023: 1, 21030: 2, 21044: 1, 21166: 1, 21185: 1, 21191: 2, 21225: 1, 21253: 1, 21305: 1, 21328: 3, 21394: 4, 21423: 1, 21424: 2, 21451: 2, 21452: 1, 21565: 4, 21584: 3, 21613: 1, 21625: 11, 21646: 6, 21669: 2, 21692: 3, 21704: 1, 21715: 1, 21719: 1, 21782: 2, 21830: 1, 21884: 1, 21899: 1, 21921: 1, 21997: 2, 22015: 1, 22061: 3, 22065: 1, 22083: 1, 22110: 1, 22300: 2, 22318: 1, 22359: 6, 22365: 2, 22401: 6, 22409: 3, 22420: 1, 22428: 1, 22454: 3, 22520: 3, 22531: 1, 22538: 1, 22573: 2, 22595: 1, 22599: 1, 22604: 1, 22620: 1, 22626: 1, 22637: 1, 22646: 3, 22829: 1, 22864: 1, 22930: 1, 22944: 1, 22952: 1, 23022: 3, 23029: 3, 23034: 1, 23066: 1, 23178: 3, 23179: 5, 23211: 6, 23280: 2, 23388: 2, 23410: 1, 23535: 5, 23549: 1, 23580: 2, 23588: 4, 23773: 2, 24015: 3, 24028: 1, 24041: 1, 24047: 1, 24089: 8, 24110: 3, 24157: 5, 24264: 11, 24294: 1, 24338: 5, 24342: 4, 24394: 1, 24422: 1, 24482: 2, 24557: 4, 24704: 1, 24818: 3, 24874: 3, 24888: 4, 25036: 5, 25082: 1, 25091: 1, 25093: 1, 25157: 1, 25160: 1, 25163: 5, 25167: 6, 25189: 1, 25204: 2, 25226: 4, 25280: 3, 25294: 1, 25295: 3, 25336: 2, 25403: 2, 25413: 2, 25460: 8, 25471: 4, 25498: 2, 25550: 1, 25629: 1, 25649: 3, 25703: 1, 25720: 1, 25747: 1, 25773: 3, 25774: 4, 25865: 1, 25928: 1, 25929: 1, 25947: 8, 25980: 1, 26000: 1, 26066: 1, 26156: 4, 26161: 1, 26236: 1, 26245: 5, 26252: 1, 26301: 1, 26311: 3, 26319: 4, 26337: 5, 26344: 2, 26371: 1, 26380: 3, 26392: 1, 26397: 1, 26465: 3, 26469: 1, 26480: 1, 26583: 3, 26627: 1, 26707: 2, 26726: 3, 26734: 1, 26760: 2, 26787: 1, 26788: 3, 26807: 1, 26836: 4, 26849: 1, 26934: 1, 26935: 1, 26955: 2, 27087: 6, 27096: 4, 27098: 2, 27113: 4, 27147: 3, 27154: 1, 27181: 1, 27190: 1, 27223: 2, 27355: 2, 27492: 6, 27534: 5, 27550: 3, 27551: 4, 27664: 1, 27706: 4, 27885: 1, 27930: 1, 28043: 9, 28051: 1, 28077: 2, 28093: 1, 28098: 1, 28129: 7, 28135: 1, 28143: 4, 28150: 1, 28166: 4, 28170: 1, 28192: 1, 28292: 1, 28321: 1, 28390: 1, 28458: 1, 28459: 5, 28484: 1, 28540: 5, 28589: 1, 28634: 1, 28635: 1, 28677: 1, 28710: 18, 28756: 2, 28868: 2, 28958: 4, 28971: 2, 28986: 1, 28996: 1, 29026: 1, 29048: 1, 29160: 2, 29161: 1, 29195: 3, 29224: 1, 29254: 4, 29270: 1, 29280: 2, 29311: 1, 29523: 6, 29606: 1, 29684: 5, 29691: 1, 29737: 1, 29780: 1, 29792: 1, 30028: 3, 30062: 2, 30084: 2, 30123: 3, 30168: 1, 30189: 2, 30262: 1, 30351: 1, 30377: 1, 30382: 1, 30404: 1, 30422: 1, 30423: 1, 30443: 1, 30523: 11, 30525: 4, 30587: 4, 30624: 1, 30661: 12, 30678: 14, 30685: 4, 30723: 1, 30836: 1, 30844: 1, 30850: 3, 30867: 2, 30918: 1, 30988: 1, 31030: 1, 31090: 1, 31113: 1, 31243: 2, 31253: 1, 31290: 4, 31336: 1, 31356: 1, 31416: 4, 31451: 1, 31455: 3, 31475: 1, 31490: 1, 31495: 1, 31583: 2, 31586: 1, 31587: 5, 31639: 3, 31670: 1, 31695: 2, 31712: 5, 31896: 1, 31900: 1, 31901: 2, 31910: 2, 32000: 1, 32002: 3, 32004: 3, 32012: 1, 32017: 1, 32018: 5, 32078: 1, 32089: 2, 32122: 2, 32155: 9, 32160: 2, 32187: 1, 32214: 1, 32356: 2, 32423: 2, 32443: 1, 32468: 1, 32507: 1, 32607: 1, 32626: 3, 32648: 1, 32711: 1, 32734: 1, 32735: 2, 32740: 1, 32742: 4, 32758: 1, 32813: 1, 32908: 7, 32930: 1, 32941: 5, 32950: 1, 33001: 1, 33072: 4, 33080: 3, 33089: 2, 33102: 3, 33129: 1, 33202: 2, 33249: 1, 33296: 2, 33321: 3, 33368: 1, 33480: 10, 33481: 1, 33525: 1, 33532: 2, 33570: 1, 33609: 2, 33612: 1, 33662: 1, 33706: 1, 33732: 1, 33745: 1, 33748: 3, 33867: 1, 33871: 1, 33873: 1, 33885: 1, 33886: 1, 33890: 2, 33911: 1, 33940: 2, 33951: 4, 34147: 1, 34164: 4, 34177: 1, 34190: 3, 34193: 5, 34232: 5, 34251: 1, 34279: 2, 34288: 5, 34299: 2, 34427: 4, 34430: 2, 34433: 2, 34450: 1, 34455: 2, 34470: 1, 34501: 1, 34523: 1, 34563: 4, 34568: 2, 34591: 1, 34596: 3, 34667: 2, 34724: 1, 34764: 4, 34778: 1, 34837: 3, 34845: 4, 34880: 3, 34892: 4, 34931: 6, 34951: 12, 35023: 4, 35056: 1, 35076: 3, 35094: 1, 35095: 1, 35112: 2, 35126: 5, 35133: 2, 35155: 2, 35170: 1, 35195: 2, 35220: 4, 35221: 4, 35278: 3, 35347: 1, 35357: 2, 35373: 1, 35392: 5, 35426: 5, 35449: 6, 35474: 3, 35482: 2, 35664: 1, 35747: 3, 35775: 1, 35882: 3, 35888: 1, 35950: 20, 35974: 1, 35981: 2, 36052: 2, 36059: 1, 36148: 2, 36160: 1, 36182: 2, 36188: 3, 36224: 1, 36263: 2, 36282: 2, 36286: 4, 36309: 1, 36391: 1, 36491: 1, 36495: 1, 36517: 4, 36538: 2, 36606: 3, 36660: 2, 36683: 1, 36730: 1, 36808: 1, 36809: 2, 36814: 1, 36920: 1, 36925: 1, 36969: 1, 36976: 3, 37029: 2, 37032: 1, 37036: 1, 37045: 1, 37046: 2, 37070: 8, 37071: 2, 37073: 1, 37145: 1, 37175: 1, 37176: 2, 37292: 1, 37294: 3, 37314: 4, 37363: 4, 37503: 5, 37540: 1, 37557: 2, 37577: 5, 37601: 1, 37659: 1, 37737: 1, 37738: 1, 37748: 1, 37821: 2, 37916: 1, 37917: 1, 37918: 1, 38048: 1, 38083: 1, 38102: 8, 38210: 5, 38213: 1, 38229: 1, 38394: 2, 38404: 3, 38408: 2, 38434: 1, 38447: 2, 38478: 13, 38694: 1, 38745: 1, 38843: 3, 38861: 6, 39039: 1, 39040: 2, 39095: 6, 39148: 3, 39208: 3, 39236: 1, 39253: 1, 39284: 3, 39311: 1, 39380: 2, 39385: 5, 39416: 2, 39525: 1, 39557: 9, 39603: 4, 39642: 3, 39645: 5, 39664: 5, 39669: 4, 39698: 1, 39701: 2, 39704: 1, 39722: 2, 39838: 1, 39878: 2, 39901: 1, 39918: 4, 39955: 1, 39987: 1, 40042: 3, 40081: 1, 40155: 1, 40162: 1, 40211: 5, 40215: 6, 40280: 1, 40295: 4, 40307: 4, 40337: 3, 40386: 1, 40425: 4, 40473: 5, 40507: 1, 40606: 2, 40650: 4, 40695: 1, 40730: 1, 40812: 2, 40894: 1, 40976: 2, 40986: 1, 40998: 4, 41084: 1, 41092: 1, 41108: 2, 41142: 1, 41143: 1, 41166: 1, 41213: 2, 41248: 3, 41269: 2, 41346: 1, 41454: 1, 41463: 1, 41469: 2, 41503: 4, 41538: 2, 41552: 3, 41567: 1, 41580: 2, 41585: 3, 41588: 1, 41589: 3, 41598: 1, 41615: 4, 41626: 2, 41643: 1, 41770: 1, 41780: 1, 41808: 1, 41809: 1, 41862: 3, 41881: 2, 41897: 1, 41995: 4, 42046: 5, 42051: 1, 42077: 2, 42091: 5, 42154: 2, 42171: 1, 42176: 1, 42237: 2, 42274: 4, 42393: 2, 42409: 3, 42494: 2, 42495: 2, 42501: 3, 42522: 2, 42554: 2, 42563: 3, 42592: 3, 42597: 4, 42712: 5, 42738: 1, 42765: 3, 42770: 1, 42938: 1, 42965: 2, 43001: 1, 43044: 2, 43075: 1, 43088: 2, 43091: 1, 43096: 1, 43098: 7, 43206: 1, 43239: 2, 43243: 1, 43280: 3, 43319: 2, 43334: 2, 43337: 2, 43461: 1, 43587: 2, 43606: 1, 43608: 1, 43633: 1, 43710: 1, 43729: 1, 43732: 1, 43735: 2, 43749: 1, 43755: 1, 43759: 1, 43769: 3, 43785: 1, 43866: 1, 44005: 1, 44010: 2, 44023: 2, 44048: 1, 44076: 1, 44142: 2, 44171: 3, 44185: 4, 44254: 2, 44304: 2, 44326: 1, 44334: 2, 44381: 2, 44410: 1, 44531: 3, 44553: 4, 44567: 3, 44596: 13, 44597: 4, 44598: 6, 44599: 1, 44600: 2, 44678: 3, 44725: 4, 44745: 2, 44999: 1, 45024: 1, 45050: 1, 45121: 1, 45161: 4, 45271: 1, 45371: 4, 45376: 2, 45407: 3, 45449: 2, 45452: 1, 45484: 1, 45630: 1, 45662: 1, 45962: 1, 45966: 1, 45980: 3, 46051: 7, 46070: 1, 46071: 1, 46133: 3, 46230: 1, 46320: 1, 46347: 8, 46351: 1, 46460: 4, 46473: 1, 46516: 2, 46605: 1, 46688: 1, 46710: 1, 46762: 3, 46790: 1, 46798: 1, 46888: 1, 46896: 3, 46897: 3, 46903: 1, 47046: 3, 47088: 3, 47098: 3, 47134: 1, 47154: 4, 47160: 4, 47260: 1, 47412: 1, 47422: 1, 47515: 1, 47539: 1, 47579: 4, 47605: 3, 47610: 4, 47615: 2, 47646: 4, 47652: 1, 47658: 1, 47659: 3, 47661: 1, 47797: 1, 47805: 1, 47818: 1, 47845: 1, 47987: 2, 48095: 1, 48121: 5, 48131: 6, 48140: 1, 48225: 2, 48247: 1, 48260: 1, 48304: 3, 48362: 1, 48441: 2, 48470: 3, 48482: 6, 48499: 4, 48509: 10, 48515: 2, 48540: 3, 48574: 1, 48600: 1, 48634: 1, 48664: 2, 48680: 12, 48748: 1, 48756: 1, 48815: 1, 48824: 1, 48834: 1, 48842: 1, 48864: 1, 48868: 1, 48875: 2, 48899: 1, 48903: 1, 48946: 1, 48958: 4, 49005: 6, 49030: 3, 49031: 1, 49038: 1, 49053: 9, 49056: 3, 49139: 1, 49187: 2, 49329: 3, 49333: 3, 49420: 4, 49441: 2, 49463: 1, 49478: 1, 49521: 1, 49648: 2, 49702: 3, 49755: 1, 49773: 3, 49781: 5, 49810: 1, 49814: 4, 49843: 2, 49849: 1, 49998: 1, 50005: 1, 50010: 1, 50031: 1, 50037: 2, 50065: 2, 50070: 1, 50089: 1, 50108: 10, 50118: 4, 50132: 4, 50141: 1, 50206: 1, 50214: 3, 50228: 1, 50234: 1, 50256: 3, 50280: 3, 50297: 2, 50309: 1, 50465: 1, 50492: 3, 50501: 4, 50528: 2, 50530: 2, 50600: 1, 50634: 14, 50661: 2, 50665: 1, 50673: 5, 50728: 5, 50755: 2, 50820: 5, 50845: 1, 50927: 2, 50948: 2, 50957: 11, 50960: 1, 50964: 1, 50977: 3, 51001: 10, 51008: 5, 51030: 1, 51064: 1, 51065: 1, 51070: 7, 51080: 13, 51085: 9, 51173: 1, 51247: 2, 51251: 1, 51311: 5, 51326: 2, 51339: 4, 51523: 1, 51564: 1, 51588: 1, 51668: 1, 51822: 2, 51874: 2, 51936: 3, 52058: 4, 52083: 2, 52106: 1, 52107: 1, 52168: 1, 52174: 8, 52185: 1, 52215: 2, 52216: 4, 52365: 2, 52492: 2, 52511: 2, 52524: 1, 52527: 1, 52541: 1, 52664: 3, 52684: 2, 52728: 1, 52738: 1, 52862: 1, 52864: 1, 52873: 2, 52892: 1, 52921: 1, 52925: 2, 52948: 1, 52954: 2, 52971: 1, 52990: 1, 53024: 1, 53029: 1, 53034: 1, 53160: 1, 53260: 1, 53328: 1, 53353: 2, 53417: 1, 53428: 4, 53458: 1, 53567: 1, 53575: 4, 53629: 2, 53666: 1, 53672: 2, 53873: 2, 53923: 1, 53978: 1, 53981: 2, 53986: 1, 54017: 1, 54071: 1, 54117: 3, 54222: 1, 54226: 4, 54231: 4, 54316: 1, 54321: 1, 54352: 1, 54389: 6, 54416: 1, 54444: 1, 54456: 6, 54480: 10, 54490: 1, 54594: 1, 54666: 2, 54707: 8, 54722: 1, 54746: 2, 54862: 1, 54969: 1, 55161: 2, 55183: 1, 55263: 1, 55302: 6, 55312: 1, 55356: 1, 55581: 1, 55588: 1, 55590: 3, 55624: 1, 55632: 2, 55696: 1, 55712: 1, 55759: 1, 55809: 1, 55848: 1, 55999: 1, 56017: 1, 56045: 2, 56089: 1, 56099: 3, 56185: 1, 56213: 1, 56224: 1, 56329: 1, 56330: 4, 56343: 1, 56386: 1, 56402: 5, 56404: 8, 56411: 1, 56412: 1, 56420: 1, 56493: 1, 56543: 1, 56544: 5, 56600: 1, 56601: 8, 56611: 1, 56623: 1, 56669: 1, 56701: 1, 56707: 1, 56779: 2, 56802: 2, 56812: 3, 56845: 1, 56861: 5, 56871: 4, 56974: 1, 57065: 2, 57152: 1, 57158: 1, 57177: 1, 57188: 9, 57215: 1, 57226: 1, 57335: 2, 57381: 1, 57387: 6, 57407: 1, 57559: 1, 57572: 6, 57724: 2, 57746: 1, 57792: 2, 57795: 1, 57815: 1, 57859: 8, 57880: 10, 57889: 1, 58018: 1, 58064: 1, 58070: 1, 58171: 1, 58182: 3, 58296: 3, 58297: 5, 58309: 3, 58410: 3, 58422: 1, 58436: 4, 58478: 4, 58579: 1, 58595: 2, 58644: 1, 58650: 4, 58683: 3, 58711: 2, 58715: 2, 58722: 1, 58798: 1, 58811: 3, 58937: 2, 58958: 2, 58988: 4, 59038: 1, 59108: 1, 59135: 1, 59141: 1, 59207: 1, 59213: 3, 59290: 1, 59307: 3, 59346: 1, 59359: 6, 59361: 2, 59389: 4, 59604: 1, 59618: 1, 59685: 1, 59828: 1, 59829: 4, 59850: 1, 59937: 1, 59948: 4, 59999: 1, 60031: 1, 60076: 3, 60169: 1, 60188: 2, 60216: 2, 60241: 1, 60276: 1, 60292: 2, 60311: 1, 60317: 1, 60324: 13, 60355: 5, 60356: 1, 60365: 6, 60394: 1, 60425: 2, 60436: 2, 60480: 1, 60511: 1, 60538: 1, 60542: 3, 60577: 2, 60594: 1, 60598: 1, 60604: 1, 60687: 4, 60717: 1, 60809: 3, 60851: 1, 60854: 1, 60929: 1, 61074: 1, 61092: 1, 61173: 1, 61180: 1, 61211: 1, 61236: 1, 61242: 2, 61252: 1, 61320: 1, 61351: 8, 61373: 3, 61433: 1, 61505: 1, 61520: 1, 61528: 5, 61557: 1, 61682: 1, 61714: 2, 61718: 6, 61757: 2, 61764: 1, 61776: 1, 61780: 1, 61791: 1, 61794: 2, 61817: 2, 61826: 1, 61836: 1, 61952: 2, 62128: 2, 62149: 1, 62167: 2, 62240: 1, 62248: 2, 62253: 2, 62271: 3, 62286: 1, 62404: 10, 62484: 1, 62521: 3, 62560: 1, 62571: 2, 62623: 1, 62646: 1, 62722: 1, 62773: 2, 62817: 3, 62865: 3, 62890: 1, 62923: 3, 62951: 1, 63020: 1, 63036: 6, 63041: 2, 63082: 1, 63104: 3, 63118: 1, 63137: 1, 63172: 2, 63181: 2, 63207: 1, 63231: 1, 63291: 1, 63306: 1, 63326: 4, 63329: 3, 63374: 1, 63408: 5, 63529: 2, 63568: 1, 63575: 1, 63638: 2, 63644: 1, 63660: 3, 63690: 1, 63838: 2, 63840: 1, 63890: 6, 63892: 3, 63922: 1, 63963: 6, 63968: 1, 64097: 2, 64102: 4, 64157: 2, 64231: 1, 64285: 2, 64411: 4, 64487: 3, 64521: 1, 64529: 1, 64534: 2, 64535: 9, 64665: 1, 64675: 2, 64731: 4, 64764: 2, 64775: 2, 64804: 2, 64813: 1, 64883: 3, 64900: 3, 64980: 2, 64986: 2, 64991: 1, 65014: 1, 65047: 5, 65102: 1, 65108: 3, 65241: 1, 65300: 2, 65359: 4, 65436: 1, 65451: 6, 65558: 1, 65568: 12, 65587: 2, 65597: 2, 65618: 2, 65631: 1, 65643: 1, 65759: 1, 65886: 1, 65898: 8, 65920: 1, 65923: 1, 65956: 2, 65966: 1, 65974: 6, 66154: 3, 66182: 1, 66215: 2, 66219: 6, 66254: 8, 66303: 2, 66317: 4, 66318: 3, 66345: 5, 66394: 1, 66427: 1, 66478: 1, 66505: 5, 66542: 1, 66698: 1, 66753: 3, 66778: 1, 66844: 1, 66865: 1, 66895: 1, 66936: 5, 66968: 1, 67000: 2, 67009: 1, 67011: 4, 67170: 2, 67187: 2, 67281: 1, 67423: 1, 67452: 1, 67454: 3, 67520: 1, 67562: 1, 67635: 2, 67636: 1, 67689: 5, 67701: 1, 67786: 8, 67858: 4, 67894: 3, 67949: 1, 68016: 2, 68110: 1, 68122: 2, 68145: 1, 68198: 1, 68283: 1, 68288: 1, 68291: 6, 68329: 1, 68388: 1, 68416: 1, 68427: 2, 68478: 5, 68493: 5, 68506: 1, 68556: 1, 68558: 5, 68591: 2, 68639: 1, 68801: 1, 68812: 1, 68979: 1, 69026: 1, 69038: 1, 69112: 1, 69180: 2, 69194: 1, 69213: 2, 69235: 1, 69260: 5, 69386: 4, 69416: 3, 69433: 1, 69466: 4, 69477: 3, 69482: 1, 69594: 2, 69614: 2, 69620: 1, 69635: 3, 69649: 1, 69650: 1, 69677: 1, 69699: 2, 69703: 4, 69761: 1, 69778: 3, 69797: 2, 69806: 2, 69835: 5, 69841: 1, 69897: 7, 69904: 1, 69942: 2, 70157: 1, 70307: 2, 70344: 9, 70385: 1, 70399: 1, 70452: 1, 70496: 4, 70505: 3, 70540: 1, 70559: 2, 70563: 4, 70578: 1, 70686: 1, 70698: 2, 70730: 2, 70734: 3, 70745: 1, 70751: 2, 70753: 3, 70834: 4, 70887: 1, 70894: 1, 70913: 1, 70915: 1, 70933: 4, 71010: 9, 71050: 2, 71079: 1, 71124: 8, 71127: 1, 71142: 1, 71173: 1, 71192: 2, 71360: 1, 71376: 1, 71384: 1, 71389: 2, 71393: 1, 71394: 2, 71404: 4, 71434: 1, 71441: 1, 71522: 3, 71530: 1, 71606: 1, 71622: 2, 71689: 1, 71694: 1, 71697: 1, 71703: 3, 71705: 1, 71721: 4, 71788: 2, 71813: 1, 71827: 1, 71833: 1, 71922: 1, 71934: 1, 71947: 4, 71951: 1, 71996: 5, 72041: 19, 72069: 3, 72074: 11, 72099: 1, 72104: 13, 72106: 3, 72149: 1, 72178: 3, 72179: 1, 72211: 8, 72214: 2, 72295: 3, 72385: 2, 72412: 1, 72413: 2, 72454: 1, 72476: 3, 72617: 1, 72625: 1, 72646: 3, 72657: 1, 72713: 1, 72722: 4, 72731: 1, 72849: 4, 72887: 3, 72892: 10, 72901: 1, 72934: 3, 73038: 4, 73086: 3, 73096: 1, 73195: 1, 73296: 2, 73302: 1, 73422: 1, 73580: 1, 73681: 1, 73744: 2, 73814: 2, 73941: 3, 73942: 1, 74080: 1, 74099: 4, 74260: 2, 74406: 3, 74411: 1, 74462: 3, 74527: 1, 74582: 1, 74616: 10, 74643: 2, 74654: 3, 74656: 1, 74658: 1, 74680: 2, 74833: 1, 74851: 1, 74865: 1, 74913: 3, 74962: 1, 74976: 1, 75010: 2, 75050: 1, 75208: 16, 75261: 14, 75274: 1, 75308: 2, 75360: 1, 75369: 1, 75377: 1, 75467: 4, 75507: 10, 75538: 10, 75611: 1, 75635: 1, 75637: 4, 75639: 1, 75704: 1, 75837: 1, 75869: 2, 75889: 3, 75921: 3, 75978: 1, 76064: 1, 76079: 2, 76088: 1, 76144: 5, 76160: 1, 76213: 1, 76293: 1, 76303: 1, 76391: 1, 76406: 1, 76438: 1, 76454: 4, 76519: 3, 76560: 1, 76588: 1, 76601: 1, 76610: 3, 76613: 3, 76618: 4, 76622: 6, 76624: 1, 76696: 2, 76718: 1, 76732: 2, 76737: 2, 76790: 1, 76801: 3, 76838: 1, 76851: 1, 76864: 7, 76890: 2, 76927: 1, 77084: 3, 77136: 1, 77158: 1, 77300: 1, 77364: 1, 77400: 3, 77437: 2, 77489: 10, 77499: 1, 77636: 1, 77648: 2, 77758: 1, 77768: 3, 77800: 1, 77845: 2, 77944: 3, 77950: 2, 77996: 2, 78003: 3, 78007: 1, 78009: 2, 78043: 1, 78057: 3, 78065: 3, 78075: 1, 78087: 3, 78101: 1, 78110: 1, 78232: 2, 78233: 1, 78279: 3, 78293: 1, 78335: 1, 78357: 1, 78441: 2, 78458: 2, 78494: 12, 78503: 1, 78528: 2, 78529: 1, 78532: 1, 78538: 13, 78592: 1, 78594: 2, 78604: 1, 78605: 2, 78631: 1, 78730: 3, 78777: 2, 78787: 2, 78827: 1, 78876: 3, 79091: 2, 79094: 2, 79179: 3, 79281: 1, 79338: 3, 79369: 2, 79425: 6, 79461: 1, 79526: 1, 79569: 1, 79586: 2, 79630: 2, 79656: 1, 79664: 3, 79700: 1, 79715: 7, 79716: 9, 79825: 1, 79846: 1, 79851: 2, 79879: 8, 79883: 7, 79889: 6, 79917: 3, 79972: 2, 79988: 3, 79992: 1, 79993: 1, 80083: 4, 80132: 1, 80139: 1, 80194: 6, 80264: 1, 80282: 1, 80284: 1, 80471: 3, 80473: 2, 80482: 1, 80497: 2, 80506: 3, 80520: 3, 80533: 2, 80576: 1, 80719: 1, 80723: 1, 80838: 1, 80867: 2, 80879: 1, 80970: 1, 80971: 1, 80988: 4, 81013: 4, 81040: 2, 81093: 3, 81167: 2, 81177: 1, 81247: 8, 81269: 2, 81395: 1, 81423: 2, 81444: 2, 81478: 2, 81482: 1, 81502: 1, 81531: 2, 81566: 3, 81763: 1, 81784: 3, 81786: 1, 81819: 1, 81833: 1, 81840: 6, 81855: 3, 81889: 3, 81894: 2, 81923: 1, 81932: 1, 82112: 6, 82120: 2, 82143: 1, 82160: 2, 82162: 4, 82199: 1, 82201: 1, 82290: 3, 82435: 5, 82441: 1, 82454: 1, 82539: 1, 82541: 1, 82570: 1, 82585: 1, 82668: 1, 82707: 2, 82724: 3, 82756: 5, 82772: 1, 82787: 1, 82791: 2, 82825: 1, 82882: 5, 82891: 2, 82908: 1, 82939: 1, 82967: 1, 82990: 2, 83006: 1, 83025: 1, 83051: 1, 83094: 2, 83097: 1, 83109: 2, 83125: 5, 83134: 2, 83142: 1, 83150: 1, 83158: 2, 83180: 1, 83212: 3, 83227: 1, 83249: 1, 83431: 5, 83434: 1, 83478: 5, 83530: 1, 83570: 3, 83735: 1, 83783: 1, 83810: 1, 83811: 1, 83814: 2, 83860: 3, 83898: 1, 83914: 1, 83920: 1, 83977: 1, 84017: 1, 84046: 3, 84074: 1, 84077: 5, 84130: 7, 84146: 1, 84181: 1, 84251: 2, 84334: 1, 84359: 2, 84411: 1, 84414: 1, 84437: 9, 84446: 1, 84471: 1, 84495: 1, 84506: 16, 84532: 1, 84534: 1, 84606: 3, 84608: 4, 84676: 1, 84692: 1, 84699: 1, 84747: 1, 84824: 1, 84825: 2, 84828: 3, 84910: 2, 84914: 1, 84918: 1, 84935: 4, 84942: 1, 84956: 1, 85032: 1, 85085: 2, 85143: 9, 85167: 5, 85193: 1, 85250: 3, 85251: 1, 85417: 2, 85442: 1, 85502: 10, 85516: 1, 85534: 2, 85545: 1, 85697: 1, 85727: 1, 85779: 1, 85784: 1, 85951: 1, 85952: 1, 85964: 2, 85975: 1, 86022: 1, 86043: 5, 86054: 1, 86086: 1, 86088: 1, 86129: 5, 86213: 1, 86269: 1, 86285: 1, 86360: 2, 86370: 2, 86407: 1, 86411: 3, 86415: 1, 86423: 1, 86443: 5, 86444: 2, 86446: 2, 86482: 1, 86533: 1, 86596: 3, 86617: 1, 86629: 1, 86644: 1, 86677: 1, 86695: 10, 86708: 1, 86816: 1, 86937: 1, 86969: 1, 86984: 6, 87014: 1, 87030: 1, 87039: 1, 87043: 1, 87051: 1, 87060: 1, 87118: 1, 87161: 1, 87205: 2, 87265: 1, 87381: 4, 87426: 2, 87446: 2, 87452: 1, 87454: 1, 87561: 4, 87606: 6, 87672: 1, 87714: 4, 87732: 1, 87789: 1, 87890: 1, 87900: 2, 87952: 3, 87954: 1, 87994: 1, 88003: 1, 88116: 8, 88122: 1, 88146: 10, 88147: 1, 88157: 3, 88199: 1, 88209: 2, 88227: 1, 88268: 1, 88311: 1, 88375: 2, 88386: 1, 88387: 1, 88494: 1, 88496: 2, 88573: 1, 88748: 4, 88769: 1, 88773: 2, 88818: 2, 88820: 2, 88821: 1, 88838: 4, 88896: 1, 89110: 1, 89117: 1, 89135: 3, 89136: 3, 89168: 1, 89176: 2, 89206: 3, 89210: 2, 89221: 1, 89377: 1, 89480: 1, 89484: 2, 89543: 3, 89563: 1, 89574: 1, 89590: 1, 89617: 15, 89625: 1, 89654: 1, 89710: 1, 89727: 16, 89731: 1, 89756: 2, 89787: 1, 89791: 7, 89816: 4, 89830: 3, 89925: 1, 90050: 1, 90116: 1, 90131: 1, 90148: 1, 90151: 6, 90152: 2, 90225: 2, 90309: 3, 90329: 8, 90349: 2, 90409: 1, 90444: 7, 90445: 1, 90603: 1, 90607: 2, 90641: 2, 90646: 1, 90664: 5, 90690: 1, 90838: 2, 90885: 2, 90888: 4, 90894: 1, 90913: 2, 90969: 1, 90971: 5, 91022: 1, 91026: 2, 91031: 13, 91034: 6, 91065: 2, 91343: 2, 91353: 10, 91381: 4, 91495: 2, 91517: 3, 91528: 3, 91557: 6, 91626: 3, 91673: 7, 91675: 1, 91699: 4, 91700: 2, 91775: 3, 91903: 1, 91919: 3, 92036: 1, 92124: 2, 92172: 1, 92192: 2, 92215: 3, 92231: 1, 92244: 1, 92366: 1, 92375: 1, 92396: 5, 92407: 1, 92459: 2, 92518: 2, 92541: 3, 92565: 1, 92599: 2, 92622: 2, 92656: 1, 92839: 1, 92847: 1, 92903: 2, 92948: 2, 93037: 1, 93041: 2, 93046: 1, 93090: 11, 93095: 1, 93112: 1, 93195: 1, 93202: 1, 93269: 3, 93270: 6, 93324: 7, 93326: 5, 93346: 1, 93407: 1, 93502: 6, 93559: 14, 93560: 1, 93611: 1, 93613: 1, 93644: 1, 93697: 1, 93706: 4, 93725: 1, 93779: 5, 93814: 15, 93835: 1, 93840: 1, 93873: 11, 93908: 1, 93971: 1, 93972: 1, 94279: 4, 94281: 3, 94296: 4, 94314: 1, 94384: 1, 94401: 3, 94437: 3, 94472: 2, 94536: 1, 94575: 4, 94588: 1, 94596: 1, 94647: 2, 94724: 4, 94743: 1, 94883: 10, 94937: 1, 95104: 1, 95123: 1, 95146: 1, 95235: 2, 95342: 2, 95411: 1, 95468: 1, 95500: 2, 95721: 3, 95723: 1, 95734: 1, 95750: 1, 95831: 1, 95872: 6, 95950: 1, 95970: 1, 95978: 4, 96032: 1, 96037: 1, 96051: 2, 96084: 4, 96085: 2, 96108: 1, 96155: 3, 96313: 2, 96386: 1, 96413: 1, 96486: 2, 96518: 1, 96592: 1, 96608: 1, 96635: 9, 96698: 6, 96749: 1, 96756: 1, 96776: 1, 96784: 7, 96786: 1, 96789: 3, 96823: 2, 96860: 1, 96927: 1, 96937: 1, 96973: 1, 97080: 1, 97141: 9, 97154: 3, 97198: 1, 97313: 1, 97332: 1, 97355: 11, 97484: 5, 97492: 1, 97535: 1, 97564: 1, 97592: 1, 97597: 1, 97615: 2, 97671: 3, 97738: 2, 97759: 1, 97792: 5, 97863: 1, 97878: 1, 97944: 2, 97986: 2, 98031: 1, 98063: 1, 98103: 1, 98121: 1, 98197: 4, 98214: 2, 98235: 2, 98293: 1, 98393: 5, 98414: 5, 98511: 1, 98591: 2, 98617: 1, 98642: 2, 98650: 3, 98826: 7, 98912: 1, 98913: 10, 98956: 1, 98984: 4, 99049: 1, 99088: 5, 99110: 1, 99139: 2, 99222: 1, 99257: 1, 99290: 2, 99296: 2, 99327: 1, 99385: 1, 99420: 4, 99445: 1, 99480: 1, 99509: 1, 99683: 5, 99685: 1, 99688: 2, 99725: 2, 99800: 2, 99826: 1, 99858: 1, 99991: 4, 100000: 1, 100032: 1, 100091: 2, 100131: 2, 100155: 1, 100306: 1, 100307: 3, 100314: 1, 100346: 2, 100446: 4, 100455: 1, 100551: 2, 100555: 1, 100611: 2, 100652: 2, 100679: 5, 100689: 1, 100724: 3, 100782: 4, 100799: 1, 100816: 1, 100904: 1, 100915: 1, 100922: 1, 100963: 1, 100967: 5, 101022: 1, 101026: 4, 101054: 1, 101079: 1, 101090: 1, 101107: 1, 101122: 3, 101145: 1, 101205: 1, 101207: 2, 101209: 1, 101241: 2, 101470: 1, 101508: 3, 101526: 1, 101578: 1, 101703: 2, 101707: 2, 101726: 2, 101774: 1, 101779: 1, 101816: 2, 101821: 2, 101849: 2, 101903: 1, 101938: 13, 101952: 2, 102060: 10, 102086: 2, 102091: 1, 102200: 5, 102204: 3, 102251: 1, 102254: 3, 102263: 2, 102273: 1, 102281: 2, 102333: 1, 102334: 1, 102353: 2, 102365: 1, 102426: 2, 102558: 4, 102569: 1, 102620: 4, 102733: 1, 102751: 1, 102806: 1, 102851: 2, 102905: 1, 102957: 1, 102975: 1, 103065: 1, 103070: 1, 103115: 2, 103149: 3, 103164: 2, 103255: 1, 103288: 1, 103363: 3, 103407: 1, 103423: 3, 103428: 2, 103468: 4, 103506: 1, 103514: 1, 103556: 3, 103559: 1, 103561: 1, 103651: 8, 103665: 3, 103776: 6, 103813: 1, 103832: 1, 103902: 6, 103920: 9, 103936: 1, 104150: 1, 104206: 8, 104269: 1, 104298: 2, 104328: 4, 104363: 8, 104395: 2, 104403: 1, 104563: 1, 104574: 1, 104583: 2, 104642: 4, 104649: 1, 104653: 1, 104666: 2, 104683: 2, 104691: 1, 104692: 3, 104713: 2, 104816: 1, 104870: 3, 104892: 1, 104907: 2, 104954: 4, 104960: 1, 104970: 3, 104984: 1, 104990: 1, 105055: 3, 105116: 3, 105122: 5, 105143: 1, 105159: 6, 105198: 3, 105236: 1, 105276: 5, 105334: 1, 105347: 1, 105348: 3, 105356: 1, 105454: 2, 105497: 1, 105505: 2, 105554: 2, 105561: 1, 105581: 1, 105583: 1, 105671: 2, 105681: 1, 105729: 1, 105740: 1, 105779: 4, 105806: 2, 105915: 1, 105918: 2, 105944: 1, 105956: 1, 105996: 4, 106066: 1, 106081: 1, 106118: 5, 106124: 1, 106132: 1, 106283: 8, 106355: 1, 106381: 1, 106410: 9, 106414: 4, 106418: 7, 106544: 2, 106597: 1, 106643: 1, 106675: 2, 106699: 6, 106742: 1, 106768: 2, 106776: 3, 106843: 2, 106852: 4, 106865: 1, 106867: 2, 106899: 2, 106922: 4, 106966: 3, 106977: 1, 106997: 1, 107025: 1, 107042: 2, 107052: 1, 107133: 2, 107160: 5, 107171: 3, 107192: 1, 107284: 1, 107398: 1, 107487: 1, 107524: 2, 107534: 1, 107594: 1, 107668: 1, 107704: 1, 107730: 1, 107731: 5, 107743: 1, 107751: 1, 107847: 3, 107850: 1, 107930: 1, 107964: 3, 108025: 1, 108128: 1, 108272: 4, 108321: 1, 108341: 4, 108346: 8, 108362: 8, 108508: 1, 108510: 1, 108525: 1, 108534: 1, 108545: 5, 108547: 6, 108638: 1, 108642: 2, 108678: 4, 108687: 1, 108851: 1, 108937: 3, 108975: 1, 108979: 1, 109048: 1, 109065: 1, 109105: 4, 109107: 10, 109114: 6, 109116: 3, 109136: 1, 109139: 1, 109150: 2, 109181: 4, 109203: 4, 109371: 3, 109391: 2, 109396: 7, 109503: 1, 109536: 1, 109607: 1, 109674: 1, 109777: 2, 109909: 2, 110027: 1, 110077: 8, 110084: 2, 110108: 1, 110118: 1, 110120: 2, 110157: 1, 110164: 3, 110233: 3, 110240: 1, 110249: 1, 110285: 1, 110343: 1, 110346: 1, 110360: 1, 110416: 1, 110422: 2, 110506: 2, 110514: 3, 110532: 1, 110569: 7, 110571: 2, 110592: 3, 110640: 3, 110647: 3, 110696: 1, 110800: 5, 110831: 12, 110862: 2, 110899: 2, 110948: 1, 110990: 7, 110998: 2, 111014: 1, 111017: 1, 111050: 2, 111079: 1, 111081: 1, 111106: 2, 111205: 2, 111284: 2, 111298: 5, 111527: 2, 111589: 3, 111652: 5, 111669: 2, 111689: 1, 111718: 6, 111720: 1, 111729: 3, 111828: 1, 112120: 1, 112330: 6, 112349: 1, 112353: 2, 112453: 1, 112503: 1, 112534: 4, 112549: 1, 112561: 1, 112586: 1, 112747: 1, 112855: 1, 113145: 4, 113159: 1, 113170: 1, 113175: 2, 113177: 1, 113217: 10, 113316: 8, 113326: 2, 113367: 9, 113415: 1, 113499: 2, 113500: 1, 113606: 2, 113671: 2, 113676: 1, 113681: 1, 113703: 1, 113724: 11, 113731: 1, 113758: 1, 113849: 6, 113895: 1, 114145: 1, 114230: 1, 114279: 3, 114349: 4, 114352: 3, 114464: 4, 114486: 1, 114512: 2, 114543: 1, 114554: 1, 114606: 4, 114633: 1, 114659: 2, 114674: 3, 114762: 1, 114768: 1, 114791: 1, 114795: 1, 114813: 1, 114818: 1, 114906: 1, 114930: 2, 114993: 2, 115038: 2, 115074: 1, 115108: 1, 115117: 1, 115197: 4, 115205: 1, 115310: 1, 115328: 3, 115379: 5, 115391: 5, 115399: 4, 115428: 3, 115483: 1, 115493: 2, 115498: 1, 115522: 4, 115594: 1, 115608: 1, 115612: 1, 115620: 2, 115633: 6, 115658: 1, 115716: 2, 115762: 1, 115778: 1, 115957: 3, 115999: 3, 116003: 2, 116004: 1, 116099: 1, 116137: 6, 116138: 1, 116177: 1, 116380: 3, 116421: 1, 116466: 2, 116467: 1, 116482: 2, 116488: 4, 116496: 1, 116497: 1, 116568: 2, 116585: 1, 116589: 1, 116596: 1, 116639: 4, 116748: 4, 116782: 1, 116822: 2, 116843: 2, 116845: 1, 116929: 2, 116952: 1, 116962: 1, 116972: 2, 116975: 10, 116986: 1, 117099: 2, 117149: 2, 117221: 3, 117239: 2, 117291: 1, 117337: 4, 117381: 1, 117404: 2, 117438: 1, 117448: 1, 117529: 1, 117559: 1, 117615: 1, 117619: 1, 117632: 1, 117633: 2, 117636: 2, 117665: 1, 117666: 1, 117770: 1, 117797: 2, 117813: 4, 117828: 1, 117837: 1, 117904: 3, 117935: 1, 117952: 3, 117998: 1, 118006: 4, 118059: 3, 118069: 1, 118102: 1, 118108: 2, 118130: 2, 118143: 1, 118160: 1, 118199: 1, 118263: 3, 118310: 1, 118312: 1, 118347: 2, 118360: 1, 118390: 9, 118392: 9, 118458: 3, 118531: 2, 118603: 1, 118616: 1, 118621: 1, 118644: 1, 118663: 1, 118768: 1, 118795: 1, 118800: 1, 118806: 1, 118927: 1, 118960: 1, 119094: 2, 119173: 1, 119189: 2, 119247: 2, 119292: 1, 119392: 1, 119435: 1, 119539: 2, 119552: 1, 119610: 1, 119701: 1, 119776: 1, 119815: 3, 119819: 1, 119822: 4, 119824: 1, 119889: 1, 119910: 1, 119915: 1, 119970: 1, 120052: 1, 120117: 2, 120215: 3, 120246: 4, 120258: 1, 120297: 3, 120320: 6, 120354: 1, 120480: 3, 120482: 1, 120487: 13, 120534: 3, 120538: 9, 120587: 3, 120602: 3, 120605: 2, 120613: 1, 120683: 1, 120719: 4, 120727: 1, 120750: 1, 120782: 1, 120788: 1, 120835: 2, 120836: 1, 120903: 1, 120967: 1, 121063: 4, 121101: 1, 121119: 1, 121174: 4, 121176: 4, 121263: 1, 121282: 1, 121297: 1, 121327: 1, 121352: 1, 121401: 1, 121415: 1, 121423: 1, 121433: 1, 121468: 2, 121479: 1, 121492: 2, 121528: 1, 121556: 2, 121563: 4, 121574: 1, 121700: 1, 121739: 2, 121787: 1, 121880: 2, 121940: 2, 121989: 1, 121995: 1, 122107: 1, 122215: 5, 122226: 1, 122250: 1, 122287: 1, 122354: 1, 122397: 5, 122418: 3, 122450: 3, 122455: 1, 122482: 1, 122541: 2, 122618: 1, 122653: 1, 122657: 2, 122685: 1, 122708: 2, 122789: 1, 122872: 2, 122877: 1, 122912: 2, 122922: 2, 122964: 1, 123004: 1, 123037: 1, 123041: 1, 123210: 5, 123217: 4, 123254: 1, 123305: 1, 123328: 1, 123357: 1, 123374: 3, 123456: 3, 123492: 1, 123512: 1, 123516: 2, 123525: 1, 123541: 6, 123580: 1, 123588: 2, 123629: 4, 123637: 3, 123675: 1, 123720: 1, 123729: 6, 123815: 1, 123843: 4, 123846: 4, 123906: 2, 123915: 1, 123951: 1, 123960: 1, 123976: 2, 124049: 2, 124076: 1, 124178: 1, 124185: 13, 124200: 5, 124218: 1, 124322: 1, 124427: 2, 124435: 3, 124460: 2, 124538: 1, 124593: 1, 124622: 7, 124660: 1, 124661: 1, 124736: 1, 124737: 2, 124772: 1, 124818: 2, 124853: 1, 124876: 1, 124900: 1, 125056: 2, 125093: 1, 125096: 7, 125100: 1, 125101: 3, 125119: 1, 125134: 4, 125169: 1, 125174: 6, 125206: 1, 125248: 5, 125290: 4, 125291: 1, 125330: 1, 125339: 1, 125354: 1, 125385: 2, 125390: 2, 125484: 3, 125543: 3, 125580: 2, 125677: 1, 125803: 3, 125852: 3, 125899: 1, 125902: 1, 125905: 1, 125933: 5, 125969: 1, 126023: 1, 126165: 1, 126168: 4, 126178: 3, 126212: 3, 126216: 3, 126245: 3, 126306: 1, 126313: 4, 126314: 8, 126436: 1, 126485: 4, 126509: 3, 126541: 1, 126566: 1, 126644: 1, 126692: 3, 126695: 1, 126765: 1, 126793: 1, 126873: 1, 126885: 1, 126902: 1, 126912: 1, 126975: 5, 127004: 1, 127012: 6, 127080: 1, 127097: 1, 127131: 1, 127134: 1, 127139: 4, 127150: 1, 127202: 5, 127312: 3, 127345: 1, 127545: 1, 127650: 1, 127687: 1, 127696: 9, 127760: 3, 127762: 2, 127769: 1, 127801: 1, 127810: 1, 127814: 1, 127828: 2, 127919: 1, 127935: 1, 127983: 1, 127987: 1, 128017: 2, 128051: 1, 128130: 3, 128231: 1, 128245: 1, 128246: 1, 128299: 1, 128347: 1, 128365: 5, 128423: 1, 128425: 2, 128497: 2, 128502: 1, 128546: 1, 128574: 5, 128620: 9, 128626: 1, 128658: 2, 128716: 1, 128727: 3, 128763: 1, 128909: 1, 128911: 4, 128916: 1, 128928: 2, 128962: 2, 128995: 4, 129003: 1, 129009: 1, 129106: 2, 129163: 4, 129294: 4, 129310: 1, 129369: 1, 129371: 1, 129396: 3, 129408: 3, 129519: 3, 129531: 3, 129578: 3, 129580: 9, 129596: 12, 129782: 1, 129786: 6, 129834: 1, 129875: 1, 129913: 1, 129919: 2, 130026: 1, 130324: 1, 130403: 6, 130420: 1, 130472: 4, 130483: 1, 130493: 1, 130512: 1, 130519: 3, 130524: 1, 130525: 1, 130536: 1, 130587: 1, 130671: 2, 130715: 1, 130762: 1, 130765: 1, 130766: 4, 130788: 1, 130822: 2, 130875: 1, 130966: 1, 131014: 3, 131140: 5, 131179: 1, 131253: 1, 131255: 2, 131330: 1, 131364: 2, 131366: 1, 131378: 1, 131403: 1, 131404: 1, 131466: 2, 131529: 1, 131535: 4, 131538: 6, 131585: 5, 131607: 1, 131625: 3, 131657: 1, 131659: 1, 131660: 2, 131661: 1, 131749: 1, 131769: 1, 131795: 2, 131835: 1, 131909: 1, 131917: 1, 132040: 1, 132087: 2, 132145: 2, 132185: 1, 132221: 2, 132226: 2, 132301: 3, 132346: 1, 132403: 4, 132489: 3, 132515: 1, 132592: 3, 132620: 5, 132639: 1, 132722: 5, 132766: 1, 132852: 2, 132888: 1, 132895: 13, 132904: 1, 133174: 1, 133204: 1, 133245: 1, 133246: 1, 133348: 1, 133363: 3, 133409: 3, 133435: 1, 133446: 1, 133489: 3, 133589: 2, 133602: 6, 133620: 1, 133633: 4, 133644: 11, 133671: 1, 133702: 1, 133722: 2, 133734: 3, 133817: 3, 133831: 2, 133835: 1, 133916: 5, 133940: 1, 133970: 3, 133978: 1, 134004: 5, 134020: 2, 134054: 1, 134058: 3, 134061: 3, 134148: 1, 134166: 1, 134194: 5, 134264: 4, 134408: 1, 134409: 4, 134430: 2, 134435: 2, 134454: 3, 134468: 1, 134605: 2, 134673: 2, 134756: 1, 134799: 1, 134803: 2, 134805: 1, 134882: 1, 134949: 11, 134970: 8, 135014: 1, 135032: 1, 135139: 4, 135164: 1, 135177: 5, 135253: 5, 135301: 1, 135446: 1, 135448: 9, 135456: 4, 135548: 4, 135583: 4, 135619: 1, 135764: 1, 135766: 1, 135788: 1, 135825: 1, 135845: 1, 135859: 1, 136089: 1, 136096: 1, 136155: 3, 136165: 1, 136209: 4, 136260: 1, 136317: 1, 136344: 1, 136609: 4, 136623: 1, 136651: 1, 136675: 3, 136714: 3, 136802: 2, 136819: 1, 137054: 2, 137077: 1, 137115: 3, 137137: 2, 137146: 2, 137163: 3, 137277: 1, 137311: 2, 137321: 2, 137435: 11, 137451: 11, 137545: 1, 137557: 1, 137651: 7, 137769: 1, 137778: 1, 137835: 1, 137844: 2, 137875: 3, 137936: 2, 137976: 1, 138005: 2, 138012: 4, 138014: 4, 138035: 7, 138054: 2, 138073: 2, 138090: 7, 138119: 1, 138137: 1, 138150: 3, 138165: 2, 138275: 1, 138298: 10, 138326: 11, 138352: 5, 138457: 4, 138523: 3, 138558: 4, 138657: 6, 138661: 1, 138679: 2, 138711: 1, 138797: 1, 138805: 7, 138806: 2, 138956: 1, 138998: 1, 139002: 1, 139036: 1, 139052: 1, 139106: 1, 139149: 3, 139250: 1, 139267: 2, 139307: 2, 139323: 1, 139331: 2, 139407: 6, 139438: 1, 139493: 2, 139509: 6, 139542: 1, 139562: 1, 139610: 1, 139614: 3, 139627: 4, 139642: 4, 139647: 1, 139672: 1, 139793: 1, 139797: 4, 139798: 1, 139856: 2, 139902: 1, 139950: 2, 139956: 3, 139968: 3, 139982: 3, 139988: 1, 140012: 1, 140034: 8, 140099: 1, 140157: 9, 140163: 2, 140182: 6, 140263: 1, 140275: 1, 140315: 3, 140358: 2, 140364: 1, 140420: 2, 140422: 2, 140432: 1, 140472: 3, 140544: 2, 140557: 1, 140580: 1, 140639: 7, 140641: 1, 140810: 1, 140827: 1, 140828: 1, 140885: 2, 140931: 2, 140952: 3, 140956: 1, 140964: 1, 141030: 2, 141031: 1, 141040: 1, 141113: 1, 141149: 7, 141155: 2, 141164: 2, 141240: 2, 141270: 1, 141317: 1, 141339: 1, 141345: 2, 141359: 2, 141438: 5, 141439: 6, 141530: 1, 141562: 1, 141581: 1, 141594: 1, 141619: 2, 141627: 1, 141638: 1, 141683: 1, 141715: 1, 141720: 1, 141811: 2, 141827: 1, 141832: 3, 141855: 6, 141935: 1, 142016: 1, 142166: 2, 142225: 3, 142340: 1, 142382: 3, 142404: 1, 142422: 2, 142524: 5, 142580: 5, 142733: 1, 142766: 1, 142783: 8, 142856: 1, 142860: 5, 142918: 1, 142962: 2, 142966: 1, 142971: 1, 142972: 1, 142977: 1, 142979: 1, 143044: 1, 143149: 6, 143165: 2, 143166: 2, 143179: 1, 143187: 6, 143227: 1, 143231: 1, 143249: 1, 143279: 2, 143295: 6, 143312: 5, 143337: 1, 143338: 1, 143361: 3, 143426: 1, 143430: 1, 143456: 1, 143466: 1, 143467: 1, 143529: 1, 143588: 1, 143676: 1, 143702: 4, 143709: 3, 143718: 2, 143724: 2, 143751: 1, 143794: 2, 143840: 1, 143912: 3, 143964: 2, 144030: 1, 144188: 1, 144286: 4, 144311: 1, 144339: 1, 144344: 1, 144347: 6, 144434: 15, 144471: 2, 144482: 10, 144495: 3, 144582: 1, 144586: 1, 144623: 7, 144630: 2, 144699: 9, 144722: 2, 144725: 2, 144744: 2, 144748: 1, 144812: 1, 144897: 3, 144917: 4, 145035: 3, 145069: 2, 145098: 2, 145114: 1, 145126: 1, 145151: 6, 145181: 2, 145201: 1, 145260: 2, 145280: 2, 145297: 1, 145319: 1, 145329: 1, 145346: 3, 145384: 1, 145385: 1, 145407: 1, 145417: 9, 145423: 2, 145523: 1, 145574: 4, 145605: 4, 145639: 4, 145667: 4, 145720: 1, 145796: 3, 145830: 2, 145882: 1, 145957: 1, 146051: 1, 146156: 1, 146180: 1, 146206: 1, 146218: 2, 146441: 1, 146488: 1, 146501: 3, 146514: 1, 146516: 2, 146577: 1, 146591: 1, 146629: 3, 146648: 1, 146675: 1, 146700: 1, 146812: 4, 146868: 7, 147139: 4, 147156: 1, 147194: 1, 147202: 1, 147209: 3, 147218: 1, 147273: 3, 147287: 7, 147336: 1, 147371: 1, 147453: 1, 147510: 1, 147547: 1, 147565: 1, 147589: 2, 147652: 1, 147717: 1, 147729: 1, 147752: 2, 147758: 1, 147768: 1, 147789: 1, 147929: 7, 147960: 1, 148046: 3, 148073: 1, 148094: 3, 148097: 5, 148111: 1, 148146: 1, 148159: 1, 148222: 1, 148223: 1, 148249: 1, 148294: 1, 148302: 1, 148360: 2, 148481: 3, 148549: 3, 148621: 1, 148629: 1, 148648: 1, 148724: 2, 149014: 1, 149035: 2, 149065: 1, 149097: 1, 149204: 1, 149282: 1, 149334: 1, 149350: 3, 149375: 2, 149381: 6, 149383: 3, 149476: 3, 149479: 6, 149487: 3, 149488: 1, 149490: 11, 149514: 1, 149527: 3, 149548: 16, 149561: 6, 149631: 4, 149662: 2, 149709: 1, 149727: 5, 149741: 1, 149742: 1, 149828: 3, 149844: 1, 149864: 2, 149865: 4, 149868: 3, 149975: 1, 150015: 1, 150016: 1, 150043: 1, 150154: 3, 150167: 2, 150168: 1, 150173: 4, 150250: 3, 150315: 8, 150356: 1, 150429: 1, 150447: 1, 150450: 2, 150517: 1, 150597: 1, 150607: 7, 150726: 2, 150735: 1, 150784: 2, 150851: 1, 150924: 1, 151024: 5, 151089: 1, 151152: 1, 151280: 4, 151328: 3, 151377: 2, 151428: 1, 151432: 1, 151446: 3, 151462: 1, 151521: 1, 151526: 1, 151545: 1, 151548: 3, 151573: 1, 151644: 1, 151703: 14, 151717: 1, 151721: 1, 151751: 1, 151861: 1, 152002: 1, 152015: 1, 152039: 1, 152085: 1, 152087: 1, 152096: 1, 152103: 1, 152132: 1, 152279: 1, 152283: 3, 152290: 10, 152300: 2, 152354: 1, 152440: 2, 152506: 1, 152508: 5, 152560: 3, 152564: 1, 152665: 4, 152671: 4, 152816: 2, 152902: 3, 152904: 1, 152950: 3, 153017: 1, 153020: 5, 153036: 1, 153037: 3, 153094: 3, 153131: 2, 153148: 1, 153202: 5, 153228: 5, 153237: 1, 153289: 1, 153368: 2, 153369: 3, 153372: 1, 153444: 5, 153471: 2, 153505: 1, 153508: 1, 153581: 1, 153634: 3, 153638: 2, 153689: 1, 153704: 1, 153755: 1, 153756: 1, 153870: 2, 153877: 1, 153895: 3, 153952: 2, 153972: 1, 154043: 4, 154051: 1, 154052: 1, 154053: 1, 154056: 5, 154057: 1, 154105: 1, 154138: 1, 154182: 1, 154214: 1, 154221: 1, 154242: 1, 154248: 1, 154279: 1, 154318: 1, 154333: 3, 154337: 1, 154398: 1, 154403: 1, 154405: 1, 154410: 1, 154420: 1, 154478: 1, 154518: 2, 154545: 4, 154551: 7, 154567: 1, 154585: 2, 154600: 2, 154624: 1, 154628: 4, 154642: 1, 154682: 1, 154690: 1, 154739: 1, 154795: 1, 154848: 1, 154962: 1, 154969: 1, 155060: 1, 155095: 2, 155112: 1, 155225: 1, 155237: 3, 155263: 1, 155265: 1, 155351: 1, 155401: 1, 155417: 2, 155423: 5, 155433: 1, 155443: 1, 155489: 1, 155542: 1, 155547: 1, 155584: 8, 155593: 2, 155631: 1, 155646: 1, 155662: 6, 155708: 1, 155889: 4, 155915: 3, 155952: 4, 156221: 1, 156348: 5, 156388: 4, 156398: 1, 156413: 1, 156501: 1, 156568: 6, 156571: 1, 156573: 1, 156574: 1, 156576: 1, 156588: 1, 156664: 1, 156706: 1, 156783: 1, 156806: 1, 156870: 1, 157020: 5, 157069: 1, 157089: 1, 157282: 1, 157363: 8, 157392: 3, 157445: 2, 157454: 1, 157503: 2, 157529: 5, 157552: 1, 157584: 2, 157746: 1, 157793: 3, 157894: 12, 157920: 4, 157980: 1, 158004: 1, 158029: 9, 158044: 1, 158069: 1, 158164: 1, 158178: 2, 158199: 1, 158223: 2, 158316: 1, 158330: 1, 158355: 2, 158399: 3, 158414: 3, 158561: 3, 158673: 1, 158871: 1, 158947: 1, 158957: 1, 158998: 1, 159005: 3, 159062: 1, 159072: 5, 159073: 1, 159116: 5, 159182: 1, 159203: 6, 159226: 1, 159236: 5, 159329: 1, 159356: 4, 159386: 3, 159547: 2, 159551: 1, 159616: 1, 159689: 1, 159703: 1, 159714: 1, 159723: 1, 159756: 1, 159806: 5, 159833: 1, 159896: 1, 159930: 4, 159998: 2, 160023: 6, 160024: 8, 160045: 3, 160057: 1, 160086: 2, 160251: 1, 160292: 1, 160352: 6, 160446: 5, 160526: 1, 160540: 4, 160584: 1, 160627: 3, 160651: 4, 160653: 1, 160724: 1, 160750: 1, 160775: 1, 160952: 8, 160956: 1, 160976: 1, 160993: 2, 161030: 1, 161063: 9, 161107: 1, 161190: 1, 161264: 3, 161511: 5, 161575: 1, 161648: 7, 161662: 2, 161750: 1, 161774: 1, 161791: 1, 161800: 1, 161806: 1, 161861: 1, 161886: 1, 161887: 1, 161893: 2, 161908: 1, 161925: 1, 161934: 3, 162017: 3, 162042: 1, 162107: 1, 162113: 1, 162158: 2, 162160: 2, 162176: 1, 162247: 2, 162250: 2, 162272: 1, 162314: 1, 162387: 3, 162418: 3, 162478: 2, 162529: 1, 162535: 1, 162550: 3, 162553: 2, 162693: 1, 162726: 1, 162729: 4, 162753: 3, 162761: 1, 162780: 3, 162805: 1, 162819: 1, 162825: 3, 162890: 1, 162898: 2, 162984: 2, 163028: 5, 163080: 1, 163093: 2, 163134: 2, 163173: 1, 163267: 2, 163321: 2, 163322: 6, 163335: 3, 163336: 3, 163339: 1, 163345: 1, 163355: 1, 163378: 7, 163466: 19, 163543: 1, 163544: 5, 163653: 1, 163675: 1, 163679: 5, 163680: 3, 163716: 1, 163830: 2, 163839: 2, 163840: 1, 163853: 3, 163905: 1, 163922: 2, 163942: 3, 163988: 1, 164093: 6, 164112: 1, 164168: 1, 164180: 2, 164208: 1, 164364: 1, 164410: 2, 164449: 2, 164480: 2, 164481: 1, 164487: 6, 164497: 1, 164517: 1, 164530: 7, 164559: 1}\n",
      "0\n"
     ]
    }
   ],
   "source": [
    "# The queries dict is an ordered dict with id's as keys and queris as values\n",
    "print(queries['52'])\n",
    "\n",
    "#Query term ids give for every unique term in the queries an id\n",
    "print(list(query_term_ids)[:5])\n",
    "\n",
    "# Inverted index gives for every query_term_id and doc_id the term frequency of that term in the document\n",
    "print(inverted_index[846])\n",
    "\n",
    "# Collection frequencies gives for a collection of documents for every query term id the number of occurences of that term\n",
    "print(collection_frequencies[8])"
   ]
  },
  {
   "cell_type": "code",
   "execution_count": 14,
   "metadata": {
    "collapsed": true,
    "scrolled": false
   },
   "outputs": [],
   "source": [
    "#Information Retrieval 1\n",
    "import numpy as np\n",
    "def tfidf(int_document_id, query_term_id, document_term_freq):\n",
    "    \"\"\"\n",
    "    Scoring function for a document and a query term\n",
    "    \n",
    "    :param int_document_id: the document id\n",
    "    :param query_token_id: the query term id (assuming you have split the query to tokens)\n",
    "    :param document_term_freq: the document term frequency of the query term \n",
    "    \"\"\"\n",
    "    try:\n",
    "        score = float(np.log(1+inverted_index[query_term_id][int_document_id]) * np.log(num_documents/document_term_freq))\n",
    "    except:\n",
    "        score = 0\n",
    "    return score\n",
    "\n",
    "# combining the two functions above: \n",
    "a = str(np.random.randint(0,100))\n",
    "\n",
    "#run_retrieval('tfidf'+a, tfidf)\n",
    "\n",
    "# TODO implement the rest of the retrieval functions\n",
    "\n",
    "def BM25(int_document_id, query_term_id, document_term_freq): \n",
    "    k1 = 1.2\n",
    "    b = 0.75\n",
    "    # We ignore the sum including k3 since our queries are typically very short and therefore this part is not needed\n",
    "    score = ((k1+1)*inverted_index[query_term_id][int_document_id])/(k1*((1-b)+b*(document_lengths[int_doc_id]/avg_doc_length) \\\n",
    "            + inverted_index[query_term_id][int_document_id]))*(num_documents/document_term_freq)\n",
    "    \n",
    "    return score\n",
    "\n",
    "#run_retrieval('BM25'+a, BM25)\n",
    "\n",
    "# TODO implement tools to help you with the analysis of the results."
   ]
  },
  {
   "cell_type": "code",
   "execution_count": 15,
   "metadata": {},
   "outputs": [
    {
     "name": "stdout",
     "output_type": "stream",
     "text": [
      "1.392728415931633e-06\n",
      "File already exists\n"
     ]
    }
   ],
   "source": [
    "test_query = queries['52']\n",
    "test_document_id = 4\n",
    "\n",
    "def JelinekMercer(int_document_id, query, collection_frequencies):\n",
    "    lamb = 0.1 #We have to test 0.1/0.5/0.9\n",
    "    query_prob = 1\n",
    "    doc_length = len([i for i in index.document(int_document_id)[1] if i >0]) #get document length of non stopwords\n",
    "    col_length = sum(collection_frequencies.values()) #get all counts of terms\n",
    "    query_ids = [token2id.get(query_token,0) for query_token in index.tokenize(query)] #get ids for all the words\n",
    "    query_ids = [word_id for word_id in query_ids if word_id > 0] #remove stop words  \n",
    "    for word_id in query_ids:\n",
    "        try:\n",
    "            word_prob = (1-lamb)*(inverted_index[word_id][int_document_id]/doc_length)\n",
    "        except:\n",
    "            word_prob = 0\n",
    "        word_prob += lamb*(collection_frequencies[word_id]/col_length)\n",
    "        query_prob *= word_prob \n",
    "    return query_prob\n",
    "\n",
    "print(JelinekMercer(test_document_id, test_query, collection_frequencies))\n",
    "\n",
    "run_retrieval('JelinekMercer0.1', JelinekMercer)"
   ]
  },
  {
   "cell_type": "markdown",
   "metadata": {},
   "source": [
    "Command for command line: ./trec_eval -m map -m P.5 -m ndcg -m recall.1000 qrel_test JelinekMercer.run\n",
    "\n",
    "map                   \tall\t0.5604\n",
    "\n",
    "P_5                   \tall\t0.7000\n",
    "\n",
    "recall_1000           \tall\t0.9347\n",
    "\n",
    "ndcg                  \tall\t0.8399"
   ]
  },
  {
   "cell_type": "code",
   "execution_count": 16,
   "metadata": {},
   "outputs": [
    {
     "name": "stdout",
     "output_type": "stream",
     "text": [
      "South African Sanctions [54, 846, 2208]\n",
      "0.0003451733411846576\n",
      "File already exists\n"
     ]
    }
   ],
   "source": [
    "test_query = queries['52']\n",
    "test_document_id = 1\n",
    "\n",
    "def Dirichlet(int_document_id, query, collection_frequencies):\n",
    "    mu = 500 #We have to test 500/1000/1500\n",
    "    query_prob = 1\n",
    "    doc_length = len([i for i in index.document(int_document_id)[1] if i >0]) #get document length of non stopwords\n",
    "    col_length = sum(collection_frequencies.values()) #get all counts of terms\n",
    "    query_ids = [token2id.get(query_token,0) for query_token in index.tokenize(query)] #get ids for all the words\n",
    "    query_ids = [word_id for word_id in query_ids if word_id > 0] #remove stop words\n",
    "    print(query,query_ids)    \n",
    "    for word_id in query_ids:\n",
    "        try:\n",
    "            word_prob = (doc_length/(mu+doc_length))*(inverted_index[word_id][int_document_id]/doc_length)\n",
    "        except:\n",
    "            word_prob = 0\n",
    "        word_prob += (mu/(mu+doc_length))*(collection_frequencies[word_id]/col_length)\n",
    "        query_prob *= word_prob \n",
    "    return query_prob\n",
    "\n",
    "print(Dirichlet(test_document_id, test_query, collection_frequencies))\n",
    "\n",
    "run_retrieval('Dirichlet500', Dirichlet)"
   ]
  },
  {
   "cell_type": "code",
   "execution_count": 17,
   "metadata": {},
   "outputs": [
    {
     "name": "stdout",
     "output_type": "stream",
     "text": [
      "South African Sanctions [54, 846, 2208]\n",
      "3.981943903665423e-07\n",
      "File already exists\n"
     ]
    }
   ],
   "source": [
    "test_query = queries['52']\n",
    "test_document_id = 1\n",
    "\n",
    "def AbsoluteDiscounting(int_document_id, query, collection_frequencies):\n",
    "    delta = 0.1 #We have to test 0.1/0.5/0.9\n",
    "    query_prob = 1\n",
    "    doc_length = len([i for i in index.document(int_document_id)[1] if i >0]) #get document length of non stopwords\n",
    "    col_length = sum(collection_frequencies.values()) #get all counts of terms\n",
    "    doc_unique_length = len([i for i in np.unique(example_document[int_document_id]) if i >0])\n",
    "    sigma = delta*(doc_unique_length/doc_length)    \n",
    "    query_ids = [token2id.get(query_token,0) for query_token in index.tokenize(query)] #get ids for all the words\n",
    "    query_ids = [word_id for word_id in query_ids if word_id > 0] #remove stop words\n",
    "    print(query,query_ids)    \n",
    "    for word_id in query_ids:\n",
    "        try:\n",
    "            word_prob = max(inverted_index[word_id][int_document_id]-delta,0)/doc_length\n",
    "        except:\n",
    "            word_prob = 0\n",
    "        word_prob += sigma*(collection_frequencies[word_id]/col_length)\n",
    "        query_prob *= word_prob \n",
    "    return query_prob\n",
    "\n",
    "print(AbsoluteDiscounting(test_document_id, test_query, collection_frequencies))\n",
    "\n",
    "run_retrieval('AbsoluteDiscounting0.1', AbsoluteDiscounting)"
   ]
  },
  {
   "cell_type": "code",
   "execution_count": 18,
   "metadata": {},
   "outputs": [
    {
     "data": {
      "text/plain": [
       "0.003154641556015966"
      ]
     },
     "execution_count": 18,
     "metadata": {},
     "output_type": "execute_result"
    }
   ],
   "source": [
    "from itertools import chain\n",
    "\n",
    "def plm(int_document_id, query, position,kernel):\n",
    "    sigma = 50\n",
    "    score = 0\n",
    "    tf_list = []\n",
    "    denom = 0\n",
    "    unique_query_terms = set(chain(*(query.split() for line in query if line)))\n",
    "    unique_query_term_ids = [token2id[term.lower()] for term in unique_query_terms]\n",
    "    _, doc_token_ids = index.document(int_document_id)\n",
    "\n",
    "    for i in range(0,len(doc_token_ids)):\n",
    "        if doc_token_ids[i] in unique_query_term_ids:\n",
    "            tf_list.append(1)\n",
    "        else:\n",
    "            tf_list.append(0)\n",
    "    \n",
    "    if kernel == 'Gaussian':\n",
    "        for i in range(0,len(tf_list)):\n",
    "            score += tf_list[i]*np.exp(-(i-position)**2/(2*sigma**2))\n",
    "            denom += 1*np.exp(-(i-position)**2/(2*sigma**2))\n",
    "    \n",
    "    if kernel == 'Triangle':\n",
    "        for i in range(0,len(tf_list)):\n",
    "            if sigma > abs(position-i):\n",
    "                a = 0\n",
    "            else:\n",
    "                a = 1-(abs(position-i)/sigma)\n",
    "        score += tf_list[i]*a\n",
    "        denom += 1*np.exp(-(position-i)**2/(2*sigma**2))\n",
    "    if kernel == 'Hamming':\n",
    "        for i in range(0,len(tf_list)):\n",
    "            if sigma > abs(position-i):\n",
    "                a = 0\n",
    "            else:\n",
    "                a = 1/2*(1+np.cos(abs(position-i)*np.pi/sigma))\n",
    "        score += tf_list[i]*a\n",
    "        denom += 1*np.exp(-(position-i)**2/(2*sigma**2))\n",
    "    if kernel == 'Circle':\n",
    "        for i in range(0,len(tf_list)):\n",
    "            if sigma > abs(position-i):\n",
    "                a = 0\n",
    "            else:\n",
    "                a = np.sqrt(1-(abs(position-i)/sigma)**2)\n",
    "        score += tf_list[i]*a\n",
    "        denom += 1*np.exp(-(position-i)**2/(2*sigma**2))\n",
    "    return score/denom\n",
    "\n",
    "test_query = queries['52']\n",
    "plm(9559,test_query,20,'Gaussian')"
   ]
  },
  {
   "cell_type": "markdown",
   "metadata": {},
   "source": [
    "### Task 2: Latent Semantic Models (LSMs) [15 points] ###\n",
    "\n",
    "In this task you will experiment with applying distributional semantics methods ([LSI](http://lsa3.colorado.edu/papers/JASIS.lsi.90.pdf) **[5 points]** and [LDA](https://www.cs.princeton.edu/~blei/papers/BleiNgJordan2003.pdf) **[5 points]**) for retrieval.\n",
    "\n",
    "You do not need to implement LSI or LDA on your own. Instead, you can use [gensim](http://radimrehurek.com/gensim/index.html). An example on how to integrate Pyndri with Gensim for word2vec can be found [here](https://github.com/cvangysel/pyndri/blob/master/examples/word2vec.py). For the remaining latent vector space models, you will need to implement connector classes (such as `IndriSentences`) by yourself.\n",
    "\n",
    "In order to use a latent semantic model for retrieval, you need to:\n",
    "   * build a representation of the query **q**,\n",
    "   * build a representation of the document **d**,\n",
    "   * calculate the similarity between **q** and **d** (e.g., cosine similarity, KL-divergence).\n",
    "     \n",
    "The exact implementation here depends on the latent semantic model you are using. \n",
    "   \n",
    "Each of these LSMs come with various hyperparameters to tune. Make a choice on the parameters, and explicitly mention the reasons that led you to these decisions. You can use the validation set to optimize hyper parameters you see fit; motivate your decisions. In addition, mention clearly how the query/document representations were constructed for each LSM and explain your choices.\n",
    "\n",
    "In this experiment, you will first obtain an initial top-1000 ranking for each query using TF-IDF in **Task 1**, and then re-rank the documents using the LSMs. Use TREC Eval to obtain the results and report on `NDCG@10`, Mean Average Precision (`MAP@1000`), `Precision@5` and `Recall@1000`.\n",
    "\n",
    "Perform significance testing **[5 points]** (similar as in Task 1) in the class of semantic matching methods."
   ]
  },
  {
   "cell_type": "code",
   "execution_count": 19,
   "metadata": {
    "collapsed": true
   },
   "outputs": [],
   "source": [
    "from gensim.models.keyedvectors import KeyedVectors\n",
    "import pyndri.compat\n",
    "import gensim\n",
    "from gensim import corpora, models\n",
    "import scipy.spatial.distance as ssd\n",
    "import random"
   ]
  },
  {
   "cell_type": "code",
   "execution_count": 20,
   "metadata": {},
   "outputs": [
    {
     "name": "stdout",
     "output_type": "stream",
     "text": [
      "AP890425-0001\n",
      "1\n"
     ]
    }
   ],
   "source": [
    "# Helper cell, that returns two dictionaries. These dictionaries can be used to convert \n",
    "# docIDs to external docIDs. Internal docIDS are 1,2,3,...,164597\n",
    "# external docIDs are AP-XXXXXX-XXXX\n",
    "\n",
    "ext2int_ids = {}\n",
    "int2ext_ids = {}\n",
    "        \n",
    "for int_doc_id in range(index.document_base(), index.maximum_document()):\n",
    "    ext_doc_id, _ = index.document(int_doc_id)\n",
    "    ext2int_ids[ext_doc_id] = int_doc_id\n",
    "    int2ext_ids[int_doc_id] = ext_doc_id\n",
    "    \n",
    "print (int2ext_ids[1])\n",
    "print (ext2int_ids['AP890425-0001'])"
   ]
  },
  {
   "cell_type": "markdown",
   "metadata": {
    "collapsed": true
   },
   "source": [
    "## RETRIEVING THE MODEL"
   ]
  },
  {
   "cell_type": "code",
   "execution_count": 21,
   "metadata": {
    "collapsed": true
   },
   "outputs": [],
   "source": [
    "# Training is done by creating a very large BOW representation for all the documents in the collection\n",
    "# These models are saved, so training has to be done only once. "
   ]
  },
  {
   "cell_type": "code",
   "execution_count": 22,
   "metadata": {
    "collapsed": true
   },
   "outputs": [],
   "source": [
    "# A function that returns a BOW representation of the entire document set (160k documents)\n",
    "# It loops through al the documents, and appends them to a list\n",
    "def document_bow():\n",
    "    dictionary = pyndri.extract_dictionary(index) \n",
    "    token2id, id2token, _ = index.get_dictionary() # Only id2token is necessary\n",
    "    documents_list = [] # The list that all the documents will be appended to\n",
    "    \n",
    "    for i in range(1,num_documents+1):\n",
    "        _ , doc = index.document(i)\n",
    "        doc = [id2token[word_id] for word_id in doc if word_id > 0]\n",
    "        documents_list.append(doc)\n",
    "        \n",
    "    bow_corpus = [dictionary.doc2bow(text) for text in documents_list]\n",
    "    return bow_corpus, token2id, id2token\n",
    "\n",
    "corpus, token2id, id2token = document_bow()"
   ]
  },
  {
   "cell_type": "code",
   "execution_count": null,
   "metadata": {
    "collapsed": true
   },
   "outputs": [],
   "source": [
    "# Train LDA-model\n",
    "num_topics = 10\n",
    "lda = gensim.models.ldamodel.LdaModel(corpus=corpus, num_topics=num_topics, id2word = id2token, passes=15)\n",
    "lda.save('./LDA')"
   ]
  },
  {
   "cell_type": "code",
   "execution_count": 62,
   "metadata": {
    "collapsed": true
   },
   "outputs": [],
   "source": [
    "# Train LSI-model\n",
    "num_topics = 100\n",
    "lsi = gensim.models.lsimodel.LsiModel(corpus=corpus, id2word=id2token, num_topics=num_topics)\n",
    "lsi.save('./LSI')"
   ]
  },
  {
   "cell_type": "markdown",
   "metadata": {},
   "source": [
    "## PREPROCESSING"
   ]
  },
  {
   "cell_type": "code",
   "execution_count": 24,
   "metadata": {
    "collapsed": true
   },
   "outputs": [],
   "source": [
    "# A function that returns a document given an external doc_id\n",
    "# INPUT\n",
    "# - an internal doc_id, a string, for instance: APXXXXX-XX\n",
    "# RETURNS\n",
    "# - an list of strings representing a text, for instance ['joris','is','de','beste']\n",
    "def get_document(doc_id):\n",
    "    int_doc_id = ext2int_ids[doc_id]\n",
    "    _,text_ids = index.document(int_doc_id)\n",
    "    return [id2token[word_id] for word_id in text_ids if word_id > 0]       "
   ]
  },
  {
   "cell_type": "code",
   "execution_count": 25,
   "metadata": {
    "collapsed": true
   },
   "outputs": [],
   "source": [
    "# Function that takes returns a list of indices, converting a text into indices\n",
    "# INPUT\n",
    "# - a list of strings, for instance ['python','wizard']\n",
    "# RETURNS\n",
    "# - a list of IDS, for instance [1,2] where 'python' maps to 1, and 'wizard' maps to 2\n",
    "# according to the token2id dictionary\n",
    "def text_to_ind(text):\n",
    "    token_ids = [token2id[token] for token in text] \n",
    "    return token_ids"
   ]
  },
  {
   "cell_type": "code",
   "execution_count": 26,
   "metadata": {
    "collapsed": true
   },
   "outputs": [],
   "source": [
    "# A function that generates the topic vector from a text. This can be a document or a query\n",
    "# INPUT\n",
    "# - a text, a list of strings, for instance ['python','wizard']\n",
    "# - a model, either LSI or LDA model\n",
    "# RETURNS \n",
    "# - a topic scores vector, with scores\n",
    "def topic_vector_from_text(text,model):\n",
    "    random.shuffle(text) # randomly shuffle text, to really create a BOW\n",
    "    bow_ids = text_to_ind(text)\n",
    "    bow_ids_counter = collections.Counter(bow_ids)\n",
    "    bow_list = [[key,value] for key,value in bow_ids_counter.items()]\n",
    "    topics_scores = model[bow_list] # topics_scores is of type: [ (1,score1),(2,score2),etc,etc]\n",
    "    \n",
    "    topic_ids = [topic_id for topic_id,score in topics_scores]\n",
    "    topic_scores = [score for topic_id,score in topics_scores]\n",
    "    num_topics = model.num_topics\n",
    "    \n",
    "    scores = np.zeros(num_topics)\n",
    "    scores[topic_ids] = topic_scores\n",
    "    return scores"
   ]
  },
  {
   "cell_type": "code",
   "execution_count": 27,
   "metadata": {
    "collapsed": true
   },
   "outputs": [],
   "source": [
    "# Function that calculates the cosine similarity between two vectors\n",
    "# INPUT\n",
    "# - query_topic_vec, the query topic vector\n",
    "# - doc_topic_vec, the document topic vector\n",
    "# RETURNS\n",
    "# - the cosine similarity between query_vec and doc_vec, a float\n",
    "def check_similarity(query_topic_vec,doc_topic_vec):\n",
    "    return ssd.cosine(query_topic_vec,doc_topic_vec)    "
   ]
  },
  {
   "cell_type": "code",
   "execution_count": 28,
   "metadata": {
    "collapsed": true
   },
   "outputs": [],
   "source": [
    "# Function that scores a list of document-ids based on a LSI or LDA model\n",
    "# INPUT\n",
    "# - a model, this can be either a LSI or LDA model\n",
    "# - a query, this is a list of strings, in the form ['python','wizard']\n",
    "# - a list of doc_ids, of the form [APXXXXX-XX,APYYYYY-YY, etc, etc]. This list is probably of length 1000\n",
    "# RETURNS\n",
    "# - a list of the 1000 documents, a list of form [(APYYYYY-YY,scoreY),(APXXXXX-XX,scoreX),(etc,score_etc),...],\n",
    "# , where the first element of the list is the best query result, and the last element of the list is the worst \n",
    "def model_score(model,query,doc_ids):\n",
    "    query_topic_vec = topic_vector_from_text(query,model)    \n",
    "    score_list = []\n",
    "    doc_ID_list = []\n",
    "    \n",
    "    for ext_doc_ID in doc_ids:\n",
    "        doc = get_document(ext_doc_ID) # returns the document in text\n",
    "        doc_topic_vec = topic_vector_from_text(doc,model)\n",
    "        score = check_similarity(query_topic_vec,doc_topic_vec)\n",
    "        \n",
    "        # Ranking starts here. It loops through the score_list, inserting it in its correct position\n",
    "        # A small value for score means a big match!\n",
    "        if len(score_list) == 0: # first value is always the largest\n",
    "            score_list.append(score)\n",
    "            doc_ID_list.append(ext_doc_ID)\n",
    "        else:\n",
    "            for i in range(0,len(score_list)):\n",
    "                if score_list[i] > score:\n",
    "                    score_list.insert(i,score)\n",
    "                    doc_ID_list.insert(i,ext_doc_ID)\n",
    "                    break   \n",
    "            if ext_doc_ID not in doc_ID_list:\n",
    "                score_list.append(score)\n",
    "                doc_ID_list.append(ext_doc_ID)\n",
    "                                    \n",
    "    assert len(score_list) == len(doc_ID_list) # test is everything went well\n",
    "    ranking = []\n",
    "    \n",
    "    for i in range(0,len(score_list)):\n",
    "        ranking.append((doc_ID_list[i],score_list[i]))\n",
    "                    \n",
    "    return ranking"
   ]
  },
  {
   "cell_type": "code",
   "execution_count": 29,
   "metadata": {
    "collapsed": true
   },
   "outputs": [],
   "source": [
    "# a function that reads the tfidf.run file\n",
    "# INPUT\n",
    "# - filename, a string\n",
    "# RETURNS\n",
    "# - a dictionary with takes a query_id (51,200) as value, and returns a list of a 1000 documents [APXXXX-XX,etc,...]\n",
    "def read_tfidf_file(filename):\n",
    "    \n",
    "    return_dict = {}\n",
    "    \n",
    "    # Fill the dictionary with empty lists:\n",
    "    # Queries go from 51 to 200\n",
    "    for i, qid in enumerate(queries):\n",
    "        return_dict[int(qid)] = []\n",
    "    \n",
    "    with open(filename,'r') as fn:\n",
    "        for line in fn:\n",
    "            query_id = int(line.split()[0])\n",
    "            ext_doc_ID = line.split()[2]\n",
    "            \n",
    "            temp_list = return_dict[query_id] # ugly solution this, but if its stupid but it works,\n",
    "            temp_list.append(ext_doc_ID) # it aint stupid\n",
    "            \n",
    "            return_dict[query_id] = temp_list   \n",
    "    return return_dict   "
   ]
  },
  {
   "cell_type": "code",
   "execution_count": 35,
   "metadata": {
    "collapsed": true
   },
   "outputs": [],
   "source": [
    "# A functions that appends data to a big data list\n",
    "# INPUT\n",
    "# - a list to_be_added, of the form [(APYYYYY-YY,scoreY),(APXXXXX-XX,scoreX),(etc,score_etc),...]\n",
    "# - queryID, an integer\n",
    "# - model_name a str with the model name\n",
    "# - a data list of lists within a list, in which to add to_be_added\n",
    "# - the lists within the list are of the form [queryID,'Q0',exc_doc_ID,rank,score,'modelname']\n",
    "# RETURNS\n",
    "# - data_list a list of list. Each list in the list is of the form [queryID,'Q0',ext_doc_ID,rank,score,model_name] \n",
    "def append_data(to_be_added,query_id,model_name,data_list):\n",
    "    for i in range(0,len(to_be_added)):\n",
    "        temp_list = []\n",
    "        temp_list.append(query_id)\n",
    "        temp_list.append('Q0')\n",
    "        temp_list.append(to_be_added[i][0])\n",
    "        temp_list.append(i+1) # rank\n",
    "        temp_list.append(to_be_added[i][1])\n",
    "        temp_list.append(model_name)\n",
    "        data_list.append(temp_list)\n",
    "    return data_list         "
   ]
  },
  {
   "cell_type": "code",
   "execution_count": 34,
   "metadata": {
    "collapsed": true
   },
   "outputs": [],
   "source": [
    "# Function that writes the data to a file\n",
    "# INPUT\n",
    "# - model_name, a string of the desired name of the output file\n",
    "# - data, a list of list. Each list in the list is of the form [queryID,'Q0',ext_doc_ID,rank,score,model_name]\n",
    "# RETURNS\n",
    "# - writes data to a file, returns a file in the same folder as the .ipynb notebook\n",
    "def write_model(model_name,data):\n",
    "    with open(model_name,'w') as mn:\n",
    "        for row in data:\n",
    "            for term in row:\n",
    "                mn.write(str(term) + ' ')\n",
    "            mn.write('\\n')\n",
    "    mn.close()\n",
    "    return"
   ]
  },
  {
   "cell_type": "code",
   "execution_count": 33,
   "metadata": {},
   "outputs": [
    {
     "name": "stdout",
     "output_type": "stream",
     "text": [
      "done\n"
     ]
    }
   ],
   "source": [
    "query_return_dict = read_tfidf_file('TFIDF-joris.run')\n",
    "lsi_model = gensim.models.lsimodel.LsiModel.load('./LSI') \n",
    "model_name = 'LSI-joris'\n",
    "data = []\n",
    "\n",
    "for query,values in query_return_dict.items():\n",
    "    query_in_text = queries[str(query)].lower().split()\n",
    "\n",
    "    new_ranking = model_score(lsi_model,query_in_text,query_return_dict[query])\n",
    "    data = append_data(new_ranking,int(query),model_name,data)\n",
    "    \n",
    "write_model(model_name,data)\n",
    "print ('done')"
   ]
  },
  {
   "cell_type": "code",
   "execution_count": 205,
   "metadata": {},
   "outputs": [
    {
     "data": {
      "text/plain": [
       "\"\\ndoc_list = ['AP890425-0001','AP890329-0221','AP880627-0093','AP880412-0268','AP880628-0170','AP890914-0250']\\nprint (doc_list)\\nrandom.shuffle(doc_list)\\nprint (doc_list)\\nmodel_score(lsi_model,['52','students'],doc_list)\\n\""
      ]
     },
     "execution_count": 205,
     "metadata": {},
     "output_type": "execute_result"
    }
   ],
   "source": [
    "'''\n",
    "doc_list = ['AP890425-0001','AP890329-0221','AP880627-0093','AP880412-0268','AP880628-0170','AP890914-0250']\n",
    "print (doc_list)\n",
    "random.shuffle(doc_list)\n",
    "print (doc_list)\n",
    "model_score(lsi_model,['52','students'],doc_list)\n",
    "'''       "
   ]
  },
  {
   "cell_type": "markdown",
   "metadata": {},
   "source": [
    "### Task 3:  Word embeddings for ranking [20 points] (open-ended) ###\n",
    "\n",
    "First create word embeddings on the corpus we provided using [word2vec](http://arxiv.org/abs/1411.2738) -- [gensim implementation](https://radimrehurek.com/gensim/models/word2vec.html). You should extract the indexed documents using pyndri and provide them to gensim for training a model (see example [here](https://github.com/nickvosk/pyndri/blob/master/examples/word2vec.py)).\n",
    "   \n",
    "This is an open-ended task. It is left up you to decide how you will combine word embeddings to derive query and document representations. Note that since we provide the implementation for training word2vec, you will be graded based on your creativity on combining word embeddings for building query and document representations.\n",
    "\n",
    "Note: If you want to experiment with pre-trained word embeddings on a different corpus, you can use the word embeddings we provide alongside the assignment (./data/reduced_vectors_google.txt.tar.gz). These are the [google word2vec word embeddings](https://code.google.com/archive/p/word2vec/), reduced to only the words that appear in the document collection we use in this assignment."
   ]
  },
  {
   "cell_type": "code",
   "execution_count": null,
   "metadata": {
    "collapsed": true
   },
   "outputs": [],
   "source": [
    "def load_word2vec():\n",
    "    word_vectors = KeyedVectors.load_word2vec_format('reduced_vectors_google.txt', binary=False)\n",
    "    \n",
    "    return word_vectors\n",
    "\n",
    "word_vectors = load_word2vec()"
   ]
  },
  {
   "cell_type": "markdown",
   "metadata": {},
   "source": [
    "### Task 4: Learning to rank (LTR) [15 points] (open-ended) ###\n",
    "\n",
    "In this task you will get an introduction into learning to rank for information retrieval.\n",
    "\n",
    "You can explore different ways for devising features for the model. Obviously, you can use the retrieval methods you implemented in Task 1, Task 2 and Task 3 as features. Think about other features you can use (e.g. query/document length). Creativity on devising new features and providing motivation for them will be taken into account when grading.\n",
    "\n",
    "For every query, first create a document candidate set using the top-1000 documents using TF-IDF, and subsequently compute features given a query and a document. Note that the feature values of different retrieval methods are likely to be distributed differently.\n",
    "\n",
    "You are adviced to start some pointwise learning to rank algorithm e.g. logistic regression, implemented in [scikit-learn](http://scikit-learn.org/stable/modules/generated/sklearn.linear_model.LogisticRegression.html).\n",
    "Train your LTR model using 10-fold cross validation on the test set. More advanced learning to rank algorithms will be appreciated when grading."
   ]
  },
  {
   "cell_type": "code",
   "execution_count": null,
   "metadata": {
    "collapsed": true
   },
   "outputs": [],
   "source": []
  },
  {
   "cell_type": "markdown",
   "metadata": {
    "collapsed": true
   },
   "source": [
    "### Task 4: Write a report [15 points; instant FAIL if not provided] ###\n",
    "\n",
    "The report should be a PDF file created using the [sigconf ACM template](https://www.acm.org/publications/proceedings-template) and will determine a significant part of your grade.\n",
    "\n",
    "   * It should explain what you have implemented, motivate your experiments and detail what you expect to learn from them. **[10 points]**\n",
    "   * Lastly, provide a convincing analysis of your results and conclude the report accordingly. **[10 points]**\n",
    "      * Do all methods perform similarly on all queries? Why?\n",
    "      * Is there a single retrieval model that outperforms all other retrieval models (i.e., silver bullet)?\n",
    "      * ...\n",
    "\n",
    "**Hand in the report and your self-contained implementation source files.** Only send us the files that matter, organized in a well-documented zip/tgz file with clear instructions on how to reproduce your results. That is, we want to be able to regenerate all your results with minimal effort. You can assume that the index and ground-truth information is present in the same file structure as the one we have provided.\n"
   ]
  },
  {
   "cell_type": "code",
   "execution_count": null,
   "metadata": {
    "collapsed": true
   },
   "outputs": [],
   "source": []
  }
 ],
 "metadata": {
  "anaconda-cloud": {},
  "kernelspec": {
   "display_name": "Python 3",
   "language": "python",
   "name": "python3"
  },
  "language_info": {
   "codemirror_mode": {
    "name": "ipython",
    "version": 3
   },
   "file_extension": ".py",
   "mimetype": "text/x-python",
   "name": "python",
   "nbconvert_exporter": "python",
   "pygments_lexer": "ipython3",
   "version": "3.6.3"
  }
 },
 "nbformat": 4,
 "nbformat_minor": 1
}
